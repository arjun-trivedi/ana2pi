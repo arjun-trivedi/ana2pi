{
 "metadata": {
  "name": ""
 },
 "nbformat": 3,
 "nbformat_minor": 0,
 "worksheets": [
  {
   "cells": [
    {
     "cell_type": "markdown",
     "metadata": {},
     "source": [
      "# Definition of $A_{{LT}^{'}}$ (Beam Asymmetry Observable) for \"my reaction\""
     ]
    },
    {
     "cell_type": "markdown",
     "metadata": {},
     "source": [
      "[Source: Kijun's thesis (2006), page 164](file/KJPark_thesis.pdf)"
     ]
    },
    {
     "cell_type": "markdown",
     "metadata": {},
     "source": [
      "## Reaction\n",
      "* $\\gamma^{*} p \\rightarrow p \\pi^{+} \\pi^{-}$\n",
      "    * $\\gamma^{*} = e - e^{'}$ \n",
      "    * Polarization of $e$ is known \n",
      "\n",
      "## Degrees of freedom\n",
      "* 5 $(M_{1},M_{2},\\theta,\\phi,\\alpha)$\n",
      "* For example: $ M_{p\\pi^{+}}, M_{\\pi^{+}\\pi^{-}}, \\theta_{\\pi^{-}}, \\phi_{\\pi^{-}}, \\alpha_{[p^{'}\\pi^{+}][p\\pi^{-}]}$\n",
      "\n",
      "## At a particular photon virtuality i.e. particular $W,Q^{2}$ (in CMS, unless noted otherwise)\n",
      "* $\\Large \\frac{d\\sigma}{ {d\\Omega} }^{h}_{\\pi^{-}} = \n",
      "\\frac{p_{\\pi^{-}}}{k_{\\gamma^{*}}}\n",
      "( \\sigma_{unpol} + hP\\sqrt{ 2\\epsilon_{L}(1-\\epsilon) }R_{{LT}^{'}}\\sin\\theta_{\\pi^{-}}\\sin\\phi_{\\pi^{-}} )$\n",
      "    * h = helicity\n",
      "    * P = \"degree\" of Polarization\n",
      "    * $p_{\\pi^{-}} = f(Q^{2},W,\\theta_{\\pi^{-}})$\n",
      "    * $\\sigma_{unpol} = f(Q^{2},W,\\theta_{\\pi^{-}},\\phi_{\\pi^{-}})$\n",
      "    * $k_{\\gamma^{*}},\\epsilon,\\epsilon_{L} = f(Q^{2},W)$\n",
      "    * $R_{{LT}^{'}} = f(Q^{2},W,\\theta)$\n",
      "    \n",
      "    \n",
      "* $\\Large \\int{ \\frac{d\\sigma}{ {d\\Omega} }^{h}_{\\pi^{-}} d\\theta_{\\pi^{-}}} = \\frac{d\\sigma}{ {d\\phi} }^{h}_{\\pi^{-}}$\n",
      "    * $p_{\\pi^{-}} \\rightarrow \\int{p_{\\pi^{-}} d\\theta_{\\pi^{-}}} = f(Q^{2},W)$\n",
      "    * $\\sigma_{unpol} \\rightarrow \\int{\\sigma_{unpol} d\\theta_{\\pi^{-}}} = f(Q^{2},W,\\phi_{\\pi^{-}})$\n",
      "    * $R_{{LT}^{'}} \\rightarrow \\int{R_{{LT}^{'}} d\\theta_{\\pi^{-}}} = f(Q^{2},W)$\n",
      "    \n",
      "    \n",
      "* $\\text{Assuming } P^{+} = P^{-}$\n",
      "    * $\\frac{d\\sigma}{ {d\\phi} }^{+}_{\\pi^{-}} - \\frac{d\\sigma}{ {d\\phi} }^{-}_{\\pi^{-}} = 2P\\sqrt{ 2\\epsilon_{L}(1-\\epsilon) }R_{{LT}^{'}}\\sin\\phi_{\\pi^{-}}$\n",
      "        \n",
      "\n",
      "## $\\therefore d\\sigma^{+} - d\\sigma^{-} (\\phi_{\\pi^{-}} + d\\phi_{\\pi^{-}}) = \\frac{p_{\\pi^{-}}}{k_{\\gamma^{*}}}P\\int{(2\\sqrt{ 2\\epsilon_{L}(1-\\epsilon) }R_{{LT}^{'}}\\sin\\phi_{\\pi^{-}}) {d\\phi_{\\pi^{-}}}}$\n",
      "\n",
      "## $\\text{Define }A_{{LT}^{'}}  = \\frac{d\\sigma^{+}-d\\sigma^{-}}{P}$\n",
      "* $\\text{Using } {d\\sigma^{\\pm}} = \\frac{N^{\\pm}}{L^{\\pm}}$\n",
      "* $\\text{Assuming } L^{+} = L^{-}$\n",
      "\n",
      "## $\\therefore A_{{LT}^{'}} (\\phi_{\\pi^{-}} + d\\phi_{\\pi^{-}}) = \\frac{N^{+}(\\phi_{\\pi^{-}} + d\\phi_{\\pi^{-}}) - N^{-}(\\phi_{\\pi^{-}} + d\\phi_{\\pi^{-}})}{P}$\n",
      "* Using this definition, we can extract $R_{{LT}^{'}} = f(Q^{2},W)$\n",
      "\n",
      "* * *\n",
      "\n",
      "## Other definitions I have seen used, for example, by Kijun $(A_{{LT}^{'}} = \\frac{(N^{+} - N^{-})}{P(N^{+} + N^{-})})$ and why it will not work for me:\n",
      "#1 \n",
      ">The above definition is useful when $A_{{LT}^{'}}$ is __directly__ calculated in the bin of interest $(\\phi \\text{ or }\\Omega\\text{ bin})$. In that case, the Acceptances do not need to be calculated, since they cancel out. In my case $N^{\\pm}(\\phi)$ is obtained by summing over bins in the remaining 4 d.o.f. In this case normalizing by $(N^{+} + N^{-})$ does not cancel Acceptances. \n",
      "\n",
      "* (__I have to carry out my analysis in each of the 5 d.o.f. bins to obtain Model independent results__ $\\rightarrow$ verify my understanding of why 5D analysis in nb-proposal)\n",
      "* __Is my analysis the first attempt to extract $A_{{LT}^{'}}$ from double charged pion channel?__. If so, then these __new definitions__ may be important to note\n",
      "\n",
      "> Therefore, in my case, acceptances have to be calculated in each bin, before $(N^{+} \\pm N^{-})$ can be obtained\n",
      "\n",
      "#2 \n",
      "> Even though after 1. I can use the noramlized definition of $A_{{LT}^{'}}$, the result will be Model dependent in that while the Holes drop out when calculating $(N^{+} - N^{-})$, they remain when calculating $(N^{+} + N^{-})$\n",
      "\n",
      "### To DO\n",
      "* Obtain P and verify $P^{+} = P^{-}$\n",
      "* BCA (= Charge Normalization ?)\n",
      "* RC\n",
      "* BCC\n",
      "\n",
      "\n",
      "   "
     ]
    },
    {
     "cell_type": "markdown",
     "metadata": {},
     "source": [
      "\n",
      "* $\\Large k_{\\gamma^{*}} = f(W;m_{p})$\n",
      "* $\\Large \\sigma_{unpol} = R_{T} + \\epsilon_{L}R_{L} + \\epsilon R_{TT} \\sin^{2}\\theta\\cos2\\phi + \\sqrt{ 2\\epsilon_{L}(1-\\epsilon) }R_{LT}\\cos\\phi$ \n",
      "* $\\Large \\epsilon = f(Q^{2},W)$\n",
      "* $\\Large\\epsilon_{L} = f(\\epsilon, Q^2, W)$"
     ]
    },
    {
     "cell_type": "markdown",
     "metadata": {},
     "source": [
      "from IPython.display import display, Math, Latex\n",
      "display(Math(r'F(k) = \\int_{-\\infty}^{\\infty} f(x) e^{2\\pi i k} dx'))"
     ]
    },
    {
     "cell_type": "code",
     "collapsed": false,
     "input": [
      "from IPython.display import display, Math, Latex \n",
      "display(Math(r'F(k) = \\int_{-\\infty}^{\\infty} f(x) e^{2\\pi i k} dx'))\n",
      "#display(\\color{red}\\text{test})\n",
      "display(Math(r'\\text{\\color{red}test}'))\n"
     ],
     "language": "python",
     "metadata": {},
     "outputs": [
      {
       "latex": [
        "$$F(k) = \\int_{-\\infty}^{\\infty} f(x) e^{2\\pi i k} dx$$"
       ],
       "metadata": {},
       "output_type": "display_data",
       "text": [
        "<IPython.core.display.Math at 0x293ef90>"
       ]
      },
      {
       "latex": [
        "$$\\text{\\color{red}test}$$"
       ],
       "metadata": {},
       "output_type": "display_data",
       "text": [
        "<IPython.core.display.Math at 0x2951090>"
       ]
      }
     ],
     "prompt_number": 9
    },
    {
     "cell_type": "code",
     "collapsed": false,
     "input": [],
     "language": "python",
     "metadata": {},
     "outputs": []
    }
   ],
   "metadata": {}
  }
 ]
}