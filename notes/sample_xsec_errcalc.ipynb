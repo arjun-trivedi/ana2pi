{
 "metadata": {
  "name": ""
 },
 "nbformat": 3,
 "nbformat_minor": 0,
 "worksheets": [
  {
   "cells": [
    {
     "cell_type": "code",
     "collapsed": false,
     "input": [
      "from __future__ import division\n",
      "MP=0.93827203\n",
      "E1F_E0=5.497\n",
      "FSC=0.00729735253\n",
      "A=FSC\n",
      "LUM=20#in fb^-1\n",
      "FACTOR=1000000000#to obtain final xsec in nb\n",
      "\n",
      "def nu(w,q2):\n",
      "    return (w*w-MP*MP+q2)/(2*MP);\n",
      "\n",
      "def epsilon(w,q2):\n",
      "    n = nu(w,q2);\n",
      "    e0 = E1F_E0;\n",
      "    e1 = e0-n;\n",
      "    epsInv = 1+2*(q2+n*n)/(4*e0*e1-q2);\n",
      "    return 1.0/epsInv;\n",
      "\n",
      "def getvgflux(w,q2,e0 = E1F_E0):\n",
      "    eps = epsilon(w,q2);\n",
      "    return A*w*(w*w-MP*MP)/(4*pi*e0*e0*MP*MP*q2*(1-eps));\n",
      "\n",
      "def get_dsigma_dwdq2(w,q2,dw,dq2,n,dn_sys):\n",
      "    norm=LUM*getvgflux(w,q2)*dq2*dw*FACTOR\n",
      "    xsec=n/norm\n",
      "    stt_abs_err = sqrt(n)/norm\n",
      "    stt_rel_err=stt_abs_err/xsec*100\n",
      "    sys_abs_err=((dn_sys/100)*n)/norm\n",
      "    sys_rel_err=sys_abs_err/xsec*100\n",
      "    res=[xsec,stt_abs_err,stt_rel_err,sys_abs_err,sys_rel_err]\n",
      "    return res\n"
     ],
     "language": "python",
     "metadata": {},
     "outputs": [],
     "prompt_number": 32
    },
    {
     "cell_type": "code",
     "collapsed": false,
     "input": [
      "res = get_dsigma_dwdq2(1.625,2.0,0.025,0.4,201000,2)\n",
      "print \"dsigma_dwdq2=%5.3f(+/-%5.3f)(+/-%5.3f)\"%(res[0],res[1],res[3])\n",
      "print \"Stat-Err(abs)=%5.3f\"%res[1]\n",
      "print \"Stat-Err(rel)=%5.3f%%\"%res[2]\n",
      "print \"Syst-Err(abs)=%5.3f\"%res[3]\n",
      "print \"Syst-Err(rel)=%5.3f%%\"%res[4]"
     ],
     "language": "python",
     "metadata": {},
     "outputs": [
      {
       "output_type": "stream",
       "stream": "stdout",
       "text": [
        "dsigma_dwdq2=4.460(+/-0.010)(+/-0.089)\n",
        "Stat-Err(abs)=0.010\n",
        "Stat-Err(rel)=0.223%\n",
        "Syst-Err(abs)=0.089\n",
        "Syst-Err(rel)=2.000%\n"
       ]
      }
     ],
     "prompt_number": 40
    },
    {
     "cell_type": "code",
     "collapsed": false,
     "input": [],
     "language": "python",
     "metadata": {},
     "outputs": []
    }
   ],
   "metadata": {}
  }
 ]
}