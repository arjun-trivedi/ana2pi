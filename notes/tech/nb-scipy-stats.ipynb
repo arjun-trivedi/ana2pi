{
 "metadata": {
  "name": ""
 },
 "nbformat": 3,
 "nbformat_minor": 0,
 "worksheets": [
  {
   "cells": [
    {
     "cell_type": "code",
     "collapsed": false,
     "input": [
      "import scipy.stats as stts\n",
      "from scipy.integrate import quad\n",
      "f=stts.norm(0.149,0.030)\n",
      "print f.pdf\n",
      "quad(f.pdf,.149-1*0.030,.149+1*0.030)"
     ],
     "language": "python",
     "metadata": {},
     "outputs": [
      {
       "output_type": "stream",
       "stream": "stdout",
       "text": [
        "<bound method rv_frozen.pdf of <scipy.stats.distributions.rv_frozen object at 0x62e1950>>\n"
       ]
      },
      {
       "metadata": {},
       "output_type": "pyout",
       "prompt_number": 2,
       "text": [
        "(0.682689492137086, 7.579375928402476e-15)"
       ]
      }
     ],
     "prompt_number": 2
    },
    {
     "cell_type": "code",
     "collapsed": false,
     "input": [],
     "language": "python",
     "metadata": {},
     "outputs": []
    }
   ],
   "metadata": {}
  }
 ]
}