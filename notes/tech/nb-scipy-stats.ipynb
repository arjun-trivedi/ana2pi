{
 "metadata": {
  "name": ""
 },
 "nbformat": 3,
 "nbformat_minor": 0,
 "worksheets": [
  {
   "cells": [
    {
     "cell_type": "raw",
     "metadata": {},
     "source": [
      "Example on how to obtain the probability for a random variable(RV) to lie within a given range"
     ]
    },
    {
     "cell_type": "code",
     "collapsed": false,
     "input": [
      "import scipy.stats as stats\n",
      "from scipy.integrate import quad\n",
      "#-- Generate Normal RV with mu=100,sgma=10\n",
      "rv=stats.norm(100,10)\n",
      "#-- Integrate Normal RV within +/- 1*sgma\n",
      "(prob,err) = quad(rv.pdf,100-1*10,100+1*10)\n",
      "print \"probability=\",prob"
     ],
     "language": "python",
     "metadata": {},
     "outputs": [
      {
       "output_type": "stream",
       "stream": "stdout",
       "text": [
        "probability= 0.682689492137\n"
       ]
      }
     ],
     "prompt_number": 10
    },
    {
     "cell_type": "code",
     "collapsed": false,
     "input": [],
     "language": "python",
     "metadata": {},
     "outputs": []
    }
   ],
   "metadata": {}
  }
 ]
}