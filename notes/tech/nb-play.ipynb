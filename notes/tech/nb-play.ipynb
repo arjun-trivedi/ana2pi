{
 "metadata": {
  "name": ""
 },
 "nbformat": 3,
 "nbformat_minor": 0,
 "worksheets": [
  {
   "cells": [
    {
     "cell_type": "code",
     "collapsed": false,
     "input": [
      "hmm={}\n",
      "for idtyp,dtyp in enumerate(['exp','sim1','sim3']):\n",
      "    for imcor,mcor in enumerate(['True','False']):\n",
      "        #print dtyp,mcor\n",
      "        #hmm[idtyp][imcor]=Hist(10,0,10,name='%s_%s'%(dtyp,mcor))\n",
      "        hmm[(dtyp,mcor)]=Hist(10,0,10,name='%s_%s'%(dtyp,mcor))\n",
      "        \n",
      "# for idtyp,dtyp in enumerate(['exp','sim1','sim3']):\n",
      "#     for imcor,mcor in enumerate(['True','False']):\n",
      "#         print hmm[(dtyp,mcor)].GetName()\n",
      "print hmm[('exp','True')].GetName()\n",
      "hmm[('exp','True')].fill(9)\n",
      "hmm[('exp','True')].SetLineColor(2)\n",
      "hmm[('exp','False')].fill(2)\n",
      "h=hmm[('exp','True')]-hmm[('exp','False')]\n",
      "rplt.bar(hmm[('exp','True')])\n",
      "rplt.bar(hmm[('exp','False')])\n",
      "rplt.bar(h)"
     ],
     "language": "python",
     "metadata": {},
     "outputs": [
      {
       "output_type": "stream",
       "stream": "stderr",
       "text": [
        "INFO:rootpy.logger] | No default log handler configured. See `logging` module |\n"
       ]
      },
      {
       "output_type": "stream",
       "stream": "stderr",
       "text": [
        "INFO:rootpy.logger] \\    To suppress: 'rootpy.log.basic_config_colorized()'   /\n"
       ]
      },
      {
       "output_type": "stream",
       "stream": "stderr",
       "text": [
        "WARNING:ROOT.TROOT.Append] Replacing existing TH1: exp_True (Potential memory leak).\n"
       ]
      },
      {
       "output_type": "stream",
       "stream": "stderr",
       "text": [
        "WARNING:ROOT.TROOT.Append] Replacing existing TH1: exp_False (Potential memory leak).\n"
       ]
      },
      {
       "output_type": "stream",
       "stream": "stderr",
       "text": [
        "WARNING:ROOT.TROOT.Append] Replacing existing TH1: sim1_True (Potential memory leak).\n"
       ]
      },
      {
       "output_type": "stream",
       "stream": "stderr",
       "text": [
        "WARNING:ROOT.TROOT.Append] Replacing existing TH1: sim1_False (Potential memory leak).\n"
       ]
      },
      {
       "output_type": "stream",
       "stream": "stderr",
       "text": [
        "WARNING:ROOT.TROOT.Append] Replacing existing TH1: sim3_True (Potential memory leak).\n"
       ]
      },
      {
       "output_type": "stream",
       "stream": "stderr",
       "text": [
        "WARNING:ROOT.TROOT.Append] Replacing existing TH1: sim3_False (Potential memory leak).\n"
       ]
      },
      {
       "output_type": "stream",
       "stream": "stdout",
       "text": [
        "exp_True\n"
       ]
      },
      {
       "metadata": {},
       "output_type": "pyout",
       "prompt_number": 2,
       "text": [
        "<Container object of 10 artists>"
       ]
      },
      {
       "metadata": {},
       "output_type": "display_data",
       "png": "[encoded data removed]",
       "text": [
        "<matplotlib.figure.Figure at 0x4cedd50>"
       ]
      }
     ],
     "prompt_number": 2
    },
    {
     "cell_type": "code",
     "collapsed": false,
     "input": [
      "for idtyp,dtyp in enumerate(['exp','sim3']):\n",
      "    for imcor,mcor in enumerate(['True','False']):\n",
      "        #print dtyp,mcor\n",
      "        #hmm[idtyp][imcor]=Hist(10,0,10,name='%s_%s'%(dtyp,mcor))\n",
      "        print hmm[(dtyp,mcor)].GetName()"
     ],
     "language": "python",
     "metadata": {},
     "outputs": [
      {
       "output_type": "stream",
       "stream": "stdout",
       "text": [
        "exp_True\n",
        "exp_False\n",
        "sim3_True\n",
        "sim3_False\n"
       ]
      }
     ],
     "prompt_number": 3
    },
    {
     "cell_type": "code",
     "collapsed": false,
     "input": [],
     "language": "python",
     "metadata": {},
     "outputs": []
    }
   ],
   "metadata": {}
  }
 ]
}