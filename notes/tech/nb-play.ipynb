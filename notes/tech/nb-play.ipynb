{
 "metadata": {
  "name": ""
 },
 "nbformat": 3,
 "nbformat_minor": 0,
 "worksheets": [
  {
   "cells": [
    {
     "cell_type": "code",
     "collapsed": false,
     "input": [
      "hmm={}\n",
      "for idtyp,dtyp in enumerate(['exp','sim1','sim3']):\n",
      "    for imcor,mcor in enumerate(['True','False']):\n",
      "        #print dtyp,mcor\n",
      "        #hmm[idtyp][imcor]=Hist(10,0,10,name='%s_%s'%(dtyp,mcor))\n",
      "        hmm[(dtyp,mcor)]=Hist(10,0,10,name='%s_%s'%(dtyp,mcor))\n",
      "        \n",
      "# for idtyp,dtyp in enumerate(['exp','sim1','sim3']):\n",
      "#     for imcor,mcor in enumerate(['True','False']):\n",
      "#         print hmm[(dtyp,mcor)].GetName()\n",
      "print hmm[('exp','True')].GetName()\n",
      "hmm[('exp','True')].fill(9)\n",
      "hmm[('exp','False')].fill(2)\n",
      "h=hmm[('exp','True')]-hmm[('exp','False')]\n",
      "rplt.bar(hmm[('exp','True')])\n",
      "rplt.bar(hmm[('exp','False')])\n",
      "rplt.bar(h)"
     ],
     "language": "python",
     "metadata": {},
     "outputs": [
      {
       "output_type": "stream",
       "stream": "stdout",
       "text": [
        "exp_True\n"
       ]
      },
      {
       "metadata": {},
       "output_type": "pyout",
       "prompt_number": 1,
       "text": [
        "<Container object of 10 artists>"
       ]
      },
      {
       "metadata": {},
       "output_type": "display_data",
       "png": "[encoded data removed]",
       "text": [
        "<matplotlib.figure.Figure at 0x4cea290>"
       ]
      }
     ],
     "prompt_number": 1
    },
    {
     "cell_type": "code",
     "collapsed": false,
     "input": [],
     "language": "python",
     "metadata": {},
     "outputs": []
    }
   ],
   "metadata": {}
  }
 ]
}