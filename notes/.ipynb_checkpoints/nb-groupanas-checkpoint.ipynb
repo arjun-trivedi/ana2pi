{
 "metadata": {
  "name": ""
 },
 "nbformat": 3,
 "nbformat_minor": 0,
 "worksheets": [
  {
   "cells": [
    {
     "cell_type": "markdown",
     "metadata": {},
     "source": [
      "### Omega Electroproduction (Evan)\n",
      "$\\gamma^{*} + p \\rightarrow \\omega + p \\rightarrow \\pi^{+} + \\pi^{-} + p$\n",
      "\n",
      "### Single Charged Pion Electroproduction of Neutron\n",
      "Ye: $\\gamma^{*} + n + (p) \\rightarrow \\pi^{-}  + p + (p)$\n",
      "\n",
      "### Double Charged Pion Electroproduction off Proton & Neutron, Iulia and Gary respectively\n",
      "$\\gamma^{*} + p + (n) \\rightarrow \\pi^{+} + \\pi^{-} + p^{'} + (n)$\n",
      "\n",
      "$\\gamma^{*} + n + (p) \\rightarrow \\pi^{+} + \\pi^{-} + n^{'} + (p)$"
     ]
    },
    {
     "cell_type": "code",
     "collapsed": false,
     "input": [],
     "language": "python",
     "metadata": {},
     "outputs": []
    }
   ],
   "metadata": {}
  }
 ]
}