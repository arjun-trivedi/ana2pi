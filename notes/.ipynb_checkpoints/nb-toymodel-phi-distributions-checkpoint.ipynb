{
 "metadata": {
  "name": ""
 },
 "nbformat": 3,
 "nbformat_minor": 0,
 "worksheets": [
  {
   "cells": [
    {
     "cell_type": "markdown",
     "metadata": {},
     "source": [
      "## Toy Model of $\\phi$ distributions and extraction of parameters\n",
      "\n",
      "Assume following form of $\\phi$ distribution (see nb-beamasym-obs-mtg-091013)\n",
      "\n",
      "$$ \\left(\\frac{d^2\\sigma_{v}}{ {dX^{ij}d\\phi^{j}} }\\right)^{h}  = A^{ij} + B^{ij}\\cos\\phi^{j} + C^{ij}\\cos2\\phi^{j} + D^{ij}\\sin\\phi^{j} $$\n",
      "\n",
      ">  where\n",
      "\n",
      "* $A,B,C,\\mathcal{R}^{ij}_{k} = f(Q^{2},W,X^{ij}_{k})$"
     ]
    },
    {
     "cell_type": "markdown",
     "metadata": {},
     "source": [
      "* Assume a form for fphi = 1 + 10*cos(x) + 20*cos(2*x) + 100*sin(x)\n",
      "* Given binning resolution in x, see how well fphi can be \"reconstructed\" (r_fphi)"
     ]
    },
    {
     "cell_type": "code",
     "collapsed": false,
     "input": [
      "from scipy import integrate\n",
      "import math\n",
      "\n",
      "#Ideal phi distribution(fphi)\n",
      "N = 10\n",
      "xmax=360\n",
      "xmin=0\n",
      "dx=(xmax-xmin)/N\n",
      "x=arange(xmin,xmax,dx)\n",
      "print 'x =',x\n",
      "print 'dx =',dx\n",
      "#dx = 2*math.pi/N\n",
      "#x  = arange(0,2*math.pi,dx)\n",
      "A=15#16\n",
      "B=2.3#3.1\n",
      "C=2.7#3.6\n",
      "D=0.0026#-0.021\n",
      "f = A + B*cos(radians(x)) + C*cos(radians(2*x)) + D*sin(radians(x))\n",
      "fsinphi = sin(radians(x))\n",
      "fig = plt.figure(figsize=(3,3))\n",
      "ax = fig.add_subplot(111, title=('fphi%d'%N))\n",
      "#plt.scatter(x,fsinphi,marker='o', color='r',s=50,label='fsinphi')\n",
      "plt.scatter(x,f,marker='^', color='g',s=50,label='fphi')\n",
      "\n",
      "#Reconstructed phi distribution(r_fphi)\n",
      "fphi  = lambda t: A + B*cos(radians(t)) + C*cos(radians(2*t)) + D*sin(radians(t))\n",
      "def int_fphi(x,dx):\n",
      "    return integrate.quad(fphi,x,x+dx)[0]\n",
      "\n",
      "r_fphidx=[]\n",
      "r_fphi=[]\n",
      "for i in range(0,N):\n",
      "    #add a statistical modelled error to integral!\n",
      "    integral = int_fphi(x[i],dx)\n",
      "    r_fphidx.append(integral)\n",
      "    r_fphi.append(divide(integral,dx))\n",
      "\n",
      "#ax.scatter(x,r_fphidx,marker='v',color='r',s=50, label='r_fphidx')\n",
      "ax.scatter(x,r_fphi,marker='<',color='b',s=50,label='r_fphi')\n",
      "#plt.legend()\n",
      "\n",
      "integral=0\n",
      "for i in range(0,N):\n",
      "    integral+=r_fphidx[i]*sin(radians(x[i]))\n",
      "    #integral+=r_fphi[i]*sin(x[i])*dx\n",
      "#print integral\n",
      "print 'coefficient, D =', integral/math.pi\n"
     ],
     "language": "python",
     "metadata": {},
     "outputs": [
      {
       "output_type": "stream",
       "stream": "stdout",
       "text": [
        "x = [  0  36  72 108 144 180 216 252 288 324]\n",
        "dx = 36\n",
        "coefficient, D ="
       ]
      },
      {
       "output_type": "stream",
       "stream": "stdout",
       "text": [
        " -39.9164331359\n"
       ]
      },
      {
       "metadata": {},
       "output_type": "display_data",
       "png": "[encoded data removed]",
       "text": [
        "<matplotlib.figure.Figure at 0x2eb2690>"
       ]
      }
     ],
     "prompt_number": 30
    },
    {
     "cell_type": "code",
     "collapsed": false,
     "input": [
      "#Ideal phi distribution(fphi)\n",
      "N = 3\n",
      "dx = 2*math.pi/N\n",
      "x  = arange(0,2*math.pi,dx)\n",
      "A=16\n",
      "B=3.1\n",
      "C=3.6\n",
      "D=-0.021\n",
      "\n",
      "f_A = A\n",
      "f_B = B*cos(x)\n",
      "f_C = C*cos(2*x)\n",
      "f_D = D*sin(x)\n",
      "f = f_A + f_B + f_C + f_D #A + B*cos(x) + C*cos(2*x) + D*sin(x)\n",
      "\n",
      "fsinphi = sin(x)\n",
      "\n",
      "fig,axs = plt.subplots(4, sharex=True,figsize=(5,8))\n",
      "\n",
      "axs[0].scatter(x,f_B,marker='o', color='k',s=50,label='f_B')\n",
      "axs[0].set_ylabel('f_B')\n",
      "#axs[0].scatter(x,fsinphi,marker='o', color='r',s=50,label='f_sinphi')\n",
      "\n",
      "axs[1].scatter(x,f_C,marker='o', color='k',s=50,label='f_C')\n",
      "axs[1].set_ylabel('f_C')\n",
      "#axs[1].scatter(x,fsinphi,marker='o', color='r',s=50,label='f_sinphi')\n",
      "\n",
      "axs[2].scatter(x,f_D,marker='o', color='k',s=50,label='f_D')\n",
      "axs[2].set_ylabel('f_D')\n",
      "#axs[2].scatter(x,fsinphi,marker='o', color='r',s=50,label='f_sinphi')\n",
      "\n",
      "axs[3].scatter(x,f,marker='o', color='k',s=50,label='f')\n",
      "axs[3].set_ylabel('f')\n",
      "#axs[3].scatter(x,fsinphi,marker='o', color='r',s=50,label='f_sinphi')\n",
      "\n",
      "integral = {}\n",
      "integral['B']=integral['C']=integral['D']=integral['T']=0\n",
      "for i in range(0,N):\n",
      "   integral['B'] += f_B[i]*sin(x[i])*dx\n",
      "   integral['C'] += f_C[i]*sin(x[i])*dx\n",
      "   integral['D'] += f_D[i]*sin(x[i])*dx\n",
      "   integral['T'] += f[i]*sin(x[i])*dx\n",
      "   #integral+=r_fphi[i]*sin(x[i])*dx\n",
      "#print integral\n",
      "print 'B =',integral['B']/math.pi\n",
      "print 'C =',integral['C']/math.pi\n",
      "print 'D =',integral['D']/math.pi\n",
      "print 'T =',integral['T']/math.pi\n",
      "\n",
      "#integral_T_check = integral['B']+integral['C']+integral['D']\n",
      "#print 'cross check by directly adding integrals = ',integral_T_check\n"
     ],
     "language": "python",
     "metadata": {},
     "outputs": [
      {
       "output_type": "stream",
       "stream": "stdout",
       "text": [
        "B = 7.06789929214e-16\n",
        "C = -2.9685177027e-15\n",
        "D = -0.021\n",
        "T = -0.021\n"
       ]
      },
      {
       "metadata": {},
       "output_type": "display_data",
       "png": "[encoded data removed]",
       "text": [
        "<matplotlib.figure.Figure at 0x257ced0>"
       ]
      }
     ],
     "prompt_number": 2
    },
    {
     "cell_type": "code",
     "collapsed": false,
     "input": [
      "ft  = lambda t: sin(radians(t))#*sin(radians(t))\n",
      "print 'using degrees = ',integrate.quad(ft,0,180)[0]\n",
      "\n",
      "ft  = lambda t: sin(t)#*sin(t)\n",
      "print 'using radians = ',integrate.quad(ft,0,math.pi)[0]\n",
      "\n",
      "#def int_fphi(x,dx):\n",
      " #   return integrate.quad(fphi,x,x+dx)[0]"
     ],
     "language": "python",
     "metadata": {},
     "outputs": [
      {
       "output_type": "stream",
       "stream": "stdout",
       "text": [
        "using degrees =  114.591559026\n",
        "using radians =  2.0\n"
       ]
      }
     ],
     "prompt_number": 28
    },
    {
     "cell_type": "code",
     "collapsed": false,
     "input": [
      "sin(radians(90))"
     ],
     "language": "python",
     "metadata": {},
     "outputs": [
      {
       "metadata": {},
       "output_type": "pyout",
       "prompt_number": 18,
       "text": [
        "1.0"
       ]
      }
     ],
     "prompt_number": 18
    },
    {
     "cell_type": "code",
     "collapsed": false,
     "input": [],
     "language": "python",
     "metadata": {},
     "outputs": []
    }
   ],
   "metadata": {}
  }
 ]
}