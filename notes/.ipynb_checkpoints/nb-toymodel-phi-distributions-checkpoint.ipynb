{
 "metadata": {
  "name": ""
 },
 "nbformat": 3,
 "nbformat_minor": 0,
 "worksheets": [
  {
   "cells": [
    {
     "cell_type": "markdown",
     "metadata": {},
     "source": [
      "## Toy Model of $\\phi$ distributions and extraction of parameters\n",
      "\n",
      "Assume following form of $\\phi$ distribution (see nb-beamasym-obs-mtg-091013)\n",
      "\n",
      "$$ \\left(\\frac{d^2\\sigma_{v}}{ {dX^{ij}_{k}d\\phi^{i}} }\\right)^{h}  = A_{k} + B_{k}\\cos\\phi + C\\cos2\\phi + hP(\\mathcal{R}^{ij}_{k})_{LT^{'}}\\sin\\phi $$\n",
      "\n",
      ">  where\n",
      "\n",
      "* $A,B,C,\\mathcal{R}^{ij}_{k} = f(Q^{2},W,X^{ij}_{k})$"
     ]
    },
    {
     "cell_type": "markdown",
     "metadata": {},
     "source": [
      "* Assume a form for fphi = 1 + 10*cos(x) + 20*cos(2*x) + 100*sin(x)\n",
      "* Given binning resolution in x, see how well fphi can be \"reconstructed\" (r_fphi)"
     ]
    },
    {
     "cell_type": "code",
     "collapsed": false,
     "input": [
      "from scipy import integrate\n",
      "import math\n",
      "\n",
      "#Ideal phi distribution(fphi)\n",
      "N = 10\n",
      "dx = 2*math.pi/N\n",
      "x  = arange(0,2*math.pi,dx)\n",
      "A=100\n",
      "B=10\n",
      "C=20\n",
      "D=1\n",
      "f = A + B*cos(x) + C*cos(2*x) + D*sin(x)\n",
      "fig = plt.figure(figsize=(8,8))\n",
      "ax = fig.add_subplot(111, title=('fphi%d'%N))\n",
      "plt.scatter(x,f,marker='^', color='g',s=50,label='fphi')\n",
      "\n",
      "#Reconstructed phi distribution(r_fphi)\n",
      "fphi  = lambda x: A + B*cos(x) + C*cos(2*x) + D*sin(x)\n",
      "def int_fphi(x,dx):\n",
      "    return integrate.quad(fphi,x,x+dx)[0]\n",
      "\n",
      "r_fphidx=[]\n",
      "r_fphi=[]\n",
      "for i in x:\n",
      "    #add a statistical modelled error to integral!\n",
      "    integral = int_fphi(i,dx)\n",
      "    r_fphidx.append(integral)\n",
      "    r_fphi.append(divide(integral,dx))\n",
      "\n",
      "#ax.scatter(x,r_fphidx,marker='v',color='r',s=50, label='r_fphidx')\n",
      "ax.scatter(x,r_fphi,marker='<',color='b',s=50,label='r_fphi')\n",
      "plt.legend()\n",
      "\n"
     ],
     "language": "python",
     "metadata": {},
     "outputs": [
      {
       "metadata": {},
       "output_type": "pyout",
       "prompt_number": 5,
       "text": [
        "<matplotlib.legend.Legend at 0x3895810>"
       ]
      },
      {
       "metadata": {},
       "output_type": "display_data",
       "png": "[encoded data removed]",
       "text": [
        "<matplotlib.figure.Figure at 0x347eb10>"
       ]
      }
     ],
     "prompt_number": 5
    },
    {
     "cell_type": "markdown",
     "metadata": {},
     "source": [
      "### Try to retreive constant multiplying $\\sin(\\phi)$ using Method 2"
     ]
    },
    {
     "cell_type": "code",
     "collapsed": false,
     "input": [
      "integral=0\n",
      "for i in range(0,N):\n",
      "    integral+=r_fphidx[i]*sin(x[i])\n",
      "    #integral+=r_fphi[i]*sin(x[i])*dx\n",
      "#print integral\n",
      "print integral/math.pi"
     ],
     "language": "python",
     "metadata": {},
     "outputs": [
      {
       "output_type": "stream",
       "stream": "stdout",
       "text": [
        "-2.10409965539\n"
       ]
      }
     ],
     "prompt_number": 6
    },
    {
     "cell_type": "code",
     "collapsed": false,
     "input": [],
     "language": "python",
     "metadata": {},
     "outputs": []
    }
   ],
   "metadata": {}
  }
 ]
}