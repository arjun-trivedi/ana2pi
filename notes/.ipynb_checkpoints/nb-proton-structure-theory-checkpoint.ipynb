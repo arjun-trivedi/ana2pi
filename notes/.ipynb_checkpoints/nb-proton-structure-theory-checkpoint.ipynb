{
 "metadata": {
  "name": ""
 },
 "nbformat": 3,
 "nbformat_minor": 0,
 "worksheets": [
  {
   "cells": [
    {
     "cell_type": "raw",
     "metadata": {},
     "source": [
      "References currently being used for building theoretical knowledge for my thesis:\n",
      "Regularly used:\n",
      "- Frank Close\n",
      "- Povh\n",
      "- David Griffiths\n",
      "\n",
      "09-10-13 Used to see derivation of Callan-Gross relationship; looks promising as a general reference, for example it also has techinques to generate QCD events using the Monte Carlo technique\n",
      "- http://www.ippp.dur.ac.uk/~krauss/ Dr. Frank Krauss, Institute for Particle Physics Phenomenology, University of Durham, UK"
     ]
    },
    {
     "cell_type": "code",
     "collapsed": false,
     "input": [],
     "language": "python",
     "metadata": {},
     "outputs": []
    }
   ],
   "metadata": {}
  }
 ]
}