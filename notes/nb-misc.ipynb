{
 "metadata": {
  "name": ""
 },
 "nbformat": 3,
 "nbformat_minor": 0,
 "worksheets": [
  {
   "cells": [
    {
     "cell_type": "code",
     "collapsed": false,
     "input": [
      "from __future__ import division\n",
      "\n",
      "q2min=np.arange(2,5,0.5)\n",
      "print 'q2min = ',q2min\n",
      "q2max=np.arange(2.5,5.5,0.5)\n",
      "print 'q2max = ',q2max\n",
      "\n",
      "sigma = (-1/3)*((1/q2max**3)-(1/q2min**3))\n",
      "print 'sigma = ',sigma\n",
      "norm_sigma = sigma/sigma[0]\n",
      "print 'norm_sigma = ',norm_sigma\n",
      "print 'sum(norm_sigma)=',sum(norm_sigma)\n"
     ],
     "language": "python",
     "metadata": {},
     "outputs": [
      {
       "output_type": "stream",
       "stream": "stdout",
       "text": [
        "q2min =  [ 2.   2.5  3.   3.5  4.   4.5]\n",
        "q2max =  [ 2.5  3.   3.5  4.   4.5  5. ]\n",
        "sigma =  [ 0.02033333  0.00898765  0.00457114  0.00256621  0.00155035  0.00099131]\n",
        "norm_sigma =  [ 1.          0.44201579  0.22481019  0.12620681  0.07624694  0.04875306]\n",
        "sum(norm_sigma)= 1.91803278689\n"
       ]
      }
     ],
     "prompt_number": 12
    },
    {
     "cell_type": "code",
     "collapsed": false,
     "input": [
      "1500*1.9"
     ],
     "language": "python",
     "metadata": {},
     "outputs": [
      {
       "metadata": {},
       "output_type": "pyout",
       "prompt_number": 13,
       "text": [
        "2850.0"
       ]
      }
     ],
     "prompt_number": 13
    },
    {
     "cell_type": "code",
     "collapsed": false,
     "input": [
      "qsq = q2min\n",
      "print 'q2 = ',qsq\n",
      "sigma_naive = 1/qsq**4\n",
      "print 'sigma_naive = ',sigma_naive\n",
      "norm_sigma_naive = sigma_naive/sigma_naive[0]\n",
      "print 'norm_sigma_naive = ',norm_sigma_naive\n",
      "print 'sum(norm_sigma_naive)=',sum(norm_sigma_naive)"
     ],
     "language": "python",
     "metadata": {},
     "outputs": [
      {
       "output_type": "stream",
       "stream": "stdout",
       "text": [
        "q2 =  [ 2.   2.5  3.   3.5  4.   4.5]\n",
        "sigma_naive =  [ 0.0625      0.0256      0.01234568  0.00666389  0.00390625  0.00243865]\n",
        "norm_sigma_naive =  [ 1.          0.4096      0.19753086  0.10662224  0.0625      0.03901844]\n",
        "sum(norm_sigma_naive)= 1.81527154724\n"
       ]
      }
     ],
     "prompt_number": 21
    },
    {
     "cell_type": "code",
     "collapsed": false,
     "input": [
      "q2l=np.linspace(2,5,5)\n",
      "print 'q2l = ',q2min\n",
      "\n",
      "sigma = (-1/3)*((1/(q2l+0.75)**3)-(1/q2l**3))\n",
      "print 'sigma = ',sigma\n",
      "norm_sigma = sigma/sigma[0]\n",
      "print 'norm_sigma = ',norm_sigma\n",
      "print 'sum(norm_sigma)=',sum(norm_sigma)"
     ],
     "language": "python",
     "metadata": {},
     "outputs": [
      {
       "output_type": "stream",
       "stream": "stdout",
       "text": [
        "q2l =  [ 2.    2.75  3.5   4.25  5.  ]\n",
        "sigma =  [ 0.07691585  0.02476053  0.01029695  0.00502666  0.00273987]\n",
        "norm_sigma =  [ 1.          0.32191715  0.13387294  0.06535277  0.03562166]\n",
        "sum(norm_sigma)= 1.55676451435\n"
       ]
      }
     ],
     "prompt_number": 5
    },
    {
     "cell_type": "code",
     "collapsed": false,
     "input": [
      "20/.03"
     ],
     "language": "python",
     "metadata": {},
     "outputs": [
      {
       "metadata": {},
       "output_type": "pyout",
       "prompt_number": 6,
       "text": [
        "666.6666666666667"
       ]
      }
     ],
     "prompt_number": 6
    },
    {
     "cell_type": "code",
     "collapsed": false,
     "input": [],
     "language": "python",
     "metadata": {},
     "outputs": []
    }
   ],
   "metadata": {}
  }
 ]
}