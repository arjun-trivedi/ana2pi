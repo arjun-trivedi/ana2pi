{
 "metadata": {
  "name": ""
 },
 "nbformat": 3,
 "nbformat_minor": 0,
 "worksheets": [
  {
   "cells": [
    {
     "cell_type": "markdown",
     "metadata": {},
     "source": [
      "## To Do\n",
      "* [09-01-13]\n",
      "    * __Revisit error propagation with currently assumed Poisson statistics for 5D bins__ (Binomial statistics will be more appropriate?)\n",
      "    * __Verify consistency of ACC_CORR yields per Top in \"common bins\"__\n",
      "        * [09-05-13] Consistent in Simulation, but not in Experiment. Why?\n",
      "    * __When filling Holes, \"zero the bins\" (see ana-stats-book-keeping.xlsx)__\n",
      "    * e1-6 polarization data\n",
      "* [09-03-13]\n",
      "    * <strike>Remove use of _usehel from ProcYields::Proc_hY1D()</strike> [09-05-13]\n",
      "* [09-05-13]\n",
      "    * Find a consistent way to, for example, find W bin corresponding to a W value, given the inherent computing limitations in exactly matching floating point numbers. Currently my not-so-elegant workarounds are:\n",
      "        * Add _instrinsic.Q2binw/2, _instrinsic.Wbinw/2 to Q2,W values when selecting bins in hY8Ds made by SelH10 (since the bin widths there in are set to the _instrinsic bin widths defined in ProcYields::ProcYields()    \n",
      "        * Add _instrinsic.Q2binw, _instrinsic.Wbinw to Q2,W values post ProcYields since at this stage Q2,W binning >> _instrinsic.Q2/W binning\n",
      "    "
     ]
    },
    {
     "cell_type": "markdown",
     "metadata": {},
     "source": [
      "## To Do (Long Term)\n",
      "* Need to think think of more appropriate terms for what I currently call Top and Varset. Perhaps, EvtSel and Top respectively."
     ]
    },
    {
     "cell_type": "markdown",
     "metadata": {},
     "source": [
      "## Questions\n",
      "* [09-01-13]\n",
      "    * Why are Thrown events not flattening"
     ]
    },
    {
     "cell_type": "markdown",
     "metadata": {},
     "source": [
      "## Observations\n",
      "* 08-03-13\n",
      "    * Loading a root file (that contains THnSparses) that is 150MB on disk, takes up ~1GB in RAM. Why is this so?\n",
      "    * SelH10 performance statistics on gothe14 (6 cores; 12GB MEM):\n",
      "        * procorder = q2wsel:eid:efid:qskim:pid:top\n",
      "        * TProof:4 wrkrs\n",
      "        * Max MEM/wrkr = 25% (=100/4 workers)\n",
      "        * Max CPU/wrkr = 17% (=100/6 cores) \n",
      "<TABLE border=1>\n",
      "<CAPTION>Example of a simple data table\n",
      "created using HTML markup.</CAPTION>\n",
      "<TR>\n",
      "<TD></TD>\n",
      "<TH>e1fs1:100M:yield</TH>\n",
      "<TH>e1fs1:100M:mcyield</TH>\n",
      "<TH>e1fs2:400M:yield</TH>   \n",
      "<TH>e1fs2:400M:mcyield</TH>\n",
      "</TR>\n",
      "<TR>\n",
      "<TH>MEM/wrkr[%]</TH>\n",
      "<TD>~3</TD>\n",
      "<TD>~3</TD>\n",
      "<TD>~10</TD>\n",
      "    <TD>~<font color=\"red\">20</font></TD>\n",
      "</TR>\n",
      "<TR>\n",
      "<TH>&lt;Event rate&gt;[Kevt/s];[MB/s]</TH>\n",
      "<TD>150;25</TD>\n",
      "<TD>166;27</TD>\n",
      "<TD>127;21</TD>\n",
      "<TD>167;28</TD>\n",
      "</TR>\n",
      "<TR>\n",
      "<TH>Disk R rate[MB/s]</TH>\n",
      "<TD>~24</TD>\n",
      "<TD>~24</TD>\n",
      "<TD>~24</TD>\n",
      "<TD>~30*</TD>\n",
      "</TR>\n",
      "<TR>\n",
      "<TH>Total time[min]</TH>\n",
      "<TD>10</TD>\n",
      "<TD>10</TD>\n",
      "<TD>50</TD>\n",
      "<TD>38</TD>\n",
      "</TR>\n",
      "<TR>    \n",
      "<TH>output file size[MB]</TH>\n",
      "<TD>32</TD>\n",
      "<TD>32</TD>\n",
      "<TD>239</TD>\n",
      "<TD>288</TD>\n",
      "</TR>\n",
      "</TABLE>\n",
      "*Seems like Disk R rate increased at the expense of %CPU/wrkr. While in all other instances the job ran at max %CPU/wrkr ~ 16, here it reduced to 10. I think this is because making mcyield has just one Proc and that does not need as much processing time viz-a-viz the full \"procorder\" to make yields from cooked data. \n",
      "\n",
      "Total time to make all yields (e1fs1/e1fd1/e1fs2/e1fd2@08-05-13): 1216.136u 108.406s 8:42:26.76 4.2%      0+0k 4613600+11032408io 3594pf+0w\n",
      "\n",
      "Total time to process all yields (e1fs1/e1fd1/e1fs2/e1fd2@08-05-13): 9710.398u 85.521s 2:44:10.30 99.4%      0+0k 5710272+3430456io 83pf+0w"
     ]
    },
    {
     "cell_type": "code",
     "collapsed": false,
     "input": [],
     "language": "python",
     "metadata": {},
     "outputs": []
    }
   ],
   "metadata": {}
  }
 ]
}