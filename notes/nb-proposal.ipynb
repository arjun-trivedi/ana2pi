{
 "metadata": {
  "name": ""
 },
 "nbformat": 3,
 "nbformat_minor": 0,
 "worksheets": [
  {
   "cells": [
    {
     "cell_type": "markdown",
     "metadata": {},
     "source": [
      "### Motivation\n",
      "\n",
      "#### Empirical Observations of the Proton\n",
      "* We have observed that the nature of electron scattering off the proton is Scale depedent ($Q^2$) [List empirical observations and the year they were observed].\n",
      "    1. At high $Q^2$ electrons elastically scatter off spin-1/2-Dirac-point particles inside the proton; these are the degrees of freedom of QCD\n",
      "    2. At low $Q^2$ electrons we observe the electron elastically scatter of the entire proton. \n",
      "    3. Between the low and high $Q^2$ limit, we observe that e-p interaction, excites various Excitated States (Resonances) of the proton. The strengths of the Resonances are $Q^2$ dependent.\n",
      "* Therefore, we infer from empirical evidence, that the proton structure is $Q^2$ dependent:\n",
      "    * At high $Q^2$ the proton appears to be made up of 'asymptotically' free constituents and at low $Q^2$ appears to be a Bound Structure like the Hydrogen atom; in this case the excitation spectrum is scale dependent\n",
      "    \n",
      "#### QCD \n",
      "##### What it explains: High $Q^2$ observations of the proton. \n",
      "* QCD successfully predicts all phenomenon at this scale. \n",
      "* Asymptotic Freedom is a feature of QCD, thus explaining existence of free partons\n",
      "* Therefore, we would like believe that QCD is the theory of Strong Interactions\n",
      "\n",
      "##### What it is still to explain: Low $Q^2$ observations of the proton.\n",
      "* At this scale, we do not work with the QCD degrees of freedom, Current Quarks & have to use effective degrees of freedom, Constituent Quarks. \n",
      "* Therefore, we stop using QCD and resort to using (Effective [?])Models.\n",
      "\n",
      "#### Theory of Strong Interactions\n",
      "* For QCD to be the theory of Strong Interactions, it should be able to explain all phenomenon and therefore be able to map out:\n",
      "    * Current Quark $\\longrightarrow$ Constituent Quarks\n",
      "* To map out this evolution, we need to gather data on the nature of constituents of the proton    \n",
      "     * A photon probe, with its rich & well understood electromagnetic structure will be sensitive to this evolution\n",
      "     \n",
      "     \n",
      "### My personal notes\n",
      "I am sticking to What I Know. \n",
      "\n",
      "I see that there is a big mass difference between Current Quark and Constituent Quark.\n",
      "\n",
      "* If QCD is the theory of Strong Interactions and this is indeed a Dynamic property of QCD[DCSB], then I have not seen an explanation of it/solution of \"integral equation\", for example, DSE \n",
      "\n",
      "I Know that this is not the case for the electron. Any very small differences, for example in its Mass or Charge due to the Dynamical properties of QED, are \"absorbed\" in Renormalzing QED i.e. for the electron:\n",
      "\n",
      "$m_{physical}(Q^{2}) = m_{bare} + \\delta m(Q^{2})$\n",
      "   \n",
      "where \n",
      "    \n",
      "* $m_{bare} = m_{physical}(Q^{2}=\\text{\"everday-life scale\"})$\n",
      "    * is a physical parameter for QED Lagrangian \n",
      "* $\\delta m(Q^{2}) \\propto \\text{dynamical properties of QED}$\n",
      "    * $\\delta m(Q^{2}) \\text{is very small [Quantify this!] even upto the Planck Scale}$\n",
      "\n",
      "\n",
      "* * *    \n",
      "    \n",
      "To adress the matter of __\"98% of mass generation\"__ that should arise from QCD, I need to speak about what I _truly_ feel about the various \"mass generating mechanisms\":\n",
      "\n",
      "* Sponteneous Symmetry Breaking\n",
      "    * Phenomenon from Condensed Matter Physics\n",
      "    * Electroweak Symmetry Breaking\n",
      "    * Chiral Symmetry Breaking\n",
      "    * Dyamic Chiral Symmetry Breaking\n",
      "\n",
      "I need to also see what __Confinement__ is all about."
     ]
    },
    {
     "cell_type": "markdown",
     "metadata": {},
     "source": [
      "### N* program and how my analysis fits in\n",
      "* From \"The First Decade of Science at Jlab(...)\", \"Results from N* program (...)\"\n",
      "    * Refer to Table 1 (page 3) and point out that no data availabe on $p(\\vec{e},e^{'}\\pi^{+},\\pi^{-})p$ viz. Polarized Electroproduction of Double Charged Pions off the Proton. \n",
      "* Glebs, Evgeny analysis\n",
      "    * Example of The 9 single differential cross sections from $p(e,e^{'}\\pi^{+},\\pi^{-})p$ for different region of $Q^{2},W$\n",
      "* Kijun's PhD thesis (2006): Also extracted Beam Polarization Observables\n"
     ]
    },
    {
     "cell_type": "markdown",
     "metadata": {},
     "source": [
      "### Why 5D analysis ?\n",
      "> While a 5-fold differential cross section can be obtained in each bin of the 5 dimensional (5-D) kinematic Phase Space (PS), at this stage, we are not using all the 5-fold differential cross sections to extract the electro-couplings. We\n",
      "ultimately extract electro-couplings from single differential cross sections.\n",
      "\n",
      "> In that case if the Event Generator accurately represented Nature, the analysis could be done directly in 1 dimension. However, from what I gather, the Event Generator is not perfect, and therefore may lead to obtaining inaccurate acceptance factors, which will lead to incorrect yields and therefore, to obtaining inaccurate cross sections."
     ]
    },
    {
     "cell_type": "markdown",
     "metadata": {},
     "source": [
      "## Motivating Cross Sections\n",
      "\n",
      "#### Single Differential Cross Sections\n",
      "* Same as Gleb and Evgeny\n",
      "* Show examples of their results from Transition Form Factors\n",
      "\n",
      "#### Polarization Observables\n",
      "* Gives examples of how measurement of Polarization Observables have put further constraint on models, in order to better understand the structure of the nucleon\n",
      "    \n"
     ]
    },
    {
     "cell_type": "code",
     "collapsed": false,
     "input": [],
     "language": "python",
     "metadata": {},
     "outputs": []
    }
   ],
   "metadata": {}
  }
 ]
}