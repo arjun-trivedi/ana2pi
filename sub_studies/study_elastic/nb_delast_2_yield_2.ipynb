{
 "metadata": {
  "name": ""
 },
 "nbformat": 3,
 "nbformat_minor": 0,
 "worksheets": [
  {
   "cells": [
    {
     "cell_type": "code",
     "collapsed": false,
     "input": [
      "import study_elastic_tools as t"
     ],
     "language": "python",
     "metadata": {},
     "outputs": [],
     "prompt_number": 1
    },
    {
     "cell_type": "code",
     "collapsed": false,
     "input": [
      "reload(t)\n",
      "t.proc_yield()"
     ],
     "language": "python",
     "metadata": {},
     "outputs": [
      {
       "output_type": "stream",
       "stream": "stderr",
       "text": [
        "WARNING:ROOT.THnSparseT<TArrayF>.Divide(h)] Histogram h has empty bins - division by zero! Setting bin to 0.\n"
       ]
      },
      {
       "output_type": "stream",
       "stream": "stderr",
       "text": [
        "WARNING:ROOT.TDirectoryFile.Append] Replacing existing TH1: yield_proj_0 (Potential memory leak).\n"
       ]
      },
      {
       "output_type": "stream",
       "stream": "stderr",
       "text": [
        "WARNING:ROOT.TDirectoryFile.Append] Replacing existing TH1: yield_proj_0 (Potential memory leak).\n"
       ]
      },
      {
       "output_type": "stream",
       "stream": "stderr",
       "text": [
        "WARNING:ROOT.TDirectoryFile.Append] Replacing existing TH1: yield_proj_0 (Potential memory leak).\n"
       ]
      },
      {
       "output_type": "stream",
       "stream": "stderr",
       "text": [
        "WARNING:ROOT.TDirectoryFile.Append] Replacing existing TH1: yield_proj_0 (Potential memory leak).\n"
       ]
      },
      {
       "output_type": "stream",
       "stream": "stderr",
       "text": [
        "WARNING:ROOT.TDirectoryFile.Append] Replacing existing TH1: yield_proj_0 (Potential memory leak).\n"
       ]
      },
      {
       "output_type": "stream",
       "stream": "stderr",
       "text": [
        "WARNING:ROOT.TDirectoryFile.Append] Replacing existing TH1: yield_proj_0 (Potential memory leak).\n"
       ]
      },
      {
       "output_type": "stream",
       "stream": "stdout",
       "text": [
        "binnum:phi_min:phi_max= 1 54 56\n",
        "binnum:phi_min:phi_max= 2 56 58\n",
        "binnum:phi_min:phi_max= 3 58 60\n",
        "binnum:phi_min:phi_max= 4 60 62\n",
        "binnum:phi_min:phi_max= 5 62 64\n",
        "binnum:phi_min:phi_max= 6 64 66\n",
        "binnum:phi_min:phi_max= 1 54 56\n",
        "binnum:phi_min:phi_max= 2 56 58\n",
        "binnum:phi_min:phi_max= 3 58 60\n",
        "binnum:phi_min:phi_max= 4 60 62\n",
        "binnum:phi_min:phi_max= 5 62 64\n",
        "binnum:phi_min:phi_max= 6 64 66\n",
        "binnum:phi_min:phi_max= 1 54 56\n",
        "binnum:phi_min:phi_max= 2 56 58\n",
        "binnum:phi_min:phi_max= 3 58 60\n",
        "binnum:phi_min:phi_max= 4 60 62\n",
        "binnum:phi_min:phi_max= 5 62 64\n",
        "binnum:phi_min:phi_max= 6 64 66\n",
        "binnum:phi_min:phi_max= 1 54 56\n",
        "binnum:phi_min:phi_max= 2 56 58\n",
        "binnum:phi_min:phi_max= 3 58 60\n",
        "binnum:phi_min:phi_max= 4 60 62\n",
        "binnum:phi_min:phi_max= 5 62 64\n",
        "binnum:phi_min:phi_max= 6 64 66\n",
        "binnum:phi_min:phi_max= 1 54 56\n",
        "binnum:phi_min:phi_max= 2 56 58\n",
        "binnum:phi_min:phi_max= 3 58 60\n",
        "binnum:phi_min:phi_max= 4 60 62\n",
        "binnum:phi_min:phi_max= 5 62 64\n",
        "binnum:phi_min:phi_max= 6 64 66\n",
        "binnum:phi_min:phi_max= 1 54 56\n",
        "binnum:phi_min:phi_max= 2 56 58\n",
        "binnum:phi_min:phi_max= 3 58 60\n",
        "binnum:phi_min:phi_max= 4 60 62\n",
        "binnum:phi_min:phi_max= 5 62 64\n",
        "binnum:phi_min:phi_max= 6 64 66\n"
       ]
      }
     ],
     "prompt_number": 6
    },
    {
     "cell_type": "code",
     "collapsed": false,
     "input": [
      "reload(t)\n",
      "t.disp_yields()"
     ],
     "language": "python",
     "metadata": {},
     "outputs": [
      {
       "output_type": "stream",
       "stream": "stderr",
       "text": [
        "INFO:ROOT.TCanvas.Print] png file /data/trivedia/e1f/elastic/delast/obs/displays/c_ST_SR_SC.png has been created\n"
       ]
      },
      {
       "output_type": "stream",
       "stream": "stderr",
       "text": [
        "INFO:ROOT.TCanvas.Print] png file /data/trivedia/e1f/elastic/delast/obs/displays/c_ER_SR.png has been created\n"
       ]
      },
      {
       "output_type": "stream",
       "stream": "stderr",
       "text": [
        "INFO:ROOT.TCanvas.Print] png file /data/trivedia/e1f/elastic/delast/obs/displays/c_EC_SC.png has been created\n"
       ]
      },
      {
       "output_type": "stream",
       "stream": "stderr",
       "text": [
        "INFO:ROOT.TCanvas.Print] png file /data/trivedia/e1f/elastic/delast/obs/displays/c_EC_lumnorm.png has been created\n"
       ]
      },
      {
       "output_type": "stream",
       "stream": "stdout",
       "text": [
        "binnum= 1\n",
        "binnum= 2\n",
        "binnum= 3\n",
        "binnum= 4\n",
        "binnum= 5\n",
        "binnum= 6\n",
        "binnum= 1\n",
        "binnum= 2\n",
        "binnum= 3\n",
        "binnum= 4\n",
        "binnum= 5\n",
        "binnum= 6\n",
        "binnum= 1\n",
        "binnum= 2\n",
        "binnum= 3\n",
        "binnum= 4\n",
        "binnum= 5\n",
        "binnum= 6\n",
        "binnum= 1\n",
        "binnum= 2\n",
        "binnum= 3\n",
        "binnum= 4\n",
        "binnum= 5\n",
        "binnum= 6\n",
        "binnum= 1\n",
        "binnum= 2\n",
        "binnum= 3\n",
        "binnum= 4\n",
        "binnum= 5\n",
        "binnum= 6\n"
       ]
      }
     ],
     "prompt_number": 13
    },
    {
     "cell_type": "code",
     "collapsed": false,
     "input": [
      "VARS=['THETA','PHI']\n",
      "H2_DIM=OrderedDict([('THETA',0),('PHI',1)])"
     ],
     "language": "python",
     "metadata": {},
     "outputs": [],
     "prompt_number": 10
    },
    {
     "cell_type": "code",
     "collapsed": false,
     "input": [
      "for var in VARS:\n",
      "    print H2_DIM[var]"
     ],
     "language": "python",
     "metadata": {},
     "outputs": [
      {
       "output_type": "stream",
       "stream": "stdout",
       "text": [
        "0\n",
        "1\n"
       ]
      }
     ],
     "prompt_number": 11
    },
    {
     "cell_type": "code",
     "collapsed": false,
     "input": [],
     "language": "python",
     "metadata": {},
     "outputs": []
    }
   ],
   "metadata": {}
  }
 ]
}