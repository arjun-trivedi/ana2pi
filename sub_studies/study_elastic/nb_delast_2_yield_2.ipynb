{
 "metadata": {
  "name": ""
 },
 "nbformat": 3,
 "nbformat_minor": 0,
 "worksheets": [
  {
   "cells": [
    {
     "cell_type": "code",
     "collapsed": false,
     "input": [
      "import study_elastic_tools as t"
     ],
     "language": "python",
     "metadata": {},
     "outputs": [],
     "prompt_number": 1
    },
    {
     "cell_type": "code",
     "collapsed": false,
     "input": [
      "reload(t)\n",
      "t.proc_yield()"
     ],
     "language": "python",
     "metadata": {},
     "outputs": [
      {
       "output_type": "stream",
       "stream": "stdout",
       "text": [
        "/data/trivedia/e1f/elastic/delast/exp/delastR.root\n",
        "ST\n",
        "passed\n",
        "SR"
       ]
      },
      {
       "output_type": "stream",
       "stream": "stderr",
       "text": [
        "WARNING:ROOT.THnSparseT<TArrayF>.Divide(h)] Histogram h has empty bins - division by zero! Setting bin to 0.\n"
       ]
      },
      {
       "output_type": "stream",
       "stream": "stderr",
       "text": [
        "WARNING:ROOT.TDirectoryFile.Append] Replacing existing TH1: yield_proj_0 (Potential memory leak).\n"
       ]
      },
      {
       "output_type": "stream",
       "stream": "stderr",
       "text": [
        "WARNING:ROOT.TDirectoryFile.Append] Replacing existing TH1: yield_proj_0 (Potential memory leak).\n"
       ]
      },
      {
       "output_type": "stream",
       "stream": "stderr",
       "text": [
        "WARNING:ROOT.TDirectoryFile.Append] Replacing existing TH1: yield_proj_0 (Potential memory leak).\n"
       ]
      },
      {
       "output_type": "stream",
       "stream": "stderr",
       "text": [
        "WARNING:ROOT.TDirectoryFile.Append] Replacing existing TH1: yield_proj_0 (Potential memory leak).\n"
       ]
      },
      {
       "output_type": "stream",
       "stream": "stderr",
       "text": [
        "WARNING:ROOT.TDirectoryFile.Append] Replacing existing TH1: yield_proj_0 (Potential memory leak).\n"
       ]
      },
      {
       "output_type": "stream",
       "stream": "stdout",
       "text": [
        "\n",
        "passed\n",
        "SA\n",
        "SC\n",
        "ER\n",
        "passed\n",
        "EC\n",
        "binnum= 1\n",
        "phi_min= 358\n",
        "phi_max= 2\n",
        "binnum= 2\n",
        "phi_min= 58\n",
        "phi_max= 62\n",
        "binnum= 3\n",
        "phi_min= 118\n",
        "phi_max= 122\n",
        "binnum= 4\n",
        "phi_min= 178\n",
        "phi_max= 182\n",
        "binnum= 5\n",
        "phi_min= 238\n",
        "phi_max= 242\n",
        "binnum= 6\n",
        "phi_min= 298\n",
        "phi_max= 302\n",
        "binnum= 1\n",
        "phi_min= 358\n",
        "phi_max= 2\n",
        "binnum= 2\n",
        "phi_min= 58\n",
        "phi_max= 62\n",
        "binnum= 3\n",
        "phi_min= 118\n",
        "phi_max= 122\n",
        "binnum= 4\n",
        "phi_min= 178\n",
        "phi_max= 182\n",
        "binnum= 5\n",
        "phi_min= 238\n",
        "phi_max= 242\n",
        "binnum= 6\n",
        "phi_min= 298\n",
        "phi_max= 302\n",
        "binnum= 1\n",
        "phi_min= 358\n",
        "phi_max= 2\n",
        "binnum= 2\n",
        "phi_min= 58\n",
        "phi_max= 62\n",
        "binnum= 3\n",
        "phi_min= 118\n",
        "phi_max= 122\n",
        "binnum= 4\n",
        "phi_min= 178\n",
        "phi_max= 182\n",
        "binnum= 5\n",
        "phi_min= 238\n",
        "phi_max= 242\n",
        "binnum= 6\n",
        "phi_min= 298\n",
        "phi_max= 302\n",
        "binnum= 1\n",
        "phi_min= 358\n",
        "phi_max= 2\n",
        "binnum= 2\n",
        "phi_min= 58\n",
        "phi_max= 62\n",
        "binnum= 3\n",
        "phi_min= 118\n",
        "phi_max= 122\n",
        "binnum= 4\n",
        "phi_min= 178\n",
        "phi_max= 182\n",
        "binnum= 5\n",
        "phi_min= 238\n",
        "phi_max= 242\n",
        "binnum= 6\n",
        "phi_min= 298\n",
        "phi_max= 302\n",
        "binnum= 1\n",
        "phi_min= 358\n",
        "phi_max= 2\n",
        "binnum= "
       ]
      },
      {
       "output_type": "stream",
       "stream": "stderr",
       "text": [
        "WARNING:ROOT.TDirectoryFile.Append] Replacing existing TH1: yield_proj_0 (Potential memory leak).\n"
       ]
      },
      {
       "output_type": "stream",
       "stream": "stdout",
       "text": [
        "2\n",
        "phi_min= 58\n",
        "phi_max= 62\n",
        "binnum= 3\n",
        "phi_min= 118\n",
        "phi_max= 122\n",
        "binnum= 4\n",
        "phi_min= 178\n",
        "phi_max= 182\n",
        "binnum= 5\n",
        "phi_min= 238\n",
        "phi_max= 242\n",
        "binnum= 6\n",
        "phi_min= 298\n",
        "phi_max= 302\n",
        "binnum= 1\n",
        "phi_min= 358\n",
        "phi_max= 2\n",
        "binnum= 2\n",
        "phi_min= 58\n",
        "phi_max= 62\n",
        "binnum= 3\n",
        "phi_min= 118\n",
        "phi_max= 122\n",
        "binnum= 4\n",
        "phi_min= 178\n",
        "phi_max= 182\n",
        "binnum= 5\n",
        "phi_min= 238\n",
        "phi_max= 242\n",
        "binnum= 6\n",
        "phi_min= 298\n",
        "phi_max= 302\n"
       ]
      }
     ],
     "prompt_number": 15
    },
    {
     "cell_type": "code",
     "collapsed": false,
     "input": [
      "reload(t)\n",
      "t.disp_yields()"
     ],
     "language": "python",
     "metadata": {},
     "outputs": [
      {
       "output_type": "stream",
       "stream": "stdout",
       "text": [
        "binnum= 1\n",
        "binnum= 1\n",
        "binnum= 1\n",
        "binnum= 1\n",
        "binnum= 1\n",
        "[471.90817174385927, 470.0504916290194]"
       ]
      },
      {
       "output_type": "stream",
       "stream": "stdout",
       "text": [
        " 471.908171744\n",
        "[518.2681443451854, 561.4972334706375]"
       ]
      },
      {
       "output_type": "stream",
       "stream": "stdout",
       "text": [
        " 561.497233471\n",
        "binnum="
       ]
      },
      {
       "output_type": "stream",
       "stream": "stdout",
       "text": [
        " 2\n",
        "binnum= 2\n",
        "binnum= 2\n",
        "binnum= 2\n",
        "binnum= 2\n",
        "[469.3321007626531, 469.66766175216276]"
       ]
      },
      {
       "output_type": "stream",
       "stream": "stdout",
       "text": [
        " 469.667661752\n",
        "[544.6988227780361, 559.7299380301358]"
       ]
      },
      {
       "output_type": "stream",
       "stream": "stdout",
       "text": [
        " 559.72993803\n",
        "binnum="
       ]
      },
      {
       "output_type": "stream",
       "stream": "stdout",
       "text": [
        " 3\n",
        "binnum= 3\n",
        "binnum= 3\n",
        "binnum= 3\n",
        "binnum= 3\n",
        "[535.0714680080977, 470.0999797186145]"
       ]
      },
      {
       "output_type": "stream",
       "stream": "stdout",
       "text": [
        " 535.071468008\n",
        "[444.5750900382558, 559.794666533497]"
       ]
      },
      {
       "output_type": "stream",
       "stream": "stdout",
       "text": [
        " 559.794666533\n",
        "binnum="
       ]
      },
      {
       "output_type": "stream",
       "stream": "stdout",
       "text": [
        " 4\n",
        "binnum= 4\n",
        "binnum= 4\n",
        "binnum= 4\n",
        "binnum= 4\n",
        "[507.68123684813065, 464.040405577065]"
       ]
      },
      {
       "output_type": "stream",
       "stream": "stdout",
       "text": [
        " 507.681236848\n",
        "[484.36650169585124, 561.1124038479135]"
       ]
      },
      {
       "output_type": "stream",
       "stream": "stdout",
       "text": [
        " 561.112403848\n",
        "binnum="
       ]
      },
      {
       "output_type": "stream",
       "stream": "stdout",
       "text": [
        " 5\n",
        "binnum= 5\n",
        "binnum= 5\n",
        "binnum= 5\n",
        "binnum= 5\n",
        "[515.4919583727531, 538.6064366379502]"
       ]
      },
      {
       "output_type": "stream",
       "stream": "stdout",
       "text": [
        " 538.606436638\n",
        "[393.41148725064613, 558.9936756795025]"
       ]
      },
      {
       "output_type": "stream",
       "stream": "stdout",
       "text": [
        " 558.99367568\n",
        "binnum="
       ]
      },
      {
       "output_type": "stream",
       "stream": "stdout",
       "text": [
        " 6\n",
        "binnum= 6\n",
        "binnum= 6\n",
        "binnum= 6\n",
        "binnum= 6\n",
        "[516.9285437259567, 434.5197505197505]"
       ]
      },
      {
       "output_type": "stream",
       "stream": "stdout",
       "text": [
        " 516.928543726\n",
        "[468.3326136649107, 560.5933042231505]"
       ]
      },
      {
       "output_type": "stream",
       "stream": "stdout",
       "text": [
        " 560.593304223\n"
       ]
      }
     ],
     "prompt_number": 19
    },
    {
     "cell_type": "code",
     "collapsed": false,
     "input": [
      "VARS=['THETA','PHI']\n",
      "H2_DIM=OrderedDict([('THETA',0),('PHI',1)])"
     ],
     "language": "python",
     "metadata": {},
     "outputs": [],
     "prompt_number": 10
    },
    {
     "cell_type": "code",
     "collapsed": false,
     "input": [
      "for var in VARS:\n",
      "    print H2_DIM[var]"
     ],
     "language": "python",
     "metadata": {},
     "outputs": [
      {
       "output_type": "stream",
       "stream": "stdout",
       "text": [
        "0\n",
        "1\n"
       ]
      }
     ],
     "prompt_number": 11
    },
    {
     "cell_type": "code",
     "collapsed": false,
     "input": [],
     "language": "python",
     "metadata": {},
     "outputs": []
    }
   ],
   "metadata": {}
  }
 ]
}