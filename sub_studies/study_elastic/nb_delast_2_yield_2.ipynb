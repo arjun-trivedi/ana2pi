{
 "metadata": {
  "name": ""
 },
 "nbformat": 3,
 "nbformat_minor": 0,
 "worksheets": [
  {
   "cells": [
    {
     "cell_type": "code",
     "collapsed": false,
     "input": [
      "import proc_yields_elastic as t"
     ],
     "language": "python",
     "metadata": {},
     "outputs": [],
     "prompt_number": 1
    },
    {
     "cell_type": "code",
     "collapsed": false,
     "input": [
      "reload(t)\n",
      "t.run()"
     ],
     "language": "python",
     "metadata": {},
     "outputs": [
      {
       "output_type": "stream",
       "stream": "stdout",
       "text": [
        "/data/trivedia/e1f/elastic/delast/exp/delastR.root\n",
        "ST"
       ]
      },
      {
       "output_type": "stream",
       "stream": "stderr",
       "text": [
        "INFO:rootpy.logger] | No default log handler configured. See `logging` module |\n"
       ]
      },
      {
       "output_type": "stream",
       "stream": "stderr",
       "text": [
        "INFO:rootpy.logger] \\    To suppress: 'rootpy.log.basic_config_colorized()'   /\n"
       ]
      },
      {
       "output_type": "stream",
       "stream": "stderr",
       "text": [
        "WARNING:ROOT.THnSparseT<TArrayF>.Divide(h)] Histogram h has empty bins - division by zero! Setting bin to 0.\n"
       ]
      },
      {
       "output_type": "stream",
       "stream": "stdout",
       "text": [
        "\n",
        "passed\n",
        "SR\n",
        "passed\n",
        "SA\n",
        "SC\n",
        "ER\n",
        "passed\n",
        "EC\n"
       ]
      }
     ],
     "prompt_number": 14
    },
    {
     "cell_type": "code",
     "collapsed": false,
     "input": [
      "reload(t)\n",
      "t.disp()"
     ],
     "language": "python",
     "metadata": {},
     "outputs": [
      {
       "output_type": "stream",
       "stream": "stderr",
       "text": [
        "INFO:ROOT.TCanvas.Print] png file /data/trivedia/e1f/elastic/delast/obs/displays/c_ST_SR_SC.png has been created\n"
       ]
      },
      {
       "output_type": "stream",
       "stream": "stderr",
       "text": [
        "INFO:ROOT.TCanvas.Print] png file /data/trivedia/e1f/elastic/delast/obs/displays/c_ER_SR.png has been created\n"
       ]
      },
      {
       "output_type": "stream",
       "stream": "stdout",
       "text": [
        "[360.6360164110822, 349.62734415024653] 360.636016411\n",
        "[286.0585854551553, 307.90162640577756]"
       ]
      },
      {
       "output_type": "stream",
       "stream": "stdout",
       "text": [
        " 307.901626406\n"
       ]
      }
     ],
     "prompt_number": 10
    },
    {
     "cell_type": "code",
     "collapsed": false,
     "input": [
      "VARS=['THETA','PHI']\n",
      "H2_DIM=OrderedDict([('THETA',0),('PHI',1)])"
     ],
     "language": "python",
     "metadata": {},
     "outputs": [],
     "prompt_number": 10
    },
    {
     "cell_type": "code",
     "collapsed": false,
     "input": [
      "for var in VARS:\n",
      "    print H2_DIM[var]"
     ],
     "language": "python",
     "metadata": {},
     "outputs": [
      {
       "output_type": "stream",
       "stream": "stdout",
       "text": [
        "0\n",
        "1\n"
       ]
      }
     ],
     "prompt_number": 11
    },
    {
     "cell_type": "code",
     "collapsed": false,
     "input": [],
     "language": "python",
     "metadata": {},
     "outputs": []
    }
   ],
   "metadata": {}
  }
 ]
}