{
 "metadata": {
  "name": ""
 },
 "nbformat": 3,
 "nbformat_minor": 0,
 "worksheets": [
  {
   "cells": [
    {
     "cell_type": "code",
     "collapsed": false,
     "input": [
      "import study_elastic_tools as t"
     ],
     "language": "python",
     "metadata": {},
     "outputs": [],
     "prompt_number": 1
    },
    {
     "cell_type": "code",
     "collapsed": false,
     "input": [
      "reload(t)\n",
      "t.proc_yield()"
     ],
     "language": "python",
     "metadata": {},
     "outputs": [
      {
       "output_type": "stream",
       "stream": "stdout",
       "text": [
        "/data/trivedia/e1f/elastic/delast/exp/delastR.root\n",
        "ST\n",
        "passed\n",
        "SR"
       ]
      },
      {
       "output_type": "stream",
       "stream": "stderr",
       "text": [
        "WARNING:ROOT.THnSparseT<TArrayF>.Divide(h)] Histogram h has empty bins - division by zero! Setting bin to 0.\n"
       ]
      },
      {
       "output_type": "stream",
       "stream": "stderr",
       "text": [
        "WARNING:ROOT.TDirectoryFile.Append] Replacing existing TH1: yield_proj_0 (Potential memory leak).\n"
       ]
      },
      {
       "output_type": "stream",
       "stream": "stderr",
       "text": [
        "WARNING:ROOT.TDirectoryFile.Append] Replacing existing TH1: yield_proj_0 (Potential memory leak).\n"
       ]
      },
      {
       "output_type": "stream",
       "stream": "stderr",
       "text": [
        "WARNING:ROOT.TDirectoryFile.Append] Replacing existing TH1: yield_proj_0 (Potential memory leak).\n"
       ]
      },
      {
       "output_type": "stream",
       "stream": "stderr",
       "text": [
        "WARNING:ROOT.TDirectoryFile.Append] Replacing existing TH1: yield_proj_0 (Potential memory leak).\n"
       ]
      },
      {
       "output_type": "stream",
       "stream": "stderr",
       "text": [
        "WARNING:ROOT.TDirectoryFile.Append] Replacing existing TH1: yield_proj_0 (Potential memory leak).\n"
       ]
      },
      {
       "output_type": "stream",
       "stream": "stdout",
       "text": [
        "\n",
        "passed\n",
        "SA\n",
        "SC\n",
        "ER\n",
        "passed\n",
        "EC\n",
        "binnum= 1\n",
        "phi_min= 358\n",
        "phi_max= 2\n",
        "binnum= 2\n",
        "phi_min= 58\n",
        "phi_max= 62\n",
        "binnum= 3\n",
        "phi_min= 118\n",
        "phi_max= 122\n",
        "binnum= 4\n",
        "phi_min= 178\n",
        "phi_max= 182\n",
        "binnum= 5\n",
        "phi_min= 238\n",
        "phi_max= 242\n",
        "binnum= 6\n",
        "phi_min= 298\n",
        "phi_max= 302\n",
        "binnum= 1\n",
        "phi_min= 358\n",
        "phi_max= 2\n",
        "binnum= 2\n",
        "phi_min= 58\n",
        "phi_max= 62\n",
        "binnum= 3\n",
        "phi_min= 118\n",
        "phi_max= 122\n",
        "binnum= 4\n",
        "phi_min= 178\n",
        "phi_max= 182\n",
        "binnum= 5\n",
        "phi_min= 238\n",
        "phi_max= 242\n",
        "binnum= 6\n",
        "phi_min= 298\n",
        "phi_max= 302\n",
        "binnum= 1\n",
        "phi_min= 358\n",
        "phi_max= 2\n",
        "binnum= 2\n",
        "phi_min= 58\n",
        "phi_max= 62\n",
        "binnum= 3\n",
        "phi_min= 118\n",
        "phi_max= 122\n",
        "binnum= 4\n",
        "phi_min= 178\n",
        "phi_max= 182\n",
        "binnum= 5\n",
        "phi_min= 238\n",
        "phi_max= 242\n",
        "binnum= 6\n",
        "phi_min= 298\n",
        "phi_max= 302\n",
        "binnum= 1\n",
        "phi_min= 358\n",
        "phi_max= 2\n",
        "binnum= 2\n",
        "phi_min= 58\n",
        "phi_max= 62\n",
        "binnum= 3\n",
        "phi_min= 118\n",
        "phi_max= 122\n",
        "binnum= 4\n",
        "phi_min= 178\n",
        "phi_max= 182\n",
        "binnum= 5\n",
        "phi_min= 238\n",
        "phi_max= 242\n",
        "binnum= 6\n",
        "phi_min= 298\n",
        "phi_max= 302\n",
        "binnum= 1\n",
        "phi_min= 358\n",
        "phi_max= 2\n",
        "binnum= "
       ]
      },
      {
       "output_type": "stream",
       "stream": "stderr",
       "text": [
        "WARNING:ROOT.TDirectoryFile.Append] Replacing existing TH1: yield_proj_0 (Potential memory leak).\n"
       ]
      },
      {
       "output_type": "stream",
       "stream": "stdout",
       "text": [
        "2\n",
        "phi_min= 58\n",
        "phi_max= 62\n",
        "binnum= 3\n",
        "phi_min= 118\n",
        "phi_max= 122\n",
        "binnum= 4\n",
        "phi_min= 178\n",
        "phi_max= 182\n",
        "binnum= 5\n",
        "phi_min= 238\n",
        "phi_max= 242\n",
        "binnum= 6\n",
        "phi_min= 298\n",
        "phi_max= 302\n",
        "binnum= 1\n",
        "phi_min= 358\n",
        "phi_max= 2\n",
        "binnum= 2\n",
        "phi_min= 58\n",
        "phi_max= 62\n",
        "binnum= 3\n",
        "phi_min= 118\n",
        "phi_max= 122\n",
        "binnum= 4\n",
        "phi_min= 178\n",
        "phi_max= 182\n",
        "binnum= 5\n",
        "phi_min= 238\n",
        "phi_max= 242\n",
        "binnum= 6\n",
        "phi_min= 298\n",
        "phi_max= 302\n"
       ]
      }
     ],
     "prompt_number": 15
    },
    {
     "cell_type": "code",
     "collapsed": false,
     "input": [
      "reload(t)\n",
      "t.disp_yields()"
     ],
     "language": "python",
     "metadata": {},
     "outputs": [
      {
       "output_type": "stream",
       "stream": "stderr",
       "text": [
        "INFO:ROOT.TCanvas.Print] png file /data/trivedia/e1f/elastic/delast/obs/displays/phibin1/c_ST_SR_SC.png has been created\n"
       ]
      },
      {
       "output_type": "stream",
       "stream": "stdout",
       "text": [
        "binnum= 1\n",
        "binnum= 1\n",
        "binnum= 1\n",
        "binnum= 1\n",
        "binnum= 1\n",
        "[471.90817174385927, 470.0504916290194]"
       ]
      },
      {
       "output_type": "stream",
       "stream": "stderr",
       "text": [
        "INFO:ROOT.TCanvas.Print] png file /data/trivedia/e1f/elastic/delast/obs/displays/phibin1/c_ER_SR.png has been created\n"
       ]
      },
      {
       "output_type": "stream",
       "stream": "stdout",
       "text": [
        " 471.908171744\n",
        "[518.2681443451854, 561.4972334706375]"
       ]
      },
      {
       "output_type": "stream",
       "stream": "stderr",
       "text": [
        "INFO:ROOT.TCanvas.Print] png file /data/trivedia/e1f/elastic/delast/obs/displays/phibin1/c_EC_SC.png has been created\n"
       ]
      },
      {
       "output_type": "stream",
       "stream": "stdout",
       "text": [
        " 561.497233471\n",
        "theta,dtheta,dphi,dOmega="
       ]
      },
      {
       "output_type": "stream",
       "stream": "stderr",
       "text": [
        "INFO:ROOT.TCanvas.Print] png file /data/trivedia/e1f/elastic/delast/obs/displays/phibin1/c_EC_lumnorm.png has been created\n"
       ]
      },
      {
       "output_type": "stream",
       "stream": "stdout",
       "text": [
        " 2.0 0.0349065850399 0.0698131700798 8.5047957099e-05\n",
        "norm= 1687691.66067\n",
        "theta,dtheta,dphi,dOmega= 4.0 0.0349065850399 0.0698131700798 0.000169992296363\n",
        "norm= 3373327.12902\n",
        "theta,dtheta,dphi,dOmega= 6.0 0.0349065850399 0.0698131700798 0.000254729526199\n",
        "norm= 5054852.71789\n",
        "theta,dtheta,dphi,dOmega= 8.0 0.0349065850399 0.0698131700798 0.000339156407345\n",
        "norm= 6730219.74736\n",
        "theta,dtheta,dphi,dOmega= 10.0 0.0349065850399 0.0698131700798 0.000423170078653\n",
        "norm= 8397387.04078\n",
        "theta,dtheta,dphi,dOmega= 12.0 0.0349065850399 0.0698131700798 0.000506668182403\n",
        "norm= 10054323.4116\n",
        "theta,dtheta,dphi,dOmega= 14.0 0.0349065850399 0.0698131700798 0.00058954898902\n",
        "norm= 11699010.1381\n",
        "theta,dtheta,dphi,dOmega= 16.0 0.0349065850399 0.0698131700798 0.000671711521006\n",
        "norm= 13329443.4229\n",
        "theta,dtheta,dphi,dOmega= 18.0 0.0349065850399 0.0698131700798 0.000753055675974\n",
        "norm= 14943636.834\n",
        "theta,dtheta,dphi,dOmega= 20.0 0.0349065850399 0.0698131700798 0.0008334823486\n",
        "norm= 16539623.7256\n",
        "theta,dtheta,dphi,dOmega= 22.0 0.0349065850399 0.0698131700798 0.000912893551372\n",
        "norm= 18115459.6334\n",
        "theta,dtheta,dphi,dOmega= 24.0 0.0349065850399 0.0698131700798 0.000991192533972\n",
        "norm= 19669224.6441\n",
        "theta,dtheta,dphi,dOmega= 26.0 0.0349065850399 0.0698131700798 0.00106828390115\n",
        "norm= 21199025.7344\n",
        "theta,dtheta,dphi,dOmega= 28.0 0.0349065850399 0.0698131700798 0.00114407372895\n",
        "norm= 22702999.0773\n",
        "theta,dtheta,dphi,dOmega= 30.0 0.0349065850399 0.0698131700798 0.00121846967915\n",
        "norm= 24179312.313\n",
        "theta,dtheta,dphi,dOmega= 32.0 0.0349065850399 0.0698131700798 0.00129138111173\n",
        "norm= 25626166.7811\n",
        "theta,dtheta,dphi,dOmega= 34.0 0.0349065850399 0.0698131700798 0.00136271919535\n",
        "norm= 27041799.7125\n",
        "theta,dtheta,dphi,dOmega= 36.0 0.0349065850399 0.0698131700798 0.00143239701554\n",
        "norm= 28424486.3763\n",
        "theta,dtheta,dphi,dOmega= 38.0 0.0349065850399 0.0698131700798 0.00150032968061\n",
        "norm= 29772542.182\n",
        "theta,dtheta,dphi,dOmega= 40.0 0.0349065850399 0.0698131700798 0.00156643442507\n",
        "norm= 31084324.7311\n",
        "theta,dtheta,dphi,dOmega= 42.0 0.0349065850399 0.0698131700798 0.00163063071047\n",
        "norm= 32358235.8187\n",
        "theta,dtheta,dphi,dOmega= 44.0 0.0349065850399 0.0698131700798 0.00169284032354\n",
        "norm= 33592723.3803\n",
        "theta,dtheta,dphi,dOmega= 46.0 0.0349065850399 0.0698131700798 0.00175298747143\n",
        "norm= 34786283.3831\n",
        "theta,dtheta,dphi,dOmega= 48.0 0.0349065850399 0.0698131700798 0.00181099887412\n",
        "norm= 35937461.658\n",
        "theta,dtheta,dphi,dOmega= 50.0 0.0349065850399 0.0698131700798 0.00186680385364\n",
        "norm= 37044855.6716\n",
        "theta,dtheta,dphi,dOmega= 52.0 0.0349065850399 0.0698131700798 0.00192033442022\n",
        "norm= 38107116.2349\n",
        "theta,dtheta,dphi,dOmega= 54.0 0.0349065850399 0.0698131700798 0.00197152535512\n",
        "norm= 39122949.147\n",
        "theta,dtheta,dphi,dOmega= 56.0 0.0349065850399 0.0698131700798 0.00202031429006\n",
        "norm= 40091116.772\n",
        "theta,dtheta,dphi,dOmega= 58.0 0.0349065850399 0.0698131700798 0.00206664178325\n",
        "norm= 41010439.5468\n",
        "theta,dtheta,dphi,dOmega= 60.0 0.0349065850399 0.0698131700798 0.00211045139176\n",
        "norm= 41879797.4182\n",
        "theta,dtheta,dphi,dOmega= 62.0 0.0349065850399 0.0698131700798 0.00215168974035\n",
        "norm= 42698131.2075\n",
        "theta,dtheta,dphi,dOmega= 64.0 0.0349065850399 0.0698131700798 0.00219030658643\n",
        "norm= 43464443.901\n",
        "theta,dtheta,dphi,dOmega= 66.0 0.0349065850399 0.0698131700798 0.00222625488132\n",
        "norm= 44177801.8649\n",
        "theta,dtheta,dphi,dOmega= 68.0 0.0349065850399 0.0698131700798 0.00225949082757\n",
        "norm= 44837335.9823\n",
        "theta,dtheta,dphi,dOmega= 70.0 0.0349065850399 0.0698131700798 0.00228997393229\n",
        "norm= 45442242.7124\n",
        "theta,dtheta,dphi,dOmega= 72.0 0.0349065850399 0.0698131700798 0.00231766705652\n",
        "norm= 45991785.0696\n",
        "theta,dtheta,dphi,dOmega= 74.0 0.0349065850399 0.0698131700798 0.00234253646045\n",
        "norm= 46485293.5212\n",
        "theta,dtheta,dphi,dOmega= 76.0 0.0349065850399 0.0698131700798 0.00236455184455\n",
        "norm= 46922166.8032\n",
        "theta,dtheta,dphi,dOmega= 78.0 0.0349065850399 0.0698131700798 0.00238368638645\n",
        "norm= 47301872.6527\n",
        "binnum="
       ]
      },
      {
       "output_type": "stream",
       "stream": "stderr",
       "text": [
        "INFO:ROOT.TCanvas.Print] png file /data/trivedia/e1f/elastic/delast/obs/displays/phibin2/c_ST_SR_SC.png has been created\n"
       ]
      },
      {
       "output_type": "stream",
       "stream": "stdout",
       "text": [
        " 2\n",
        "binnum= 2\n",
        "binnum= 2\n",
        "binnum= 2\n",
        "binnum= 2\n",
        "[469.3321007626531, 469.66766175216276]"
       ]
      },
      {
       "output_type": "stream",
       "stream": "stderr",
       "text": [
        "INFO:ROOT.TCanvas.Print] png file /data/trivedia/e1f/elastic/delast/obs/displays/phibin2/c_ER_SR.png has been created\n"
       ]
      },
      {
       "output_type": "stream",
       "stream": "stdout",
       "text": [
        " 469.667661752\n",
        "[544.6988227780361, 559.7299380301358]"
       ]
      },
      {
       "output_type": "stream",
       "stream": "stderr",
       "text": [
        "INFO:ROOT.TCanvas.Print] png file /data/trivedia/e1f/elastic/delast/obs/displays/phibin2/c_EC_SC.png has been created\n"
       ]
      },
      {
       "output_type": "stream",
       "stream": "stdout",
       "text": [
        " 559.72993803\n",
        "theta,dtheta,dphi,dOmega="
       ]
      },
      {
       "output_type": "stream",
       "stream": "stderr",
       "text": [
        "INFO:ROOT.TCanvas.Print] png file /data/trivedia/e1f/elastic/delast/obs/displays/phibin2/c_EC_lumnorm.png has been created\n"
       ]
      },
      {
       "output_type": "stream",
       "stream": "stdout",
       "text": [
        " 2.0 0.0349065850399 0.0698131700798 8.5047957099e-05\n",
        "norm= 1687691.66067\n",
        "theta,dtheta,dphi,dOmega= 4.0 0.0349065850399 0.0698131700798 0.000169992296363\n",
        "norm= 3373327.12902\n",
        "theta,dtheta,dphi,dOmega= 6.0 0.0349065850399 0.0698131700798 0.000254729526199\n",
        "norm= 5054852.71789\n",
        "theta,dtheta,dphi,dOmega= 8.0 0.0349065850399 0.0698131700798 0.000339156407345\n",
        "norm= 6730219.74736\n",
        "theta,dtheta,dphi,dOmega= 10.0 0.0349065850399 0.0698131700798 0.000423170078653\n",
        "norm= 8397387.04078\n",
        "theta,dtheta,dphi,dOmega= 12.0 0.0349065850399 0.0698131700798 0.000506668182403\n",
        "norm= 10054323.4116\n",
        "theta,dtheta,dphi,dOmega= 14.0 0.0349065850399 0.0698131700798 0.00058954898902\n",
        "norm= 11699010.1381\n",
        "theta,dtheta,dphi,dOmega= 16.0 0.0349065850399 0.0698131700798 0.000671711521006\n",
        "norm= 13329443.4229\n",
        "theta,dtheta,dphi,dOmega= 18.0 0.0349065850399 0.0698131700798 0.000753055675974\n",
        "norm= 14943636.834\n",
        "theta,dtheta,dphi,dOmega= 20.0 0.0349065850399 0.0698131700798 0.0008334823486\n",
        "norm= 16539623.7256\n",
        "theta,dtheta,dphi,dOmega= 22.0 0.0349065850399 0.0698131700798 0.000912893551372\n",
        "norm= 18115459.6334\n",
        "theta,dtheta,dphi,dOmega= 24.0 0.0349065850399 0.0698131700798 0.000991192533972\n",
        "norm= 19669224.6441\n",
        "theta,dtheta,dphi,dOmega= 26.0 0.0349065850399 0.0698131700798 0.00106828390115\n",
        "norm= 21199025.7344\n",
        "theta,dtheta,dphi,dOmega= 28.0 0.0349065850399 0.0698131700798 0.00114407372895\n",
        "norm= 22702999.0773\n",
        "theta,dtheta,dphi,dOmega= 30.0 0.0349065850399 0.0698131700798 0.00121846967915\n",
        "norm= 24179312.313\n",
        "theta,dtheta,dphi,dOmega= 32.0 0.0349065850399 0.0698131700798 0.00129138111173\n",
        "norm= 25626166.7811\n",
        "theta,dtheta,dphi,dOmega= 34.0 0.0349065850399 0.0698131700798 0.00136271919535\n",
        "norm= 27041799.7125\n",
        "theta,dtheta,dphi,dOmega= 36.0 0.0349065850399 0.0698131700798 0.00143239701554\n",
        "norm= 28424486.3763\n",
        "theta,dtheta,dphi,dOmega= 38.0 0.0349065850399 0.0698131700798 0.00150032968061\n",
        "norm= 29772542.182\n",
        "theta,dtheta,dphi,dOmega= 40.0 0.0349065850399 0.0698131700798 0.00156643442507\n",
        "norm= 31084324.7311\n",
        "theta,dtheta,dphi,dOmega= 42.0 0.0349065850399 0.0698131700798 0.00163063071047\n",
        "norm= 32358235.8187\n",
        "theta,dtheta,dphi,dOmega= 44.0 0.0349065850399 0.0698131700798 0.00169284032354\n",
        "norm= 33592723.3803\n",
        "theta,dtheta,dphi,dOmega= 46.0 0.0349065850399 0.0698131700798 0.00175298747143\n",
        "norm= 34786283.3831\n",
        "theta,dtheta,dphi,dOmega= 48.0 0.0349065850399 0.0698131700798 0.00181099887412\n",
        "norm= 35937461.658\n",
        "theta,dtheta,dphi,dOmega= 50.0 0.0349065850399 0.0698131700798 0.00186680385364\n",
        "norm= 37044855.6716\n",
        "theta,dtheta,dphi,dOmega= 52.0 0.0349065850399 0.0698131700798 0.00192033442022\n",
        "norm= 38107116.2349\n",
        "theta,dtheta,dphi,dOmega= 54.0 0.0349065850399 0.0698131700798 0.00197152535512\n",
        "norm= 39122949.147\n",
        "theta,dtheta,dphi,dOmega= 56.0 0.0349065850399 0.0698131700798 0.00202031429006\n",
        "norm= 40091116.772\n",
        "theta,dtheta,dphi,dOmega= 58.0 0.0349065850399 0.0698131700798 0.00206664178325\n",
        "norm= 41010439.5468\n",
        "theta,dtheta,dphi,dOmega= 60.0 0.0349065850399 0.0698131700798 0.00211045139176\n",
        "norm= 41879797.4182\n",
        "theta,dtheta,dphi,dOmega= 62.0 0.0349065850399 0.0698131700798 0.00215168974035\n",
        "norm= 42698131.2075\n",
        "theta,dtheta,dphi,dOmega= 64.0 0.0349065850399 0.0698131700798 0.00219030658643\n",
        "norm= 43464443.901\n",
        "theta,dtheta,dphi,dOmega= 66.0 0.0349065850399 0.0698131700798 0.00222625488132\n",
        "norm= 44177801.8649\n",
        "theta,dtheta,dphi,dOmega= 68.0 0.0349065850399 0.0698131700798 0.00225949082757\n",
        "norm= 44837335.9823\n",
        "theta,dtheta,dphi,dOmega= 70.0 0.0349065850399 0.0698131700798 0.00228997393229\n",
        "norm= 45442242.7124\n",
        "theta,dtheta,dphi,dOmega= 72.0 0.0349065850399 0.0698131700798 0.00231766705652\n",
        "norm= 45991785.0696\n",
        "theta,dtheta,dphi,dOmega= 74.0 0.0349065850399 0.0698131700798 0.00234253646045\n",
        "norm= 46485293.5212\n",
        "theta,dtheta,dphi,dOmega= 76.0 0.0349065850399 0.0698131700798 0.00236455184455\n",
        "norm= 46922166.8032\n",
        "theta,dtheta,dphi,dOmega= 78.0 0.0349065850399 0.0698131700798 0.00238368638645\n",
        "norm= 47301872.6527\n",
        "binnum="
       ]
      },
      {
       "output_type": "stream",
       "stream": "stderr",
       "text": [
        "INFO:ROOT.TCanvas.Print] png file /data/trivedia/e1f/elastic/delast/obs/displays/phibin3/c_ST_SR_SC.png has been created\n"
       ]
      },
      {
       "output_type": "stream",
       "stream": "stdout",
       "text": [
        " 3\n",
        "binnum= 3\n",
        "binnum= 3\n",
        "binnum= 3\n",
        "binnum= 3\n",
        "[535.0714680080977, 470.0999797186145]"
       ]
      },
      {
       "output_type": "stream",
       "stream": "stderr",
       "text": [
        "INFO:ROOT.TCanvas.Print] png file /data/trivedia/e1f/elastic/delast/obs/displays/phibin3/c_ER_SR.png has been created\n"
       ]
      },
      {
       "output_type": "stream",
       "stream": "stdout",
       "text": [
        " 535.071468008\n",
        "[444.5750900382558, 559.794666533497]"
       ]
      },
      {
       "output_type": "stream",
       "stream": "stderr",
       "text": [
        "INFO:ROOT.TCanvas.Print] png file /data/trivedia/e1f/elastic/delast/obs/displays/phibin3/c_EC_SC.png has been created\n"
       ]
      },
      {
       "output_type": "stream",
       "stream": "stdout",
       "text": [
        " 559.794666533\n",
        "theta,dtheta,dphi,dOmega="
       ]
      },
      {
       "output_type": "stream",
       "stream": "stderr",
       "text": [
        "INFO:ROOT.TCanvas.Print] png file /data/trivedia/e1f/elastic/delast/obs/displays/phibin3/c_EC_lumnorm.png has been created\n"
       ]
      },
      {
       "output_type": "stream",
       "stream": "stdout",
       "text": [
        " 2.0 0.0349065850399 0.0698131700798 8.5047957099e-05\n",
        "norm= 1687691.66067\n",
        "theta,dtheta,dphi,dOmega= 4.0 0.0349065850399 0.0698131700798 0.000169992296363\n",
        "norm= 3373327.12902\n",
        "theta,dtheta,dphi,dOmega= 6.0 0.0349065850399 0.0698131700798 0.000254729526199\n",
        "norm= 5054852.71789\n",
        "theta,dtheta,dphi,dOmega= 8.0 0.0349065850399 0.0698131700798 0.000339156407345\n",
        "norm= 6730219.74736\n",
        "theta,dtheta,dphi,dOmega= 10.0 0.0349065850399 0.0698131700798 0.000423170078653\n",
        "norm= 8397387.04078\n",
        "theta,dtheta,dphi,dOmega= 12.0 0.0349065850399 0.0698131700798 0.000506668182403\n",
        "norm= 10054323.4116\n",
        "theta,dtheta,dphi,dOmega= 14.0 0.0349065850399 0.0698131700798 0.00058954898902\n",
        "norm= 11699010.1381\n",
        "theta,dtheta,dphi,dOmega= 16.0 0.0349065850399 0.0698131700798 0.000671711521006\n",
        "norm= 13329443.4229\n",
        "theta,dtheta,dphi,dOmega= 18.0 0.0349065850399 0.0698131700798 0.000753055675974\n",
        "norm= 14943636.834\n",
        "theta,dtheta,dphi,dOmega= 20.0 0.0349065850399 0.0698131700798 0.0008334823486\n",
        "norm= 16539623.7256\n",
        "theta,dtheta,dphi,dOmega= 22.0 0.0349065850399 0.0698131700798 0.000912893551372\n",
        "norm= 18115459.6334\n",
        "theta,dtheta,dphi,dOmega= 24.0 0.0349065850399 0.0698131700798 0.000991192533972\n",
        "norm= 19669224.6441\n",
        "theta,dtheta,dphi,dOmega= 26.0 0.0349065850399 0.0698131700798 0.00106828390115\n",
        "norm= 21199025.7344\n",
        "theta,dtheta,dphi,dOmega= 28.0 0.0349065850399 0.0698131700798 0.00114407372895\n",
        "norm= 22702999.0773\n",
        "theta,dtheta,dphi,dOmega= 30.0 0.0349065850399 0.0698131700798 0.00121846967915\n",
        "norm= 24179312.313\n",
        "theta,dtheta,dphi,dOmega= 32.0 0.0349065850399 0.0698131700798 0.00129138111173\n",
        "norm= 25626166.7811\n",
        "theta,dtheta,dphi,dOmega= 34.0 0.0349065850399 0.0698131700798 0.00136271919535\n",
        "norm= 27041799.7125\n",
        "theta,dtheta,dphi,dOmega= 36.0 0.0349065850399 0.0698131700798 0.00143239701554\n",
        "norm= 28424486.3763\n",
        "theta,dtheta,dphi,dOmega= 38.0 0.0349065850399 0.0698131700798 0.00150032968061\n",
        "norm= 29772542.182\n",
        "theta,dtheta,dphi,dOmega= 40.0 0.0349065850399 0.0698131700798 0.00156643442507\n",
        "norm= 31084324.7311\n",
        "theta,dtheta,dphi,dOmega= 42.0 0.0349065850399 0.0698131700798 0.00163063071047\n",
        "norm= 32358235.8187\n",
        "theta,dtheta,dphi,dOmega= 44.0 0.0349065850399 0.0698131700798 0.00169284032354\n",
        "norm= 33592723.3803\n",
        "theta,dtheta,dphi,dOmega= 46.0 0.0349065850399 0.0698131700798 0.00175298747143\n",
        "norm= 34786283.3831\n",
        "theta,dtheta,dphi,dOmega= 48.0 0.0349065850399 0.0698131700798 0.00181099887412\n",
        "norm= 35937461.658\n",
        "theta,dtheta,dphi,dOmega= 50.0 0.0349065850399 0.0698131700798 0.00186680385364\n",
        "norm= 37044855.6716\n",
        "theta,dtheta,dphi,dOmega= 52.0 0.0349065850399 0.0698131700798 0.00192033442022\n",
        "norm= 38107116.2349\n",
        "theta,dtheta,dphi,dOmega= 54.0 0.0349065850399 0.0698131700798 0.00197152535512\n",
        "norm= 39122949.147\n",
        "theta,dtheta,dphi,dOmega= 56.0 0.0349065850399 0.0698131700798 0.00202031429006\n",
        "norm= 40091116.772\n",
        "theta,dtheta,dphi,dOmega= 58.0 0.0349065850399 0.0698131700798 0.00206664178325\n",
        "norm= 41010439.5468\n",
        "theta,dtheta,dphi,dOmega= 60.0 0.0349065850399 0.0698131700798 0.00211045139176\n",
        "norm= 41879797.4182\n",
        "theta,dtheta,dphi,dOmega= 62.0 0.0349065850399 0.0698131700798 0.00215168974035\n",
        "norm= 42698131.2075\n",
        "theta,dtheta,dphi,dOmega= 64.0 0.0349065850399 0.0698131700798 0.00219030658643\n",
        "norm= 43464443.901\n",
        "theta,dtheta,dphi,dOmega= 66.0 0.0349065850399 0.0698131700798 0.00222625488132\n",
        "norm= 44177801.8649\n",
        "theta,dtheta,dphi,dOmega= 68.0 0.0349065850399 0.0698131700798 0.00225949082757\n",
        "norm= 44837335.9823\n",
        "theta,dtheta,dphi,dOmega= 70.0 0.0349065850399 0.0698131700798 0.00228997393229\n",
        "norm= 45442242.7124\n",
        "theta,dtheta,dphi,dOmega= 72.0 0.0349065850399 0.0698131700798 0.00231766705652\n",
        "norm= 45991785.0696\n",
        "theta,dtheta,dphi,dOmega= 74.0 0.0349065850399 0.0698131700798 0.00234253646045\n",
        "norm= 46485293.5212\n",
        "theta,dtheta,dphi,dOmega= 76.0 0.0349065850399 0.0698131700798 0.00236455184455\n",
        "norm= 46922166.8032\n",
        "theta,dtheta,dphi,dOmega= 78.0 0.0349065850399 0.0698131700798 0.00238368638645\n",
        "norm= 47301872.6527\n",
        "binnum="
       ]
      },
      {
       "output_type": "stream",
       "stream": "stderr",
       "text": [
        "INFO:ROOT.TCanvas.Print] png file /data/trivedia/e1f/elastic/delast/obs/displays/phibin4/c_ST_SR_SC.png has been created\n"
       ]
      },
      {
       "output_type": "stream",
       "stream": "stdout",
       "text": [
        " 4\n",
        "binnum= 4\n",
        "binnum= 4\n",
        "binnum= 4\n",
        "binnum= 4\n",
        "[507.68123684813065, 464.040405577065]"
       ]
      },
      {
       "output_type": "stream",
       "stream": "stderr",
       "text": [
        "INFO:ROOT.TCanvas.Print] png file /data/trivedia/e1f/elastic/delast/obs/displays/phibin4/c_ER_SR.png has been created\n"
       ]
      },
      {
       "output_type": "stream",
       "stream": "stdout",
       "text": [
        " 507.681236848\n",
        "[484.36650169585124, 561.1124038479135]"
       ]
      },
      {
       "output_type": "stream",
       "stream": "stderr",
       "text": [
        "INFO:ROOT.TCanvas.Print] png file /data/trivedia/e1f/elastic/delast/obs/displays/phibin4/c_EC_SC.png has been created\n"
       ]
      },
      {
       "output_type": "stream",
       "stream": "stdout",
       "text": [
        " 561.112403848\n",
        "theta,dtheta,dphi,dOmega="
       ]
      },
      {
       "output_type": "stream",
       "stream": "stderr",
       "text": [
        "INFO:ROOT.TCanvas.Print] png file /data/trivedia/e1f/elastic/delast/obs/displays/phibin4/c_EC_lumnorm.png has been created\n"
       ]
      },
      {
       "output_type": "stream",
       "stream": "stdout",
       "text": [
        " 2.0 0.0349065850399 0.0698131700798 8.5047957099e-05\n",
        "norm= 1687691.66067\n",
        "theta,dtheta,dphi,dOmega= 4.0 0.0349065850399 0.0698131700798 0.000169992296363\n",
        "norm= 3373327.12902\n",
        "theta,dtheta,dphi,dOmega= 6.0 0.0349065850399 0.0698131700798 0.000254729526199\n",
        "norm= 5054852.71789\n",
        "theta,dtheta,dphi,dOmega= 8.0 0.0349065850399 0.0698131700798 0.000339156407345\n",
        "norm= 6730219.74736\n",
        "theta,dtheta,dphi,dOmega= 10.0 0.0349065850399 0.0698131700798 0.000423170078653\n",
        "norm= 8397387.04078\n",
        "theta,dtheta,dphi,dOmega= 12.0 0.0349065850399 0.0698131700798 0.000506668182403\n",
        "norm= 10054323.4116\n",
        "theta,dtheta,dphi,dOmega= 14.0 0.0349065850399 0.0698131700798 0.00058954898902\n",
        "norm= 11699010.1381\n",
        "theta,dtheta,dphi,dOmega= 16.0 0.0349065850399 0.0698131700798 0.000671711521006\n",
        "norm= 13329443.4229\n",
        "theta,dtheta,dphi,dOmega= 18.0 0.0349065850399 0.0698131700798 0.000753055675974\n",
        "norm= 14943636.834\n",
        "theta,dtheta,dphi,dOmega= 20.0 0.0349065850399 0.0698131700798 0.0008334823486\n",
        "norm= 16539623.7256\n",
        "theta,dtheta,dphi,dOmega= 22.0 0.0349065850399 0.0698131700798 0.000912893551372\n",
        "norm= 18115459.6334\n",
        "theta,dtheta,dphi,dOmega= 24.0 0.0349065850399 0.0698131700798 0.000991192533972\n",
        "norm= 19669224.6441\n",
        "theta,dtheta,dphi,dOmega= 26.0 0.0349065850399 0.0698131700798 0.00106828390115\n",
        "norm= 21199025.7344\n",
        "theta,dtheta,dphi,dOmega= 28.0 0.0349065850399 0.0698131700798 0.00114407372895\n",
        "norm= 22702999.0773\n",
        "theta,dtheta,dphi,dOmega= 30.0 0.0349065850399 0.0698131700798 0.00121846967915\n",
        "norm= 24179312.313\n",
        "theta,dtheta,dphi,dOmega= 32.0 0.0349065850399 0.0698131700798 0.00129138111173\n",
        "norm= 25626166.7811\n",
        "theta,dtheta,dphi,dOmega= 34.0 0.0349065850399 0.0698131700798 0.00136271919535\n",
        "norm= 27041799.7125\n",
        "theta,dtheta,dphi,dOmega= 36.0 0.0349065850399 0.0698131700798 0.00143239701554\n",
        "norm= 28424486.3763\n",
        "theta,dtheta,dphi,dOmega= 38.0 0.0349065850399 0.0698131700798 0.00150032968061\n",
        "norm= 29772542.182\n",
        "theta,dtheta,dphi,dOmega= 40.0 0.0349065850399 0.0698131700798 0.00156643442507\n",
        "norm= 31084324.7311\n",
        "theta,dtheta,dphi,dOmega= 42.0 0.0349065850399 0.0698131700798 0.00163063071047\n",
        "norm= 32358235.8187\n",
        "theta,dtheta,dphi,dOmega= 44.0 0.0349065850399 0.0698131700798 0.00169284032354\n",
        "norm= 33592723.3803\n",
        "theta,dtheta,dphi,dOmega= 46.0 0.0349065850399 0.0698131700798 0.00175298747143\n",
        "norm= 34786283.3831\n",
        "theta,dtheta,dphi,dOmega= 48.0 0.0349065850399 0.0698131700798 0.00181099887412\n",
        "norm= 35937461.658\n",
        "theta,dtheta,dphi,dOmega= 50.0 0.0349065850399 0.0698131700798 0.00186680385364\n",
        "norm= 37044855.6716\n",
        "theta,dtheta,dphi,dOmega= 52.0 0.0349065850399 0.0698131700798 0.00192033442022\n",
        "norm= 38107116.2349\n",
        "theta,dtheta,dphi,dOmega= 54.0 0.0349065850399 0.0698131700798 0.00197152535512\n",
        "norm= 39122949.147\n",
        "theta,dtheta,dphi,dOmega= 56.0 0.0349065850399 0.0698131700798 0.00202031429006\n",
        "norm= 40091116.772\n",
        "theta,dtheta,dphi,dOmega= 58.0 0.0349065850399 0.0698131700798 0.00206664178325\n",
        "norm= 41010439.5468\n",
        "theta,dtheta,dphi,dOmega= 60.0 0.0349065850399 0.0698131700798 0.00211045139176\n",
        "norm= 41879797.4182\n",
        "theta,dtheta,dphi,dOmega= 62.0 0.0349065850399 0.0698131700798 0.00215168974035\n",
        "norm= 42698131.2075\n",
        "theta,dtheta,dphi,dOmega= 64.0 0.0349065850399 0.0698131700798 0.00219030658643\n",
        "norm= 43464443.901\n",
        "theta,dtheta,dphi,dOmega= 66.0 0.0349065850399 0.0698131700798 0.00222625488132\n",
        "norm= 44177801.8649\n",
        "theta,dtheta,dphi,dOmega= 68.0 0.0349065850399 0.0698131700798 0.00225949082757\n",
        "norm= 44837335.9823\n",
        "theta,dtheta,dphi,dOmega= 70.0 0.0349065850399 0.0698131700798 0.00228997393229\n",
        "norm= 45442242.7124\n",
        "theta,dtheta,dphi,dOmega= 72.0 0.0349065850399 0.0698131700798 0.00231766705652\n",
        "norm= 45991785.0696\n",
        "theta,dtheta,dphi,dOmega= 74.0 0.0349065850399 0.0698131700798 0.00234253646045\n",
        "norm= 46485293.5212\n",
        "theta,dtheta,dphi,dOmega= 76.0 0.0349065850399 0.0698131700798 0.00236455184455\n",
        "norm= 46922166.8032\n",
        "theta,dtheta,dphi,dOmega= 78.0 0.0349065850399 0.0698131700798 0.00238368638645\n",
        "norm= 47301872.6527\n",
        "binnum="
       ]
      },
      {
       "output_type": "stream",
       "stream": "stderr",
       "text": [
        "INFO:ROOT.TCanvas.Print] png file /data/trivedia/e1f/elastic/delast/obs/displays/phibin5/c_ST_SR_SC.png has been created\n"
       ]
      },
      {
       "output_type": "stream",
       "stream": "stdout",
       "text": [
        " 5\n",
        "binnum= 5\n",
        "binnum= 5\n",
        "binnum= 5\n",
        "binnum= 5\n",
        "[515.4919583727531, 538.6064366379502]"
       ]
      },
      {
       "output_type": "stream",
       "stream": "stderr",
       "text": [
        "INFO:ROOT.TCanvas.Print] png file /data/trivedia/e1f/elastic/delast/obs/displays/phibin5/c_ER_SR.png has been created\n"
       ]
      },
      {
       "output_type": "stream",
       "stream": "stdout",
       "text": [
        " 538.606436638\n",
        "[393.41148725064613, 558.9936756795025]"
       ]
      },
      {
       "output_type": "stream",
       "stream": "stderr",
       "text": [
        "INFO:ROOT.TCanvas.Print] png file /data/trivedia/e1f/elastic/delast/obs/displays/phibin5/c_EC_SC.png has been created\n"
       ]
      },
      {
       "output_type": "stream",
       "stream": "stdout",
       "text": [
        " 558.99367568\n",
        "theta,dtheta,dphi,dOmega="
       ]
      },
      {
       "output_type": "stream",
       "stream": "stderr",
       "text": [
        "INFO:ROOT.TCanvas.Print] png file /data/trivedia/e1f/elastic/delast/obs/displays/phibin5/c_EC_lumnorm.png has been created\n"
       ]
      },
      {
       "output_type": "stream",
       "stream": "stdout",
       "text": [
        " 2.0 0.0349065850399 0.0698131700798 8.5047957099e-05\n",
        "norm= 1687691.66067\n",
        "theta,dtheta,dphi,dOmega= 4.0 0.0349065850399 0.0698131700798 0.000169992296363\n",
        "norm= 3373327.12902\n",
        "theta,dtheta,dphi,dOmega= 6.0 0.0349065850399 0.0698131700798 0.000254729526199\n",
        "norm= 5054852.71789\n",
        "theta,dtheta,dphi,dOmega= 8.0 0.0349065850399 0.0698131700798 0.000339156407345\n",
        "norm= 6730219.74736\n",
        "theta,dtheta,dphi,dOmega= 10.0 0.0349065850399 0.0698131700798 0.000423170078653\n",
        "norm= 8397387.04078\n",
        "theta,dtheta,dphi,dOmega= 12.0 0.0349065850399 0.0698131700798 0.000506668182403\n",
        "norm= 10054323.4116\n",
        "theta,dtheta,dphi,dOmega= 14.0 0.0349065850399 0.0698131700798 0.00058954898902\n",
        "norm= 11699010.1381\n",
        "theta,dtheta,dphi,dOmega= 16.0 0.0349065850399 0.0698131700798 0.000671711521006\n",
        "norm= 13329443.4229\n",
        "theta,dtheta,dphi,dOmega= 18.0 0.0349065850399 0.0698131700798 0.000753055675974\n",
        "norm= 14943636.834\n",
        "theta,dtheta,dphi,dOmega= 20.0 0.0349065850399 0.0698131700798 0.0008334823486\n",
        "norm= 16539623.7256\n",
        "theta,dtheta,dphi,dOmega= 22.0 0.0349065850399 0.0698131700798 0.000912893551372\n",
        "norm= 18115459.6334\n",
        "theta,dtheta,dphi,dOmega= 24.0 0.0349065850399 0.0698131700798 0.000991192533972\n",
        "norm= 19669224.6441\n",
        "theta,dtheta,dphi,dOmega= 26.0 0.0349065850399 0.0698131700798 0.00106828390115\n",
        "norm= 21199025.7344\n",
        "theta,dtheta,dphi,dOmega= 28.0 0.0349065850399 0.0698131700798 0.00114407372895\n",
        "norm= 22702999.0773\n",
        "theta,dtheta,dphi,dOmega= 30.0 0.0349065850399 0.0698131700798 0.00121846967915\n",
        "norm= 24179312.313\n",
        "theta,dtheta,dphi,dOmega= 32.0 0.0349065850399 0.0698131700798 0.00129138111173\n",
        "norm= 25626166.7811\n",
        "theta,dtheta,dphi,dOmega= 34.0 0.0349065850399 0.0698131700798 0.00136271919535\n",
        "norm= 27041799.7125\n",
        "theta,dtheta,dphi,dOmega= 36.0 0.0349065850399 0.0698131700798 0.00143239701554\n",
        "norm= 28424486.3763\n",
        "theta,dtheta,dphi,dOmega= 38.0 0.0349065850399 0.0698131700798 0.00150032968061\n",
        "norm= 29772542.182\n",
        "theta,dtheta,dphi,dOmega= 40.0 0.0349065850399 0.0698131700798 0.00156643442507\n",
        "norm= 31084324.7311\n",
        "theta,dtheta,dphi,dOmega= 42.0 0.0349065850399 0.0698131700798 0.00163063071047\n",
        "norm= 32358235.8187\n",
        "theta,dtheta,dphi,dOmega= 44.0 0.0349065850399 0.0698131700798 0.00169284032354\n",
        "norm= 33592723.3803\n",
        "theta,dtheta,dphi,dOmega= 46.0 0.0349065850399 0.0698131700798 0.00175298747143\n",
        "norm= 34786283.3831\n",
        "theta,dtheta,dphi,dOmega= 48.0 0.0349065850399 0.0698131700798 0.00181099887412\n",
        "norm= 35937461.658\n",
        "theta,dtheta,dphi,dOmega= 50.0 0.0349065850399 0.0698131700798 0.00186680385364\n",
        "norm= 37044855.6716\n",
        "theta,dtheta,dphi,dOmega= 52.0 0.0349065850399 0.0698131700798 0.00192033442022\n",
        "norm= 38107116.2349\n",
        "theta,dtheta,dphi,dOmega= 54.0 0.0349065850399 0.0698131700798 0.00197152535512\n",
        "norm= 39122949.147\n",
        "theta,dtheta,dphi,dOmega= 56.0 0.0349065850399 0.0698131700798 0.00202031429006\n",
        "norm= 40091116.772\n",
        "theta,dtheta,dphi,dOmega= 58.0 0.0349065850399 0.0698131700798 0.00206664178325\n",
        "norm= 41010439.5468\n",
        "theta,dtheta,dphi,dOmega= 60.0 0.0349065850399 0.0698131700798 0.00211045139176\n",
        "norm= 41879797.4182\n",
        "theta,dtheta,dphi,dOmega= 62.0 0.0349065850399 0.0698131700798 0.00215168974035\n",
        "norm= 42698131.2075\n",
        "theta,dtheta,dphi,dOmega= 64.0 0.0349065850399 0.0698131700798 0.00219030658643\n",
        "norm= 43464443.901\n",
        "theta,dtheta,dphi,dOmega= 66.0 0.0349065850399 0.0698131700798 0.00222625488132\n",
        "norm= 44177801.8649\n",
        "theta,dtheta,dphi,dOmega= 68.0 0.0349065850399 0.0698131700798 0.00225949082757\n",
        "norm= 44837335.9823\n",
        "theta,dtheta,dphi,dOmega= 70.0 0.0349065850399 0.0698131700798 0.00228997393229\n",
        "norm= 45442242.7124\n",
        "theta,dtheta,dphi,dOmega= 72.0 0.0349065850399 0.0698131700798 0.00231766705652\n",
        "norm= 45991785.0696\n",
        "theta,dtheta,dphi,dOmega= 74.0 0.0349065850399 0.0698131700798 0.00234253646045\n",
        "norm= 46485293.5212\n",
        "theta,dtheta,dphi,dOmega= 76.0 0.0349065850399 0.0698131700798 0.00236455184455\n",
        "norm= 46922166.8032\n",
        "theta,dtheta,dphi,dOmega= 78.0 0.0349065850399 0.0698131700798 0.00238368638645\n",
        "norm= 47301872.6527\n",
        "binnum="
       ]
      },
      {
       "output_type": "stream",
       "stream": "stderr",
       "text": [
        "INFO:ROOT.TCanvas.Print] png file /data/trivedia/e1f/elastic/delast/obs/displays/phibin6/c_ST_SR_SC.png has been created\n"
       ]
      },
      {
       "output_type": "stream",
       "stream": "stdout",
       "text": [
        " 6\n",
        "binnum= 6\n",
        "binnum= 6\n",
        "binnum= 6\n",
        "binnum= 6\n",
        "[516.9285437259567, 434.5197505197505]"
       ]
      },
      {
       "output_type": "stream",
       "stream": "stderr",
       "text": [
        "INFO:ROOT.TCanvas.Print] png file /data/trivedia/e1f/elastic/delast/obs/displays/phibin6/c_ER_SR.png has been created\n"
       ]
      },
      {
       "output_type": "stream",
       "stream": "stdout",
       "text": [
        " 516.928543726\n",
        "[468.3326136649107, 560.5933042231505]"
       ]
      },
      {
       "output_type": "stream",
       "stream": "stderr",
       "text": [
        "INFO:ROOT.TCanvas.Print] png file /data/trivedia/e1f/elastic/delast/obs/displays/phibin6/c_EC_SC.png has been created\n"
       ]
      },
      {
       "output_type": "stream",
       "stream": "stdout",
       "text": [
        " 560.593304223\n",
        "theta,dtheta,dphi,dOmega="
       ]
      },
      {
       "output_type": "stream",
       "stream": "stderr",
       "text": [
        "INFO:ROOT.TCanvas.Print] png file /data/trivedia/e1f/elastic/delast/obs/displays/phibin6/c_EC_lumnorm.png has been created\n"
       ]
      },
      {
       "output_type": "stream",
       "stream": "stdout",
       "text": [
        " 2.0 0.0349065850399 0.0698131700798 8.5047957099e-05\n",
        "norm= 1687691.66067\n",
        "theta,dtheta,dphi,dOmega= 4.0 0.0349065850399 0.0698131700798 0.000169992296363\n",
        "norm= 3373327.12902\n",
        "theta,dtheta,dphi,dOmega= 6.0 0.0349065850399 0.0698131700798 0.000254729526199\n",
        "norm= 5054852.71789\n",
        "theta,dtheta,dphi,dOmega= 8.0 0.0349065850399 0.0698131700798 0.000339156407345\n",
        "norm= 6730219.74736\n",
        "theta,dtheta,dphi,dOmega= 10.0 0.0349065850399 0.0698131700798 0.000423170078653\n",
        "norm= 8397387.04078\n",
        "theta,dtheta,dphi,dOmega= 12.0 0.0349065850399 0.0698131700798 0.000506668182403\n",
        "norm= 10054323.4116\n",
        "theta,dtheta,dphi,dOmega= 14.0 0.0349065850399 0.0698131700798 0.00058954898902\n",
        "norm= 11699010.1381\n",
        "theta,dtheta,dphi,dOmega= 16.0 0.0349065850399 0.0698131700798 0.000671711521006\n",
        "norm= 13329443.4229\n",
        "theta,dtheta,dphi,dOmega= 18.0 0.0349065850399 0.0698131700798 0.000753055675974\n",
        "norm= 14943636.834\n",
        "theta,dtheta,dphi,dOmega= 20.0 0.0349065850399 0.0698131700798 0.0008334823486\n",
        "norm= 16539623.7256\n",
        "theta,dtheta,dphi,dOmega= 22.0 0.0349065850399 0.0698131700798 0.000912893551372\n",
        "norm= 18115459.6334\n",
        "theta,dtheta,dphi,dOmega= 24.0 0.0349065850399 0.0698131700798 0.000991192533972\n",
        "norm= 19669224.6441\n",
        "theta,dtheta,dphi,dOmega= 26.0 0.0349065850399 0.0698131700798 0.00106828390115\n",
        "norm= 21199025.7344\n",
        "theta,dtheta,dphi,dOmega= 28.0 0.0349065850399 0.0698131700798 0.00114407372895\n",
        "norm= 22702999.0773\n",
        "theta,dtheta,dphi,dOmega= 30.0 0.0349065850399 0.0698131700798 0.00121846967915\n",
        "norm= 24179312.313\n",
        "theta,dtheta,dphi,dOmega= 32.0 0.0349065850399 0.0698131700798 0.00129138111173\n",
        "norm= 25626166.7811\n",
        "theta,dtheta,dphi,dOmega= 34.0 0.0349065850399 0.0698131700798 0.00136271919535\n",
        "norm= 27041799.7125\n",
        "theta,dtheta,dphi,dOmega= 36.0 0.0349065850399 0.0698131700798 0.00143239701554\n",
        "norm= 28424486.3763\n",
        "theta,dtheta,dphi,dOmega= 38.0 0.0349065850399 0.0698131700798 0.00150032968061\n",
        "norm= 29772542.182\n",
        "theta,dtheta,dphi,dOmega= 40.0 0.0349065850399 0.0698131700798 0.00156643442507\n",
        "norm= 31084324.7311\n",
        "theta,dtheta,dphi,dOmega= 42.0 0.0349065850399 0.0698131700798 0.00163063071047\n",
        "norm= 32358235.8187\n",
        "theta,dtheta,dphi,dOmega= 44.0 0.0349065850399 0.0698131700798 0.00169284032354\n",
        "norm= 33592723.3803\n",
        "theta,dtheta,dphi,dOmega= 46.0 0.0349065850399 0.0698131700798 0.00175298747143\n",
        "norm= 34786283.3831\n",
        "theta,dtheta,dphi,dOmega= 48.0 0.0349065850399 0.0698131700798 0.00181099887412\n",
        "norm= 35937461.658\n",
        "theta,dtheta,dphi,dOmega= 50.0 0.0349065850399 0.0698131700798 0.00186680385364\n",
        "norm= 37044855.6716\n",
        "theta,dtheta,dphi,dOmega= 52.0 0.0349065850399 0.0698131700798 0.00192033442022\n",
        "norm= 38107116.2349\n",
        "theta,dtheta,dphi,dOmega= 54.0 0.0349065850399 0.0698131700798 0.00197152535512\n",
        "norm= 39122949.147\n",
        "theta,dtheta,dphi,dOmega= 56.0 0.0349065850399 0.0698131700798 0.00202031429006\n",
        "norm= 40091116.772\n",
        "theta,dtheta,dphi,dOmega= 58.0 0.0349065850399 0.0698131700798 0.00206664178325\n",
        "norm= 41010439.5468\n",
        "theta,dtheta,dphi,dOmega= 60.0 0.0349065850399 0.0698131700798 0.00211045139176\n",
        "norm= 41879797.4182\n",
        "theta,dtheta,dphi,dOmega= 62.0 0.0349065850399 0.0698131700798 0.00215168974035\n",
        "norm= 42698131.2075\n",
        "theta,dtheta,dphi,dOmega= 64.0 0.0349065850399 0.0698131700798 0.00219030658643\n",
        "norm= 43464443.901\n",
        "theta,dtheta,dphi,dOmega= 66.0 0.0349065850399 0.0698131700798 0.00222625488132\n",
        "norm= 44177801.8649\n",
        "theta,dtheta,dphi,dOmega= 68.0 0.0349065850399 0.0698131700798 0.00225949082757\n",
        "norm= 44837335.9823\n",
        "theta,dtheta,dphi,dOmega= 70.0 0.0349065850399 0.0698131700798 0.00228997393229\n",
        "norm= 45442242.7124\n",
        "theta,dtheta,dphi,dOmega= 72.0 0.0349065850399 0.0698131700798 0.00231766705652\n",
        "norm= 45991785.0696\n",
        "theta,dtheta,dphi,dOmega= 74.0 0.0349065850399 0.0698131700798 0.00234253646045\n",
        "norm= 46485293.5212\n",
        "theta,dtheta,dphi,dOmega= 76.0 0.0349065850399 0.0698131700798 0.00236455184455\n",
        "norm= 46922166.8032\n",
        "theta,dtheta,dphi,dOmega= 78.0 0.0349065850399 0.0698131700798 0.00238368638645\n",
        "norm= 47301872.6527\n"
       ]
      }
     ],
     "prompt_number": 32
    },
    {
     "cell_type": "code",
     "collapsed": false,
     "input": [
      "print 2*math.pi/180\n",
      "print 4*math.pi/180"
     ],
     "language": "python",
     "metadata": {},
     "outputs": [
      {
       "output_type": "stream",
       "stream": "stdout",
       "text": [
        "0.0349065850399\n",
        "0.0698131700798\n"
       ]
      }
     ],
     "prompt_number": 31
    },
    {
     "cell_type": "code",
     "collapsed": false,
     "input": [
      "VARS=['THETA','PHI']\n",
      "H2_DIM=OrderedDict([('THETA',0),('PHI',1)])"
     ],
     "language": "python",
     "metadata": {},
     "outputs": [],
     "prompt_number": 10
    },
    {
     "cell_type": "code",
     "collapsed": false,
     "input": [
      "for var in VARS:\n",
      "    print H2_DIM[var]"
     ],
     "language": "python",
     "metadata": {},
     "outputs": [
      {
       "output_type": "stream",
       "stream": "stdout",
       "text": [
        "0\n",
        "1\n"
       ]
      }
     ],
     "prompt_number": 11
    },
    {
     "cell_type": "code",
     "collapsed": false,
     "input": [],
     "language": "python",
     "metadata": {},
     "outputs": []
    }
   ],
   "metadata": {}
  }
 ]
}