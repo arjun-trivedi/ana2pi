{
 "metadata": {
  "name": ""
 },
 "nbformat": 3,
 "nbformat_minor": 0,
 "worksheets": [
  {
   "cells": [
    {
     "cell_type": "code",
     "collapsed": false,
     "input": [
      "from study_elastic_tools import StudyElasticTools"
     ],
     "language": "python",
     "metadata": {},
     "outputs": [],
     "prompt_number": 1
    },
    {
     "cell_type": "code",
     "collapsed": false,
     "input": [
      "#\n",
      "t=StudyElasticTools(theta_min=14)\n",
      "t.proc_yield()"
     ],
     "language": "python",
     "metadata": {},
     "outputs": [
      {
       "output_type": "stream",
       "stream": "stderr",
       "text": [
        "INFO:rootpy.logger] | No default log handler configured. See `logging` module |\n"
       ]
      },
      {
       "output_type": "stream",
       "stream": "stderr",
       "text": [
        "INFO:rootpy.logger] \\    To suppress: 'rootpy.log.basic_config_colorized()'   /\n"
       ]
      },
      {
       "output_type": "stream",
       "stream": "stderr",
       "text": [
        "WARNING:ROOT.THnSparseT<TArrayF>.Divide(h)] Histogram h has empty bins - division by zero! Setting bin to 0.\n"
       ]
      },
      {
       "output_type": "stream",
       "stream": "stdout",
       "text": [
        "[[354, 356], [356, 358], [358, 360], [0, 2], [2, 4], [4, 6]]\n",
        "[354, 356]\n",
        "sector:phibinnum:phibin:phi_min:phi_max= 1 1 [354, 356] 354 356\n",
        "[356, 358]\n",
        "sector:phibinnum:phibin:phi_min:phi_max= 1 2 [356, 358] 356 358\n",
        "[358, 360]\n",
        "sector:phibinnum:phibin:phi_min:phi_max= 1 3 [358, 360] 358 360\n",
        "[0, 2]\n",
        "sector:phibinnum:phibin:phi_min:phi_max= 1 4 [0, 2] 0 2\n",
        "[2, 4]\n",
        "sector:phibinnum:phibin:phi_min:phi_max= 1 5 [2, 4] 2 4\n",
        "[4, 6]\n",
        "sector:phibinnum:phibin:phi_min:phi_max= 1 6 [4, 6] 4 6\n",
        "[[54, 56], [56, 58], [58, 60], [60, 62], [62, 64], [64, 66]]\n",
        "[54, 56]\n",
        "sector:phibinnum:phibin:phi_min:phi_max= 2 1 [54, 56] 54 56\n",
        "[56, 58]\n",
        "sector:phibinnum:phibin:phi_min:phi_max= 2 2 [56, 58] 56 58\n",
        "[58, 60]\n",
        "sector:phibinnum:phibin:phi_min:phi_max= 2 3 [58, 60] 58 60\n",
        "[60, 62]\n",
        "sector:phibinnum:phibin:phi_min:phi_max= 2 4 [60, 62] 60 62\n",
        "[62, 64]\n",
        "sector:phibinnum:phibin:phi_min:phi_max= 2 5 [62, 64] 62 64\n",
        "[64, 66]\n",
        "sector:phibinnum:phibin:phi_min:phi_max= 2 6 [64, 66] 64 66\n",
        "[[114, 116], [116, 118], [118, 120], [120, 122], [122, 124], [124, 126]]\n",
        "[114, 116]\n",
        "sector:phibinnum:phibin:phi_min:phi_max= 3 1 [114, 116] 114 116\n",
        "[116, 118]\n",
        "sector:phibinnum:phibin:phi_min:phi_max= 3 2 [116, 118] 116 118\n",
        "[118, 120]\n",
        "sector:phibinnum:phibin:phi_min:phi_max= 3 3 [118, 120] 118 120\n",
        "[120, 122]\n",
        "sector:phibinnum:phibin:phi_min:phi_max= 3 4 [120, 122] 120 122\n",
        "[122, 124]\n",
        "sector:phibinnum:phibin:phi_min:phi_max= 3 5 [122, 124] 122 124\n",
        "[124, 126]\n",
        "sector:phibinnum:phibin:phi_min:phi_max= 3 6 [124, 126] 124 126\n",
        "[[174, 176], [176, 178], [178, 180], [180, 182], [182, 184], [184, 186]]\n",
        "[174, 176]\n",
        "sector:phibinnum:phibin:phi_min:phi_max= 4 1 [174, 176] 174 176\n",
        "[176, 178]\n",
        "sector:phibinnum:phibin:phi_min:phi_max= 4 2 [176, 178] 176 178\n",
        "[178, 180]\n",
        "sector:phibinnum:phibin:phi_min:phi_max= 4 3 [178, 180] 178 180\n",
        "[180, 182]\n",
        "sector:phibinnum:phibin:phi_min:phi_max= 4 4 [180, 182] 180 182\n",
        "[182, 184]\n",
        "sector:phibinnum:phibin:phi_min:phi_max= 4 5 [182, 184] 182 184\n",
        "[184, 186]\n",
        "sector:phibinnum:phibin:phi_min:phi_max= 4 6 [184, 186] 184 186\n",
        "[[234, 236], [236, 238], [238, 240], [240, 242], [242, 244], [244, 246]]\n",
        "[234, 236]\n",
        "sector:phibinnum:phibin:phi_min:phi_max= 5 1 [234, 236] 234 236\n",
        "[236, 238]\n",
        "sector:phibinnum:phibin:phi_min:phi_max= 5 2 [236, 238] 236 238\n",
        "[238, 240]\n",
        "sector:phibinnum:phibin:phi_min:phi_max= 5 3 [238, 240] 238 240\n",
        "[240, 242]\n",
        "sector:phibinnum:phibin:phi_min:phi_max= 5 4 [240, 242] 240 242\n",
        "[242, 244]\n",
        "sector:phibinnum:phibin:phi_min:phi_max= 5 5 [242, 244] 242 244\n",
        "[244, 246]\n",
        "sector:phibinnum:phibin:phi_min:phi_max= 5 6 [244, 246] 244 246\n",
        "[[294, 296], [296, 298], [298, 300], [300, 302], [302, 304], [304, 306]]\n",
        "[294, 296]\n",
        "sector:phibinnum:phibin:phi_min:phi_max= 6 1 [294, 296] 294 296\n",
        "[296, 298]\n",
        "sector:phibinnum:phibin:phi_min:phi_max= 6 2 [296, 298] 296 298\n",
        "[298, 300]\n",
        "sector:phibinnum:phibin:phi_min:phi_max= 6 3 [298, 300] 298 300\n",
        "[300, 302]\n",
        "sector:phibinnum:phibin:phi_min:phi_max= 6 4 [300, 302] 300 302\n",
        "[302, 304]\n",
        "sector:phibinnum:phibin:phi_min:phi_max= 6 5 [302, 304] 302 304\n",
        "[304, 306]\n",
        "sector:phibinnum:phibin:phi_min:phi_max= 6 6 [304, 306] 304 306\n",
        "[[354, 356], [356, 358], [358, 360], [0, 2], [2, 4], [4, 6]]\n",
        "[354, 356]\n",
        "sector:phibinnum:phibin:phi_min:phi_max= 1 1 [354, 356] 354 356\n",
        "[356, 358]\n",
        "sector:phibinnum:phibin:phi_min:phi_max= 1 2 [356, 358] 356 358\n",
        "[358, 360]\n",
        "sector:phibinnum:phibin:phi_min:phi_max= 1 3 [358, 360] 358 360\n",
        "[0, 2]\n",
        "sector:phibinnum:phibin:phi_min:phi_max= 1 4 [0, 2] 0 2\n",
        "[2, 4]\n",
        "sector:phibinnum:phibin:phi_min:phi_max= 1 5 [2, 4] 2 4\n",
        "[4, 6]\n",
        "sector:phibinnum:phibin:phi_min:phi_max= 1 6 [4, 6] 4 6\n",
        "[[54, 56], [56, 58], [58, 60], [60, 62], [62, 64], [64, 66]]\n",
        "[54, 56]\n",
        "sector:phibinnum:phibin:phi_min:phi_max= 2 1 [54, 56] 54 56\n",
        "[56, 58]\n",
        "sector:phibinnum:phibin:phi_min:phi_max= 2 2 [56, 58] 56 58\n",
        "[58, 60]\n",
        "sector:phibinnum:phibin:phi_min:phi_max= 2 3 [58, 60] 58 60\n",
        "[60, 62]\n",
        "sector:phibinnum:phibin:phi_min:phi_max= 2 4 [60, 62] 60 62\n",
        "[62, 64]\n",
        "sector:phibinnum:phibin:phi_min:phi_max= 2 5 [62, 64] 62 64\n",
        "[64, 66]\n",
        "sector:phibinnum:phibin:phi_min:phi_max= 2 6 [64, 66] 64 66\n",
        "[[114, 116], [116, 118], [118, 120], [120, 122], [122, 124], [124, 126]]\n",
        "[114, 116]\n",
        "sector:phibinnum:phibin:phi_min:phi_max= 3 1 [114, 116] 114 116\n",
        "[116, 118]\n",
        "sector:phibinnum:phibin:phi_min:phi_max= 3 2 [116, 118] 116 118\n",
        "[118, 120]\n",
        "sector:phibinnum:phibin:phi_min:phi_max= 3 3 [118, 120] 118 120\n",
        "[120, 122]\n",
        "sector:phibinnum:phibin:phi_min:phi_max= 3 4 [120, 122] 120 122\n",
        "[122, 124]\n",
        "sector:phibinnum:phibin:phi_min:phi_max= 3 5 [122, 124] 122 124\n",
        "[124, 126]\n",
        "sector:phibinnum:phibin:phi_min:phi_max= 3 6 [124, 126] 124 126\n",
        "[[174, 176], [176, 178], [178, 180], [180, 182], [182, 184], [184, 186]]\n",
        "[174, 176]\n",
        "sector:phibinnum:phibin:phi_min:phi_max= 4 1 [174, 176] 174 176\n",
        "[176, 178]\n",
        "sector:phibinnum:phibin:phi_min:phi_max= 4 2 [176, 178] 176 178\n",
        "[178, 180]\n",
        "sector:phibinnum:phibin:phi_min:phi_max= 4 3 [178, 180] 178 180\n",
        "[180, 182]\n",
        "sector:phibinnum:phibin:phi_min:phi_max= 4 4 [180, 182] 180 182\n",
        "[182, 184]\n",
        "sector:phibinnum:phibin:phi_min:phi_max= 4 5 [182, 184] 182 184\n",
        "[184, 186]\n",
        "sector:phibinnum:phibin:phi_min:phi_max= 4 6 [184, 186] 184 186\n",
        "[[234, 236], [236, 238], [238, 240], [240, 242], [242, 244], [244, 246]]\n",
        "[234, 236]\n",
        "sector:phibinnum:phibin:phi_min:phi_max= 5 1 [234, 236] 234 236\n",
        "[236, 238]\n",
        "sector:phibinnum:phibin:phi_min:phi_max= 5 2 [236, 238] 236 238\n",
        "[238, 240]\n",
        "sector:phibinnum:phibin:phi_min:phi_max= 5 3 [238, 240] 238 240\n",
        "[240, 242]\n",
        "sector:phibinnum:phibin:phi_min:phi_max= 5 4 [240, 242] 240 242\n",
        "[242, 244]"
       ]
      },
      {
       "output_type": "stream",
       "stream": "stdout",
       "text": [
        "\n",
        "sector:phibinnum:phibin:phi_min:phi_max= 5 5 [242, 244] 242 244\n",
        "[244, 246]\n",
        "sector:phibinnum:phibin:phi_min:phi_max= 5 6 [244, 246] 244 246\n",
        "[[294, 296], [296, 298], [298, 300], [300, 302], [302, 304], [304, 306]]\n",
        "[294, 296]\n",
        "sector:phibinnum:phibin:phi_min:phi_max= 6 1 [294, 296] 294 296\n",
        "[296, 298]\n",
        "sector:phibinnum:phibin:phi_min:phi_max= 6 2 [296, 298] 296 298\n",
        "[298, 300]\n",
        "sector:phibinnum:phibin:phi_min:phi_max= 6 3 [298, 300] 298 300\n",
        "[300, 302]\n",
        "sector:phibinnum:phibin:phi_min:phi_max= 6 4 [300, 302] 300 302\n",
        "[302, 304]\n",
        "sector:phibinnum:phibin:phi_min:phi_max= 6 5 [302, 304] 302 304\n",
        "[304, 306]\n",
        "sector:phibinnum:phibin:phi_min:phi_max= 6 6 [304, 306] 304 306\n",
        "[[354, 356], [356, 358], [358, 360], [0, 2], [2, 4], [4, 6]]\n",
        "[354, 356]\n",
        "sector:phibinnum:phibin:phi_min:phi_max= 1 1 [354, 356] 354 356\n",
        "[356, 358]\n",
        "sector:phibinnum:phibin:phi_min:phi_max= 1 2 [356, 358] 356 358\n",
        "[358, 360]\n",
        "sector:phibinnum:phibin:phi_min:phi_max= 1 3 [358, 360] 358 360\n",
        "[0, 2]\n",
        "sector:phibinnum:phibin:phi_min:phi_max= 1 4 [0, 2] 0 2\n",
        "[2, 4]\n",
        "sector:phibinnum:phibin:phi_min:phi_max= 1 5 [2, 4] 2 4\n",
        "[4, 6]\n",
        "sector:phibinnum:phibin:phi_min:phi_max= 1 6 [4, 6] 4 6\n",
        "[[54, 56], [56, 58], [58, 60], [60, 62], [62, 64], [64, 66]]\n",
        "[54, 56]\n",
        "sector:phibinnum:phibin:phi_min:phi_max= 2 1 [54, 56] 54 56\n",
        "[56, 58]\n",
        "sector:phibinnum:phibin:phi_min:phi_max= 2 2 [56, 58] 56 58\n",
        "[58, 60]\n",
        "sector:phibinnum:phibin:phi_min:phi_max= 2 3 [58, 60] 58 60\n",
        "[60, 62]\n",
        "sector:phibinnum:phibin:phi_min:phi_max= 2 4 [60, 62] 60 62\n",
        "[62, 64]\n",
        "sector:phibinnum:phibin:phi_min:phi_max= 2 5 [62, 64] 62 64\n",
        "[64, 66]\n",
        "sector:phibinnum:phibin:phi_min:phi_max= 2 6 [64, 66] 64 66\n",
        "[[114, 116], [116, 118], [118, 120], [120, 122], [122, 124], [124, 126]]\n",
        "[114, 116]\n",
        "sector:phibinnum:phibin:phi_min:phi_max= 3 1 [114, 116] 114 116\n",
        "[116, 118]\n",
        "sector:phibinnum:phibin:phi_min:phi_max= 3 2 [116, 118] 116 118\n",
        "[118, 120]\n",
        "sector:phibinnum:phibin:phi_min:phi_max= 3 3 [118, 120] 118 120\n",
        "[120, 122]\n",
        "sector:phibinnum:phibin:phi_min:phi_max= 3 4 [120, 122] 120 122\n",
        "[122, 124]\n",
        "sector:phibinnum:phibin:phi_min:phi_max= 3 5 [122, 124] 122 124\n",
        "[124, 126]\n",
        "sector:phibinnum:phibin:phi_min:phi_max= 3 6 [124, 126] 124 126\n",
        "[[174, 176], [176, 178], [178, 180], [180, 182], [182, 184], [184, 186]]\n",
        "[174, 176]\n",
        "sector:phibinnum:phibin:phi_min:phi_max= 4 1 [174, 176] 174 176\n",
        "[176, 178]\n",
        "sector:phibinnum:phibin:phi_min:phi_max= 4 2 [176, 178] 176 178\n",
        "[178, 180]\n",
        "sector:phibinnum:phibin:phi_min:phi_max= 4 3 [178, 180] 178 180\n",
        "[180, 182]\n",
        "sector:phibinnum:phibin:phi_min:phi_max= 4 4 [180, 182] 180 182\n",
        "[182, 184]\n",
        "sector:phibinnum:phibin:phi_min:phi_max= 4 5 [182, 184] 182 184\n",
        "[184, 186]\n",
        "sector:phibinnum:phibin:phi_min:phi_max= 4 6 [184, 186] 184 186\n",
        "[[234, 236], [236, 238], [238, 240], [240, 242], [242, 244], [244, 246]]\n",
        "[234, 236]\n",
        "sector:phibinnum:phibin:phi_min:phi_max= 5 1 [234, 236] 234 236\n",
        "[236, 238]\n",
        "sector:phibinnum:phibin:phi_min:phi_max= 5 2 [236, 238] 236 238\n",
        "[238, 240]\n",
        "sector:phibinnum:phibin:phi_min:phi_max= 5 3 [238, 240] 238 240\n",
        "[240, 242]\n",
        "sector:phibinnum:phibin:phi_min:phi_max= 5 4 [240, 242] 240 242\n",
        "[242, 244]\n",
        "sector:phibinnum:phibin:phi_min:phi_max= 5 5 [242, 244] 242 244\n",
        "[244, 246]\n",
        "sector:phibinnum:phibin:phi_min:phi_max= 5 6 [244, 246] 244 246\n",
        "[[294, 296], [296, 298], [298, 300], [300, 302], [302, 304], [304, 306]]\n",
        "[294, 296]\n",
        "sector:phibinnum:phibin:phi_min:phi_max= 6 1 [294, 296] 294 296\n",
        "[296, 298]\n",
        "sector:phibinnum:phibin:phi_min:phi_max= 6 2 [296, 298] 296 298\n",
        "[298, 300]\n",
        "sector:phibinnum:phibin:phi_min:phi_max= 6 3 [298, 300] 298 300\n",
        "[300, 302]\n",
        "sector:phibinnum:phibin:phi_min:phi_max= 6 4 [300, 302] 300 302\n",
        "[302, 304]\n",
        "sector:phibinnum:phibin:phi_min:phi_max= 6 5 [302, 304] 302 304\n",
        "[304, 306]\n",
        "sector:phibinnum:phibin:phi_min:phi_max= 6 6 [304, 306] 304 306\n",
        "[[354, 356], [356, 358], [358, 360], [0, 2], [2, 4], [4, 6]]\n",
        "[354, 356]\n",
        "sector:phibinnum:phibin:phi_min:phi_max= 1 1 [354, 356] 354 356\n",
        "[356, 358]\n",
        "sector:phibinnum:phibin:phi_min:phi_max= 1 2 [356, 358] 356 358\n",
        "[358, 360]\n",
        "sector:phibinnum:phibin:phi_min:phi_max= 1 3 [358, 360] 358 360\n",
        "[0, 2]\n",
        "sector:phibinnum:phibin:phi_min:phi_max= 1 4 [0, 2] 0 2\n",
        "[2, 4]\n",
        "sector:phibinnum:phibin:phi_min:phi_max= 1 5 [2, 4] 2 4\n",
        "[4, 6]\n",
        "sector:phibinnum:phibin:phi_min:phi_max= 1 6 [4, 6] 4 6\n",
        "[[54, 56], [56, 58], [58, 60], [60, 62], [62, 64], [64, 66]]\n",
        "[54, 56]\n",
        "sector:phibinnum:phibin:phi_min:phi_max= 2 1 [54, 56] 54 56\n",
        "[56, 58]\n",
        "sector:phibinnum:phibin:phi_min:phi_max= 2 2 [56, 58] 56 58\n",
        "[58, 60]\n",
        "sector:phibinnum:phibin:phi_min:phi_max= 2 3 [58, 60] 58 60\n",
        "[60, 62]\n",
        "sector:phibinnum:phibin:phi_min:phi_max= 2 4 [60, 62] 60 62\n",
        "[62, 64]\n",
        "sector:phibinnum:phibin:phi_min:phi_max= 2 5 [62, 64] 62 64\n",
        "[64, 66]\n",
        "sector:phibinnum:phibin:phi_min:phi_max= 2 6 [64, 66] 64 66\n",
        "[[114, 116], [116, 118], [118, 120], [120, 122], [122, 124], [124, 126]]\n",
        "[114, 116]\n",
        "sector:phibinnum:phibin:phi_min:phi_max= 3 1 [114, 116] 114 116\n",
        "[116, 118]\n",
        "sector:phibinnum:phibin:phi_min:phi_max= 3 2 [116, 118] 116 118\n",
        "[118, 120]\n",
        "sector:phibinnum:phibin:phi_min:phi_max= 3 3 [118, 120] 118 120\n",
        "[120, 122]\n",
        "sector:phibinnum:phibin:phi_min:phi_max= 3 4 [120, 122] 120 122\n",
        "[122, 124]\n",
        "sector:phibinnum:phibin:phi_min:phi_max= 3 5 [122, 124] 122 124\n",
        "[124, 126]\n",
        "sector:phibinnum:phibin:phi_min:phi_max= 3 6 [124, 126] 124 126\n",
        "[[174, 176], [176, 178], [178, 180], [180, 182], [182, 184], [184, 186]]\n",
        "[174, 176]\n",
        "sector:phibinnum:phibin:phi_min:phi_max= 4 1 [174, 176] 174 176\n",
        "[176, 178]\n",
        "sector:phibinnum:phibin:phi_min:phi_max= 4 2 [176, 178] 176 178\n",
        "[178, 180]\n",
        "sector:phibinnum:phibin:phi_min:phi_max= 4 3 [178, 180] 178 180\n",
        "[180, 182]\n",
        "sector:phibinnum:phibin:phi_min:phi_max= 4 4 [180, 182] 180 182\n",
        "[182, 184]\n",
        "sector:phibinnum:phibin:phi_min:phi_max= 4 5 [182, 184] 182 184\n",
        "[184, 186]\n",
        "sector:phibinnum:phibin:phi_min:phi_max= 4 6 [184, 186] 184 186\n",
        "[[234, 236], [236, 238], [238, 240], [240, 242], [242, 244], [244, 246]]\n",
        "[234, 236]\n",
        "sector:phibinnum:phibin:phi_min:phi_max= 5 1 [234, 236] 234 236\n",
        "[236, 238]\n",
        "sector:phibinnum:phibin:phi_min:phi_max= 5 2 [236, 238] 236 238\n",
        "[238, 240]\n",
        "sector:phibinnum:phibin:phi_min:phi_max= 5 3 [238, 240] 238 240\n",
        "[240, 242]\n",
        "sector:phibinnum:phibin:phi_min:phi_max= 5 4 [240, 242] 240 242\n",
        "[242, 244]\n",
        "sector:phibinnum:phibin:phi_min:phi_max= 5 5 [242, 244] 242 244\n",
        "[244, 246]\n",
        "sector:phibinnum:phibin:phi_min:phi_max= 5 6 [244, 246] 244 246\n",
        "[[294, 296], [296, 298], [298, 300], [300, 302], [302, 304], [304, 306]]\n",
        "[294, 296]\n",
        "sector:phibinnum:phibin:phi_min:phi_max= 6 1 [294, 296] 294 296\n",
        "[296, 298]\n",
        "sector:phibinnum:phibin:phi_min:phi_max= 6 2 [296, 298] 296 298\n",
        "[298, 300]\n",
        "sector:phibinnum:phibin:phi_min:phi_max= 6 3 [298, 300] 298 300\n",
        "[300, 302]\n",
        "sector:phibinnum:phibin:phi_min:phi_max= 6 4 [300, 302] 300 302\n",
        "[302, 304]"
       ]
      },
      {
       "output_type": "stream",
       "stream": "stdout",
       "text": [
        "\n",
        "sector:phibinnum:phibin:phi_min:phi_max= 6 5 [302, 304] 302 304\n",
        "[304, 306]\n",
        "sector:phibinnum:phibin:phi_min:phi_max= 6 6 [304, 306] 304 306\n",
        "[[354, 356], [356, 358], [358, 360], [0, 2], [2, 4], [4, 6]]\n",
        "[354, 356]\n",
        "sector:phibinnum:phibin:phi_min:phi_max= 1 1 [354, 356] 354 356\n",
        "[356, 358]\n",
        "sector:phibinnum:phibin:phi_min:phi_max= 1 2 [356, 358] 356 358\n",
        "[358, 360]\n",
        "sector:phibinnum:phibin:phi_min:phi_max= 1 3 [358, 360] 358 360\n",
        "[0, 2]\n",
        "sector:phibinnum:phibin:phi_min:phi_max= 1 4 [0, 2] 0 2\n",
        "[2, 4]\n",
        "sector:phibinnum:phibin:phi_min:phi_max= 1 5 [2, 4] 2 4\n",
        "[4, 6]\n",
        "sector:phibinnum:phibin:phi_min:phi_max= 1 6 [4, 6] 4 6\n",
        "[[54, 56], [56, 58], [58, 60], [60, 62], [62, 64], [64, 66]]\n",
        "[54, 56]\n",
        "sector:phibinnum:phibin:phi_min:phi_max= 2 1 [54, 56] 54 56\n",
        "[56, 58]\n",
        "sector:phibinnum:phibin:phi_min:phi_max= 2 2 [56, 58] 56 58\n",
        "[58, 60]\n",
        "sector:phibinnum:phibin:phi_min:phi_max= 2 3 [58, 60] 58 60\n",
        "[60, 62]\n",
        "sector:phibinnum:phibin:phi_min:phi_max= 2 4 [60, 62] 60 62\n",
        "[62, 64]\n",
        "sector:phibinnum:phibin:phi_min:phi_max= 2 5 [62, 64] 62 64\n",
        "[64, 66]\n",
        "sector:phibinnum:phibin:phi_min:phi_max= 2 6 [64, 66] 64 66\n",
        "[[114, 116], [116, 118], [118, 120], [120, 122], [122, 124], [124, 126]]\n",
        "[114, 116]\n",
        "sector:phibinnum:phibin:phi_min:phi_max= 3 1 [114, 116] 114 116\n",
        "[116, 118]\n",
        "sector:phibinnum:phibin:phi_min:phi_max= 3 2 [116, 118] 116 118\n",
        "[118, 120]\n",
        "sector:phibinnum:phibin:phi_min:phi_max= 3 3 [118, 120] 118 120\n",
        "[120, 122]\n",
        "sector:phibinnum:phibin:phi_min:phi_max= 3 4 [120, 122] 120 122\n",
        "[122, 124]\n",
        "sector:phibinnum:phibin:phi_min:phi_max= 3 5 [122, 124] 122 124\n",
        "[124, 126]\n",
        "sector:phibinnum:phibin:phi_min:phi_max= 3 6 [124, 126] 124 126\n",
        "[[174, 176], [176, 178], [178, 180], [180, 182], [182, 184], [184, 186]]\n",
        "[174, 176]\n",
        "sector:phibinnum:phibin:phi_min:phi_max= 4 1 [174, 176] 174 176\n",
        "[176, 178]\n",
        "sector:phibinnum:phibin:phi_min:phi_max= 4 2 [176, 178] 176 178\n",
        "[178, 180]\n",
        "sector:phibinnum:phibin:phi_min:phi_max= 4 3 [178, 180] 178 180\n",
        "[180, 182]\n",
        "sector:phibinnum:phibin:phi_min:phi_max= 4 4 [180, 182] 180 182\n",
        "[182, 184]\n",
        "sector:phibinnum:phibin:phi_min:phi_max= 4 5 [182, 184] 182 184\n",
        "[184, 186]\n",
        "sector:phibinnum:phibin:phi_min:phi_max= 4 6 [184, 186] 184 186\n",
        "[[234, 236], [236, 238], [238, 240], [240, 242], [242, 244], [244, 246]]\n",
        "[234, 236]\n",
        "sector:phibinnum:phibin:phi_min:phi_max= 5 1 [234, 236] 234 236\n",
        "[236, 238]\n",
        "sector:phibinnum:phibin:phi_min:phi_max= 5 2 [236, 238] 236 238\n",
        "[238, 240]\n",
        "sector:phibinnum:phibin:phi_min:phi_max= 5 3 [238, 240] 238 240\n",
        "[240, 242]\n",
        "sector:phibinnum:phibin:phi_min:phi_max= 5 4 [240, 242] 240 242\n",
        "[242, 244]\n",
        "sector:phibinnum:phibin:phi_min:phi_max= 5 5 [242, 244] 242 244\n",
        "[244, 246]\n",
        "sector:phibinnum:phibin:phi_min:phi_max= 5 6 [244, 246] 244 246\n",
        "[[294, 296], [296, 298], [298, 300], [300, 302], [302, 304], [304, 306]]\n",
        "[294, 296]\n",
        "sector:phibinnum:phibin:phi_min:phi_max= 6 1 [294, 296] 294 296\n",
        "[296, 298]\n",
        "sector:phibinnum:phibin:phi_min:phi_max= 6 2 [296, 298] 296 298\n",
        "[298, 300]\n",
        "sector:phibinnum:phibin:phi_min:phi_max= 6 3 [298, 300] 298 300\n",
        "[300, 302]\n",
        "sector:phibinnum:phibin:phi_min:phi_max= 6 4 [300, 302] 300 302\n",
        "[302, 304]\n",
        "sector:phibinnum:phibin:phi_min:phi_max= 6 5 [302, 304] 302 304\n",
        "[304, 306]\n",
        "sector:phibinnum:phibin:phi_min:phi_max= 6 6 [304, 306] 304 306\n",
        "[[354, 356], [356, 358], [358, 360], [0, 2], [2, 4], [4, 6]]\n",
        "[354, 356]\n",
        "sector:phibinnum:phibin:phi_min:phi_max= 1 1 [354, 356] 354 356\n",
        "[356, 358]\n",
        "sector:phibinnum:phibin:phi_min:phi_max= 1 2 [356, 358] 356 358\n",
        "[358, 360]\n",
        "sector:phibinnum:phibin:phi_min:phi_max= 1 3 [358, 360] 358 360\n",
        "[0, 2]\n",
        "sector:phibinnum:phibin:phi_min:phi_max= 1 4 [0, 2] 0 2\n",
        "[2, 4]\n",
        "sector:phibinnum:phibin:phi_min:phi_max= 1 5 [2, 4] 2 4\n",
        "[4, 6]\n",
        "sector:phibinnum:phibin:phi_min:phi_max= 1 6 [4, 6] 4 6\n",
        "[[54, 56], [56, 58], [58, 60], [60, 62], [62, 64], [64, 66]]\n",
        "[54, 56]\n",
        "sector:phibinnum:phibin:phi_min:phi_max= 2 1 [54, 56] 54 56\n",
        "[56, 58]\n",
        "sector:phibinnum:phibin:phi_min:phi_max= 2 2 [56, 58] 56 58\n",
        "[58, 60]\n",
        "sector:phibinnum:phibin:phi_min:phi_max= 2 3 [58, 60] 58 60\n",
        "[60, 62]\n",
        "sector:phibinnum:phibin:phi_min:phi_max= 2 4 [60, 62] 60 62\n",
        "[62, 64]\n",
        "sector:phibinnum:phibin:phi_min:phi_max= 2 5 [62, 64] 62 64\n",
        "[64, 66]\n",
        "sector:phibinnum:phibin:phi_min:phi_max= 2 6 [64, 66] 64 66\n",
        "[[114, 116], [116, 118], [118, 120], [120, 122], [122, 124], [124, 126]]\n",
        "[114, 116]\n",
        "sector:phibinnum:phibin:phi_min:phi_max= 3 1 [114, 116] 114 116\n",
        "[116, 118]\n",
        "sector:phibinnum:phibin:phi_min:phi_max= 3 2 [116, 118] 116 118\n",
        "[118, 120]\n",
        "sector:phibinnum:phibin:phi_min:phi_max= 3 3 [118, 120] 118 120\n",
        "[120, 122]\n",
        "sector:phibinnum:phibin:phi_min:phi_max= 3 4 [120, 122] 120 122\n",
        "[122, 124]\n",
        "sector:phibinnum:phibin:phi_min:phi_max= 3 5 [122, 124] 122 124\n",
        "[124, 126]\n",
        "sector:phibinnum:phibin:phi_min:phi_max= 3 6 [124, 126] 124 126\n",
        "[[174, 176], [176, 178], [178, 180], [180, 182], [182, 184], [184, 186]]\n",
        "[174, 176]\n",
        "sector:phibinnum:phibin:phi_min:phi_max= 4 1 [174, 176] 174 176\n",
        "[176, 178]\n",
        "sector:phibinnum:phibin:phi_min:phi_max= 4 2 [176, 178] 176 178\n",
        "[178, 180]\n",
        "sector:phibinnum:phibin:phi_min:phi_max= 4 3 [178, 180] 178 180\n",
        "[180, 182]\n",
        "sector:phibinnum:phibin:phi_min:phi_max= 4 4 [180, 182] 180 182\n",
        "[182, 184]\n",
        "sector:phibinnum:phibin:phi_min:phi_max= 4 5 [182, 184] 182 184\n",
        "[184, 186]\n",
        "sector:phibinnum:phibin:phi_min:phi_max= 4 6 [184, 186] 184 186\n",
        "[[234, 236], [236, 238], [238, 240], [240, 242], [242, 244], [244, 246]]\n",
        "[234, 236]\n",
        "sector:phibinnum:phibin:phi_min:phi_max= 5 1 [234, 236] 234 236\n",
        "[236, 238]\n",
        "sector:phibinnum:phibin:phi_min:phi_max= 5 2 [236, 238] 236 238\n",
        "[238, 240]\n",
        "sector:phibinnum:phibin:phi_min:phi_max= 5 3 [238, 240] 238 240\n",
        "[240, 242]\n",
        "sector:phibinnum:phibin:phi_min:phi_max= 5 4 [240, 242] 240 242\n",
        "[242, 244]\n",
        "sector:phibinnum:phibin:phi_min:phi_max= 5 5 [242, 244] 242 244\n",
        "[244, 246]\n",
        "sector:phibinnum:phibin:phi_min:phi_max= 5 6 [244, 246] 244 246\n",
        "[[294, 296], [296, 298], [298, 300], [300, 302], [302, 304], [304, 306]]\n",
        "[294, 296]\n",
        "sector:phibinnum:phibin:phi_min:phi_max= 6 1 [294, 296] 294 296\n",
        "[296, 298]\n",
        "sector:phibinnum:phibin:phi_min:phi_max= 6 2 [296, 298] 296 298\n",
        "[298, 300]\n",
        "sector:phibinnum:phibin:phi_min:phi_max= 6 3 [298, 300] 298 300\n",
        "[300, 302]\n",
        "sector:phibinnum:phibin:phi_min:phi_max= 6 4 [300, 302] 300 302\n",
        "[302, 304]\n",
        "sector:phibinnum:phibin:phi_min:phi_max= 6 5 [302, 304] 302 304\n",
        "[304, 306]\n",
        "sector:phibinnum:phibin:phi_min:phi_max= 6 6 [304, 306] 304 306\n"
       ]
      }
     ],
     "prompt_number": 2
    },
    {
     "cell_type": "code",
     "collapsed": false,
     "input": [
      "#reload(t)\n",
      "t=StudyElasticTools(theta_min=14)\n",
      "t.disp_yields()"
     ],
     "language": "python",
     "metadata": {},
     "outputs": [
      {
       "output_type": "stream",
       "stream": "stderr",
       "text": [
        "INFO:rootpy.logger] | No default log handler configured. See `logging` module |\n"
       ]
      },
      {
       "output_type": "stream",
       "stream": "stderr",
       "text": [
        "INFO:rootpy.logger] \\    To suppress: 'rootpy.log.basic_config_colorized()'   /\n"
       ]
      },
      {
       "output_type": "stream",
       "stream": "stderr",
       "text": [
        "INFO:ROOT.TCanvas.Print] png file /data/trivedia/e1f/elastic/delast/obs/displays/ST_SR_SC/c_sector1.png has been created\n"
       ]
      },
      {
       "output_type": "stream",
       "stream": "stderr",
       "text": [
        "INFO:ROOT.TCanvas.Print] png file /data/trivedia/e1f/elastic/delast/obs/displays/ST_SR_SC/c_sector2.png has been created\n"
       ]
      },
      {
       "output_type": "stream",
       "stream": "stderr",
       "text": [
        "INFO:ROOT.TCanvas.Print] png file /data/trivedia/e1f/elastic/delast/obs/displays/ST_SR_SC/c_sector3.png has been created\n"
       ]
      },
      {
       "output_type": "stream",
       "stream": "stderr",
       "text": [
        "INFO:ROOT.TCanvas.Print] png file /data/trivedia/e1f/elastic/delast/obs/displays/ST_SR_SC/c_sector4.png has been created\n"
       ]
      },
      {
       "output_type": "stream",
       "stream": "stderr",
       "text": [
        "INFO:ROOT.TCanvas.Print] png file /data/trivedia/e1f/elastic/delast/obs/displays/ST_SR_SC/c_sector5.png has been created\n"
       ]
      },
      {
       "output_type": "stream",
       "stream": "stderr",
       "text": [
        "INFO:ROOT.TCanvas.Print] png file /data/trivedia/e1f/elastic/delast/obs/displays/ST_SR_SC/c_sector6.png has been created\n"
       ]
      },
      {
       "output_type": "stream",
       "stream": "stdout",
       "text": [
        "nrows,ncols 2 3\n",
        "outdir= /data/trivedia/e1f/elastic/delast/obs/displays/ST_SR_SC\n",
        "outdir="
       ]
      },
      {
       "output_type": "stream",
       "stream": "stderr",
       "text": [
        "INFO:ROOT.TCanvas.Print] png file /data/trivedia/e1f/elastic/delast/obs/displays/ER_SR/c_sector1.png has been created\n"
       ]
      },
      {
       "output_type": "stream",
       "stream": "stderr",
       "text": [
        "INFO:ROOT.TCanvas.Print] png file /data/trivedia/e1f/elastic/delast/obs/displays/ER_SR/c_sector2.png has been created\n"
       ]
      },
      {
       "output_type": "stream",
       "stream": "stderr",
       "text": [
        "INFO:ROOT.TCanvas.Print] png file /data/trivedia/e1f/elastic/delast/obs/displays/ER_SR/c_sector3.png has been created\n"
       ]
      },
      {
       "output_type": "stream",
       "stream": "stderr",
       "text": [
        "INFO:ROOT.TCanvas.Print] png file /data/trivedia/e1f/elastic/delast/obs/displays/ER_SR/c_sector4.png has been created\n"
       ]
      },
      {
       "output_type": "stream",
       "stream": "stderr",
       "text": [
        "INFO:ROOT.TCanvas.Print] png file /data/trivedia/e1f/elastic/delast/obs/displays/ER_SR/c_sector5.png has been created\n"
       ]
      },
      {
       "output_type": "stream",
       "stream": "stderr",
       "text": [
        "INFO:ROOT.TCanvas.Print] png file /data/trivedia/e1f/elastic/delast/obs/displays/ER_SR/c_sector6.png has been created\n"
       ]
      },
      {
       "output_type": "stream",
       "stream": "stdout",
       "text": [
        " /data/trivedia/e1f/elastic/delast/obs/displays/ER_SR\n",
        "outdir="
       ]
      },
      {
       "output_type": "stream",
       "stream": "stderr",
       "text": [
        "INFO:ROOT.TCanvas.Print] png file /data/trivedia/e1f/elastic/delast/obs/displays/EC_SC/c_sector1.png has been created\n"
       ]
      },
      {
       "output_type": "stream",
       "stream": "stderr",
       "text": [
        "INFO:ROOT.TCanvas.Print] png file /data/trivedia/e1f/elastic/delast/obs/displays/EC_SC/c_sector2.png has been created\n"
       ]
      },
      {
       "output_type": "stream",
       "stream": "stderr",
       "text": [
        "INFO:ROOT.TCanvas.Print] png file /data/trivedia/e1f/elastic/delast/obs/displays/EC_SC/c_sector3.png has been created\n"
       ]
      },
      {
       "output_type": "stream",
       "stream": "stderr",
       "text": [
        "INFO:ROOT.TCanvas.Print] png file /data/trivedia/e1f/elastic/delast/obs/displays/EC_SC/c_sector4.png has been created\n"
       ]
      },
      {
       "output_type": "stream",
       "stream": "stderr",
       "text": [
        "INFO:ROOT.TCanvas.Print] png file /data/trivedia/e1f/elastic/delast/obs/displays/EC_SC/c_sector5.png has been created\n"
       ]
      },
      {
       "output_type": "stream",
       "stream": "stderr",
       "text": [
        "INFO:ROOT.TCanvas.Print] png file /data/trivedia/e1f/elastic/delast/obs/displays/EC_SC/c_sector6.png has been created\n"
       ]
      },
      {
       "output_type": "stream",
       "stream": "stdout",
       "text": [
        " /data/trivedia/e1f/elastic/delast/obs/displays/EC_SC\n",
        "outdir="
       ]
      },
      {
       "output_type": "stream",
       "stream": "stderr",
       "text": [
        "INFO:ROOT.TCanvas.Print] png file /data/trivedia/e1f/elastic/delast/obs/displays/rto_EC_SC/c_sector1.png has been created\n"
       ]
      },
      {
       "output_type": "stream",
       "stream": "stderr",
       "text": [
        "INFO:ROOT.TCanvas.Print] png file /data/trivedia/e1f/elastic/delast/obs/displays/rto_EC_SC/c_sector2.png has been created\n"
       ]
      },
      {
       "output_type": "stream",
       "stream": "stderr",
       "text": [
        "INFO:ROOT.TCanvas.Print] png file /data/trivedia/e1f/elastic/delast/obs/displays/rto_EC_SC/c_sector3.png has been created\n"
       ]
      },
      {
       "output_type": "stream",
       "stream": "stderr",
       "text": [
        "INFO:ROOT.TCanvas.Print] png file /data/trivedia/e1f/elastic/delast/obs/displays/rto_EC_SC/c_sector4.png has been created\n"
       ]
      },
      {
       "output_type": "stream",
       "stream": "stderr",
       "text": [
        "INFO:ROOT.TCanvas.Print] png file /data/trivedia/e1f/elastic/delast/obs/displays/rto_EC_SC/c_sector5.png has been created\n"
       ]
      },
      {
       "output_type": "stream",
       "stream": "stderr",
       "text": [
        "INFO:ROOT.TCanvas.Print] png file /data/trivedia/e1f/elastic/delast/obs/displays/rto_EC_SC/c_sector6.png has been created\n"
       ]
      },
      {
       "output_type": "stream",
       "stream": "stdout",
       "text": [
        " /data/trivedia/e1f/elastic/delast/obs/displays/rto_EC_SC\n",
        "outdir="
       ]
      },
      {
       "output_type": "stream",
       "stream": "stderr",
       "text": [
        "INFO:ROOT.TCanvas.Print] png file /data/trivedia/e1f/elastic/delast/obs/displays/EClumnorm_thrtcl/c_sector1.png has been created\n"
       ]
      },
      {
       "output_type": "stream",
       "stream": "stderr",
       "text": [
        "INFO:ROOT.TCanvas.Print] png file /data/trivedia/e1f/elastic/delast/obs/displays/EClumnorm_thrtcl/c_sector2.png has been created\n"
       ]
      },
      {
       "output_type": "stream",
       "stream": "stderr",
       "text": [
        "INFO:ROOT.TCanvas.Print] png file /data/trivedia/e1f/elastic/delast/obs/displays/EClumnorm_thrtcl/c_sector3.png has been created\n"
       ]
      },
      {
       "output_type": "stream",
       "stream": "stderr",
       "text": [
        "INFO:ROOT.TCanvas.Print] png file /data/trivedia/e1f/elastic/delast/obs/displays/EClumnorm_thrtcl/c_sector4.png has been created\n"
       ]
      },
      {
       "output_type": "stream",
       "stream": "stderr",
       "text": [
        "INFO:ROOT.TCanvas.Print] png file /data/trivedia/e1f/elastic/delast/obs/displays/EClumnorm_thrtcl/c_sector5.png has been created\n"
       ]
      },
      {
       "output_type": "stream",
       "stream": "stderr",
       "text": [
        "INFO:ROOT.TCanvas.Print] png file /data/trivedia/e1f/elastic/delast/obs/displays/EClumnorm_thrtcl/c_sector6.png has been created\n"
       ]
      },
      {
       "output_type": "stream",
       "stream": "stdout",
       "text": [
        " /data/trivedia/e1f/elastic/delast/obs/displays/EClumnorm_thrtcl\n",
        "outdir="
       ]
      },
      {
       "output_type": "stream",
       "stream": "stderr",
       "text": [
        "INFO:ROOT.TCanvas.Print] png file /data/trivedia/e1f/elastic/delast/obs/displays/rto_EClumnorm_thrtcl/c_sector1.png has been created\n"
       ]
      },
      {
       "output_type": "stream",
       "stream": "stderr",
       "text": [
        "INFO:ROOT.TCanvas.Print] png file /data/trivedia/e1f/elastic/delast/obs/displays/rto_EClumnorm_thrtcl/c_sector2.png has been created\n"
       ]
      },
      {
       "output_type": "stream",
       "stream": "stderr",
       "text": [
        "INFO:ROOT.TCanvas.Print] png file /data/trivedia/e1f/elastic/delast/obs/displays/rto_EClumnorm_thrtcl/c_sector3.png has been created\n"
       ]
      },
      {
       "output_type": "stream",
       "stream": "stderr",
       "text": [
        "INFO:ROOT.TCanvas.Print] png file /data/trivedia/e1f/elastic/delast/obs/displays/rto_EClumnorm_thrtcl/c_sector4.png has been created\n"
       ]
      },
      {
       "output_type": "stream",
       "stream": "stderr",
       "text": [
        "INFO:ROOT.TCanvas.Print] png file /data/trivedia/e1f/elastic/delast/obs/displays/rto_EClumnorm_thrtcl/c_sector5.png has been created\n"
       ]
      },
      {
       "output_type": "stream",
       "stream": "stderr",
       "text": [
        "INFO:ROOT.TCanvas.Print] png file /data/trivedia/e1f/elastic/delast/obs/displays/rto_EClumnorm_thrtcl/c_sector6.png has been created\n"
       ]
      },
      {
       "output_type": "stream",
       "stream": "stdout",
       "text": [
        " /data/trivedia/e1f/elastic/delast/obs/displays/rto_EClumnorm_thrtcl\n"
       ]
      }
     ],
     "prompt_number": 2
    },
    {
     "cell_type": "code",
     "collapsed": false,
     "input": [
      "VARS=['THETA','PHI']\n",
      "H2_DIM=OrderedDict([('THETA',0),('PHI',1)])"
     ],
     "language": "python",
     "metadata": {},
     "outputs": [],
     "prompt_number": 10
    },
    {
     "cell_type": "code",
     "collapsed": false,
     "input": [
      "for var in VARS:\n",
      "    print H2_DIM[var]"
     ],
     "language": "python",
     "metadata": {},
     "outputs": [
      {
       "output_type": "stream",
       "stream": "stdout",
       "text": [
        "0\n",
        "1\n"
       ]
      }
     ],
     "prompt_number": 11
    },
    {
     "cell_type": "code",
     "collapsed": false,
     "input": [],
     "language": "python",
     "metadata": {},
     "outputs": []
    }
   ],
   "metadata": {}
  }
 ]
}