{
 "metadata": {
  "name": ""
 },
 "nbformat": 3,
 "nbformat_minor": 0,
 "worksheets": [
  {
   "cells": [
    {
     "cell_type": "code",
     "collapsed": false,
     "input": [
      "import numpy as np\n",
      "import matplotlib.pyplot as plt\n",
      "\n",
      "# sample data\n",
      "x = np.arange(10)\n",
      "y = 5*x + 10 \n",
      "\n",
      "# fit with np.polyfit\n",
      "m, b = np.polyfit(x, y, 1)\n",
      "\n",
      "plt.plot(x, y, '.')\n",
      "plt.plot(x, m*x + b, '-')"
     ],
     "language": "python",
     "metadata": {},
     "outputs": [
      {
       "metadata": {},
       "output_type": "pyout",
       "prompt_number": 2,
       "text": [
        "[<matplotlib.lines.Line2D at 0x7f922a6454d0>]"
       ]
      },
      {
       "metadata": {},
       "output_type": "display_data",
       "png": "[encoded data removed]",
       "text": [
        "<matplotlib.figure.Figure at 0x7f922a645090>"
       ]
      }
     ],
     "prompt_number": 2
    },
    {
     "cell_type": "code",
     "collapsed": false,
     "input": [
      "from matplotlib.pyplot import figure, show\n",
      "from numpy import arange, sin, pi\n",
      "\n",
      "#! generate sin\n",
      "x = arange(0.0, 1.0, 0.01)\n",
      "#! direct list version of x for tech reasons\n",
      "x1=[]\n",
      "for i in x:\n",
      "    x1.append(i)\n",
      "    \n",
      "y=100*sin(2*pi*x)\n",
      "#! direct list version of y for tech reasons\n",
      "y1=[]\n",
      "for i in y:\n",
      "    y1.append(i)\n",
      "print len(x),len(y1)\n",
      "print x\n",
      "#sys.exit()\n",
      "\n",
      "#! Fit test cases\n",
      "#! 1. fit nth deg poly: full range\n",
      "#pars= np.polyfit(x, y, 4)\n",
      "#! 2. fit nth deg poly: particular range\n",
      "#pars= np.polyfit(x[10:], y[10:], 4)\n",
      "#! 3. fit particular range and add one constraining point, which here is the first one\n",
      "#! note y1, x1 versions for x,y have to be used here\n",
      "pars= np.polyfit([x1[0]]+x1[10:], [y1[0]]+y1[10:], 4)\n",
      "#pars= np.polyfit([x[0],x[10:]], [y[0],y[10:]], 4)\n",
      "\n",
      "fig = figure(1)\n",
      "\n",
      "ax1 = fig.add_subplot(211)\n",
      "ax1.plot(x, y)\n",
      "#! plot fit\n",
      "#! note highest order power coefficient is returned first: \n",
      "#!  + https://docs.scipy.org/doc/numpy/reference/generated/numpy.polyfit.html\n",
      "ax1.plot(x, pars[4] + pars[3]*x + pars[2]*x**2 + pars[1]*x**3 + pars[0]*x**4, '-')\n",
      "ax1.grid(True)"
     ],
     "language": "python",
     "metadata": {},
     "outputs": [
      {
       "output_type": "stream",
       "stream": "stdout",
       "text": [
        "100 100\n",
        "[ 0.    0.01  0.02  0.03  0.04  0.05  0.06  0.07  0.08  0.09  0.1   0.11\n",
        "  0.12  0.13  0.14  0.15  0.16  0.17  0.18  0.19  0.2   0.21  0.22  0.23\n",
        "  0.24  0.25  0.26  0.27  0.28  0.29  0.3   0.31  0.32  0.33  0.34  0.35\n",
        "  0.36  0.37  0.38  0.39  0.4   0.41  0.42  0.43  0.44  0.45  0.46  0.47\n",
        "  0.48  0.49  0.5   0.51  0.52  0.53  0.54  0.55  0.56  0.57  0.58  0.59\n",
        "  0.6   0.61  0.62  0.63  0.64  0.65  0.66  0.67  0.68  0.69  0.7   0.71\n",
        "  0.72  0.73  0.74  0.75  0.76  0.77  0.78  0.79  0.8   0.81  0.82  0.83\n",
        "  0.84  0.85  0.86  0.87  0.88  0.89  0.9   0.91  0.92  0.93  0.94  0.95\n",
        "  0.96  0.97  0.98  0.99]\n"
       ]
      },
      {
       "metadata": {},
       "output_type": "display_data",
       "png": "[encoded data removed]",
       "text": [
        "<matplotlib.figure.Figure at 0x7ff51967a0d0>"
       ]
      }
     ],
     "prompt_number": 16
    },
    {
     "cell_type": "code",
     "collapsed": false,
     "input": [
      "print [x[0]]+x[1:]"
     ],
     "language": "python",
     "metadata": {},
     "outputs": [
      {
       "output_type": "stream",
       "stream": "stdout",
       "text": [
        "[ 0.01  0.02  0.03  0.04  0.05  0.06  0.07  0.08  0.09  0.1   0.11  0.12\n",
        "  0.13  0.14  0.15  0.16  0.17  0.18  0.19  0.2   0.21  0.22  0.23  0.24\n",
        "  0.25  0.26  0.27  0.28  0.29  0.3   0.31  0.32  0.33  0.34  0.35  0.36\n",
        "  0.37  0.38  0.39  0.4   0.41  0.42  0.43  0.44  0.45  0.46  0.47  0.48\n",
        "  0.49  0.5   0.51  0.52  0.53  0.54  0.55  0.56  0.57  0.58  0.59  0.6\n",
        "  0.61  0.62  0.63  0.64  0.65  0.66  0.67  0.68  0.69  0.7   0.71  0.72\n",
        "  0.73  0.74  0.75  0.76  0.77  0.78  0.79  0.8   0.81  0.82  0.83  0.84\n",
        "  0.85  0.86  0.87  0.88  0.89  0.9   0.91  0.92  0.93  0.94  0.95  0.96\n",
        "  0.97  0.98  0.99]\n"
       ]
      }
     ],
     "prompt_number": 12
    },
    {
     "cell_type": "code",
     "collapsed": false,
     "input": [
      "'''\n",
      "test\n",
      "'''"
     ],
     "language": "python",
     "metadata": {},
     "outputs": [
      {
       "metadata": {},
       "output_type": "pyout",
       "prompt_number": 2,
       "text": [
        "'\\ntest\\n'"
       ]
      }
     ],
     "prompt_number": 2
    },
    {
     "cell_type": "code",
     "collapsed": false,
     "input": [
      "x=[1,2,3,4,5,6,7,8,9,10]\n",
      "x=np.array(x)\n",
      "fig=plt.figure()\n",
      "ax=plt.subplot(111)\n",
      "ax.plot(x,x**2)"
     ],
     "language": "python",
     "metadata": {},
     "outputs": [
      {
       "metadata": {},
       "output_type": "pyout",
       "prompt_number": 12,
       "text": [
        "[<matplotlib.lines.Line2D at 0x7f2cae4331d0>]"
       ]
      },
      {
       "metadata": {},
       "output_type": "display_data",
       "png": "[encoded data removed]",
       "text": [
        "<matplotlib.figure.Figure at 0x7f2cae3e3c10>"
       ]
      }
     ],
     "prompt_number": 12
    },
    {
     "cell_type": "code",
     "collapsed": false,
     "input": [
      "x"
     ],
     "language": "python",
     "metadata": {},
     "outputs": [
      {
       "metadata": {},
       "output_type": "pyout",
       "prompt_number": 5,
       "text": [
        "array([1, 2, 3, 4, 5, 6, 7, 8, 9])"
       ]
      }
     ],
     "prompt_number": 5
    },
    {
     "cell_type": "code",
     "collapsed": false,
     "input": [
      "x=[1,2,3,4]"
     ],
     "language": "python",
     "metadata": {},
     "outputs": [],
     "prompt_number": 26
    },
    {
     "cell_type": "code",
     "collapsed": false,
     "input": [
      "[x[0]]+x[2:]"
     ],
     "language": "python",
     "metadata": {},
     "outputs": [
      {
       "metadata": {},
       "output_type": "pyout",
       "prompt_number": 30,
       "text": [
        "[1, 3, 4]"
       ]
      }
     ],
     "prompt_number": 30
    },
    {
     "cell_type": "code",
     "collapsed": false,
     "input": [
      "y=100*sin(2*pi*x)\n",
      "a=[]\n",
      "for i in y:\n",
      "    a.append(i)\n"
     ],
     "language": "python",
     "metadata": {},
     "outputs": [],
     "prompt_number": 22
    },
    {
     "cell_type": "code",
     "collapsed": false,
     "input": [
      "print y[0],y[11]\n",
      "print [y[0]]+y[10:12]\n",
      "print [y[0],y[10:12]]\n",
      "\n",
      "print a[0],a[11]\n",
      "print [a[0]]+a[10:12]\n",
      "print [a[0],a[10:12]]"
     ],
     "language": "python",
     "metadata": {},
     "outputs": [
      {
       "output_type": "stream",
       "stream": "stdout",
       "text": [
        "0.0 63.7423989749\n",
        "[ 58.77852523  63.74239897]\n",
        "[0.0, array([ 58.77852523,  63.74239897])]\n",
        "0.0 63.7423989749\n",
        "[0.0, 58.778525229247315, 63.742398974868962]\n",
        "[0.0, [58.778525229247315, 63.742398974868962]]\n"
       ]
      }
     ],
     "prompt_number": 23
    },
    {
     "cell_type": "code",
     "collapsed": false,
     "input": [
      "[y[0]]"
     ],
     "language": "python",
     "metadata": {},
     "outputs": [
      {
       "metadata": {},
       "output_type": "pyout",
       "prompt_number": 16,
       "text": [
        "[0.0]"
       ]
      }
     ],
     "prompt_number": 16
    },
    {
     "cell_type": "code",
     "collapsed": false,
     "input": [
      "z=[i+1 for i in range(100)]\n",
      "print [z[0]]+z[10:12]\n",
      "print [z[0],z[10:12]]"
     ],
     "language": "python",
     "metadata": {},
     "outputs": [
      {
       "output_type": "stream",
       "stream": "stdout",
       "text": [
        "[1, 11, 12]\n",
        "[1, [11, 12]]\n"
       ]
      }
     ],
     "prompt_number": 21
    },
    {
     "cell_type": "code",
     "collapsed": false,
     "input": [],
     "language": "python",
     "metadata": {},
     "outputs": []
    }
   ],
   "metadata": {}
  }
 ]
}