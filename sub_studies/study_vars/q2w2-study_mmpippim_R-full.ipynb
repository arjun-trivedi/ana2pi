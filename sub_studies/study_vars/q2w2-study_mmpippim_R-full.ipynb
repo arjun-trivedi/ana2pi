{
 "metadata": {
  "name": ""
 },
 "nbformat": 3,
 "nbformat_minor": 0,
 "worksheets": [
  {
   "cells": [
    {
     "cell_type": "code",
     "collapsed": false,
     "input": [
      "import study_vars_tools as t\n",
      "import shutil\n",
      "from collections import OrderedDict\n",
      "\n",
      "Q2WDIR='q2w2'\n",
      "R=['exp_nmcor','exp_ymcor','sim_nmcor_gpp-1','sim_nmcor_gpp-2','sim_nmcor_gpp-3','sim_nmcor_gpp-4','sim_nmcor_gpp-5',\n",
      "   'sim_nmcor_gpp-6','sim_nmcor_gpp-7','sim_nmcor_gpp-8','sim_nmcor_gpp-9','sim_nmcor_gpp-10','sim_nmcor_gpp-11',\n",
      "   'sim_nmcor_gpp-12','sim_nmcor_gpp-13','sim_nmcor_gpp-14','sim_nmcor_gpp-15','sim_nmcor_gpp-16','sim_nmcor_gpp-17',\n",
      "   'sim_nmcor_gpp-18','sim_nmcor_gpp-19','sim_nmcor_gpp-20','sim_nmcor_gpp-21','sim_nmcor_gpp-22','sim_nmcor_gpp-23',\n",
      "   'sim_nmcor_gpp-24','sim_nmcor_gpp-25','sim_nmcor_gpp-26','sim_nmcor_gpp-27']\n",
      "VAR=['mmpippim']\n",
      "TOP=[4]\n",
      "hX=OrderedDict()\n",
      "XMU=0.938\n",
      "XCUT=1\n",
      "\n",
      "#-- get X(d,Q2,W)\n",
      "for r in R:\n",
      "    t.init(Q2WDIR,0.6,0.6,TOP,VAR,[(200,0.6,1.2)],[(-0.03,0.03)],r)\n",
      "    hX[r]=t.plot_var()\n",
      "\n",
      "#-- create OUTDIR\n",
      "VARdir=\"-\".join(VAR)\n",
      "Rdir = \"-\".join(R)\n",
      "OUTDIR = os.path.join(Q2WDIR,VARdir,\"gpp-study\")\n",
      "print \"\\n----OUTDIR\",OUTDIR,\"\\n----\"\n",
      "if os.path.exists(OUTDIR):\n",
      "    shutil.rmtree(OUTDIR)\n",
      "os.makedirs(OUTDIR)"
     ],
     "language": "python",
     "metadata": {},
     "outputs": [
      {
       "output_type": "stream",
       "stream": "stdout",
       "text": [
        "-----\n",
        "Importing d2pi.root -> DataFrame\n",
        "-----\n",
        "Going to use d2pi(exp_nmcor)\n",
        "File = /data/trivedia/e1f/study_vars/q2w2/exp_nmcor/recon/d2pi.root\n",
        "Variables to import directly into DataFrame= ['top', 'Q2', 'mmpippim', 'W']\n",
        "Variables to be added later to the DataFrame []\n",
        "-----\n",
        "Topology selection: tops to be used = "
       ]
      },
      {
       "output_type": "stream",
       "stream": "stderr",
       "text": [
        "WARNING:ROOT.TROOT.Append] Replacing existing TH1: mmpippim_OFT (Potential memory leak).\n"
       ]
      },
      {
       "output_type": "stream",
       "stream": "stderr",
       "text": [
        "WARNING:ROOT.TROOT.Append] Replacing existing TH1: mmpippim_RES (Potential memory leak).\n"
       ]
      },
      {
       "output_type": "stream",
       "stream": "stderr",
       "text": [
        "WARNING:ROOT.TROOT.Append] Replacing existing TH1: mmpippim_01_01 (Potential memory leak).\n"
       ]
      },
      {
       "output_type": "stream",
       "stream": "stdout",
       "text": [
        " [4] \n",
        "-----\n",
        "dbg:D before\n",
        "   top        Q2  mmpippim         W\n",
        "0    2  2.060979  1.369088  1.634772\n",
        "1    4  2.022806  0.921191  1.533539\n",
        "2    4  1.937134  1.053282  1.768826\n",
        "3    1  2.041539  0.942545  1.850626\n",
        "4    1  1.906316  0.963833  1.485198\n",
        "Evaluating (df['top']==4) ...\n",
        "dbg:D after\n",
        "    top        Q2  mmpippim         W\n",
        "1     4  2.022806  0.921191  1.533539\n",
        "2     4  1.937134  1.053282  1.768826\n",
        "8     4  2.330529  0.726615  1.577326\n",
        "12    4  2.156641  0.869507  1.737335\n",
        "17    4  2.275935  0.178944  1.867643\n",
        "-----\n",
        "Q2 binning \n",
        "-----\n",
        "NQ2BINS=1,Q2BINW=0.6000 GeV^2\n",
        "['1.9000', '2.5000']\n",
        "-----\n",
        "W binning \n",
        "-----\n",
        "NWBINS=1,WBINW=0.6000 GeV\n",
        "['1.3000', '1.9000']\n",
        "-----\n",
        "OUTDIR=/home/trivedia/CLAS/workspace/ana2pi/sub_studies/study_vars/q2w2/exp_nmcor \n",
        "-----\n",
        "HOFT= [Hist2D('mmpippim_OFT')]\n",
        "HRES= [Hist2D('mmpippim_RES')]\n",
        "-----\n",
        "Importing d2pi.root -> DataFrame\n",
        "-----"
       ]
      },
      {
       "output_type": "stream",
       "stream": "stdout",
       "text": [
        "\n",
        "Going to use d2pi(exp_ymcor)\n",
        "File = /data/trivedia/e1f/study_vars/q2w2/exp_ymcor/recon/d2pi.root\n",
        "Variables to import directly into DataFrame= ['top', 'Q2', 'mmpippim', 'W']\n",
        "Variables to be added later to the DataFrame []\n",
        "-----\n",
        "Topology selection: tops to be used = "
       ]
      },
      {
       "output_type": "stream",
       "stream": "stderr",
       "text": [
        "WARNING:ROOT.TROOT.Append] Replacing existing TH1: mmpippim_OFT (Potential memory leak).\n"
       ]
      },
      {
       "output_type": "stream",
       "stream": "stderr",
       "text": [
        "WARNING:ROOT.TROOT.Append] Replacing existing TH1: mmpippim_RES (Potential memory leak).\n"
       ]
      },
      {
       "output_type": "stream",
       "stream": "stderr",
       "text": [
        "WARNING:ROOT.TROOT.Append] Replacing existing TH1: mmpippim_01_01 (Potential memory leak).\n"
       ]
      },
      {
       "output_type": "stream",
       "stream": "stdout",
       "text": [
        " [4] \n",
        "-----\n",
        "dbg:D before\n",
        "   top        Q2  mmpippim         W\n",
        "0    2  2.070127  1.353690  1.617025\n",
        "1    4  2.012479  0.935070  1.548177\n",
        "2    4  1.927142  1.063774  1.782109\n",
        "3    1  2.052747  0.932880  1.838957\n",
        "4    1  1.907208  0.962821  1.484136\n",
        "Evaluating (df['top']==4) ...\n",
        "dbg:D after\n",
        "    top        Q2  mmpippim         W\n",
        "1     4  2.012479  0.935070  1.548177\n",
        "2     4  1.927142  1.063774  1.782109\n",
        "8     4  2.333948  0.722370  1.573819\n",
        "12    4  2.157296  0.868286  1.735973\n",
        "17    4  2.265160  0.202285  1.875743\n",
        "-----\n",
        "Q2 binning \n",
        "-----\n",
        "NQ2BINS=1,Q2BINW=0.6000 GeV^2\n",
        "['1.9000', '2.5000']\n",
        "-----\n",
        "W binning \n",
        "-----\n",
        "NWBINS=1,WBINW=0.6000 GeV\n",
        "['1.3000', '1.9000']\n",
        "-----\n",
        "OUTDIR=/home/trivedia/CLAS/workspace/ana2pi/sub_studies/study_vars/q2w2/exp_ymcor \n",
        "-----\n",
        "HOFT= [Hist2D('mmpippim_OFT')]\n",
        "HRES= [Hist2D('mmpippim_RES')]\n",
        "-----\n",
        "Importing d2pi.root -> DataFrame\n",
        "-----"
       ]
      },
      {
       "output_type": "stream",
       "stream": "stdout",
       "text": [
        "\n",
        "Going to use d2pi(sim_nmcor_gpp-1)\n",
        "File = /data/trivedia/e1f/study_vars/q2w2/sim_nmcor_gpp-1/recon/d2pi.root\n",
        "Variables to import directly into DataFrame= ['top', 'Q2', 'mmpippim', 'W']\n",
        "Variables to be added later to the DataFrame []\n",
        "-----\n",
        "Topology selection: tops to be used = "
       ]
      },
      {
       "output_type": "stream",
       "stream": "stderr",
       "text": [
        "WARNING:ROOT.TROOT.Append] Replacing existing TH1: mmpippim_OFT (Potential memory leak).\n"
       ]
      },
      {
       "output_type": "stream",
       "stream": "stderr",
       "text": [
        "WARNING:ROOT.TROOT.Append] Replacing existing TH1: mmpippim_RES (Potential memory leak).\n"
       ]
      },
      {
       "output_type": "stream",
       "stream": "stderr",
       "text": [
        "WARNING:ROOT.TROOT.Append] Replacing existing TH1: mmpippim_01_01 (Potential memory leak).\n"
       ]
      },
      {
       "output_type": "stream",
       "stream": "stdout",
       "text": [
        " [4] \n",
        "-----\n",
        "dbg:D before\n",
        "   top        Q2  mmpippim         W\n",
        "0    2  2.489977  1.167363  1.428861\n",
        "1    2  2.327589  1.408764  1.701091\n",
        "2    2  1.914483  1.274979  1.850366\n",
        "3    2  1.939015  1.283767  1.830622\n",
        "4    2  1.643214  2.188048  2.751067\n",
        "Evaluating (df['top']==4) ...\n",
        "dbg:D after\n",
        "    top        Q2  mmpippim         W\n",
        "12    4  2.339460  0.931510  1.432474\n",
        "23    4  1.965827  1.102321  1.869113\n",
        "25    4  2.259125  0.924143  1.868402\n",
        "34    4  2.337688  0.950264  1.550512\n",
        "40    4  2.271308  0.948043  1.840794\n",
        "-----\n",
        "Q2 binning \n",
        "-----\n",
        "NQ2BINS=1,Q2BINW=0.6000 GeV^2\n",
        "['1.9000', '2.5000']\n",
        "-----\n",
        "W binning \n",
        "-----\n",
        "NWBINS=1,WBINW=0.6000 GeV\n",
        "['1.3000', '1.9000']\n",
        "-----\n",
        "OUTDIR=/home/trivedia/CLAS/workspace/ana2pi/sub_studies/study_vars/q2w2/sim_nmcor_gpp-1 \n",
        "-----\n",
        "HOFT= [Hist2D('mmpippim_OFT')]\n",
        "HRES= [Hist2D('mmpippim_RES')]\n",
        "-----\n",
        "Importing d2pi.root -> DataFrame\n",
        "-----"
       ]
      },
      {
       "output_type": "stream",
       "stream": "stdout",
       "text": [
        "\n",
        "Going to use d2pi(sim_nmcor_gpp-2)\n",
        "File = /data/trivedia/e1f/study_vars/q2w2/sim_nmcor_gpp-2/recon/d2pi.root\n",
        "Variables to import directly into DataFrame= ['top', 'Q2', 'mmpippim', 'W']\n",
        "Variables to be added later to the DataFrame []\n",
        "-----\n",
        "Topology selection: tops to be used = "
       ]
      },
      {
       "output_type": "stream",
       "stream": "stderr",
       "text": [
        "WARNING:ROOT.TROOT.Append] Replacing existing TH1: mmpippim_OFT (Potential memory leak).\n"
       ]
      },
      {
       "output_type": "stream",
       "stream": "stderr",
       "text": [
        "WARNING:ROOT.TROOT.Append] Replacing existing TH1: mmpippim_RES (Potential memory leak).\n"
       ]
      },
      {
       "output_type": "stream",
       "stream": "stderr",
       "text": [
        "WARNING:ROOT.TROOT.Append] Replacing existing TH1: mmpippim_01_01 (Potential memory leak).\n"
       ]
      },
      {
       "output_type": "stream",
       "stream": "stdout",
       "text": [
        " [4] \n",
        "-----\n",
        "dbg:D before\n",
        "   top        Q2  mmpippim         W\n",
        "0    1  2.365566  0.941869  1.717360\n",
        "1    4  2.024309  1.050193  1.677761\n",
        "2    2  1.952126  1.360579  1.713680\n",
        "3    2  2.202511  1.209931  1.822416\n",
        "4    1  2.025296  0.938402  1.726409\n",
        "Evaluating (df['top']==4) ...\n",
        "dbg:D after\n",
        "    top        Q2  mmpippim         W\n",
        "1     4  2.024309  1.050193  1.677761\n",
        "15    4  2.016515  0.942390  1.537802\n",
        "25    4  1.941360  0.943198  1.765309\n",
        "31    4  1.901233  0.935239  1.890219\n",
        "32    4  2.320808  0.930349  1.869692\n",
        "-----\n",
        "Q2 binning \n",
        "-----\n",
        "NQ2BINS=1,Q2BINW=0.6000 GeV^2\n",
        "['1.9000', '2.5000']\n",
        "-----\n",
        "W binning \n",
        "-----\n",
        "NWBINS=1,WBINW=0.6000 GeV\n",
        "['1.3000', '1.9000']\n",
        "-----\n",
        "OUTDIR=/home/trivedia/CLAS/workspace/ana2pi/sub_studies/study_vars/q2w2/sim_nmcor_gpp-2 \n",
        "-----\n",
        "HOFT= [Hist2D('mmpippim_OFT')]\n",
        "HRES= [Hist2D('mmpippim_RES')]\n",
        "-----\n",
        "Importing d2pi.root -> DataFrame\n",
        "-----"
       ]
      },
      {
       "output_type": "stream",
       "stream": "stdout",
       "text": [
        "\n",
        "Going to use d2pi(sim_nmcor_gpp-3)\n",
        "File = /data/trivedia/e1f/study_vars/q2w2/sim_nmcor_gpp-3/recon/d2pi.root\n",
        "Variables to import directly into DataFrame= ['top', 'Q2', 'mmpippim', 'W']\n",
        "Variables to be added later to the DataFrame []\n",
        "-----\n",
        "Topology selection: tops to be used = "
       ]
      },
      {
       "output_type": "stream",
       "stream": "stderr",
       "text": [
        "WARNING:ROOT.TROOT.Append] Replacing existing TH1: mmpippim_OFT (Potential memory leak).\n"
       ]
      },
      {
       "output_type": "stream",
       "stream": "stderr",
       "text": [
        "WARNING:ROOT.TROOT.Append] Replacing existing TH1: mmpippim_RES (Potential memory leak).\n"
       ]
      },
      {
       "output_type": "stream",
       "stream": "stderr",
       "text": [
        "WARNING:ROOT.TROOT.Append] Replacing existing TH1: mmpippim_01_01 (Potential memory leak).\n"
       ]
      },
      {
       "output_type": "stream",
       "stream": "stdout",
       "text": [
        " [4] \n",
        "-----\n",
        "dbg:D before\n",
        "   top        Q2  mmpippim         W\n",
        "0    1  2.274144  1.020065  1.956233\n",
        "1    2  2.034185  1.412713  1.717163\n",
        "2    4  2.164166  1.057978  1.822512\n",
        "3    2  2.070371  1.107064  1.632776\n",
        "4    3  1.931229  1.206693  1.691052\n",
        "Evaluating (df['top']==4) ...\n",
        "dbg:D after\n",
        "    top        Q2  mmpippim         W\n",
        "2     4  2.164166  1.057978  1.822512\n",
        "8     4  2.086637  1.012868  1.617008\n",
        "13    4  2.051560  1.023600  1.800037\n",
        "14    4  2.150972  0.978948  1.875369\n",
        "22    4  2.422121  0.941339  1.755718\n",
        "-----\n",
        "Q2 binning \n",
        "-----\n",
        "NQ2BINS=1,Q2BINW=0.6000 GeV^2\n",
        "['1.9000', '2.5000']\n",
        "-----\n",
        "W binning \n",
        "-----\n",
        "NWBINS=1,WBINW=0.6000 GeV\n",
        "['1.3000', '1.9000']\n",
        "-----\n",
        "OUTDIR=/home/trivedia/CLAS/workspace/ana2pi/sub_studies/study_vars/q2w2/sim_nmcor_gpp-3 \n",
        "-----\n",
        "HOFT= [Hist2D('mmpippim_OFT')]\n",
        "HRES= [Hist2D('mmpippim_RES')]\n",
        "-----\n",
        "Importing d2pi.root -> DataFrame\n",
        "-----"
       ]
      },
      {
       "output_type": "stream",
       "stream": "stdout",
       "text": [
        "\n",
        "Going to use d2pi(sim_nmcor_gpp-4)\n",
        "File = /data/trivedia/e1f/study_vars/q2w2/sim_nmcor_gpp-4/recon/d2pi.root\n",
        "Variables to import directly into DataFrame= ['top', 'Q2', 'mmpippim', 'W']\n",
        "Variables to be added later to the DataFrame []\n",
        "-----\n",
        "Topology selection: tops to be used = "
       ]
      },
      {
       "output_type": "stream",
       "stream": "stderr",
       "text": [
        "WARNING:ROOT.TROOT.Append] Replacing existing TH1: mmpippim_OFT (Potential memory leak).\n"
       ]
      },
      {
       "output_type": "stream",
       "stream": "stderr",
       "text": [
        "WARNING:ROOT.TROOT.Append] Replacing existing TH1: mmpippim_RES (Potential memory leak).\n"
       ]
      },
      {
       "output_type": "stream",
       "stream": "stderr",
       "text": [
        "WARNING:ROOT.TROOT.Append] Replacing existing TH1: mmpippim_01_01 (Potential memory leak).\n"
       ]
      },
      {
       "output_type": "stream",
       "stream": "stdout",
       "text": [
        " [4] \n",
        "-----\n",
        "dbg:D before\n",
        "   top        Q2  mmpippim         W\n",
        "0    2  2.109792  1.319030  1.774363\n",
        "1    2  1.898550  1.198799  1.664946\n",
        "2    2  2.362259  1.163513  1.708320\n",
        "3    2  2.440616  1.127939  1.374504\n",
        "4    2  2.261045  1.362343  1.774227\n",
        "Evaluating (df['top']==4) ...\n",
        "dbg:D after\n",
        "    top        Q2  mmpippim         W\n",
        "5     4  2.497209  0.941815  1.649689\n",
        "6     4  2.180295  0.655035  1.635171\n",
        "12    4  2.465842  0.954862  1.824455\n",
        "15    4  2.435147  0.940988  1.666918\n",
        "17    4  2.195975  0.934300  1.811053\n",
        "-----\n",
        "Q2 binning \n",
        "-----\n",
        "NQ2BINS=1,Q2BINW=0.6000 GeV^2\n",
        "['1.9000', '2.5000']\n",
        "-----\n",
        "W binning \n",
        "-----\n",
        "NWBINS=1,WBINW=0.6000 GeV\n",
        "['1.3000', '1.9000']\n",
        "-----\n",
        "OUTDIR=/home/trivedia/CLAS/workspace/ana2pi/sub_studies/study_vars/q2w2/sim_nmcor_gpp-4 \n",
        "-----\n",
        "HOFT= [Hist2D('mmpippim_OFT')]\n",
        "HRES= [Hist2D('mmpippim_RES')]\n",
        "-----\n",
        "Importing d2pi.root -> DataFrame\n",
        "-----"
       ]
      },
      {
       "output_type": "stream",
       "stream": "stdout",
       "text": [
        "\n",
        "Going to use d2pi(sim_nmcor_gpp-5)\n",
        "File = /data/trivedia/e1f/study_vars/q2w2/sim_nmcor_gpp-5/recon/d2pi.root\n",
        "Variables to import directly into DataFrame= ['top', 'Q2', 'mmpippim', 'W']\n",
        "Variables to be added later to the DataFrame []\n",
        "-----\n",
        "Topology selection: tops to be used = "
       ]
      },
      {
       "output_type": "stream",
       "stream": "stderr",
       "text": [
        "WARNING:ROOT.TROOT.Append] Replacing existing TH1: mmpippim_OFT (Potential memory leak).\n"
       ]
      },
      {
       "output_type": "stream",
       "stream": "stderr",
       "text": [
        "WARNING:ROOT.TROOT.Append] Replacing existing TH1: mmpippim_RES (Potential memory leak).\n"
       ]
      },
      {
       "output_type": "stream",
       "stream": "stderr",
       "text": [
        "WARNING:ROOT.TROOT.Append] Replacing existing TH1: mmpippim_01_01 (Potential memory leak).\n"
       ]
      },
      {
       "output_type": "stream",
       "stream": "stdout",
       "text": [
        " [4] \n",
        "-----\n",
        "dbg:D before\n",
        "   top        Q2  mmpippim         W\n",
        "0    2  1.915010  1.434726  1.855435\n",
        "1    2  2.222751  1.130876  1.398250\n",
        "2    2  2.163898  1.226227  1.508065\n",
        "3    4  2.367165  0.987216  1.648374\n",
        "4    2  2.238995  1.176920  1.864980\n",
        "Evaluating (df['top']==4) ...\n",
        "dbg:D after\n",
        "    top        Q2  mmpippim         W\n",
        "3     4  2.367165  0.987216  1.648374\n",
        "10    4  1.987084  0.973562  1.851645\n",
        "14    4  2.160528  0.940055  1.643379\n",
        "15    4  1.934059  0.910800  1.853438\n",
        "18    4  2.342097  0.998588  1.612679\n",
        "-----\n",
        "Q2 binning \n",
        "-----\n",
        "NQ2BINS=1,Q2BINW=0.6000 GeV^2\n",
        "['1.9000', '2.5000']\n",
        "-----\n",
        "W binning \n",
        "-----\n",
        "NWBINS=1,WBINW=0.6000 GeV\n",
        "['1.3000', '1.9000']\n",
        "-----\n",
        "OUTDIR=/home/trivedia/CLAS/workspace/ana2pi/sub_studies/study_vars/q2w2/sim_nmcor_gpp-5 \n",
        "-----\n",
        "HOFT= [Hist2D('mmpippim_OFT')]\n",
        "HRES= [Hist2D('mmpippim_RES')]\n",
        "-----\n",
        "Importing d2pi.root -> DataFrame\n",
        "-----"
       ]
      },
      {
       "output_type": "stream",
       "stream": "stdout",
       "text": [
        "\n",
        "Going to use d2pi(sim_nmcor_gpp-6)\n",
        "File = /data/trivedia/e1f/study_vars/q2w2/sim_nmcor_gpp-6/recon/d2pi.root\n",
        "Variables to import directly into DataFrame= ['top', 'Q2', 'mmpippim', 'W']\n",
        "Variables to be added later to the DataFrame []\n",
        "-----\n",
        "Topology selection: tops to be used = "
       ]
      },
      {
       "output_type": "stream",
       "stream": "stderr",
       "text": [
        "WARNING:ROOT.TROOT.Append] Replacing existing TH1: mmpippim_OFT (Potential memory leak).\n"
       ]
      },
      {
       "output_type": "stream",
       "stream": "stderr",
       "text": [
        "WARNING:ROOT.TROOT.Append] Replacing existing TH1: mmpippim_RES (Potential memory leak).\n"
       ]
      },
      {
       "output_type": "stream",
       "stream": "stderr",
       "text": [
        "WARNING:ROOT.TROOT.Append] Replacing existing TH1: mmpippim_01_01 (Potential memory leak).\n"
       ]
      },
      {
       "output_type": "stream",
       "stream": "stdout",
       "text": [
        " [4] \n",
        "-----\n",
        "dbg:D before\n",
        "   top        Q2  mmpippim         W\n",
        "0    1  2.056597  0.956093  1.851401\n",
        "1    3  2.188988  1.371170  1.710064\n",
        "2    4  2.437568  0.998266  1.745973\n",
        "3    4  2.032708  0.905673  1.856210\n",
        "4    2  2.284116  1.271973  1.691661\n",
        "Evaluating (df['top']==4) ...\n",
        "dbg:D after\n",
        "    top        Q2  mmpippim         W\n",
        "2     4  2.437568  0.998266  1.745973\n",
        "3     4  2.032708  0.905673  1.856210\n",
        "26    4  2.445610  0.946686  1.855123\n",
        "43    4  1.912732  0.934224  1.869245\n",
        "52    4  2.394309  0.946036  1.857268\n",
        "-----\n",
        "Q2 binning \n",
        "-----\n",
        "NQ2BINS=1,Q2BINW=0.6000 GeV^2\n",
        "['1.9000', '2.5000']\n",
        "-----\n",
        "W binning \n",
        "-----\n",
        "NWBINS=1,WBINW=0.6000 GeV\n",
        "['1.3000', '1.9000']\n",
        "-----\n",
        "OUTDIR=/home/trivedia/CLAS/workspace/ana2pi/sub_studies/study_vars/q2w2/sim_nmcor_gpp-6 \n",
        "-----\n",
        "HOFT= [Hist2D('mmpippim_OFT')]\n",
        "HRES= [Hist2D('mmpippim_RES')]\n",
        "-----\n",
        "Importing d2pi.root -> DataFrame\n",
        "-----"
       ]
      },
      {
       "output_type": "stream",
       "stream": "stdout",
       "text": [
        "\n",
        "Going to use d2pi(sim_nmcor_gpp-7)\n",
        "File = /data/trivedia/e1f/study_vars/q2w2/sim_nmcor_gpp-7/recon/d2pi.root\n",
        "Variables to import directly into DataFrame= ['top', 'Q2', 'mmpippim', 'W']\n",
        "Variables to be added later to the DataFrame []\n",
        "-----\n",
        "Topology selection: tops to be used = "
       ]
      },
      {
       "output_type": "stream",
       "stream": "stderr",
       "text": [
        "WARNING:ROOT.TROOT.Append] Replacing existing TH1: mmpippim_OFT (Potential memory leak).\n"
       ]
      },
      {
       "output_type": "stream",
       "stream": "stderr",
       "text": [
        "WARNING:ROOT.TROOT.Append] Replacing existing TH1: mmpippim_RES (Potential memory leak).\n"
       ]
      },
      {
       "output_type": "stream",
       "stream": "stderr",
       "text": [
        "WARNING:ROOT.TROOT.Append] Replacing existing TH1: mmpippim_01_01 (Potential memory leak).\n"
       ]
      },
      {
       "output_type": "stream",
       "stream": "stdout",
       "text": [
        " [4] \n",
        "-----\n",
        "dbg:D before\n",
        "   top        Q2  mmpippim         W\n",
        "0    2  2.103438  2.345134  2.613237\n",
        "1    3  2.075456  1.213324  1.671690\n",
        "2    2  2.031242  1.152874  1.675725\n",
        "3    2  2.237019  1.203701  1.467517\n",
        "4    2  2.224438  1.492936  1.901834\n",
        "Evaluating (df['top']==4) ...\n",
        "dbg:D after\n",
        "    top        Q2  mmpippim         W\n",
        "17    4  2.228842  0.962128  1.645779\n",
        "18    4  2.194440  0.897491  1.840721\n",
        "23    4  2.199902  0.973164  1.850253\n",
        "26    4  2.116553  0.919886  1.696135\n",
        "32    4  1.927504  0.977802  1.611315\n",
        "-----\n",
        "Q2 binning \n",
        "-----\n",
        "NQ2BINS=1,Q2BINW=0.6000 GeV^2\n",
        "['1.9000', '2.5000']\n",
        "-----\n",
        "W binning \n",
        "-----\n",
        "NWBINS=1,WBINW=0.6000 GeV\n",
        "['1.3000', '1.9000']\n",
        "-----\n",
        "OUTDIR=/home/trivedia/CLAS/workspace/ana2pi/sub_studies/study_vars/q2w2/sim_nmcor_gpp-7 \n",
        "-----\n",
        "HOFT= [Hist2D('mmpippim_OFT')]\n",
        "HRES= [Hist2D('mmpippim_RES')]\n",
        "-----\n",
        "Importing d2pi.root -> DataFrame\n",
        "-----"
       ]
      },
      {
       "output_type": "stream",
       "stream": "stdout",
       "text": [
        "\n",
        "Going to use d2pi(sim_nmcor_gpp-8)\n",
        "File = /data/trivedia/e1f/study_vars/q2w2/sim_nmcor_gpp-8/recon/d2pi.root\n",
        "Variables to import directly into DataFrame= ['top', 'Q2', 'mmpippim', 'W']\n",
        "Variables to be added later to the DataFrame []\n",
        "-----\n",
        "Topology selection: tops to be used = "
       ]
      },
      {
       "output_type": "stream",
       "stream": "stderr",
       "text": [
        "WARNING:ROOT.TROOT.Append] Replacing existing TH1: mmpippim_OFT (Potential memory leak).\n"
       ]
      },
      {
       "output_type": "stream",
       "stream": "stderr",
       "text": [
        "WARNING:ROOT.TROOT.Append] Replacing existing TH1: mmpippim_RES (Potential memory leak).\n"
       ]
      },
      {
       "output_type": "stream",
       "stream": "stderr",
       "text": [
        "WARNING:ROOT.TROOT.Append] Replacing existing TH1: mmpippim_01_01 (Potential memory leak).\n"
       ]
      },
      {
       "output_type": "stream",
       "stream": "stdout",
       "text": [
        " [4] \n",
        "-----\n",
        "dbg:D before\n",
        "   top        Q2  mmpippim         W\n",
        "0    2  2.015828  1.137381  1.386101\n",
        "1    4  1.955386  1.037892  1.716527\n",
        "2    2  2.294343  1.154507  1.442032\n",
        "3    4  2.315349  1.009457  1.926516\n",
        "4    3  2.253140  1.250969  1.715747\n",
        "Evaluating (df['top']==4) ...\n",
        "dbg:D after\n",
        "    top        Q2  mmpippim         W\n",
        "1     4  1.955386  1.037892  1.716527\n",
        "3     4  2.315349  1.009457  1.926516\n",
        "8     4  2.093990  0.989420  1.795913\n",
        "18    4  2.123233  0.977270  1.934065\n",
        "43    4  2.014251  0.916007  1.558756\n",
        "-----\n",
        "Q2 binning \n",
        "-----\n",
        "NQ2BINS=1,Q2BINW=0.6000 GeV^2\n",
        "['1.9000', '2.5000']\n",
        "-----\n",
        "W binning \n",
        "-----\n",
        "NWBINS=1,WBINW=0.6000 GeV\n",
        "['1.3000', '1.9000']\n",
        "-----\n",
        "OUTDIR=/home/trivedia/CLAS/workspace/ana2pi/sub_studies/study_vars/q2w2/sim_nmcor_gpp-8 \n",
        "-----\n",
        "HOFT= [Hist2D('mmpippim_OFT')]\n",
        "HRES= [Hist2D('mmpippim_RES')]\n",
        "-----\n",
        "Importing d2pi.root -> DataFrame\n",
        "-----"
       ]
      },
      {
       "output_type": "stream",
       "stream": "stdout",
       "text": [
        "\n",
        "Going to use d2pi(sim_nmcor_gpp-9)\n",
        "File = /data/trivedia/e1f/study_vars/q2w2/sim_nmcor_gpp-9/recon/d2pi.root\n",
        "Variables to import directly into DataFrame= ['top', 'Q2', 'mmpippim', 'W']\n",
        "Variables to be added later to the DataFrame []\n",
        "-----\n",
        "Topology selection: tops to be used = "
       ]
      },
      {
       "output_type": "stream",
       "stream": "stderr",
       "text": [
        "WARNING:ROOT.TROOT.Append] Replacing existing TH1: mmpippim_OFT (Potential memory leak).\n"
       ]
      },
      {
       "output_type": "stream",
       "stream": "stderr",
       "text": [
        "WARNING:ROOT.TROOT.Append] Replacing existing TH1: mmpippim_RES (Potential memory leak).\n"
       ]
      },
      {
       "output_type": "stream",
       "stream": "stderr",
       "text": [
        "WARNING:ROOT.TROOT.Append] Replacing existing TH1: mmpippim_01_01 (Potential memory leak).\n"
       ]
      },
      {
       "output_type": "stream",
       "stream": "stdout",
       "text": [
        " [4] \n",
        "-----\n",
        "dbg:D before\n",
        "   top        Q2  mmpippim         W\n",
        "0    2  2.014490  1.406244  1.687240\n",
        "1    2  1.927754  1.650806  1.964545\n",
        "2    3  2.233994  1.312544  1.875641\n",
        "3    2  2.132872  1.332355  1.752092\n",
        "4    1  2.081036  0.922177  1.737157\n",
        "Evaluating (df['top']==4) ...\n",
        "dbg:D after\n",
        "    top        Q2  mmpippim         W\n",
        "9     4  2.048305  0.924084  1.736330\n",
        "14    4  2.443470  0.882762  1.645757\n",
        "16    4  1.935170  0.830694  1.788852\n",
        "29    4  2.349757  0.911034  1.901474\n",
        "35    4  2.396741  0.911524  1.768088\n",
        "-----\n",
        "Q2 binning \n",
        "-----\n",
        "NQ2BINS=1,Q2BINW=0.6000 GeV^2\n",
        "['1.9000', '2.5000']\n",
        "-----\n",
        "W binning \n",
        "-----\n",
        "NWBINS=1,WBINW=0.6000 GeV\n",
        "['1.3000', '1.9000']\n",
        "-----\n",
        "OUTDIR=/home/trivedia/CLAS/workspace/ana2pi/sub_studies/study_vars/q2w2/sim_nmcor_gpp-9 \n",
        "-----\n",
        "HOFT= [Hist2D('mmpippim_OFT')]\n",
        "HRES= [Hist2D('mmpippim_RES')]\n",
        "-----\n",
        "Importing d2pi.root -> DataFrame\n",
        "-----"
       ]
      },
      {
       "output_type": "stream",
       "stream": "stdout",
       "text": [
        "\n",
        "Going to use d2pi(sim_nmcor_gpp-10)\n",
        "File = /data/trivedia/e1f/study_vars/q2w2/sim_nmcor_gpp-10/recon/d2pi.root\n",
        "Variables to import directly into DataFrame= ['top', 'Q2', 'mmpippim', 'W']\n",
        "Variables to be added later to the DataFrame []\n",
        "-----\n",
        "Topology selection: tops to be used = "
       ]
      },
      {
       "output_type": "stream",
       "stream": "stderr",
       "text": [
        "WARNING:ROOT.TROOT.Append] Replacing existing TH1: mmpippim_OFT (Potential memory leak).\n"
       ]
      },
      {
       "output_type": "stream",
       "stream": "stderr",
       "text": [
        "WARNING:ROOT.TROOT.Append] Replacing existing TH1: mmpippim_RES (Potential memory leak).\n"
       ]
      },
      {
       "output_type": "stream",
       "stream": "stderr",
       "text": [
        "WARNING:ROOT.TROOT.Append] Replacing existing TH1: mmpippim_01_01 (Potential memory leak).\n"
       ]
      },
      {
       "output_type": "stream",
       "stream": "stdout",
       "text": [
        " [4] \n",
        "-----\n",
        "dbg:D before\n",
        "   top        Q2  mmpippim         W\n",
        "0    2  1.875769  1.416745  1.667687\n",
        "1    4  2.441293  0.954454  1.836005\n",
        "2    1  2.246424  0.939086  1.774571\n",
        "3    4  2.105846  0.958338  1.827557\n",
        "4    2  2.148120  1.469365  1.878083\n",
        "Evaluating (df['top']==4) ...\n",
        "dbg:D after\n",
        "    top        Q2  mmpippim         W\n",
        "1     4  2.441293  0.954454  1.836005\n",
        "3     4  2.105846  0.958338  1.827557\n",
        "69    4  2.131894  0.953094  1.863562\n",
        "72    4  2.021005  0.934577  1.687227\n",
        "90    4  2.046384  1.038547  1.876946\n",
        "-----\n",
        "Q2 binning \n",
        "-----\n",
        "NQ2BINS=1,Q2BINW=0.6000 GeV^2\n",
        "['1.9000', '2.5000']\n",
        "-----\n",
        "W binning \n",
        "-----\n",
        "NWBINS=1,WBINW=0.6000 GeV\n",
        "['1.3000', '1.9000']\n",
        "-----\n",
        "OUTDIR=/home/trivedia/CLAS/workspace/ana2pi/sub_studies/study_vars/q2w2/sim_nmcor_gpp-10 \n",
        "-----\n",
        "HOFT= [Hist2D('mmpippim_OFT')]\n",
        "HRES= [Hist2D('mmpippim_RES')]\n",
        "-----\n",
        "Importing d2pi.root -> DataFrame\n",
        "-----"
       ]
      },
      {
       "output_type": "stream",
       "stream": "stdout",
       "text": [
        "\n",
        "Going to use d2pi(sim_nmcor_gpp-11)\n",
        "File = /data/trivedia/e1f/study_vars/q2w2/sim_nmcor_gpp-11/recon/d2pi.root\n",
        "Variables to import directly into DataFrame= ['top', 'Q2', 'mmpippim', 'W']\n",
        "Variables to be added later to the DataFrame []\n",
        "-----\n",
        "Topology selection: tops to be used = "
       ]
      },
      {
       "output_type": "stream",
       "stream": "stderr",
       "text": [
        "WARNING:ROOT.TROOT.Append] Replacing existing TH1: mmpippim_OFT (Potential memory leak).\n"
       ]
      },
      {
       "output_type": "stream",
       "stream": "stderr",
       "text": [
        "WARNING:ROOT.TROOT.Append] Replacing existing TH1: mmpippim_RES (Potential memory leak).\n"
       ]
      },
      {
       "output_type": "stream",
       "stream": "stderr",
       "text": [
        "WARNING:ROOT.TROOT.Append] Replacing existing TH1: mmpippim_01_01 (Potential memory leak).\n"
       ]
      },
      {
       "output_type": "stream",
       "stream": "stdout",
       "text": [
        " [4] \n",
        "-----\n",
        "dbg:D before\n",
        "   top        Q2  mmpippim         W\n",
        "0    2  2.212007  1.247315  1.752901\n",
        "1    2  2.023542  1.231575  1.516859\n",
        "2    2  2.304423  1.461357  1.737919\n",
        "3    2  2.352314  1.356406  1.664693\n",
        "4    2  1.954578  1.313648  1.558589\n",
        "Evaluating (df['top']==4) ...\n",
        "dbg:D after\n",
        "    top        Q2  mmpippim         W\n",
        "11    4  1.913012  0.948480  1.808491\n",
        "13    4  1.909701  0.955094  1.673572\n",
        "30    4  2.016750  0.958837  1.643851\n",
        "48    4  1.930524  0.940098  1.588539\n",
        "93    4  2.104148  1.019312  1.994440\n",
        "-----\n",
        "Q2 binning \n",
        "-----\n",
        "NQ2BINS=1,Q2BINW=0.6000 GeV^2\n",
        "['1.9000', '2.5000']\n",
        "-----\n",
        "W binning \n",
        "-----\n",
        "NWBINS=1,WBINW=0.6000 GeV\n",
        "['1.3000', '1.9000']\n",
        "-----\n",
        "OUTDIR=/home/trivedia/CLAS/workspace/ana2pi/sub_studies/study_vars/q2w2/sim_nmcor_gpp-11 \n",
        "-----\n",
        "HOFT= [Hist2D('mmpippim_OFT')]\n",
        "HRES= [Hist2D('mmpippim_RES')]\n",
        "-----\n",
        "Importing d2pi.root -> DataFrame\n",
        "-----"
       ]
      },
      {
       "output_type": "stream",
       "stream": "stdout",
       "text": [
        "\n",
        "Going to use d2pi(sim_nmcor_gpp-12)\n",
        "File = /data/trivedia/e1f/study_vars/q2w2/sim_nmcor_gpp-12/recon/d2pi.root\n",
        "Variables to import directly into DataFrame= ['top', 'Q2', 'mmpippim', 'W']\n",
        "Variables to be added later to the DataFrame []\n",
        "-----\n",
        "Topology selection: tops to be used = "
       ]
      },
      {
       "output_type": "stream",
       "stream": "stderr",
       "text": [
        "WARNING:ROOT.TROOT.Append] Replacing existing TH1: mmpippim_OFT (Potential memory leak).\n"
       ]
      },
      {
       "output_type": "stream",
       "stream": "stderr",
       "text": [
        "WARNING:ROOT.TROOT.Append] Replacing existing TH1: mmpippim_RES (Potential memory leak).\n"
       ]
      },
      {
       "output_type": "stream",
       "stream": "stderr",
       "text": [
        "WARNING:ROOT.TROOT.Append] Replacing existing TH1: mmpippim_01_01 (Potential memory leak).\n"
       ]
      },
      {
       "output_type": "stream",
       "stream": "stdout",
       "text": [
        " [4] \n",
        "-----\n",
        "dbg:D before\n",
        "   top        Q2  mmpippim         W\n",
        "0    4  2.366619  0.932450  1.827724\n",
        "1    2  2.375338  1.499821  1.862975\n",
        "2    2  2.338656  1.383414  1.710098\n",
        "3    2  2.166887  1.117745  1.536987\n",
        "4    1  2.210021  0.998737  1.826558\n",
        "Evaluating (df['top']==4) ...\n",
        "dbg:D after\n",
        "    top        Q2  mmpippim         W\n",
        "0     4  2.366619  0.932450  1.827724\n",
        "14    4  2.515108  0.909959  1.639364\n",
        "18    4  1.979809  0.947335  1.799044\n",
        "27    4  2.257386  0.927740  1.767816\n",
        "40    4  2.084059  0.904316  1.633495\n",
        "-----\n",
        "Q2 binning \n",
        "-----\n",
        "NQ2BINS=1,Q2BINW=0.6000 GeV^2\n",
        "['1.9000', '2.5000']\n",
        "-----\n",
        "W binning \n",
        "-----\n",
        "NWBINS=1,WBINW=0.6000 GeV\n",
        "['1.3000', '1.9000']\n",
        "-----\n",
        "OUTDIR=/home/trivedia/CLAS/workspace/ana2pi/sub_studies/study_vars/q2w2/sim_nmcor_gpp-12 \n",
        "-----\n",
        "HOFT= [Hist2D('mmpippim_OFT')]\n",
        "HRES= [Hist2D('mmpippim_RES')]\n",
        "-----\n",
        "Importing d2pi.root -> DataFrame\n",
        "-----"
       ]
      },
      {
       "output_type": "stream",
       "stream": "stdout",
       "text": [
        "\n",
        "Going to use d2pi(sim_nmcor_gpp-13)\n",
        "File = /data/trivedia/e1f/study_vars/q2w2/sim_nmcor_gpp-13/recon/d2pi.root\n",
        "Variables to import directly into DataFrame= ['top', 'Q2', 'mmpippim', 'W']\n",
        "Variables to be added later to the DataFrame []\n",
        "-----\n",
        "Topology selection: tops to be used = "
       ]
      },
      {
       "output_type": "stream",
       "stream": "stderr",
       "text": [
        "WARNING:ROOT.TROOT.Append] Replacing existing TH1: mmpippim_OFT (Potential memory leak).\n"
       ]
      },
      {
       "output_type": "stream",
       "stream": "stderr",
       "text": [
        "WARNING:ROOT.TROOT.Append] Replacing existing TH1: mmpippim_RES (Potential memory leak).\n"
       ]
      },
      {
       "output_type": "stream",
       "stream": "stderr",
       "text": [
        "WARNING:ROOT.TROOT.Append] Replacing existing TH1: mmpippim_01_01 (Potential memory leak).\n"
       ]
      },
      {
       "output_type": "stream",
       "stream": "stdout",
       "text": [
        " [4] \n",
        "-----\n",
        "dbg:D before\n",
        "   top        Q2  mmpippim         W\n",
        "0    3  2.244581  1.282645  1.758408\n",
        "1    2  2.298131  1.146958  1.470907\n",
        "2    4  2.143001  0.936321  1.739850\n",
        "3    1  2.196578  0.929124  1.745464\n",
        "4    2  1.917434  1.409477  1.825585\n",
        "Evaluating (df['top']==4) ...\n",
        "dbg:D after\n",
        "    top        Q2  mmpippim         W\n",
        "2     4  2.143001  0.936321  1.739850\n",
        "11    4  1.994204  0.945881  1.621136\n",
        "20    4  2.484180  1.063895  1.814766\n",
        "29    4  2.191915  0.954114  1.851680\n",
        "31    4  2.093440  0.945575  1.620415\n",
        "-----\n",
        "Q2 binning \n",
        "-----\n",
        "NQ2BINS=1,Q2BINW=0.6000 GeV^2\n",
        "['1.9000', '2.5000']\n",
        "-----\n",
        "W binning \n",
        "-----\n",
        "NWBINS=1,WBINW=0.6000 GeV\n",
        "['1.3000', '1.9000']\n",
        "-----\n",
        "OUTDIR=/home/trivedia/CLAS/workspace/ana2pi/sub_studies/study_vars/q2w2/sim_nmcor_gpp-13 \n",
        "-----\n",
        "HOFT= [Hist2D('mmpippim_OFT')]\n",
        "HRES= [Hist2D('mmpippim_RES')]\n",
        "-----\n",
        "Importing d2pi.root -> DataFrame\n",
        "-----"
       ]
      },
      {
       "output_type": "stream",
       "stream": "stdout",
       "text": [
        "\n",
        "Going to use d2pi(sim_nmcor_gpp-14)\n",
        "File = /data/trivedia/e1f/study_vars/q2w2/sim_nmcor_gpp-14/recon/d2pi.root\n",
        "Variables to import directly into DataFrame= ['top', 'Q2', 'mmpippim', 'W']\n",
        "Variables to be added later to the DataFrame []\n",
        "-----\n",
        "Topology selection: tops to be used = "
       ]
      },
      {
       "output_type": "stream",
       "stream": "stderr",
       "text": [
        "WARNING:ROOT.TROOT.Append] Replacing existing TH1: mmpippim_OFT (Potential memory leak).\n"
       ]
      },
      {
       "output_type": "stream",
       "stream": "stderr",
       "text": [
        "WARNING:ROOT.TROOT.Append] Replacing existing TH1: mmpippim_RES (Potential memory leak).\n"
       ]
      },
      {
       "output_type": "stream",
       "stream": "stderr",
       "text": [
        "WARNING:ROOT.TROOT.Append] Replacing existing TH1: mmpippim_01_01 (Potential memory leak).\n"
       ]
      },
      {
       "output_type": "stream",
       "stream": "stdout",
       "text": [
        " [4] \n",
        "-----\n",
        "dbg:D before\n",
        "   top        Q2  mmpippim         W\n",
        "0    4  2.157955  0.946463  1.791684\n",
        "1    2  1.909148  1.456306  1.814431\n",
        "2    3  2.200742  1.286262  1.728269\n",
        "3    1  2.320385  0.946543  1.562862\n",
        "4    2  2.259932  1.131649  1.428829\n",
        "Evaluating (df['top']==4) ...\n",
        "dbg:D after\n",
        "    top        Q2  mmpippim         W\n",
        "0     4  2.157955  0.946463  1.791684\n",
        "23    4  2.071491  0.935717  1.627465\n",
        "25    4  1.970105  0.940627  1.741105\n",
        "28    4  2.188776  0.946231  1.778466\n",
        "30    4  2.317522  0.925746  1.789295\n",
        "-----\n",
        "Q2 binning \n",
        "-----\n",
        "NQ2BINS=1,Q2BINW=0.6000 GeV^2\n",
        "['1.9000', '2.5000']\n",
        "-----\n",
        "W binning \n",
        "-----\n",
        "NWBINS=1,WBINW=0.6000 GeV\n",
        "['1.3000', '1.9000']\n",
        "-----\n",
        "OUTDIR=/home/trivedia/CLAS/workspace/ana2pi/sub_studies/study_vars/q2w2/sim_nmcor_gpp-14 \n",
        "-----\n",
        "HOFT= [Hist2D('mmpippim_OFT')]\n",
        "HRES= [Hist2D('mmpippim_RES')]\n",
        "-----\n",
        "Importing d2pi.root -> DataFrame\n",
        "-----"
       ]
      },
      {
       "output_type": "stream",
       "stream": "stdout",
       "text": [
        "\n",
        "Going to use d2pi(sim_nmcor_gpp-15)\n",
        "File = /data/trivedia/e1f/study_vars/q2w2/sim_nmcor_gpp-15/recon/d2pi.root\n",
        "Variables to import directly into DataFrame= ['top', 'Q2', 'mmpippim', 'W']\n",
        "Variables to be added later to the DataFrame []\n",
        "-----\n",
        "Topology selection: tops to be used = "
       ]
      },
      {
       "output_type": "stream",
       "stream": "stderr",
       "text": [
        "WARNING:ROOT.TROOT.Append] Replacing existing TH1: mmpippim_OFT (Potential memory leak).\n"
       ]
      },
      {
       "output_type": "stream",
       "stream": "stderr",
       "text": [
        "WARNING:ROOT.TROOT.Append] Replacing existing TH1: mmpippim_RES (Potential memory leak).\n"
       ]
      },
      {
       "output_type": "stream",
       "stream": "stderr",
       "text": [
        "WARNING:ROOT.TROOT.Append] Replacing existing TH1: mmpippim_01_01 (Potential memory leak).\n"
       ]
      },
      {
       "output_type": "stream",
       "stream": "stdout",
       "text": [
        " [4] \n",
        "-----\n",
        "dbg:D before\n",
        "   top        Q2  mmpippim         W\n",
        "0    2  2.149536  1.243640  1.681695\n",
        "1    4  2.118538  0.973628  1.880909\n",
        "2    2  1.972042  1.385633  1.833559\n",
        "3    2  2.054617  1.356436  1.646900\n",
        "4    2  2.284980  1.365438  1.647440\n",
        "Evaluating (df['top']==4) ...\n",
        "dbg:D after\n",
        "    top        Q2  mmpippim         W\n",
        "1     4  2.118538  0.973628  1.880909\n",
        "12    4  1.952470  0.730803  1.737480\n",
        "30    4  2.363436  0.918023  1.676423\n",
        "31    4  1.875036  1.026586  1.772110\n",
        "34    4  1.991218  0.988404  1.773470\n",
        "-----\n",
        "Q2 binning \n",
        "-----\n",
        "NQ2BINS=1,Q2BINW=0.6000 GeV^2\n",
        "['1.9000', '2.5000']\n",
        "-----\n",
        "W binning \n",
        "-----\n",
        "NWBINS=1,WBINW=0.6000 GeV\n",
        "['1.3000', '1.9000']\n",
        "-----\n",
        "OUTDIR=/home/trivedia/CLAS/workspace/ana2pi/sub_studies/study_vars/q2w2/sim_nmcor_gpp-15 \n",
        "-----\n",
        "HOFT= [Hist2D('mmpippim_OFT')]\n",
        "HRES= [Hist2D('mmpippim_RES')]\n",
        "-----\n",
        "Importing d2pi.root -> DataFrame\n",
        "-----"
       ]
      },
      {
       "output_type": "stream",
       "stream": "stdout",
       "text": [
        "\n",
        "Going to use d2pi(sim_nmcor_gpp-16)\n",
        "File = /data/trivedia/e1f/study_vars/q2w2/sim_nmcor_gpp-16/recon/d2pi.root\n",
        "Variables to import directly into DataFrame= ['top', 'Q2', 'mmpippim', 'W']\n",
        "Variables to be added later to the DataFrame []\n",
        "-----\n",
        "Topology selection: tops to be used = "
       ]
      },
      {
       "output_type": "stream",
       "stream": "stderr",
       "text": [
        "WARNING:ROOT.TROOT.Append] Replacing existing TH1: mmpippim_OFT (Potential memory leak).\n"
       ]
      },
      {
       "output_type": "stream",
       "stream": "stderr",
       "text": [
        "WARNING:ROOT.TROOT.Append] Replacing existing TH1: mmpippim_RES (Potential memory leak).\n"
       ]
      },
      {
       "output_type": "stream",
       "stream": "stderr",
       "text": [
        "WARNING:ROOT.TROOT.Append] Replacing existing TH1: mmpippim_01_01 (Potential memory leak).\n"
       ]
      },
      {
       "output_type": "stream",
       "stream": "stdout",
       "text": [
        " [4] \n",
        "-----\n",
        "dbg:D before\n",
        "   top        Q2  mmpippim         W\n",
        "0    2  1.953159  1.241127  1.505096\n",
        "1    4  2.117192  0.939418  1.789837\n",
        "2    2  2.187295  1.206633  1.559510\n",
        "3    2  1.930662  1.416577  1.792378\n",
        "4    2  2.410585  1.244416  1.601354\n",
        "Evaluating (df['top']==4) ...\n",
        "dbg:D after\n",
        "    top        Q2  mmpippim         W\n",
        "1     4  2.117192  0.939418  1.789837\n",
        "24    4  2.252230  1.063345  1.559052\n",
        "28    4  2.340881  0.962047  1.533260\n",
        "50    4  2.063556  0.956471  1.818186\n",
        "58    4  2.344855  0.909503  1.717728\n",
        "-----\n",
        "Q2 binning \n",
        "-----\n",
        "NQ2BINS=1,Q2BINW=0.6000 GeV^2\n",
        "['1.9000', '2.5000']\n",
        "-----\n",
        "W binning \n",
        "-----\n",
        "NWBINS=1,WBINW=0.6000 GeV\n",
        "['1.3000', '1.9000']\n",
        "-----\n",
        "OUTDIR=/home/trivedia/CLAS/workspace/ana2pi/sub_studies/study_vars/q2w2/sim_nmcor_gpp-16 \n",
        "-----\n",
        "HOFT= [Hist2D('mmpippim_OFT')]\n",
        "HRES= [Hist2D('mmpippim_RES')]\n",
        "-----\n",
        "Importing d2pi.root -> DataFrame\n",
        "-----"
       ]
      },
      {
       "output_type": "stream",
       "stream": "stdout",
       "text": [
        "\n",
        "Going to use d2pi(sim_nmcor_gpp-17)\n",
        "File = /data/trivedia/e1f/study_vars/q2w2/sim_nmcor_gpp-17/recon/d2pi.root\n",
        "Variables to import directly into DataFrame= ['top', 'Q2', 'mmpippim', 'W']\n",
        "Variables to be added later to the DataFrame []\n",
        "-----\n",
        "Topology selection: tops to be used = "
       ]
      },
      {
       "output_type": "stream",
       "stream": "stderr",
       "text": [
        "WARNING:ROOT.TROOT.Append] Replacing existing TH1: mmpippim_OFT (Potential memory leak).\n"
       ]
      },
      {
       "output_type": "stream",
       "stream": "stderr",
       "text": [
        "WARNING:ROOT.TROOT.Append] Replacing existing TH1: mmpippim_RES (Potential memory leak).\n"
       ]
      },
      {
       "output_type": "stream",
       "stream": "stderr",
       "text": [
        "WARNING:ROOT.TROOT.Append] Replacing existing TH1: mmpippim_01_01 (Potential memory leak).\n"
       ]
      },
      {
       "output_type": "stream",
       "stream": "stdout",
       "text": [
        " [4] \n",
        "-----\n",
        "dbg:D before\n",
        "   top        Q2  mmpippim         W\n",
        "0    2  1.981806  1.401336  1.718298\n",
        "1    4  1.942343  0.934923  1.811013\n",
        "2    2  2.108846  1.309482  1.704332\n",
        "3    2  2.076893  1.406012  1.822763\n",
        "4    2  2.025502  1.315603  1.694237\n",
        "Evaluating (df['top']==4) ...\n",
        "dbg:D after\n",
        "    top        Q2  mmpippim         W\n",
        "1     4  1.942343  0.934923  1.811013\n",
        "12    4  1.983589  0.930588  1.753813\n",
        "15    4  2.419418  0.949371  1.656046\n",
        "19    4  2.102915  0.963654  1.902721\n",
        "39    4  2.507814  1.008420  1.718168\n",
        "-----\n",
        "Q2 binning \n",
        "-----\n",
        "NQ2BINS=1,Q2BINW=0.6000 GeV^2\n",
        "['1.9000', '2.5000']\n",
        "-----\n",
        "W binning \n",
        "-----\n",
        "NWBINS=1,WBINW=0.6000 GeV\n",
        "['1.3000', '1.9000']\n",
        "-----\n",
        "OUTDIR=/home/trivedia/CLAS/workspace/ana2pi/sub_studies/study_vars/q2w2/sim_nmcor_gpp-17 \n",
        "-----\n",
        "HOFT= [Hist2D('mmpippim_OFT')]\n",
        "HRES= [Hist2D('mmpippim_RES')]\n",
        "-----\n",
        "Importing d2pi.root -> DataFrame\n",
        "-----"
       ]
      },
      {
       "output_type": "stream",
       "stream": "stdout",
       "text": [
        "\n",
        "Going to use d2pi(sim_nmcor_gpp-18)\n",
        "File = /data/trivedia/e1f/study_vars/q2w2/sim_nmcor_gpp-18/recon/d2pi.root\n",
        "Variables to import directly into DataFrame= ['top', 'Q2', 'mmpippim', 'W']\n",
        "Variables to be added later to the DataFrame []\n",
        "-----\n",
        "Topology selection: tops to be used = "
       ]
      },
      {
       "output_type": "stream",
       "stream": "stderr",
       "text": [
        "WARNING:ROOT.TROOT.Append] Replacing existing TH1: mmpippim_OFT (Potential memory leak).\n"
       ]
      },
      {
       "output_type": "stream",
       "stream": "stderr",
       "text": [
        "WARNING:ROOT.TROOT.Append] Replacing existing TH1: mmpippim_RES (Potential memory leak).\n"
       ]
      },
      {
       "output_type": "stream",
       "stream": "stderr",
       "text": [
        "WARNING:ROOT.TROOT.Append] Replacing existing TH1: mmpippim_01_01 (Potential memory leak).\n"
       ]
      },
      {
       "output_type": "stream",
       "stream": "stdout",
       "text": [
        " [4] \n",
        "-----\n",
        "dbg:D before\n",
        "   top        Q2  mmpippim         W\n",
        "0    2  1.951317  1.181328  1.736713\n",
        "1    2  2.162091  1.159314  1.328012\n",
        "2    4  1.995827  0.958592  1.594476\n",
        "3    2  2.022749  1.250312  1.611432\n",
        "4    2  1.874207  1.325603  1.909928\n",
        "Evaluating (df['top']==4) ...\n",
        "dbg:D after\n",
        "    top        Q2  mmpippim         W\n",
        "2     4  1.995827  0.958592  1.594476\n",
        "16    4  2.162982  0.998685  1.856311\n",
        "27    4  1.970211  0.923106  1.883311\n",
        "28    4  1.903920  1.056243  1.652469\n",
        "48    4  2.124807  0.926882  1.820472\n",
        "-----\n",
        "Q2 binning \n",
        "-----\n",
        "NQ2BINS=1,Q2BINW=0.6000 GeV^2\n",
        "['1.9000', '2.5000']\n",
        "-----\n",
        "W binning \n",
        "-----\n",
        "NWBINS=1,WBINW=0.6000 GeV\n",
        "['1.3000', '1.9000']\n",
        "-----\n",
        "OUTDIR=/home/trivedia/CLAS/workspace/ana2pi/sub_studies/study_vars/q2w2/sim_nmcor_gpp-18 \n",
        "-----\n",
        "HOFT= [Hist2D('mmpippim_OFT')]\n",
        "HRES= [Hist2D('mmpippim_RES')]\n",
        "-----\n",
        "Importing d2pi.root -> DataFrame\n",
        "-----"
       ]
      },
      {
       "output_type": "stream",
       "stream": "stdout",
       "text": [
        "\n",
        "Going to use d2pi(sim_nmcor_gpp-19)\n",
        "File = /data/trivedia/e1f/study_vars/q2w2/sim_nmcor_gpp-19/recon/d2pi.root\n",
        "Variables to import directly into DataFrame= ['top', 'Q2', 'mmpippim', 'W']\n",
        "Variables to be added later to the DataFrame []\n",
        "-----\n",
        "Topology selection: tops to be used = "
       ]
      },
      {
       "output_type": "stream",
       "stream": "stderr",
       "text": [
        "WARNING:ROOT.TROOT.Append] Replacing existing TH1: mmpippim_OFT (Potential memory leak).\n"
       ]
      },
      {
       "output_type": "stream",
       "stream": "stderr",
       "text": [
        "WARNING:ROOT.TROOT.Append] Replacing existing TH1: mmpippim_RES (Potential memory leak).\n"
       ]
      },
      {
       "output_type": "stream",
       "stream": "stderr",
       "text": [
        "WARNING:ROOT.TROOT.Append] Replacing existing TH1: mmpippim_01_01 (Potential memory leak).\n"
       ]
      },
      {
       "output_type": "stream",
       "stream": "stdout",
       "text": [
        " [4] \n",
        "-----\n",
        "dbg:D before\n",
        "   top        Q2  mmpippim         W\n",
        "0    2  2.494123  1.237339  1.519645\n",
        "1    2  2.065262  1.471196  1.748759\n",
        "2    2  2.235841  1.446235  1.653877\n",
        "3    2  2.108207  1.254357  1.794606\n",
        "4    3  2.250229  1.564947  1.879033\n",
        "Evaluating (df['top']==4) ...\n",
        "dbg:D after\n",
        "    top        Q2  mmpippim         W\n",
        "33    4  2.399266  1.043455  1.952299\n",
        "38    4  2.469782  0.923205  1.654188\n",
        "72    4  1.969499  1.017510  1.699158\n",
        "77    4  2.186905  0.979520  1.783216\n",
        "89    4  2.279092  0.916354  1.865562\n",
        "-----\n",
        "Q2 binning \n",
        "-----\n",
        "NQ2BINS=1,Q2BINW=0.6000 GeV^2\n",
        "['1.9000', '2.5000']\n",
        "-----\n",
        "W binning \n",
        "-----\n",
        "NWBINS=1,WBINW=0.6000 GeV\n",
        "['1.3000', '1.9000']\n",
        "-----\n",
        "OUTDIR=/home/trivedia/CLAS/workspace/ana2pi/sub_studies/study_vars/q2w2/sim_nmcor_gpp-19 \n",
        "-----\n",
        "HOFT= [Hist2D('mmpippim_OFT')]\n",
        "HRES= [Hist2D('mmpippim_RES')]\n",
        "-----\n",
        "Importing d2pi.root -> DataFrame\n",
        "-----"
       ]
      },
      {
       "output_type": "stream",
       "stream": "stdout",
       "text": [
        "\n",
        "Going to use d2pi(sim_nmcor_gpp-20)\n",
        "File = /data/trivedia/e1f/study_vars/q2w2/sim_nmcor_gpp-20/recon/d2pi.root\n",
        "Variables to import directly into DataFrame= ['top', 'Q2', 'mmpippim', 'W']\n",
        "Variables to be added later to the DataFrame []\n",
        "-----\n",
        "Topology selection: tops to be used = "
       ]
      },
      {
       "output_type": "stream",
       "stream": "stderr",
       "text": [
        "WARNING:ROOT.TROOT.Append] Replacing existing TH1: mmpippim_OFT (Potential memory leak).\n"
       ]
      },
      {
       "output_type": "stream",
       "stream": "stderr",
       "text": [
        "WARNING:ROOT.TROOT.Append] Replacing existing TH1: mmpippim_RES (Potential memory leak).\n"
       ]
      },
      {
       "output_type": "stream",
       "stream": "stderr",
       "text": [
        "WARNING:ROOT.TROOT.Append] Replacing existing TH1: mmpippim_01_01 (Potential memory leak).\n"
       ]
      },
      {
       "output_type": "stream",
       "stream": "stdout",
       "text": [
        " [4] \n",
        "-----\n",
        "dbg:D before\n",
        "   top        Q2  mmpippim         W\n",
        "0    2  2.151942  1.234699  1.769219\n",
        "1    2  1.988479  1.383293  1.685141\n",
        "2    3  2.382380  1.349215  1.803678\n",
        "3    1  2.470241  0.926940  1.528202\n",
        "4    2  2.182429  1.245770  1.814799\n",
        "Evaluating (df['top']==4) ...\n",
        "dbg:D after\n",
        "    top        Q2  mmpippim         W\n",
        "8     4  1.913240  0.927722  1.860303\n",
        "10    4  2.323167  0.945636  1.893102\n",
        "20    4  1.946519  0.913191  1.804905\n",
        "26    4  2.471392  1.025653  1.674172\n",
        "30    4  1.855135  1.034730  1.716813\n",
        "-----\n",
        "Q2 binning \n",
        "-----\n",
        "NQ2BINS=1,Q2BINW=0.6000 GeV^2\n",
        "['1.9000', '2.5000']\n",
        "-----\n",
        "W binning \n",
        "-----\n",
        "NWBINS=1,WBINW=0.6000 GeV\n",
        "['1.3000', '1.9000']\n",
        "-----\n",
        "OUTDIR=/home/trivedia/CLAS/workspace/ana2pi/sub_studies/study_vars/q2w2/sim_nmcor_gpp-20 \n",
        "-----\n",
        "HOFT= [Hist2D('mmpippim_OFT')]\n",
        "HRES= [Hist2D('mmpippim_RES')]\n",
        "-----\n",
        "Importing d2pi.root -> DataFrame\n",
        "-----"
       ]
      },
      {
       "output_type": "stream",
       "stream": "stdout",
       "text": [
        "\n",
        "Going to use d2pi(sim_nmcor_gpp-21)\n",
        "File = /data/trivedia/e1f/study_vars/q2w2/sim_nmcor_gpp-21/recon/d2pi.root\n",
        "Variables to import directly into DataFrame= ['top', 'Q2', 'mmpippim', 'W']\n",
        "Variables to be added later to the DataFrame []\n",
        "-----\n",
        "Topology selection: tops to be used = "
       ]
      },
      {
       "output_type": "stream",
       "stream": "stderr",
       "text": [
        "WARNING:ROOT.TROOT.Append] Replacing existing TH1: mmpippim_OFT (Potential memory leak).\n"
       ]
      },
      {
       "output_type": "stream",
       "stream": "stderr",
       "text": [
        "WARNING:ROOT.TROOT.Append] Replacing existing TH1: mmpippim_RES (Potential memory leak).\n"
       ]
      },
      {
       "output_type": "stream",
       "stream": "stderr",
       "text": [
        "WARNING:ROOT.TROOT.Append] Replacing existing TH1: mmpippim_01_01 (Potential memory leak).\n"
       ]
      },
      {
       "output_type": "stream",
       "stream": "stdout",
       "text": [
        " [4] \n",
        "-----\n",
        "dbg:D before\n",
        "   top        Q2  mmpippim         W\n",
        "0    3  2.065649  1.282147  1.879406\n",
        "1    2  2.236563  1.457984  1.795276\n",
        "2    1  1.909271  0.912173  1.730046\n",
        "3    2  1.950391  1.090930  1.468687\n",
        "4    2  2.447932  1.222467  1.487290\n",
        "Evaluating (df['top']==4) ...\n",
        "dbg:D after\n",
        "    top        Q2  mmpippim         W\n",
        "15    4  1.993470  1.013834  1.887025\n",
        "28    4  2.132557  0.915811  1.628118\n",
        "30    4  1.910070  0.980990  1.794511\n",
        "33    4  1.957804  0.922188  1.658574\n",
        "74    4  2.396517  0.938213  1.818264\n",
        "-----\n",
        "Q2 binning \n",
        "-----\n",
        "NQ2BINS=1,Q2BINW=0.6000 GeV^2\n",
        "['1.9000', '2.5000']\n",
        "-----\n",
        "W binning \n",
        "-----\n",
        "NWBINS=1,WBINW=0.6000 GeV\n",
        "['1.3000', '1.9000']\n",
        "-----\n",
        "OUTDIR=/home/trivedia/CLAS/workspace/ana2pi/sub_studies/study_vars/q2w2/sim_nmcor_gpp-21 \n",
        "-----\n",
        "HOFT= [Hist2D('mmpippim_OFT')]\n",
        "HRES= [Hist2D('mmpippim_RES')]\n",
        "-----\n",
        "Importing d2pi.root -> DataFrame\n",
        "-----"
       ]
      },
      {
       "output_type": "stream",
       "stream": "stdout",
       "text": [
        "\n",
        "Going to use d2pi(sim_nmcor_gpp-22)\n",
        "File = /data/trivedia/e1f/study_vars/q2w2/sim_nmcor_gpp-22/recon/d2pi.root\n",
        "Variables to import directly into DataFrame= ['top', 'Q2', 'mmpippim', 'W']\n",
        "Variables to be added later to the DataFrame []\n",
        "-----\n",
        "Topology selection: tops to be used = "
       ]
      },
      {
       "output_type": "stream",
       "stream": "stderr",
       "text": [
        "WARNING:ROOT.TROOT.Append] Replacing existing TH1: mmpippim_OFT (Potential memory leak).\n"
       ]
      },
      {
       "output_type": "stream",
       "stream": "stderr",
       "text": [
        "WARNING:ROOT.TROOT.Append] Replacing existing TH1: mmpippim_RES (Potential memory leak).\n"
       ]
      },
      {
       "output_type": "stream",
       "stream": "stderr",
       "text": [
        "WARNING:ROOT.TROOT.Append] Replacing existing TH1: mmpippim_01_01 (Potential memory leak).\n"
       ]
      },
      {
       "output_type": "stream",
       "stream": "stdout",
       "text": [
        " [4] \n",
        "-----\n",
        "dbg:D before\n",
        "   top        Q2  mmpippim         W\n",
        "0    2  2.119711  1.326144  1.601035\n",
        "1    4  2.189653  0.946161  1.367558\n",
        "2    2  1.982875  1.197059  1.471937\n",
        "3    2  1.947981  1.350032  1.789099\n",
        "4    2  2.298788  1.208405  1.822341\n",
        "Evaluating (df['top']==4) ...\n",
        "dbg:D after\n",
        "    top        Q2  mmpippim         W\n",
        "1     4  2.189653  0.946161  1.367558\n",
        "21    4  2.009844  0.922573  1.747323\n",
        "24    4  2.346054  0.939815  1.728530\n",
        "36    4  1.998852  0.919222  1.797229\n",
        "48    4  1.992090  0.937400  1.804228\n",
        "-----\n",
        "Q2 binning \n",
        "-----\n",
        "NQ2BINS=1,Q2BINW=0.6000 GeV^2\n",
        "['1.9000', '2.5000']\n",
        "-----\n",
        "W binning \n",
        "-----\n",
        "NWBINS=1,WBINW=0.6000 GeV\n",
        "['1.3000', '1.9000']\n",
        "-----\n",
        "OUTDIR=/home/trivedia/CLAS/workspace/ana2pi/sub_studies/study_vars/q2w2/sim_nmcor_gpp-22 \n",
        "-----\n",
        "HOFT= [Hist2D('mmpippim_OFT')]\n",
        "HRES= [Hist2D('mmpippim_RES')]\n",
        "-----\n",
        "Importing d2pi.root -> DataFrame\n",
        "-----"
       ]
      },
      {
       "output_type": "stream",
       "stream": "stdout",
       "text": [
        "\n",
        "Going to use d2pi(sim_nmcor_gpp-23)\n",
        "File = /data/trivedia/e1f/study_vars/q2w2/sim_nmcor_gpp-23/recon/d2pi.root\n",
        "Variables to import directly into DataFrame= ['top', 'Q2', 'mmpippim', 'W']\n",
        "Variables to be added later to the DataFrame []\n",
        "-----\n",
        "Topology selection: tops to be used = "
       ]
      },
      {
       "output_type": "stream",
       "stream": "stderr",
       "text": [
        "WARNING:ROOT.TROOT.Append] Replacing existing TH1: mmpippim_OFT (Potential memory leak).\n"
       ]
      },
      {
       "output_type": "stream",
       "stream": "stderr",
       "text": [
        "WARNING:ROOT.TROOT.Append] Replacing existing TH1: mmpippim_RES (Potential memory leak).\n"
       ]
      },
      {
       "output_type": "stream",
       "stream": "stderr",
       "text": [
        "WARNING:ROOT.TROOT.Append] Replacing existing TH1: mmpippim_01_01 (Potential memory leak).\n"
       ]
      },
      {
       "output_type": "stream",
       "stream": "stdout",
       "text": [
        " [4] \n",
        "-----\n",
        "dbg:D before\n",
        "   top        Q2  mmpippim         W\n",
        "0    2  1.022846  2.291503  2.748358\n",
        "1    2  2.174145  1.639013  1.866734\n",
        "2    2  2.194888  1.428109  1.676606\n",
        "3    2  2.047339  1.112105  1.503745\n",
        "4    2  3.336045  2.316893  2.503856\n",
        "Evaluating (df['top']==4) ...\n",
        "dbg:D after\n",
        "    top        Q2  mmpippim         W\n",
        "19    4  2.198585  1.049112  1.730583\n",
        "25    4  2.432829  1.013258  1.799208\n",
        "53    4  1.970132  1.103029  1.927480\n",
        "60    4  2.386086  0.954051  1.860721\n",
        "69    4  2.089426  0.942205  1.682514\n",
        "-----\n",
        "Q2 binning \n",
        "-----\n",
        "NQ2BINS=1,Q2BINW=0.6000 GeV^2\n",
        "['1.9000', '2.5000']\n",
        "-----\n",
        "W binning \n",
        "-----\n",
        "NWBINS=1,WBINW=0.6000 GeV\n",
        "['1.3000', '1.9000']\n",
        "-----\n",
        "OUTDIR=/home/trivedia/CLAS/workspace/ana2pi/sub_studies/study_vars/q2w2/sim_nmcor_gpp-23 \n",
        "-----\n",
        "HOFT= [Hist2D('mmpippim_OFT')]\n",
        "HRES= [Hist2D('mmpippim_RES')]\n",
        "-----\n",
        "Importing d2pi.root -> DataFrame\n",
        "-----"
       ]
      },
      {
       "output_type": "stream",
       "stream": "stdout",
       "text": [
        "\n",
        "Going to use d2pi(sim_nmcor_gpp-24)\n",
        "File = /data/trivedia/e1f/study_vars/q2w2/sim_nmcor_gpp-24/recon/d2pi.root\n",
        "Variables to import directly into DataFrame= ['top', 'Q2', 'mmpippim', 'W']\n",
        "Variables to be added later to the DataFrame []\n",
        "-----\n",
        "Topology selection: tops to be used = "
       ]
      },
      {
       "output_type": "stream",
       "stream": "stderr",
       "text": [
        "WARNING:ROOT.TROOT.Append] Replacing existing TH1: mmpippim_OFT (Potential memory leak).\n"
       ]
      },
      {
       "output_type": "stream",
       "stream": "stderr",
       "text": [
        "WARNING:ROOT.TROOT.Append] Replacing existing TH1: mmpippim_RES (Potential memory leak).\n"
       ]
      },
      {
       "output_type": "stream",
       "stream": "stderr",
       "text": [
        "WARNING:ROOT.TROOT.Append] Replacing existing TH1: mmpippim_01_01 (Potential memory leak).\n"
       ]
      },
      {
       "output_type": "stream",
       "stream": "stdout",
       "text": [
        " [4] \n",
        "-----\n",
        "dbg:D before\n",
        "   top        Q2  mmpippim         W\n",
        "0    2  2.091223  1.281336  1.685857\n",
        "1    3  2.456825  1.408931  1.753074\n",
        "2    2  2.136832  1.211033  1.748650\n",
        "3    2  1.976060  1.355523  1.809015\n",
        "4    2  2.132650  1.139171  1.457106\n",
        "Evaluating (df['top']==4) ...\n",
        "dbg:D after\n",
        "    top        Q2  mmpippim         W\n",
        "9     4  2.243403  0.988458  1.721528\n",
        "15    4  2.136735  0.670188  1.339177\n",
        "16    4  2.337294  0.784994  1.716315\n",
        "29    4  2.043724  0.940674  1.715794\n",
        "44    4  2.170892  1.005472  1.748047\n",
        "-----\n",
        "Q2 binning \n",
        "-----\n",
        "NQ2BINS=1,Q2BINW=0.6000 GeV^2\n",
        "['1.9000', '2.5000']\n",
        "-----\n",
        "W binning \n",
        "-----\n",
        "NWBINS=1,WBINW=0.6000 GeV\n",
        "['1.3000', '1.9000']\n",
        "-----\n",
        "OUTDIR=/home/trivedia/CLAS/workspace/ana2pi/sub_studies/study_vars/q2w2/sim_nmcor_gpp-24 \n",
        "-----\n",
        "HOFT= [Hist2D('mmpippim_OFT')]\n",
        "HRES= [Hist2D('mmpippim_RES')]\n",
        "-----\n",
        "Importing d2pi.root -> DataFrame\n",
        "-----"
       ]
      },
      {
       "output_type": "stream",
       "stream": "stdout",
       "text": [
        "\n",
        "Going to use d2pi(sim_nmcor_gpp-25)\n",
        "File = /data/trivedia/e1f/study_vars/q2w2/sim_nmcor_gpp-25/recon/d2pi.root\n",
        "Variables to import directly into DataFrame= ['top', 'Q2', 'mmpippim', 'W']\n",
        "Variables to be added later to the DataFrame []\n",
        "-----\n",
        "Topology selection: tops to be used = "
       ]
      },
      {
       "output_type": "stream",
       "stream": "stderr",
       "text": [
        "WARNING:ROOT.TROOT.Append] Replacing existing TH1: mmpippim_OFT (Potential memory leak).\n"
       ]
      },
      {
       "output_type": "stream",
       "stream": "stderr",
       "text": [
        "WARNING:ROOT.TROOT.Append] Replacing existing TH1: mmpippim_RES (Potential memory leak).\n"
       ]
      },
      {
       "output_type": "stream",
       "stream": "stderr",
       "text": [
        "WARNING:ROOT.TROOT.Append] Replacing existing TH1: mmpippim_01_01 (Potential memory leak).\n"
       ]
      },
      {
       "output_type": "stream",
       "stream": "stdout",
       "text": [
        " [4] \n",
        "-----\n",
        "dbg:D before\n",
        "   top        Q2  mmpippim         W\n",
        "0    2  1.938340  1.168245  1.516968\n",
        "1    1  2.294309  0.927661  1.866043\n",
        "2    3  2.061723  1.457063  1.786984\n",
        "3    2  1.974990  1.080726  1.488230\n",
        "4    2  2.466061  1.390854  1.774158\n",
        "Evaluating (df['top']==4) ...\n",
        "dbg:D after\n",
        "    top        Q2  mmpippim         W\n",
        "11    4  1.969268  1.085013  1.834237\n",
        "13    4  2.334664  1.054230  1.868022\n",
        "15    4  2.092720  0.992076  1.912320\n",
        "21    4  1.912134  0.864514  1.671565\n",
        "32    4  2.325816  0.980198  1.799703\n",
        "-----\n",
        "Q2 binning \n",
        "-----\n",
        "NQ2BINS=1,Q2BINW=0.6000 GeV^2\n",
        "['1.9000', '2.5000']\n",
        "-----\n",
        "W binning \n",
        "-----\n",
        "NWBINS=1,WBINW=0.6000 GeV\n",
        "['1.3000', '1.9000']\n",
        "-----\n",
        "OUTDIR=/home/trivedia/CLAS/workspace/ana2pi/sub_studies/study_vars/q2w2/sim_nmcor_gpp-25 \n",
        "-----\n",
        "HOFT= [Hist2D('mmpippim_OFT')]\n",
        "HRES= [Hist2D('mmpippim_RES')]\n",
        "-----\n",
        "Importing d2pi.root -> DataFrame\n",
        "-----"
       ]
      },
      {
       "output_type": "stream",
       "stream": "stdout",
       "text": [
        "\n",
        "Going to use d2pi(sim_nmcor_gpp-26)\n",
        "File = /data/trivedia/e1f/study_vars/q2w2/sim_nmcor_gpp-26/recon/d2pi.root\n",
        "Variables to import directly into DataFrame= ['top', 'Q2', 'mmpippim', 'W']\n",
        "Variables to be added later to the DataFrame []\n",
        "-----\n",
        "Topology selection: tops to be used = "
       ]
      },
      {
       "output_type": "stream",
       "stream": "stderr",
       "text": [
        "WARNING:ROOT.TROOT.Append] Replacing existing TH1: mmpippim_OFT (Potential memory leak).\n"
       ]
      },
      {
       "output_type": "stream",
       "stream": "stderr",
       "text": [
        "WARNING:ROOT.TROOT.Append] Replacing existing TH1: mmpippim_RES (Potential memory leak).\n"
       ]
      },
      {
       "output_type": "stream",
       "stream": "stderr",
       "text": [
        "WARNING:ROOT.TROOT.Append] Replacing existing TH1: mmpippim_01_01 (Potential memory leak).\n"
       ]
      },
      {
       "output_type": "stream",
       "stream": "stdout",
       "text": [
        " [4] \n",
        "-----\n",
        "dbg:D before\n",
        "   top        Q2  mmpippim         W\n",
        "0    2  2.480082  1.542706  1.759478\n",
        "1    2  2.088297  1.676934  1.874931\n",
        "2    2  2.283990  1.430367  1.803349\n",
        "3    3  2.393832  1.562101  1.938396\n",
        "4    2  1.918147  1.405495  1.615479\n",
        "Evaluating (df['top']==4) ...\n",
        "dbg:D after\n",
        "    top        Q2  mmpippim         W\n",
        "10    4  1.951402  0.936396  1.490894\n",
        "12    4  2.404802  0.964522  1.750746\n",
        "13    4  2.251907  0.964965  1.804528\n",
        "18    4  2.044053  0.895433  1.682343\n",
        "68    4  2.017840  1.022529  1.922278\n",
        "-----\n",
        "Q2 binning \n",
        "-----\n",
        "NQ2BINS=1,Q2BINW=0.6000 GeV^2\n",
        "['1.9000', '2.5000']\n",
        "-----\n",
        "W binning \n",
        "-----\n",
        "NWBINS=1,WBINW=0.6000 GeV\n",
        "['1.3000', '1.9000']\n",
        "-----\n",
        "OUTDIR=/home/trivedia/CLAS/workspace/ana2pi/sub_studies/study_vars/q2w2/sim_nmcor_gpp-26 \n",
        "-----\n",
        "HOFT= [Hist2D('mmpippim_OFT')]\n",
        "HRES= [Hist2D('mmpippim_RES')]\n",
        "-----\n",
        "Importing d2pi.root -> DataFrame\n",
        "-----"
       ]
      },
      {
       "output_type": "stream",
       "stream": "stdout",
       "text": [
        "\n",
        "Going to use d2pi(sim_nmcor_gpp-27)\n",
        "File = /data/trivedia/e1f/study_vars/q2w2/sim_nmcor_gpp-27/recon/d2pi.root\n",
        "Variables to import directly into DataFrame= ['top', 'Q2', 'mmpippim', 'W']\n",
        "Variables to be added later to the DataFrame []\n",
        "-----\n",
        "Topology selection: tops to be used = "
       ]
      },
      {
       "output_type": "stream",
       "stream": "stderr",
       "text": [
        "WARNING:ROOT.TROOT.Append] Replacing existing TH1: mmpippim_OFT (Potential memory leak).\n"
       ]
      },
      {
       "output_type": "stream",
       "stream": "stderr",
       "text": [
        "WARNING:ROOT.TROOT.Append] Replacing existing TH1: mmpippim_RES (Potential memory leak).\n"
       ]
      },
      {
       "output_type": "stream",
       "stream": "stderr",
       "text": [
        "WARNING:ROOT.TROOT.Append] Replacing existing TH1: mmpippim_01_01 (Potential memory leak).\n"
       ]
      },
      {
       "output_type": "stream",
       "stream": "stdout",
       "text": [
        " [4] \n",
        "-----\n",
        "dbg:D before\n",
        "   top        Q2  mmpippim         W\n",
        "0    4  2.389295  0.980148  1.755737\n",
        "1    2  2.185469  1.553224  1.806277\n",
        "2    2  1.911848  1.407272  1.759479\n",
        "3    2  2.198412  1.306024  1.523282\n",
        "4    2  2.274021  1.567933  1.785674\n",
        "Evaluating (df['top']==4) ...\n",
        "dbg:D after\n",
        "    top        Q2  mmpippim         W\n",
        "0     4  2.389295  0.980148  1.755737\n",
        "7     4  2.067642  0.953367  1.912499\n",
        "9     4  2.432878  1.032299  1.793438\n",
        "25    4  2.083802  0.946695  1.920917\n",
        "27    4  2.308304  0.939536  1.848721\n",
        "-----\n",
        "Q2 binning \n",
        "-----\n",
        "NQ2BINS=1,Q2BINW=0.6000 GeV^2\n",
        "['1.9000', '2.5000']\n",
        "-----\n",
        "W binning \n",
        "-----\n",
        "NWBINS=1,WBINW=0.6000 GeV\n",
        "['1.3000', '1.9000']\n",
        "-----\n",
        "OUTDIR=/home/trivedia/CLAS/workspace/ana2pi/sub_studies/study_vars/q2w2/sim_nmcor_gpp-27 \n",
        "-----\n",
        "HOFT= [Hist2D('mmpippim_OFT')]\n",
        "HRES= [Hist2D('mmpippim_RES')]\n",
        "\n",
        "----OUTDIR"
       ]
      },
      {
       "output_type": "stream",
       "stream": "stdout",
       "text": [
        " q2w2/mmpippim/gpp-study \n",
        "----\n"
       ]
      }
     ],
     "prompt_number": 2
    },
    {
     "cell_type": "code",
     "collapsed": false,
     "input": [
      "reload(t)\n",
      "Xmu,Xsg=t.plot_comp_var2(hX,OUTDIR,frange=(0.90,0.96))"
     ],
     "language": "python",
     "metadata": {},
     "outputs": [],
     "prompt_number": "*"
    },
    {
     "cell_type": "code",
     "collapsed": false,
     "input": [
      "print Xmu"
     ],
     "language": "python",
     "metadata": {},
     "outputs": [
      {
       "output_type": "stream",
       "stream": "stdout",
       "text": [
        "OrderedDict([('exp_nmcor', [0.14310074267227438]), ('exp_ymcor', [0.14189122559008238]), ('sim_nmcor_gpp-1', [0.14612370268905206]), ('sim_nmcor_gpp-2', [0.14619660217930175]), ('sim_nmcor_gpp-3', [0.14734725542192442]), ('sim_nmcor_gpp-4', [0.1464473130826661]), ('sim_nmcor_gpp-5', [0.14627640778100925]), ('sim_nmcor_gpp-6', [0.1491220755003009]), ('sim_nmcor_gpp-7', [0.1508218861124233]), ('sim_nmcor_gpp-8', [0.15057964767528212]), ('sim_nmcor_gpp-9', [0.15249483703461614]), ('sim_nmcor_gpp-10', [0.14615690298348746]), ('sim_nmcor_gpp-11', [0.146423585828693]), ('sim_nmcor_gpp-12', [0.14915110270026358]), ('sim_nmcor_gpp-13', [0.14661700877165745]), ('sim_nmcor_gpp-14', [0.1465582451203574]), ('sim_nmcor_gpp-15', [0.14789466680545205]), ('sim_nmcor_gpp-16', [0.14950916799077527]), ('sim_nmcor_gpp-17', [0.14990231660290007]), ('sim_nmcor_gpp-18', [0.15216955987639244]), ('sim_nmcor_gpp-19', [0.14730691994208728]), ('sim_nmcor_gpp-20', [0.14787579183213556]), ('sim_nmcor_gpp-21', [0.15167291325440205]), ('sim_nmcor_gpp-22', [0.14779061238728602]), ('sim_nmcor_gpp-23', [0.14745090161103086]), ('sim_nmcor_gpp-24', [0.149940120465233]), ('sim_nmcor_gpp-25', [0.15233036475888775]), ('sim_nmcor_gpp-26', [0.15257389758799703]), ('sim_nmcor_gpp-27', [0.15299840721056746])])\n"
       ]
      }
     ],
     "prompt_number": 3
    },
    {
     "cell_type": "raw",
     "metadata": {},
     "source": [
      "Show Xmu(R) and Xsg(R)"
     ]
    },
    {
     "cell_type": "code",
     "collapsed": false,
     "input": [
      "#reload(t)\n",
      "#t.plot_varpar_vs_q2w(Xmu,Xsg,XMU)"
     ],
     "language": "python",
     "metadata": {},
     "outputs": [
      {
       "ename": "IndexError",
       "evalue": "list index out of range",
       "output_type": "pyerr",
       "traceback": [
        "\u001b[1;31m---------------------------------------------------------------------------\u001b[0m\n\u001b[1;31mIndexError\u001b[0m                                Traceback (most recent call last)",
        "\u001b[1;32m<ipython-input-11-96e16b5df0fe>\u001b[0m in \u001b[0;36m<module>\u001b[1;34m()\u001b[0m\n\u001b[0;32m      1\u001b[0m \u001b[0mreload\u001b[0m\u001b[1;33m(\u001b[0m\u001b[0mt\u001b[0m\u001b[1;33m)\u001b[0m\u001b[1;33m\u001b[0m\u001b[0m\n\u001b[1;32m----> 2\u001b[1;33m \u001b[0mt\u001b[0m\u001b[1;33m.\u001b[0m\u001b[0mplot_varpar_vs_q2w\u001b[0m\u001b[1;33m(\u001b[0m\u001b[0mXmu\u001b[0m\u001b[1;33m,\u001b[0m\u001b[0mXsg\u001b[0m\u001b[1;33m,\u001b[0m\u001b[0mXMU\u001b[0m\u001b[1;33m)\u001b[0m\u001b[1;33m\u001b[0m\u001b[0m\n\u001b[0m",
        "\u001b[1;32m/home/trivedia/CLAS/workspace/ana2pi/sub_studies/study_vars/study_vars_tools.pyc\u001b[0m in \u001b[0;36mplot_varpar_vs_q2w\u001b[1;34m(Xmu, Xsg, XMU)\u001b[0m\n\u001b[0;32m    312\u001b[0m                 \u001b[0mclr\u001b[0m\u001b[1;33m=\u001b[0m\u001b[0mnp\u001b[0m\u001b[1;33m.\u001b[0m\u001b[0mrandom\u001b[0m\u001b[1;33m.\u001b[0m\u001b[0mrand\u001b[0m\u001b[1;33m(\u001b[0m\u001b[1;36m3\u001b[0m\u001b[1;33m,\u001b[0m\u001b[1;36m1\u001b[0m\u001b[1;33m)\u001b[0m\u001b[1;33m\u001b[0m\u001b[0m\n\u001b[0;32m    313\u001b[0m                 \u001b[0max\u001b[0m\u001b[1;33m=\u001b[0m\u001b[0mplt\u001b[0m\u001b[1;33m.\u001b[0m\u001b[0msubplot\u001b[0m\u001b[1;33m(\u001b[0m\u001b[1;36m131\u001b[0m\u001b[1;33m)\u001b[0m\u001b[1;33m\u001b[0m\u001b[0m\n\u001b[1;32m--> 314\u001b[1;33m                 \u001b[0max\u001b[0m\u001b[1;33m.\u001b[0m\u001b[0mscatter\u001b[0m\u001b[1;33m(\u001b[0m\u001b[0mnp\u001b[0m\u001b[1;33m.\u001b[0m\u001b[0marange\u001b[0m\u001b[1;33m(\u001b[0m\u001b[0mlen\u001b[0m\u001b[1;33m(\u001b[0m\u001b[0mXmu\u001b[0m\u001b[1;33m[\u001b[0m\u001b[0mr\u001b[0m\u001b[1;33m]\u001b[0m\u001b[1;33m)\u001b[0m\u001b[1;33m)\u001b[0m\u001b[1;33m,\u001b[0m\u001b[0mXmu\u001b[0m\u001b[1;33m[\u001b[0m\u001b[0mr\u001b[0m\u001b[1;33m]\u001b[0m\u001b[1;33m,\u001b[0m\u001b[0mlabel\u001b[0m\u001b[1;33m=\u001b[0m\u001b[0mr\u001b[0m\u001b[1;33m,\u001b[0m\u001b[0mcolor\u001b[0m\u001b[1;33m=\u001b[0m\u001b[0mclrs\u001b[0m\u001b[1;33m[\u001b[0m\u001b[0mir\u001b[0m\u001b[1;33m]\u001b[0m\u001b[1;33m,\u001b[0m\u001b[0ms\u001b[0m\u001b[1;33m=\u001b[0m\u001b[1;36m50\u001b[0m\u001b[1;33m)\u001b[0m\u001b[1;31m#color=clrs[id])\u001b[0m\u001b[1;33m\u001b[0m\u001b[0m\n\u001b[0m\u001b[0;32m    315\u001b[0m                 \u001b[0max\u001b[0m\u001b[1;33m.\u001b[0m\u001b[0mset_ylim\u001b[0m\u001b[1;33m(\u001b[0m\u001b[0mXMU\u001b[0m\u001b[1;33m-\u001b[0m\u001b[1;36m.05\u001b[0m\u001b[1;33m,\u001b[0m\u001b[0mXMU\u001b[0m\u001b[1;33m+\u001b[0m\u001b[1;36m0.05\u001b[0m\u001b[1;33m)\u001b[0m\u001b[1;33m\u001b[0m\u001b[0m\n\u001b[0;32m    316\u001b[0m                 \u001b[0max\u001b[0m\u001b[1;33m.\u001b[0m\u001b[0mset_xlabel\u001b[0m\u001b[1;33m(\u001b[0m\u001b[1;34m\"W-bin\"\u001b[0m\u001b[1;33m)\u001b[0m\u001b[1;33m\u001b[0m\u001b[0m\n",
        "\u001b[1;31mIndexError\u001b[0m: list index out of range"
       ]
      },
      {
       "metadata": {},
       "output_type": "display_data",
       "png": "[encoded data removed]",
       "text": [
        "<matplotlib.figure.Figure at 0x7cdb8d0>"
       ]
      }
     ],
     "prompt_number": 11
    },
    {
     "cell_type": "markdown",
     "metadata": {},
     "source": [
      "In the case that the MM-cut in Simulation is not adapted to be similar to that in Experiment, the relative error in the cut-efficiency corrected Experimental yield is calculated as:\n",
      "\n",
      "$$\\frac{\\delta n}{n} = 1 - \\frac{\\epsilon^{exp}}{\\epsilon^{sim}}$$\n",
      "\n",
      "where\n",
      "\n",
      "+ $$n$$ cut-efficiency corrected Experimental yield\n",
      "+ $$\\epsilon^{exp}, \\epsilon^{sim}$$ efficiency of the MM-cut in exp and sim respectively"
     ]
    },
    {
     "cell_type": "code",
     "collapsed": false,
     "input": [
      "#reload(t)\n",
      "#t.plot_ana_varcut(Xmu,Xsg,XCUT)"
     ],
     "language": "python",
     "metadata": {},
     "outputs": [
      {
       "metadata": {},
       "output_type": "display_data",
       "png": "[encoded data removed]",
       "text": [
        "<matplotlib.figure.Figure at 0x6ebc2d0>"
       ]
      }
     ],
     "prompt_number": 7
    },
    {
     "cell_type": "code",
     "collapsed": false,
     "input": [
      "reload(t)\n",
      "t.plot_varpar_vs_R(Xmu,Xsg,XMU)"
     ],
     "language": "python",
     "metadata": {},
     "outputs": [
      {
       "metadata": {},
       "output_type": "display_data",
       "png": "[encoded data removed]",
       "text": [
        "<matplotlib.figure.Figure at 0x528fb10>"
       ]
      },
      {
       "metadata": {},
       "output_type": "display_data",
       "png": "[encoded data removed]",
       "text": [
        "<matplotlib.figure.Figure at 0x6fc0dd0>"
       ]
      }
     ],
     "prompt_number": 4
    },
    {
     "cell_type": "code",
     "collapsed": false,
     "input": [],
     "language": "python",
     "metadata": {},
     "outputs": []
    }
   ],
   "metadata": {}
  }
 ]
}