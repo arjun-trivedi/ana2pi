{
 "metadata": {
  "name": ""
 },
 "nbformat": 3,
 "nbformat_minor": 0,
 "worksheets": [
  {
   "cells": [
    {
     "cell_type": "code",
     "collapsed": false,
     "input": [
      "import study_vars_tools as t\n",
      "\n",
      "q2wdir='q2w2'\n",
      "hmm={}\n",
      "for r in ['exp_nmcor','exp_ymcor','sim_nmcor']:\n",
      "    t.init(q2wdir,0.6,0.025,[2],\n",
      "         ['mmppip'],\n",
      "         [(0.0,0.5)],\n",
      "         [(-0.03,0.03)],\n",
      "         r)\n",
      "    hmm[r]=t.plot_var()"
     ],
     "language": "python",
     "metadata": {},
     "outputs": [
      {
       "output_type": "stream",
       "stream": "stdout",
       "text": [
        "-----\n",
        "Importing d2pi.root -> DataFrame\n",
        "-----\n",
        "Going to use d2pi(exp_nmcor)\n",
        "File = /data/trivedia/e1f/study_MMs/q2w2/exp_nmcor/recon/d2pi.root\n",
        "Variables to import directly into DataFrame= ['top', 'Q2', 'mmppip', 'W']\n",
        "Variables to be added later to the DataFrame []\n",
        "-----\n",
        "Topology selection: tops to be used = "
       ]
      },
      {
       "output_type": "stream",
       "stream": "stdout",
       "text": [
        " [2] \n",
        "-----\n",
        "dbg:D before\n",
        "   top        Q2    mmppip         W\n",
        "0    2  2.060979  0.388011  1.634772\n",
        "1    4  2.022806  1.233451  1.533539\n",
        "2    4  1.937134  1.483865  1.768826\n",
        "3    1  2.041539  0.126278  1.850626\n",
        "4    1  1.906316  0.179179  1.485198\n",
        "Evaluating (df['top']==2) ...\n",
        "dbg:D after\n",
        "    top        Q2    mmppip         W\n",
        "0     2  2.060979  0.388011  1.634772\n",
        "5     2  2.206150  0.152484  1.897379\n",
        "9     2  1.942684  0.096037  1.692786\n",
        "10    2  2.016910  0.377259  1.832641\n",
        "11    2  2.220932  0.273815  1.753194\n",
        "-----\n",
        "Q2 binning \n",
        "-----\n",
        "NQ2BINS=1,Q2BINW=0.6000 GeV^2\n",
        "['1.9000', '2.5000']\n",
        "-----\n",
        "W binning \n",
        "-----\n",
        "NWBINS=24,WBINW=0.0250 GeV\n",
        "['1.3000', '1.3250', '1.3500', '1.3750', '1.4000', '1.4250', '1.4500', '1.4750', '1.5000', '1.5250', '1.5500', '1.5750', '1.6000', '1.6250', '1.6500', '1.6750', '1.7000', '1.7250', '1.7500', '1.7750', '1.8000', '1.8250', '1.8500', '1.8750', '1.9000']\n",
        "-----\n",
        "OUTDIR=/home/trivedia/CLAS/workspace/ana2pi/sub_studies/study_MMs/q2w2/exp_nmcor \n",
        "-----\n",
        "HOFT="
       ]
      },
      {
       "output_type": "stream",
       "stream": "stderr",
       "text": [
        "/usr/local/lib/python2.7/dist-packages/pandas/core/config.py:570: DeprecationWarning: height has been deprecated.\n",
        "\n",
        "  warnings.warn(d.msg, DeprecationWarning)\n",
        "/usr/local/lib/python2.7/dist-packages/root_numpy/_root_numpy.py:493: DeprecationWarning: fill_array is deprecated and will be removed. Please use fill_hist instead\n",
        "  \"Please use fill_hist instead\", DeprecationWarning)\n"
       ]
      },
      {
       "output_type": "stream",
       "stream": "stdout",
       "text": [
        " [Hist2D('mmppip_OFT')]\n",
        "HRES= [Hist2D('mmppip_RES')]\n",
        "-----\n",
        "Importing d2pi.root -> DataFrame\n",
        "-----"
       ]
      },
      {
       "output_type": "stream",
       "stream": "stdout",
       "text": [
        "\n",
        "Going to use d2pi(exp_ymcor)\n",
        "File = /data/trivedia/e1f/study_MMs/q2w2/exp_ymcor/recon/d2pi.root\n",
        "Variables to import directly into DataFrame= ['top', 'Q2', 'mmppip', 'W']\n",
        "Variables to be added later to the DataFrame []\n",
        "-----\n",
        "Topology selection: tops to be used = "
       ]
      },
      {
       "output_type": "stream",
       "stream": "stderr",
       "text": [
        "INFO:rootpy.logger] | No default log handler configured. See `logging` module |\n"
       ]
      },
      {
       "output_type": "stream",
       "stream": "stderr",
       "text": [
        "INFO:rootpy.logger] \\    To suppress: 'rootpy.log.basic_config_colorized()'   /\n"
       ]
      },
      {
       "output_type": "stream",
       "stream": "stderr",
       "text": [
        "WARNING:ROOT.TROOT.Append] Replacing existing TH1: mmppip_OFT (Potential memory leak).\n"
       ]
      },
      {
       "output_type": "stream",
       "stream": "stderr",
       "text": [
        "WARNING:ROOT.TROOT.Append] Replacing existing TH1: mmppip_RES (Potential memory leak).\n"
       ]
      },
      {
       "output_type": "stream",
       "stream": "stderr",
       "text": [
        "WARNING:ROOT.TROOT.Append] Replacing existing TH1: mmppip_01_01 (Potential memory leak).\n"
       ]
      },
      {
       "output_type": "stream",
       "stream": "stderr",
       "text": [
        "WARNING:ROOT.TROOT.Append] Replacing existing TH1: mmppip_01_02 (Potential memory leak).\n"
       ]
      },
      {
       "output_type": "stream",
       "stream": "stderr",
       "text": [
        "WARNING:ROOT.TROOT.Append] Replacing existing TH1: mmppip_01_03 (Potential memory leak).\n"
       ]
      },
      {
       "output_type": "stream",
       "stream": "stderr",
       "text": [
        "WARNING:ROOT.TROOT.Append] Replacing existing TH1: mmppip_01_04 (Potential memory leak).\n"
       ]
      },
      {
       "output_type": "stream",
       "stream": "stderr",
       "text": [
        "WARNING:ROOT.TROOT.Append] Replacing existing TH1: mmppip_01_05 (Potential memory leak).\n"
       ]
      },
      {
       "output_type": "stream",
       "stream": "stderr",
       "text": [
        "WARNING:ROOT.TROOT.Append] Replacing existing TH1: mmppip_01_06 (Potential memory leak).\n"
       ]
      },
      {
       "output_type": "stream",
       "stream": "stderr",
       "text": [
        "WARNING:ROOT.TROOT.Append] Replacing existing TH1: mmppip_01_07 (Potential memory leak).\n"
       ]
      },
      {
       "output_type": "stream",
       "stream": "stderr",
       "text": [
        "WARNING:ROOT.TROOT.Append] Replacing existing TH1: mmppip_01_08 (Potential memory leak).\n"
       ]
      },
      {
       "output_type": "stream",
       "stream": "stderr",
       "text": [
        "WARNING:ROOT.TROOT.Append] Replacing existing TH1: mmppip_01_09 (Potential memory leak).\n"
       ]
      },
      {
       "output_type": "stream",
       "stream": "stderr",
       "text": [
        "WARNING:ROOT.TROOT.Append] Replacing existing TH1: mmppip_01_10 (Potential memory leak).\n"
       ]
      },
      {
       "output_type": "stream",
       "stream": "stderr",
       "text": [
        "WARNING:ROOT.TROOT.Append] Replacing existing TH1: mmppip_01_11 (Potential memory leak).\n"
       ]
      },
      {
       "output_type": "stream",
       "stream": "stderr",
       "text": [
        "WARNING:ROOT.TROOT.Append] Replacing existing TH1: mmppip_01_12 (Potential memory leak).\n"
       ]
      },
      {
       "output_type": "stream",
       "stream": "stderr",
       "text": [
        "WARNING:ROOT.TROOT.Append] Replacing existing TH1: mmppip_01_13 (Potential memory leak).\n"
       ]
      },
      {
       "output_type": "stream",
       "stream": "stderr",
       "text": [
        "WARNING:ROOT.TROOT.Append] Replacing existing TH1: mmppip_01_14 (Potential memory leak).\n"
       ]
      },
      {
       "output_type": "stream",
       "stream": "stderr",
       "text": [
        "WARNING:ROOT.TROOT.Append] Replacing existing TH1: mmppip_01_15 (Potential memory leak).\n"
       ]
      },
      {
       "output_type": "stream",
       "stream": "stderr",
       "text": [
        "WARNING:ROOT.TROOT.Append] Replacing existing TH1: mmppip_01_16 (Potential memory leak).\n"
       ]
      },
      {
       "output_type": "stream",
       "stream": "stderr",
       "text": [
        "WARNING:ROOT.TROOT.Append] Replacing existing TH1: mmppip_01_17 (Potential memory leak).\n"
       ]
      },
      {
       "output_type": "stream",
       "stream": "stderr",
       "text": [
        "WARNING:ROOT.TROOT.Append] Replacing existing TH1: mmppip_01_18 (Potential memory leak).\n"
       ]
      },
      {
       "output_type": "stream",
       "stream": "stderr",
       "text": [
        "WARNING:ROOT.TROOT.Append] Replacing existing TH1: mmppip_01_19 (Potential memory leak).\n"
       ]
      },
      {
       "output_type": "stream",
       "stream": "stderr",
       "text": [
        "WARNING:ROOT.TROOT.Append] Replacing existing TH1: mmppip_01_20 (Potential memory leak).\n"
       ]
      },
      {
       "output_type": "stream",
       "stream": "stderr",
       "text": [
        "WARNING:ROOT.TROOT.Append] Replacing existing TH1: mmppip_01_21 (Potential memory leak).\n"
       ]
      },
      {
       "output_type": "stream",
       "stream": "stderr",
       "text": [
        "WARNING:ROOT.TROOT.Append] Replacing existing TH1: mmppip_01_22 (Potential memory leak).\n"
       ]
      },
      {
       "output_type": "stream",
       "stream": "stderr",
       "text": [
        "WARNING:ROOT.TROOT.Append] Replacing existing TH1: mmppip_01_23 (Potential memory leak).\n"
       ]
      },
      {
       "output_type": "stream",
       "stream": "stderr",
       "text": [
        "WARNING:ROOT.TROOT.Append] Replacing existing TH1: mmppip_01_24 (Potential memory leak).\n"
       ]
      },
      {
       "output_type": "stream",
       "stream": "stdout",
       "text": [
        " [2] \n",
        "-----\n",
        "dbg:D before\n",
        "   top        Q2    mmppip         W\n",
        "0    2  2.070127  0.371153  1.617025\n",
        "1    4  2.012479  1.248013  1.548177\n",
        "2    4  1.927142  1.496943  1.782109\n",
        "3    1  2.052747  0.093422  1.838957\n",
        "4    1  1.907208  0.177936  1.484136\n",
        "Evaluating (df['top']==2) ...\n",
        "dbg:D after\n",
        "    top        Q2    mmppip         W\n",
        "0     2  2.070127  0.371153  1.617025\n",
        "5     2  2.214931  0.129582  1.883840\n",
        "9     2  1.932451  0.115746  1.702788\n",
        "10    2  2.005985  0.381040  1.840196\n",
        "11    2  2.210862  0.297977  1.763959\n",
        "-----\n",
        "Q2 binning \n",
        "-----\n",
        "NQ2BINS=1,Q2BINW=0.6000 GeV^2\n",
        "['1.9000', '2.5000']\n",
        "-----\n",
        "W binning \n",
        "-----\n",
        "NWBINS=24,WBINW=0.0250 GeV\n",
        "['1.3000', '1.3250', '1.3500', '1.3750', '1.4000', '1.4250', '1.4500', '1.4750', '1.5000', '1.5250', '1.5500', '1.5750', '1.6000', '1.6250', '1.6500', '1.6750', '1.7000', '1.7250', '1.7500', '1.7750', '1.8000', '1.8250', '1.8500', '1.8750', '1.9000']\n",
        "-----\n",
        "OUTDIR=/home/trivedia/CLAS/workspace/ana2pi/sub_studies/study_MMs/q2w2/exp_ymcor \n",
        "-----\n",
        "HOFT= [Hist2D('mmppip_OFT')]\n",
        "HRES= [Hist2D('mmppip_RES')]\n",
        "-----\n",
        "Importing d2pi.root -> DataFrame\n",
        "-----"
       ]
      },
      {
       "output_type": "stream",
       "stream": "stdout",
       "text": [
        "\n",
        "Going to use d2pi(sim_nmcor)\n",
        "File = /data/trivedia/e1f/study_MMs/q2w2/sim_nmcor/recon/d2pi.root\n",
        "Variables to import directly into DataFrame= ['top', 'Q2', 'mmppip', 'W']\n",
        "Variables to be added later to the DataFrame []\n",
        "-----\n",
        "Topology selection: tops to be used = "
       ]
      },
      {
       "output_type": "stream",
       "stream": "stderr",
       "text": [
        "WARNING:ROOT.TROOT.Append] Replacing existing TH1: mmppip_OFT (Potential memory leak).\n"
       ]
      },
      {
       "output_type": "stream",
       "stream": "stderr",
       "text": [
        "WARNING:ROOT.TROOT.Append] Replacing existing TH1: mmppip_RES (Potential memory leak).\n"
       ]
      },
      {
       "output_type": "stream",
       "stream": "stderr",
       "text": [
        "WARNING:ROOT.TROOT.Append] Replacing existing TH1: mmppip_01_01 (Potential memory leak).\n"
       ]
      },
      {
       "output_type": "stream",
       "stream": "stderr",
       "text": [
        "WARNING:ROOT.TROOT.Append] Replacing existing TH1: mmppip_01_02 (Potential memory leak).\n"
       ]
      },
      {
       "output_type": "stream",
       "stream": "stderr",
       "text": [
        "WARNING:ROOT.TROOT.Append] Replacing existing TH1: mmppip_01_03 (Potential memory leak).\n"
       ]
      },
      {
       "output_type": "stream",
       "stream": "stderr",
       "text": [
        "WARNING:ROOT.TROOT.Append] Replacing existing TH1: mmppip_01_04 (Potential memory leak).\n"
       ]
      },
      {
       "output_type": "stream",
       "stream": "stderr",
       "text": [
        "WARNING:ROOT.TROOT.Append] Replacing existing TH1: mmppip_01_05 (Potential memory leak).\n"
       ]
      },
      {
       "output_type": "stream",
       "stream": "stderr",
       "text": [
        "WARNING:ROOT.TROOT.Append] Replacing existing TH1: mmppip_01_06 (Potential memory leak).\n"
       ]
      },
      {
       "output_type": "stream",
       "stream": "stderr",
       "text": [
        "WARNING:ROOT.TROOT.Append] Replacing existing TH1: mmppip_01_07 (Potential memory leak).\n"
       ]
      },
      {
       "output_type": "stream",
       "stream": "stderr",
       "text": [
        "WARNING:ROOT.TROOT.Append] Replacing existing TH1: mmppip_01_08 (Potential memory leak).\n"
       ]
      },
      {
       "output_type": "stream",
       "stream": "stderr",
       "text": [
        "WARNING:ROOT.TROOT.Append] Replacing existing TH1: mmppip_01_09 (Potential memory leak).\n"
       ]
      },
      {
       "output_type": "stream",
       "stream": "stderr",
       "text": [
        "WARNING:ROOT.TROOT.Append] Replacing existing TH1: mmppip_01_10 (Potential memory leak).\n"
       ]
      },
      {
       "output_type": "stream",
       "stream": "stderr",
       "text": [
        "WARNING:ROOT.TROOT.Append] Replacing existing TH1: mmppip_01_11 (Potential memory leak).\n"
       ]
      },
      {
       "output_type": "stream",
       "stream": "stderr",
       "text": [
        "WARNING:ROOT.TROOT.Append] Replacing existing TH1: mmppip_01_12 (Potential memory leak).\n"
       ]
      },
      {
       "output_type": "stream",
       "stream": "stderr",
       "text": [
        "WARNING:ROOT.TROOT.Append] Replacing existing TH1: mmppip_01_13 (Potential memory leak).\n"
       ]
      },
      {
       "output_type": "stream",
       "stream": "stderr",
       "text": [
        "WARNING:ROOT.TROOT.Append] Replacing existing TH1: mmppip_01_14 (Potential memory leak).\n"
       ]
      },
      {
       "output_type": "stream",
       "stream": "stderr",
       "text": [
        "WARNING:ROOT.TROOT.Append] Replacing existing TH1: mmppip_01_15 (Potential memory leak).\n"
       ]
      },
      {
       "output_type": "stream",
       "stream": "stderr",
       "text": [
        "WARNING:ROOT.TROOT.Append] Replacing existing TH1: mmppip_01_16 (Potential memory leak).\n"
       ]
      },
      {
       "output_type": "stream",
       "stream": "stderr",
       "text": [
        "WARNING:ROOT.TROOT.Append] Replacing existing TH1: mmppip_01_17 (Potential memory leak).\n"
       ]
      },
      {
       "output_type": "stream",
       "stream": "stderr",
       "text": [
        "WARNING:ROOT.TROOT.Append] Replacing existing TH1: mmppip_01_18 (Potential memory leak).\n"
       ]
      },
      {
       "output_type": "stream",
       "stream": "stderr",
       "text": [
        "WARNING:ROOT.TROOT.Append] Replacing existing TH1: mmppip_01_19 (Potential memory leak).\n"
       ]
      },
      {
       "output_type": "stream",
       "stream": "stderr",
       "text": [
        "WARNING:ROOT.TROOT.Append] Replacing existing TH1: mmppip_01_20 (Potential memory leak).\n"
       ]
      },
      {
       "output_type": "stream",
       "stream": "stderr",
       "text": [
        "WARNING:ROOT.TROOT.Append] Replacing existing TH1: mmppip_01_21 (Potential memory leak).\n"
       ]
      },
      {
       "output_type": "stream",
       "stream": "stderr",
       "text": [
        "WARNING:ROOT.TROOT.Append] Replacing existing TH1: mmppip_01_22 (Potential memory leak).\n"
       ]
      },
      {
       "output_type": "stream",
       "stream": "stderr",
       "text": [
        "WARNING:ROOT.TROOT.Append] Replacing existing TH1: mmppip_01_23 (Potential memory leak).\n"
       ]
      },
      {
       "output_type": "stream",
       "stream": "stderr",
       "text": [
        "WARNING:ROOT.TROOT.Append] Replacing existing TH1: mmppip_01_24 (Potential memory leak).\n"
       ]
      },
      {
       "output_type": "stream",
       "stream": "stdout",
       "text": [
        " [2] \n",
        "-----\n",
        "dbg:D before\n",
        "   top        Q2    mmppip         W\n",
        "0    2  2.006469  0.169789  1.576777\n",
        "1    4  2.499688  1.413699  1.856132\n",
        "2    2  1.947310  0.267814  1.807989\n",
        "3    1  1.939536  0.221310  1.688549\n",
        "4    2  2.214607  0.214416  1.832791\n",
        "Evaluating (df['top']==2) ...\n",
        "dbg:D after\n",
        "   top        Q2    mmppip         W\n",
        "0    2  2.006469  0.169789  1.576777\n",
        "2    2  1.947310  0.267814  1.807989\n",
        "4    2  2.214607  0.214416  1.832791\n",
        "5    2  2.215845  0.154153  1.705704\n",
        "6    2  2.028025  0.136971  1.470504\n",
        "-----\n",
        "Q2 binning \n",
        "-----\n",
        "NQ2BINS=1,Q2BINW=0.6000 GeV^2\n",
        "['1.9000', '2.5000']\n",
        "-----\n",
        "W binning \n",
        "-----\n",
        "NWBINS=24,WBINW=0.0250 GeV\n",
        "['1.3000', '1.3250', '1.3500', '1.3750', '1.4000', '1.4250', '1.4500', '1.4750', '1.5000', '1.5250', '1.5500', '1.5750', '1.6000', '1.6250', '1.6500', '1.6750', '1.7000', '1.7250', '1.7500', '1.7750', '1.8000', '1.8250', '1.8500', '1.8750', '1.9000']\n",
        "-----\n",
        "OUTDIR=/home/trivedia/CLAS/workspace/ana2pi/sub_studies/study_MMs/q2w2/sim_nmcor \n",
        "-----\n",
        "HOFT= [Hist2D('mmppip_OFT')]\n",
        "HRES= [Hist2D('mmppip_RES')]\n"
       ]
      }
     ],
     "prompt_number": 1
    },
    {
     "cell_type": "code",
     "collapsed": false,
     "input": [
      "import shutil\n",
      "outdir = \"-\".join(['exp_nmcor','exp_ymcor','sim_nmcor'])\n",
      "outdir = os.path.join(q2wdir,outdir)\n",
      "print outdir\n",
      "if os.path.exists(outdir):\n",
      "    shutil.rmtree(outdir)\n",
      "os.makedirs(outdir)"
     ],
     "language": "python",
     "metadata": {},
     "outputs": [
      {
       "output_type": "stream",
       "stream": "stdout",
       "text": [
        "q2w2/exp_nmcor-exp_ymcor-sim_nmcor\n"
       ]
      }
     ],
     "prompt_number": 2
    },
    {
     "cell_type": "code",
     "collapsed": false,
     "input": [
      "def gauss_ppi_hack(v, par):\n",
      "    arg = 0;\n",
      "    if (par[2] != 0): arg = (v[0] - par[1])/par[2];\n",
      "    binw=((0.40-0.00)/100)\n",
      "    fitval = par[0]*(1/(sqrt(2*pi)*par[2]))*exp(-0.5*arg*arg)*binw;\n",
      "    return fitval;\n",
      "fgauss = ROOT.TF1(\"fgauss\",gauss_ppi_hack,0.0,0.2,3);\n",
      "fgauss.SetParameters(1,0,1);\n",
      "fgauss.SetParName(0,\"Entries\")\n",
      "fgauss.SetParName(1,\"Mean\")\n",
      "fgauss.SetParName(2,\"Sigma\")"
     ],
     "language": "python",
     "metadata": {},
     "outputs": [],
     "prompt_number": 3
    },
    {
     "cell_type": "code",
     "collapsed": false,
     "input": [
      "clrs=[\"kRed\",\"kGreen\",\"kBlue\"]\n",
      "nq2wbins=len(hmm['exp_nmcor'])# should be same for all    \n",
      "\n",
      "for iq2w in range(nq2wbins):\n",
      "    c=ROOT.TCanvas('%02d'%(iq2w+1),'%02d'%(iq2w+1))\n",
      "    n1=None\n",
      "    for id,d in enumerate(['exp_nmcor','exp_ymcor','sim_nmcor']):\n",
      "        hmm[d][iq2w].SetLineColor(ROOT.gROOT.ProcessLine(clrs[id]))\n",
      "        hmm[d][iq2w].SetMarkerColor(ROOT.gROOT.ProcessLine(clrs[id]))\n",
      "        fgauss.SetParameters(1,0,1)\n",
      "        f=None\n",
      "        if id==0: # Directly fit 1st histogram; all others are normalized to the 1st hist\n",
      "            hmm[d][iq2w].Fit(\"fgauss\",\"\",\"\",0.1,0.2)#,\"\",\"\")\n",
      "            f=hmm[d][iq2w].GetFunction(\"fgauss\")\n",
      "            if f:\n",
      "                n1=f.GetParameter(0)\n",
      "                f.SetLineColor(ROOT.gROOT.ProcessLine(clrs[id]))\n",
      "                c.Update()\n",
      "            else:\n",
      "                n1=hmm[d][iq2w].GetEntries()\n",
      "        else: # the following histograms are normalized\n",
      "            hmm[d][iq2w].Fit(\"fgauss\",\"0\",\"\",0.1,0.2)\n",
      "            f=hmm[d][iq2w].GetFunction(\"fgauss\")\n",
      "            if f:\n",
      "                n=f.GetParameter(0)\n",
      "            else:\n",
      "                n=hmm[d][iq2w].GetEntries()           \n",
      "            norm=n1*(hmm[d][iq2w].GetEntries()/n)\n",
      "            hn=hmm[d][iq2w].DrawNormalized(\"sames\",norm)\n",
      "            hn.Fit(\"fgauss\",\"\",\"sames\",0.1,0.2)\n",
      "            f=hn.GetFunction(\"fgauss\")\n",
      "            if f:\n",
      "                f.SetLineColor(ROOT.gROOT.ProcessLine(clrs[id]))\n",
      "                c.Update()\n",
      "            \n",
      "            \n",
      "        \n",
      "#         #hmm[d][iq2w].Fit(\"fgauss\",\"0\")\n",
      "#         #f=hmm[d][iq2w].GetFunction(\"fgauss\")\n",
      "#         if d.find(\"exp\")>=0:\n",
      "#             if f:\n",
      "#                 nexp=fexp.GetParameter(0)\n",
      "#                 f.SetLineColor(ROOT.gROOT.ProcessLine(clrs[id]))\n",
      "#             else:\n",
      "#                 nexp=hmm[d][iq2w].GetEntries()\n",
      "#             if id==0:\n",
      "#                 hmm[d][iq2w].Fit(\"fgauss\",\"\",\"hist\")\n",
      "#             else:\n",
      "#                 hmm[d][iq2w].Fit(\"fgauss\",\"\",\"hist sames\")\n",
      "#         else:\n",
      "#             nsim=hmm[d][iq2w].GetEntries()\n",
      "            \n",
      "            \n",
      "#         if d.find(\"exp\")>=0:\n",
      "#             hmm[d][iq2w].Fit(\"fgauss\")\n",
      "#             fexp=hmm[d][iq2w].GetFunction(\"fgauss\")\n",
      "#             if fexp:\n",
      "#                 fexp.SetLineColor(ROOT.gROOT.ProcessLine(clrs[id]))\n",
      "#             else:\n",
      "#                 print \"no fexp\"\n",
      "#             c.Update()\n",
      "#         if id==0:\n",
      "#             hmm[d][iq2w].DrawNormalized(\"hist\",1000)\n",
      "#         else:\n",
      "#             hmm[d][iq2w].DrawNormalized(\"hist sames\",1000)\n",
      "    c.SaveAs(\"%s/%s.png\"%(outdir,c.GetName()))\n",
      "    c.Close()    "
     ],
     "language": "python",
     "metadata": {},
     "outputs": [
      {
       "output_type": "stream",
       "stream": "stderr",
       "text": [
        "INFO:ROOT.TCanvas.Print] png file q2w2/exp_nmcor-exp_ymcor-sim_nmcor/01.png has been created\n"
       ]
      },
      {
       "output_type": "stream",
       "stream": "stderr",
       "text": [
        "WARNING:ROOT.Fit] Abnormal termination of minimization.\n"
       ]
      },
      {
       "output_type": "stream",
       "stream": "stderr",
       "text": [
        "INFO:ROOT.TCanvas.Print] png file q2w2/exp_nmcor-exp_ymcor-sim_nmcor/02.png has been created\n"
       ]
      },
      {
       "output_type": "stream",
       "stream": "stderr",
       "text": [
        "INFO:ROOT.TCanvas.Print] png file q2w2/exp_nmcor-exp_ymcor-sim_nmcor/03.png has been created\n"
       ]
      },
      {
       "output_type": "stream",
       "stream": "stderr",
       "text": [
        "INFO:ROOT.TCanvas.Print] png file q2w2/exp_nmcor-exp_ymcor-sim_nmcor/04.png has been created\n"
       ]
      },
      {
       "output_type": "stream",
       "stream": "stderr",
       "text": [
        "WARNING:ROOT.Fit] Abnormal termination of minimization.\n"
       ]
      },
      {
       "output_type": "stream",
       "stream": "stderr",
       "text": [
        "INFO:ROOT.TCanvas.Print] png file q2w2/exp_nmcor-exp_ymcor-sim_nmcor/05.png has been created\n"
       ]
      },
      {
       "output_type": "stream",
       "stream": "stderr",
       "text": [
        "WARNING:ROOT.Fit] Abnormal termination of minimization.\n"
       ]
      },
      {
       "output_type": "stream",
       "stream": "stderr",
       "text": [
        "INFO:ROOT.TCanvas.Print] png file q2w2/exp_nmcor-exp_ymcor-sim_nmcor/06.png has been created\n"
       ]
      },
      {
       "output_type": "stream",
       "stream": "stderr",
       "text": [
        "WARNING:ROOT.Fit] Abnormal termination of minimization.\n"
       ]
      },
      {
       "output_type": "stream",
       "stream": "stderr",
       "text": [
        "INFO:ROOT.TCanvas.Print] png file q2w2/exp_nmcor-exp_ymcor-sim_nmcor/07.png has been created\n"
       ]
      },
      {
       "output_type": "stream",
       "stream": "stderr",
       "text": [
        "INFO:ROOT.TCanvas.Print] png file q2w2/exp_nmcor-exp_ymcor-sim_nmcor/08.png has been created\n"
       ]
      },
      {
       "output_type": "stream",
       "stream": "stderr",
       "text": [
        "INFO:ROOT.TCanvas.Print] png file q2w2/exp_nmcor-exp_ymcor-sim_nmcor/09.png has been created\n"
       ]
      },
      {
       "output_type": "stream",
       "stream": "stderr",
       "text": [
        "WARNING:ROOT.Fit] Abnormal termination of minimization.\n"
       ]
      },
      {
       "output_type": "stream",
       "stream": "stderr",
       "text": [
        "INFO:ROOT.TCanvas.Print] png file q2w2/exp_nmcor-exp_ymcor-sim_nmcor/10.png has been created\n"
       ]
      },
      {
       "output_type": "stream",
       "stream": "stderr",
       "text": [
        "WARNING:ROOT.Fit] Abnormal termination of minimization.\n"
       ]
      },
      {
       "output_type": "stream",
       "stream": "stderr",
       "text": [
        "WARNING:ROOT.Fit] Abnormal termination of minimization.\n"
       ]
      },
      {
       "output_type": "stream",
       "stream": "stderr",
       "text": [
        "WARNING:ROOT.Fit] Abnormal termination of minimization.\n"
       ]
      },
      {
       "output_type": "stream",
       "stream": "stderr",
       "text": [
        "INFO:ROOT.TCanvas.Print] png file q2w2/exp_nmcor-exp_ymcor-sim_nmcor/11.png has been created\n"
       ]
      },
      {
       "output_type": "stream",
       "stream": "stderr",
       "text": [
        "INFO:ROOT.TCanvas.Print] png file q2w2/exp_nmcor-exp_ymcor-sim_nmcor/12.png has been created\n"
       ]
      },
      {
       "output_type": "stream",
       "stream": "stderr",
       "text": [
        "WARNING:ROOT.Fit] Abnormal termination of minimization.\n"
       ]
      },
      {
       "output_type": "stream",
       "stream": "stderr",
       "text": [
        "INFO:ROOT.TCanvas.Print] png file q2w2/exp_nmcor-exp_ymcor-sim_nmcor/13.png has been created\n"
       ]
      },
      {
       "output_type": "stream",
       "stream": "stderr",
       "text": [
        "WARNING:ROOT.Fit] Abnormal termination of minimization.\n"
       ]
      },
      {
       "output_type": "stream",
       "stream": "stderr",
       "text": [
        "INFO:ROOT.TCanvas.Print] png file q2w2/exp_nmcor-exp_ymcor-sim_nmcor/14.png has been created\n"
       ]
      },
      {
       "output_type": "stream",
       "stream": "stderr",
       "text": [
        "INFO:ROOT.TCanvas.Print] png file q2w2/exp_nmcor-exp_ymcor-sim_nmcor/15.png has been created\n"
       ]
      },
      {
       "output_type": "stream",
       "stream": "stderr",
       "text": [
        "WARNING:ROOT.Fit] Abnormal termination of minimization.\n"
       ]
      },
      {
       "output_type": "stream",
       "stream": "stderr",
       "text": [
        "INFO:ROOT.TCanvas.Print] png file q2w2/exp_nmcor-exp_ymcor-sim_nmcor/16.png has been created\n"
       ]
      },
      {
       "output_type": "stream",
       "stream": "stderr",
       "text": [
        "WARNING:ROOT.Fit] Abnormal termination of minimization.\n"
       ]
      },
      {
       "output_type": "stream",
       "stream": "stderr",
       "text": [
        "INFO:ROOT.TCanvas.Print] png file q2w2/exp_nmcor-exp_ymcor-sim_nmcor/17.png has been created\n"
       ]
      },
      {
       "output_type": "stream",
       "stream": "stderr",
       "text": [
        "INFO:ROOT.TCanvas.Print] png file q2w2/exp_nmcor-exp_ymcor-sim_nmcor/18.png has been created\n"
       ]
      },
      {
       "output_type": "stream",
       "stream": "stderr",
       "text": [
        "INFO:ROOT.TCanvas.Print] png file q2w2/exp_nmcor-exp_ymcor-sim_nmcor/19.png has been created\n"
       ]
      },
      {
       "output_type": "stream",
       "stream": "stderr",
       "text": [
        "WARNING:ROOT.Fit] Abnormal termination of minimization.\n"
       ]
      },
      {
       "output_type": "stream",
       "stream": "stderr",
       "text": [
        "INFO:ROOT.TCanvas.Print] png file q2w2/exp_nmcor-exp_ymcor-sim_nmcor/20.png has been created\n"
       ]
      },
      {
       "output_type": "stream",
       "stream": "stderr",
       "text": [
        "INFO:ROOT.TCanvas.Print] png file q2w2/exp_nmcor-exp_ymcor-sim_nmcor/21.png has been created\n"
       ]
      },
      {
       "output_type": "stream",
       "stream": "stderr",
       "text": [
        "WARNING:ROOT.Fit] Abnormal termination of minimization.\n"
       ]
      },
      {
       "output_type": "stream",
       "stream": "stderr",
       "text": [
        "WARNING:ROOT.Fit] Abnormal termination of minimization.\n"
       ]
      },
      {
       "output_type": "stream",
       "stream": "stderr",
       "text": [
        "INFO:ROOT.TCanvas.Print] png file q2w2/exp_nmcor-exp_ymcor-sim_nmcor/22.png has been created\n"
       ]
      },
      {
       "output_type": "stream",
       "stream": "stderr",
       "text": [
        "WARNING:ROOT.Fit] Abnormal termination of minimization.\n"
       ]
      },
      {
       "output_type": "stream",
       "stream": "stderr",
       "text": [
        "INFO:ROOT.TCanvas.Print] png file q2w2/exp_nmcor-exp_ymcor-sim_nmcor/23.png has been created\n"
       ]
      },
      {
       "output_type": "stream",
       "stream": "stderr",
       "text": [
        "WARNING:ROOT.Fit] Abnormal termination of minimization.\n"
       ]
      },
      {
       "output_type": "stream",
       "stream": "stderr",
       "text": [
        "INFO:ROOT.TCanvas.Print] png file q2w2/exp_nmcor-exp_ymcor-sim_nmcor/24.png has been created\n"
       ]
      }
     ],
     "prompt_number": 7
    },
    {
     "cell_type": "code",
     "collapsed": false,
     "input": [],
     "language": "python",
     "metadata": {},
     "outputs": []
    },
    {
     "cell_type": "code",
     "collapsed": false,
     "input": [
      "r=plt.hist(np.random.normal(100,10,100000),bins=100,histtype='step')\n",
      "r=plt.hist(np.random.normal(100,10,50000),bins=100,histtype='step')"
     ],
     "language": "python",
     "metadata": {},
     "outputs": [
      {
       "metadata": {},
       "output_type": "display_data",
       "png": "[encoded data removed]",
       "text": [
        "<matplotlib.figure.Figure at 0xaccc650>"
       ]
      }
     ],
     "prompt_number": 66
    },
    {
     "cell_type": "code",
     "collapsed": false,
     "input": [],
     "language": "python",
     "metadata": {},
     "outputs": []
    }
   ],
   "metadata": {}
  }
 ]
}