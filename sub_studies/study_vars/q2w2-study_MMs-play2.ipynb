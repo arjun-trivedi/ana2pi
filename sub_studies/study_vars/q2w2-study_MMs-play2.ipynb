{
 "metadata": {
  "name": ""
 },
 "nbformat": 3,
 "nbformat_minor": 0,
 "worksheets": [
  {
   "cells": [
    {
     "cell_type": "code",
     "collapsed": false,
     "input": [
      "import study_vars_tools as t\n",
      "import shutil\n",
      "from collections import OrderedDict\n",
      "\n",
      "Q2WDIR='q2w2'\n",
      "R=['exp_nmcor','exp_ymcor','sim_nmcor']\n",
      "VAR=['mmppip']\n",
      "TOP=[2]\n",
      "hX=OrderedDict()\n",
      "XMU=0.139\n",
      "XCUT=0.2\n",
      "\n",
      "#-- get X(d,Q2,W)\n",
      "for r in R:\n",
      "    t.init(Q2WDIR,0.6,0.025,TOP,VAR,[(0.0,0.5)],[(-0.03,0.03)],r)\n",
      "    hX[r]=t.plot_var()\n",
      "\n",
      "#-- create OUTDIR\n",
      "VARdir=\"-\".join(VAR)\n",
      "Rdir = \"-\".join(R)\n",
      "OUTDIR = os.path.join(Q2WDIR,VARdir,Rdir)\n",
      "print \"\\n----OUTDIR\",OUTDIR,\"\\n----\"\n",
      "if os.path.exists(OUTDIR):\n",
      "    shutil.rmtree(OUTDIR)\n",
      "os.makedirs(OUTDIR)"
     ],
     "language": "python",
     "metadata": {},
     "outputs": [
      {
       "output_type": "stream",
       "stream": "stdout",
       "text": [
        "-----\n",
        "Importing d2pi.root -> DataFrame\n",
        "-----\n",
        "Going to use d2pi(exp_nmcor)\n",
        "File = /data/trivedia/e1f/study_vars/q2w2/exp_nmcor/recon/d2pi.root\n",
        "Variables to import directly into DataFrame= ['top', 'Q2', 'mmppip', 'W']\n",
        "Variables to be added later to the DataFrame []\n",
        "-----\n",
        "Topology selection: tops to be used = "
       ]
      },
      {
       "output_type": "stream",
       "stream": "stdout",
       "text": [
        " [2] \n",
        "-----\n",
        "dbg:D before\n",
        "   top        Q2    mmppip         W\n",
        "0    2  2.060979  0.388011  1.634772\n",
        "1    4  2.022806  1.233451  1.533539\n",
        "2    4  1.937134  1.483865  1.768826\n",
        "3    1  2.041539  0.126278  1.850626\n",
        "4    1  1.906316  0.179179  1.485198\n",
        "Evaluating (df['top']==2) ...\n",
        "dbg:D after\n",
        "    top        Q2    mmppip         W\n",
        "0     2  2.060979  0.388011  1.634772\n",
        "5     2  2.206150  0.152484  1.897379\n",
        "9     2  1.942684  0.096037  1.692786\n",
        "10    2  2.016910  0.377259  1.832641\n",
        "11    2  2.220932  0.273815  1.753194\n",
        "-----\n",
        "Q2 binning \n",
        "-----\n",
        "NQ2BINS=1,Q2BINW=0.6000 GeV^2\n",
        "['1.9000', '2.5000']\n",
        "-----\n",
        "W binning \n",
        "-----\n",
        "NWBINS=24,WBINW=0.0250 GeV\n",
        "['1.3000', '1.3250', '1.3500', '1.3750', '1.4000', '1.4250', '1.4500', '1.4750', '1.5000', '1.5250', '1.5500', '1.5750', '1.6000', '1.6250', '1.6500', '1.6750', '1.7000', '1.7250', '1.7500', '1.7750', '1.8000', '1.8250', '1.8500', '1.8750', '1.9000']\n",
        "-----\n",
        "OUTDIR=/home/trivedia/CLAS/workspace/ana2pi/sub_studies/study_vars/q2w2/exp_nmcor \n",
        "-----\n",
        "HOFT="
       ]
      },
      {
       "output_type": "stream",
       "stream": "stderr",
       "text": [
        "/usr/local/lib/python2.7/dist-packages/pandas/core/config.py:570: DeprecationWarning: height has been deprecated.\n",
        "\n",
        "  warnings.warn(d.msg, DeprecationWarning)\n",
        "/usr/local/lib/python2.7/dist-packages/root_numpy/_root_numpy.py:493: DeprecationWarning: fill_array is deprecated and will be removed. Please use fill_hist instead\n",
        "  \"Please use fill_hist instead\", DeprecationWarning)\n"
       ]
      },
      {
       "output_type": "stream",
       "stream": "stdout",
       "text": [
        " [Hist2D('mmppip_OFT')]\n",
        "HRES= [Hist2D('mmppip_RES')]\n",
        "-----\n",
        "Importing d2pi.root -> DataFrame\n",
        "-----"
       ]
      },
      {
       "output_type": "stream",
       "stream": "stdout",
       "text": [
        "\n",
        "Going to use d2pi(exp_ymcor)\n",
        "File = /data/trivedia/e1f/study_vars/q2w2/exp_ymcor/recon/d2pi.root\n",
        "Variables to import directly into DataFrame= ['top', 'Q2', 'mmppip', 'W']\n",
        "Variables to be added later to the DataFrame []\n",
        "-----\n",
        "Topology selection: tops to be used = "
       ]
      },
      {
       "output_type": "stream",
       "stream": "stderr",
       "text": [
        "INFO:rootpy.logger] | No default log handler configured. See `logging` module |\n"
       ]
      },
      {
       "output_type": "stream",
       "stream": "stderr",
       "text": [
        "INFO:rootpy.logger] \\    To suppress: 'rootpy.log.basic_config_colorized()'   /\n"
       ]
      },
      {
       "output_type": "stream",
       "stream": "stderr",
       "text": [
        "WARNING:ROOT.TROOT.Append] Replacing existing TH1: mmppip_OFT (Potential memory leak).\n"
       ]
      },
      {
       "output_type": "stream",
       "stream": "stderr",
       "text": [
        "WARNING:ROOT.TROOT.Append] Replacing existing TH1: mmppip_RES (Potential memory leak).\n"
       ]
      },
      {
       "output_type": "stream",
       "stream": "stderr",
       "text": [
        "WARNING:ROOT.TROOT.Append] Replacing existing TH1: mmppip_01_01 (Potential memory leak).\n"
       ]
      },
      {
       "output_type": "stream",
       "stream": "stderr",
       "text": [
        "WARNING:ROOT.TROOT.Append] Replacing existing TH1: mmppip_01_02 (Potential memory leak).\n"
       ]
      },
      {
       "output_type": "stream",
       "stream": "stderr",
       "text": [
        "WARNING:ROOT.TROOT.Append] Replacing existing TH1: mmppip_01_03 (Potential memory leak).\n"
       ]
      },
      {
       "output_type": "stream",
       "stream": "stderr",
       "text": [
        "WARNING:ROOT.TROOT.Append] Replacing existing TH1: mmppip_01_04 (Potential memory leak).\n"
       ]
      },
      {
       "output_type": "stream",
       "stream": "stderr",
       "text": [
        "WARNING:ROOT.TROOT.Append] Replacing existing TH1: mmppip_01_05 (Potential memory leak).\n"
       ]
      },
      {
       "output_type": "stream",
       "stream": "stderr",
       "text": [
        "WARNING:ROOT.TROOT.Append] Replacing existing TH1: mmppip_01_06 (Potential memory leak).\n"
       ]
      },
      {
       "output_type": "stream",
       "stream": "stderr",
       "text": [
        "WARNING:ROOT.TROOT.Append] Replacing existing TH1: mmppip_01_07 (Potential memory leak).\n"
       ]
      },
      {
       "output_type": "stream",
       "stream": "stderr",
       "text": [
        "WARNING:ROOT.TROOT.Append] Replacing existing TH1: mmppip_01_08 (Potential memory leak).\n"
       ]
      },
      {
       "output_type": "stream",
       "stream": "stderr",
       "text": [
        "WARNING:ROOT.TROOT.Append] Replacing existing TH1: mmppip_01_09 (Potential memory leak).\n"
       ]
      },
      {
       "output_type": "stream",
       "stream": "stderr",
       "text": [
        "WARNING:ROOT.TROOT.Append] Replacing existing TH1: mmppip_01_10 (Potential memory leak).\n"
       ]
      },
      {
       "output_type": "stream",
       "stream": "stderr",
       "text": [
        "WARNING:ROOT.TROOT.Append] Replacing existing TH1: mmppip_01_11 (Potential memory leak).\n"
       ]
      },
      {
       "output_type": "stream",
       "stream": "stderr",
       "text": [
        "WARNING:ROOT.TROOT.Append] Replacing existing TH1: mmppip_01_12 (Potential memory leak).\n"
       ]
      },
      {
       "output_type": "stream",
       "stream": "stderr",
       "text": [
        "WARNING:ROOT.TROOT.Append] Replacing existing TH1: mmppip_01_13 (Potential memory leak).\n"
       ]
      },
      {
       "output_type": "stream",
       "stream": "stderr",
       "text": [
        "WARNING:ROOT.TROOT.Append] Replacing existing TH1: mmppip_01_14 (Potential memory leak).\n"
       ]
      },
      {
       "output_type": "stream",
       "stream": "stderr",
       "text": [
        "WARNING:ROOT.TROOT.Append] Replacing existing TH1: mmppip_01_15 (Potential memory leak).\n"
       ]
      },
      {
       "output_type": "stream",
       "stream": "stderr",
       "text": [
        "WARNING:ROOT.TROOT.Append] Replacing existing TH1: mmppip_01_16 (Potential memory leak).\n"
       ]
      },
      {
       "output_type": "stream",
       "stream": "stderr",
       "text": [
        "WARNING:ROOT.TROOT.Append] Replacing existing TH1: mmppip_01_17 (Potential memory leak).\n"
       ]
      },
      {
       "output_type": "stream",
       "stream": "stderr",
       "text": [
        "WARNING:ROOT.TROOT.Append] Replacing existing TH1: mmppip_01_18 (Potential memory leak).\n"
       ]
      },
      {
       "output_type": "stream",
       "stream": "stderr",
       "text": [
        "WARNING:ROOT.TROOT.Append] Replacing existing TH1: mmppip_01_19 (Potential memory leak).\n"
       ]
      },
      {
       "output_type": "stream",
       "stream": "stderr",
       "text": [
        "WARNING:ROOT.TROOT.Append] Replacing existing TH1: mmppip_01_20 (Potential memory leak).\n"
       ]
      },
      {
       "output_type": "stream",
       "stream": "stderr",
       "text": [
        "WARNING:ROOT.TROOT.Append] Replacing existing TH1: mmppip_01_21 (Potential memory leak).\n"
       ]
      },
      {
       "output_type": "stream",
       "stream": "stderr",
       "text": [
        "WARNING:ROOT.TROOT.Append] Replacing existing TH1: mmppip_01_22 (Potential memory leak).\n"
       ]
      },
      {
       "output_type": "stream",
       "stream": "stderr",
       "text": [
        "WARNING:ROOT.TROOT.Append] Replacing existing TH1: mmppip_01_23 (Potential memory leak).\n"
       ]
      },
      {
       "output_type": "stream",
       "stream": "stderr",
       "text": [
        "WARNING:ROOT.TROOT.Append] Replacing existing TH1: mmppip_01_24 (Potential memory leak).\n"
       ]
      },
      {
       "output_type": "stream",
       "stream": "stdout",
       "text": [
        " [2] \n",
        "-----\n",
        "dbg:D before\n",
        "   top        Q2    mmppip         W\n",
        "0    2  2.070127  0.371153  1.617025\n",
        "1    4  2.012479  1.248013  1.548177\n",
        "2    4  1.927142  1.496943  1.782109\n",
        "3    1  2.052747  0.093422  1.838957\n",
        "4    1  1.907208  0.177936  1.484136\n",
        "Evaluating (df['top']==2) ...\n",
        "dbg:D after\n",
        "    top        Q2    mmppip         W\n",
        "0     2  2.070127  0.371153  1.617025\n",
        "5     2  2.214931  0.129582  1.883840\n",
        "9     2  1.932451  0.115746  1.702788\n",
        "10    2  2.005985  0.381040  1.840196\n",
        "11    2  2.210862  0.297977  1.763959\n",
        "-----\n",
        "Q2 binning \n",
        "-----\n",
        "NQ2BINS=1,Q2BINW=0.6000 GeV^2\n",
        "['1.9000', '2.5000']\n",
        "-----\n",
        "W binning \n",
        "-----\n",
        "NWBINS=24,WBINW=0.0250 GeV\n",
        "['1.3000', '1.3250', '1.3500', '1.3750', '1.4000', '1.4250', '1.4500', '1.4750', '1.5000', '1.5250', '1.5500', '1.5750', '1.6000', '1.6250', '1.6500', '1.6750', '1.7000', '1.7250', '1.7500', '1.7750', '1.8000', '1.8250', '1.8500', '1.8750', '1.9000']\n",
        "-----\n",
        "OUTDIR=/home/trivedia/CLAS/workspace/ana2pi/sub_studies/study_vars/q2w2/exp_ymcor \n",
        "-----\n",
        "HOFT= [Hist2D('mmppip_OFT')]\n",
        "HRES= [Hist2D('mmppip_RES')]\n",
        "-----\n",
        "Importing d2pi.root -> DataFrame\n",
        "-----"
       ]
      },
      {
       "output_type": "stream",
       "stream": "stdout",
       "text": [
        "\n",
        "Going to use d2pi(sim_nmcor)\n",
        "File = /data/trivedia/e1f/study_vars/q2w2/sim_nmcor/recon/d2pi.root\n",
        "Variables to import directly into DataFrame= ['top', 'Q2', 'mmppip', 'W']\n",
        "Variables to be added later to the DataFrame []\n",
        "-----\n",
        "Topology selection: tops to be used = "
       ]
      },
      {
       "output_type": "stream",
       "stream": "stderr",
       "text": [
        "WARNING:ROOT.TROOT.Append] Replacing existing TH1: mmppip_OFT (Potential memory leak).\n"
       ]
      },
      {
       "output_type": "stream",
       "stream": "stderr",
       "text": [
        "WARNING:ROOT.TROOT.Append] Replacing existing TH1: mmppip_RES (Potential memory leak).\n"
       ]
      },
      {
       "output_type": "stream",
       "stream": "stderr",
       "text": [
        "WARNING:ROOT.TROOT.Append] Replacing existing TH1: mmppip_01_01 (Potential memory leak).\n"
       ]
      },
      {
       "output_type": "stream",
       "stream": "stderr",
       "text": [
        "WARNING:ROOT.TROOT.Append] Replacing existing TH1: mmppip_01_02 (Potential memory leak).\n"
       ]
      },
      {
       "output_type": "stream",
       "stream": "stderr",
       "text": [
        "WARNING:ROOT.TROOT.Append] Replacing existing TH1: mmppip_01_03 (Potential memory leak).\n"
       ]
      },
      {
       "output_type": "stream",
       "stream": "stderr",
       "text": [
        "WARNING:ROOT.TROOT.Append] Replacing existing TH1: mmppip_01_04 (Potential memory leak).\n"
       ]
      },
      {
       "output_type": "stream",
       "stream": "stderr",
       "text": [
        "WARNING:ROOT.TROOT.Append] Replacing existing TH1: mmppip_01_05 (Potential memory leak).\n"
       ]
      },
      {
       "output_type": "stream",
       "stream": "stderr",
       "text": [
        "WARNING:ROOT.TROOT.Append] Replacing existing TH1: mmppip_01_06 (Potential memory leak).\n"
       ]
      },
      {
       "output_type": "stream",
       "stream": "stderr",
       "text": [
        "WARNING:ROOT.TROOT.Append] Replacing existing TH1: mmppip_01_07 (Potential memory leak).\n"
       ]
      },
      {
       "output_type": "stream",
       "stream": "stderr",
       "text": [
        "WARNING:ROOT.TROOT.Append] Replacing existing TH1: mmppip_01_08 (Potential memory leak).\n"
       ]
      },
      {
       "output_type": "stream",
       "stream": "stderr",
       "text": [
        "WARNING:ROOT.TROOT.Append] Replacing existing TH1: mmppip_01_09 (Potential memory leak).\n"
       ]
      },
      {
       "output_type": "stream",
       "stream": "stderr",
       "text": [
        "WARNING:ROOT.TROOT.Append] Replacing existing TH1: mmppip_01_10 (Potential memory leak).\n"
       ]
      },
      {
       "output_type": "stream",
       "stream": "stderr",
       "text": [
        "WARNING:ROOT.TROOT.Append] Replacing existing TH1: mmppip_01_11 (Potential memory leak).\n"
       ]
      },
      {
       "output_type": "stream",
       "stream": "stderr",
       "text": [
        "WARNING:ROOT.TROOT.Append] Replacing existing TH1: mmppip_01_12 (Potential memory leak).\n"
       ]
      },
      {
       "output_type": "stream",
       "stream": "stderr",
       "text": [
        "WARNING:ROOT.TROOT.Append] Replacing existing TH1: mmppip_01_13 (Potential memory leak).\n"
       ]
      },
      {
       "output_type": "stream",
       "stream": "stderr",
       "text": [
        "WARNING:ROOT.TROOT.Append] Replacing existing TH1: mmppip_01_14 (Potential memory leak).\n"
       ]
      },
      {
       "output_type": "stream",
       "stream": "stderr",
       "text": [
        "WARNING:ROOT.TROOT.Append] Replacing existing TH1: mmppip_01_15 (Potential memory leak).\n"
       ]
      },
      {
       "output_type": "stream",
       "stream": "stderr",
       "text": [
        "WARNING:ROOT.TROOT.Append] Replacing existing TH1: mmppip_01_16 (Potential memory leak).\n"
       ]
      },
      {
       "output_type": "stream",
       "stream": "stderr",
       "text": [
        "WARNING:ROOT.TROOT.Append] Replacing existing TH1: mmppip_01_17 (Potential memory leak).\n"
       ]
      },
      {
       "output_type": "stream",
       "stream": "stderr",
       "text": [
        "WARNING:ROOT.TROOT.Append] Replacing existing TH1: mmppip_01_18 (Potential memory leak).\n"
       ]
      },
      {
       "output_type": "stream",
       "stream": "stderr",
       "text": [
        "WARNING:ROOT.TROOT.Append] Replacing existing TH1: mmppip_01_19 (Potential memory leak).\n"
       ]
      },
      {
       "output_type": "stream",
       "stream": "stderr",
       "text": [
        "WARNING:ROOT.TROOT.Append] Replacing existing TH1: mmppip_01_20 (Potential memory leak).\n"
       ]
      },
      {
       "output_type": "stream",
       "stream": "stderr",
       "text": [
        "WARNING:ROOT.TROOT.Append] Replacing existing TH1: mmppip_01_21 (Potential memory leak).\n"
       ]
      },
      {
       "output_type": "stream",
       "stream": "stderr",
       "text": [
        "WARNING:ROOT.TROOT.Append] Replacing existing TH1: mmppip_01_22 (Potential memory leak).\n"
       ]
      },
      {
       "output_type": "stream",
       "stream": "stderr",
       "text": [
        "WARNING:ROOT.TROOT.Append] Replacing existing TH1: mmppip_01_23 (Potential memory leak).\n"
       ]
      },
      {
       "output_type": "stream",
       "stream": "stderr",
       "text": [
        "WARNING:ROOT.TROOT.Append] Replacing existing TH1: mmppip_01_24 (Potential memory leak).\n"
       ]
      },
      {
       "output_type": "stream",
       "stream": "stdout",
       "text": [
        " [2] \n",
        "-----\n",
        "dbg:D before\n",
        "   top        Q2    mmppip         W\n",
        "0    2  2.006469  0.169789  1.576777\n",
        "1    4  2.499688  1.413699  1.856132\n",
        "2    2  1.947310  0.267814  1.807989\n",
        "3    1  1.939536  0.221310  1.688549\n",
        "4    2  2.214607  0.214416  1.832791\n",
        "Evaluating (df['top']==2) ...\n",
        "dbg:D after\n",
        "   top        Q2    mmppip         W\n",
        "0    2  2.006469  0.169789  1.576777\n",
        "2    2  1.947310  0.267814  1.807989\n",
        "4    2  2.214607  0.214416  1.832791\n",
        "5    2  2.215845  0.154153  1.705704\n",
        "6    2  2.028025  0.136971  1.470504\n",
        "-----\n",
        "Q2 binning \n",
        "-----\n",
        "NQ2BINS=1,Q2BINW=0.6000 GeV^2\n",
        "['1.9000', '2.5000']\n",
        "-----\n",
        "W binning \n",
        "-----\n",
        "NWBINS=24,WBINW=0.0250 GeV\n",
        "['1.3000', '1.3250', '1.3500', '1.3750', '1.4000', '1.4250', '1.4500', '1.4750', '1.5000', '1.5250', '1.5500', '1.5750', '1.6000', '1.6250', '1.6500', '1.6750', '1.7000', '1.7250', '1.7500', '1.7750', '1.8000', '1.8250', '1.8500', '1.8750', '1.9000']\n",
        "-----\n",
        "OUTDIR=/home/trivedia/CLAS/workspace/ana2pi/sub_studies/study_vars/q2w2/sim_nmcor \n",
        "-----\n",
        "HOFT= [Hist2D('mmppip_OFT')]\n",
        "HRES= [Hist2D('mmppip_RES')]\n",
        "\n",
        "----OUTDIR"
       ]
      },
      {
       "output_type": "stream",
       "stream": "stdout",
       "text": [
        " q2w2/mmppip/exp_nmcor-exp_ymcor-sim_nmcor \n",
        "----\n"
       ]
      }
     ],
     "prompt_number": 1
    },
    {
     "cell_type": "code",
     "collapsed": false,
     "input": [
      "Xmu,Xsg=t.plot_comp_var(hX,XMU,XCUT,OUTDIR)"
     ],
     "language": "python",
     "metadata": {},
     "outputs": [
      {
       "output_type": "stream",
       "stream": "stderr",
       "text": [
        "WARNING:ROOT.Fit] Abnormal termination of minimization.\n"
       ]
      },
      {
       "output_type": "stream",
       "stream": "stderr",
       "text": [
        "WARNING:ROOT.Fit] Abnormal termination of minimization.\n"
       ]
      },
      {
       "output_type": "stream",
       "stream": "stderr",
       "text": [
        "WARNING:ROOT.Fit] Abnormal termination of minimization.\n"
       ]
      },
      {
       "output_type": "stream",
       "stream": "stderr",
       "text": [
        "WARNING:ROOT.Fit] Abnormal termination of minimization.\n"
       ]
      },
      {
       "output_type": "stream",
       "stream": "stderr",
       "text": [
        "WARNING:ROOT.Fit] Abnormal termination of minimization.\n"
       ]
      },
      {
       "output_type": "stream",
       "stream": "stderr",
       "text": [
        "WARNING:ROOT.Fit] Abnormal termination of minimization.\n"
       ]
      },
      {
       "output_type": "stream",
       "stream": "stderr",
       "text": [
        "WARNING:ROOT.Fit] Abnormal termination of minimization.\n"
       ]
      },
      {
       "output_type": "stream",
       "stream": "stderr",
       "text": [
        "WARNING:ROOT.Fit] Abnormal termination of minimization.\n"
       ]
      },
      {
       "output_type": "stream",
       "stream": "stderr",
       "text": [
        "WARNING:ROOT.Fit] Abnormal termination of minimization.\n"
       ]
      },
      {
       "output_type": "stream",
       "stream": "stderr",
       "text": [
        "WARNING:ROOT.Fit] Abnormal termination of minimization.\n"
       ]
      },
      {
       "output_type": "stream",
       "stream": "stderr",
       "text": [
        "WARNING:ROOT.Fit] Abnormal termination of minimization.\n"
       ]
      },
      {
       "output_type": "stream",
       "stream": "stderr",
       "text": [
        "WARNING:ROOT.Fit] Abnormal termination of minimization.\n"
       ]
      },
      {
       "output_type": "stream",
       "stream": "stderr",
       "text": [
        "WARNING:ROOT.Fit] Abnormal termination of minimization.\n"
       ]
      },
      {
       "output_type": "stream",
       "stream": "stderr",
       "text": [
        "WARNING:ROOT.Fit] Abnormal termination of minimization.\n"
       ]
      },
      {
       "output_type": "stream",
       "stream": "stderr",
       "text": [
        "WARNING:ROOT.Fit] Abnormal termination of minimization.\n"
       ]
      },
      {
       "output_type": "stream",
       "stream": "stderr",
       "text": [
        "WARNING:ROOT.Fit] Abnormal termination of minimization.\n"
       ]
      }
     ],
     "prompt_number": 2
    },
    {
     "cell_type": "raw",
     "metadata": {},
     "source": [
      "Show Xmu(R) and Xsg(R)"
     ]
    },
    {
     "cell_type": "code",
     "collapsed": false,
     "input": [
      "clrs=['red','green','blue','yellow']\n",
      "fig=plt.figure(figsize=(20,5))\n",
      "for ir,r in enumerate(R):\n",
      "    print len(Xmu[r])\n",
      "    clr=np.random.rand(3,1)\n",
      "    ax=plt.subplot(131)\n",
      "    ax.scatter(np.arange(len(Xmu[r])),Xmu[r],label=r,color=clr,s=50)#color=clrs[id])\n",
      "    ax.set_ylim(0.10,0.2)\n",
      "    ax.hlines(0.139,1,25)\n",
      "    ax=plt.subplot(132)\n",
      "    ax.scatter(np.arange(len(Xsg[r])),Xsg[r],label=r,color=clr,s=50)#color=clrs[id])\n",
      "    ax.set_ylim(0,0.06)#[0]=0\n",
      "    ax=plt.subplot(133)\n",
      "    ax.scatter([1],[1],label=r,color=clr,s=50)#color=clrs[id])\n",
      "    ax.legend(loc=\"center\",prop={'size':10})"
     ],
     "language": "python",
     "metadata": {},
     "outputs": [
      {
       "output_type": "stream",
       "stream": "stdout",
       "text": [
        "24\n",
        "24"
       ]
      },
      {
       "output_type": "stream",
       "stream": "stdout",
       "text": [
        "\n",
        "24\n"
       ]
      },
      {
       "metadata": {},
       "output_type": "display_data",
       "png": "[encoded data removed]",
       "text": [
        "<matplotlib.figure.Figure at 0x723a090>"
       ]
      }
     ],
     "prompt_number": 3
    },
    {
     "cell_type": "markdown",
     "metadata": {},
     "source": [
      "In the case that the MM-cut in Simulation is not adapted to be similar to that in Experiment, the relative error in the cut-efficiency corrected Experimental yield is calculated as:\n",
      "\n",
      "$$\\frac{\\delta n}{n} = 1 - \\frac{\\epsilon^{exp}}{\\epsilon^{sim}}$$\n",
      "\n",
      "where\n",
      "\n",
      "+ $$n$$ cut-efficiency corrected Experimental yield\n",
      "+ $$\\epsilon^{exp}, \\epsilon^{sim}$$ efficiency of the MM-cut in exp and sim respectively"
     ]
    },
    {
     "cell_type": "code",
     "collapsed": false,
     "input": [
      "import scipy.stats as stats\n",
      "from scipy.integrate import quad\n",
      "zipped={}\n",
      "rv={}#rv(r)\n",
      "eff={}\n",
      "for ir,r in enumerate(R):\n",
      "    zipped[r] = zip(Xmu[r],Xsg[r])\n",
      "    rv[r]=[stats.norm(i[0],i[1]) for i in zipped[r]]\n",
      "    eff[r]=np.array([quad(i.pdf,0,0.2)[0] for i in rv[r]])\n",
      "err={}\n",
      "err['exp_nmcor']=(1-(eff['exp_nmcor']/eff['sim_nmcor']))*100\n",
      "err['exp_ymcor']=(1-(eff['exp_ymcor']/eff['sim_nmcor']))*100\n",
      "\n",
      "fig=plt.figure(figsize=(10,5))\n",
      "fig.suptitle('eff-exp and rel-error in yield(%) vs. W', fontsize=14, fontweight='bold')\n",
      "\n",
      "plt.subplot(121)\n",
      "plt.scatter(np.arange(len(eff['exp_nmcor'])),eff['exp_nmcor'],c='red',label='exp_nmcor',s=50)\n",
      "plt.scatter(np.arange(len(eff['exp_ymcor'])),eff['exp_ymcor'],c='blue',label='exp_ymcor',s=50)\n",
      "plt.ylim(0.8,1.1)\n",
      "plt.ylabel(\"eff-exp\")\n",
      "plt.xlabel(\"W-bin\")\n",
      "plt.legend()\n",
      "plt.subplot(122)\n",
      "plt.scatter(np.arange(len(err['exp_nmcor'])),err['exp_nmcor'],c='red',label='exp_nmcor',s=50)\n",
      "plt.scatter(np.arange(len(err['exp_ymcor'])),err['exp_ymcor'],c='blue',label='exp_ymcor',s=50)\n",
      "plt.ylabel(\"rel-error in yield(%)\")\n",
      "plt.xlabel(\"W-bin\")\n",
      "plt.ylim(-20,20)\n",
      "plt.legend()"
     ],
     "language": "python",
     "metadata": {},
     "outputs": [
      {
       "output_type": "stream",
       "stream": "stderr",
       "text": [
        "/usr/lib/python2.7/dist-packages/scipy/stats/distributions.py:30: RuntimeWarning: numpy.dtype size changed, may indicate binary incompatibility\n",
        "  import vonmises_cython\n",
        "/usr/lib/python2.7/dist-packages/scipy/stats/distributions.py:30: RuntimeWarning: numpy.ufunc size changed, may indicate binary incompatibility\n",
        "  import vonmises_cython\n"
       ]
      },
      {
       "metadata": {},
       "output_type": "pyout",
       "prompt_number": 4,
       "text": [
        "<matplotlib.legend.Legend at 0x8950bd0>"
       ]
      },
      {
       "metadata": {},
       "output_type": "display_data",
       "png": "[encoded data removed]",
       "text": [
        "<matplotlib.figure.Figure at 0x86c5310>"
       ]
      }
     ],
     "prompt_number": 4
    },
    {
     "cell_type": "code",
     "collapsed": false,
     "input": [],
     "language": "python",
     "metadata": {},
     "outputs": [],
     "prompt_number": 5
    },
    {
     "cell_type": "code",
     "collapsed": false,
     "input": [],
     "language": "python",
     "metadata": {},
     "outputs": []
    }
   ],
   "metadata": {}
  }
 ]
}