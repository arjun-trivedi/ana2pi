{
 "metadata": {
  "name": ""
 },
 "nbformat": 3,
 "nbformat_minor": 0,
 "worksheets": [
  {
   "cells": [
    {
     "cell_type": "code",
     "collapsed": false,
     "input": [
      "import study_vars_tools as t\n",
      "import shutil\n",
      "from collections import OrderedDict\n",
      "\n",
      "Q2WDIR='q2w2'\n",
      "R=['exp_nmcor','exp_ymcor','sim_nmcor_gpp-1','sim_nmcor_gpp-2','sim_nmcor_gpp-3','sim_nmcor_gpp-4','sim_nmcor_gpp-5',\n",
      "   'sim_nmcor_gpp-6','sim_nmcor_gpp-7','sim_nmcor_gpp-8','sim_nmcor_gpp-9','sim_nmcor_gpp-10','sim_nmcor_gpp-11',\n",
      "   'sim_nmcor_gpp-12','sim_nmcor_gpp-13','sim_nmcor_gpp-14','sim_nmcor_gpp-15','sim_nmcor_gpp-16','sim_nmcor_gpp-17',\n",
      "   'sim_nmcor_gpp-18','sim_nmcor_gpp-19','sim_nmcor_gpp-20','sim_nmcor_gpp-21','sim_nmcor_gpp-22','sim_nmcor_gpp-23',\n",
      "   'sim_nmcor_gpp-24','sim_nmcor_gpp-25','sim_nmcor_gpp-26','sim_nmcor_gpp-27']\n",
      "VAR=['mmppip']\n",
      "TOP=[2]\n",
      "hX=OrderedDict()\n",
      "XMU=0.139\n",
      "XCUT=0.2\n",
      "\n",
      "#-- get X(d,Q2,W)\n",
      "for r in R:\n",
      "    t.init(Q2WDIR,0.6,0.6,TOP,VAR,[(200,0.0,0.5)],[(-0.03,0.03)],r)\n",
      "    hX[r]=t.plot_var()\n",
      "\n",
      "#-- create OUTDIR\n",
      "VARdir=\"-\".join(VAR)\n",
      "Rdir = \"-\".join(R)\n",
      "OUTDIR = os.path.join(Q2WDIR,VARdir,\"gpp-study\")\n",
      "print \"\\n----OUTDIR\",OUTDIR,\"\\n----\"\n",
      "if os.path.exists(OUTDIR):\n",
      "    shutil.rmtree(OUTDIR)\n",
      "os.makedirs(OUTDIR)"
     ],
     "language": "python",
     "metadata": {},
     "outputs": [
      {
       "output_type": "stream",
       "stream": "stdout",
       "text": [
        "-----\n",
        "Importing d2pi.root -> DataFrame\n",
        "-----\n",
        "Going to use d2pi(exp_nmcor)\n",
        "File = /data/trivedia/e1f/study_vars/q2w2/exp_nmcor/recon/d2pi.root\n",
        "Variables to import directly into DataFrame= ['top', 'Q2', 'mmppip', 'W']\n",
        "Variables to be added later to the DataFrame []\n",
        "-----\n",
        "Topology selection: tops to be used = "
       ]
      },
      {
       "output_type": "stream",
       "stream": "stderr",
       "text": [
        "WARNING:ROOT.TROOT.Append] Replacing existing TH1: mmppip_OFT (Potential memory leak).\n"
       ]
      },
      {
       "output_type": "stream",
       "stream": "stderr",
       "text": [
        "WARNING:ROOT.TROOT.Append] Replacing existing TH1: mmppip_RES (Potential memory leak).\n"
       ]
      },
      {
       "output_type": "stream",
       "stream": "stderr",
       "text": [
        "WARNING:ROOT.TROOT.Append] Replacing existing TH1: mmppip_01_01 (Potential memory leak).\n"
       ]
      },
      {
       "output_type": "stream",
       "stream": "stdout",
       "text": [
        " [2] \n",
        "-----\n",
        "dbg:D before\n",
        "   top        Q2    mmppip         W\n",
        "0    2  2.060979  0.388011  1.634772\n",
        "1    4  2.022806  1.233451  1.533539\n",
        "2    4  1.937134  1.483865  1.768826\n",
        "3    1  2.041539  0.126278  1.850626\n",
        "4    1  1.906316  0.179179  1.485198\n",
        "Evaluating (df['top']==2) ...\n",
        "dbg:D after\n",
        "    top        Q2    mmppip         W\n",
        "0     2  2.060979  0.388011  1.634772\n",
        "5     2  2.206150  0.152484  1.897379\n",
        "9     2  1.942684  0.096037  1.692786\n",
        "10    2  2.016910  0.377259  1.832641\n",
        "11    2  2.220932  0.273815  1.753194\n",
        "-----\n",
        "Q2 binning \n",
        "-----\n",
        "NQ2BINS=1,Q2BINW=0.6000 GeV^2\n",
        "['1.9000', '2.5000']\n",
        "-----\n",
        "W binning \n",
        "-----\n",
        "NWBINS=1,WBINW=0.6000 GeV\n",
        "['1.3000', '1.9000']\n",
        "-----\n",
        "OUTDIR=/home/trivedia/CLAS/workspace/ana2pi/sub_studies/study_vars/q2w2/exp_nmcor \n",
        "-----\n",
        "HOFT= [Hist2D('mmppip_OFT')]\n",
        "HRES= [Hist2D('mmppip_RES')]\n",
        "-----\n",
        "Importing d2pi.root -> DataFrame\n",
        "-----"
       ]
      },
      {
       "output_type": "stream",
       "stream": "stdout",
       "text": [
        "\n",
        "Going to use d2pi(exp_ymcor)\n",
        "File = /data/trivedia/e1f/study_vars/q2w2/exp_ymcor/recon/d2pi.root\n",
        "Variables to import directly into DataFrame= ['top', 'Q2', 'mmppip', 'W']\n",
        "Variables to be added later to the DataFrame []\n",
        "-----\n",
        "Topology selection: tops to be used = "
       ]
      },
      {
       "output_type": "stream",
       "stream": "stderr",
       "text": [
        "WARNING:ROOT.TROOT.Append] Replacing existing TH1: mmppip_OFT (Potential memory leak).\n"
       ]
      },
      {
       "output_type": "stream",
       "stream": "stderr",
       "text": [
        "WARNING:ROOT.TROOT.Append] Replacing existing TH1: mmppip_RES (Potential memory leak).\n"
       ]
      },
      {
       "output_type": "stream",
       "stream": "stderr",
       "text": [
        "WARNING:ROOT.TROOT.Append] Replacing existing TH1: mmppip_01_01 (Potential memory leak).\n"
       ]
      },
      {
       "output_type": "stream",
       "stream": "stdout",
       "text": [
        " [2] \n",
        "-----\n",
        "dbg:D before\n",
        "   top        Q2    mmppip         W\n",
        "0    2  2.070127  0.371153  1.617025\n",
        "1    4  2.012479  1.248013  1.548177\n",
        "2    4  1.927142  1.496943  1.782109\n",
        "3    1  2.052747  0.093422  1.838957\n",
        "4    1  1.907208  0.177936  1.484136\n",
        "Evaluating (df['top']==2) ...\n",
        "dbg:D after\n",
        "    top        Q2    mmppip         W\n",
        "0     2  2.070127  0.371153  1.617025\n",
        "5     2  2.214931  0.129582  1.883840\n",
        "9     2  1.932451  0.115746  1.702788\n",
        "10    2  2.005985  0.381040  1.840196\n",
        "11    2  2.210862  0.297977  1.763959\n",
        "-----\n",
        "Q2 binning \n",
        "-----\n",
        "NQ2BINS=1,Q2BINW=0.6000 GeV^2\n",
        "['1.9000', '2.5000']\n",
        "-----\n",
        "W binning \n",
        "-----\n",
        "NWBINS=1,WBINW=0.6000 GeV\n",
        "['1.3000', '1.9000']\n",
        "-----\n",
        "OUTDIR=/home/trivedia/CLAS/workspace/ana2pi/sub_studies/study_vars/q2w2/exp_ymcor \n",
        "-----\n",
        "HOFT= [Hist2D('mmppip_OFT')]\n",
        "HRES= [Hist2D('mmppip_RES')]\n",
        "-----\n",
        "Importing d2pi.root -> DataFrame\n",
        "-----"
       ]
      },
      {
       "output_type": "stream",
       "stream": "stdout",
       "text": [
        "\n",
        "Going to use d2pi(sim_nmcor_gpp-1)\n",
        "File = /data/trivedia/e1f/study_vars/q2w2/sim_nmcor_gpp-1/recon/d2pi.root\n",
        "Variables to import directly into DataFrame= ['top', 'Q2', 'mmppip', 'W']\n",
        "Variables to be added later to the DataFrame []\n",
        "-----\n",
        "Topology selection: tops to be used = "
       ]
      },
      {
       "output_type": "stream",
       "stream": "stderr",
       "text": [
        "WARNING:ROOT.TROOT.Append] Replacing existing TH1: mmppip_OFT (Potential memory leak).\n"
       ]
      },
      {
       "output_type": "stream",
       "stream": "stderr",
       "text": [
        "WARNING:ROOT.TROOT.Append] Replacing existing TH1: mmppip_RES (Potential memory leak).\n"
       ]
      },
      {
       "output_type": "stream",
       "stream": "stderr",
       "text": [
        "WARNING:ROOT.TROOT.Append] Replacing existing TH1: mmppip_01_01 (Potential memory leak).\n"
       ]
      },
      {
       "output_type": "stream",
       "stream": "stdout",
       "text": [
        " [2] \n",
        "-----\n",
        "dbg:D before\n",
        "   top        Q2    mmppip         W\n",
        "0    2  2.489977  0.133513  1.428861\n",
        "1    2  2.327589  0.184902  1.701091\n",
        "2    2  1.914483  0.171995  1.850366\n",
        "3    2  1.939015  0.323347  1.830622\n",
        "4    2  1.643214  0.349769  2.751067\n",
        "Evaluating (df['top']==2) ...\n",
        "dbg:D after\n",
        "   top        Q2    mmppip         W\n",
        "0    2  2.489977  0.133513  1.428861\n",
        "1    2  2.327589  0.184902  1.701091\n",
        "2    2  1.914483  0.171995  1.850366\n",
        "3    2  1.939015  0.323347  1.830622\n",
        "4    2  1.643214  0.349769  2.751067\n",
        "-----\n",
        "Q2 binning \n",
        "-----\n",
        "NQ2BINS=1,Q2BINW=0.6000 GeV^2\n",
        "['1.9000', '2.5000']\n",
        "-----\n",
        "W binning \n",
        "-----\n",
        "NWBINS=1,WBINW=0.6000 GeV\n",
        "['1.3000', '1.9000']\n",
        "-----\n",
        "OUTDIR=/home/trivedia/CLAS/workspace/ana2pi/sub_studies/study_vars/q2w2/sim_nmcor_gpp-1 \n",
        "-----\n",
        "HOFT= [Hist2D('mmppip_OFT')]\n",
        "HRES= [Hist2D('mmppip_RES')]\n",
        "-----\n",
        "Importing d2pi.root -> DataFrame\n",
        "-----"
       ]
      },
      {
       "output_type": "stream",
       "stream": "stdout",
       "text": [
        "\n",
        "Going to use d2pi(sim_nmcor_gpp-2)\n",
        "File = /data/trivedia/e1f/study_vars/q2w2/sim_nmcor_gpp-2/recon/d2pi.root\n",
        "Variables to import directly into DataFrame= ['top', 'Q2', 'mmppip', 'W']\n",
        "Variables to be added later to the DataFrame []\n",
        "-----\n",
        "Topology selection: tops to be used = "
       ]
      },
      {
       "output_type": "stream",
       "stream": "stderr",
       "text": [
        "WARNING:ROOT.TROOT.Append] Replacing existing TH1: mmppip_OFT (Potential memory leak).\n"
       ]
      },
      {
       "output_type": "stream",
       "stream": "stderr",
       "text": [
        "WARNING:ROOT.TROOT.Append] Replacing existing TH1: mmppip_RES (Potential memory leak).\n"
       ]
      },
      {
       "output_type": "stream",
       "stream": "stderr",
       "text": [
        "WARNING:ROOT.TROOT.Append] Replacing existing TH1: mmppip_01_01 (Potential memory leak).\n"
       ]
      },
      {
       "output_type": "stream",
       "stream": "stdout",
       "text": [
        " [2] \n",
        "-----\n",
        "dbg:D before\n",
        "   top        Q2    mmppip         W\n",
        "0    1  2.365566  0.133008  1.717360\n",
        "1    4  2.024309  1.355176  1.677761\n",
        "2    2  1.952126  0.108593  1.713680\n",
        "3    2  2.202511  0.157745  1.822416\n",
        "4    1  2.025296 -0.035546  1.726409\n",
        "Evaluating (df['top']==2) ...\n",
        "dbg:D after\n",
        "   top        Q2    mmppip         W\n",
        "2    2  1.952126  0.108593  1.713680\n",
        "3    2  2.202511  0.157745  1.822416\n",
        "5    2  2.389777  0.153455  1.763954\n",
        "6    2  2.063947  0.079009  1.465721\n",
        "8    2  2.384866  0.151596  1.598699\n",
        "-----\n",
        "Q2 binning \n",
        "-----\n",
        "NQ2BINS=1,Q2BINW=0.6000 GeV^2\n",
        "['1.9000', '2.5000']\n",
        "-----\n",
        "W binning \n",
        "-----\n",
        "NWBINS=1,WBINW=0.6000 GeV\n",
        "['1.3000', '1.9000']\n",
        "-----\n",
        "OUTDIR=/home/trivedia/CLAS/workspace/ana2pi/sub_studies/study_vars/q2w2/sim_nmcor_gpp-2 \n",
        "-----\n",
        "HOFT= [Hist2D('mmppip_OFT')]\n",
        "HRES= [Hist2D('mmppip_RES')]\n",
        "-----\n",
        "Importing d2pi.root -> DataFrame\n",
        "-----"
       ]
      },
      {
       "output_type": "stream",
       "stream": "stdout",
       "text": [
        "\n",
        "Going to use d2pi(sim_nmcor_gpp-3)\n",
        "File = /data/trivedia/e1f/study_vars/q2w2/sim_nmcor_gpp-3/recon/d2pi.root\n",
        "Variables to import directly into DataFrame= ['top', 'Q2', 'mmppip', 'W']\n",
        "Variables to be added later to the DataFrame []\n",
        "-----\n",
        "Topology selection: tops to be used = "
       ]
      },
      {
       "output_type": "stream",
       "stream": "stderr",
       "text": [
        "WARNING:ROOT.TROOT.Append] Replacing existing TH1: mmppip_OFT (Potential memory leak).\n"
       ]
      },
      {
       "output_type": "stream",
       "stream": "stderr",
       "text": [
        "WARNING:ROOT.TROOT.Append] Replacing existing TH1: mmppip_RES (Potential memory leak).\n"
       ]
      },
      {
       "output_type": "stream",
       "stream": "stderr",
       "text": [
        "WARNING:ROOT.TROOT.Append] Replacing existing TH1: mmppip_01_01 (Potential memory leak).\n"
       ]
      },
      {
       "output_type": "stream",
       "stream": "stdout",
       "text": [
        " [2] \n",
        "-----\n",
        "dbg:D before\n",
        "   top        Q2    mmppip         W\n",
        "0    1  2.274144  0.303730  1.956233\n",
        "1    2  2.034185  0.141482  1.717163\n",
        "2    4  2.164166  1.360522  1.822512\n",
        "3    2  2.070371  0.140749  1.632776\n",
        "4    3  1.931229  0.648575  1.691052\n",
        "Evaluating (df['top']==2) ...\n",
        "dbg:D after\n",
        "    top        Q2    mmppip         W\n",
        "1     2  2.034185  0.141482  1.717163\n",
        "3     2  2.070371  0.140749  1.632776\n",
        "5     2  1.956529  0.111643  1.773511\n",
        "9     2  2.276022  0.135728  1.684983\n",
        "10    2  2.023168  0.175801  1.543630\n",
        "-----\n",
        "Q2 binning \n",
        "-----\n",
        "NQ2BINS=1,Q2BINW=0.6000 GeV^2\n",
        "['1.9000', '2.5000']\n",
        "-----\n",
        "W binning \n",
        "-----\n",
        "NWBINS=1,WBINW=0.6000 GeV\n",
        "['1.3000', '1.9000']\n",
        "-----\n",
        "OUTDIR=/home/trivedia/CLAS/workspace/ana2pi/sub_studies/study_vars/q2w2/sim_nmcor_gpp-3 \n",
        "-----\n",
        "HOFT= [Hist2D('mmppip_OFT')]\n",
        "HRES= [Hist2D('mmppip_RES')]\n",
        "-----\n",
        "Importing d2pi.root -> DataFrame\n",
        "-----"
       ]
      },
      {
       "output_type": "stream",
       "stream": "stdout",
       "text": [
        "\n",
        "Going to use d2pi(sim_nmcor_gpp-4)\n",
        "File = /data/trivedia/e1f/study_vars/q2w2/sim_nmcor_gpp-4/recon/d2pi.root\n",
        "Variables to import directly into DataFrame= ['top', 'Q2', 'mmppip', 'W']\n",
        "Variables to be added later to the DataFrame []\n",
        "-----\n",
        "Topology selection: tops to be used = "
       ]
      },
      {
       "output_type": "stream",
       "stream": "stderr",
       "text": [
        "WARNING:ROOT.TROOT.Append] Replacing existing TH1: mmppip_OFT (Potential memory leak).\n"
       ]
      },
      {
       "output_type": "stream",
       "stream": "stderr",
       "text": [
        "WARNING:ROOT.TROOT.Append] Replacing existing TH1: mmppip_RES (Potential memory leak).\n"
       ]
      },
      {
       "output_type": "stream",
       "stream": "stderr",
       "text": [
        "WARNING:ROOT.TROOT.Append] Replacing existing TH1: mmppip_01_01 (Potential memory leak).\n"
       ]
      },
      {
       "output_type": "stream",
       "stream": "stdout",
       "text": [
        " [2] \n",
        "-----\n",
        "dbg:D before\n",
        "   top        Q2    mmppip         W\n",
        "0    2  2.109792  0.318852  1.774363\n",
        "1    2  1.898550  0.124555  1.664946\n",
        "2    2  2.362259  0.139898  1.708320\n",
        "3    2  2.440616  0.149743  1.374504\n",
        "4    2  2.261045  0.118843  1.774227\n",
        "Evaluating (df['top']==2) ...\n",
        "dbg:D after\n",
        "   top        Q2    mmppip         W\n",
        "0    2  2.109792  0.318852  1.774363\n",
        "1    2  1.898550  0.124555  1.664946\n",
        "2    2  2.362259  0.139898  1.708320\n",
        "3    2  2.440616  0.149743  1.374504\n",
        "4    2  2.261045  0.118843  1.774227\n",
        "-----\n",
        "Q2 binning \n",
        "-----\n",
        "NQ2BINS=1,Q2BINW=0.6000 GeV^2\n",
        "['1.9000', '2.5000']\n",
        "-----\n",
        "W binning \n",
        "-----\n",
        "NWBINS=1,WBINW=0.6000 GeV\n",
        "['1.3000', '1.9000']\n",
        "-----\n",
        "OUTDIR=/home/trivedia/CLAS/workspace/ana2pi/sub_studies/study_vars/q2w2/sim_nmcor_gpp-4 \n",
        "-----\n",
        "HOFT= [Hist2D('mmppip_OFT')]\n",
        "HRES= [Hist2D('mmppip_RES')]\n",
        "-----\n",
        "Importing d2pi.root -> DataFrame\n",
        "-----"
       ]
      },
      {
       "output_type": "stream",
       "stream": "stdout",
       "text": [
        "\n",
        "Going to use d2pi(sim_nmcor_gpp-5)\n",
        "File = /data/trivedia/e1f/study_vars/q2w2/sim_nmcor_gpp-5/recon/d2pi.root\n",
        "Variables to import directly into DataFrame= ['top', 'Q2', 'mmppip', 'W']\n",
        "Variables to be added later to the DataFrame []\n",
        "-----\n",
        "Topology selection: tops to be used = "
       ]
      },
      {
       "output_type": "stream",
       "stream": "stderr",
       "text": [
        "WARNING:ROOT.TROOT.Append] Replacing existing TH1: mmppip_OFT (Potential memory leak).\n"
       ]
      },
      {
       "output_type": "stream",
       "stream": "stderr",
       "text": [
        "WARNING:ROOT.TROOT.Append] Replacing existing TH1: mmppip_RES (Potential memory leak).\n"
       ]
      },
      {
       "output_type": "stream",
       "stream": "stderr",
       "text": [
        "WARNING:ROOT.TROOT.Append] Replacing existing TH1: mmppip_01_01 (Potential memory leak).\n"
       ]
      },
      {
       "output_type": "stream",
       "stream": "stdout",
       "text": [
        " [2] \n",
        "-----\n",
        "dbg:D before\n",
        "   top        Q2    mmppip         W\n",
        "0    2  1.915010  0.138128  1.855435\n",
        "1    2  2.222751  0.118105  1.398250\n",
        "2    2  2.163898  0.149674  1.508065\n",
        "3    4  2.367165  1.337368  1.648374\n",
        "4    2  2.238995  0.168949  1.864980\n",
        "Evaluating (df['top']==2) ...\n",
        "dbg:D after\n",
        "   top        Q2    mmppip         W\n",
        "0    2  1.915010  0.138128  1.855435\n",
        "1    2  2.222751  0.118105  1.398250\n",
        "2    2  2.163898  0.149674  1.508065\n",
        "4    2  2.238995  0.168949  1.864980\n",
        "5    2  2.411513  0.166568  1.899440\n",
        "-----\n",
        "Q2 binning \n",
        "-----\n",
        "NQ2BINS=1,Q2BINW=0.6000 GeV^2\n",
        "['1.9000', '2.5000']\n",
        "-----\n",
        "W binning \n",
        "-----\n",
        "NWBINS=1,WBINW=0.6000 GeV\n",
        "['1.3000', '1.9000']\n",
        "-----\n",
        "OUTDIR=/home/trivedia/CLAS/workspace/ana2pi/sub_studies/study_vars/q2w2/sim_nmcor_gpp-5 \n",
        "-----\n",
        "HOFT= [Hist2D('mmppip_OFT')]\n",
        "HRES= [Hist2D('mmppip_RES')]\n",
        "-----\n",
        "Importing d2pi.root -> DataFrame\n",
        "-----"
       ]
      },
      {
       "output_type": "stream",
       "stream": "stdout",
       "text": [
        "\n",
        "Going to use d2pi(sim_nmcor_gpp-6)\n",
        "File = /data/trivedia/e1f/study_vars/q2w2/sim_nmcor_gpp-6/recon/d2pi.root\n",
        "Variables to import directly into DataFrame= ['top', 'Q2', 'mmppip', 'W']\n",
        "Variables to be added later to the DataFrame []\n",
        "-----\n",
        "Topology selection: tops to be used = "
       ]
      },
      {
       "output_type": "stream",
       "stream": "stderr",
       "text": [
        "WARNING:ROOT.TROOT.Append] Replacing existing TH1: mmppip_OFT (Potential memory leak).\n"
       ]
      },
      {
       "output_type": "stream",
       "stream": "stderr",
       "text": [
        "WARNING:ROOT.TROOT.Append] Replacing existing TH1: mmppip_RES (Potential memory leak).\n"
       ]
      },
      {
       "output_type": "stream",
       "stream": "stderr",
       "text": [
        "WARNING:ROOT.TROOT.Append] Replacing existing TH1: mmppip_01_01 (Potential memory leak).\n"
       ]
      },
      {
       "output_type": "stream",
       "stream": "stdout",
       "text": [
        " [2] \n",
        "-----\n",
        "dbg:D before\n",
        "   top        Q2    mmppip         W\n",
        "0    1  2.056597  0.188374  1.851401\n",
        "1    3  2.188988  0.535173  1.710064\n",
        "2    4  2.437568  1.467969  1.745973\n",
        "3    4  2.032708  1.376705  1.856210\n",
        "4    2  2.284116  0.146943  1.691661\n",
        "Evaluating (df['top']==2) ...\n",
        "dbg:D after\n",
        "   top        Q2    mmppip         W\n",
        "4    2  2.284116  0.146943  1.691661\n",
        "5    2  2.267941  0.124427  1.854876\n",
        "6    2  1.910844  0.206098  1.740322\n",
        "7    2  1.913726  0.251208  1.587649\n",
        "8    2  1.955137  0.174265  1.806081\n",
        "-----\n",
        "Q2 binning \n",
        "-----\n",
        "NQ2BINS=1,Q2BINW=0.6000 GeV^2\n",
        "['1.9000', '2.5000']\n",
        "-----\n",
        "W binning \n",
        "-----\n",
        "NWBINS=1,WBINW=0.6000 GeV\n",
        "['1.3000', '1.9000']\n",
        "-----\n",
        "OUTDIR=/home/trivedia/CLAS/workspace/ana2pi/sub_studies/study_vars/q2w2/sim_nmcor_gpp-6 \n",
        "-----\n",
        "HOFT= [Hist2D('mmppip_OFT')]\n",
        "HRES= [Hist2D('mmppip_RES')]\n",
        "-----\n",
        "Importing d2pi.root -> DataFrame\n",
        "-----"
       ]
      },
      {
       "output_type": "stream",
       "stream": "stdout",
       "text": [
        "\n",
        "Going to use d2pi(sim_nmcor_gpp-7)\n",
        "File = /data/trivedia/e1f/study_vars/q2w2/sim_nmcor_gpp-7/recon/d2pi.root\n",
        "Variables to import directly into DataFrame= ['top', 'Q2', 'mmppip', 'W']\n",
        "Variables to be added later to the DataFrame []\n",
        "-----\n",
        "Topology selection: tops to be used = "
       ]
      },
      {
       "output_type": "stream",
       "stream": "stderr",
       "text": [
        "WARNING:ROOT.TROOT.Append] Replacing existing TH1: mmppip_OFT (Potential memory leak).\n"
       ]
      },
      {
       "output_type": "stream",
       "stream": "stderr",
       "text": [
        "WARNING:ROOT.TROOT.Append] Replacing existing TH1: mmppip_RES (Potential memory leak).\n"
       ]
      },
      {
       "output_type": "stream",
       "stream": "stderr",
       "text": [
        "WARNING:ROOT.TROOT.Append] Replacing existing TH1: mmppip_01_01 (Potential memory leak).\n"
       ]
      },
      {
       "output_type": "stream",
       "stream": "stdout",
       "text": [
        " [2] \n",
        "-----\n",
        "dbg:D before\n",
        "   top        Q2    mmppip         W\n",
        "0    2  2.103438  0.266046  2.613237\n",
        "1    3  2.075456  0.584688  1.671690\n",
        "2    2  2.031242  0.062661  1.675725\n",
        "3    2  2.237019  0.173930  1.467517\n",
        "4    2  2.224438  0.213017  1.901834\n",
        "Evaluating (df['top']==2) ...\n",
        "dbg:D after\n",
        "   top        Q2    mmppip         W\n",
        "0    2  2.103438  0.266046  2.613237\n",
        "2    2  2.031242  0.062661  1.675725\n",
        "3    2  2.237019  0.173930  1.467517\n",
        "4    2  2.224438  0.213017  1.901834\n",
        "5    2  1.931761  0.264407  1.602314\n",
        "-----\n",
        "Q2 binning \n",
        "-----\n",
        "NQ2BINS=1,Q2BINW=0.6000 GeV^2\n",
        "['1.9000', '2.5000']\n",
        "-----\n",
        "W binning \n",
        "-----\n",
        "NWBINS=1,WBINW=0.6000 GeV\n",
        "['1.3000', '1.9000']\n",
        "-----\n",
        "OUTDIR=/home/trivedia/CLAS/workspace/ana2pi/sub_studies/study_vars/q2w2/sim_nmcor_gpp-7 \n",
        "-----\n",
        "HOFT= [Hist2D('mmppip_OFT')]\n",
        "HRES= [Hist2D('mmppip_RES')]\n",
        "-----\n",
        "Importing d2pi.root -> DataFrame\n",
        "-----"
       ]
      },
      {
       "output_type": "stream",
       "stream": "stdout",
       "text": [
        "\n",
        "Going to use d2pi(sim_nmcor_gpp-8)\n",
        "File = /data/trivedia/e1f/study_vars/q2w2/sim_nmcor_gpp-8/recon/d2pi.root\n",
        "Variables to import directly into DataFrame= ['top', 'Q2', 'mmppip', 'W']\n",
        "Variables to be added later to the DataFrame []\n",
        "-----\n",
        "Topology selection: tops to be used = "
       ]
      },
      {
       "output_type": "stream",
       "stream": "stderr",
       "text": [
        "WARNING:ROOT.TROOT.Append] Replacing existing TH1: mmppip_OFT (Potential memory leak).\n"
       ]
      },
      {
       "output_type": "stream",
       "stream": "stderr",
       "text": [
        "WARNING:ROOT.TROOT.Append] Replacing existing TH1: mmppip_RES (Potential memory leak).\n"
       ]
      },
      {
       "output_type": "stream",
       "stream": "stderr",
       "text": [
        "WARNING:ROOT.TROOT.Append] Replacing existing TH1: mmppip_01_01 (Potential memory leak).\n"
       ]
      },
      {
       "output_type": "stream",
       "stream": "stdout",
       "text": [
        " [2] \n",
        "-----\n",
        "dbg:D before\n",
        "   top        Q2    mmppip         W\n",
        "0    2  2.015828  0.145965  1.386101\n",
        "1    4  1.955386  1.510230  1.716527\n",
        "2    2  2.294343  0.157764  1.442032\n",
        "3    4  2.315349  1.321714  1.926516\n",
        "4    3  2.253140  0.713790  1.715747\n",
        "Evaluating (df['top']==2) ...\n",
        "dbg:D after\n",
        "   top        Q2    mmppip         W\n",
        "0    2  2.015828  0.145965  1.386101\n",
        "2    2  2.294343  0.157764  1.442032\n",
        "5    2  2.168356  0.087803  1.317518\n",
        "6    2  2.005930  0.148549  1.605208\n",
        "7    2  2.034131  0.212380  1.677985\n",
        "-----\n",
        "Q2 binning \n",
        "-----\n",
        "NQ2BINS=1,Q2BINW=0.6000 GeV^2\n",
        "['1.9000', '2.5000']\n",
        "-----\n",
        "W binning \n",
        "-----\n",
        "NWBINS=1,WBINW=0.6000 GeV\n",
        "['1.3000', '1.9000']\n",
        "-----\n",
        "OUTDIR=/home/trivedia/CLAS/workspace/ana2pi/sub_studies/study_vars/q2w2/sim_nmcor_gpp-8 \n",
        "-----\n",
        "HOFT= [Hist2D('mmppip_OFT')]\n",
        "HRES= [Hist2D('mmppip_RES')]\n",
        "-----\n",
        "Importing d2pi.root -> DataFrame\n",
        "-----"
       ]
      },
      {
       "output_type": "stream",
       "stream": "stdout",
       "text": [
        "\n",
        "Going to use d2pi(sim_nmcor_gpp-9)\n",
        "File = /data/trivedia/e1f/study_vars/q2w2/sim_nmcor_gpp-9/recon/d2pi.root\n",
        "Variables to import directly into DataFrame= ['top', 'Q2', 'mmppip', 'W']\n",
        "Variables to be added later to the DataFrame []\n",
        "-----\n",
        "Topology selection: tops to be used = "
       ]
      },
      {
       "output_type": "stream",
       "stream": "stderr",
       "text": [
        "WARNING:ROOT.TROOT.Append] Replacing existing TH1: mmppip_OFT (Potential memory leak).\n"
       ]
      },
      {
       "output_type": "stream",
       "stream": "stderr",
       "text": [
        "WARNING:ROOT.TROOT.Append] Replacing existing TH1: mmppip_RES (Potential memory leak).\n"
       ]
      },
      {
       "output_type": "stream",
       "stream": "stderr",
       "text": [
        "WARNING:ROOT.TROOT.Append] Replacing existing TH1: mmppip_01_01 (Potential memory leak).\n"
       ]
      },
      {
       "output_type": "stream",
       "stream": "stdout",
       "text": [
        " [2] \n",
        "-----\n",
        "dbg:D before\n",
        "   top        Q2    mmppip         W\n",
        "0    2  2.014490  0.189417  1.687240\n",
        "1    2  1.927754  0.348810  1.964545\n",
        "2    3  2.233994  0.524093  1.875641\n",
        "3    2  2.132872  0.161594  1.752092\n",
        "4    1  2.081036  0.108862  1.737157\n",
        "Evaluating (df['top']==2) ...\n",
        "dbg:D after\n",
        "   top        Q2    mmppip         W\n",
        "0    2  2.014490  0.189417  1.687240\n",
        "1    2  1.927754  0.348810  1.964545\n",
        "3    2  2.132872  0.161594  1.752092\n",
        "7    2  2.002882  0.274494  1.792185\n",
        "8    2  2.007487  0.117775  1.816571\n",
        "-----\n",
        "Q2 binning \n",
        "-----\n",
        "NQ2BINS=1,Q2BINW=0.6000 GeV^2\n",
        "['1.9000', '2.5000']\n",
        "-----\n",
        "W binning \n",
        "-----\n",
        "NWBINS=1,WBINW=0.6000 GeV\n",
        "['1.3000', '1.9000']\n",
        "-----\n",
        "OUTDIR=/home/trivedia/CLAS/workspace/ana2pi/sub_studies/study_vars/q2w2/sim_nmcor_gpp-9 \n",
        "-----\n",
        "HOFT= [Hist2D('mmppip_OFT')]\n",
        "HRES= [Hist2D('mmppip_RES')]\n",
        "-----\n",
        "Importing d2pi.root -> DataFrame\n",
        "-----"
       ]
      },
      {
       "output_type": "stream",
       "stream": "stdout",
       "text": [
        "\n",
        "Going to use d2pi(sim_nmcor_gpp-10)\n",
        "File = /data/trivedia/e1f/study_vars/q2w2/sim_nmcor_gpp-10/recon/d2pi.root\n",
        "Variables to import directly into DataFrame= ['top', 'Q2', 'mmppip', 'W']\n",
        "Variables to be added later to the DataFrame []\n",
        "-----\n",
        "Topology selection: tops to be used = "
       ]
      },
      {
       "output_type": "stream",
       "stream": "stderr",
       "text": [
        "WARNING:ROOT.TROOT.Append] Replacing existing TH1: mmppip_OFT (Potential memory leak).\n"
       ]
      },
      {
       "output_type": "stream",
       "stream": "stderr",
       "text": [
        "WARNING:ROOT.TROOT.Append] Replacing existing TH1: mmppip_RES (Potential memory leak).\n"
       ]
      },
      {
       "output_type": "stream",
       "stream": "stderr",
       "text": [
        "WARNING:ROOT.TROOT.Append] Replacing existing TH1: mmppip_01_01 (Potential memory leak).\n"
       ]
      },
      {
       "output_type": "stream",
       "stream": "stdout",
       "text": [
        " [2] \n",
        "-----\n",
        "dbg:D before\n",
        "   top        Q2    mmppip         W\n",
        "0    2  1.875769  0.241366  1.667687\n",
        "1    4  2.441293  1.475503  1.836005\n",
        "2    1  2.246424  0.138421  1.774571\n",
        "3    4  2.105846  1.412477  1.827557\n",
        "4    2  2.148120  0.376991  1.878083\n",
        "Evaluating (df['top']==2) ...\n",
        "dbg:D after\n",
        "    top        Q2    mmppip         W\n",
        "0     2  1.875769  0.241366  1.667687\n",
        "4     2  2.148120  0.376991  1.878083\n",
        "5     2  1.964715  0.123529  1.412856\n",
        "7     2  2.006099  0.152646  1.574157\n",
        "10    2  1.916353  0.167620  1.800168\n",
        "-----\n",
        "Q2 binning \n",
        "-----\n",
        "NQ2BINS=1,Q2BINW=0.6000 GeV^2\n",
        "['1.9000', '2.5000']\n",
        "-----\n",
        "W binning \n",
        "-----\n",
        "NWBINS=1,WBINW=0.6000 GeV\n",
        "['1.3000', '1.9000']\n",
        "-----\n",
        "OUTDIR=/home/trivedia/CLAS/workspace/ana2pi/sub_studies/study_vars/q2w2/sim_nmcor_gpp-10 \n",
        "-----\n",
        "HOFT= [Hist2D('mmppip_OFT')]\n",
        "HRES= [Hist2D('mmppip_RES')]\n",
        "-----\n",
        "Importing d2pi.root -> DataFrame\n",
        "-----"
       ]
      },
      {
       "output_type": "stream",
       "stream": "stdout",
       "text": [
        "\n",
        "Going to use d2pi(sim_nmcor_gpp-11)\n",
        "File = /data/trivedia/e1f/study_vars/q2w2/sim_nmcor_gpp-11/recon/d2pi.root\n",
        "Variables to import directly into DataFrame= ['top', 'Q2', 'mmppip', 'W']\n",
        "Variables to be added later to the DataFrame []\n",
        "-----\n",
        "Topology selection: tops to be used = "
       ]
      },
      {
       "output_type": "stream",
       "stream": "stderr",
       "text": [
        "WARNING:ROOT.TROOT.Append] Replacing existing TH1: mmppip_OFT (Potential memory leak).\n"
       ]
      },
      {
       "output_type": "stream",
       "stream": "stderr",
       "text": [
        "WARNING:ROOT.TROOT.Append] Replacing existing TH1: mmppip_RES (Potential memory leak).\n"
       ]
      },
      {
       "output_type": "stream",
       "stream": "stderr",
       "text": [
        "WARNING:ROOT.TROOT.Append] Replacing existing TH1: mmppip_01_01 (Potential memory leak).\n"
       ]
      },
      {
       "output_type": "stream",
       "stream": "stdout",
       "text": [
        " [2] \n",
        "-----\n",
        "dbg:D before\n",
        "   top        Q2    mmppip         W\n",
        "0    2  2.212007  0.146803  1.752901\n",
        "1    2  2.023542  0.144227  1.516859\n",
        "2    2  2.304423  0.167461  1.737919\n",
        "3    2  2.352314  0.121337  1.664693\n",
        "4    2  1.954578  0.139453  1.558589\n",
        "Evaluating (df['top']==2) ...\n",
        "dbg:D after\n",
        "   top        Q2    mmppip         W\n",
        "0    2  2.212007  0.146803  1.752901\n",
        "1    2  2.023542  0.144227  1.516859\n",
        "2    2  2.304423  0.167461  1.737919\n",
        "3    2  2.352314  0.121337  1.664693\n",
        "4    2  1.954578  0.139453  1.558589\n",
        "-----\n",
        "Q2 binning \n",
        "-----\n",
        "NQ2BINS=1,Q2BINW=0.6000 GeV^2\n",
        "['1.9000', '2.5000']\n",
        "-----\n",
        "W binning \n",
        "-----\n",
        "NWBINS=1,WBINW=0.6000 GeV\n",
        "['1.3000', '1.9000']\n",
        "-----\n",
        "OUTDIR=/home/trivedia/CLAS/workspace/ana2pi/sub_studies/study_vars/q2w2/sim_nmcor_gpp-11 \n",
        "-----\n",
        "HOFT= [Hist2D('mmppip_OFT')]\n",
        "HRES= [Hist2D('mmppip_RES')]\n",
        "-----\n",
        "Importing d2pi.root -> DataFrame\n",
        "-----"
       ]
      },
      {
       "output_type": "stream",
       "stream": "stdout",
       "text": [
        "\n",
        "Going to use d2pi(sim_nmcor_gpp-12)\n",
        "File = /data/trivedia/e1f/study_vars/q2w2/sim_nmcor_gpp-12/recon/d2pi.root\n",
        "Variables to import directly into DataFrame= ['top', 'Q2', 'mmppip', 'W']\n",
        "Variables to be added later to the DataFrame []\n",
        "-----\n",
        "Topology selection: tops to be used = "
       ]
      },
      {
       "output_type": "stream",
       "stream": "stderr",
       "text": [
        "WARNING:ROOT.TROOT.Append] Replacing existing TH1: mmppip_OFT (Potential memory leak).\n"
       ]
      },
      {
       "output_type": "stream",
       "stream": "stderr",
       "text": [
        "WARNING:ROOT.TROOT.Append] Replacing existing TH1: mmppip_RES (Potential memory leak).\n"
       ]
      },
      {
       "output_type": "stream",
       "stream": "stderr",
       "text": [
        "WARNING:ROOT.TROOT.Append] Replacing existing TH1: mmppip_01_01 (Potential memory leak).\n"
       ]
      },
      {
       "output_type": "stream",
       "stream": "stdout",
       "text": [
        " [2] \n",
        "-----\n",
        "dbg:D before\n",
        "   top        Q2    mmppip         W\n",
        "0    4  2.366619  1.292849  1.827724\n",
        "1    2  2.375338  0.188508  1.862975\n",
        "2    2  2.338656  0.087503  1.710098\n",
        "3    2  2.166887  0.142502  1.536987\n",
        "4    1  2.210021  0.302180  1.826558\n",
        "Evaluating (df['top']==2) ...\n",
        "dbg:D after\n",
        "    top        Q2    mmppip         W\n",
        "1     2  2.375338  0.188508  1.862975\n",
        "2     2  2.338656  0.087503  1.710098\n",
        "3     2  2.166887  0.142502  1.536987\n",
        "5     2  2.399171  0.307942  1.591324\n",
        "12    2  2.081754  0.152546  1.533755\n",
        "-----\n",
        "Q2 binning \n",
        "-----\n",
        "NQ2BINS=1,Q2BINW=0.6000 GeV^2\n",
        "['1.9000', '2.5000']\n",
        "-----\n",
        "W binning \n",
        "-----\n",
        "NWBINS=1,WBINW=0.6000 GeV\n",
        "['1.3000', '1.9000']\n",
        "-----\n",
        "OUTDIR=/home/trivedia/CLAS/workspace/ana2pi/sub_studies/study_vars/q2w2/sim_nmcor_gpp-12 \n",
        "-----\n",
        "HOFT= [Hist2D('mmppip_OFT')]\n",
        "HRES= [Hist2D('mmppip_RES')]\n",
        "-----\n",
        "Importing d2pi.root -> DataFrame\n",
        "-----"
       ]
      },
      {
       "output_type": "stream",
       "stream": "stdout",
       "text": [
        "\n",
        "Going to use d2pi(sim_nmcor_gpp-13)\n",
        "File = /data/trivedia/e1f/study_vars/q2w2/sim_nmcor_gpp-13/recon/d2pi.root\n",
        "Variables to import directly into DataFrame= ['top', 'Q2', 'mmppip', 'W']\n",
        "Variables to be added later to the DataFrame []\n",
        "-----\n",
        "Topology selection: tops to be used = "
       ]
      },
      {
       "output_type": "stream",
       "stream": "stderr",
       "text": [
        "WARNING:ROOT.TROOT.Append] Replacing existing TH1: mmppip_OFT (Potential memory leak).\n"
       ]
      },
      {
       "output_type": "stream",
       "stream": "stderr",
       "text": [
        "WARNING:ROOT.TROOT.Append] Replacing existing TH1: mmppip_RES (Potential memory leak).\n"
       ]
      },
      {
       "output_type": "stream",
       "stream": "stderr",
       "text": [
        "WARNING:ROOT.TROOT.Append] Replacing existing TH1: mmppip_01_01 (Potential memory leak).\n"
       ]
      },
      {
       "output_type": "stream",
       "stream": "stdout",
       "text": [
        " [2] \n",
        "-----\n",
        "dbg:D before\n",
        "   top        Q2    mmppip         W\n",
        "0    3  2.244581  0.541113  1.758408\n",
        "1    2  2.298131  0.153830  1.470907\n",
        "2    4  2.143001  1.423520  1.739850\n",
        "3    1  2.196578  0.021541  1.745464\n",
        "4    2  1.917434  0.190739  1.825585\n",
        "Evaluating (df['top']==2) ...\n",
        "dbg:D after\n",
        "    top        Q2    mmppip         W\n",
        "1     2  2.298131  0.153830  1.470907\n",
        "4     2  1.917434  0.190739  1.825585\n",
        "6     2  2.073670  0.150717  1.837520\n",
        "7     2  2.282683  0.117641  1.856228\n",
        "10    2  1.910946  0.089928  1.761196\n",
        "-----\n",
        "Q2 binning \n",
        "-----\n",
        "NQ2BINS=1,Q2BINW=0.6000 GeV^2\n",
        "['1.9000', '2.5000']\n",
        "-----\n",
        "W binning \n",
        "-----\n",
        "NWBINS=1,WBINW=0.6000 GeV\n",
        "['1.3000', '1.9000']\n",
        "-----\n",
        "OUTDIR=/home/trivedia/CLAS/workspace/ana2pi/sub_studies/study_vars/q2w2/sim_nmcor_gpp-13 \n",
        "-----\n",
        "HOFT= [Hist2D('mmppip_OFT')]\n",
        "HRES= [Hist2D('mmppip_RES')]\n",
        "-----\n",
        "Importing d2pi.root -> DataFrame\n",
        "-----"
       ]
      },
      {
       "output_type": "stream",
       "stream": "stdout",
       "text": [
        "\n",
        "Going to use d2pi(sim_nmcor_gpp-14)\n",
        "File = /data/trivedia/e1f/study_vars/q2w2/sim_nmcor_gpp-14/recon/d2pi.root\n",
        "Variables to import directly into DataFrame= ['top', 'Q2', 'mmppip', 'W']\n",
        "Variables to be added later to the DataFrame []\n",
        "-----\n",
        "Topology selection: tops to be used = "
       ]
      },
      {
       "output_type": "stream",
       "stream": "stderr",
       "text": [
        "WARNING:ROOT.TROOT.Append] Replacing existing TH1: mmppip_OFT (Potential memory leak).\n"
       ]
      },
      {
       "output_type": "stream",
       "stream": "stderr",
       "text": [
        "WARNING:ROOT.TROOT.Append] Replacing existing TH1: mmppip_RES (Potential memory leak).\n"
       ]
      },
      {
       "output_type": "stream",
       "stream": "stderr",
       "text": [
        "WARNING:ROOT.TROOT.Append] Replacing existing TH1: mmppip_01_01 (Potential memory leak).\n"
       ]
      },
      {
       "output_type": "stream",
       "stream": "stdout",
       "text": [
        " [2] \n",
        "-----\n",
        "dbg:D before\n",
        "   top        Q2    mmppip         W\n",
        "0    4  2.157955  1.400265  1.791684\n",
        "1    2  1.909148  0.241756  1.814431\n",
        "2    3  2.200742  0.496659  1.728269\n",
        "3    1  2.320385  0.172535  1.562862\n",
        "4    2  2.259932  0.154366  1.428829\n",
        "Evaluating (df['top']==2) ...\n",
        "dbg:D after\n",
        "   top        Q2    mmppip         W\n",
        "1    2  1.909148  0.241756  1.814431\n",
        "4    2  2.259932  0.154366  1.428829\n",
        "5    2  1.921105  0.130012  1.704031\n",
        "6    2  2.177462  0.134619  1.678977\n",
        "8    2  1.950418  0.136130  1.405746\n",
        "-----\n",
        "Q2 binning \n",
        "-----\n",
        "NQ2BINS=1,Q2BINW=0.6000 GeV^2\n",
        "['1.9000', '2.5000']\n",
        "-----\n",
        "W binning \n",
        "-----\n",
        "NWBINS=1,WBINW=0.6000 GeV\n",
        "['1.3000', '1.9000']\n",
        "-----\n",
        "OUTDIR=/home/trivedia/CLAS/workspace/ana2pi/sub_studies/study_vars/q2w2/sim_nmcor_gpp-14 \n",
        "-----\n",
        "HOFT= [Hist2D('mmppip_OFT')]\n",
        "HRES= [Hist2D('mmppip_RES')]\n",
        "-----\n",
        "Importing d2pi.root -> DataFrame\n",
        "-----"
       ]
      },
      {
       "output_type": "stream",
       "stream": "stdout",
       "text": [
        "\n",
        "Going to use d2pi(sim_nmcor_gpp-15)\n",
        "File = /data/trivedia/e1f/study_vars/q2w2/sim_nmcor_gpp-15/recon/d2pi.root\n",
        "Variables to import directly into DataFrame= ['top', 'Q2', 'mmppip', 'W']\n",
        "Variables to be added later to the DataFrame []\n",
        "-----\n",
        "Topology selection: tops to be used = "
       ]
      },
      {
       "output_type": "stream",
       "stream": "stderr",
       "text": [
        "WARNING:ROOT.TROOT.Append] Replacing existing TH1: mmppip_OFT (Potential memory leak).\n"
       ]
      },
      {
       "output_type": "stream",
       "stream": "stderr",
       "text": [
        "WARNING:ROOT.TROOT.Append] Replacing existing TH1: mmppip_RES (Potential memory leak).\n"
       ]
      },
      {
       "output_type": "stream",
       "stream": "stderr",
       "text": [
        "WARNING:ROOT.TROOT.Append] Replacing existing TH1: mmppip_01_01 (Potential memory leak).\n"
       ]
      },
      {
       "output_type": "stream",
       "stream": "stdout",
       "text": [
        " [2] \n",
        "-----\n",
        "dbg:D before\n",
        "   top        Q2    mmppip         W\n",
        "0    2  2.149536  0.139781  1.681695\n",
        "1    4  2.118538  1.288705  1.880909\n",
        "2    2  1.972042  0.202466  1.833559\n",
        "3    2  2.054617  0.215345  1.646900\n",
        "4    2  2.284980  0.165314  1.647440\n",
        "Evaluating (df['top']==2) ...\n",
        "dbg:D after\n",
        "   top        Q2    mmppip         W\n",
        "0    2  2.149536  0.139781  1.681695\n",
        "2    2  1.972042  0.202466  1.833559\n",
        "3    2  2.054617  0.215345  1.646900\n",
        "4    2  2.284980  0.165314  1.647440\n",
        "7    2  2.437472  0.217587  1.666158\n",
        "-----\n",
        "Q2 binning \n",
        "-----\n",
        "NQ2BINS=1,Q2BINW=0.6000 GeV^2\n",
        "['1.9000', '2.5000']\n",
        "-----\n",
        "W binning \n",
        "-----\n",
        "NWBINS=1,WBINW=0.6000 GeV\n",
        "['1.3000', '1.9000']\n",
        "-----\n",
        "OUTDIR=/home/trivedia/CLAS/workspace/ana2pi/sub_studies/study_vars/q2w2/sim_nmcor_gpp-15 \n",
        "-----\n",
        "HOFT= [Hist2D('mmppip_OFT')]\n",
        "HRES= [Hist2D('mmppip_RES')]\n",
        "-----\n",
        "Importing d2pi.root -> DataFrame\n",
        "-----"
       ]
      },
      {
       "output_type": "stream",
       "stream": "stdout",
       "text": [
        "\n",
        "Going to use d2pi(sim_nmcor_gpp-16)\n",
        "File = /data/trivedia/e1f/study_vars/q2w2/sim_nmcor_gpp-16/recon/d2pi.root\n",
        "Variables to import directly into DataFrame= ['top', 'Q2', 'mmppip', 'W']\n",
        "Variables to be added later to the DataFrame []\n",
        "-----\n",
        "Topology selection: tops to be used = "
       ]
      },
      {
       "output_type": "stream",
       "stream": "stderr",
       "text": [
        "WARNING:ROOT.TROOT.Append] Replacing existing TH1: mmppip_OFT (Potential memory leak).\n"
       ]
      },
      {
       "output_type": "stream",
       "stream": "stderr",
       "text": [
        "WARNING:ROOT.TROOT.Append] Replacing existing TH1: mmppip_RES (Potential memory leak).\n"
       ]
      },
      {
       "output_type": "stream",
       "stream": "stderr",
       "text": [
        "WARNING:ROOT.TROOT.Append] Replacing existing TH1: mmppip_01_01 (Potential memory leak).\n"
       ]
      },
      {
       "output_type": "stream",
       "stream": "stdout",
       "text": [
        " [2] \n",
        "-----\n",
        "dbg:D before\n",
        "   top        Q2    mmppip         W\n",
        "0    2  1.953159  0.057453  1.505096\n",
        "1    4  2.117192  1.488156  1.789837\n",
        "2    2  2.187295  0.161507  1.559510\n",
        "3    2  1.930662  0.147075  1.792378\n",
        "4    2  2.410585  0.255856  1.601354\n",
        "Evaluating (df['top']==2) ...\n",
        "dbg:D after\n",
        "   top        Q2    mmppip         W\n",
        "0    2  1.953159  0.057453  1.505096\n",
        "2    2  2.187295  0.161507  1.559510\n",
        "3    2  1.930662  0.147075  1.792378\n",
        "4    2  2.410585  0.255856  1.601354\n",
        "6    2  1.983180  0.283382  1.841678\n",
        "-----\n",
        "Q2 binning \n",
        "-----\n",
        "NQ2BINS=1,Q2BINW=0.6000 GeV^2\n",
        "['1.9000', '2.5000']\n",
        "-----\n",
        "W binning \n",
        "-----\n",
        "NWBINS=1,WBINW=0.6000 GeV\n",
        "['1.3000', '1.9000']\n",
        "-----\n",
        "OUTDIR=/home/trivedia/CLAS/workspace/ana2pi/sub_studies/study_vars/q2w2/sim_nmcor_gpp-16 \n",
        "-----\n",
        "HOFT= [Hist2D('mmppip_OFT')]\n",
        "HRES= [Hist2D('mmppip_RES')]\n",
        "-----\n",
        "Importing d2pi.root -> DataFrame\n",
        "-----"
       ]
      },
      {
       "output_type": "stream",
       "stream": "stdout",
       "text": [
        "\n",
        "Going to use d2pi(sim_nmcor_gpp-17)\n",
        "File = /data/trivedia/e1f/study_vars/q2w2/sim_nmcor_gpp-17/recon/d2pi.root\n",
        "Variables to import directly into DataFrame= ['top', 'Q2', 'mmppip', 'W']\n",
        "Variables to be added later to the DataFrame []\n",
        "-----\n",
        "Topology selection: tops to be used = "
       ]
      },
      {
       "output_type": "stream",
       "stream": "stderr",
       "text": [
        "WARNING:ROOT.TROOT.Append] Replacing existing TH1: mmppip_OFT (Potential memory leak).\n"
       ]
      },
      {
       "output_type": "stream",
       "stream": "stderr",
       "text": [
        "WARNING:ROOT.TROOT.Append] Replacing existing TH1: mmppip_RES (Potential memory leak).\n"
       ]
      },
      {
       "output_type": "stream",
       "stream": "stderr",
       "text": [
        "WARNING:ROOT.TROOT.Append] Replacing existing TH1: mmppip_01_01 (Potential memory leak).\n"
       ]
      },
      {
       "output_type": "stream",
       "stream": "stdout",
       "text": [
        " [2] \n",
        "-----\n",
        "dbg:D before\n",
        "   top        Q2    mmppip         W\n",
        "0    2  1.981806  0.105162  1.718298\n",
        "1    4  1.942343  1.345228  1.811013\n",
        "2    2  2.108846  0.156756  1.704332\n",
        "3    2  2.076893  0.193628  1.822763\n",
        "4    2  2.025502  0.128633  1.694237\n",
        "Evaluating (df['top']==2) ...\n",
        "dbg:D after\n",
        "   top        Q2    mmppip         W\n",
        "0    2  1.981806  0.105162  1.718298\n",
        "2    2  2.108846  0.156756  1.704332\n",
        "3    2  2.076893  0.193628  1.822763\n",
        "4    2  2.025502  0.128633  1.694237\n",
        "5    2  2.186517  0.224272  1.693508\n",
        "-----\n",
        "Q2 binning \n",
        "-----\n",
        "NQ2BINS=1,Q2BINW=0.6000 GeV^2\n",
        "['1.9000', '2.5000']\n",
        "-----\n",
        "W binning \n",
        "-----\n",
        "NWBINS=1,WBINW=0.6000 GeV\n",
        "['1.3000', '1.9000']\n",
        "-----\n",
        "OUTDIR=/home/trivedia/CLAS/workspace/ana2pi/sub_studies/study_vars/q2w2/sim_nmcor_gpp-17 \n",
        "-----\n",
        "HOFT= [Hist2D('mmppip_OFT')]\n",
        "HRES= [Hist2D('mmppip_RES')]\n",
        "-----\n",
        "Importing d2pi.root -> DataFrame\n",
        "-----"
       ]
      },
      {
       "output_type": "stream",
       "stream": "stdout",
       "text": [
        "\n",
        "Going to use d2pi(sim_nmcor_gpp-18)\n",
        "File = /data/trivedia/e1f/study_vars/q2w2/sim_nmcor_gpp-18/recon/d2pi.root\n",
        "Variables to import directly into DataFrame= ['top', 'Q2', 'mmppip', 'W']\n",
        "Variables to be added later to the DataFrame []\n",
        "-----\n",
        "Topology selection: tops to be used = "
       ]
      },
      {
       "output_type": "stream",
       "stream": "stderr",
       "text": [
        "WARNING:ROOT.TROOT.Append] Replacing existing TH1: mmppip_OFT (Potential memory leak).\n"
       ]
      },
      {
       "output_type": "stream",
       "stream": "stderr",
       "text": [
        "WARNING:ROOT.TROOT.Append] Replacing existing TH1: mmppip_RES (Potential memory leak).\n"
       ]
      },
      {
       "output_type": "stream",
       "stream": "stderr",
       "text": [
        "WARNING:ROOT.TROOT.Append] Replacing existing TH1: mmppip_01_01 (Potential memory leak).\n"
       ]
      },
      {
       "output_type": "stream",
       "stream": "stdout",
       "text": [
        " [2] \n",
        "-----\n",
        "dbg:D before\n",
        "   top        Q2    mmppip         W\n",
        "0    2  1.951317  0.117112  1.736713\n",
        "1    2  2.162091  0.182898  1.328012\n",
        "2    4  1.995827  1.361640  1.594476\n",
        "3    2  2.022749  0.215698  1.611432\n",
        "4    2  1.874207  0.195335  1.909928\n",
        "Evaluating (df['top']==2) ...\n",
        "dbg:D after\n",
        "   top        Q2    mmppip         W\n",
        "0    2  1.951317  0.117112  1.736713\n",
        "1    2  2.162091  0.182898  1.328012\n",
        "3    2  2.022749  0.215698  1.611432\n",
        "4    2  1.874207  0.195335  1.909928\n",
        "6    2  2.271015  0.147326  1.891107\n",
        "-----\n",
        "Q2 binning \n",
        "-----\n",
        "NQ2BINS=1,Q2BINW=0.6000 GeV^2\n",
        "['1.9000', '2.5000']\n",
        "-----\n",
        "W binning \n",
        "-----\n",
        "NWBINS=1,WBINW=0.6000 GeV\n",
        "['1.3000', '1.9000']\n",
        "-----\n",
        "OUTDIR=/home/trivedia/CLAS/workspace/ana2pi/sub_studies/study_vars/q2w2/sim_nmcor_gpp-18 \n",
        "-----\n",
        "HOFT= [Hist2D('mmppip_OFT')]\n",
        "HRES= [Hist2D('mmppip_RES')]\n",
        "-----\n",
        "Importing d2pi.root -> DataFrame\n",
        "-----"
       ]
      },
      {
       "output_type": "stream",
       "stream": "stdout",
       "text": [
        "\n",
        "Going to use d2pi(sim_nmcor_gpp-19)\n",
        "File = /data/trivedia/e1f/study_vars/q2w2/sim_nmcor_gpp-19/recon/d2pi.root\n",
        "Variables to import directly into DataFrame= ['top', 'Q2', 'mmppip', 'W']\n",
        "Variables to be added later to the DataFrame []\n",
        "-----\n",
        "Topology selection: tops to be used = "
       ]
      },
      {
       "output_type": "stream",
       "stream": "stderr",
       "text": [
        "WARNING:ROOT.TROOT.Append] Replacing existing TH1: mmppip_OFT (Potential memory leak).\n"
       ]
      },
      {
       "output_type": "stream",
       "stream": "stderr",
       "text": [
        "WARNING:ROOT.TROOT.Append] Replacing existing TH1: mmppip_RES (Potential memory leak).\n"
       ]
      },
      {
       "output_type": "stream",
       "stream": "stderr",
       "text": [
        "WARNING:ROOT.TROOT.Append] Replacing existing TH1: mmppip_01_01 (Potential memory leak).\n"
       ]
      },
      {
       "output_type": "stream",
       "stream": "stdout",
       "text": [
        " [2] \n",
        "-----\n",
        "dbg:D before\n",
        "   top        Q2    mmppip         W\n",
        "0    2  2.494123  0.195344  1.519645\n",
        "1    2  2.065262  0.132314  1.748759\n",
        "2    2  2.235841  0.273520  1.653877\n",
        "3    2  2.108207  0.117093  1.794606\n",
        "4    3  2.250229  0.406850  1.879033\n",
        "Evaluating (df['top']==2) ...\n",
        "dbg:D after\n",
        "   top        Q2    mmppip         W\n",
        "0    2  2.494123  0.195344  1.519645\n",
        "1    2  2.065262  0.132314  1.748759\n",
        "2    2  2.235841  0.273520  1.653877\n",
        "3    2  2.108207  0.117093  1.794606\n",
        "5    2  2.053986  0.198983  1.733491\n",
        "-----\n",
        "Q2 binning \n",
        "-----\n",
        "NQ2BINS=1,Q2BINW=0.6000 GeV^2\n",
        "['1.9000', '2.5000']\n",
        "-----\n",
        "W binning \n",
        "-----\n",
        "NWBINS=1,WBINW=0.6000 GeV\n",
        "['1.3000', '1.9000']\n",
        "-----\n",
        "OUTDIR=/home/trivedia/CLAS/workspace/ana2pi/sub_studies/study_vars/q2w2/sim_nmcor_gpp-19 \n",
        "-----\n",
        "HOFT= [Hist2D('mmppip_OFT')]\n",
        "HRES= [Hist2D('mmppip_RES')]\n",
        "-----\n",
        "Importing d2pi.root -> DataFrame\n",
        "-----"
       ]
      },
      {
       "output_type": "stream",
       "stream": "stdout",
       "text": [
        "\n",
        "Going to use d2pi(sim_nmcor_gpp-20)\n",
        "File = /data/trivedia/e1f/study_vars/q2w2/sim_nmcor_gpp-20/recon/d2pi.root\n",
        "Variables to import directly into DataFrame= ['top', 'Q2', 'mmppip', 'W']\n",
        "Variables to be added later to the DataFrame []\n",
        "-----\n",
        "Topology selection: tops to be used = "
       ]
      },
      {
       "output_type": "stream",
       "stream": "stderr",
       "text": [
        "WARNING:ROOT.TROOT.Append] Replacing existing TH1: mmppip_OFT (Potential memory leak).\n"
       ]
      },
      {
       "output_type": "stream",
       "stream": "stderr",
       "text": [
        "WARNING:ROOT.TROOT.Append] Replacing existing TH1: mmppip_RES (Potential memory leak).\n"
       ]
      },
      {
       "output_type": "stream",
       "stream": "stderr",
       "text": [
        "WARNING:ROOT.TROOT.Append] Replacing existing TH1: mmppip_01_01 (Potential memory leak).\n"
       ]
      },
      {
       "output_type": "stream",
       "stream": "stdout",
       "text": [
        " [2] \n",
        "-----\n",
        "dbg:D before\n",
        "   top        Q2    mmppip         W\n",
        "0    2  2.151942  0.208335  1.769219\n",
        "1    2  1.988479  0.243555  1.685141\n",
        "2    3  2.382380  0.792017  1.803678\n",
        "3    1  2.470241  0.159870  1.528202\n",
        "4    2  2.182429  0.151787  1.814799\n",
        "Evaluating (df['top']==2) ...\n",
        "dbg:D after\n",
        "   top        Q2    mmppip         W\n",
        "0    2  2.151942  0.208335  1.769219\n",
        "1    2  1.988479  0.243555  1.685141\n",
        "4    2  2.182429  0.151787  1.814799\n",
        "5    2  2.164766  0.056622  1.727407\n",
        "6    2  2.184866  0.183159  1.555560\n",
        "-----\n",
        "Q2 binning \n",
        "-----\n",
        "NQ2BINS=1,Q2BINW=0.6000 GeV^2\n",
        "['1.9000', '2.5000']\n",
        "-----\n",
        "W binning \n",
        "-----\n",
        "NWBINS=1,WBINW=0.6000 GeV\n",
        "['1.3000', '1.9000']\n",
        "-----\n",
        "OUTDIR=/home/trivedia/CLAS/workspace/ana2pi/sub_studies/study_vars/q2w2/sim_nmcor_gpp-20 \n",
        "-----\n",
        "HOFT= [Hist2D('mmppip_OFT')]\n",
        "HRES= [Hist2D('mmppip_RES')]\n",
        "-----\n",
        "Importing d2pi.root -> DataFrame\n",
        "-----"
       ]
      },
      {
       "output_type": "stream",
       "stream": "stdout",
       "text": [
        "\n",
        "Going to use d2pi(sim_nmcor_gpp-21)\n",
        "File = /data/trivedia/e1f/study_vars/q2w2/sim_nmcor_gpp-21/recon/d2pi.root\n",
        "Variables to import directly into DataFrame= ['top', 'Q2', 'mmppip', 'W']\n",
        "Variables to be added later to the DataFrame []\n",
        "-----\n",
        "Topology selection: tops to be used = "
       ]
      },
      {
       "output_type": "stream",
       "stream": "stderr",
       "text": [
        "WARNING:ROOT.TROOT.Append] Replacing existing TH1: mmppip_OFT (Potential memory leak).\n"
       ]
      },
      {
       "output_type": "stream",
       "stream": "stderr",
       "text": [
        "WARNING:ROOT.TROOT.Append] Replacing existing TH1: mmppip_RES (Potential memory leak).\n"
       ]
      },
      {
       "output_type": "stream",
       "stream": "stderr",
       "text": [
        "WARNING:ROOT.TROOT.Append] Replacing existing TH1: mmppip_01_01 (Potential memory leak).\n"
       ]
      },
      {
       "output_type": "stream",
       "stream": "stdout",
       "text": [
        " [2] \n",
        "-----\n",
        "dbg:D before\n",
        "   top        Q2    mmppip         W\n",
        "0    3  2.065649  0.871312  1.879406\n",
        "1    2  2.236563  0.141653  1.795276\n",
        "2    1  1.909271  0.037758  1.730046\n",
        "3    2  1.950391  0.071073  1.468687\n",
        "4    2  2.447932  0.258317  1.487290\n",
        "Evaluating (df['top']==2) ...\n",
        "dbg:D after\n",
        "   top        Q2    mmppip         W\n",
        "1    2  2.236563  0.141653  1.795276\n",
        "3    2  1.950391  0.071073  1.468687\n",
        "4    2  2.447932  0.258317  1.487290\n",
        "5    2  2.323179  0.091914  1.660755\n",
        "6    2  2.427657  0.121294  1.445780\n",
        "-----\n",
        "Q2 binning \n",
        "-----\n",
        "NQ2BINS=1,Q2BINW=0.6000 GeV^2\n",
        "['1.9000', '2.5000']\n",
        "-----\n",
        "W binning \n",
        "-----\n",
        "NWBINS=1,WBINW=0.6000 GeV\n",
        "['1.3000', '1.9000']\n",
        "-----\n",
        "OUTDIR=/home/trivedia/CLAS/workspace/ana2pi/sub_studies/study_vars/q2w2/sim_nmcor_gpp-21 \n",
        "-----\n",
        "HOFT= [Hist2D('mmppip_OFT')]\n",
        "HRES= [Hist2D('mmppip_RES')]\n",
        "-----\n",
        "Importing d2pi.root -> DataFrame\n",
        "-----"
       ]
      },
      {
       "output_type": "stream",
       "stream": "stdout",
       "text": [
        "\n",
        "Going to use d2pi(sim_nmcor_gpp-22)\n",
        "File = /data/trivedia/e1f/study_vars/q2w2/sim_nmcor_gpp-22/recon/d2pi.root\n",
        "Variables to import directly into DataFrame= ['top', 'Q2', 'mmppip', 'W']\n",
        "Variables to be added later to the DataFrame []\n",
        "-----\n",
        "Topology selection: tops to be used = "
       ]
      },
      {
       "output_type": "stream",
       "stream": "stderr",
       "text": [
        "WARNING:ROOT.TROOT.Append] Replacing existing TH1: mmppip_OFT (Potential memory leak).\n"
       ]
      },
      {
       "output_type": "stream",
       "stream": "stderr",
       "text": [
        "WARNING:ROOT.TROOT.Append] Replacing existing TH1: mmppip_RES (Potential memory leak).\n"
       ]
      },
      {
       "output_type": "stream",
       "stream": "stderr",
       "text": [
        "WARNING:ROOT.TROOT.Append] Replacing existing TH1: mmppip_01_01 (Potential memory leak).\n"
       ]
      },
      {
       "output_type": "stream",
       "stream": "stdout",
       "text": [
        " [2] \n",
        "-----\n",
        "dbg:D before\n",
        "   top        Q2    mmppip         W\n",
        "0    2  2.119711  0.094549  1.601035\n",
        "1    4  2.189653  1.178556  1.367558\n",
        "2    2  1.982875  0.201241  1.471937\n",
        "3    2  1.947981  0.158414  1.789099\n",
        "4    2  2.298788  0.180967  1.822341\n",
        "Evaluating (df['top']==2) ...\n",
        "dbg:D after\n",
        "   top        Q2    mmppip         W\n",
        "0    2  2.119711  0.094549  1.601035\n",
        "2    2  1.982875  0.201241  1.471937\n",
        "3    2  1.947981  0.158414  1.789099\n",
        "4    2  2.298788  0.180967  1.822341\n",
        "5    2  2.133051  0.134086  1.594008\n",
        "-----\n",
        "Q2 binning \n",
        "-----\n",
        "NQ2BINS=1,Q2BINW=0.6000 GeV^2\n",
        "['1.9000', '2.5000']\n",
        "-----\n",
        "W binning \n",
        "-----\n",
        "NWBINS=1,WBINW=0.6000 GeV\n",
        "['1.3000', '1.9000']\n",
        "-----\n",
        "OUTDIR=/home/trivedia/CLAS/workspace/ana2pi/sub_studies/study_vars/q2w2/sim_nmcor_gpp-22 \n",
        "-----\n",
        "HOFT= [Hist2D('mmppip_OFT')]\n",
        "HRES= [Hist2D('mmppip_RES')]\n",
        "-----\n",
        "Importing d2pi.root -> DataFrame\n",
        "-----"
       ]
      },
      {
       "output_type": "stream",
       "stream": "stdout",
       "text": [
        "\n",
        "Going to use d2pi(sim_nmcor_gpp-23)\n",
        "File = /data/trivedia/e1f/study_vars/q2w2/sim_nmcor_gpp-23/recon/d2pi.root\n",
        "Variables to import directly into DataFrame= ['top', 'Q2', 'mmppip', 'W']\n",
        "Variables to be added later to the DataFrame []\n",
        "-----\n",
        "Topology selection: tops to be used = "
       ]
      },
      {
       "output_type": "stream",
       "stream": "stderr",
       "text": [
        "WARNING:ROOT.TROOT.Append] Replacing existing TH1: mmppip_OFT (Potential memory leak).\n"
       ]
      },
      {
       "output_type": "stream",
       "stream": "stderr",
       "text": [
        "WARNING:ROOT.TROOT.Append] Replacing existing TH1: mmppip_RES (Potential memory leak).\n"
       ]
      },
      {
       "output_type": "stream",
       "stream": "stderr",
       "text": [
        "WARNING:ROOT.TROOT.Append] Replacing existing TH1: mmppip_01_01 (Potential memory leak).\n"
       ]
      },
      {
       "output_type": "stream",
       "stream": "stdout",
       "text": [
        " [2] \n",
        "-----\n",
        "dbg:D before\n",
        "   top        Q2    mmppip         W\n",
        "0    2  1.022846  0.370951  2.748358\n",
        "1    2  2.174145  0.173584  1.866734\n",
        "2    2  2.194888  0.349705  1.676606\n",
        "3    2  2.047339  0.126714  1.503745\n",
        "4    2  3.336045  0.254719  2.503856\n",
        "Evaluating (df['top']==2) ...\n",
        "dbg:D after\n",
        "   top        Q2    mmppip         W\n",
        "0    2  1.022846  0.370951  2.748358\n",
        "1    2  2.174145  0.173584  1.866734\n",
        "2    2  2.194888  0.349705  1.676606\n",
        "3    2  2.047339  0.126714  1.503745\n",
        "4    2  3.336045  0.254719  2.503856\n",
        "-----\n",
        "Q2 binning \n",
        "-----\n",
        "NQ2BINS=1,Q2BINW=0.6000 GeV^2\n",
        "['1.9000', '2.5000']\n",
        "-----\n",
        "W binning \n",
        "-----\n",
        "NWBINS=1,WBINW=0.6000 GeV\n",
        "['1.3000', '1.9000']\n",
        "-----\n",
        "OUTDIR=/home/trivedia/CLAS/workspace/ana2pi/sub_studies/study_vars/q2w2/sim_nmcor_gpp-23 \n",
        "-----\n",
        "HOFT= [Hist2D('mmppip_OFT')]\n",
        "HRES= [Hist2D('mmppip_RES')]\n",
        "-----\n",
        "Importing d2pi.root -> DataFrame\n",
        "-----"
       ]
      },
      {
       "output_type": "stream",
       "stream": "stdout",
       "text": [
        "\n",
        "Going to use d2pi(sim_nmcor_gpp-24)\n",
        "File = /data/trivedia/e1f/study_vars/q2w2/sim_nmcor_gpp-24/recon/d2pi.root\n",
        "Variables to import directly into DataFrame= ['top', 'Q2', 'mmppip', 'W']\n",
        "Variables to be added later to the DataFrame []\n",
        "-----\n",
        "Topology selection: tops to be used = "
       ]
      },
      {
       "output_type": "stream",
       "stream": "stderr",
       "text": [
        "WARNING:ROOT.TROOT.Append] Replacing existing TH1: mmppip_OFT (Potential memory leak).\n"
       ]
      },
      {
       "output_type": "stream",
       "stream": "stderr",
       "text": [
        "WARNING:ROOT.TROOT.Append] Replacing existing TH1: mmppip_RES (Potential memory leak).\n"
       ]
      },
      {
       "output_type": "stream",
       "stream": "stderr",
       "text": [
        "WARNING:ROOT.TROOT.Append] Replacing existing TH1: mmppip_01_01 (Potential memory leak).\n"
       ]
      },
      {
       "output_type": "stream",
       "stream": "stdout",
       "text": [
        " [2] \n",
        "-----\n",
        "dbg:D before\n",
        "   top        Q2    mmppip         W\n",
        "0    2  2.091223  0.110638  1.685857\n",
        "1    3  2.456825  0.694935  1.753074\n",
        "2    2  2.136832  0.166641  1.748650\n",
        "3    2  1.976060  0.143547  1.809015\n",
        "4    2  2.132650  0.070635  1.457106\n",
        "Evaluating (df['top']==2) ...\n",
        "dbg:D after\n",
        "   top        Q2    mmppip         W\n",
        "0    2  2.091223  0.110638  1.685857\n",
        "2    2  2.136832  0.166641  1.748650\n",
        "3    2  1.976060  0.143547  1.809015\n",
        "4    2  2.132650  0.070635  1.457106\n",
        "5    2  2.047007  0.125248  1.458288\n",
        "-----\n",
        "Q2 binning \n",
        "-----\n",
        "NQ2BINS=1,Q2BINW=0.6000 GeV^2\n",
        "['1.9000', '2.5000']\n",
        "-----\n",
        "W binning \n",
        "-----\n",
        "NWBINS=1,WBINW=0.6000 GeV\n",
        "['1.3000', '1.9000']\n",
        "-----\n",
        "OUTDIR=/home/trivedia/CLAS/workspace/ana2pi/sub_studies/study_vars/q2w2/sim_nmcor_gpp-24 \n",
        "-----\n",
        "HOFT= [Hist2D('mmppip_OFT')]\n",
        "HRES= [Hist2D('mmppip_RES')]\n",
        "-----\n",
        "Importing d2pi.root -> DataFrame\n",
        "-----"
       ]
      },
      {
       "output_type": "stream",
       "stream": "stdout",
       "text": [
        "\n",
        "Going to use d2pi(sim_nmcor_gpp-25)\n",
        "File = /data/trivedia/e1f/study_vars/q2w2/sim_nmcor_gpp-25/recon/d2pi.root\n",
        "Variables to import directly into DataFrame= ['top', 'Q2', 'mmppip', 'W']\n",
        "Variables to be added later to the DataFrame []\n",
        "-----\n",
        "Topology selection: tops to be used = "
       ]
      },
      {
       "output_type": "stream",
       "stream": "stderr",
       "text": [
        "WARNING:ROOT.TROOT.Append] Replacing existing TH1: mmppip_OFT (Potential memory leak).\n"
       ]
      },
      {
       "output_type": "stream",
       "stream": "stderr",
       "text": [
        "WARNING:ROOT.TROOT.Append] Replacing existing TH1: mmppip_RES (Potential memory leak).\n"
       ]
      },
      {
       "output_type": "stream",
       "stream": "stderr",
       "text": [
        "WARNING:ROOT.TROOT.Append] Replacing existing TH1: mmppip_01_01 (Potential memory leak).\n"
       ]
      },
      {
       "output_type": "stream",
       "stream": "stdout",
       "text": [
        " [2] \n",
        "-----\n",
        "dbg:D before\n",
        "   top        Q2    mmppip         W\n",
        "0    2  1.938340  0.131013  1.516968\n",
        "1    1  2.294309 -0.113199  1.866043\n",
        "2    3  2.061723  0.599098  1.786984\n",
        "3    2  1.974990  0.110204  1.488230\n",
        "4    2  2.466061  0.177210  1.774158\n",
        "Evaluating (df['top']==2) ...\n",
        "dbg:D after\n",
        "   top        Q2    mmppip         W\n",
        "0    2  1.938340  0.131013  1.516968\n",
        "3    2  1.974990  0.110204  1.488230\n",
        "4    2  2.466061  0.177210  1.774158\n",
        "5    2  2.103378  0.137457  1.604894\n",
        "7    2  2.314082  0.054001  1.620723\n",
        "-----\n",
        "Q2 binning \n",
        "-----\n",
        "NQ2BINS=1,Q2BINW=0.6000 GeV^2\n",
        "['1.9000', '2.5000']\n",
        "-----\n",
        "W binning \n",
        "-----\n",
        "NWBINS=1,WBINW=0.6000 GeV\n",
        "['1.3000', '1.9000']\n",
        "-----\n",
        "OUTDIR=/home/trivedia/CLAS/workspace/ana2pi/sub_studies/study_vars/q2w2/sim_nmcor_gpp-25 \n",
        "-----\n",
        "HOFT= [Hist2D('mmppip_OFT')]\n",
        "HRES= [Hist2D('mmppip_RES')]\n",
        "-----\n",
        "Importing d2pi.root -> DataFrame\n",
        "-----"
       ]
      },
      {
       "output_type": "stream",
       "stream": "stdout",
       "text": [
        "\n",
        "Going to use d2pi(sim_nmcor_gpp-26)\n",
        "File = /data/trivedia/e1f/study_vars/q2w2/sim_nmcor_gpp-26/recon/d2pi.root\n",
        "Variables to import directly into DataFrame= ['top', 'Q2', 'mmppip', 'W']\n",
        "Variables to be added later to the DataFrame []\n",
        "-----\n",
        "Topology selection: tops to be used = "
       ]
      },
      {
       "output_type": "stream",
       "stream": "stderr",
       "text": [
        "WARNING:ROOT.TROOT.Append] Replacing existing TH1: mmppip_OFT (Potential memory leak).\n"
       ]
      },
      {
       "output_type": "stream",
       "stream": "stderr",
       "text": [
        "WARNING:ROOT.TROOT.Append] Replacing existing TH1: mmppip_RES (Potential memory leak).\n"
       ]
      },
      {
       "output_type": "stream",
       "stream": "stderr",
       "text": [
        "WARNING:ROOT.TROOT.Append] Replacing existing TH1: mmppip_01_01 (Potential memory leak).\n"
       ]
      },
      {
       "output_type": "stream",
       "stream": "stdout",
       "text": [
        " [2] \n",
        "-----\n",
        "dbg:D before\n",
        "   top        Q2    mmppip         W\n",
        "0    2  2.480082  0.293589  1.759478\n",
        "1    2  2.088297  0.134825  1.874931\n",
        "2    2  2.283990  0.198382  1.803349\n",
        "3    3  2.393832  0.609160  1.938396\n",
        "4    2  1.918147  0.165821  1.615479\n",
        "Evaluating (df['top']==2) ...\n",
        "dbg:D after\n",
        "   top        Q2    mmppip         W\n",
        "0    2  2.480082  0.293589  1.759478\n",
        "1    2  2.088297  0.134825  1.874931\n",
        "2    2  2.283990  0.198382  1.803349\n",
        "4    2  1.918147  0.165821  1.615479\n",
        "6    2  1.909014  0.297045  1.834352\n",
        "-----\n",
        "Q2 binning \n",
        "-----\n",
        "NQ2BINS=1,Q2BINW=0.6000 GeV^2\n",
        "['1.9000', '2.5000']\n",
        "-----\n",
        "W binning \n",
        "-----\n",
        "NWBINS=1,WBINW=0.6000 GeV\n",
        "['1.3000', '1.9000']\n",
        "-----\n",
        "OUTDIR=/home/trivedia/CLAS/workspace/ana2pi/sub_studies/study_vars/q2w2/sim_nmcor_gpp-26 \n",
        "-----\n",
        "HOFT= [Hist2D('mmppip_OFT')]\n",
        "HRES= [Hist2D('mmppip_RES')]\n",
        "-----\n",
        "Importing d2pi.root -> DataFrame\n",
        "-----"
       ]
      },
      {
       "output_type": "stream",
       "stream": "stdout",
       "text": [
        "\n",
        "Going to use d2pi(sim_nmcor_gpp-27)\n",
        "File = /data/trivedia/e1f/study_vars/q2w2/sim_nmcor_gpp-27/recon/d2pi.root\n",
        "Variables to import directly into DataFrame= ['top', 'Q2', 'mmppip', 'W']\n",
        "Variables to be added later to the DataFrame []\n",
        "-----\n",
        "Topology selection: tops to be used = "
       ]
      },
      {
       "output_type": "stream",
       "stream": "stderr",
       "text": [
        "WARNING:ROOT.TROOT.Append] Replacing existing TH1: mmppip_OFT (Potential memory leak).\n"
       ]
      },
      {
       "output_type": "stream",
       "stream": "stderr",
       "text": [
        "WARNING:ROOT.TROOT.Append] Replacing existing TH1: mmppip_RES (Potential memory leak).\n"
       ]
      },
      {
       "output_type": "stream",
       "stream": "stderr",
       "text": [
        "WARNING:ROOT.TROOT.Append] Replacing existing TH1: mmppip_01_01 (Potential memory leak).\n"
       ]
      },
      {
       "output_type": "stream",
       "stream": "stdout",
       "text": [
        " [2] \n",
        "-----\n",
        "dbg:D before\n",
        "   top        Q2    mmppip         W\n",
        "0    4  2.389295  1.467582  1.755737\n",
        "1    2  2.185469  0.253316  1.806277\n",
        "2    2  1.911848  0.144562  1.759479\n",
        "3    2  2.198412  0.263881  1.523282\n",
        "4    2  2.274021  0.264802  1.785674\n",
        "Evaluating (df['top']==2) ...\n",
        "dbg:D after\n",
        "   top        Q2    mmppip         W\n",
        "1    2  2.185469  0.253316  1.806277\n",
        "2    2  1.911848  0.144562  1.759479\n",
        "3    2  2.198412  0.263881  1.523282\n",
        "4    2  2.274021  0.264802  1.785674\n",
        "5    2  2.093236  0.325845  1.921408\n",
        "-----\n",
        "Q2 binning \n",
        "-----\n",
        "NQ2BINS=1,Q2BINW=0.6000 GeV^2\n",
        "['1.9000', '2.5000']\n",
        "-----\n",
        "W binning \n",
        "-----\n",
        "NWBINS=1,WBINW=0.6000 GeV\n",
        "['1.3000', '1.9000']\n",
        "-----\n",
        "OUTDIR=/home/trivedia/CLAS/workspace/ana2pi/sub_studies/study_vars/q2w2/sim_nmcor_gpp-27 \n",
        "-----\n",
        "HOFT= [Hist2D('mmppip_OFT')]\n",
        "HRES= [Hist2D('mmppip_RES')]\n",
        "\n",
        "----OUTDIR"
       ]
      },
      {
       "output_type": "stream",
       "stream": "stdout",
       "text": [
        " q2w2/mmppip/gpp-study \n",
        "----\n"
       ]
      }
     ],
     "prompt_number": 2
    },
    {
     "cell_type": "code",
     "collapsed": false,
     "input": [
      "reload(t)\n",
      "Xmu,Xsg=t.plot_comp_var2(hX,OUTDIR,frange=(0.11,0.17))"
     ],
     "language": "python",
     "metadata": {},
     "outputs": [],
     "prompt_number": 3
    },
    {
     "cell_type": "code",
     "collapsed": false,
     "input": [
      "print Xmu"
     ],
     "language": "python",
     "metadata": {},
     "outputs": [
      {
       "output_type": "stream",
       "stream": "stdout",
       "text": [
        "OrderedDict([('exp_nmcor', [0.14535266461346488]), ('exp_ymcor', [0.1427224987288727]), ('sim_nmcor', [0.14732575339474618]), ('sim_nmcor_gpp-1', [0.14624100899074444]), ('sim_nmcor_gpp-2', [0.14637386758564655]), ('sim_nmcor_gpp-4', [0.14651585992882377]), ('sim_nmcor_gpp-5', [0.14677784925737877]), ('sim_nmcor_gpp-6', [0.14923128833315993]), ('sim_nmcor_gpp-7', [0.15144233550881434]), ('sim_nmcor_gpp-8', [0.15144066986504945]), ('sim_nmcor_gpp-9', [0.15497585128734323]), ('sim_nmcor_gpp-10', [0.14651682374186814]), ('sim_nmcor_gpp-11', [0.14680385792643483]), ('sim_nmcor_gpp-12', [0.14876919803257732]), ('sim_nmcor_gpp-13', [0.14717176931800643]), ('sim_nmcor_gpp-14', [0.14731839306995606])])\n"
       ]
      }
     ],
     "prompt_number": 11
    },
    {
     "cell_type": "raw",
     "metadata": {},
     "source": [
      "Show Xmu(R) and Xsg(R)"
     ]
    },
    {
     "cell_type": "code",
     "collapsed": false,
     "input": [
      "#reload(t)\n",
      "#t.plot_varpar_vs_q2w(Xmu,Xsg,XMU)"
     ],
     "language": "python",
     "metadata": {},
     "outputs": [
      {
       "ename": "IndexError",
       "evalue": "list index out of range",
       "output_type": "pyerr",
       "traceback": [
        "\u001b[1;31m---------------------------------------------------------------------------\u001b[0m\n\u001b[1;31mIndexError\u001b[0m                                Traceback (most recent call last)",
        "\u001b[1;32m<ipython-input-11-96e16b5df0fe>\u001b[0m in \u001b[0;36m<module>\u001b[1;34m()\u001b[0m\n\u001b[0;32m      1\u001b[0m \u001b[0mreload\u001b[0m\u001b[1;33m(\u001b[0m\u001b[0mt\u001b[0m\u001b[1;33m)\u001b[0m\u001b[1;33m\u001b[0m\u001b[0m\n\u001b[1;32m----> 2\u001b[1;33m \u001b[0mt\u001b[0m\u001b[1;33m.\u001b[0m\u001b[0mplot_varpar_vs_q2w\u001b[0m\u001b[1;33m(\u001b[0m\u001b[0mXmu\u001b[0m\u001b[1;33m,\u001b[0m\u001b[0mXsg\u001b[0m\u001b[1;33m,\u001b[0m\u001b[0mXMU\u001b[0m\u001b[1;33m)\u001b[0m\u001b[1;33m\u001b[0m\u001b[0m\n\u001b[0m",
        "\u001b[1;32m/home/trivedia/CLAS/workspace/ana2pi/sub_studies/study_vars/study_vars_tools.pyc\u001b[0m in \u001b[0;36mplot_varpar_vs_q2w\u001b[1;34m(Xmu, Xsg, XMU)\u001b[0m\n\u001b[0;32m    312\u001b[0m                 \u001b[0mclr\u001b[0m\u001b[1;33m=\u001b[0m\u001b[0mnp\u001b[0m\u001b[1;33m.\u001b[0m\u001b[0mrandom\u001b[0m\u001b[1;33m.\u001b[0m\u001b[0mrand\u001b[0m\u001b[1;33m(\u001b[0m\u001b[1;36m3\u001b[0m\u001b[1;33m,\u001b[0m\u001b[1;36m1\u001b[0m\u001b[1;33m)\u001b[0m\u001b[1;33m\u001b[0m\u001b[0m\n\u001b[0;32m    313\u001b[0m                 \u001b[0max\u001b[0m\u001b[1;33m=\u001b[0m\u001b[0mplt\u001b[0m\u001b[1;33m.\u001b[0m\u001b[0msubplot\u001b[0m\u001b[1;33m(\u001b[0m\u001b[1;36m131\u001b[0m\u001b[1;33m)\u001b[0m\u001b[1;33m\u001b[0m\u001b[0m\n\u001b[1;32m--> 314\u001b[1;33m                 \u001b[0max\u001b[0m\u001b[1;33m.\u001b[0m\u001b[0mscatter\u001b[0m\u001b[1;33m(\u001b[0m\u001b[0mnp\u001b[0m\u001b[1;33m.\u001b[0m\u001b[0marange\u001b[0m\u001b[1;33m(\u001b[0m\u001b[0mlen\u001b[0m\u001b[1;33m(\u001b[0m\u001b[0mXmu\u001b[0m\u001b[1;33m[\u001b[0m\u001b[0mr\u001b[0m\u001b[1;33m]\u001b[0m\u001b[1;33m)\u001b[0m\u001b[1;33m)\u001b[0m\u001b[1;33m,\u001b[0m\u001b[0mXmu\u001b[0m\u001b[1;33m[\u001b[0m\u001b[0mr\u001b[0m\u001b[1;33m]\u001b[0m\u001b[1;33m,\u001b[0m\u001b[0mlabel\u001b[0m\u001b[1;33m=\u001b[0m\u001b[0mr\u001b[0m\u001b[1;33m,\u001b[0m\u001b[0mcolor\u001b[0m\u001b[1;33m=\u001b[0m\u001b[0mclrs\u001b[0m\u001b[1;33m[\u001b[0m\u001b[0mir\u001b[0m\u001b[1;33m]\u001b[0m\u001b[1;33m,\u001b[0m\u001b[0ms\u001b[0m\u001b[1;33m=\u001b[0m\u001b[1;36m50\u001b[0m\u001b[1;33m)\u001b[0m\u001b[1;31m#color=clrs[id])\u001b[0m\u001b[1;33m\u001b[0m\u001b[0m\n\u001b[0m\u001b[0;32m    315\u001b[0m                 \u001b[0max\u001b[0m\u001b[1;33m.\u001b[0m\u001b[0mset_ylim\u001b[0m\u001b[1;33m(\u001b[0m\u001b[0mXMU\u001b[0m\u001b[1;33m-\u001b[0m\u001b[1;36m.05\u001b[0m\u001b[1;33m,\u001b[0m\u001b[0mXMU\u001b[0m\u001b[1;33m+\u001b[0m\u001b[1;36m0.05\u001b[0m\u001b[1;33m)\u001b[0m\u001b[1;33m\u001b[0m\u001b[0m\n\u001b[0;32m    316\u001b[0m                 \u001b[0max\u001b[0m\u001b[1;33m.\u001b[0m\u001b[0mset_xlabel\u001b[0m\u001b[1;33m(\u001b[0m\u001b[1;34m\"W-bin\"\u001b[0m\u001b[1;33m)\u001b[0m\u001b[1;33m\u001b[0m\u001b[0m\n",
        "\u001b[1;31mIndexError\u001b[0m: list index out of range"
       ]
      },
      {
       "metadata": {},
       "output_type": "display_data",
       "png": "[encoded data removed]",
       "text": [
        "<matplotlib.figure.Figure at 0x7cdb8d0>"
       ]
      }
     ],
     "prompt_number": 11
    },
    {
     "cell_type": "markdown",
     "metadata": {},
     "source": [
      "In the case that the MM-cut in Simulation is not adapted to be similar to that in Experiment, the relative error in the cut-efficiency corrected Experimental yield is calculated as:\n",
      "\n",
      "$$\\frac{\\delta n}{n} = 1 - \\frac{\\epsilon^{exp}}{\\epsilon^{sim}}$$\n",
      "\n",
      "where\n",
      "\n",
      "+ $$n$$ cut-efficiency corrected Experimental yield\n",
      "+ $$\\epsilon^{exp}, \\epsilon^{sim}$$ efficiency of the MM-cut in exp and sim respectively"
     ]
    },
    {
     "cell_type": "code",
     "collapsed": false,
     "input": [
      "#reload(t)\n",
      "#t.plot_ana_varcut(Xmu,Xsg,XCUT)"
     ],
     "language": "python",
     "metadata": {},
     "outputs": [
      {
       "metadata": {},
       "output_type": "display_data",
       "png": "[encoded data removed]",
       "text": [
        "<matplotlib.figure.Figure at 0x6ebc2d0>"
       ]
      }
     ],
     "prompt_number": 7
    },
    {
     "cell_type": "code",
     "collapsed": false,
     "input": [
      "reload(t)\n",
      "t.plot_varpar_vs_R(Xmu,Xsg,XMU)"
     ],
     "language": "python",
     "metadata": {},
     "outputs": [
      {
       "metadata": {},
       "output_type": "display_data",
       "png": "[encoded data removed]",
       "text": [
        "<matplotlib.figure.Figure at 0x81051d0>"
       ]
      },
      {
       "metadata": {},
       "output_type": "display_data",
       "png": "[encoded data removed]",
       "text": [
        "<matplotlib.figure.Figure at 0x88d5fd0>"
       ]
      }
     ],
     "prompt_number": 8
    },
    {
     "cell_type": "code",
     "collapsed": false,
     "input": [],
     "language": "python",
     "metadata": {},
     "outputs": []
    }
   ],
   "metadata": {}
  }
 ]
}