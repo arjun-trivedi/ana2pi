{
 "metadata": {
  "name": ""
 },
 "nbformat": 3,
 "nbformat_minor": 0,
 "worksheets": [
  {
   "cells": [
    {
     "cell_type": "code",
     "collapsed": false,
     "input": [
      "import study_vars_tools as t\n",
      "import shutil\n",
      "from collections import OrderedDict\n",
      "\n",
      "Q2WDIR='q2w2'\n",
      "R=['exp_nmcor','exp_ymcor','sim_nmcor_gpp-1','sim_nmcor_gpp-2','sim_nmcor_gpp-3','sim_nmcor_gpp-4','sim_nmcor_gpp-5',\n",
      "   'sim_nmcor_gpp-6','sim_nmcor_gpp-7','sim_nmcor_gpp-8','sim_nmcor_gpp-9','sim_nmcor_gpp-10','sim_nmcor_gpp-11',\n",
      "   'sim_nmcor_gpp-12','sim_nmcor_gpp-13','sim_nmcor_gpp-14','sim_nmcor_gpp-15','sim_nmcor_gpp-16','sim_nmcor_gpp-17',\n",
      "   'sim_nmcor_gpp-18','sim_nmcor_gpp-19','sim_nmcor_gpp-20','sim_nmcor_gpp-21','sim_nmcor_gpp-22','sim_nmcor_gpp-23',\n",
      "   'sim_nmcor_gpp-24','sim_nmcor_gpp-25','sim_nmcor_gpp-26','sim_nmcor_gpp-27']\n",
      "VAR=['mmppim']\n",
      "TOP=[3]\n",
      "hX=OrderedDict()\n",
      "XMU=0.139\n",
      "XCUT=0.2\n",
      "\n",
      "#-- get X(d,Q2,W)\n",
      "for r in R:\n",
      "    t.init(Q2WDIR,0.6,0.6,TOP,VAR,[(200,0.0,0.5)],[(-0.03,0.03)],r)\n",
      "    hX[r]=t.plot_var()\n",
      "\n",
      "#-- create OUTDIR\n",
      "VARdir=\"-\".join(VAR)\n",
      "Rdir = \"-\".join(R)\n",
      "OUTDIR = os.path.join(Q2WDIR,VARdir,\"gpp-study\")\n",
      "print \"\\n----OUTDIR\",OUTDIR,\"\\n----\"\n",
      "if os.path.exists(OUTDIR):\n",
      "    shutil.rmtree(OUTDIR)\n",
      "os.makedirs(OUTDIR)"
     ],
     "language": "python",
     "metadata": {},
     "outputs": [
      {
       "output_type": "stream",
       "stream": "stdout",
       "text": [
        "-----\n",
        "Importing d2pi.root -> DataFrame\n",
        "-----\n",
        "Going to use d2pi(exp_nmcor)\n",
        "File = /data/trivedia/e1f/study_vars/q2w2/exp_nmcor/recon/d2pi.root\n",
        "Variables to import directly into DataFrame= ['top', 'Q2', 'mmppim', 'W']\n",
        "Variables to be added later to the DataFrame []\n",
        "-----\n",
        "Topology selection: tops to be used = "
       ]
      },
      {
       "output_type": "stream",
       "stream": "stderr",
       "text": [
        "/usr/lib/python2.7/dist-packages/scipy/stats/distributions.py:30: RuntimeWarning: numpy.dtype size changed, may indicate binary incompatibility\n",
        "  import vonmises_cython\n",
        "/usr/lib/python2.7/dist-packages/scipy/stats/distributions.py:30: RuntimeWarning: numpy.ufunc size changed, may indicate binary incompatibility\n",
        "  import vonmises_cython\n",
        "/usr/local/lib/python2.7/dist-packages/pandas/core/config.py:570: DeprecationWarning: height has been deprecated.\n",
        "\n",
        "  warnings.warn(d.msg, DeprecationWarning)\n"
       ]
      },
      {
       "output_type": "stream",
       "stream": "stdout",
       "text": [
        " [3] \n",
        "-----\n",
        "dbg:D before\n",
        "   top        Q2    mmppim         W\n",
        "0    2  2.060979  0.617783  1.634772\n",
        "1    4  2.022806  1.240676  1.533539\n",
        "2    4  1.937134  1.384749  1.768826\n",
        "3    1  2.041539  0.170137  1.850626\n",
        "4    1  1.906316  0.182838  1.485198\n",
        "Evaluating (df['top']==3) ...\n",
        "dbg:D after\n",
        "    top        Q2    mmppim         W\n",
        "7     3  1.974587  0.129434  1.395778\n",
        "14    3  2.254417  0.054609  1.642965\n",
        "23    3  2.165541  0.132350  1.654925\n",
        "31    3  2.471119  0.287812  1.858904\n",
        "34    3  2.296316  0.136401  1.442069\n",
        "-----\n",
        "Q2 binning \n",
        "-----\n",
        "NQ2BINS=1,Q2BINW=0.6000 GeV^2\n",
        "['1.9000', '2.5000']\n",
        "-----\n",
        "W binning \n",
        "-----\n",
        "NWBINS=1,WBINW=0.6000 GeV\n",
        "['1.3000', '1.9000']\n",
        "-----\n",
        "OUTDIR=/home/trivedia/CLAS/workspace/ana2pi/sub_studies/study_vars/q2w2/exp_nmcor \n",
        "-----\n",
        "HOFT="
       ]
      },
      {
       "output_type": "stream",
       "stream": "stdout",
       "text": [
        " [Hist2D('mmppim_OFT')]\n",
        "HRES= [Hist2D('mmppim_RES')]\n",
        "-----\n",
        "Importing d2pi.root -> DataFrame\n",
        "-----"
       ]
      },
      {
       "output_type": "stream",
       "stream": "stdout",
       "text": [
        "\n",
        "Going to use d2pi(exp_ymcor)\n",
        "File = /data/trivedia/e1f/study_vars/q2w2/exp_ymcor/recon/d2pi.root\n",
        "Variables to import directly into DataFrame= ['top', 'Q2', 'mmppim', 'W']\n",
        "Variables to be added later to the DataFrame []\n",
        "-----\n",
        "Topology selection: tops to be used = "
       ]
      },
      {
       "output_type": "stream",
       "stream": "stderr",
       "text": [
        "/usr/local/lib/python2.7/dist-packages/root_numpy/_root_numpy.py:493: DeprecationWarning: fill_array is deprecated and will be removed. Please use fill_hist instead\n",
        "  \"Please use fill_hist instead\", DeprecationWarning)\n",
        "INFO:rootpy.logger] | No default log handler configured. See `logging` module |\n"
       ]
      },
      {
       "output_type": "stream",
       "stream": "stderr",
       "text": [
        "INFO:rootpy.logger] \\    To suppress: 'rootpy.log.basic_config_colorized()'   /\n"
       ]
      },
      {
       "output_type": "stream",
       "stream": "stderr",
       "text": [
        "WARNING:ROOT.TROOT.Append] Replacing existing TH1: mmppim_OFT (Potential memory leak).\n"
       ]
      },
      {
       "output_type": "stream",
       "stream": "stderr",
       "text": [
        "WARNING:ROOT.TROOT.Append] Replacing existing TH1: mmppim_RES (Potential memory leak).\n"
       ]
      },
      {
       "output_type": "stream",
       "stream": "stderr",
       "text": [
        "WARNING:ROOT.TROOT.Append] Replacing existing TH1: mmppim_01_01 (Potential memory leak).\n"
       ]
      },
      {
       "output_type": "stream",
       "stream": "stdout",
       "text": [
        " [3] \n",
        "-----\n",
        "dbg:D before\n",
        "   top        Q2    mmppim         W\n",
        "0    2  2.070127  0.594199  1.617025\n",
        "1    4  2.012479  1.254598  1.548177\n",
        "2    4  1.927142  1.395681  1.782109\n",
        "3    1  2.052747  0.105721  1.838957\n",
        "4    1  1.907208  0.180594  1.484136\n",
        "Evaluating (df['top']==3) ...\n",
        "dbg:D after\n",
        "    top        Q2    mmppim         W\n",
        "7     3  1.976042  0.126442  1.392987\n",
        "14    3  2.234432  0.104592  1.666878\n",
        "24    3  2.175312  0.092513  1.643120\n",
        "32    3  2.468731  0.288844  1.860637\n",
        "35    3  2.302372  0.127860  1.430618\n",
        "-----\n",
        "Q2 binning \n",
        "-----\n",
        "NQ2BINS=1,Q2BINW=0.6000 GeV^2\n",
        "['1.9000', '2.5000']\n",
        "-----\n",
        "W binning \n",
        "-----\n",
        "NWBINS=1,WBINW=0.6000 GeV\n",
        "['1.3000', '1.9000']\n",
        "-----\n",
        "OUTDIR=/home/trivedia/CLAS/workspace/ana2pi/sub_studies/study_vars/q2w2/exp_ymcor \n",
        "-----\n",
        "HOFT= [Hist2D('mmppim_OFT')]\n",
        "HRES= [Hist2D('mmppim_RES')]\n",
        "-----\n",
        "Importing d2pi.root -> DataFrame\n",
        "-----"
       ]
      },
      {
       "output_type": "stream",
       "stream": "stdout",
       "text": [
        "\n",
        "Going to use d2pi(sim_nmcor_gpp-1)\n",
        "File = /data/trivedia/e1f/study_vars/q2w2/sim_nmcor_gpp-1/recon/d2pi.root\n",
        "Variables to import directly into DataFrame= ['top', 'Q2', 'mmppim', 'W']\n",
        "Variables to be added later to the DataFrame []\n",
        "-----\n",
        "Topology selection: tops to be used = "
       ]
      },
      {
       "output_type": "stream",
       "stream": "stderr",
       "text": [
        "WARNING:ROOT.TROOT.Append] Replacing existing TH1: mmppim_OFT (Potential memory leak).\n"
       ]
      },
      {
       "output_type": "stream",
       "stream": "stderr",
       "text": [
        "WARNING:ROOT.TROOT.Append] Replacing existing TH1: mmppim_RES (Potential memory leak).\n"
       ]
      },
      {
       "output_type": "stream",
       "stream": "stderr",
       "text": [
        "WARNING:ROOT.TROOT.Append] Replacing existing TH1: mmppim_01_01 (Potential memory leak).\n"
       ]
      },
      {
       "output_type": "stream",
       "stream": "stdout",
       "text": [
        " [3] \n",
        "-----\n",
        "dbg:D before\n",
        "   top        Q2    mmppim         W\n",
        "0    2  2.489977  0.409076  1.428861\n",
        "1    2  2.327589  0.493826  1.701091\n",
        "2    2  1.914483  0.716641  1.850366\n",
        "3    2  1.939015  0.692111  1.830622\n",
        "4    2  1.643214  1.434126  2.751067\n",
        "Evaluating (df['top']==3) ...\n",
        "dbg:D after\n",
        "    top        Q2    mmppim         W\n",
        "8     3  1.904137  0.136779  1.700398\n",
        "9     3  2.259955  0.119685  1.755692\n",
        "10    3  2.117729  0.218791  1.506165\n",
        "13    3  2.291813  0.143277  1.545476\n",
        "26    3  2.030365  0.121093  1.829673\n",
        "-----\n",
        "Q2 binning \n",
        "-----\n",
        "NQ2BINS=1,Q2BINW=0.6000 GeV^2\n",
        "['1.9000', '2.5000']\n",
        "-----\n",
        "W binning \n",
        "-----\n",
        "NWBINS=1,WBINW=0.6000 GeV\n",
        "['1.3000', '1.9000']\n",
        "-----\n",
        "OUTDIR=/home/trivedia/CLAS/workspace/ana2pi/sub_studies/study_vars/q2w2/sim_nmcor_gpp-1 \n",
        "-----\n",
        "HOFT= [Hist2D('mmppim_OFT')]\n",
        "HRES= [Hist2D('mmppim_RES')]\n",
        "-----\n",
        "Importing d2pi.root -> DataFrame\n",
        "-----"
       ]
      },
      {
       "output_type": "stream",
       "stream": "stdout",
       "text": [
        "\n",
        "Going to use d2pi(sim_nmcor_gpp-2)\n",
        "File = /data/trivedia/e1f/study_vars/q2w2/sim_nmcor_gpp-2/recon/d2pi.root\n",
        "Variables to import directly into DataFrame= ['top', 'Q2', 'mmppim', 'W']\n",
        "Variables to be added later to the DataFrame []\n",
        "-----\n",
        "Topology selection: tops to be used = "
       ]
      },
      {
       "output_type": "stream",
       "stream": "stderr",
       "text": [
        "WARNING:ROOT.TROOT.Append] Replacing existing TH1: mmppim_OFT (Potential memory leak).\n"
       ]
      },
      {
       "output_type": "stream",
       "stream": "stderr",
       "text": [
        "WARNING:ROOT.TROOT.Append] Replacing existing TH1: mmppim_RES (Potential memory leak).\n"
       ]
      },
      {
       "output_type": "stream",
       "stream": "stderr",
       "text": [
        "WARNING:ROOT.TROOT.Append] Replacing existing TH1: mmppim_01_01 (Potential memory leak).\n"
       ]
      },
      {
       "output_type": "stream",
       "stream": "stdout",
       "text": [
        " [3] \n",
        "-----\n",
        "dbg:D before\n",
        "   top        Q2    mmppim         W\n",
        "0    1  2.365566  0.147345  1.717360\n",
        "1    4  2.024309  1.318347  1.677761\n",
        "2    2  1.952126  0.684458  1.713680\n",
        "3    2  2.202511  0.439988  1.822416\n",
        "4    1  2.025296  0.112369  1.726409\n",
        "Evaluating (df['top']==3) ...\n",
        "dbg:D after\n",
        "    top        Q2    mmppim         W\n",
        "10    3  2.254385  0.161172  1.891477\n",
        "22    3  1.906385  0.160237  1.767428\n",
        "35    3  2.284219  0.156703  1.815856\n",
        "37    3  1.982158  0.117187  1.625544\n",
        "55    3  2.178144  0.173726  1.543546\n",
        "-----\n",
        "Q2 binning \n",
        "-----\n",
        "NQ2BINS=1,Q2BINW=0.6000 GeV^2\n",
        "['1.9000', '2.5000']\n",
        "-----\n",
        "W binning \n",
        "-----\n",
        "NWBINS=1,WBINW=0.6000 GeV\n",
        "['1.3000', '1.9000']\n",
        "-----\n",
        "OUTDIR=/home/trivedia/CLAS/workspace/ana2pi/sub_studies/study_vars/q2w2/sim_nmcor_gpp-2 \n",
        "-----\n",
        "HOFT= [Hist2D('mmppim_OFT')]\n",
        "HRES= [Hist2D('mmppim_RES')]\n",
        "-----\n",
        "Importing d2pi.root -> DataFrame\n",
        "-----"
       ]
      },
      {
       "output_type": "stream",
       "stream": "stdout",
       "text": [
        "\n",
        "Going to use d2pi(sim_nmcor_gpp-3)\n",
        "File = /data/trivedia/e1f/study_vars/q2w2/sim_nmcor_gpp-3/recon/d2pi.root\n",
        "Variables to import directly into DataFrame= ['top', 'Q2', 'mmppim', 'W']\n",
        "Variables to be added later to the DataFrame []\n",
        "-----\n",
        "Topology selection: tops to be used = "
       ]
      },
      {
       "output_type": "stream",
       "stream": "stderr",
       "text": [
        "WARNING:ROOT.TROOT.Append] Replacing existing TH1: mmppim_OFT (Potential memory leak).\n"
       ]
      },
      {
       "output_type": "stream",
       "stream": "stderr",
       "text": [
        "WARNING:ROOT.TROOT.Append] Replacing existing TH1: mmppim_RES (Potential memory leak).\n"
       ]
      },
      {
       "output_type": "stream",
       "stream": "stderr",
       "text": [
        "WARNING:ROOT.TROOT.Append] Replacing existing TH1: mmppim_01_01 (Potential memory leak).\n"
       ]
      },
      {
       "output_type": "stream",
       "stream": "stdout",
       "text": [
        " [3] \n",
        "-----\n",
        "dbg:D before\n",
        "   top        Q2    mmppim         W\n",
        "0    1  2.274144  0.212902  1.956233\n",
        "1    2  2.034185  0.631212  1.717163\n",
        "2    4  2.164166  1.559238  1.822512\n",
        "3    2  2.070371  0.508238  1.632776\n",
        "4    3  1.931229  0.154135  1.691052\n",
        "Evaluating (df['top']==3) ...\n",
        "dbg:D after\n",
        "    top        Q2    mmppim         W\n",
        "4     3  1.931229  0.154135  1.691052\n",
        "17    3  2.296365  0.138017  1.787361\n",
        "25    3  2.226732  0.204741  1.834055\n",
        "39    3  2.261805  0.162211  1.675390\n",
        "43    3  2.182428  0.159800  1.869296\n",
        "-----\n",
        "Q2 binning \n",
        "-----\n",
        "NQ2BINS=1,Q2BINW=0.6000 GeV^2\n",
        "['1.9000', '2.5000']\n",
        "-----\n",
        "W binning \n",
        "-----\n",
        "NWBINS=1,WBINW=0.6000 GeV\n",
        "['1.3000', '1.9000']\n",
        "-----\n",
        "OUTDIR=/home/trivedia/CLAS/workspace/ana2pi/sub_studies/study_vars/q2w2/sim_nmcor_gpp-3 \n",
        "-----\n",
        "HOFT= [Hist2D('mmppim_OFT')]\n",
        "HRES= [Hist2D('mmppim_RES')]\n",
        "-----\n",
        "Importing d2pi.root -> DataFrame\n",
        "-----"
       ]
      },
      {
       "output_type": "stream",
       "stream": "stdout",
       "text": [
        "\n",
        "Going to use d2pi(sim_nmcor_gpp-4)\n",
        "File = /data/trivedia/e1f/study_vars/q2w2/sim_nmcor_gpp-4/recon/d2pi.root\n",
        "Variables to import directly into DataFrame= ['top', 'Q2', 'mmppim', 'W']\n",
        "Variables to be added later to the DataFrame []\n",
        "-----\n",
        "Topology selection: tops to be used = "
       ]
      },
      {
       "output_type": "stream",
       "stream": "stderr",
       "text": [
        "WARNING:ROOT.TROOT.Append] Replacing existing TH1: mmppim_OFT (Potential memory leak).\n"
       ]
      },
      {
       "output_type": "stream",
       "stream": "stderr",
       "text": [
        "WARNING:ROOT.TROOT.Append] Replacing existing TH1: mmppim_RES (Potential memory leak).\n"
       ]
      },
      {
       "output_type": "stream",
       "stream": "stderr",
       "text": [
        "WARNING:ROOT.TROOT.Append] Replacing existing TH1: mmppim_01_01 (Potential memory leak).\n"
       ]
      },
      {
       "output_type": "stream",
       "stream": "stdout",
       "text": [
        " [3] \n",
        "-----\n",
        "dbg:D before\n",
        "   top        Q2    mmppim         W\n",
        "0    2  2.109792  0.752484  1.774363\n",
        "1    2  1.898550  0.329573  1.664946\n",
        "2    2  2.362259  0.579902  1.708320\n",
        "3    2  2.440616  0.398088  1.374504\n",
        "4    2  2.261045  0.626200  1.774227\n",
        "Evaluating (df['top']==3) ...\n",
        "dbg:D after\n",
        "    top        Q2    mmppim         W\n",
        "22    3  2.163924  0.109321  1.709922\n",
        "23    3  2.499846  0.176360  1.650994\n",
        "28    3  1.949570  0.103726  1.479438\n",
        "30    3  1.945233  0.174538  1.801437\n",
        "42    3  2.421870  0.108191  1.669175\n",
        "-----\n",
        "Q2 binning \n",
        "-----\n",
        "NQ2BINS=1,Q2BINW=0.6000 GeV^2\n",
        "['1.9000', '2.5000']\n",
        "-----\n",
        "W binning \n",
        "-----\n",
        "NWBINS=1,WBINW=0.6000 GeV\n",
        "['1.3000', '1.9000']\n",
        "-----\n",
        "OUTDIR=/home/trivedia/CLAS/workspace/ana2pi/sub_studies/study_vars/q2w2/sim_nmcor_gpp-4 \n",
        "-----\n",
        "HOFT= [Hist2D('mmppim_OFT')]\n",
        "HRES= [Hist2D('mmppim_RES')]\n",
        "-----\n",
        "Importing d2pi.root -> DataFrame\n",
        "-----"
       ]
      },
      {
       "output_type": "stream",
       "stream": "stdout",
       "text": [
        "\n",
        "Going to use d2pi(sim_nmcor_gpp-5)\n",
        "File = /data/trivedia/e1f/study_vars/q2w2/sim_nmcor_gpp-5/recon/d2pi.root\n",
        "Variables to import directly into DataFrame= ['top', 'Q2', 'mmppim', 'W']\n",
        "Variables to be added later to the DataFrame []\n",
        "-----\n",
        "Topology selection: tops to be used = "
       ]
      },
      {
       "output_type": "stream",
       "stream": "stderr",
       "text": [
        "WARNING:ROOT.TROOT.Append] Replacing existing TH1: mmppim_OFT (Potential memory leak).\n"
       ]
      },
      {
       "output_type": "stream",
       "stream": "stderr",
       "text": [
        "WARNING:ROOT.TROOT.Append] Replacing existing TH1: mmppim_RES (Potential memory leak).\n"
       ]
      },
      {
       "output_type": "stream",
       "stream": "stderr",
       "text": [
        "WARNING:ROOT.TROOT.Append] Replacing existing TH1: mmppim_01_01 (Potential memory leak).\n"
       ]
      },
      {
       "output_type": "stream",
       "stream": "stdout",
       "text": [
        " [3] \n",
        "-----\n",
        "dbg:D before\n",
        "   top        Q2    mmppim         W\n",
        "0    2  1.915010  0.880826  1.855435\n",
        "1    2  2.222751  0.268757  1.398250\n",
        "2    2  2.163898  0.508401  1.508065\n",
        "3    4  2.367165  1.326648  1.648374\n",
        "4    2  2.238995  0.681548  1.864980\n",
        "Evaluating (df['top']==3) ...\n",
        "dbg:D after\n",
        "    top        Q2    mmppim         W\n",
        "25    3  2.051526  0.143726  1.741100\n",
        "26    3  2.375840  0.202092  1.608956\n",
        "31    3  1.934462  0.191660  1.691391\n",
        "34    3  2.108450  0.149987  1.338163\n",
        "41    3  2.336950  0.293681  1.820429\n",
        "-----\n",
        "Q2 binning \n",
        "-----\n",
        "NQ2BINS=1,Q2BINW=0.6000 GeV^2\n",
        "['1.9000', '2.5000']\n",
        "-----\n",
        "W binning \n",
        "-----\n",
        "NWBINS=1,WBINW=0.6000 GeV\n",
        "['1.3000', '1.9000']\n",
        "-----\n",
        "OUTDIR=/home/trivedia/CLAS/workspace/ana2pi/sub_studies/study_vars/q2w2/sim_nmcor_gpp-5 \n",
        "-----\n",
        "HOFT= [Hist2D('mmppim_OFT')]\n",
        "HRES= [Hist2D('mmppim_RES')]\n",
        "-----\n",
        "Importing d2pi.root -> DataFrame\n",
        "-----"
       ]
      },
      {
       "output_type": "stream",
       "stream": "stdout",
       "text": [
        "\n",
        "Going to use d2pi(sim_nmcor_gpp-6)\n",
        "File = /data/trivedia/e1f/study_vars/q2w2/sim_nmcor_gpp-6/recon/d2pi.root\n",
        "Variables to import directly into DataFrame= ['top', 'Q2', 'mmppim', 'W']\n",
        "Variables to be added later to the DataFrame []\n",
        "-----\n",
        "Topology selection: tops to be used = "
       ]
      },
      {
       "output_type": "stream",
       "stream": "stderr",
       "text": [
        "WARNING:ROOT.TROOT.Append] Replacing existing TH1: mmppim_OFT (Potential memory leak).\n"
       ]
      },
      {
       "output_type": "stream",
       "stream": "stderr",
       "text": [
        "WARNING:ROOT.TROOT.Append] Replacing existing TH1: mmppim_RES (Potential memory leak).\n"
       ]
      },
      {
       "output_type": "stream",
       "stream": "stderr",
       "text": [
        "WARNING:ROOT.TROOT.Append] Replacing existing TH1: mmppim_01_01 (Potential memory leak).\n"
       ]
      },
      {
       "output_type": "stream",
       "stream": "stdout",
       "text": [
        " [3] \n",
        "-----\n",
        "dbg:D before\n",
        "   top        Q2    mmppim         W\n",
        "0    1  2.056597  0.179111  1.851401\n",
        "1    3  2.188988  0.257356  1.710064\n",
        "2    4  2.437568  1.226646  1.745973\n",
        "3    4  2.032708  1.445672  1.856210\n",
        "4    2  2.284116  0.700831  1.691661\n",
        "Evaluating (df['top']==3) ...\n",
        "dbg:D after\n",
        "    top        Q2    mmppim         W\n",
        "1     3  2.188988  0.257356  1.710064\n",
        "10    3  2.249702  0.160970  1.902822\n",
        "13    3  2.215326  0.207120  1.775683\n",
        "34    3  2.023327  0.218997  1.804179\n",
        "47    3  2.027710  0.192451  1.487675\n",
        "-----\n",
        "Q2 binning \n",
        "-----\n",
        "NQ2BINS=1,Q2BINW=0.6000 GeV^2\n",
        "['1.9000', '2.5000']\n",
        "-----\n",
        "W binning \n",
        "-----\n",
        "NWBINS=1,WBINW=0.6000 GeV\n",
        "['1.3000', '1.9000']\n",
        "-----\n",
        "OUTDIR=/home/trivedia/CLAS/workspace/ana2pi/sub_studies/study_vars/q2w2/sim_nmcor_gpp-6 \n",
        "-----\n",
        "HOFT= [Hist2D('mmppim_OFT')]\n",
        "HRES= [Hist2D('mmppim_RES')]\n",
        "-----\n",
        "Importing d2pi.root -> DataFrame\n",
        "-----"
       ]
      },
      {
       "output_type": "stream",
       "stream": "stdout",
       "text": [
        "\n",
        "Going to use d2pi(sim_nmcor_gpp-7)\n",
        "File = /data/trivedia/e1f/study_vars/q2w2/sim_nmcor_gpp-7/recon/d2pi.root\n",
        "Variables to import directly into DataFrame= ['top', 'Q2', 'mmppim', 'W']\n",
        "Variables to be added later to the DataFrame []\n",
        "-----\n",
        "Topology selection: tops to be used = "
       ]
      },
      {
       "output_type": "stream",
       "stream": "stderr",
       "text": [
        "WARNING:ROOT.TROOT.Append] Replacing existing TH1: mmppim_OFT (Potential memory leak).\n"
       ]
      },
      {
       "output_type": "stream",
       "stream": "stderr",
       "text": [
        "WARNING:ROOT.TROOT.Append] Replacing existing TH1: mmppim_RES (Potential memory leak).\n"
       ]
      },
      {
       "output_type": "stream",
       "stream": "stderr",
       "text": [
        "WARNING:ROOT.TROOT.Append] Replacing existing TH1: mmppim_01_01 (Potential memory leak).\n"
       ]
      },
      {
       "output_type": "stream",
       "stream": "stdout",
       "text": [
        " [3] \n",
        "-----\n",
        "dbg:D before\n",
        "   top        Q2    mmppim         W\n",
        "0    2  2.103438  1.027756  2.613237\n",
        "1    3  2.075456  0.146831  1.671690\n",
        "2    2  2.031242  0.509348  1.675725\n",
        "3    2  2.237019  0.414923  1.467517\n",
        "4    2  2.224438  0.433184  1.901834\n",
        "Evaluating (df['top']==3) ...\n",
        "dbg:D after\n",
        "    top        Q2    mmppim         W\n",
        "1     3  2.075456  0.146831  1.671690\n",
        "6     3  1.936305  0.367743  1.844363\n",
        "10    3  1.939704  0.148219  1.754092\n",
        "11    3  1.891669  0.240816  1.680671\n",
        "20    3  2.082970  0.246637  1.852037\n",
        "-----\n",
        "Q2 binning \n",
        "-----\n",
        "NQ2BINS=1,Q2BINW=0.6000 GeV^2\n",
        "['1.9000', '2.5000']\n",
        "-----\n",
        "W binning \n",
        "-----\n",
        "NWBINS=1,WBINW=0.6000 GeV\n",
        "['1.3000', '1.9000']\n",
        "-----\n",
        "OUTDIR=/home/trivedia/CLAS/workspace/ana2pi/sub_studies/study_vars/q2w2/sim_nmcor_gpp-7 \n",
        "-----\n",
        "HOFT= [Hist2D('mmppim_OFT')]\n",
        "HRES= [Hist2D('mmppim_RES')]\n",
        "-----\n",
        "Importing d2pi.root -> DataFrame\n",
        "-----"
       ]
      },
      {
       "output_type": "stream",
       "stream": "stdout",
       "text": [
        "\n",
        "Going to use d2pi(sim_nmcor_gpp-8)\n",
        "File = /data/trivedia/e1f/study_vars/q2w2/sim_nmcor_gpp-8/recon/d2pi.root\n",
        "Variables to import directly into DataFrame= ['top', 'Q2', 'mmppim', 'W']\n",
        "Variables to be added later to the DataFrame []\n",
        "-----\n",
        "Topology selection: tops to be used = "
       ]
      },
      {
       "output_type": "stream",
       "stream": "stderr",
       "text": [
        "WARNING:ROOT.TROOT.Append] Replacing existing TH1: mmppim_OFT (Potential memory leak).\n"
       ]
      },
      {
       "output_type": "stream",
       "stream": "stderr",
       "text": [
        "WARNING:ROOT.TROOT.Append] Replacing existing TH1: mmppim_RES (Potential memory leak).\n"
       ]
      },
      {
       "output_type": "stream",
       "stream": "stderr",
       "text": [
        "WARNING:ROOT.TROOT.Append] Replacing existing TH1: mmppim_01_01 (Potential memory leak).\n"
       ]
      },
      {
       "output_type": "stream",
       "stream": "stdout",
       "text": [
        " [3] \n",
        "-----\n",
        "dbg:D before\n",
        "   top        Q2    mmppim         W\n",
        "0    2  2.015828  0.376136  1.386101\n",
        "1    4  1.955386  1.242702  1.716527\n",
        "2    2  2.294343  0.474344  1.442032\n",
        "3    4  2.315349  1.539345  1.926516\n",
        "4    3  2.253140  0.118634  1.715747\n",
        "Evaluating (df['top']==3) ...\n",
        "dbg:D after\n",
        "    top        Q2    mmppim         W\n",
        "4     3  2.253140  0.118634  1.715747\n",
        "10    3  1.944628  0.177651  1.630292\n",
        "11    3  2.236635  0.176336  1.672397\n",
        "17    3  2.359594  0.214266  1.670265\n",
        "20    3  2.542131  0.133959  1.812367\n",
        "-----\n",
        "Q2 binning \n",
        "-----\n",
        "NQ2BINS=1,Q2BINW=0.6000 GeV^2\n",
        "['1.9000', '2.5000']\n",
        "-----\n",
        "W binning \n",
        "-----\n",
        "NWBINS=1,WBINW=0.6000 GeV\n",
        "['1.3000', '1.9000']\n",
        "-----\n",
        "OUTDIR=/home/trivedia/CLAS/workspace/ana2pi/sub_studies/study_vars/q2w2/sim_nmcor_gpp-8 \n",
        "-----\n",
        "HOFT= [Hist2D('mmppim_OFT')]\n",
        "HRES= [Hist2D('mmppim_RES')]\n",
        "-----\n",
        "Importing d2pi.root -> DataFrame\n",
        "-----"
       ]
      },
      {
       "output_type": "stream",
       "stream": "stdout",
       "text": [
        "\n",
        "Going to use d2pi(sim_nmcor_gpp-9)\n",
        "File = /data/trivedia/e1f/study_vars/q2w2/sim_nmcor_gpp-9/recon/d2pi.root\n",
        "Variables to import directly into DataFrame= ['top', 'Q2', 'mmppim', 'W']\n",
        "Variables to be added later to the DataFrame []\n",
        "-----\n",
        "Topology selection: tops to be used = "
       ]
      },
      {
       "output_type": "stream",
       "stream": "stderr",
       "text": [
        "WARNING:ROOT.TROOT.Append] Replacing existing TH1: mmppim_OFT (Potential memory leak).\n"
       ]
      },
      {
       "output_type": "stream",
       "stream": "stderr",
       "text": [
        "WARNING:ROOT.TROOT.Append] Replacing existing TH1: mmppim_RES (Potential memory leak).\n"
       ]
      },
      {
       "output_type": "stream",
       "stream": "stderr",
       "text": [
        "WARNING:ROOT.TROOT.Append] Replacing existing TH1: mmppim_01_01 (Potential memory leak).\n"
       ]
      },
      {
       "output_type": "stream",
       "stream": "stdout",
       "text": [
        " [3] \n",
        "-----\n",
        "dbg:D before\n",
        "   top        Q2    mmppim         W\n",
        "0    2  2.014490  0.625765  1.687240\n",
        "1    2  1.927754  0.895832  1.964545\n",
        "2    3  2.233994  0.143284  1.875641\n",
        "3    2  2.132872  0.725166  1.752092\n",
        "4    1  2.081036 -0.121335  1.737157\n",
        "Evaluating (df['top']==3) ...\n",
        "dbg:D after\n",
        "    top        Q2    mmppim         W\n",
        "2     3  2.233994  0.143284  1.875641\n",
        "5     3  2.186697  0.225757  1.902723\n",
        "6     3  2.216288  0.196787  1.703076\n",
        "19    3  2.205160  0.274025  1.560145\n",
        "20    3  1.999897  0.324210  1.807194\n",
        "-----\n",
        "Q2 binning \n",
        "-----\n",
        "NQ2BINS=1,Q2BINW=0.6000 GeV^2\n",
        "['1.9000', '2.5000']\n",
        "-----\n",
        "W binning \n",
        "-----\n",
        "NWBINS=1,WBINW=0.6000 GeV\n",
        "['1.3000', '1.9000']\n",
        "-----\n",
        "OUTDIR=/home/trivedia/CLAS/workspace/ana2pi/sub_studies/study_vars/q2w2/sim_nmcor_gpp-9 \n",
        "-----\n",
        "HOFT= [Hist2D('mmppim_OFT')]\n",
        "HRES= [Hist2D('mmppim_RES')]\n",
        "-----\n",
        "Importing d2pi.root -> DataFrame\n",
        "-----"
       ]
      },
      {
       "output_type": "stream",
       "stream": "stdout",
       "text": [
        "\n",
        "Going to use d2pi(sim_nmcor_gpp-10)\n",
        "File = /data/trivedia/e1f/study_vars/q2w2/sim_nmcor_gpp-10/recon/d2pi.root\n",
        "Variables to import directly into DataFrame= ['top', 'Q2', 'mmppim', 'W']\n",
        "Variables to be added later to the DataFrame []\n",
        "-----\n",
        "Topology selection: tops to be used = "
       ]
      },
      {
       "output_type": "stream",
       "stream": "stderr",
       "text": [
        "WARNING:ROOT.TROOT.Append] Replacing existing TH1: mmppim_OFT (Potential memory leak).\n"
       ]
      },
      {
       "output_type": "stream",
       "stream": "stderr",
       "text": [
        "WARNING:ROOT.TROOT.Append] Replacing existing TH1: mmppim_RES (Potential memory leak).\n"
       ]
      },
      {
       "output_type": "stream",
       "stream": "stderr",
       "text": [
        "WARNING:ROOT.TROOT.Append] Replacing existing TH1: mmppim_01_01 (Potential memory leak).\n"
       ]
      },
      {
       "output_type": "stream",
       "stream": "stdout",
       "text": [
        " [3] \n",
        "-----\n",
        "dbg:D before\n",
        "   top        Q2    mmppim         W\n",
        "0    2  1.875769  0.469884  1.667687\n",
        "1    4  2.441293  1.273352  1.836005\n",
        "2    1  2.246424  0.131117  1.774571\n",
        "3    4  2.105846  1.419375  1.827557\n",
        "4    2  2.148120  0.927883  1.878083\n",
        "Evaluating (df['top']==3) ...\n",
        "dbg:D after\n",
        "    top        Q2    mmppim         W\n",
        "6     3  1.892613  0.177315  1.846693\n",
        "14    3  2.014819  0.148233  1.501129\n",
        "23    3  2.223877  0.136077  1.523998\n",
        "24    3  2.290231  0.160230  1.719620\n",
        "41    3  2.395308  0.150083  1.637762\n",
        "-----\n",
        "Q2 binning \n",
        "-----\n",
        "NQ2BINS=1,Q2BINW=0.6000 GeV^2\n",
        "['1.9000', '2.5000']\n",
        "-----\n",
        "W binning \n",
        "-----\n",
        "NWBINS=1,WBINW=0.6000 GeV\n",
        "['1.3000', '1.9000']\n",
        "-----\n",
        "OUTDIR=/home/trivedia/CLAS/workspace/ana2pi/sub_studies/study_vars/q2w2/sim_nmcor_gpp-10 \n",
        "-----\n",
        "HOFT= [Hist2D('mmppim_OFT')]\n",
        "HRES= [Hist2D('mmppim_RES')]\n",
        "-----\n",
        "Importing d2pi.root -> DataFrame\n",
        "-----"
       ]
      },
      {
       "output_type": "stream",
       "stream": "stdout",
       "text": [
        "\n",
        "Going to use d2pi(sim_nmcor_gpp-11)\n",
        "File = /data/trivedia/e1f/study_vars/q2w2/sim_nmcor_gpp-11/recon/d2pi.root\n",
        "Variables to import directly into DataFrame= ['top', 'Q2', 'mmppim', 'W']\n",
        "Variables to be added later to the DataFrame []\n",
        "-----\n",
        "Topology selection: tops to be used = "
       ]
      },
      {
       "output_type": "stream",
       "stream": "stderr",
       "text": [
        "WARNING:ROOT.TROOT.Append] Replacing existing TH1: mmppim_OFT (Potential memory leak).\n"
       ]
      },
      {
       "output_type": "stream",
       "stream": "stderr",
       "text": [
        "WARNING:ROOT.TROOT.Append] Replacing existing TH1: mmppim_RES (Potential memory leak).\n"
       ]
      },
      {
       "output_type": "stream",
       "stream": "stderr",
       "text": [
        "WARNING:ROOT.TROOT.Append] Replacing existing TH1: mmppim_01_01 (Potential memory leak).\n"
       ]
      },
      {
       "output_type": "stream",
       "stream": "stdout",
       "text": [
        " [3] \n",
        "-----\n",
        "dbg:D before\n",
        "   top        Q2    mmppim         W\n",
        "0    2  2.212007  0.648796  1.752901\n",
        "1    2  2.023542  0.517228  1.516859\n",
        "2    2  2.304423  0.449723  1.737919\n",
        "3    2  2.352314  0.386589  1.664693\n",
        "4    2  1.954578  0.505775  1.558589\n",
        "Evaluating (df['top']==3) ...\n",
        "dbg:D after\n",
        "    top        Q2    mmppim         W\n",
        "25    3  2.403083  0.178100  1.709622\n",
        "26    3  2.206362  0.135599  1.755835\n",
        "42    3  2.258285  0.156756  1.565643\n",
        "60    3  2.060545  0.153027  1.688760\n",
        "76    3  2.160580  0.124942  1.476748\n",
        "-----\n",
        "Q2 binning \n",
        "-----\n",
        "NQ2BINS=1,Q2BINW=0.6000 GeV^2\n",
        "['1.9000', '2.5000']\n",
        "-----\n",
        "W binning \n",
        "-----\n",
        "NWBINS=1,WBINW=0.6000 GeV\n",
        "['1.3000', '1.9000']\n",
        "-----\n",
        "OUTDIR=/home/trivedia/CLAS/workspace/ana2pi/sub_studies/study_vars/q2w2/sim_nmcor_gpp-11 \n",
        "-----\n",
        "HOFT= [Hist2D('mmppim_OFT')]\n",
        "HRES= [Hist2D('mmppim_RES')]\n",
        "-----\n",
        "Importing d2pi.root -> DataFrame\n",
        "-----"
       ]
      },
      {
       "output_type": "stream",
       "stream": "stdout",
       "text": [
        "\n",
        "Going to use d2pi(sim_nmcor_gpp-12)\n",
        "File = /data/trivedia/e1f/study_vars/q2w2/sim_nmcor_gpp-12/recon/d2pi.root\n",
        "Variables to import directly into DataFrame= ['top', 'Q2', 'mmppim', 'W']\n",
        "Variables to be added later to the DataFrame []\n",
        "-----\n",
        "Topology selection: tops to be used = "
       ]
      },
      {
       "output_type": "stream",
       "stream": "stderr",
       "text": [
        "WARNING:ROOT.TROOT.Append] Replacing existing TH1: mmppim_OFT (Potential memory leak).\n"
       ]
      },
      {
       "output_type": "stream",
       "stream": "stderr",
       "text": [
        "WARNING:ROOT.TROOT.Append] Replacing existing TH1: mmppim_RES (Potential memory leak).\n"
       ]
      },
      {
       "output_type": "stream",
       "stream": "stderr",
       "text": [
        "WARNING:ROOT.TROOT.Append] Replacing existing TH1: mmppim_01_01 (Potential memory leak).\n"
       ]
      },
      {
       "output_type": "stream",
       "stream": "stdout",
       "text": [
        " [3] \n",
        "-----\n",
        "dbg:D before\n",
        "   top        Q2    mmppim         W\n",
        "0    4  2.366619  1.524548  1.827724\n",
        "1    2  2.375338  0.747769  1.862975\n",
        "2    2  2.338656  0.577235  1.710098\n",
        "3    2  2.166887  0.491626  1.536987\n",
        "4    1  2.210021  0.193069  1.826558\n",
        "Evaluating (df['top']==3) ...\n",
        "dbg:D after\n",
        "    top        Q2    mmppim         W\n",
        "6     3  2.367649  0.214400  1.820642\n",
        "7     3  2.096142  0.116736  1.876896\n",
        "8     3  2.257846  0.130426  1.824767\n",
        "9     3  2.030882  0.185375  1.796952\n",
        "10    3  2.076846  0.123243  1.758822\n",
        "-----\n",
        "Q2 binning \n",
        "-----\n",
        "NQ2BINS=1,Q2BINW=0.6000 GeV^2\n",
        "['1.9000', '2.5000']\n",
        "-----\n",
        "W binning \n",
        "-----\n",
        "NWBINS=1,WBINW=0.6000 GeV\n",
        "['1.3000', '1.9000']\n",
        "-----\n",
        "OUTDIR=/home/trivedia/CLAS/workspace/ana2pi/sub_studies/study_vars/q2w2/sim_nmcor_gpp-12 \n",
        "-----\n",
        "HOFT= [Hist2D('mmppim_OFT')]\n",
        "HRES= [Hist2D('mmppim_RES')]\n",
        "-----\n",
        "Importing d2pi.root -> DataFrame\n",
        "-----"
       ]
      },
      {
       "output_type": "stream",
       "stream": "stdout",
       "text": [
        "\n",
        "Going to use d2pi(sim_nmcor_gpp-13)\n",
        "File = /data/trivedia/e1f/study_vars/q2w2/sim_nmcor_gpp-13/recon/d2pi.root\n",
        "Variables to import directly into DataFrame= ['top', 'Q2', 'mmppim', 'W']\n",
        "Variables to be added later to the DataFrame []\n",
        "-----\n",
        "Topology selection: tops to be used = "
       ]
      },
      {
       "output_type": "stream",
       "stream": "stderr",
       "text": [
        "WARNING:ROOT.TROOT.Append] Replacing existing TH1: mmppim_OFT (Potential memory leak).\n"
       ]
      },
      {
       "output_type": "stream",
       "stream": "stderr",
       "text": [
        "WARNING:ROOT.TROOT.Append] Replacing existing TH1: mmppim_RES (Potential memory leak).\n"
       ]
      },
      {
       "output_type": "stream",
       "stream": "stderr",
       "text": [
        "WARNING:ROOT.TROOT.Append] Replacing existing TH1: mmppim_01_01 (Potential memory leak).\n"
       ]
      },
      {
       "output_type": "stream",
       "stream": "stdout",
       "text": [
        " [3] \n",
        "-----\n",
        "dbg:D before\n",
        "   top        Q2    mmppim         W\n",
        "0    3  2.244581  0.154005  1.758408\n",
        "1    2  2.298131  0.414123  1.470907\n",
        "2    4  2.143001  1.256045  1.739850\n",
        "3    1  2.196578  0.131803  1.745464\n",
        "4    2  1.917434  0.793761  1.825585\n",
        "Evaluating (df['top']==3) ...\n",
        "dbg:D after\n",
        "    top        Q2    mmppim         W\n",
        "0     3  2.244581  0.154005  1.758408\n",
        "5     3  2.083253  0.164205  1.704300\n",
        "9     3  2.434686  0.134276  1.681839\n",
        "14    3  2.170504  0.361566  1.678919\n",
        "24    3  1.960224  0.142961  1.798616\n",
        "-----\n",
        "Q2 binning \n",
        "-----\n",
        "NQ2BINS=1,Q2BINW=0.6000 GeV^2\n",
        "['1.9000', '2.5000']\n",
        "-----\n",
        "W binning \n",
        "-----\n",
        "NWBINS=1,WBINW=0.6000 GeV\n",
        "['1.3000', '1.9000']\n",
        "-----\n",
        "OUTDIR=/home/trivedia/CLAS/workspace/ana2pi/sub_studies/study_vars/q2w2/sim_nmcor_gpp-13 \n",
        "-----\n",
        "HOFT= [Hist2D('mmppim_OFT')]\n",
        "HRES= [Hist2D('mmppim_RES')]\n",
        "-----\n",
        "Importing d2pi.root -> DataFrame\n",
        "-----"
       ]
      },
      {
       "output_type": "stream",
       "stream": "stdout",
       "text": [
        "\n",
        "Going to use d2pi(sim_nmcor_gpp-14)\n",
        "File = /data/trivedia/e1f/study_vars/q2w2/sim_nmcor_gpp-14/recon/d2pi.root\n",
        "Variables to import directly into DataFrame= ['top', 'Q2', 'mmppim', 'W']\n",
        "Variables to be added later to the DataFrame []\n",
        "-----\n",
        "Topology selection: tops to be used = "
       ]
      },
      {
       "output_type": "stream",
       "stream": "stderr",
       "text": [
        "WARNING:ROOT.TROOT.Append] Replacing existing TH1: mmppim_OFT (Potential memory leak).\n"
       ]
      },
      {
       "output_type": "stream",
       "stream": "stderr",
       "text": [
        "WARNING:ROOT.TROOT.Append] Replacing existing TH1: mmppim_RES (Potential memory leak).\n"
       ]
      },
      {
       "output_type": "stream",
       "stream": "stderr",
       "text": [
        "WARNING:ROOT.TROOT.Append] Replacing existing TH1: mmppim_01_01 (Potential memory leak).\n"
       ]
      },
      {
       "output_type": "stream",
       "stream": "stdout",
       "text": [
        " [3] \n",
        "-----\n",
        "dbg:D before\n",
        "   top        Q2    mmppim         W\n",
        "0    4  2.157955  1.291222  1.791684\n",
        "1    2  1.909148  0.763764  1.814431\n",
        "2    3  2.200742  0.241448  1.728269\n",
        "3    1  2.320385  0.162217  1.562862\n",
        "4    2  2.259932  0.402155  1.428829\n",
        "Evaluating (df['top']==3) ...\n",
        "dbg:D after\n",
        "    top        Q2    mmppim         W\n",
        "2     3  2.200742  0.241448  1.728269\n",
        "9     3  2.395319  0.169161  1.783685\n",
        "31    3  1.894981  0.186137  1.752508\n",
        "35    3  2.114799  0.229744  1.774153\n",
        "43    3  2.149741  0.135342  1.547067\n",
        "-----\n",
        "Q2 binning \n",
        "-----\n",
        "NQ2BINS=1,Q2BINW=0.6000 GeV^2\n",
        "['1.9000', '2.5000']\n",
        "-----\n",
        "W binning \n",
        "-----\n",
        "NWBINS=1,WBINW=0.6000 GeV\n",
        "['1.3000', '1.9000']\n",
        "-----\n",
        "OUTDIR=/home/trivedia/CLAS/workspace/ana2pi/sub_studies/study_vars/q2w2/sim_nmcor_gpp-14 \n",
        "-----\n",
        "HOFT= [Hist2D('mmppim_OFT')]\n",
        "HRES= [Hist2D('mmppim_RES')]\n",
        "-----\n",
        "Importing d2pi.root -> DataFrame\n",
        "-----"
       ]
      },
      {
       "output_type": "stream",
       "stream": "stdout",
       "text": [
        "\n",
        "Going to use d2pi(sim_nmcor_gpp-15)\n",
        "File = /data/trivedia/e1f/study_vars/q2w2/sim_nmcor_gpp-15/recon/d2pi.root\n",
        "Variables to import directly into DataFrame= ['top', 'Q2', 'mmppim', 'W']\n",
        "Variables to be added later to the DataFrame []\n",
        "-----\n",
        "Topology selection: tops to be used = "
       ]
      },
      {
       "output_type": "stream",
       "stream": "stderr",
       "text": [
        "WARNING:ROOT.TROOT.Append] Replacing existing TH1: mmppim_OFT (Potential memory leak).\n"
       ]
      },
      {
       "output_type": "stream",
       "stream": "stderr",
       "text": [
        "WARNING:ROOT.TROOT.Append] Replacing existing TH1: mmppim_RES (Potential memory leak).\n"
       ]
      },
      {
       "output_type": "stream",
       "stream": "stderr",
       "text": [
        "WARNING:ROOT.TROOT.Append] Replacing existing TH1: mmppim_01_01 (Potential memory leak).\n"
       ]
      },
      {
       "output_type": "stream",
       "stream": "stdout",
       "text": [
        " [3] \n",
        "-----\n",
        "dbg:D before\n",
        "   top        Q2    mmppim         W\n",
        "0    2  2.149536  0.697269  1.681695\n",
        "1    4  2.118538  1.446644  1.880909\n",
        "2    2  1.972042  0.850205  1.833559\n",
        "3    2  2.054617  0.412943  1.646900\n",
        "4    2  2.284980  0.408163  1.647440\n",
        "Evaluating (df['top']==3) ...\n",
        "dbg:D after\n",
        "    top        Q2    mmppim         W\n",
        "5     3  1.934401  0.139989  1.890895\n",
        "8     3  2.106683  0.149348  1.642671\n",
        "10    3  2.407507  0.368901  1.698736\n",
        "22    3  2.534323  0.211608  1.466546\n",
        "23    3  2.107642  0.147555  1.799770\n",
        "-----\n",
        "Q2 binning \n",
        "-----\n",
        "NQ2BINS=1,Q2BINW=0.6000 GeV^2\n",
        "['1.9000', '2.5000']\n",
        "-----\n",
        "W binning \n",
        "-----\n",
        "NWBINS=1,WBINW=0.6000 GeV\n",
        "['1.3000', '1.9000']\n",
        "-----\n",
        "OUTDIR=/home/trivedia/CLAS/workspace/ana2pi/sub_studies/study_vars/q2w2/sim_nmcor_gpp-15 \n",
        "-----\n",
        "HOFT= [Hist2D('mmppim_OFT')]\n",
        "HRES= [Hist2D('mmppim_RES')]\n",
        "-----\n",
        "Importing d2pi.root -> DataFrame\n",
        "-----"
       ]
      },
      {
       "output_type": "stream",
       "stream": "stdout",
       "text": [
        "\n",
        "Going to use d2pi(sim_nmcor_gpp-16)\n",
        "File = /data/trivedia/e1f/study_vars/q2w2/sim_nmcor_gpp-16/recon/d2pi.root\n",
        "Variables to import directly into DataFrame= ['top', 'Q2', 'mmppim', 'W']\n",
        "Variables to be added later to the DataFrame []\n",
        "-----\n",
        "Topology selection: tops to be used = "
       ]
      },
      {
       "output_type": "stream",
       "stream": "stderr",
       "text": [
        "WARNING:ROOT.TROOT.Append] Replacing existing TH1: mmppim_OFT (Potential memory leak).\n"
       ]
      },
      {
       "output_type": "stream",
       "stream": "stderr",
       "text": [
        "WARNING:ROOT.TROOT.Append] Replacing existing TH1: mmppim_RES (Potential memory leak).\n"
       ]
      },
      {
       "output_type": "stream",
       "stream": "stderr",
       "text": [
        "WARNING:ROOT.TROOT.Append] Replacing existing TH1: mmppim_01_01 (Potential memory leak).\n"
       ]
      },
      {
       "output_type": "stream",
       "stream": "stdout",
       "text": [
        " [3] \n",
        "-----\n",
        "dbg:D before\n",
        "   top        Q2    mmppim         W\n",
        "0    2  1.953159  0.385818  1.505096\n",
        "1    4  2.117192  1.161921  1.789837\n",
        "2    2  2.187295  0.533022  1.559510\n",
        "3    2  1.930662  0.593697  1.792378\n",
        "4    2  2.410585  0.539839  1.601354\n",
        "Evaluating (df['top']==3) ...\n",
        "dbg:D after\n",
        "    top        Q2    mmppim         W\n",
        "5     3  2.110933  0.174419  1.432889\n",
        "9     3  2.074969  0.158643  1.854941\n",
        "32    3  2.341967  0.212004  1.903747\n",
        "71    3  2.230067  0.152108  1.843043\n",
        "74    3  2.128076  0.123649  1.657806\n",
        "-----\n",
        "Q2 binning \n",
        "-----\n",
        "NQ2BINS=1,Q2BINW=0.6000 GeV^2\n",
        "['1.9000', '2.5000']\n",
        "-----\n",
        "W binning \n",
        "-----\n",
        "NWBINS=1,WBINW=0.6000 GeV\n",
        "['1.3000', '1.9000']\n",
        "-----\n",
        "OUTDIR=/home/trivedia/CLAS/workspace/ana2pi/sub_studies/study_vars/q2w2/sim_nmcor_gpp-16 \n",
        "-----\n",
        "HOFT= [Hist2D('mmppim_OFT')]\n",
        "HRES= [Hist2D('mmppim_RES')]\n",
        "-----\n",
        "Importing d2pi.root -> DataFrame\n",
        "-----"
       ]
      },
      {
       "output_type": "stream",
       "stream": "stdout",
       "text": [
        "\n",
        "Going to use d2pi(sim_nmcor_gpp-17)\n",
        "File = /data/trivedia/e1f/study_vars/q2w2/sim_nmcor_gpp-17/recon/d2pi.root\n",
        "Variables to import directly into DataFrame= ['top', 'Q2', 'mmppim', 'W']\n",
        "Variables to be added later to the DataFrame []\n",
        "-----\n",
        "Topology selection: tops to be used = "
       ]
      },
      {
       "output_type": "stream",
       "stream": "stderr",
       "text": [
        "WARNING:ROOT.TROOT.Append] Replacing existing TH1: mmppim_OFT (Potential memory leak).\n"
       ]
      },
      {
       "output_type": "stream",
       "stream": "stderr",
       "text": [
        "WARNING:ROOT.TROOT.Append] Replacing existing TH1: mmppim_RES (Potential memory leak).\n"
       ]
      },
      {
       "output_type": "stream",
       "stream": "stderr",
       "text": [
        "WARNING:ROOT.TROOT.Append] Replacing existing TH1: mmppim_01_01 (Potential memory leak).\n"
       ]
      },
      {
       "output_type": "stream",
       "stream": "stdout",
       "text": [
        " [3] \n",
        "-----\n",
        "dbg:D before\n",
        "   top        Q2    mmppim         W\n",
        "0    2  1.981806  0.667826  1.718298\n",
        "1    4  1.942343  1.387253  1.811013\n",
        "2    2  2.108846  0.346487  1.704332\n",
        "3    2  2.076893  0.541312  1.822763\n",
        "4    2  2.025502  0.699733  1.694237\n",
        "Evaluating (df['top']==3) ...\n",
        "dbg:D after\n",
        "    top        Q2    mmppim         W\n",
        "17    3  1.990620  0.267239  1.829227\n",
        "20    3  2.333596  0.104795  1.729798\n",
        "24    3  2.189151  0.115545  1.570182\n",
        "36    3  2.470715  0.142503  1.793667\n",
        "38    3  2.325380  0.212917  1.710664\n",
        "-----\n",
        "Q2 binning \n",
        "-----\n",
        "NQ2BINS=1,Q2BINW=0.6000 GeV^2\n",
        "['1.9000', '2.5000']\n",
        "-----\n",
        "W binning \n",
        "-----\n",
        "NWBINS=1,WBINW=0.6000 GeV\n",
        "['1.3000', '1.9000']\n",
        "-----\n",
        "OUTDIR=/home/trivedia/CLAS/workspace/ana2pi/sub_studies/study_vars/q2w2/sim_nmcor_gpp-17 \n",
        "-----\n",
        "HOFT= [Hist2D('mmppim_OFT')]\n",
        "HRES= [Hist2D('mmppim_RES')]\n",
        "-----\n",
        "Importing d2pi.root -> DataFrame\n",
        "-----"
       ]
      },
      {
       "output_type": "stream",
       "stream": "stdout",
       "text": [
        "\n",
        "Going to use d2pi(sim_nmcor_gpp-18)\n",
        "File = /data/trivedia/e1f/study_vars/q2w2/sim_nmcor_gpp-18/recon/d2pi.root\n",
        "Variables to import directly into DataFrame= ['top', 'Q2', 'mmppim', 'W']\n",
        "Variables to be added later to the DataFrame []\n",
        "-----\n",
        "Topology selection: tops to be used = "
       ]
      },
      {
       "output_type": "stream",
       "stream": "stderr",
       "text": [
        "WARNING:ROOT.TROOT.Append] Replacing existing TH1: mmppim_OFT (Potential memory leak).\n"
       ]
      },
      {
       "output_type": "stream",
       "stream": "stderr",
       "text": [
        "WARNING:ROOT.TROOT.Append] Replacing existing TH1: mmppim_RES (Potential memory leak).\n"
       ]
      },
      {
       "output_type": "stream",
       "stream": "stderr",
       "text": [
        "WARNING:ROOT.TROOT.Append] Replacing existing TH1: mmppim_01_01 (Potential memory leak).\n"
       ]
      },
      {
       "output_type": "stream",
       "stream": "stdout",
       "text": [
        " [3] \n",
        "-----\n",
        "dbg:D before\n",
        "   top        Q2    mmppim         W\n",
        "0    2  1.951317  0.499598  1.736713\n",
        "1    2  2.162091  0.322941  1.328012\n",
        "2    4  1.995827  1.223025  1.594476\n",
        "3    2  2.022749  0.518264  1.611432\n",
        "4    2  1.874207  0.723766  1.909928\n",
        "Evaluating (df['top']==3) ...\n",
        "dbg:D after\n",
        "    top        Q2    mmppim         W\n",
        "7     3  2.100924  0.112134  1.869089\n",
        "23    3  2.267959  0.089178  1.526476\n",
        "25    3  2.059723  0.234047  1.840233\n",
        "30    3  1.934365  0.158987  1.836857\n",
        "45    3  2.113914  0.390959  1.786775\n",
        "-----\n",
        "Q2 binning \n",
        "-----\n",
        "NQ2BINS=1,Q2BINW=0.6000 GeV^2\n",
        "['1.9000', '2.5000']\n",
        "-----\n",
        "W binning \n",
        "-----\n",
        "NWBINS=1,WBINW=0.6000 GeV\n",
        "['1.3000', '1.9000']\n",
        "-----\n",
        "OUTDIR=/home/trivedia/CLAS/workspace/ana2pi/sub_studies/study_vars/q2w2/sim_nmcor_gpp-18 \n",
        "-----\n",
        "HOFT= [Hist2D('mmppim_OFT')]\n",
        "HRES= [Hist2D('mmppim_RES')]\n",
        "-----\n",
        "Importing d2pi.root -> DataFrame\n",
        "-----"
       ]
      },
      {
       "output_type": "stream",
       "stream": "stdout",
       "text": [
        "\n",
        "Going to use d2pi(sim_nmcor_gpp-19)\n",
        "File = /data/trivedia/e1f/study_vars/q2w2/sim_nmcor_gpp-19/recon/d2pi.root\n",
        "Variables to import directly into DataFrame= ['top', 'Q2', 'mmppim', 'W']\n",
        "Variables to be added later to the DataFrame []\n",
        "-----\n",
        "Topology selection: tops to be used = "
       ]
      },
      {
       "output_type": "stream",
       "stream": "stderr",
       "text": [
        "WARNING:ROOT.TROOT.Append] Replacing existing TH1: mmppim_OFT (Potential memory leak).\n"
       ]
      },
      {
       "output_type": "stream",
       "stream": "stderr",
       "text": [
        "WARNING:ROOT.TROOT.Append] Replacing existing TH1: mmppim_RES (Potential memory leak).\n"
       ]
      },
      {
       "output_type": "stream",
       "stream": "stderr",
       "text": [
        "WARNING:ROOT.TROOT.Append] Replacing existing TH1: mmppim_01_01 (Potential memory leak).\n"
       ]
      },
      {
       "output_type": "stream",
       "stream": "stdout",
       "text": [
        " [3] \n",
        "-----\n",
        "dbg:D before\n",
        "   top        Q2    mmppim         W\n",
        "0    2  2.494123  0.570299  1.519645\n",
        "1    2  2.065262  0.389794  1.748759\n",
        "2    2  2.235841  0.583838  1.653877\n",
        "3    2  2.108207  0.713579  1.794606\n",
        "4    3  2.250229  0.193442  1.879033\n",
        "Evaluating (df['top']==3) ...\n",
        "dbg:D after\n",
        "    top        Q2    mmppim         W\n",
        "4     3  2.250229  0.193442  1.879033\n",
        "7     3  2.372893  0.294350  1.621218\n",
        "11    3  2.247683  0.107258  1.859754\n",
        "14    3  2.186299  0.173044  1.668979\n",
        "19    3  1.778002  0.311344  2.215979\n",
        "-----\n",
        "Q2 binning \n",
        "-----\n",
        "NQ2BINS=1,Q2BINW=0.6000 GeV^2\n",
        "['1.9000', '2.5000']\n",
        "-----\n",
        "W binning \n",
        "-----\n",
        "NWBINS=1,WBINW=0.6000 GeV\n",
        "['1.3000', '1.9000']\n",
        "-----\n",
        "OUTDIR=/home/trivedia/CLAS/workspace/ana2pi/sub_studies/study_vars/q2w2/sim_nmcor_gpp-19 \n",
        "-----\n",
        "HOFT= [Hist2D('mmppim_OFT')]\n",
        "HRES= [Hist2D('mmppim_RES')]\n",
        "-----\n",
        "Importing d2pi.root -> DataFrame\n",
        "-----"
       ]
      },
      {
       "output_type": "stream",
       "stream": "stdout",
       "text": [
        "\n",
        "Going to use d2pi(sim_nmcor_gpp-20)\n",
        "File = /data/trivedia/e1f/study_vars/q2w2/sim_nmcor_gpp-20/recon/d2pi.root\n",
        "Variables to import directly into DataFrame= ['top', 'Q2', 'mmppim', 'W']\n",
        "Variables to be added later to the DataFrame []\n",
        "-----\n",
        "Topology selection: tops to be used = "
       ]
      },
      {
       "output_type": "stream",
       "stream": "stderr",
       "text": [
        "WARNING:ROOT.TROOT.Append] Replacing existing TH1: mmppim_OFT (Potential memory leak).\n"
       ]
      },
      {
       "output_type": "stream",
       "stream": "stderr",
       "text": [
        "WARNING:ROOT.TROOT.Append] Replacing existing TH1: mmppim_RES (Potential memory leak).\n"
       ]
      },
      {
       "output_type": "stream",
       "stream": "stderr",
       "text": [
        "WARNING:ROOT.TROOT.Append] Replacing existing TH1: mmppim_01_01 (Potential memory leak).\n"
       ]
      },
      {
       "output_type": "stream",
       "stream": "stdout",
       "text": [
        " [3] \n",
        "-----\n",
        "dbg:D before\n",
        "   top        Q2    mmppim         W\n",
        "0    2  2.151942  0.783581  1.769219\n",
        "1    2  1.988479  0.470687  1.685141\n",
        "2    3  2.382380  0.135484  1.803678\n",
        "3    1  2.470241  0.123264  1.528202\n",
        "4    2  2.182429  0.784219  1.814799\n",
        "Evaluating (df['top']==3) ...\n",
        "dbg:D after\n",
        "    top        Q2    mmppim         W\n",
        "2     3  2.382380  0.135484  1.803678\n",
        "21    3  2.439378  0.076085  1.782671\n",
        "34    3  1.947902  0.219324  1.896878\n",
        "51    3  2.491129  0.167750  1.752087\n",
        "52    3  2.121329  0.162004  1.439395\n",
        "-----\n",
        "Q2 binning \n",
        "-----\n",
        "NQ2BINS=1,Q2BINW=0.6000 GeV^2\n",
        "['1.9000', '2.5000']\n",
        "-----\n",
        "W binning \n",
        "-----\n",
        "NWBINS=1,WBINW=0.6000 GeV\n",
        "['1.3000', '1.9000']\n",
        "-----\n",
        "OUTDIR=/home/trivedia/CLAS/workspace/ana2pi/sub_studies/study_vars/q2w2/sim_nmcor_gpp-20 \n",
        "-----\n",
        "HOFT= [Hist2D('mmppim_OFT')]\n",
        "HRES= [Hist2D('mmppim_RES')]\n",
        "-----\n",
        "Importing d2pi.root -> DataFrame\n",
        "-----"
       ]
      },
      {
       "output_type": "stream",
       "stream": "stdout",
       "text": [
        "\n",
        "Going to use d2pi(sim_nmcor_gpp-21)\n",
        "File = /data/trivedia/e1f/study_vars/q2w2/sim_nmcor_gpp-21/recon/d2pi.root\n",
        "Variables to import directly into DataFrame= ['top', 'Q2', 'mmppim', 'W']\n",
        "Variables to be added later to the DataFrame []\n",
        "-----\n",
        "Topology selection: tops to be used = "
       ]
      },
      {
       "output_type": "stream",
       "stream": "stderr",
       "text": [
        "WARNING:ROOT.TROOT.Append] Replacing existing TH1: mmppim_OFT (Potential memory leak).\n"
       ]
      },
      {
       "output_type": "stream",
       "stream": "stderr",
       "text": [
        "WARNING:ROOT.TROOT.Append] Replacing existing TH1: mmppim_RES (Potential memory leak).\n"
       ]
      },
      {
       "output_type": "stream",
       "stream": "stderr",
       "text": [
        "WARNING:ROOT.TROOT.Append] Replacing existing TH1: mmppim_01_01 (Potential memory leak).\n"
       ]
      },
      {
       "output_type": "stream",
       "stream": "stdout",
       "text": [
        " [3] \n",
        "-----\n",
        "dbg:D before\n",
        "   top        Q2    mmppim         W\n",
        "0    3  2.065649  0.284749  1.879406\n",
        "1    2  2.236563  0.636294  1.795276\n",
        "2    1  1.909271  0.043334  1.730046\n",
        "3    2  1.950391  0.402604  1.468687\n",
        "4    2  2.447932  0.460781  1.487290\n",
        "Evaluating (df['top']==3) ...\n",
        "dbg:D after\n",
        "    top        Q2    mmppim         W\n",
        "0     3  2.065649  0.284749  1.879406\n",
        "12    3  1.992215  0.128306  1.426528\n",
        "16    3  1.908301  0.242845  1.871585\n",
        "20    3  1.959749  0.156810  1.828823\n",
        "22    3  2.333678  0.114909  1.674490\n",
        "-----\n",
        "Q2 binning \n",
        "-----\n",
        "NQ2BINS=1,Q2BINW=0.6000 GeV^2\n",
        "['1.9000', '2.5000']\n",
        "-----\n",
        "W binning \n",
        "-----\n",
        "NWBINS=1,WBINW=0.6000 GeV\n",
        "['1.3000', '1.9000']\n",
        "-----\n",
        "OUTDIR=/home/trivedia/CLAS/workspace/ana2pi/sub_studies/study_vars/q2w2/sim_nmcor_gpp-21 \n",
        "-----\n",
        "HOFT= [Hist2D('mmppim_OFT')]\n",
        "HRES= [Hist2D('mmppim_RES')]\n",
        "-----\n",
        "Importing d2pi.root -> DataFrame\n",
        "-----"
       ]
      },
      {
       "output_type": "stream",
       "stream": "stdout",
       "text": [
        "\n",
        "Going to use d2pi(sim_nmcor_gpp-22)\n",
        "File = /data/trivedia/e1f/study_vars/q2w2/sim_nmcor_gpp-22/recon/d2pi.root\n",
        "Variables to import directly into DataFrame= ['top', 'Q2', 'mmppim', 'W']\n",
        "Variables to be added later to the DataFrame []\n",
        "-----\n",
        "Topology selection: tops to be used = "
       ]
      },
      {
       "output_type": "stream",
       "stream": "stderr",
       "text": [
        "WARNING:ROOT.TROOT.Append] Replacing existing TH1: mmppim_OFT (Potential memory leak).\n"
       ]
      },
      {
       "output_type": "stream",
       "stream": "stderr",
       "text": [
        "WARNING:ROOT.TROOT.Append] Replacing existing TH1: mmppim_RES (Potential memory leak).\n"
       ]
      },
      {
       "output_type": "stream",
       "stream": "stderr",
       "text": [
        "WARNING:ROOT.TROOT.Append] Replacing existing TH1: mmppim_01_01 (Potential memory leak).\n"
       ]
      },
      {
       "output_type": "stream",
       "stream": "stdout",
       "text": [
        " [3] \n",
        "-----\n",
        "dbg:D before\n",
        "   top        Q2    mmppim         W\n",
        "0    2  2.119711  0.434217  1.601035\n",
        "1    4  2.189653  1.137241  1.367558\n",
        "2    2  1.982875  0.496265  1.471937\n",
        "3    2  1.947981  0.311187  1.789099\n",
        "4    2  2.298788  0.635532  1.822341\n",
        "Evaluating (df['top']==3) ...\n",
        "dbg:D after\n",
        "    top        Q2    mmppim         W\n",
        "10    3  2.278770  0.158401  1.730217\n",
        "29    3  2.395436  0.180948  1.626605\n",
        "37    3  1.988684  0.213650  1.853313\n",
        "44    3  2.329558  0.201375  1.418870\n",
        "45    3  2.265238  0.170400  1.513864\n",
        "-----\n",
        "Q2 binning \n",
        "-----\n",
        "NQ2BINS=1,Q2BINW=0.6000 GeV^2\n",
        "['1.9000', '2.5000']\n",
        "-----\n",
        "W binning \n",
        "-----\n",
        "NWBINS=1,WBINW=0.6000 GeV\n",
        "['1.3000', '1.9000']\n",
        "-----\n",
        "OUTDIR=/home/trivedia/CLAS/workspace/ana2pi/sub_studies/study_vars/q2w2/sim_nmcor_gpp-22 \n",
        "-----\n",
        "HOFT= [Hist2D('mmppim_OFT')]\n",
        "HRES= [Hist2D('mmppim_RES')]\n",
        "-----\n",
        "Importing d2pi.root -> DataFrame\n",
        "-----"
       ]
      },
      {
       "output_type": "stream",
       "stream": "stdout",
       "text": [
        "\n",
        "Going to use d2pi(sim_nmcor_gpp-23)\n",
        "File = /data/trivedia/e1f/study_vars/q2w2/sim_nmcor_gpp-23/recon/d2pi.root\n",
        "Variables to import directly into DataFrame= ['top', 'Q2', 'mmppim', 'W']\n",
        "Variables to be added later to the DataFrame []\n",
        "-----\n",
        "Topology selection: tops to be used = "
       ]
      },
      {
       "output_type": "stream",
       "stream": "stderr",
       "text": [
        "WARNING:ROOT.TROOT.Append] Replacing existing TH1: mmppim_OFT (Potential memory leak).\n"
       ]
      },
      {
       "output_type": "stream",
       "stream": "stderr",
       "text": [
        "WARNING:ROOT.TROOT.Append] Replacing existing TH1: mmppim_RES (Potential memory leak).\n"
       ]
      },
      {
       "output_type": "stream",
       "stream": "stderr",
       "text": [
        "WARNING:ROOT.TROOT.Append] Replacing existing TH1: mmppim_01_01 (Potential memory leak).\n"
       ]
      },
      {
       "output_type": "stream",
       "stream": "stdout",
       "text": [
        " [3] \n",
        "-----\n",
        "dbg:D before\n",
        "   top        Q2    mmppim         W\n",
        "0    2  1.022846  1.377764  2.748358\n",
        "1    2  2.174145  0.488711  1.866734\n",
        "2    2  2.194888  0.596932  1.676606\n",
        "3    2  2.047339  0.321588  1.503745\n",
        "4    2  3.336045  0.680800  2.503856\n",
        "Evaluating (df['top']==3) ...\n",
        "dbg:D after\n",
        "    top        Q2    mmppim         W\n",
        "24    3  2.156873  0.167404  1.590535\n",
        "27    3  2.525549  0.173276  1.749969\n",
        "31    3  1.924316  0.099334  1.696696\n",
        "35    3  2.112565  0.129518  1.868016\n",
        "41    3  2.204441  0.127503  1.501192\n",
        "-----\n",
        "Q2 binning \n",
        "-----\n",
        "NQ2BINS=1,Q2BINW=0.6000 GeV^2\n",
        "['1.9000', '2.5000']\n",
        "-----\n",
        "W binning \n",
        "-----\n",
        "NWBINS=1,WBINW=0.6000 GeV\n",
        "['1.3000', '1.9000']\n",
        "-----\n",
        "OUTDIR=/home/trivedia/CLAS/workspace/ana2pi/sub_studies/study_vars/q2w2/sim_nmcor_gpp-23 \n",
        "-----\n",
        "HOFT= [Hist2D('mmppim_OFT')]\n",
        "HRES= [Hist2D('mmppim_RES')]\n",
        "-----\n",
        "Importing d2pi.root -> DataFrame\n",
        "-----"
       ]
      },
      {
       "output_type": "stream",
       "stream": "stdout",
       "text": [
        "\n",
        "Going to use d2pi(sim_nmcor_gpp-24)\n",
        "File = /data/trivedia/e1f/study_vars/q2w2/sim_nmcor_gpp-24/recon/d2pi.root\n",
        "Variables to import directly into DataFrame= ['top', 'Q2', 'mmppim', 'W']\n",
        "Variables to be added later to the DataFrame []\n",
        "-----\n",
        "Topology selection: tops to be used = "
       ]
      },
      {
       "output_type": "stream",
       "stream": "stderr",
       "text": [
        "WARNING:ROOT.TROOT.Append] Replacing existing TH1: mmppim_OFT (Potential memory leak).\n"
       ]
      },
      {
       "output_type": "stream",
       "stream": "stderr",
       "text": [
        "WARNING:ROOT.TROOT.Append] Replacing existing TH1: mmppim_RES (Potential memory leak).\n"
       ]
      },
      {
       "output_type": "stream",
       "stream": "stderr",
       "text": [
        "WARNING:ROOT.TROOT.Append] Replacing existing TH1: mmppim_01_01 (Potential memory leak).\n"
       ]
      },
      {
       "output_type": "stream",
       "stream": "stdout",
       "text": [
        " [3] \n",
        "-----\n",
        "dbg:D before\n",
        "   top        Q2    mmppim         W\n",
        "0    2  2.091223  0.439462  1.685857\n",
        "1    3  2.456825  0.143515  1.753074\n",
        "2    2  2.136832  0.576731  1.748650\n",
        "3    2  1.976060  0.804647  1.809015\n",
        "4    2  2.132650  0.345746  1.457106\n",
        "Evaluating (df['top']==3) ...\n",
        "dbg:D after\n",
        "    top        Q2    mmppim         W\n",
        "1     3  2.456825  0.143515  1.753074\n",
        "18    3  2.282486  0.187104  1.802882\n",
        "23    3  2.016528  0.201454  1.748172\n",
        "28    3  2.330807  0.132588  1.746500\n",
        "41    3  2.153845  0.141473  1.419766\n",
        "-----\n",
        "Q2 binning \n",
        "-----\n",
        "NQ2BINS=1,Q2BINW=0.6000 GeV^2\n",
        "['1.9000', '2.5000']\n",
        "-----\n",
        "W binning \n",
        "-----\n",
        "NWBINS=1,WBINW=0.6000 GeV\n",
        "['1.3000', '1.9000']\n",
        "-----\n",
        "OUTDIR=/home/trivedia/CLAS/workspace/ana2pi/sub_studies/study_vars/q2w2/sim_nmcor_gpp-24 \n",
        "-----\n",
        "HOFT= [Hist2D('mmppim_OFT')]\n",
        "HRES= [Hist2D('mmppim_RES')]\n",
        "-----\n",
        "Importing d2pi.root -> DataFrame\n",
        "-----"
       ]
      },
      {
       "output_type": "stream",
       "stream": "stdout",
       "text": [
        "\n",
        "Going to use d2pi(sim_nmcor_gpp-25)\n",
        "File = /data/trivedia/e1f/study_vars/q2w2/sim_nmcor_gpp-25/recon/d2pi.root\n",
        "Variables to import directly into DataFrame= ['top', 'Q2', 'mmppim', 'W']\n",
        "Variables to be added later to the DataFrame []\n",
        "-----\n",
        "Topology selection: tops to be used = "
       ]
      },
      {
       "output_type": "stream",
       "stream": "stderr",
       "text": [
        "WARNING:ROOT.TROOT.Append] Replacing existing TH1: mmppim_OFT (Potential memory leak).\n"
       ]
      },
      {
       "output_type": "stream",
       "stream": "stderr",
       "text": [
        "WARNING:ROOT.TROOT.Append] Replacing existing TH1: mmppim_RES (Potential memory leak).\n"
       ]
      },
      {
       "output_type": "stream",
       "stream": "stderr",
       "text": [
        "WARNING:ROOT.TROOT.Append] Replacing existing TH1: mmppim_01_01 (Potential memory leak).\n"
       ]
      },
      {
       "output_type": "stream",
       "stream": "stdout",
       "text": [
        " [3] \n",
        "-----\n",
        "dbg:D before\n",
        "   top        Q2    mmppim         W\n",
        "0    2  1.938340  0.536518  1.516968\n",
        "1    1  2.294309  0.118803  1.866043\n",
        "2    3  2.061723  0.152421  1.786984\n",
        "3    2  1.974990  0.331186  1.488230\n",
        "4    2  2.466061  0.787408  1.774158\n",
        "Evaluating (df['top']==3) ...\n",
        "dbg:D after\n",
        "    top        Q2    mmppim         W\n",
        "2     3  2.061723  0.152421  1.786984\n",
        "6     3  1.918374  0.057542  1.847263\n",
        "16    3  2.041762  0.143391  1.678894\n",
        "17    3  2.089260  0.165961  1.806481\n",
        "20    3  2.555813  0.121902  1.462735\n",
        "-----\n",
        "Q2 binning \n",
        "-----\n",
        "NQ2BINS=1,Q2BINW=0.6000 GeV^2\n",
        "['1.9000', '2.5000']\n",
        "-----\n",
        "W binning \n",
        "-----\n",
        "NWBINS=1,WBINW=0.6000 GeV\n",
        "['1.3000', '1.9000']\n",
        "-----\n",
        "OUTDIR=/home/trivedia/CLAS/workspace/ana2pi/sub_studies/study_vars/q2w2/sim_nmcor_gpp-25 \n",
        "-----\n",
        "HOFT= [Hist2D('mmppim_OFT')]\n",
        "HRES= [Hist2D('mmppim_RES')]\n",
        "-----\n",
        "Importing d2pi.root -> DataFrame\n",
        "-----"
       ]
      },
      {
       "output_type": "stream",
       "stream": "stdout",
       "text": [
        "\n",
        "Going to use d2pi(sim_nmcor_gpp-26)\n",
        "File = /data/trivedia/e1f/study_vars/q2w2/sim_nmcor_gpp-26/recon/d2pi.root\n",
        "Variables to import directly into DataFrame= ['top', 'Q2', 'mmppim', 'W']\n",
        "Variables to be added later to the DataFrame []\n",
        "-----\n",
        "Topology selection: tops to be used = "
       ]
      },
      {
       "output_type": "stream",
       "stream": "stderr",
       "text": [
        "WARNING:ROOT.TROOT.Append] Replacing existing TH1: mmppim_OFT (Potential memory leak).\n"
       ]
      },
      {
       "output_type": "stream",
       "stream": "stderr",
       "text": [
        "WARNING:ROOT.TROOT.Append] Replacing existing TH1: mmppim_RES (Potential memory leak).\n"
       ]
      },
      {
       "output_type": "stream",
       "stream": "stderr",
       "text": [
        "WARNING:ROOT.TROOT.Append] Replacing existing TH1: mmppim_01_01 (Potential memory leak).\n"
       ]
      },
      {
       "output_type": "stream",
       "stream": "stdout",
       "text": [
        " [3] \n",
        "-----\n",
        "dbg:D before\n",
        "   top        Q2    mmppim         W\n",
        "0    2  2.480082  0.635400  1.759478\n",
        "1    2  2.088297  0.406267  1.874931\n",
        "2    2  2.283990  0.396451  1.803349\n",
        "3    3  2.393832  0.385586  1.938396\n",
        "4    2  1.918147  0.466495  1.615479\n",
        "Evaluating (df['top']==3) ...\n",
        "dbg:D after\n",
        "    top        Q2    mmppim         W\n",
        "3     3  2.393832  0.385586  1.938396\n",
        "5     3  1.900929  0.216391  1.637515\n",
        "9     3  1.938526  0.226837  1.822137\n",
        "36    3  1.996736  0.135980  1.510705\n",
        "56    3  2.101806  0.262559  1.868342\n",
        "-----\n",
        "Q2 binning \n",
        "-----\n",
        "NQ2BINS=1,Q2BINW=0.6000 GeV^2\n",
        "['1.9000', '2.5000']\n",
        "-----\n",
        "W binning \n",
        "-----\n",
        "NWBINS=1,WBINW=0.6000 GeV\n",
        "['1.3000', '1.9000']\n",
        "-----\n",
        "OUTDIR=/home/trivedia/CLAS/workspace/ana2pi/sub_studies/study_vars/q2w2/sim_nmcor_gpp-26 \n",
        "-----\n",
        "HOFT= [Hist2D('mmppim_OFT')]\n",
        "HRES= [Hist2D('mmppim_RES')]\n",
        "-----\n",
        "Importing d2pi.root -> DataFrame\n",
        "-----"
       ]
      },
      {
       "output_type": "stream",
       "stream": "stdout",
       "text": [
        "\n",
        "Going to use d2pi(sim_nmcor_gpp-27)\n",
        "File = /data/trivedia/e1f/study_vars/q2w2/sim_nmcor_gpp-27/recon/d2pi.root\n",
        "Variables to import directly into DataFrame= ['top', 'Q2', 'mmppim', 'W']\n",
        "Variables to be added later to the DataFrame []\n",
        "-----\n",
        "Topology selection: tops to be used = "
       ]
      },
      {
       "output_type": "stream",
       "stream": "stderr",
       "text": [
        "WARNING:ROOT.TROOT.Append] Replacing existing TH1: mmppim_OFT (Potential memory leak).\n"
       ]
      },
      {
       "output_type": "stream",
       "stream": "stderr",
       "text": [
        "WARNING:ROOT.TROOT.Append] Replacing existing TH1: mmppim_RES (Potential memory leak).\n"
       ]
      },
      {
       "output_type": "stream",
       "stream": "stderr",
       "text": [
        "WARNING:ROOT.TROOT.Append] Replacing existing TH1: mmppim_01_01 (Potential memory leak).\n"
       ]
      },
      {
       "output_type": "stream",
       "stream": "stdout",
       "text": [
        " [3] \n",
        "-----\n",
        "dbg:D before\n",
        "   top        Q2    mmppim         W\n",
        "0    4  2.389295  1.261670  1.755737\n",
        "1    2  2.185469  0.505758  1.806277\n",
        "2    2  1.911848  0.395008  1.759479\n",
        "3    2  2.198412  0.532566  1.523282\n",
        "4    2  2.274021  0.536714  1.785674\n",
        "Evaluating (df['top']==3) ...\n",
        "dbg:D after\n",
        "    top        Q2    mmppim         W\n",
        "11    3  2.140611  0.073703  1.683859\n",
        "17    3  2.311555  0.205876  1.842753\n",
        "19    3  2.065487  0.051120  1.752530\n",
        "20    3  2.147712  0.111238  1.697128\n",
        "26    3  2.206793  0.128750  1.723808\n",
        "-----\n",
        "Q2 binning \n",
        "-----\n",
        "NQ2BINS=1,Q2BINW=0.6000 GeV^2\n",
        "['1.9000', '2.5000']\n",
        "-----\n",
        "W binning \n",
        "-----\n",
        "NWBINS=1,WBINW=0.6000 GeV\n",
        "['1.3000', '1.9000']\n",
        "-----\n",
        "OUTDIR=/home/trivedia/CLAS/workspace/ana2pi/sub_studies/study_vars/q2w2/sim_nmcor_gpp-27 \n",
        "-----\n",
        "HOFT= [Hist2D('mmppim_OFT')]\n",
        "HRES= [Hist2D('mmppim_RES')]\n",
        "\n",
        "----OUTDIR"
       ]
      },
      {
       "output_type": "stream",
       "stream": "stdout",
       "text": [
        " q2w2/mmppim/gpp-study \n",
        "----\n"
       ]
      }
     ],
     "prompt_number": 1
    },
    {
     "cell_type": "code",
     "collapsed": false,
     "input": [
      "reload(t)\n",
      "Xmu,Xsg=t.plot_comp_var2(hX,OUTDIR,frange=(0.11,0.17))"
     ],
     "language": "python",
     "metadata": {},
     "outputs": [],
     "prompt_number": 2
    },
    {
     "cell_type": "code",
     "collapsed": false,
     "input": [
      "print Xmu"
     ],
     "language": "python",
     "metadata": {},
     "outputs": [
      {
       "output_type": "stream",
       "stream": "stdout",
       "text": [
        "OrderedDict([('exp_nmcor', [0.14310074267227438]), ('exp_ymcor', [0.14189122559008238]), ('sim_nmcor_gpp-1', [0.14612370268905206]), ('sim_nmcor_gpp-2', [0.14619660217930175]), ('sim_nmcor_gpp-3', [0.14734725542192442]), ('sim_nmcor_gpp-4', [0.1464473130826661]), ('sim_nmcor_gpp-5', [0.14627640778100925]), ('sim_nmcor_gpp-6', [0.1491220755003009]), ('sim_nmcor_gpp-7', [0.1508218861124233]), ('sim_nmcor_gpp-8', [0.15057964767528212]), ('sim_nmcor_gpp-9', [0.15249483703461614]), ('sim_nmcor_gpp-10', [0.14615690298348746]), ('sim_nmcor_gpp-11', [0.146423585828693]), ('sim_nmcor_gpp-12', [0.14915110270026358]), ('sim_nmcor_gpp-13', [0.14661700877165745]), ('sim_nmcor_gpp-14', [0.1465582451203574]), ('sim_nmcor_gpp-15', [0.14789466680545205]), ('sim_nmcor_gpp-16', [0.14950916799077527]), ('sim_nmcor_gpp-17', [0.14990231660290007]), ('sim_nmcor_gpp-18', [0.15216955987639244]), ('sim_nmcor_gpp-19', [0.14730691994208728]), ('sim_nmcor_gpp-20', [0.14787579183213556]), ('sim_nmcor_gpp-21', [0.15167291325440205]), ('sim_nmcor_gpp-22', [0.14779061238728602]), ('sim_nmcor_gpp-23', [0.14745090161103086]), ('sim_nmcor_gpp-24', [0.149940120465233]), ('sim_nmcor_gpp-25', [0.15233036475888775]), ('sim_nmcor_gpp-26', [0.15257389758799703]), ('sim_nmcor_gpp-27', [0.15299840721056746])])\n"
       ]
      }
     ],
     "prompt_number": 3
    },
    {
     "cell_type": "raw",
     "metadata": {},
     "source": [
      "Show Xmu(R) and Xsg(R)"
     ]
    },
    {
     "cell_type": "code",
     "collapsed": false,
     "input": [
      "#reload(t)\n",
      "#t.plot_varpar_vs_q2w(Xmu,Xsg,XMU)"
     ],
     "language": "python",
     "metadata": {},
     "outputs": [
      {
       "ename": "IndexError",
       "evalue": "list index out of range",
       "output_type": "pyerr",
       "traceback": [
        "\u001b[1;31m---------------------------------------------------------------------------\u001b[0m\n\u001b[1;31mIndexError\u001b[0m                                Traceback (most recent call last)",
        "\u001b[1;32m<ipython-input-11-96e16b5df0fe>\u001b[0m in \u001b[0;36m<module>\u001b[1;34m()\u001b[0m\n\u001b[0;32m      1\u001b[0m \u001b[0mreload\u001b[0m\u001b[1;33m(\u001b[0m\u001b[0mt\u001b[0m\u001b[1;33m)\u001b[0m\u001b[1;33m\u001b[0m\u001b[0m\n\u001b[1;32m----> 2\u001b[1;33m \u001b[0mt\u001b[0m\u001b[1;33m.\u001b[0m\u001b[0mplot_varpar_vs_q2w\u001b[0m\u001b[1;33m(\u001b[0m\u001b[0mXmu\u001b[0m\u001b[1;33m,\u001b[0m\u001b[0mXsg\u001b[0m\u001b[1;33m,\u001b[0m\u001b[0mXMU\u001b[0m\u001b[1;33m)\u001b[0m\u001b[1;33m\u001b[0m\u001b[0m\n\u001b[0m",
        "\u001b[1;32m/home/trivedia/CLAS/workspace/ana2pi/sub_studies/study_vars/study_vars_tools.pyc\u001b[0m in \u001b[0;36mplot_varpar_vs_q2w\u001b[1;34m(Xmu, Xsg, XMU)\u001b[0m\n\u001b[0;32m    312\u001b[0m                 \u001b[0mclr\u001b[0m\u001b[1;33m=\u001b[0m\u001b[0mnp\u001b[0m\u001b[1;33m.\u001b[0m\u001b[0mrandom\u001b[0m\u001b[1;33m.\u001b[0m\u001b[0mrand\u001b[0m\u001b[1;33m(\u001b[0m\u001b[1;36m3\u001b[0m\u001b[1;33m,\u001b[0m\u001b[1;36m1\u001b[0m\u001b[1;33m)\u001b[0m\u001b[1;33m\u001b[0m\u001b[0m\n\u001b[0;32m    313\u001b[0m                 \u001b[0max\u001b[0m\u001b[1;33m=\u001b[0m\u001b[0mplt\u001b[0m\u001b[1;33m.\u001b[0m\u001b[0msubplot\u001b[0m\u001b[1;33m(\u001b[0m\u001b[1;36m131\u001b[0m\u001b[1;33m)\u001b[0m\u001b[1;33m\u001b[0m\u001b[0m\n\u001b[1;32m--> 314\u001b[1;33m                 \u001b[0max\u001b[0m\u001b[1;33m.\u001b[0m\u001b[0mscatter\u001b[0m\u001b[1;33m(\u001b[0m\u001b[0mnp\u001b[0m\u001b[1;33m.\u001b[0m\u001b[0marange\u001b[0m\u001b[1;33m(\u001b[0m\u001b[0mlen\u001b[0m\u001b[1;33m(\u001b[0m\u001b[0mXmu\u001b[0m\u001b[1;33m[\u001b[0m\u001b[0mr\u001b[0m\u001b[1;33m]\u001b[0m\u001b[1;33m)\u001b[0m\u001b[1;33m)\u001b[0m\u001b[1;33m,\u001b[0m\u001b[0mXmu\u001b[0m\u001b[1;33m[\u001b[0m\u001b[0mr\u001b[0m\u001b[1;33m]\u001b[0m\u001b[1;33m,\u001b[0m\u001b[0mlabel\u001b[0m\u001b[1;33m=\u001b[0m\u001b[0mr\u001b[0m\u001b[1;33m,\u001b[0m\u001b[0mcolor\u001b[0m\u001b[1;33m=\u001b[0m\u001b[0mclrs\u001b[0m\u001b[1;33m[\u001b[0m\u001b[0mir\u001b[0m\u001b[1;33m]\u001b[0m\u001b[1;33m,\u001b[0m\u001b[0ms\u001b[0m\u001b[1;33m=\u001b[0m\u001b[1;36m50\u001b[0m\u001b[1;33m)\u001b[0m\u001b[1;31m#color=clrs[id])\u001b[0m\u001b[1;33m\u001b[0m\u001b[0m\n\u001b[0m\u001b[0;32m    315\u001b[0m                 \u001b[0max\u001b[0m\u001b[1;33m.\u001b[0m\u001b[0mset_ylim\u001b[0m\u001b[1;33m(\u001b[0m\u001b[0mXMU\u001b[0m\u001b[1;33m-\u001b[0m\u001b[1;36m.05\u001b[0m\u001b[1;33m,\u001b[0m\u001b[0mXMU\u001b[0m\u001b[1;33m+\u001b[0m\u001b[1;36m0.05\u001b[0m\u001b[1;33m)\u001b[0m\u001b[1;33m\u001b[0m\u001b[0m\n\u001b[0;32m    316\u001b[0m                 \u001b[0max\u001b[0m\u001b[1;33m.\u001b[0m\u001b[0mset_xlabel\u001b[0m\u001b[1;33m(\u001b[0m\u001b[1;34m\"W-bin\"\u001b[0m\u001b[1;33m)\u001b[0m\u001b[1;33m\u001b[0m\u001b[0m\n",
        "\u001b[1;31mIndexError\u001b[0m: list index out of range"
       ]
      },
      {
       "metadata": {},
       "output_type": "display_data",
       "png": "[encoded data removed]",
       "text": [
        "<matplotlib.figure.Figure at 0x7cdb8d0>"
       ]
      }
     ],
     "prompt_number": 11
    },
    {
     "cell_type": "markdown",
     "metadata": {},
     "source": [
      "In the case that the MM-cut in Simulation is not adapted to be similar to that in Experiment, the relative error in the cut-efficiency corrected Experimental yield is calculated as:\n",
      "\n",
      "$$\\frac{\\delta n}{n} = 1 - \\frac{\\epsilon^{exp}}{\\epsilon^{sim}}$$\n",
      "\n",
      "where\n",
      "\n",
      "+ $$n$$ cut-efficiency corrected Experimental yield\n",
      "+ $$\\epsilon^{exp}, \\epsilon^{sim}$$ efficiency of the MM-cut in exp and sim respectively"
     ]
    },
    {
     "cell_type": "code",
     "collapsed": false,
     "input": [
      "#reload(t)\n",
      "#t.plot_ana_varcut(Xmu,Xsg,XCUT)"
     ],
     "language": "python",
     "metadata": {},
     "outputs": [
      {
       "metadata": {},
       "output_type": "display_data",
       "png": "[encoded data removed]",
       "text": [
        "<matplotlib.figure.Figure at 0x6ebc2d0>"
       ]
      }
     ],
     "prompt_number": 7
    },
    {
     "cell_type": "code",
     "collapsed": false,
     "input": [
      "reload(t)\n",
      "t.plot_varpar_vs_R(Xmu,Xsg)"
     ],
     "language": "python",
     "metadata": {},
     "outputs": [
      {
       "metadata": {},
       "output_type": "display_data",
       "png": "[encoded data removed]",
       "text": [
        "<matplotlib.figure.Figure at 0x6fb26d0>"
       ]
      },
      {
       "metadata": {},
       "output_type": "display_data",
       "png": "[encoded data removed]",
       "text": [
        "<matplotlib.figure.Figure at 0x6fe8290>"
       ]
      }
     ],
     "prompt_number": 6
    },
    {
     "cell_type": "code",
     "collapsed": false,
     "input": [],
     "language": "python",
     "metadata": {},
     "outputs": []
    }
   ],
   "metadata": {}
  }
 ]
}