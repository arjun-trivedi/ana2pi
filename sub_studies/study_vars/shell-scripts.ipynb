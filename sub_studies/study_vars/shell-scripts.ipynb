{
 "metadata": {
  "name": ""
 },
 "nbformat": 3,
 "nbformat_minor": 0,
 "worksheets": [
  {
   "cells": [
    {
     "cell_type": "raw",
     "metadata": {},
     "source": [
      "Make d2pi.root for all 'sim-gpp-data'"
     ]
    },
    {
     "cell_type": "code",
     "collapsed": false,
     "input": [
      "rootdir=os.path.join(os.environ['STUDY_VARS_DATADIR'],\"q2w2\",\"sim_gpp_data\")\n",
      "for root, dirs, files in os.walk(rootdir):\n",
      "    for dir in dirs:\n",
      "        if dir=='recon':\n",
      "            #print root,dir\n",
      "            #print os.listdir(os.path.join(root,dir))\n",
      "            os.chdir(os.path.join(root,dir))\n",
      "            #print os.getcwd()\n",
      "            #print os.listdir(\".\")\n",
      "            if not os.path.exists(\"./h10.lst\"):\n",
      "                print \"%s/h10.lst does not exist. Going to make it\"%(os.getcwd())\n",
      "                os.system(\"make_h10lst\")\n",
      "            if not os.path.exists(\"d2pi.root\"):\n",
      "                print \"%s/d2pi.root does not exist.Going to make it\"%(os.getcwd())\n",
      "                os.system(\"make_d2pi_sim\")  \n",
      "            else:\n",
      "                print \"%s/d2pi.root exists.\"%(os.getcwd())"
     ],
     "language": "python",
     "metadata": {},
     "outputs": [
      {
       "output_type": "stream",
       "stream": "stdout",
       "text": [
        "/data/trivedia/e1f/study_vars/q2w2/sim_gpp_data/jget/q2w2_gpptest_1_053014/recon/h10.lst does not exist. Going to make it\n",
        "/data/trivedia/e1f/study_vars/q2w2/sim_gpp_data/jget/q2w2_gpptest_1_053014/recon/d2pi.root does not exist.Going to make it"
       ]
      },
      {
       "output_type": "stream",
       "stream": "stdout",
       "text": [
        "\n",
        "/data/trivedia/e1f/study_vars/q2w2/sim_gpp_data/q2w2_gpptest_18_053014/recon/d2pi.root exists."
       ]
      },
      {
       "output_type": "stream",
       "stream": "stdout",
       "text": [
        "\n",
        "/data/trivedia/e1f/study_vars/q2w2/sim_gpp_data/q2w2_gpptest_8_053014/recon/d2pi.root exists.\n",
        "/data/trivedia/e1f/study_vars/q2w2/sim_gpp_data/q2w2_gpptest_27_053014/recon/d2pi.root exists.\n",
        "/data/trivedia/e1f/study_vars/q2w2/sim_gpp_data/q2w2_gpptest_25_053014/recon/d2pi.root exists.\n",
        "/data/trivedia/e1f/study_vars/q2w2/sim_gpp_data/q2w2_gpptest_26_053014/recon/d2pi.root exists.\n",
        "/data/trivedia/e1f/study_vars/q2w2/sim_gpp_data/q2w2_gpptest_15_053014/recon/d2pi.root exists.\n",
        "/data/trivedia/e1f/study_vars/q2w2/sim_gpp_data/q2w2_gpptest_23_053014/recon/d2pi.root exists.\n",
        "/data/trivedia/e1f/study_vars/q2w2/sim_gpp_data/q2w2_gpptest_14_053014/recon/d2pi.root exists.\n",
        "/data/trivedia/e1f/study_vars/q2w2/sim_gpp_data/q2w2_gpptest_7_053014/recon/d2pi.root exists.\n",
        "/data/trivedia/e1f/study_vars/q2w2/sim_gpp_data/incorrect_q2w-range/q2w2_gpptest_25_052114/recon/d2pi.root exists.\n",
        "/data/trivedia/e1f/study_vars/q2w2/sim_gpp_data/incorrect_q2w-range/q2w2_gpptest_10_052114/recon/d2pi.root exists."
       ]
      },
      {
       "output_type": "stream",
       "stream": "stdout",
       "text": [
        "\n",
        "/data/trivedia/e1f/study_vars/q2w2/sim_gpp_data/incorrect_q2w-range/q2w2_gpptest_22_052114/recon/d2pi.root exists.\n",
        "/data/trivedia/e1f/study_vars/q2w2/sim_gpp_data/incorrect_q2w-range/q2w2_gpptest_7_052114/recon/d2pi.root exists.\n",
        "/data/trivedia/e1f/study_vars/q2w2/sim_gpp_data/incorrect_q2w-range/q2w2_gpptest_4_052114/recon/d2pi.root exists.\n",
        "/data/trivedia/e1f/study_vars/q2w2/sim_gpp_data/incorrect_q2w-range/q2w2_gpptest_18_052114/recon/d2pi.root exists.\n",
        "/data/trivedia/e1f/study_vars/q2w2/sim_gpp_data/incorrect_q2w-range/q2w2_gpptest_5_052114/recon/d2pi.root exists.\n",
        "/data/trivedia/e1f/study_vars/q2w2/sim_gpp_data/incorrect_q2w-range/q2w2_gpptest_14_052114/recon/d2pi.root exists.\n",
        "/data/trivedia/e1f/study_vars/q2w2/sim_gpp_data/incorrect_q2w-range/q2w2_gpptest_9_052114/recon/d2pi.root exists.\n",
        "/data/trivedia/e1f/study_vars/q2w2/sim_gpp_data/incorrect_q2w-range/q2w2_gpptest_8_052114/recon/d2pi.root exists.\n",
        "/data/trivedia/e1f/study_vars/q2w2/sim_gpp_data/incorrect_q2w-range/q2w2_gpptest_13_052114/recon/d2pi.root exists."
       ]
      },
      {
       "output_type": "stream",
       "stream": "stdout",
       "text": [
        "\n",
        "/data/trivedia/e1f/study_vars/q2w2/sim_gpp_data/incorrect_q2w-range/q2w2_gpptest_15_052114/recon/d2pi.root exists.\n",
        "/data/trivedia/e1f/study_vars/q2w2/sim_gpp_data/incorrect_q2w-range/q2w2_gpptest_3_052114/recon/d2pi.root exists.\n",
        "/data/trivedia/e1f/study_vars/q2w2/sim_gpp_data/incorrect_q2w-range/q2w2_gpptest_6_052114/recon/d2pi.root exists.\n",
        "/data/trivedia/e1f/study_vars/q2w2/sim_gpp_data/incorrect_q2w-range/q2w2_gpptest_16_052114/recon/d2pi.root exists.\n",
        "/data/trivedia/e1f/study_vars/q2w2/sim_gpp_data/incorrect_q2w-range/q2w2_gpptest_24_052114/recon/d2pi.root exists.\n",
        "/data/trivedia/e1f/study_vars/q2w2/sim_gpp_data/incorrect_q2w-range/q2w2_gpptest_1_052114/recon/d2pi.root exists.\n",
        "/data/trivedia/e1f/study_vars/q2w2/sim_gpp_data/incorrect_q2w-range/q2w2_gpptest_20_052114/recon/d2pi.root exists."
       ]
      },
      {
       "output_type": "stream",
       "stream": "stdout",
       "text": [
        "\n",
        "/data/trivedia/e1f/study_vars/q2w2/sim_gpp_data/incorrect_q2w-range/q2w2_gpptest_19_052114/recon/d2pi.root exists.\n",
        "/data/trivedia/e1f/study_vars/q2w2/sim_gpp_data/incorrect_q2w-range/q2w2_gpptest_26_052114/recon/d2pi.root exists.\n",
        "/data/trivedia/e1f/study_vars/q2w2/sim_gpp_data/incorrect_q2w-range/q2w2_gpptest_23_052114/recon/d2pi.root exists.\n",
        "/data/trivedia/e1f/study_vars/q2w2/sim_gpp_data/incorrect_q2w-range/q2w2_gpptest_2_052114/recon/d2pi.root exists.\n",
        "/data/trivedia/e1f/study_vars/q2w2/sim_gpp_data/incorrect_q2w-range/q2w2_gpptest_21_052114/recon/d2pi.root exists.\n",
        "/data/trivedia/e1f/study_vars/q2w2/sim_gpp_data/incorrect_q2w-range/q2w2_gpptest_12_052114/recon/d2pi.root exists.\n",
        "/data/trivedia/e1f/study_vars/q2w2/sim_gpp_data/incorrect_q2w-range/q2w2_gpptest_17_052114/recon/d2pi.root exists."
       ]
      },
      {
       "output_type": "stream",
       "stream": "stdout",
       "text": [
        "\n",
        "/data/trivedia/e1f/study_vars/q2w2/sim_gpp_data/incorrect_q2w-range/q2w2_gpptest_11_052114/recon/d2pi.root exists.\n",
        "/data/trivedia/e1f/study_vars/q2w2/sim_gpp_data/incorrect_q2w-range/q2w2_gpptest_27_052114/recon/d2pi.root exists.\n",
        "/data/trivedia/e1f/study_vars/q2w2/sim_gpp_data/q2w2_gpptest_13_053014/recon/d2pi.root exists.\n",
        "/data/trivedia/e1f/study_vars/q2w2/sim_gpp_data/q2w2_gpptest_16_053014/recon/d2pi.root exists.\n",
        "/data/trivedia/e1f/study_vars/q2w2/sim_gpp_data/q2w2_gpptest_21_053014/recon/d2pi.root exists.\n",
        "/data/trivedia/e1f/study_vars/q2w2/sim_gpp_data/q2w2_gpptest_9_053014/recon/d2pi.root exists.\n",
        "/data/trivedia/e1f/study_vars/q2w2/sim_gpp_data/q2w2_gpptest_17_053014/recon/d2pi.root exists.\n",
        "/data/trivedia/e1f/study_vars/q2w2/sim_gpp_data/q2w2_gpptest_10_053014/recon/d2pi.root exists.\n",
        "/data/trivedia/e1f/study_vars/q2w2/sim_gpp_data/q2w2_gpptest_22_053014/recon/d2pi.root exists.\n",
        "/data/trivedia/e1f/study_vars/q2w2/sim_gpp_data/q2w2_gpptest_19_053014/recon/d2pi.root exists.\n",
        "/data/trivedia/e1f/study_vars/q2w2/sim_gpp_data/q2w2_gpptest_5_053014/recon/d2pi.root exists.\n",
        "/data/trivedia/e1f/study_vars/q2w2/sim_gpp_data/q2w2_gpptest_12_053014/recon/d2pi.root exists.\n",
        "/data/trivedia/e1f/study_vars/q2w2/sim_gpp_data/q2w2_gpptest_24_053014/recon/d2pi.root exists.\n",
        "/data/trivedia/e1f/study_vars/q2w2/sim_gpp_data/q2w2_gpptest_6_053014/recon/d2pi.root exists.\n",
        "/data/trivedia/e1f/study_vars/q2w2/sim_gpp_data/q2w2_gpptest_2_053014/recon/d2pi.root exists.\n",
        "/data/trivedia/e1f/study_vars/q2w2/sim_gpp_data/q2w2_gpptest_11_053014/recon/d2pi.root exists.\n",
        "/data/trivedia/e1f/study_vars/q2w2/sim_gpp_data/q2w2_gpptest_20_053014/recon/d2pi.root exists.\n",
        "/data/trivedia/e1f/study_vars/q2w2/sim_gpp_data/q2w2_gpptest_3_053014/recon/d2pi.root exists.\n",
        "/data/trivedia/e1f/study_vars/q2w2/sim_gpp_data/q2w2_gpptest_4_053014/recon/d2pi.root exists.\n"
       ]
      }
     ],
     "prompt_number": 16
    },
    {
     "cell_type": "raw",
     "metadata": {},
     "source": [
      "\"Link\" 'sim_gpp_data'"
     ]
    },
    {
     "cell_type": "code",
     "collapsed": false,
     "input": [
      "lnkdir=os.path.join(os.environ['STUDY_VARS_DATADIR'],\"q2w2\")\n",
      "gppdir=os.path.join(os.environ['STUDY_VARS_DATADIR'],\"q2w2\",\"sim_gpp_data\")\n",
      "for root, dirs, files in os.walk(rootdir):\n",
      "    for dir in dirs:\n",
      "        if dir != 'recon':\n",
      "            gppnum=dir.split(\"_\")[2]\n",
      "            #print gppnum\n",
      "            phys_dir=\"%s/%s\"%(root,dir)\n",
      "            lnk_dir=\"%s/sim_nmcor_gpp-%s\"%(lnkdir,gppnum)\n",
      "            if os.path.exists(lnk_dir):\n",
      "                print lnk_dir,\"exists\"\n",
      "            else:\n",
      "                print lnk_dir,\"does not exist. Going to make it\"\n",
      "                print \"ln -s %s %s\"%(phys_dir,lnk_dir)\n",
      "                os.system(\"ln -s %s %s\"%(phys_dir,lnk_dir))\n",
      "            "
     ],
     "language": "python",
     "metadata": {},
     "outputs": [
      {
       "output_type": "stream",
       "stream": "stdout",
       "text": [
        "/data/trivedia/e1f/study_vars/q2w2/sim_nmcor_gpp-18 does not exist. Going to make it\n",
        "ln -s /data/trivedia/e1f/study_vars/q2w2/sim_gpp_data/q2w2_gpptest_18_053014 /data/trivedia/e1f/study_vars/q2w2/sim_nmcor_gpp-18\n",
        "/data/trivedia/e1f/study_vars/q2w2/sim_nmcor_gpp-8"
       ]
      },
      {
       "output_type": "stream",
       "stream": "stdout",
       "text": [
        " does not exist. Going to make it\n",
        "ln -s /data/trivedia/e1f/study_vars/q2w2/sim_gpp_data/q2w2_gpptest_8_053014 /data/trivedia/e1f/study_vars/q2w2/sim_nmcor_gpp-8\n",
        "/data/trivedia/e1f/study_vars/q2w2/sim_nmcor_gpp-27 does not exist. Going to make it\n",
        "ln -s /data/trivedia/e1f/study_vars/q2w2/sim_gpp_data/q2w2_gpptest_27_053014 /data/trivedia/e1f/study_vars/q2w2/sim_nmcor_gpp-27\n",
        "/data/trivedia/e1f/study_vars/q2w2/sim_nmcor_gpp-25 does not exist. Going to make it\n",
        "ln -s /data/trivedia/e1f/study_vars/q2w2/sim_gpp_data/q2w2_gpptest_25_053014 /data/trivedia/e1f/study_vars/q2w2/sim_nmcor_gpp-25\n",
        "/data/trivedia/e1f/study_vars/q2w2/sim_nmcor_gpp-26"
       ]
      },
      {
       "output_type": "stream",
       "stream": "stdout",
       "text": [
        " does not exist. Going to make it\n",
        "ln -s /data/trivedia/e1f/study_vars/q2w2/sim_gpp_data/q2w2_gpptest_26_053014 /data/trivedia/e1f/study_vars/q2w2/sim_nmcor_gpp-26\n",
        "/data/trivedia/e1f/study_vars/q2w2/sim_nmcor_gpp-15 does not exist. Going to make it\n",
        "ln -s /data/trivedia/e1f/study_vars/q2w2/sim_gpp_data/q2w2_gpptest_15_053014 /data/trivedia/e1f/study_vars/q2w2/sim_nmcor_gpp-15\n",
        "/data/trivedia/e1f/study_vars/q2w2/sim_nmcor_gpp-23 does not exist. Going to make it\n",
        "ln -s /data/trivedia/e1f/study_vars/q2w2/sim_gpp_data/q2w2_gpptest_23_053014 /data/trivedia/e1f/study_vars/q2w2/sim_nmcor_gpp-23\n",
        "/data/trivedia/e1f/study_vars/q2w2/sim_nmcor_gpp-14"
       ]
      },
      {
       "output_type": "stream",
       "stream": "stdout",
       "text": [
        " does not exist. Going to make it\n",
        "ln -s /data/trivedia/e1f/study_vars/q2w2/sim_gpp_data/q2w2_gpptest_14_053014 /data/trivedia/e1f/study_vars/q2w2/sim_nmcor_gpp-14\n",
        "/data/trivedia/e1f/study_vars/q2w2/sim_nmcor_gpp-7 does not exist. Going to make it\n",
        "ln -s /data/trivedia/e1f/study_vars/q2w2/sim_gpp_data/q2w2_gpptest_7_053014 /data/trivedia/e1f/study_vars/q2w2/sim_nmcor_gpp-7\n",
        "/data/trivedia/e1f/study_vars/q2w2/sim_nmcor_gpp-13 does not exist. Going to make it\n",
        "ln -s /data/trivedia/e1f/study_vars/q2w2/sim_gpp_data/q2w2_gpptest_13_053014 /data/trivedia/e1f/study_vars/q2w2/sim_nmcor_gpp-13\n",
        "/data/trivedia/e1f/study_vars/q2w2/sim_nmcor_gpp-16 does not exist. Going to make it\n",
        "ln -s /data/trivedia/e1f/study_vars/q2w2/sim_gpp_data/q2w2_gpptest_16_053014 /data/trivedia/e1f/study_vars/q2w2/sim_nmcor_gpp-16\n",
        "/data/trivedia/e1f/study_vars/q2w2/sim_nmcor_gpp-21"
       ]
      },
      {
       "output_type": "stream",
       "stream": "stdout",
       "text": [
        " does not exist. Going to make it\n",
        "ln -s /data/trivedia/e1f/study_vars/q2w2/sim_gpp_data/q2w2_gpptest_21_053014 /data/trivedia/e1f/study_vars/q2w2/sim_nmcor_gpp-21\n",
        "/data/trivedia/e1f/study_vars/q2w2/sim_nmcor_gpp-9 does not exist. Going to make it\n",
        "ln -s /data/trivedia/e1f/study_vars/q2w2/sim_gpp_data/q2w2_gpptest_9_053014 /data/trivedia/e1f/study_vars/q2w2/sim_nmcor_gpp-9\n",
        "/data/trivedia/e1f/study_vars/q2w2/sim_nmcor_gpp-17 does not exist. Going to make it\n",
        "ln -s /data/trivedia/e1f/study_vars/q2w2/sim_gpp_data/q2w2_gpptest_17_053014 /data/trivedia/e1f/study_vars/q2w2/sim_nmcor_gpp-17\n",
        "/data/trivedia/e1f/study_vars/q2w2/sim_nmcor_gpp-10"
       ]
      },
      {
       "output_type": "stream",
       "stream": "stdout",
       "text": [
        " does not exist. Going to make it\n",
        "ln -s /data/trivedia/e1f/study_vars/q2w2/sim_gpp_data/q2w2_gpptest_10_053014 /data/trivedia/e1f/study_vars/q2w2/sim_nmcor_gpp-10\n",
        "/data/trivedia/e1f/study_vars/q2w2/sim_nmcor_gpp-22 does not exist. Going to make it\n",
        "ln -s /data/trivedia/e1f/study_vars/q2w2/sim_gpp_data/q2w2_gpptest_22_053014 /data/trivedia/e1f/study_vars/q2w2/sim_nmcor_gpp-22\n",
        "/data/trivedia/e1f/study_vars/q2w2/sim_nmcor_gpp-19 does not exist. Going to make it\n",
        "ln -s /data/trivedia/e1f/study_vars/q2w2/sim_gpp_data/q2w2_gpptest_19_053014 /data/trivedia/e1f/study_vars/q2w2/sim_nmcor_gpp-19\n",
        "/data/trivedia/e1f/study_vars/q2w2/sim_nmcor_gpp-5"
       ]
      },
      {
       "output_type": "stream",
       "stream": "stdout",
       "text": [
        " does not exist. Going to make it\n",
        "ln -s /data/trivedia/e1f/study_vars/q2w2/sim_gpp_data/q2w2_gpptest_5_053014 /data/trivedia/e1f/study_vars/q2w2/sim_nmcor_gpp-5\n",
        "/data/trivedia/e1f/study_vars/q2w2/sim_nmcor_gpp-12 does not exist. Going to make it\n",
        "ln -s /data/trivedia/e1f/study_vars/q2w2/sim_gpp_data/q2w2_gpptest_12_053014 /data/trivedia/e1f/study_vars/q2w2/sim_nmcor_gpp-12\n",
        "/data/trivedia/e1f/study_vars/q2w2/sim_nmcor_gpp-24 does not exist. Going to make it\n",
        "ln -s /data/trivedia/e1f/study_vars/q2w2/sim_gpp_data/q2w2_gpptest_24_053014 /data/trivedia/e1f/study_vars/q2w2/sim_nmcor_gpp-24\n",
        "/data/trivedia/e1f/study_vars/q2w2/sim_nmcor_gpp-6 does not exist. Going to make it\n",
        "ln -s /data/trivedia/e1f/study_vars/q2w2/sim_gpp_data/q2w2_gpptest_6_053014 /data/trivedia/e1f/study_vars/q2w2/sim_nmcor_gpp-6\n",
        "/data/trivedia/e1f/study_vars/q2w2/sim_nmcor_gpp-2"
       ]
      },
      {
       "output_type": "stream",
       "stream": "stdout",
       "text": [
        " does not exist. Going to make it\n",
        "ln -s /data/trivedia/e1f/study_vars/q2w2/sim_gpp_data/q2w2_gpptest_2_053014 /data/trivedia/e1f/study_vars/q2w2/sim_nmcor_gpp-2\n",
        "/data/trivedia/e1f/study_vars/q2w2/sim_nmcor_gpp-1 does not exist. Going to make it\n",
        "ln -s /data/trivedia/e1f/study_vars/q2w2/sim_gpp_data/q2w2_gpptest_1_053014 /data/trivedia/e1f/study_vars/q2w2/sim_nmcor_gpp-1\n",
        "/data/trivedia/e1f/study_vars/q2w2/sim_nmcor_gpp-11 does not exist. Going to make it\n",
        "ln -s /data/trivedia/e1f/study_vars/q2w2/sim_gpp_data/q2w2_gpptest_11_053014 /data/trivedia/e1f/study_vars/q2w2/sim_nmcor_gpp-11\n",
        "/data/trivedia/e1f/study_vars/q2w2/sim_nmcor_gpp-20"
       ]
      },
      {
       "output_type": "stream",
       "stream": "stdout",
       "text": [
        " does not exist. Going to make it\n",
        "ln -s /data/trivedia/e1f/study_vars/q2w2/sim_gpp_data/q2w2_gpptest_20_053014 /data/trivedia/e1f/study_vars/q2w2/sim_nmcor_gpp-20\n",
        "/data/trivedia/e1f/study_vars/q2w2/sim_nmcor_gpp-3 does not exist. Going to make it\n",
        "ln -s /data/trivedia/e1f/study_vars/q2w2/sim_gpp_data/q2w2_gpptest_3_053014 /data/trivedia/e1f/study_vars/q2w2/sim_nmcor_gpp-3\n",
        "/data/trivedia/e1f/study_vars/q2w2/sim_nmcor_gpp-4 does not exist. Going to make it\n",
        "ln -s /data/trivedia/e1f/study_vars/q2w2/sim_gpp_data/q2w2_gpptest_4_053014 /data/trivedia/e1f/study_vars/q2w2/sim_nmcor_gpp-4\n"
       ]
      }
     ],
     "prompt_number": 19
    },
    {
     "cell_type": "code",
     "collapsed": false,
     "input": [],
     "language": "python",
     "metadata": {},
     "outputs": []
    }
   ],
   "metadata": {}
  }
 ]
}