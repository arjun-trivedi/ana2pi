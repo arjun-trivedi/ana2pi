{
 "metadata": {
  "name": ""
 },
 "nbformat": 3,
 "nbformat_minor": 0,
 "worksheets": [
  {
   "cells": [
    {
     "cell_type": "code",
     "collapsed": false,
     "input": [
      "# zipped['exp_nmcor'] = zip(Xmu['exp_nmcor'],Xsg['exp_nmcor'])\n",
      "# zipped['exp_ymcor'] = zip(Xmu['exp_ymcor'],Xsg['exp_ymcor'])\n",
      "# zipped['sim_nmcor'] = zip(Xmu['sim_nmcor'],Xsg['sim_nmcor'])\n",
      "#print zipped\n",
      "# rv={}#rv(r)\n",
      "# eff={}\n",
      "# #for i in zipped:\n",
      "# #    print i[0],i[1]\n",
      "# rv['exp_nmcor']=[stats.norm(i[0],i[1]) for i in zipped['exp_nmcor']]\n",
      "# rv['exp_ymcor']=[stats.norm(i[0],i[1]) for i in zipped['exp_ymcor']]\n",
      "# rv['sim_nmcor']=[stats.norm(i[0],i[1]) for i in zipped['sim_nmcor']]\n",
      "\n",
      "# eff['exp_nmcor']=np.array([quad(i.pdf,0,0.2)[0] for i in rv['exp_nmcor']])\n",
      "# eff['exp_ymcor']=np.array([quad(i.pdf,0,0.2)[0] for i in rv['exp_ymcor']])\n",
      "# eff['sim_nmcor']=np.array([quad(i.pdf,0,0.2)[0] for i in rv['sim_nmcor']])\n",
      "#err=(eff['sim_nmcor']-eff['exp_nmcor'])/eff['exp_nmcor']\n",
      "#err=eff['sim_nmcor']-eff['exp_nmcor']"
     ],
     "language": "python",
     "metadata": {},
     "outputs": []
    }
   ],
   "metadata": {}
  }
 ]
}