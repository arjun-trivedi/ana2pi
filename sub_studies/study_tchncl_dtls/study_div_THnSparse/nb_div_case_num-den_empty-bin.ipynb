{
 "metadata": {
  "name": ""
 },
 "nbformat": 3,
 "nbformat_minor": 0,
 "worksheets": [
  {
   "cells": [
    {
     "cell_type": "code",
     "collapsed": false,
     "input": [
      "'''\n",
      "[10-31-27] In this I show two important cased when dividing THnSparse histograms:\n",
      "\n",
      "1. X/empty-bin = 0\n",
      "WARNING:ROOT.THnSparseT<TArrayF>.Divide(h):Histogram h has empty bins - division by zero!\n",
      "Setting bin to 0.\n",
      "\n",
      "2. empty-bin/X = empty-bin  => 'nbins' NOT incremented (returned from THnSparse::GetNbins())\n",
      "\n",
      "Consequences of 2:\n",
      "i.  Because of 1., EC=ER/SA works out Ok\n",
      "ii. However, has to be kept in mind while tracking SA statistics because such bins are\n",
      "    not obtained from THnSparse::GetNbins() and therefore many bins where SA=0 are missed.\n",
      "'''"
     ],
     "language": "python",
     "metadata": {},
     "outputs": []
    },
    {
     "cell_type": "code",
     "collapsed": false,
     "input": [
      "from __future__ import division\n",
      "from ROOT import THnSparseF, gROOT, gStyle, TCanvas\n",
      "import rootnotes\n",
      "\n",
      "from array import array\n",
      "\n",
      "ROOT.gROOT.ProcessLine(\".L THnTool.C+\")\n",
      "from ROOT import THnTool\n",
      "\n",
      "# Tools \n",
      "thntool=THnTool()\n",
      "\n",
      "gStyle.SetOptStat(\"nemMrRuoi\")\n",
      "\n",
      "hdim = 8\n",
      "bins = array('i',[10, 10, 10, 10, 10, 10, 10, 10])\n",
      "xmin = array('d',[1,  1,  1,  1,  1,  1,  1,  1])\n",
      "xmax = array('d',[11, 11, 11, 11, 11, 11, 11, 11])\n",
      "\n",
      "h8A=THnSparseF(\"h8A\", \"8D THnSparse\", hdim, bins, xmin, xmax)\n",
      "h8A.Sumw2();\n",
      "\n",
      "h8B=THnSparseF(\"h8B\", \"8D THnSparse\", hdim, bins, xmin, xmax)\n",
      "h8B.Sumw2();\n",
      "\n",
      "#Fill\n",
      "coord1=array('d',[1, 1, 1, 1, 1, 1, 1, 1])\n",
      "coord2=array('d',[2, 1, 1, 1, 1, 1, 1, 1])\n",
      "for i in range(10):\n",
      "    h8A.Fill(coord1)\n",
      "for i in range(20):\n",
      "    h8B.Fill(coord2)\n",
      "c=rootnotes.default_canvas(name=\"c\",size=(800,300))\n",
      "c.Divide(2,1)\n",
      "c.cd(1)\n",
      "h8A.Projection(0,\"E1\").Draw()\n",
      "c.cd(2)\n",
      "h8B.Projection(0,\"E1\").Draw()\n",
      "nbinsA=h8A.GetNbins()\n",
      "nbinsB=h8B.GetNbins()\n",
      "print \"nbinsA,nbinsB=\",nbinsA,nbinsB\n",
      "c"
     ],
     "language": "python",
     "metadata": {},
     "outputs": [
      {
       "output_type": "stream",
       "stream": "stderr",
       "text": [
        "INFO:ROOT.TCanvas.Print:png file /tmp/tmp8lLAjA.png has been created\n"
       ]
      },
      {
       "output_type": "stream",
       "stream": "stdout",
       "text": [
        "nbinsA,nbinsB= 1 1\n"
       ]
      },
      {
       "metadata": {},
       "output_type": "pyout",
       "png": "[encoded data removed]",
       "prompt_number": 1,
       "text": [
        "<ROOT.TCanvas object (\"c\") at 0x2f1dd70>"
       ]
      }
     ],
     "prompt_number": 1
    },
    {
     "cell_type": "code",
     "collapsed": false,
     "input": [
      "h8C=h8A.Clone(\"h8C\")\n",
      "c1=rootnotes.default_canvas(name=\"c1\",size=(500,400))\n",
      "h8C.Projection(0,\"E1\").Draw()\n",
      "nbinsC=h8C.GetNbins()\n",
      "print \"nbinsC=\",nbinsC\n",
      "c1"
     ],
     "language": "python",
     "metadata": {},
     "outputs": [
      {
       "output_type": "stream",
       "stream": "stderr",
       "text": [
        "INFO:ROOT.TCanvas.Print:png file /tmp/tmpY1KaKj.png has been created\n"
       ]
      },
      {
       "output_type": "stream",
       "stream": "stdout",
       "text": [
        "nbinsC= 1\n"
       ]
      },
      {
       "metadata": {},
       "output_type": "pyout",
       "png": "[encoded data removed]",
       "prompt_number": 2,
       "text": [
        "<ROOT.TCanvas object (\"c1\") at 0x3691ad0>"
       ]
      }
     ],
     "prompt_number": 2
    },
    {
     "cell_type": "code",
     "collapsed": false,
     "input": [
      "h8C.Divide(h8B)\n",
      "c2=rootnotes.default_canvas(name=\"c2\",size=(500,400))\n",
      "h8C.Projection(0,\"E1\").Draw()\n",
      "nbinsC=h8C.GetNbins()\n",
      "print \"nbinsC=\",nbinsC\n",
      "c2"
     ],
     "language": "python",
     "metadata": {},
     "outputs": [
      {
       "output_type": "stream",
       "stream": "stderr",
       "text": [
        "WARNING:ROOT.THnSparseT<TArrayF>.Divide(h):Histogram h has empty bins - division by zero! Setting bin to 0.\n"
       ]
      },
      {
       "output_type": "stream",
       "stream": "stderr",
       "text": [
        "WARNING:ROOT.TROOT.Append:Replacing existing TH1: h8C_proj_0 (Potential memory leak).\n"
       ]
      },
      {
       "output_type": "stream",
       "stream": "stderr",
       "text": [
        "INFO:ROOT.TCanvas.Print:png file /tmp/tmpeLusb1.png has been created\n"
       ]
      },
      {
       "output_type": "stream",
       "stream": "stdout",
       "text": [
        "nbinsC= 1\n"
       ]
      },
      {
       "metadata": {},
       "output_type": "pyout",
       "png": "[encoded data removed]",
       "prompt_number": 3,
       "text": [
        "<ROOT.TCanvas object (\"c2\") at 0x387fec0>"
       ]
      }
     ],
     "prompt_number": 3
    },
    {
     "cell_type": "code",
     "collapsed": false,
     "input": [],
     "language": "python",
     "metadata": {},
     "outputs": []
    }
   ],
   "metadata": {}
  }
 ]
}