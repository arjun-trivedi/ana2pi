{
 "metadata": {
  "name": ""
 },
 "nbformat": 3,
 "nbformat_minor": 0,
 "worksheets": [
  {
   "cells": [
    {
     "cell_type": "code",
     "collapsed": false,
     "input": [
      "'''\n",
      "[11-02-27] In this I show two important cased when dividing THnSparse histograms:\n",
      "\n",
      "1. X/0 = 0\n",
      "WARNING:ROOT.THnSparseT<TArrayF>.Divide(h):Histogram h has empty bins - division by zero!\n",
      "Setting bin to 0.\n",
      "\n",
      "2. 0/X = empty-bin  => 'nbins' NOT incremented (returned from THnSparse::GetNbins())\n",
      "'''"
     ],
     "language": "python",
     "metadata": {},
     "outputs": [
      {
       "metadata": {},
       "output_type": "pyout",
       "prompt_number": 1,
       "text": [
        "\"\\n[11-02-27] In this I show two important cased when dividing THnSparse histograms:\\n\\n1. X/0 = 0\\nWARNING:ROOT.THnSparseT<TArrayF>.Divide(h):Histogram h has empty bins - division by zero!\\nSetting bin to 0.\\n\\n2. 0/X = empty-bin  => 'nbins' NOT incremented (returned from THnSparse::GetNbins())\\n\""
       ]
      }
     ],
     "prompt_number": 1
    },
    {
     "cell_type": "code",
     "collapsed": false,
     "input": [
      "from __future__ import division\n",
      "from ROOT import THnSparseF, gROOT, gStyle, TCanvas\n",
      "import rootnotes\n",
      "\n",
      "from array import array\n",
      "\n",
      "ROOT.gROOT.ProcessLine(\".L THnTool.C+\")\n",
      "from ROOT import THnTool\n",
      "\n",
      "# Tools \n",
      "thntool=THnTool()\n",
      "\n",
      "gStyle.SetOptStat(\"nemMrRuoi\")\n",
      "\n",
      "hdim = 8\n",
      "bins = array('i',[10, 10, 10, 10, 10, 10, 10, 10])\n",
      "xmin = array('d',[1,  1,  1,  1,  1,  1,  1,  1])\n",
      "xmax = array('d',[11, 11, 11, 11, 11, 11, 11, 11])\n",
      "\n",
      "h8A=THnSparseF(\"h8A\", \"8D THnSparse\", hdim, bins, xmin, xmax)\n",
      "h8A.Sumw2();\n",
      "\n",
      "h8B=THnSparseF(\"h8B\", \"8D THnSparse\", hdim, bins, xmin, xmax)\n",
      "h8B.Sumw2();\n",
      "\n",
      "#Fill with X as appropriate for test case\n",
      "coord1=array('d',[1, 1, 1, 1, 1, 1, 1, 1])\n",
      "coord2=array('d',[2, 1, 1, 1, 1, 1, 1, 1])\n",
      "for i in range(10):\n",
      "    h8A.Fill(coord1)\n",
      "for i in range(20):\n",
      "    h8B.Fill(coord2)\n",
      "# Fill with 0 as appropriate for test case\n",
      "h8A.Fill(coord2,0)\n",
      "h8B.Fill(coord1,0)\n",
      "#Draw\n",
      "c=rootnotes.default_canvas(name=\"c\",size=(800,300))\n",
      "c.Divide(2,1)\n",
      "c.cd(1)\n",
      "h8A.Projection(0,\"E1\").Draw()\n",
      "c.cd(2)\n",
      "h8B.Projection(0,\"E1\").Draw()\n",
      "nbinsA=h8A.GetNbins()\n",
      "nbinsB=h8B.GetNbins()\n",
      "print \"nbinsA,nbinsB=\",nbinsA,nbinsB\n",
      "c"
     ],
     "language": "python",
     "metadata": {},
     "outputs": [
      {
       "output_type": "stream",
       "stream": "stderr",
       "text": [
        "INFO:ROOT.TCanvas.Print:png file /tmp/tmp7ayK2D.png has been created\n"
       ]
      },
      {
       "output_type": "stream",
       "stream": "stdout",
       "text": [
        "nbinsA,nbinsB= 2 2\n"
       ]
      },
      {
       "metadata": {},
       "output_type": "pyout",
       "png": "[encoded data removed]",
       "prompt_number": 2,
       "text": [
        "<ROOT.TCanvas object (\"c\") at 0x31ea930>"
       ]
      }
     ],
     "prompt_number": 2
    },
    {
     "cell_type": "code",
     "collapsed": false,
     "input": [
      "h8C=h8A.Clone(\"h8C\")\n",
      "c1=rootnotes.default_canvas(name=\"c1\",size=(500,400))\n",
      "h8C.Projection(0,\"E1\").Draw()\n",
      "nbinsC=h8C.GetNbins()\n",
      "print \"nbinsC=\",nbinsC\n",
      "c1"
     ],
     "language": "python",
     "metadata": {},
     "outputs": [
      {
       "output_type": "stream",
       "stream": "stderr",
       "text": [
        "INFO:ROOT.TCanvas.Print:png file /tmp/tmplN9_e_.png has been created\n"
       ]
      },
      {
       "output_type": "stream",
       "stream": "stdout",
       "text": [
        "nbinsC= 2\n"
       ]
      },
      {
       "metadata": {},
       "output_type": "pyout",
       "png": "[encoded data removed]",
       "prompt_number": 2,
       "text": [
        "<ROOT.TCanvas object (\"c1\") at 0x47dd490>"
       ]
      }
     ],
     "prompt_number": 2
    },
    {
     "cell_type": "code",
     "collapsed": false,
     "input": [
      "h8C.Divide(h8B)\n",
      "c2=rootnotes.default_canvas(name=\"c2\",size=(500,400))\n",
      "h8C.Projection(0,\"E1\").Draw()\n",
      "nbinsC=h8C.GetNbins()\n",
      "print \"nbinsC=\",nbinsC\n",
      "c2"
     ],
     "language": "python",
     "metadata": {},
     "outputs": [
      {
       "output_type": "stream",
       "stream": "stderr",
       "text": [
        "WARNING:ROOT.THnSparseT<TArrayF>.Divide(h):Histogram h has empty bins - division by zero! Setting bin to 0.\n"
       ]
      },
      {
       "output_type": "stream",
       "stream": "stderr",
       "text": [
        "WARNING:ROOT.TROOT.Append:Replacing existing TH1: h8C_proj_0 (Potential memory leak).\n"
       ]
      },
      {
       "output_type": "stream",
       "stream": "stderr",
       "text": [
        "INFO:ROOT.TCanvas.Print:png file /tmp/tmpDJwyy_.png has been created\n"
       ]
      },
      {
       "output_type": "stream",
       "stream": "stdout",
       "text": [
        "nbinsC= 2\n"
       ]
      },
      {
       "metadata": {},
       "output_type": "pyout",
       "png": "[encoded data removed]",
       "prompt_number": 3,
       "text": [
        "<ROOT.TCanvas object (\"c2\") at 0x49cb3d0>"
       ]
      }
     ],
     "prompt_number": 3
    },
    {
     "cell_type": "code",
     "collapsed": false,
     "input": [],
     "language": "python",
     "metadata": {},
     "outputs": []
    }
   ],
   "metadata": {}
  }
 ]
}