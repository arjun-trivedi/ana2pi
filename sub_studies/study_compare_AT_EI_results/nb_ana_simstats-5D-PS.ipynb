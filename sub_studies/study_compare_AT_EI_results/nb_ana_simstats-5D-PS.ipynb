{
 "metadata": {
  "name": ""
 },
 "nbformat": 3,
 "nbformat_minor": 0,
 "worksheets": [
  {
   "cells": [
    {
     "cell_type": "code",
     "collapsed": false,
     "input": [
      "from __future__ import division\n",
      "import os,sys,datetime\n",
      "from collections import OrderedDict\n",
      "import array\n",
      "\n",
      "import ROOT\n",
      "\n",
      "from rootpy.io import root_open, DoesNotExist\n",
      "\n",
      "import math\n",
      "\n",
      "import numpy as np\n",
      "import matplotlib.pyplot as plt\n",
      "\n",
      "import itertools\n",
      "\n",
      "#! imports from proc_h8.py\n",
      "sys.path.insert(0, '%s/elast_lite/obs_2pi'%os.environ['ANA2PI'])\n",
      "from proc_h8 import H5_DIM\n",
      "H4_PROJDIM=array.array('i',[H5_DIM['M1'],H5_DIM['M2'],H5_DIM['PHI'],H5_DIM['ALPHA']])\n",
      "from disp_obs import VAR_NAMES_PLAIN\n",
      "\n",
      "#! Set up THnTool\n",
      "ROOT.gROOT.ProcessLine(\".L THnTool.C+\")\n",
      "from ROOT import THnTool\n",
      "thntool=THnTool()"
     ],
     "language": "python",
     "metadata": {},
     "outputs": [
      {
       "output_type": "stream",
       "stream": "stderr",
       "text": [
        "/usr/lib/python2.7/dist-packages/scipy/sparse/csgraph/__init__.py:148: RuntimeWarning: numpy.dtype size changed, may indicate binary incompatibility\n",
        "  from ._shortest_path import shortest_path, floyd_warshall, dijkstra,\\\n",
        "/usr/lib/python2.7/dist-packages/scipy/sparse/csgraph/_validation.py:5: RuntimeWarning: numpy.dtype size changed, may indicate binary incompatibility\n",
        "  from ._tools import csgraph_to_dense, csgraph_from_dense,\\\n",
        "/usr/lib/python2.7/dist-packages/scipy/sparse/csgraph/__init__.py:150: RuntimeWarning: numpy.dtype size changed, may indicate binary incompatibility\n",
        "  from ._traversal import breadth_first_order, depth_first_order, \\\n",
        "/usr/lib/python2.7/dist-packages/scipy/sparse/csgraph/__init__.py:152: RuntimeWarning: numpy.dtype size changed, may indicate binary incompatibility\n",
        "  from ._min_spanning_tree import minimum_spanning_tree\n",
        "INFO:ROOT.ACLiC:unmodified script has already been compiled and loaded\n"
       ]
      },
      {
       "output_type": "stream",
       "stream": "stderr",
       "text": [
        "INFO:ROOT.ACLiC:unmodified script has already been compiled and loaded\n"
       ]
      }
     ],
     "prompt_number": 1
    },
    {
     "cell_type": "code",
     "collapsed": false,
     "input": [
      "NSIM=6\n",
      "SIMNAME=['sim4','sim4_sim5', 'sim4_sim5_sim6',  'sim4_sim5_sim6_sim7','sim4_sim5_sim6_sim7_sim8','sim4_sim5_sim6_sim7_sim8_sim13']\n",
      "FYLD=[0 for i in range(NSIM)]"
     ],
     "language": "python",
     "metadata": {},
     "outputs": [],
     "prompt_number": 2
    },
    {
     "cell_type": "code",
     "collapsed": false,
     "input": [
      "for isim in range(NSIM):\n",
      "    if isim==0: date='102717'\n",
      "    else:       date='102617'\n",
      "    FYLD[isim]=ROOT.TFile('%s/lowQ2_SSBands_off_off_%s_%s/cutsncors1/%s/yield.root'%(os.environ['OBSDIR_E16'],SIMNAME[isim],date,SIMNAME[isim]),'r')    "
     ],
     "language": "python",
     "metadata": {},
     "outputs": [],
     "prompt_number": 3
    },
    {
     "cell_type": "code",
     "collapsed": false,
     "input": [
      "q2wbin='2.00-2.40_1.500-1.525'\n",
      "h5=[OrderedDict() for isim in range(NSIM)]\n",
      "for isim in range(NSIM):\n",
      "\t#! Get h5\n",
      "\tfor seq in ['ST','SR','SA','ER']:\n",
      "\t\th5[isim][seq]=FYLD[isim].Get(\"%s/%s/VST%d/h5\"%(q2wbin,seq,1))\n"
     ],
     "language": "python",
     "metadata": {},
     "outputs": [],
     "prompt_number": 4
    },
    {
     "cell_type": "code",
     "collapsed": false,
     "input": [
      "#! Get 5D-PS-dist\n",
      "bng=OrderedDict()\n",
      "bng['ER']=[6,    -0.5, 5.5]\n",
      "bng['SA']=[1000, -0.5,   0.5]\n",
      "bng['SR']=[6,    -0.5, 5.5]#[100,  0.5,   100.5] #500\n",
      "bng['ST']=[6,    -0.5, 5.5]#[0,    0,   0] #! default binning\n",
      "h1=[OrderedDict() for isim in range(NSIM)]\n",
      "h1STCB =[OrderedDict() for isim in range(NSIM)]\n",
      "h1STCB2=[OrderedDict() for isim in range(NSIM)]\n",
      "h1ERCB =[OrderedDict() for isim in range(NSIM)]\n",
      "h1ERCB2=[OrderedDict() for isim in range(NSIM)]\n",
      "statsCB2=[np.zeros(2,'f') for isim in range(NSIM)]\n",
      "for isim in range(NSIM):\n",
      "    if isim!=5: continue\n",
      "    for seq in ['ST','SR','SA','ER']:\n",
      "        nbins,xmin,xmax=bng[seq][0],bng[seq][1],bng[seq][2]\n",
      "        h1[isim][seq]=thntool.GetBinContentDist(h5[isim][seq],nbins,xmin,xmax)\n",
      "        h1[isim][seq].SetTitle(seq)\n",
      "        if seq=='ER' or seq=='ST' or seq=='SR': continue\n",
      "        #h1STCB[isim][seq] =thntool.GetBinContentDistCommonBins(h5[isim][seq],h5[isim]['ST'],nbins,xmin,xmax)\n",
      "        #h1STCB2[isim][seq]=thntool.GetBinContentDistCommonBins2(h5[isim][seq],h5[isim]['ST'],nbins,xmin,xmax)\n",
      "        #h1ERCB[isim][seq] =thntool.GetBinContentDistCommonBins(h5[isim][seq],h5[isim]['ER'],nbins,xmin,xmax)\n",
      "        h1ERCB2[isim][seq]=thntool.GetBinContentDistCommonBins2(h5[isim][seq],h5[isim]['ER'],statsCB2[isim],nbins,xmin,xmax)\n",
      "        #! Set title of h1ERCB2\n",
      "        filledbins,emptybins=statsCB2[isim][0],statsCB2[isim][1]\n",
      "        ratio=emptybins/filledbins\n",
      "        h1ERCB2[isim][seq].SetTitle(\"filled-bins,empty-bins,ratio=%.f,%.f,%.3f\"%(filledbins,emptybins,ratio))"
     ],
     "language": "python",
     "metadata": {},
     "outputs": [
      {
       "output_type": "stream",
       "stream": "stderr",
       "text": [
        "WARNING:ROOT.TFile.Append:Replacing existing TH1: h5_BinContentDist (Potential memory leak).\n"
       ]
      },
      {
       "output_type": "stream",
       "stream": "stderr",
       "text": [
        "WARNING:ROOT.TFile.Append:Replacing existing TH1: h5_BinContentDist (Potential memory leak).\n"
       ]
      },
      {
       "output_type": "stream",
       "stream": "stderr",
       "text": [
        "WARNING:ROOT.TFile.Append:Replacing existing TH1: h5_BinContentDist (Potential memory leak).\n"
       ]
      },
      {
       "output_type": "stream",
       "stream": "stderr",
       "text": [
        "WARNING:ROOT.TFile.Append:Replacing existing TH1: h5_BinContentDist (Potential memory leak).\n"
       ]
      },
      {
       "output_type": "stream",
       "stream": "stderr",
       "text": [
        "WARNING:ROOT.TFile.Append:Replacing existing TH1: h5_BinContentDist (Potential memory leak).\n"
       ]
      }
     ],
     "prompt_number": 8
    },
    {
     "cell_type": "code",
     "collapsed": false,
     "input": [
      "ROOT.gStyle.Reset()\n",
      "ROOT.gStyle.SetOptStat(\"nmMrReiuo\")\n",
      "c=ROOT.TCanvas()\n",
      "c.Divide(2,2)\n",
      "for iseq,seq in enumerate(['ST','SR','SA','ER']):\n",
      "    c.cd(iseq+1)\n",
      "    #h1[0][seq].Draw()\n",
      "    h1[5][seq].Draw()"
     ],
     "language": "python",
     "metadata": {},
     "outputs": [],
     "prompt_number": 9
    },
    {
     "cell_type": "code",
     "collapsed": false,
     "input": [
      "c1=ROOT.TCanvas(\"c2\",\"c2\")\n",
      "c1.Divide(2,1)\n",
      "c1.cd(1)\n",
      "#h1STCB[0]['SA'].Draw()\n",
      "#h1STCB[5]['SA'].Draw()\n",
      "#h1ERCB[0]['SA'].Draw()\n",
      "#h1ERCB[5]['SA'].Draw()\n",
      "c1.cd(2)\n",
      "#h1STCB2[0]['SA'].Draw()\n",
      "#h1STCB2[5]['SA'].Draw()\n",
      "#h1ERCB2[0]['SA'].Draw()\n",
      "h1ERCB2[5]['SA'].Draw()\n"
     ],
     "language": "python",
     "metadata": {},
     "outputs": [
      {
       "output_type": "stream",
       "stream": "stderr",
       "text": [
        "WARNING:ROOT.TCanvas.Constructor:Deleting canvas with same name: c2\n"
       ]
      }
     ],
     "prompt_number": 10
    },
    {
     "cell_type": "code",
     "collapsed": false,
     "input": [
      "for seq in ['ST','SR','SA','ER']:\n",
      "    print \"*** seq= ***\",seq\n",
      "    nbinsnot0=thntool.GetNbinsNotEq0(h5[5][seq])\n",
      "    nbins0=thntool.GetNbinsEq0(h5[5][seq])\n",
      "    nbins=h5[0][seq].GetNbins()\n",
      "    print \"nbinsnot0,nbins0,nbinsnot0+nbins0:\",nbinsnot0,nbins0,nbinsnot0+nbins0\n",
      "    print \"nbins:\",nbins"
     ],
     "language": "python",
     "metadata": {},
     "outputs": [
      {
       "output_type": "stream",
       "stream": "stdout",
       "text": [
        "*** seq= *** ST\n",
        "nbinsnot0,nbins0,nbinsnot0+nbins0: 126524 406 126930\n",
        "nbins: 119655\n",
        "*** seq= *** SR\n",
        "nbinsnot0,nbins0,nbinsnot0+nbins0: 109435 6654 116089\n",
        "nbins: 57318\n",
        "*** seq= *** SA\n",
        "nbinsnot0,nbins0,nbinsnot0+nbins0: 105278 10811 116089\n",
        "nbins: 57318\n",
        "*** seq= *** ER\n",
        "nbinsnot0,nbins0,nbinsnot0+nbins0: 5570 134 5704\n",
        "nbins: 5704\n"
       ]
      }
     ],
     "prompt_number": 35
    },
    {
     "cell_type": "code",
     "collapsed": false,
     "input": [],
     "language": "python",
     "metadata": {},
     "outputs": []
    }
   ],
   "metadata": {}
  }
 ]
}