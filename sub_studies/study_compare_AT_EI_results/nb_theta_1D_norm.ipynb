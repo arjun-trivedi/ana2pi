{
 "metadata": {
  "name": ""
 },
 "nbformat": 3,
 "nbformat_minor": 0,
 "worksheets": [
  {
   "cells": [
    {
     "cell_type": "code",
     "collapsed": false,
     "input": [
      "from __future__ import division\n",
      "import math\n",
      "binw=18\n",
      "binle=arange(0,180,binw)\n",
      "#print binle\n",
      "\n",
      "#norm=[0 for i in range(len(binle))]\n",
      "DCosTheta=[0 for i in range(len(binle))]\n",
      "SinThetaDTheta=[0 for i in range(len(binle))]\n",
      "for i,x in enumerate(binle):\n",
      "    #print i,x\n",
      "    theta_a,theta_b=x,x+binw\n",
      "    binc=theta_a+binw/2\n",
      "    #print binc\n",
      "    #print theta_a,theta_b\n",
      "    DCosTheta[i]=math.fabs(math.cos(math.radians(theta_b))-math.cos(math.radians(theta_a)))\n",
      "    SinThetaDTheta[i]=math.fabs(math.sin(math.radians(binc))*(math.radians(theta_b)-math.radians(theta_a)))\n",
      "    #norm[i]=DCosTheta\n",
      "#print norm\n",
      "\n",
      "#! Rel diff xsec = (N/DCosTheta - N/SinThetaDTheta)/N/DCosTheta\n",
      "rel_diff_xsec=[(1/x-1/y)/(1/x) for x,y in zip(DCosTheta,SinThetaDTheta)]\n",
      "\n",
      "#plt.scatter(binle,DCosTheta,c='r')\n",
      "#plt.scatter(binle,SinThetaDTheta,c='b')\n",
      "plt.scatter(binle,rel_diff_xsec,c='g')\n",
      "#! Fix x axis\n",
      "# shift half a step to the left\n",
      "xmin=(3*binle[0]-binle[1])/2.\n",
      "# shift half a step to the right\n",
      "xmax=(3*binle[-1]-binle[-2])/2.\n",
      "plt.xlim(xmin,xmax)\n",
      "plt.grid()\n"
     ],
     "language": "python",
     "metadata": {},
     "outputs": [
      {
       "output_type": "stream",
       "stream": "stderr",
       "text": [
        "/usr/lib/pymodules/python2.7/matplotlib/collections.py:548: FutureWarning: elementwise comparison failed; returning scalar instead, but in the future will perform elementwise comparison\n",
        "  if self._edgecolors == 'face':\n"
       ]
      },
      {
       "metadata": {},
       "output_type": "display_data",
       "png": "[encoded data removed]",
       "text": [
        "<matplotlib.figure.Figure at 0x7fe162797f50>"
       ]
      }
     ],
     "prompt_number": 1
    },
    {
     "cell_type": "code",
     "collapsed": false,
     "input": [
      "math.fabs(math.cos(math.radians(18))-math.cos(math.radians(0)))"
     ],
     "language": "python",
     "metadata": {},
     "outputs": [
      {
       "metadata": {},
       "output_type": "pyout",
       "prompt_number": 22,
       "text": [
        "0.04894348370484647"
       ]
      }
     ],
     "prompt_number": 22
    },
    {
     "cell_type": "code",
     "collapsed": false,
     "input": [],
     "language": "python",
     "metadata": {},
     "outputs": []
    }
   ],
   "metadata": {}
  }
 ]
}