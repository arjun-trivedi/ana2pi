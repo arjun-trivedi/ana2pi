{
 "metadata": {
  "name": ""
 },
 "nbformat": 3,
 "nbformat_minor": 0,
 "worksheets": [
  {
   "cells": [
    {
     "cell_type": "code",
     "collapsed": false,
     "input": [
      "import math\n",
      "binw=18\n",
      "binle=arange(0,180,binw)\n",
      "#print binle\n",
      "\n",
      "norm=[0 for i in range(len(binle))]\n",
      "for i,x in enumerate(binle):\n",
      "    #print i,x\n",
      "    theta_a,theta_b=x,x+binw\n",
      "    #print theta_a,theta_b\n",
      "    DCosTheta=math.fabs(math.cos(math.radians(theta_b))-math.cos(math.radians(theta_a)))\n",
      "    norm[i]=DCosTheta\n",
      "#print norm\n",
      "    \n",
      "plt.scatter(binle,norm)\n",
      "#! Fix x axis\n",
      "# shift half a step to the left\n",
      "xmin=(3*binle[0]-binle[1])/2.\n",
      "# shift half a step to the right\n",
      "xmax=(3*binle[-1]-binle[-2])/2.\n",
      "plt.xlim(xmin,xmax)\n",
      "plt.grid()\n"
     ],
     "language": "python",
     "metadata": {},
     "outputs": [
      {
       "metadata": {},
       "output_type": "display_data",
       "png": "[encoded data removed]",
       "text": [
        "<matplotlib.figure.Figure at 0x7f70aeab5150>"
       ]
      }
     ],
     "prompt_number": 2
    },
    {
     "cell_type": "code",
     "collapsed": false,
     "input": [],
     "language": "python",
     "metadata": {},
     "outputs": []
    }
   ],
   "metadata": {}
  }
 ]
}