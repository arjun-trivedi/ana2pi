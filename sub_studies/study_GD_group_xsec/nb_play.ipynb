{
 "metadata": {
  "name": ""
 },
 "nbformat": 3,
 "nbformat_minor": 0,
 "worksheets": [
  {
   "cells": [
    {
     "cell_type": "code",
     "collapsed": false,
     "input": [
      "from scipy import integrate\n",
      "from __future__ import division"
     ],
     "language": "python",
     "metadata": {},
     "outputs": [],
     "prompt_number": 1
    },
    {
     "cell_type": "code",
     "collapsed": false,
     "input": [
      "'''\n",
      "Test dblquad: Integrate cos(x) + cos(y) between x:[-pi/2,pi,2] and y:[-pi/2,pi,2]\n",
      "Result should be equal to 4pi\n",
      "'''\n",
      "def func(x,y):\n",
      "    return cos(x) + cos(y)\n",
      "print \"result from integration=\",integrate.dblquad(func, -pi/2, pi/2, lambda x:-pi/2, lambda x:pi/2)[0]\n",
      "print \"expected result=\",4*pi"
     ],
     "language": "python",
     "metadata": {},
     "outputs": [
      {
       "output_type": "stream",
       "stream": "stdout",
       "text": [
        "result from integration= 12.5663706144\n",
        "expected result= 12.5663706144\n"
       ]
      }
     ],
     "prompt_number": 2
    },
    {
     "cell_type": "code",
     "collapsed": false,
     "input": [
      "# def func_Q2(Q2):\n",
      "#     #return 1/Q2**2\n",
      "#     return Q2\n",
      "#func_Q2 = lambda Q2: Q2\n",
      "func_Q2 = lambda Q2: 1/Q2**2\n",
      "diff=integrate.quad(func_Q2,2.2,2.7)\n",
      "print \"result from scipy=\",diff\n",
      "print \"result from hand=\",(-(1/2.7)-(-1/2.2))\n",
      "#print \"result from hand=\",( (2.7**2/2) - (2.2**2/2) )\n",
      "#print 3**2"
     ],
     "language": "python",
     "metadata": {},
     "outputs": [
      {
       "output_type": "stream",
       "stream": "stdout",
       "text": [
        "result from scipy= (0.08417508417508417, 9.34531165509391e-16)\n",
        "result from hand= 0.0841750841751\n"
       ]
      }
     ],
     "prompt_number": 18
    },
    {
     "cell_type": "code",
     "collapsed": false,
     "input": [
      "print (integrate.quad(func_Q2,2.2,2.7)[0]/func_Q2(2.2))*100\n",
      "print (integrate.quad(func_Q2,2.7,3.25)[0]/func_Q2(2.7))*100"
     ],
     "language": "python",
     "metadata": {},
     "outputs": [
      {
       "output_type": "stream",
       "stream": "stdout",
       "text": [
        "40.7407407407\n",
        "45.6923076923\n"
       ]
      }
     ],
     "prompt_number": 24
    },
    {
     "cell_type": "code",
     "collapsed": false,
     "input": [
      "print ((8.5-6.5)/8.5)*100\n",
      "print ((6.5-4.5)/4.5)*100"
     ],
     "language": "python",
     "metadata": {},
     "outputs": [
      {
       "output_type": "stream",
       "stream": "stdout",
       "text": [
        "23.5294117647\n",
        "44.4444444444\n"
       ]
      }
     ],
     "prompt_number": 28
    },
    {
     "cell_type": "code",
     "collapsed": false,
     "input": [
      "print ((10-6.5)/10)*100"
     ],
     "language": "python",
     "metadata": {},
     "outputs": [
      {
       "output_type": "stream",
       "stream": "stdout",
       "text": [
        "35.0\n"
       ]
      }
     ],
     "prompt_number": 30
    },
    {
     "cell_type": "code",
     "collapsed": false,
     "input": [
      "print ((5.5-3.0)/5.5)*100"
     ],
     "language": "python",
     "metadata": {},
     "outputs": [
      {
       "output_type": "stream",
       "stream": "stdout",
       "text": [
        "45.4545454545\n"
       ]
      }
     ],
     "prompt_number": 31
    },
    {
     "cell_type": "code",
     "collapsed": false,
     "input": [],
     "language": "python",
     "metadata": {},
     "outputs": []
    }
   ],
   "metadata": {}
  }
 ]
}