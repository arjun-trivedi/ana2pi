{
 "metadata": {
  "name": ""
 },
 "nbformat": 3,
 "nbformat_minor": 0,
 "worksheets": [
  {
   "cells": [
    {
     "cell_type": "code",
     "collapsed": false,
     "input": [
      "from __future__ import division\n",
      "import tools as tool"
     ],
     "language": "python",
     "metadata": {},
     "outputs": [],
     "prompt_number": 1
    },
    {
     "cell_type": "code",
     "collapsed": false,
     "input": [
      "'''\n",
      "Guidal (GD) data:\n",
      "+ format: Q2, W, xsec, xsec-err\n",
      "+ Q2,W values listed are assumed to be bin centers \n",
      "'''\n",
      "W,Q2,SG,ERR=range(4)\n",
      "GDL=[\n",
      "[1.99874, 2.35, 5.61646, 0.787323],\n",
      "[1.98752, 2.95, 3.46186, 0.485977],\n",
      "[1.91371, 4.352, 1.26156, 0.17853],\n",
      "[1.99516, 4.85, 0.893552, 0.127752],\n",
      "[1.88157, 5.353, 0.554035, 0.081466],\n",
      "\n",
      "[2.09055, 2.05, 6.01491, 0.843056],\n",
      "[2.09586, 2.65, 3.66406, 0.514026],\n",
      "[2.18868, 2.95, 2.61253, 0.366878],\n",
      "[2.08964, 3.35, 2.27695, 0.319676],\n",
      "[2.00745, 3.85, 1.81581, 0.255576],\n",
      "[2.10688, 4.35, 1.24132, 0.175603],\n",
      "\n",
      "[2.2114, 1.785, 6.94324, 0.974054],\n",
      "[2.33297, 2.05, 3.68319, 0.516282],\n",
      "[2.20934, 2.35, 3.78175, 0.530231],\n",
      "[2.32207, 2.65, 2.41115, 0.338354],\n",
      "[2.30663,3.35, 1.66143, 0.233324],\n",
      "[2.21065, 3.85, 1.33349, 0.187675],\n",
      "[2.30032, 4.307, 1.03791, 0.146964],\n",
      "\n",
      "[2.47706, 1.752, 3.61203, 0.506407],\n",
      "[2.47194, 2.35, 2.2982, 0.322376],\n",
      "[2.58305, 2.639, 1.78715, 0.251076],\n",
      "[2.42957, 2.95, 1.70204, 0.23913],\n",
      "[2.51033, 3.295, 1.41398, 0.198998],\n",
      "[2.40925, 3.807, 1.13957, 0.160689],\n",
      "\n",
      "[2.76629, 1.725, 2.89211, 0.405822],\n",
      "[2.63458, 2.042, 2.43518, 0.341468],\n",
      "[2.70454, 2.32, 2.0999, 0.295361]\n",
      "]"
     ],
     "language": "python",
     "metadata": {},
     "outputs": [],
     "prompt_number": 2
    },
    {
     "cell_type": "code",
     "collapsed": false,
     "input": [
      "'''\n",
      "Print Q2,W for Guidal data\n",
      "'''\n",
      "q2wl=[]\n",
      "for d in GDL:\n",
      "    q2wl.append([d[W],d[Q2]])\n",
      "#print \"q2wl=\",q2wl\n",
      "q2w_sorted=sorted(q2wl,key=lambda x: x[Q2])\n",
      "for item in q2w_sorted:\n",
      "    print item"
     ],
     "language": "python",
     "metadata": {},
     "outputs": [
      {
       "output_type": "stream",
       "stream": "stdout",
       "text": [
        "[2.76629, 1.725]\n",
        "[2.47706, 1.752]\n",
        "[2.2114, 1.785]\n",
        "[2.63458, 2.042]\n",
        "[2.09055, 2.05]\n",
        "[2.33297, 2.05]\n",
        "[2.70454, 2.32]\n",
        "[1.99874, 2.35]\n",
        "[2.20934, 2.35]\n",
        "[2.47194, 2.35]\n",
        "[2.58305, 2.639]\n",
        "[2.09586, 2.65]\n",
        "[2.32207, 2.65]\n",
        "[1.98752, 2.95]\n",
        "[2.18868, 2.95]\n",
        "[2.42957, 2.95]\n",
        "[2.51033, 3.295]\n",
        "[2.08964, 3.35]\n",
        "[2.30663, 3.35]\n",
        "[2.40925, 3.807]\n",
        "[2.00745, 3.85]\n",
        "[2.21065, 3.85]\n",
        "[2.30032, 4.307]\n",
        "[2.10688, 4.35]\n",
        "[1.91371, 4.352]\n",
        "[1.99516, 4.85]\n",
        "[1.88157, 5.353]\n"
       ]
      }
     ],
     "prompt_number": 3
    },
    {
     "cell_type": "code",
     "collapsed": false,
     "input": [
      "'''\n",
      "The following points outlines the basis for making a plot representative of this data:\n",
      "1. All W values, which are assumed to be bin centers, are unique.\n",
      "2. The Q2 values, however, are not unique, but to each there is a distinct W value. \n",
      "3. From these Q2 values, which are assumed to be bin centers, Q2 bins will be obtained using an\n",
      "   algorithm described below, and the cross section will be assumed to be measured in this Q2 bin for a given W,\n",
      "   which I will not bother to classify into a bin. \n",
      "   \n",
      "***************************************\n",
      "*** Process for binning Q2 values ****\n",
      "***************************************\n",
      "Given that are many duplicate Q2 values, which also includes Q2 values that close enough to be considered\n",
      "to be part of a Q2-bin:\n",
      "1. make a list of unique Q2 bins that includes bins that are equal at atleast the 2nd decimal\n",
      "   place or that (=gd_q2_bincl)\n",
      "2. From 'gd_q2_bincl', get GD Q2 bins (gd_q2_binl) using an alogorithm that is directly written in \n",
      "   tool.get_bins()\n",
      "3. Make a zipped list of the bins along with their bin centers\n",
      "'''\n",
      "#!. Make 'gd_q2_bincl'\n",
      "q2l=[]\n",
      "for d in GDL:\n",
      "    q2l.append(d[Q2])\n",
      "print \"q2l:\",len(q2l)\n",
      "print q2l\n",
      "\n",
      "q2l_sorted=sorted(q2l)\n",
      "print \"q2l sorted:\",len(q2l_sorted)\n",
      "print q2l_sorted\n",
      "\n",
      "q2l_unique=list(set(q2l_sorted))\n",
      "q2l_unique_sorted=sorted(q2l_unique)\n",
      "print \"q2l unique:\",len(q2l_unique_sorted)\n",
      "print q2l_unique_sorted\n",
      "\n",
      "#! gd_q2_bincl is now manually created using q2l_unique_sorted:\n",
      "#! + certain binc are removed: 1.725, 1.752, 1.785, \n",
      "#!                             2.042(=> 2.05;repeated),2.32=>(2.35;repeated),\n",
      "#!                             2.639=>(2.65;repeated),3.295(->3.35;repeated),\n",
      "#!                             3.807(->3.85;repeated),4.307(->4.35;repeated)\n",
      "#!                             4.352(->->4.35;repeated)\n",
      "#! + certain binc are rounded: \n",
      "gd_q2_bincl=[2.05, 2.35, 2.65, 2.95,3.35,3.85, 4.35,4.85, 5.353]\n",
      "print \"gd_q2_bincl=\",gd_q2_bincl\n",
      "\n",
      "#! 2.\n",
      "gd_q2_binl=tool.get_bins(gd_q2_bincl,2)\n",
      "\n",
      "#! 3.\n",
      "gd_q2=zip(gd_q2_binl,gd_q2_bincl)"
     ],
     "language": "python",
     "metadata": {},
     "outputs": [
      {
       "output_type": "stream",
       "stream": "stdout",
       "text": [
        "q2l: 27\n",
        "[2.35, 2.95, 4.352, 4.85, 5.353, 2.05, 2.65, 2.95, 3.35, 3.85, 4.35, 1.785, 2.05, 2.35, 2.65, 3.35, 3.85, 4.307, 1.752, 2.35, 2.639, 2.95, 3.295, 3.807, 1.725, 2.042, 2.32]\n",
        "q2l sorted: 27\n",
        "[1.725, 1.752, 1.785, 2.042, 2.05, 2.05, 2.32, 2.35, 2.35, 2.35, 2.639, 2.65, 2.65, 2.95, 2.95, 2.95, 3.295, 3.35, 3.35, 3.807, 3.85, 3.85, 4.307, 4.35, 4.352, 4.85, 5.353]\n",
        "q2l unique: 19\n",
        "[1.725, 1.752, 1.785, 2.042, 2.05, 2.32, 2.35, 2.639, 2.65, 2.95, 3.295, 3.35, 3.807, 3.85, 4.307, 4.35, 4.352, 4.85, 5.353]\n",
        "gd_q2_bincl= [2.05, 2.35, 2.65, 2.95, 3.35, 3.85, 4.35, 4.85, 5.353]\n"
       ]
      }
     ],
     "prompt_number": 4
    },
    {
     "cell_type": "code",
     "collapsed": false,
     "input": [
      "'''\n",
      "+ Just for comparion, make a similar zipped list of my own analysis bins and compare with GD.\n",
      "+ AT Q2 bins  : [2.0,2.4],[2.4,3.0],[3.0,3.5],[3.5,4.2],[4.2,5.0]\n",
      "=> bin centers:    2.2,      2.7,      3.25,     3.85,     4.6\n",
      "'''\n",
      "at_q2_binl=[[2.0,2.4],[2.4,3.0],[3.0,3.5],[3.5,4.2],[4.2,5.0]]\n",
      "at_q2_bincl=[2.20,2.70,3.25,3.85,4.60]\n",
      "at_q2=zip(at_q2_binl,at_q2_bincl)\n",
      "\n",
      "print \"*** GD: Q2 bin -> binc ***\"\n",
      "for item in gd_q2:\n",
      "    print item[0],\"->\",item[1]\n",
      "print \"******\"\n",
      "print \"*** AT: Q2 bin -> binc ***\"\n",
      "for item in at_q2:\n",
      "    print item[0],\"->\",item[1]\n",
      "print \"******\""
     ],
     "language": "python",
     "metadata": {},
     "outputs": [
      {
       "output_type": "stream",
       "stream": "stdout",
       "text": [
        "*** GD: Q2 bin -> binc ***\n",
        "[1.9, 2.2] -> 2.05\n",
        "[2.2, 2.5] -> 2.35\n",
        "[2.5, 2.8] -> 2.65\n",
        "[2.75, 3.15] -> 2.95\n",
        "[3.1, 3.6] -> 3.35\n",
        "[3.6, 4.1] -> 3.85\n",
        "[4.1, 4.6] -> 4.35\n",
        "[4.6, 5.1] -> 4.85\n",
        "[5.1, 5.6] -> 5.353\n",
        "******\n",
        "*** AT: Q2 bin -> binc ***\n",
        "[2.0, 2.4] -> 2.2\n",
        "[2.4, 3.0] -> 2.7\n",
        "[3.0, 3.5] -> 3.25\n",
        "[3.5, 4.2] -> 3.85\n",
        "[4.2, 5.0] -> 4.6\n",
        "******\n"
       ]
      }
     ],
     "prompt_number": 5
    },
    {
     "cell_type": "code",
     "collapsed": false,
     "input": [
      "'''\n",
      "Comparing 'gd_q2_binl' and 'at_q2_binl', it appears that:\n",
      "at:[2.0, 2.4](2.20) ~includes gd:[1.9, 2.2](2.05), [2.2, 2.5](2.35)\n",
      "at:[2.4, 3.0](2.70) ~includes gd:[2.5, 2.8](2.65), [2.75, 3.15](2.95)\n",
      "at:[3.0, 3.5](3.25) ~includes gd:[3.1, 3.6](3.35)\n",
      "at:[3.5, 4.2](3.85) ~includes gd:[3.6, 4.1](3.85)\n",
      "at:[4.2, 5.0](4.60) ~includes gd:[4.1, 4.6](4.35), [4.6, 5.1](4.85)\n",
      "'''"
     ],
     "language": "python",
     "metadata": {},
     "outputs": [
      {
       "metadata": {},
       "output_type": "pyout",
       "prompt_number": 6,
       "text": [
        "\"\\nComparing 'gd_q2_binl' and 'at_q2_binl', it appears that:\\nat:[2.0, 2.4](2.20) ~includes gd:[1.9, 2.2](2.05), [2.2, 2.5](2.35)\\nat:[2.4, 3.0](2.70) ~includes gd:[2.5, 2.8](2.65), [2.75, 3.15](2.95)\\nat:[3.0, 3.5](3.25) ~includes gd:[3.1, 3.6](3.35)\\nat:[3.5, 4.2](3.85) ~includes gd:[3.6, 4.1](3.85)\\nat:[4.2, 5.0](4.60) ~includes gd:[4.1, 4.6](4.35), [4.6, 5.1](4.85)\\n\""
       ]
      }
     ],
     "prompt_number": 6
    },
    {
     "cell_type": "code",
     "collapsed": false,
     "input": [
      "'''\n",
      "+ Loop over GDL data and store cross sections as a f[gd_q2_binc,[gd_wbinc]].\n",
      "'''\n",
      "gd_sg=OrderedDict()\n",
      "for item in gd_q2:\n",
      "        binc=item[1]\n",
      "        le=item[0][0]\n",
      "        ue=item[0][1]\n",
      "        #print binc,le,ue\n",
      "        gd_sg[binc,'[%.2f-%.2f)'%(le,ue)]=[]\n",
      "        for d in GDL:\n",
      "            w,q2,sg,err=d[W],d[Q2],d[SG],d[ERR]\n",
      "            #! Now identify gd_q2_bin,gd_wbinc to store data in\n",
      "            if q2>=le and q2<ue:gd_sg[binc,'[%.2f-%.2f)'%(le,ue)].append([w,sg,err])\n",
      "\n",
      "fig,ax = plt.subplots(figsize=(10,6),nrows=1, ncols=1)\n",
      "#! need markers for 9 Q2 bins\n",
      "mrkrl=[\"o\",\"<\",\">\",\"^\",\"v\",\"8\",\"s\",\"p\",'h']\n",
      "#! Plot sgl vs q2wl \n",
      "for i,q2 in enumerate(gd_sg):\n",
      "    print q2, gd_sg[q2]\n",
      "    if len(gd_sg[q2])>0: #! then there is w data -> make plot\n",
      "        w  =[d[0] for d in gd_sg[q2]]\n",
      "        sg =[d[1] for d in gd_sg[q2]]\n",
      "        err=[d[2] for d in gd_sg[q2]]\n",
      "        #ax.plot(w,sg,label=q2[1])\n",
      "        ax.errorbar(w,sg,label=q2[1],yerr=err,marker=mrkrl[i])#fmt='o')\n",
      "ax.legend(loc='upper right')\n",
      "ax.vlines(2.125,ax.get_ylim()[0],ax.get_ylim()[1])      "
     ],
     "language": "python",
     "metadata": {},
     "outputs": [
      {
       "output_type": "stream",
       "stream": "stdout",
       "text": [
        "(2.05, '[1.90-2.20)') [[2.09055, 6.01491, 0.843056], [2.33297, 3.68319, 0.516282], [2.63458, 2.43518, 0.341468]]\n",
        "(2.35, '[2.20-2.50)') [[1.99874, 5.61646, 0.787323], [2.20934, 3.78175, 0.530231], [2.47194, 2.2982, 0.322376], [2.70454, 2.0999, 0.295361]]\n",
        "(2.65, '[2.50-2.80)') [[2.09586, 3.66406, 0.514026], [2.32207, 2.41115, 0.338354], [2.58305, 1.78715, 0.251076]]\n",
        "(2.95, '[2.75-3.15)') [[1.98752, 3.46186, 0.485977], [2.18868, 2.61253, 0.366878], [2.42957, 1.70204, 0.23913]]\n",
        "(3.35, '[3.10-3.60)') [[2.08964, 2.27695, 0.319676], [2.30663, 1.66143, 0.233324], [2.51033, 1.41398, 0.198998]]\n",
        "(3.85, '[3.60-4.10)') [[2.00745, 1.81581, 0.255576], [2.21065, 1.33349, 0.187675], [2.40925, 1.13957, 0.160689]]\n",
        "(4.35, '[4.10-4.60)') [[1.91371, 1.26156, 0.17853], [2.10688, 1.24132, 0.175603], [2.30032, 1.03791, 0.146964]]\n",
        "(4.85, '[4.60-5.10)') [[1.99516, 0.893552, 0.127752]]\n",
        "(5.353, '[5.10-5.60)') [[1.88157, 0.554035, 0.081466]]\n"
       ]
      },
      {
       "metadata": {},
       "output_type": "pyout",
       "prompt_number": 7,
       "text": [
        "<matplotlib.collections.LineCollection at 0x6005210>"
       ]
      },
      {
       "metadata": {},
       "output_type": "display_data",
       "png": "[encoded data removed]",
       "text": [
        "<matplotlib.figure.Figure at 0x7f2ffeb97350>"
       ]
      }
     ],
     "prompt_number": 7
    },
    {
     "cell_type": "code",
     "collapsed": false,
     "input": [],
     "language": "python",
     "metadata": {},
     "outputs": []
    }
   ],
   "metadata": {}
  }
 ]
}