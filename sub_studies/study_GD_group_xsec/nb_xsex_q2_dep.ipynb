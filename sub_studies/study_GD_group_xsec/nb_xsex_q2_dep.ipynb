{
 "metadata": {
  "name": ""
 },
 "nbformat": 3,
 "nbformat_minor": 0,
 "worksheets": [
  {
   "cells": [
    {
     "cell_type": "code",
     "collapsed": false,
     "input": [
      "from scipy import integrate\n",
      "from __future__ import division"
     ],
     "language": "python",
     "metadata": {},
     "outputs": [],
     "prompt_number": 1
    },
    {
     "cell_type": "code",
     "collapsed": false,
     "input": [
      "'''\n",
      "Test dblquad: Integrate cos(x) + cos(y) between x:[-pi/2,pi,2] and y:[-pi/2,pi,2]\n",
      "Result should be equal to 4pi\n",
      "'''\n",
      "def func(x,y):\n",
      "    return cos(x) + cos(y)\n",
      "print \"result from integration=\",integrate.dblquad(func, -pi/2, pi/2, lambda x:-pi/2, lambda x:pi/2)[0]\n",
      "print \"expected result=\",4*pi"
     ],
     "language": "python",
     "metadata": {},
     "outputs": [
      {
       "output_type": "stream",
       "stream": "stdout",
       "text": [
        "result from integration= 12.5663706144\n",
        "expected result= 12.5663706144\n"
       ]
      }
     ],
     "prompt_number": 2
    },
    {
     "cell_type": "code",
     "collapsed": false,
     "input": [
      "'''\n",
      "\n",
      "'''\n",
      "def fix_xaxis(x,ax):\n",
      "    # shift half a step to the left\n",
      "    xmin=(3*x[0]-x[1])/2.\n",
      "    # shift half a step to the right\n",
      "    xmax=(3*x[-1]-x[-2])/2.\n",
      "    ax.set_xlim(xmin,xmax)\n",
      "    \n",
      "def verify_xsec(sgl,q2l):\n",
      "    q2_norm=[sg*q2l[i]**2 for i,sg in enumerate(sgl)]\n",
      "    fig,axs = plt.subplots(figsize=(5,5),nrows=2, ncols=1,sharex=True)\n",
      "    \n",
      "    #! 1. Draw sg vs Q2 and sg* vs Q2\n",
      "    #! --- Setup sg* ----\n",
      "    sg_strl=[sg if i==0 else sgl[0]/q2l[i]**2 for i,sg in enumerate(sgl)]     \n",
      "    #! ------\n",
      "    ax=axs[0]#[0]\n",
      "    ax.plot(q2l,sgl,marker=\"<\",color='b',alpha=0.5)\n",
      "    ax.set_xlabel(\"Q^{2}\")\n",
      "    ax.set_ylabel(\"sg\")\n",
      "    #! Draw sg* on twin y-axis\n",
      "    ax2 = ax.twinx()\n",
      "    ax2.plot(q2l,sg_strl,marker=\"^\",color='r')#(t, s2, 'r.')\n",
      "    ax2.set_ylabel('sg*', color='r')\n",
      "    for tl in ax2.get_yticklabels():\n",
      "        tl.set_color('r')\n",
      "    #! Fix x axis\n",
      "    fix_xaxis(q2l,ax)\n",
      "    \n",
      "    #! 2. Draw sg*Q4\n",
      "    ax=axs[1]#[0][1]\n",
      "    ax.plot(q2l,q2_norm,marker=\"<\")\n",
      "    ax.set_xlabel(\"Q2\")\n",
      "    ax.set_ylabel(\"sg*Q4\")\n",
      "    #! Fix x axis\n",
      "    fix_xaxis(q2l,ax)\n",
      "    \n",
      "    #! 2. Draw sg*Q4"
     ],
     "language": "python",
     "metadata": {},
     "outputs": [],
     "prompt_number": 5
    },
    {
     "cell_type": "code",
     "collapsed": false,
     "input": [
      "verify_xsec([1,1/2**2,1/3**2,1/4**2],[1,2,3,4])"
     ],
     "language": "python",
     "metadata": {},
     "outputs": [
      {
       "metadata": {},
       "output_type": "display_data",
       "png": "[encoded data removed]",
       "text": [
        "<matplotlib.figure.Figure at 0x5b88710>"
       ]
      }
     ],
     "prompt_number": 6
    },
    {
     "cell_type": "code",
     "collapsed": false,
     "input": [
      "def verify_xsec2(sgl,q2wl):\n",
      "    '''\n",
      "    + sgl =[ [sg],    [sg],...,    [sg]     ]\n",
      "    + q2wl=[ [Q2,[W]],[Q2,[W]],...,[Q2,[W]] ]\n",
      "    where sg=f(Q2,[W]) i.e. cross section for each Q2 as a function of W\n",
      "    '''\n",
      "    \n",
      "    #! Calculated sgl_norm(=sg*Q4=constant)\n",
      "    sgl_norm=[]\n",
      "    for i,sg_q2l in enumerate(sgl):\n",
      "        sg_norm=[sg*q2wl[i][0]**2 for sg in sg_q2l]\n",
      "        sgl_norm.append(sg_norm)\n",
      "    print \"sgl=\",sgl\n",
      "    print \"sgl_norm=\",sgl_norm\n",
      "    \n",
      "    fig,axs = plt.subplots(figsize=(5,5),nrows=2, ncols=1,sharex=True)\n",
      "    mrkrl=[\"o\",\"<\",\">\",\"^\",\"v\"]\n",
      "    clrl=['b','r','b','g','y']\n",
      "    #! Plot sgl vs q2wl\n",
      "    ax=axs[0]\n",
      "    for i in range(len(sgl)):\n",
      "        ax.plot(q2wl[i][1],sgl[i],marker=mrkrl[i],color=clrl[i],label=\"Q2=%.2f\"%q2wl[i][0])\n",
      "        ax.legend(loc='upper right')\n",
      "        fix_xaxis(q2wl[i][1],ax)\n",
      "    #! Plot sgl_norm vs q2wl\n",
      "    ax=axs[1]\n",
      "    for i in range(len(sgl_norm)):\n",
      "        ax.plot(q2wl[i][1],sgl_norm[i],marker=mrkrl[i],color=clrl[i],label=\"Q2=%.2f\"%q2wl[i][0])\n",
      "        ax.legend(loc='upper right')\n",
      "        fix_xaxis(q2wl[i][1],ax)"
     ],
     "language": "python",
     "metadata": {},
     "outputs": [],
     "prompt_number": 38
    },
    {
     "cell_type": "code",
     "collapsed": false,
     "input": [
      "q2wl=[[1,[10,20,30,40]], [2,[10,20,30,40]],[3,[10,20,30,40]],[4,[10,20,30,40]]]\n",
      "sgl= [ [100,200,300,400],[100/2**2,200/2**2,300/2**2,400/2**2], \n",
      "       [100/3**2,200/3**2,300/3**2,400/3**2],[100/4**2,200/4**2,300/4**2,400/4**2]]\n",
      "verify_xsec2(sgl,q2wl)"
     ],
     "language": "python",
     "metadata": {},
     "outputs": [
      {
       "output_type": "stream",
       "stream": "stdout",
       "text": [
        "sgl= [[100, 200, 300, 400], [25.0, 50.0, 75.0, 100.0], [11.11111111111111, 22.22222222222222, 33.333333333333336, 44.44444444444444], [6.25, 12.5, 18.75, 25.0]]\n",
        "sgl_norm= [[100, 200, 300, 400], [100.0, 200.0, 300.0, 400.0], [100.0, 200.0, 300.0, 400.0], [100.0, 200.0, 300.0, 400.0]]\n"
       ]
      },
      {
       "metadata": {},
       "output_type": "display_data",
       "png": "[encoded data removed]",
       "text": [
        "<matplotlib.figure.Figure at 0x5f21b10>"
       ]
      }
     ],
     "prompt_number": 39
    },
    {
     "cell_type": "code",
     "collapsed": false,
     "input": [
      "sgl=[5.61646,3.78175,2.2982]\n",
      "q2wl=[[2.35,[1.99874,2.20934,2.47194]],]\n",
      "verify_xsec2(sgl,q2wl)"
     ],
     "language": "python",
     "metadata": {},
     "outputs": []
    },
    {
     "cell_type": "code",
     "collapsed": false,
     "input": [
      "'''\n",
      "Guidal (GD) data\n",
      "'''\n",
      "W,Q2,SG,ERR=range(4)\n",
      "GDL=[\n",
      "[1.99874, 2.35, 5.61646, 0.787323],\n",
      "[1.98752, 2.95, 3.46186, 0.485977],\n",
      "[1.91371, 4.352, 1.26156, 0.17853],\n",
      "[1.99516, 4.85, 0.893552, 0.127752],\n",
      "[1.88157, 5.353, 0.554035, 0.081466],\n",
      "\n",
      "[2.09055, 2.05, 6.01491, 0.843056],\n",
      "[2.09586, 2.65, 3.66406, 0.514026],\n",
      "[2.18868, 2.95, 2.61253, 0.366878],\n",
      "[2.08964, 3.35, 2.27695, 0.319676],\n",
      "[2.00745, 3.85, 1.81581, 0.255576],\n",
      "[2.10688, 4.35, 1.24132, 0.175603],\n",
      "\n",
      "[2.2114, 1.785, 6.94324, 0.974054],\n",
      "[2.33297, 2.05, 3.68319, 0.516282],\n",
      "[2.20934, 2.35, 3.78175, 0.530231],\n",
      "[2.32207, 2.65, 2.41115, 0.338354],\n",
      "[2.30663,3.35, 1.66143, 0.233324],\n",
      "[2.21065, 3.85, 1.33349, 0.187675],\n",
      "[2.30032, 4.307, 1.03791, 0.146964],\n",
      "\n",
      "[2.47706, 1.752, 3.61203, 0.506407],\n",
      "[2.47194, 2.35, 2.2982, 0.322376],\n",
      "[2.58305, 2.639, 1.78715, 0.251076],\n",
      "[2.42957, 2.95, 1.70204, 0.23913],\n",
      "[2.51033, 3.295, 1.41398, 0.198998],\n",
      "[2.40925, 3.807, 1.13957, 0.160689],\n",
      "\n",
      "[2.76629, 1.725, 2.89211, 0.405822],\n",
      "[2.63458, 2.042, 2.43518, 0.341468],\n",
      "[2.70454, 2.32, 2.0999, 0.295361]\n",
      "]"
     ],
     "language": "python",
     "metadata": {},
     "outputs": [],
     "prompt_number": 33
    },
    {
     "cell_type": "code",
     "collapsed": false,
     "input": [
      "q2wl=[]\n",
      "for d in dl:\n",
      "    q2wl.append([d[W],d[Q2]])\n",
      "print \"q2wl=\",q2wl"
     ],
     "language": "python",
     "metadata": {},
     "outputs": [
      {
       "output_type": "stream",
       "stream": "stdout",
       "text": [
        "q2wl= [[1.99874, 2.35], [1.98752, 2.95], [1.91371, 4.352], [1.99516, 4.85], [1.88157, 5.353], [2.09055, 2.05], [2.09586, 2.65], [2.18868, 2.95], [2.08964, 3.35], [2.00745, 3.85], [2.10688, 4.35], [2.2114, 1.785], [2.33297, 2.05], [2.20934, 2.35], [2.32207, 2.65], [2.30663, 3.35], [2.21065, 3.85], [2.30032, 4.307], [2.47706, 1.752], [2.47194, 2.35], [2.58305, 2.639], [2.42957, 2.95], [2.51033, 3.295], [2.40925, 3.807], [2.76629, 1.725], [2.63458, 2.042], [2.70454, 2.32]]\n"
       ]
      }
     ],
     "prompt_number": 28
    },
    {
     "cell_type": "code",
     "collapsed": false,
     "input": [
      "q2l=[]\n",
      "for d in dl:\n",
      "    q2l.append(d[Q2])\n",
      "print \"q2l:\",len(q2l)\n",
      "print q2l\n",
      "\n",
      "q2l_sorted=sorted(q2l)\n",
      "print \"q2l sorted:\",len(q2l_sorted)\n",
      "print q2l_sorted\n",
      "\n",
      "q2l_unique=list(set(q2l_sorted))\n",
      "q2l_unique_sorted=sorted(q2l_unique)\n",
      "print \"q2l unique:\",len(q2l_unique_sorted)\n",
      "print q2l_unique_sorted\n",
      "\n",
      "#! GD Q2 bins are now manually adjusted using q2l_unique_sorted:\n",
      "#! + certain binc are removed: 1.725, 1.752, 1.785, \n",
      "#!                             2.042(=> 2.05;repeated),2.32=>(2.35;repeated),\n",
      "#!                             2.639=>(2.65;repeated),3.295(->3.35;repeated),\n",
      "#!                             3.807(->3.85;repeated),4.307(->4.35;repeated)\n",
      "#!                             4.352(->->4.35;repeated)\n",
      "#! + certain binc are rounded: \n",
      "gd_q2_bincl=[2.05, 2.35, 2.65, 2.95,3.35,3.85, 4.35,4.85, 5.353]\n",
      "print \"gd_q2_bincl=\",gd_q2_bincl"
     ],
     "language": "python",
     "metadata": {},
     "outputs": [
      {
       "output_type": "stream",
       "stream": "stdout",
       "text": [
        "q2l: 27\n",
        "[2.35, 2.95, 4.352, 4.85, 5.353, 2.05, 2.65, 2.95, 3.35, 3.85, 4.35, 1.785, 2.05, 2.35, 2.65, 3.35, 3.85, 4.307, 1.752, 2.35, 2.639, 2.95, 3.295, 3.807, 1.725, 2.042, 2.32]\n",
        "q2l sorted: 27\n",
        "[1.725, 1.752, 1.785, 2.042, 2.05, 2.05, 2.32, 2.35, 2.35, 2.35, 2.639, 2.65, 2.65, 2.95, 2.95, 2.95, 3.295, 3.35, 3.35, 3.807, 3.85, 3.85, 4.307, 4.35, 4.352, 4.85, 5.353]\n",
        "q2l unique: 19\n",
        "[1.725, 1.752, 1.785, 2.042, 2.05, 2.32, 2.35, 2.639, 2.65, 2.95, 3.295, 3.35, 3.807, 3.85, 4.307, 4.35, 4.352, 4.85, 5.353]\n",
        "gd_q2_bincl= [2.05, 2.35, 2.65, 2.95, 3.35, 3.85, 4.35, 4.85, 5.353]\n"
       ]
      }
     ],
     "prompt_number": 66
    },
    {
     "cell_type": "code",
     "collapsed": false,
     "input": [
      "'''\n",
      "+ AT Q2 bins  : [2.0,2.4],[2.4,3.0],[3.0,3.5],[3.5,4.2],[4.2,5.0]\n",
      "=> bin centers:    2.2,      2.7,      3.25,     3.85,     4.6\n",
      "'''\n",
      "at_q2_binl=[[2.0,2.4],[2.4,3.0],[3.0,3.5],[3.5,4.2],[4.2,5.0]]\n",
      "at_q2_bincl=[2.20,2.70,3.25,3.85,4.60]"
     ],
     "language": "python",
     "metadata": {},
     "outputs": [],
     "prompt_number": 69
    },
    {
     "cell_type": "code",
     "collapsed": false,
     "input": [
      "def get_bins(bincl,nround_digits):\n",
      "    '''\n",
      "    + Returns binl from bincl where bin=[le,ue] and binc=bin center\n",
      "    + Based on algorithm where the midway point to the previous and next bin define\n",
      "    the bin edges:\n",
      "    + le_i= (binc_i) - ( (binc_i)-(binc_i-1) )/2\n",
      "    + ue_i= (binc_i) + ( (binc_i+1)-(binc_i) )/2\n",
      "    where 'i' is the bin index\n",
      "    '''\n",
      "    binl=[]\n",
      "    for i in range(len(bincl)):\n",
      "        #!print \"******\"\n",
      "        #! debug\n",
      "#         print \"(binc_i-1),(binc_i),(binc_i+1):\"\n",
      "#         if i==0:\n",
      "#             print bincl[i],bincl[i+1]\n",
      "#         elif i==len(bincl)-1:\n",
      "#             print bincl[i-1],bincl[i]\n",
      "#         else:\n",
      "#             print bincl[i-1],bincl[i],bincl[i+1]\n",
      "        \n",
      "        if i==len(bincl)-1: #! For last bin assume ue_dist=le_dist\n",
      "            ue_dist=(bincl[i]-bincl[i-1])/2\n",
      "        else:\n",
      "            ue_dist=(bincl[i+1]-bincl[i])/2\n",
      "        if i==0: #! For first bin assume le_dist = ue_dist\n",
      "            le_dist=ue_dist\n",
      "        else:\n",
      "            le_dist=(bincl[i]-bincl[i-1])/2\n",
      "        ue=bincl[i]+ue_dist\n",
      "        le=bincl[i]-ue_dist\n",
      "        #!print \"ue,le=\",round(le,nround_digits),round(ue,nround_digits)\n",
      "        binl.append([round(le,nround_digits),round(ue,nround_digits)])\n",
      "        #!print \"******\"\n",
      "    return binl\n",
      "    "
     ],
     "language": "python",
     "metadata": {},
     "outputs": [],
     "prompt_number": 85
    },
    {
     "cell_type": "code",
     "collapsed": false,
     "input": [
      "'''\n",
      "Test get_bins() using AT bincl\n",
      "'''\n",
      "binl=get_bins([2.2,2.7,3.25,3.85,4.6],2)\n",
      "print \"binl=\",binl"
     ],
     "language": "python",
     "metadata": {},
     "outputs": [
      {
       "output_type": "stream",
       "stream": "stdout",
       "text": [
        "binl= [[1.95, 2.45], [2.43, 2.98], [2.95, 3.55], [3.48, 4.22], [4.22, 4.97]]\n"
       ]
      }
     ],
     "prompt_number": 87
    },
    {
     "cell_type": "code",
     "collapsed": false,
     "input": [
      "''''\n",
      "Get GD Q2 bins\n",
      "'''\n",
      "gd_q2_binl=get_bins(gd_q2_bincl,2)\n",
      "print \"gd_q2_binl:\"\n",
      "print gd_q2_binl\n",
      "print \"gd_q2_bincl:\"\n",
      "print gd_q2_binc\n",
      "print \"at_q2_binl:\"\n",
      "print at_q2_binl\n",
      "print \"at_q2_bincl:\"\n",
      "print at_q2_bincl"
     ],
     "language": "python",
     "metadata": {},
     "outputs": [
      {
       "output_type": "stream",
       "stream": "stdout",
       "text": [
        "gd_q2_binl:\n",
        "[[1.9, 2.2], [2.2, 2.5], [2.5, 2.8], [2.75, 3.15], [3.1, 3.6], [3.6, 4.1], [4.1, 4.6], [4.6, 5.1], [5.1, 5.6]]\n",
        "gd_q2_bincl:\n",
        "[2.05, 2.35, 2.65, 2.95, 3.35, 3.85, 4.35, 4.85, 5.353]\n",
        "at_q2_binl:\n",
        "[[2.0, 2.4], [2.4, 3.0], [3.0, 3.5], [3.5, 4.2], [4.2, 5.0]]\n",
        "at_q2_bincl:\n",
        "[2.2, 2.7, 3.25, 3.85, 4.6]\n"
       ]
      }
     ],
     "prompt_number": 88
    },
    {
     "cell_type": "code",
     "collapsed": false,
     "input": [
      "'''\n",
      "Comparing 'gd_q2_binl' and 'at_q2_binl', it appears that:\n",
      "at:[2.0, 2.4](2.20) ~includes gd:[1.9, 2.2](2.05), [2.2, 2.5](2.35)\n",
      "at:[2.4, 3.0](2.70) ~includes gd:[2.5, 2.8](2.65), [2.75, 3.15](2.95)\n",
      "at:[3.0, 3.5](3.25) ~includes gd:[3.1, 3.6](3.35)\n",
      "at:[3.5, 4.2](3.85) ~includes gd:[3.6, 4.1](3.85)\n",
      "at:[4.2, 5.0](4.60) ~includes gd:[4.1, 4.6](4.35), [4.6, 5.1](4.85)\n",
      "'''"
     ],
     "language": "python",
     "metadata": {},
     "outputs": []
    },
    {
     "cell_type": "code",
     "collapsed": false,
     "input": [
      "t=sorted(q2wl,key=lambda x: x[Q2])\n",
      "for item in t:\n",
      "    print item"
     ],
     "language": "python",
     "metadata": {},
     "outputs": [
      {
       "output_type": "stream",
       "stream": "stdout",
       "text": [
        "[2.76629, 1.725]\n",
        "[2.47706, 1.752]\n",
        "[2.2114, 1.785]\n",
        "[2.63458, 2.042]\n",
        "[2.09055, 2.05]\n",
        "[2.33297, 2.05]\n",
        "[2.70454, 2.32]\n",
        "[1.99874, 2.35]\n",
        "[2.20934, 2.35]\n",
        "[2.47194, 2.35]\n",
        "[2.58305, 2.639]\n",
        "[2.09586, 2.65]\n",
        "[2.32207, 2.65]\n",
        "[1.98752, 2.95]\n",
        "[2.18868, 2.95]\n",
        "[2.42957, 2.95]\n",
        "[2.51033, 3.295]\n",
        "[2.08964, 3.35]\n",
        "[2.30663, 3.35]\n",
        "[2.40925, 3.807]\n",
        "[2.00745, 3.85]\n",
        "[2.21065, 3.85]\n",
        "[2.30032, 4.307]\n",
        "[2.10688, 4.35]\n",
        "[1.91371, 4.352]\n",
        "[1.99516, 4.85]\n",
        "[1.88157, 5.353]\n"
       ]
      }
     ],
     "prompt_number": 8
    },
    {
     "cell_type": "code",
     "collapsed": false,
     "input": [
      "wl=[]\n",
      "for d in dl:\n",
      "    wl.append(d[W])\n",
      "print \"wl:\",len(wl)\n",
      "print wl\n",
      "\n",
      "wl_sorted=sorted(wl)\n",
      "print \"wl sorted:\",len(wl_sorted)\n",
      "print wl_sorted\n",
      "\n",
      "wl_unique=list(set(wl_sorted))\n",
      "wl_unique_sorted=sorted(wl_unique)\n",
      "print \"wl unique:\",len(wl_unique_sorted)\n",
      "print wl_unique_sorted\n",
      "\n",
      "#! GD W bins are now manually adjusted using wl_unique_sorted:\n",
      "#! + certain binc are removed:1.99516->(1.98752), 1.99874->(1.98752)\n",
      "#!                            2.09586->(2.09055), 2.10688->(2.09055)\n",
      "#! + certain binc are rounded: \n",
      "gd_w_bincl=[1.88157, 1.91371, 1.98752, 1.99516, 1.99874, 2.00745, 2.08964, \n",
      "            2.09055, 2.09586, 2.10688, 2.18868, 2.20934, 2.21065, 2.2114, \n",
      "            2.30032, 2.30663, 2.32207, 2.33297, 2.40925, 2.42957, 2.47194, 2.47706, 2.51033, 2.58305, 2.63458, 2.70454, 2.76629]"
     ],
     "language": "python",
     "metadata": {},
     "outputs": [
      {
       "output_type": "stream",
       "stream": "stdout",
       "text": [
        "wl: 27\n",
        "[1.99874, 1.98752, 1.91371, 1.99516, 1.88157, 2.09055, 2.09586, 2.18868, 2.08964, 2.00745, 2.10688, 2.2114, 2.33297, 2.20934, 2.32207, 2.30663, 2.21065, 2.30032, 2.47706, 2.47194, 2.58305, 2.42957, 2.51033, 2.40925, 2.76629, 2.63458, 2.70454]\n",
        "wl sorted: 27\n",
        "[1.88157, 1.91371, 1.98752, 1.99516, 1.99874, 2.00745, 2.08964, 2.09055, 2.09586, 2.10688, 2.18868, 2.20934, 2.21065, 2.2114, 2.30032, 2.30663, 2.32207, 2.33297, 2.40925, 2.42957, 2.47194, 2.47706, 2.51033, 2.58305, 2.63458, 2.70454, 2.76629]\n",
        "wl unique: 27\n",
        "[1.88157, 1.91371, 1.98752, 1.99516, 1.99874, 2.00745, 2.08964, 2.09055, 2.09586, 2.10688, 2.18868, 2.20934, 2.21065, 2.2114, 2.30032, 2.30663, 2.32207, 2.33297, 2.40925, 2.42957, 2.47194, 2.47706, 2.51033, 2.58305, 2.63458, 2.70454, 2.76629]\n"
       ]
      }
     ],
     "prompt_number": 80
    },
    {
     "cell_type": "code",
     "collapsed": false,
     "input": [
      "gd_w_binl=get_bins(gd_w_bincl,3)\n",
      "print gd_w_binl"
     ],
     "language": "python",
     "metadata": {},
     "outputs": [
      {
       "output_type": "stream",
       "stream": "stdout",
       "text": [
        "[[1.865, 1.898], [1.877, 1.951], [1.984, 1.991], [1.993, 1.997], [1.994, 2.003], [1.966, 2.049], [2.089, 2.09], [2.088, 2.093], [2.09, 2.101], [2.066, 2.148], [2.178, 2.199], [2.209, 2.21], [2.21, 2.211], [2.167, 2.256], [2.297, 2.303], [2.299, 2.314], [2.317, 2.328], [2.295, 2.371], [2.399, 2.419], [2.408, 2.451], [2.469, 2.474], [2.46, 2.494], [2.474, 2.547], [2.557, 2.609], [2.6, 2.67], [2.674, 2.735], [2.735, 2.797]]\n"
       ]
      }
     ],
     "prompt_number": 89
    },
    {
     "cell_type": "code",
     "collapsed": false,
     "input": [
      "binw=[round(wl_unique_sorted[i]-wl_unique_sorted[i-1],5) if i!=0 and i!=len(wl_unique_sorted)-1 else 0 for i in range(len(wl_unique_sorted))]\n",
      "print binw"
     ],
     "language": "python",
     "metadata": {},
     "outputs": [
      {
       "output_type": "stream",
       "stream": "stdout",
       "text": [
        "[0, 0.03214, 0.07381, 0.00764, 0.00358, 0.00871, 0.08219, 0.00091, 0.00531, 0.01102, 0.0818, 0.02066, 0.00131, 0.00075, 0.08892, 0.00631, 0.01544, 0.0109, 0.07628, 0.02032, 0.04237, 0.00512, 0.03327, 0.07272, 0.05153, 0.06996, 0]\n"
       ]
      }
     ],
     "prompt_number": 79
    },
    {
     "cell_type": "code",
     "collapsed": false,
     "input": [],
     "language": "python",
     "metadata": {},
     "outputs": []
    }
   ],
   "metadata": {}
  }
 ]
}