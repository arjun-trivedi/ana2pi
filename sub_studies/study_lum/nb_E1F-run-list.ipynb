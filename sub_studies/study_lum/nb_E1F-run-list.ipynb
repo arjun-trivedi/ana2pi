{
 "metadata": {
  "name": ""
 },
 "nbformat": 3,
 "nbformat_minor": 0,
 "worksheets": [
  {
   "cells": [
    {
     "cell_type": "markdown",
     "metadata": {},
     "source": [
      "+ My good-run-list is located in $HOME/ongoing/e1f_goldenruns_h10.lst.\n",
      "    + \\#Runs=576\n",
      "    \n",
      "+ I do not recall where I obtained my \"good run list\", it seems that the source may have been Wes Gohn, for I copied and pasted his good-run-list from this thesis (Appendix B, page 162) and found it to be identical to my list. This notebook demonstrates this fact.\n",
      "\n",
      "+ At some point, I should try and do what Evan did. He performs a detailed analysus on Golden Runs, defined as:  \n",
      ">Golden runs are those without incidents reported in the CLAS Online log entry database(http://clasweb.jlab.org/clasonline/prodlogsearch.html) and without obvious luminosity or detection issues identified during the calibration process.\n"
     ]
    },
    {
     "cell_type": "code",
     "collapsed": false,
     "input": [
      "#! Make a list of Wes Gohn's run list\n",
      "f=open(\"wg_run-list\",\"r\")\n",
      "wg_runl=[]\n",
      "for i,l in enumerate(f.readlines()):\n",
      "    t=[int(x) for x in l.split()]\n",
      "    wg_runl.extend(t)\n",
      "wg_runl=sort(wg_runl)\n",
      "#print wg_runl\n",
      "print len(wg_runl)"
     ],
     "language": "python",
     "metadata": {},
     "outputs": [
      {
       "output_type": "stream",
       "stream": "stdout",
       "text": [
        "576\n"
       ]
      }
     ],
     "prompt_number": 13
    },
    {
     "cell_type": "code",
     "collapsed": false,
     "input": [
      "#! Make a copy my run list\n",
      "f=open(\"/home/trivedia/ongoing/e1f.golden.h10.lst\",\"r\")\n",
      "at_runl=[]\n",
      "for i,l in enumerate(os.listdir(\"/home/trivedia/ongoing/golden.e1f.lst\")):\n",
      "    if l==\".svn\": continue\n",
      "    at_runl.append(int(l.split(\".\")[2]))\n",
      "at_runl=sort(at_runl)\n",
      "#print at_runl\n",
      "print len(at_runl)"
     ],
     "language": "python",
     "metadata": {},
     "outputs": [
      {
       "output_type": "stream",
       "stream": "stdout",
       "text": [
        "576\n"
       ]
      }
     ],
     "prompt_number": 14
    },
    {
     "cell_type": "code",
     "collapsed": false,
     "input": [
      "#! Demonstrate that they are identical\n",
      "print \"number of runs: wg=%d,at=%d\"%(len(wg_runl),len(at_runl))\n",
      "#! Run by run comparision\n",
      "delta=[]\n",
      "for i in range(576):\n",
      "    delta.append(wg_runl[i]-at_runl[i])\n",
      "ret=plt.hist(delta,bins=10,range=(-5,5))"
     ],
     "language": "python",
     "metadata": {},
     "outputs": [
      {
       "output_type": "stream",
       "stream": "stdout",
       "text": [
        "number of runs: wg=576,at=576\n"
       ]
      },
      {
       "metadata": {},
       "output_type": "display_data",
       "png": "[encoded data removed]",
       "text": [
        "<matplotlib.figure.Figure at 0x6100dd0>"
       ]
      }
     ],
     "prompt_number": 17
    },
    {
     "cell_type": "code",
     "collapsed": false,
     "input": [
      "t=[1,2,3]\n",
      "print t"
     ],
     "language": "python",
     "metadata": {},
     "outputs": [
      {
       "output_type": "stream",
       "stream": "stdout",
       "text": [
        "[1, 2, 3]\n"
       ]
      }
     ],
     "prompt_number": 8
    },
    {
     "cell_type": "code",
     "collapsed": false,
     "input": [],
     "language": "python",
     "metadata": {},
     "outputs": []
    }
   ],
   "metadata": {}
  }
 ]
}