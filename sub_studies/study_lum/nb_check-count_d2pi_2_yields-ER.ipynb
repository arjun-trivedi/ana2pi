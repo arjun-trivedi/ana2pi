{
 "metadata": {
  "name": ""
 },
 "nbformat": 3,
 "nbformat_minor": 0,
 "worksheets": [
  {
   "cells": [
    {
     "cell_type": "code",
     "collapsed": false,
     "input": [
      "import re\n",
      "f_d2pi=root_open(os.path.join(os.environ['D2PIDIR_EXP'],'d2piR.root'))\n",
      "hevtsum=f_d2pi.Get('d2piR/hevtsum')\n",
      "print \"Total entries=\",hevtsum.GetBinContent(12)+hevtsum.GetBinContent(13)+hevtsum.GetBinContent(14)+hevtsum.GetBinContent(15)"
     ],
     "language": "python",
     "metadata": {},
     "outputs": [
      {
       "output_type": "stream",
       "stream": "stdout",
       "text": [
        "Total entries= 4067134.0\n"
       ]
      }
     ],
     "prompt_number": 4
    },
    {
     "cell_type": "code",
     "collapsed": false,
     "input": [
      "h8=[]\n",
      "regex=re.compile('h8_.{1,2}_1')\n",
      "for dirpaths,dirs,files in f_d2pi.walk():\n",
      "    if dirpaths==\"\":continue #! Avoid root path\n",
      "    for f in files:\n",
      "        #print f\n",
      "        if \"h8\" in f:\n",
      "            if re.match(regex,f):\n",
      "                print f\n",
      "                #h8.append(f)\n",
      "                h8.append(f_d2pi.Get(\"%s/%s\"%(dirpaths,f)))\n",
      "print len(h8)"
     ],
     "language": "python",
     "metadata": {},
     "outputs": [
      {
       "output_type": "stream",
       "stream": "stderr",
       "text": [
        "WARNING:rootpy] a subclass of THnSparseT<TArrayF> is not implemented in rootpy\n"
       ]
      },
      {
       "output_type": "stream",
       "stream": "stdout",
       "text": [
        "h8_5_1\n",
        "h8_13_1"
       ]
      },
      {
       "output_type": "stream",
       "stream": "stderr",
       "text": [
        "WARNING:rootpy] a subclass of THnSparseT<TArrayF> is not implemented in rootpy\n"
       ]
      },
      {
       "output_type": "stream",
       "stream": "stderr",
       "text": [
        "WARNING:rootpy] a subclass of THnSparseT<TArrayF> is not implemented in rootpy\n"
       ]
      },
      {
       "output_type": "stream",
       "stream": "stderr",
       "text": [
        "WARNING:rootpy] a subclass of THnSparseT<TArrayF> is not implemented in rootpy\n"
       ]
      },
      {
       "output_type": "stream",
       "stream": "stderr",
       "text": [
        "WARNING:rootpy] a subclass of THnSparseT<TArrayF> is not implemented in rootpy\n"
       ]
      },
      {
       "output_type": "stream",
       "stream": "stderr",
       "text": [
        "WARNING:rootpy] a subclass of THnSparseT<TArrayF> is not implemented in rootpy\n"
       ]
      },
      {
       "output_type": "stream",
       "stream": "stdout",
       "text": [
        "\n",
        "h8_9_1\n",
        "h8_1_1\n",
        "h8_8_1\n",
        "h8_6_1\n",
        "h8_2_1"
       ]
      },
      {
       "output_type": "stream",
       "stream": "stderr",
       "text": [
        "WARNING:rootpy] a subclass of THnSparseT<TArrayF> is not implemented in rootpy\n"
       ]
      },
      {
       "output_type": "stream",
       "stream": "stderr",
       "text": [
        "WARNING:rootpy] a subclass of THnSparseT<TArrayF> is not implemented in rootpy\n"
       ]
      },
      {
       "output_type": "stream",
       "stream": "stderr",
       "text": [
        "WARNING:rootpy] a subclass of THnSparseT<TArrayF> is not implemented in rootpy\n"
       ]
      },
      {
       "output_type": "stream",
       "stream": "stderr",
       "text": [
        "WARNING:rootpy] a subclass of THnSparseT<TArrayF> is not implemented in rootpy\n"
       ]
      },
      {
       "output_type": "stream",
       "stream": "stdout",
       "text": [
        "\n",
        "h8_3_1\n",
        "h8_7_1\n",
        "h8_4_1\n",
        "h8_12_1"
       ]
      },
      {
       "output_type": "stream",
       "stream": "stderr",
       "text": [
        "WARNING:rootpy] a subclass of THnSparseT<TArrayF> is not implemented in rootpy\n"
       ]
      },
      {
       "output_type": "stream",
       "stream": "stderr",
       "text": [
        "WARNING:rootpy] a subclass of THnSparseT<TArrayF> is not implemented in rootpy\n"
       ]
      },
      {
       "output_type": "stream",
       "stream": "stderr",
       "text": [
        "WARNING:rootpy] a subclass of THnSparseT<TArrayF> is not implemented in rootpy\n"
       ]
      },
      {
       "output_type": "stream",
       "stream": "stderr",
       "text": [
        "WARNING:rootpy] a subclass of THnSparseT<TArrayF> is not implemented in rootpy\n"
       ]
      },
      {
       "output_type": "stream",
       "stream": "stderr",
       "text": [
        "WARNING:rootpy] a subclass of THnSparseT<TArrayF> is not implemented in rootpy\n"
       ]
      },
      {
       "output_type": "stream",
       "stream": "stderr",
       "text": [
        "WARNING:rootpy] a subclass of THnSparseT<TArrayF> is not implemented in rootpy\n"
       ]
      },
      {
       "output_type": "stream",
       "stream": "stderr",
       "text": [
        "WARNING:rootpy] a subclass of THnSparseT<TArrayF> is not implemented in rootpy\n"
       ]
      },
      {
       "output_type": "stream",
       "stream": "stdout",
       "text": [
        "\n",
        "h8_11_1\n",
        "h8_10_1\n",
        "h8_5_1\n",
        "h8_13_1\n",
        "h8_9_1\n",
        "h8_1_1\n",
        "h8_8_1"
       ]
      },
      {
       "output_type": "stream",
       "stream": "stderr",
       "text": [
        "WARNING:rootpy] a subclass of THnSparseT<TArrayF> is not implemented in rootpy\n"
       ]
      },
      {
       "output_type": "stream",
       "stream": "stderr",
       "text": [
        "WARNING:rootpy] a subclass of THnSparseT<TArrayF> is not implemented in rootpy\n"
       ]
      },
      {
       "output_type": "stream",
       "stream": "stderr",
       "text": [
        "WARNING:rootpy] a subclass of THnSparseT<TArrayF> is not implemented in rootpy\n"
       ]
      },
      {
       "output_type": "stream",
       "stream": "stderr",
       "text": [
        "WARNING:rootpy] a subclass of THnSparseT<TArrayF> is not implemented in rootpy\n"
       ]
      },
      {
       "output_type": "stream",
       "stream": "stderr",
       "text": [
        "WARNING:rootpy] a subclass of THnSparseT<TArrayF> is not implemented in rootpy\n"
       ]
      },
      {
       "output_type": "stream",
       "stream": "stdout",
       "text": [
        "\n",
        "h8_6_1\n",
        "h8_2_1\n",
        "h8_3_1\n",
        "h8_7_1\n",
        "h8_4_1"
       ]
      },
      {
       "output_type": "stream",
       "stream": "stderr",
       "text": [
        "WARNING:rootpy] a subclass of THnSparseT<TArrayF> is not implemented in rootpy\n"
       ]
      },
      {
       "output_type": "stream",
       "stream": "stderr",
       "text": [
        "WARNING:rootpy] a subclass of THnSparseT<TArrayF> is not implemented in rootpy\n"
       ]
      },
      {
       "output_type": "stream",
       "stream": "stderr",
       "text": [
        "WARNING:rootpy] a subclass of THnSparseT<TArrayF> is not implemented in rootpy\n"
       ]
      },
      {
       "output_type": "stream",
       "stream": "stderr",
       "text": [
        "WARNING:rootpy] a subclass of THnSparseT<TArrayF> is not implemented in rootpy\n"
       ]
      },
      {
       "output_type": "stream",
       "stream": "stderr",
       "text": [
        "WARNING:rootpy] a subclass of THnSparseT<TArrayF> is not implemented in rootpy\n"
       ]
      },
      {
       "output_type": "stream",
       "stream": "stdout",
       "text": [
        "\n",
        "h8_12_1\n",
        "h8_11_1\n",
        "h8_10_1\n",
        "h8_5_1\n",
        "h8_13_1"
       ]
      },
      {
       "output_type": "stream",
       "stream": "stderr",
       "text": [
        "WARNING:rootpy] a subclass of THnSparseT<TArrayF> is not implemented in rootpy\n"
       ]
      },
      {
       "output_type": "stream",
       "stream": "stderr",
       "text": [
        "WARNING:rootpy] a subclass of THnSparseT<TArrayF> is not implemented in rootpy\n"
       ]
      },
      {
       "output_type": "stream",
       "stream": "stdout",
       "text": [
        "\n",
        "h8_9_1\n",
        "h8_1_1"
       ]
      },
      {
       "output_type": "stream",
       "stream": "stderr",
       "text": [
        "WARNING:rootpy] a subclass of THnSparseT<TArrayF> is not implemented in rootpy\n"
       ]
      },
      {
       "output_type": "stream",
       "stream": "stderr",
       "text": [
        "WARNING:rootpy] a subclass of THnSparseT<TArrayF> is not implemented in rootpy\n"
       ]
      },
      {
       "output_type": "stream",
       "stream": "stderr",
       "text": [
        "WARNING:rootpy] a subclass of THnSparseT<TArrayF> is not implemented in rootpy\n"
       ]
      },
      {
       "output_type": "stream",
       "stream": "stdout",
       "text": [
        "\n",
        "h8_8_1\n",
        "h8_6_1\n",
        "h8_2_1"
       ]
      },
      {
       "output_type": "stream",
       "stream": "stderr",
       "text": [
        "WARNING:rootpy] a subclass of THnSparseT<TArrayF> is not implemented in rootpy\n"
       ]
      },
      {
       "output_type": "stream",
       "stream": "stderr",
       "text": [
        "WARNING:rootpy] a subclass of THnSparseT<TArrayF> is not implemented in rootpy\n"
       ]
      },
      {
       "output_type": "stream",
       "stream": "stdout",
       "text": [
        "\n",
        "h8_3_1\n",
        "h8_7_1"
       ]
      },
      {
       "output_type": "stream",
       "stream": "stderr",
       "text": [
        "WARNING:rootpy] a subclass of THnSparseT<TArrayF> is not implemented in rootpy\n"
       ]
      },
      {
       "output_type": "stream",
       "stream": "stderr",
       "text": [
        "WARNING:rootpy] a subclass of THnSparseT<TArrayF> is not implemented in rootpy\n"
       ]
      },
      {
       "output_type": "stream",
       "stream": "stdout",
       "text": [
        "\n",
        "h8_4_1\n",
        "h8_12_1"
       ]
      },
      {
       "output_type": "stream",
       "stream": "stderr",
       "text": [
        "WARNING:rootpy] a subclass of THnSparseT<TArrayF> is not implemented in rootpy\n"
       ]
      },
      {
       "output_type": "stream",
       "stream": "stderr",
       "text": [
        "WARNING:rootpy] a subclass of THnSparseT<TArrayF> is not implemented in rootpy\n"
       ]
      },
      {
       "output_type": "stream",
       "stream": "stdout",
       "text": [
        "\n",
        "h8_11_1\n",
        "h8_10_1"
       ]
      },
      {
       "output_type": "stream",
       "stream": "stderr",
       "text": [
        "WARNING:rootpy] a subclass of THnSparseT<TArrayF> is not implemented in rootpy\n"
       ]
      },
      {
       "output_type": "stream",
       "stream": "stderr",
       "text": [
        "WARNING:rootpy] a subclass of THnSparseT<TArrayF> is not implemented in rootpy\n"
       ]
      },
      {
       "output_type": "stream",
       "stream": "stdout",
       "text": [
        "\n",
        "h8_5_1\n",
        "h8_13_1"
       ]
      },
      {
       "output_type": "stream",
       "stream": "stderr",
       "text": [
        "WARNING:rootpy] a subclass of THnSparseT<TArrayF> is not implemented in rootpy\n"
       ]
      },
      {
       "output_type": "stream",
       "stream": "stderr",
       "text": [
        "WARNING:rootpy] a subclass of THnSparseT<TArrayF> is not implemented in rootpy\n"
       ]
      },
      {
       "output_type": "stream",
       "stream": "stderr",
       "text": [
        "WARNING:rootpy] a subclass of THnSparseT<TArrayF> is not implemented in rootpy\n"
       ]
      },
      {
       "output_type": "stream",
       "stream": "stderr",
       "text": [
        "WARNING:rootpy] a subclass of THnSparseT<TArrayF> is not implemented in rootpy\n"
       ]
      },
      {
       "output_type": "stream",
       "stream": "stderr",
       "text": [
        "WARNING:rootpy] a subclass of THnSparseT<TArrayF> is not implemented in rootpy\n"
       ]
      },
      {
       "output_type": "stream",
       "stream": "stdout",
       "text": [
        "\n",
        "h8_9_1\n",
        "h8_1_1\n",
        "h8_8_1\n",
        "h8_6_1\n",
        "h8_2_1"
       ]
      },
      {
       "output_type": "stream",
       "stream": "stderr",
       "text": [
        "WARNING:rootpy] a subclass of THnSparseT<TArrayF> is not implemented in rootpy\n"
       ]
      },
      {
       "output_type": "stream",
       "stream": "stderr",
       "text": [
        "WARNING:rootpy] a subclass of THnSparseT<TArrayF> is not implemented in rootpy\n"
       ]
      },
      {
       "output_type": "stream",
       "stream": "stderr",
       "text": [
        "WARNING:rootpy] a subclass of THnSparseT<TArrayF> is not implemented in rootpy\n"
       ]
      },
      {
       "output_type": "stream",
       "stream": "stderr",
       "text": [
        "WARNING:rootpy] a subclass of THnSparseT<TArrayF> is not implemented in rootpy\n"
       ]
      },
      {
       "output_type": "stream",
       "stream": "stderr",
       "text": [
        "WARNING:rootpy] a subclass of THnSparseT<TArrayF> is not implemented in rootpy\n"
       ]
      },
      {
       "output_type": "stream",
       "stream": "stderr",
       "text": [
        "WARNING:rootpy] a subclass of THnSparseT<TArrayF> is not implemented in rootpy\n"
       ]
      },
      {
       "output_type": "stream",
       "stream": "stderr",
       "text": [
        "WARNING:rootpy] a subclass of THnSparseT<TArrayF> is not implemented in rootpy\n"
       ]
      },
      {
       "output_type": "stream",
       "stream": "stdout",
       "text": [
        "\n",
        "h8_3_1\n",
        "h8_7_1\n",
        "h8_4_1\n",
        "h8_12_1\n",
        "h8_11_1\n",
        "h8_10_1\n",
        "52"
       ]
      },
      {
       "output_type": "stream",
       "stream": "stdout",
       "text": [
        "\n"
       ]
      }
     ],
     "prompt_number": 10
    },
    {
     "cell_type": "code",
     "collapsed": false,
     "input": [
      "ROOT.gROOT.ProcessLine(\".L THnTool.C+\")\n",
      "from ROOT import THnTool\n",
      "\n",
      "# Tools \n",
      "thntool=THnTool()"
     ],
     "language": "python",
     "metadata": {},
     "outputs": [],
     "prompt_number": 11
    },
    {
     "cell_type": "code",
     "collapsed": false,
     "input": [
      "itgrl=0\n",
      "for h in h8:\n",
      "    itgrl+=thntool.GetIntegral(h)\n",
      "print \"Total entries in h8s=\",itgrl"
     ],
     "language": "python",
     "metadata": {},
     "outputs": [
      {
       "output_type": "stream",
       "stream": "stdout",
       "text": [
        "Total entries in h8s= 3975607.0\n"
       ]
      }
     ],
     "prompt_number": 12
    },
    {
     "cell_type": "code",
     "collapsed": false,
     "input": [
      "f_yield=root_open(os.path.join(os.environ['OBSDIR'],'siml','yield_exp.root'))\n",
      "h5=[]\n",
      "for dirpaths,dirs,files in f_yield.walk():\n",
      "    if dirpaths==\"\":continue #! Avoid root path\n",
      "    dirpath_arr=dirpaths.split(\"/\")\n",
      "    if len(dirpath_arr)==1:\n",
      "        #print dirpaths\n",
      "        h5.append(f_yield.Get(\"%s/VST1/R/h5_UNPOL\"%(dirpaths)))"
     ],
     "language": "python",
     "metadata": {},
     "outputs": [
      {
       "output_type": "stream",
       "stream": "stderr",
       "text": [
        "WARNING:rootpy] a subclass of THnSparseT<TArrayF> is not implemented in rootpy\n"
       ]
      },
      {
       "output_type": "stream",
       "stream": "stderr",
       "text": [
        "WARNING:rootpy] a subclass of THnSparseT<TArrayF> is not implemented in rootpy\n"
       ]
      },
      {
       "output_type": "stream",
       "stream": "stderr",
       "text": [
        "WARNING:rootpy] a subclass of THnSparseT<TArrayF> is not implemented in rootpy\n"
       ]
      },
      {
       "output_type": "stream",
       "stream": "stderr",
       "text": [
        "WARNING:rootpy] a subclass of THnSparseT<TArrayF> is not implemented in rootpy\n"
       ]
      },
      {
       "output_type": "stream",
       "stream": "stderr",
       "text": [
        "WARNING:rootpy] a subclass of THnSparseT<TArrayF> is not implemented in rootpy\n"
       ]
      },
      {
       "output_type": "stream",
       "stream": "stderr",
       "text": [
        "WARNING:rootpy] a subclass of THnSparseT<TArrayF> is not implemented in rootpy\n"
       ]
      },
      {
       "output_type": "stream",
       "stream": "stderr",
       "text": [
        "WARNING:rootpy] a subclass of THnSparseT<TArrayF> is not implemented in rootpy\n"
       ]
      },
      {
       "output_type": "stream",
       "stream": "stderr",
       "text": [
        "WARNING:rootpy] a subclass of THnSparseT<TArrayF> is not implemented in rootpy\n"
       ]
      },
      {
       "output_type": "stream",
       "stream": "stderr",
       "text": [
        "WARNING:rootpy] a subclass of THnSparseT<TArrayF> is not implemented in rootpy\n"
       ]
      },
      {
       "output_type": "stream",
       "stream": "stderr",
       "text": [
        "WARNING:rootpy] a subclass of THnSparseT<TArrayF> is not implemented in rootpy\n"
       ]
      },
      {
       "output_type": "stream",
       "stream": "stderr",
       "text": [
        "WARNING:rootpy] a subclass of THnSparseT<TArrayF> is not implemented in rootpy\n"
       ]
      },
      {
       "output_type": "stream",
       "stream": "stderr",
       "text": [
        "WARNING:rootpy] a subclass of THnSparseT<TArrayF> is not implemented in rootpy\n"
       ]
      },
      {
       "output_type": "stream",
       "stream": "stderr",
       "text": [
        "WARNING:rootpy] a subclass of THnSparseT<TArrayF> is not implemented in rootpy\n"
       ]
      },
      {
       "output_type": "stream",
       "stream": "stderr",
       "text": [
        "WARNING:rootpy] a subclass of THnSparseT<TArrayF> is not implemented in rootpy\n"
       ]
      },
      {
       "output_type": "stream",
       "stream": "stderr",
       "text": [
        "WARNING:rootpy] a subclass of THnSparseT<TArrayF> is not implemented in rootpy\n"
       ]
      },
      {
       "output_type": "stream",
       "stream": "stderr",
       "text": [
        "WARNING:rootpy] a subclass of THnSparseT<TArrayF> is not implemented in rootpy\n"
       ]
      },
      {
       "output_type": "stream",
       "stream": "stderr",
       "text": [
        "WARNING:rootpy] a subclass of THnSparseT<TArrayF> is not implemented in rootpy\n"
       ]
      },
      {
       "output_type": "stream",
       "stream": "stderr",
       "text": [
        "WARNING:rootpy] a subclass of THnSparseT<TArrayF> is not implemented in rootpy\n"
       ]
      },
      {
       "output_type": "stream",
       "stream": "stderr",
       "text": [
        "WARNING:rootpy] a subclass of THnSparseT<TArrayF> is not implemented in rootpy\n"
       ]
      },
      {
       "output_type": "stream",
       "stream": "stderr",
       "text": [
        "WARNING:rootpy] a subclass of THnSparseT<TArrayF> is not implemented in rootpy\n"
       ]
      },
      {
       "output_type": "stream",
       "stream": "stderr",
       "text": [
        "WARNING:rootpy] a subclass of THnSparseT<TArrayF> is not implemented in rootpy\n"
       ]
      },
      {
       "output_type": "stream",
       "stream": "stderr",
       "text": [
        "WARNING:rootpy] a subclass of THnSparseT<TArrayF> is not implemented in rootpy\n"
       ]
      },
      {
       "output_type": "stream",
       "stream": "stderr",
       "text": [
        "WARNING:rootpy] a subclass of THnSparseT<TArrayF> is not implemented in rootpy\n"
       ]
      },
      {
       "output_type": "stream",
       "stream": "stderr",
       "text": [
        "WARNING:rootpy] a subclass of THnSparseT<TArrayF> is not implemented in rootpy\n"
       ]
      },
      {
       "output_type": "stream",
       "stream": "stderr",
       "text": [
        "WARNING:rootpy] a subclass of THnSparseT<TArrayF> is not implemented in rootpy\n"
       ]
      },
      {
       "output_type": "stream",
       "stream": "stderr",
       "text": [
        "WARNING:rootpy] a subclass of THnSparseT<TArrayF> is not implemented in rootpy\n"
       ]
      },
      {
       "output_type": "stream",
       "stream": "stderr",
       "text": [
        "WARNING:rootpy] a subclass of THnSparseT<TArrayF> is not implemented in rootpy\n"
       ]
      },
      {
       "output_type": "stream",
       "stream": "stderr",
       "text": [
        "WARNING:rootpy] a subclass of THnSparseT<TArrayF> is not implemented in rootpy\n"
       ]
      },
      {
       "output_type": "stream",
       "stream": "stderr",
       "text": [
        "WARNING:rootpy] a subclass of THnSparseT<TArrayF> is not implemented in rootpy\n"
       ]
      },
      {
       "output_type": "stream",
       "stream": "stderr",
       "text": [
        "WARNING:rootpy] a subclass of THnSparseT<TArrayF> is not implemented in rootpy\n"
       ]
      },
      {
       "output_type": "stream",
       "stream": "stderr",
       "text": [
        "WARNING:rootpy] a subclass of THnSparseT<TArrayF> is not implemented in rootpy\n"
       ]
      },
      {
       "output_type": "stream",
       "stream": "stderr",
       "text": [
        "WARNING:rootpy] a subclass of THnSparseT<TArrayF> is not implemented in rootpy\n"
       ]
      },
      {
       "output_type": "stream",
       "stream": "stderr",
       "text": [
        "WARNING:rootpy] a subclass of THnSparseT<TArrayF> is not implemented in rootpy\n"
       ]
      },
      {
       "output_type": "stream",
       "stream": "stderr",
       "text": [
        "WARNING:rootpy] a subclass of THnSparseT<TArrayF> is not implemented in rootpy\n"
       ]
      },
      {
       "output_type": "stream",
       "stream": "stderr",
       "text": [
        "WARNING:rootpy] a subclass of THnSparseT<TArrayF> is not implemented in rootpy\n"
       ]
      },
      {
       "output_type": "stream",
       "stream": "stderr",
       "text": [
        "WARNING:rootpy] a subclass of THnSparseT<TArrayF> is not implemented in rootpy\n"
       ]
      },
      {
       "output_type": "stream",
       "stream": "stderr",
       "text": [
        "WARNING:rootpy] a subclass of THnSparseT<TArrayF> is not implemented in rootpy\n"
       ]
      },
      {
       "output_type": "stream",
       "stream": "stderr",
       "text": [
        "WARNING:rootpy] a subclass of THnSparseT<TArrayF> is not implemented in rootpy\n"
       ]
      },
      {
       "output_type": "stream",
       "stream": "stderr",
       "text": [
        "WARNING:rootpy] a subclass of THnSparseT<TArrayF> is not implemented in rootpy\n"
       ]
      },
      {
       "output_type": "stream",
       "stream": "stderr",
       "text": [
        "WARNING:rootpy] a subclass of THnSparseT<TArrayF> is not implemented in rootpy\n"
       ]
      },
      {
       "output_type": "stream",
       "stream": "stderr",
       "text": [
        "WARNING:rootpy] a subclass of THnSparseT<TArrayF> is not implemented in rootpy\n"
       ]
      },
      {
       "output_type": "stream",
       "stream": "stderr",
       "text": [
        "WARNING:rootpy] a subclass of THnSparseT<TArrayF> is not implemented in rootpy\n"
       ]
      },
      {
       "output_type": "stream",
       "stream": "stderr",
       "text": [
        "WARNING:rootpy] a subclass of THnSparseT<TArrayF> is not implemented in rootpy\n"
       ]
      },
      {
       "output_type": "stream",
       "stream": "stderr",
       "text": [
        "WARNING:rootpy] a subclass of THnSparseT<TArrayF> is not implemented in rootpy\n"
       ]
      },
      {
       "output_type": "stream",
       "stream": "stderr",
       "text": [
        "WARNING:rootpy] a subclass of THnSparseT<TArrayF> is not implemented in rootpy\n"
       ]
      },
      {
       "output_type": "stream",
       "stream": "stderr",
       "text": [
        "WARNING:rootpy] a subclass of THnSparseT<TArrayF> is not implemented in rootpy\n"
       ]
      },
      {
       "output_type": "stream",
       "stream": "stderr",
       "text": [
        "WARNING:rootpy] a subclass of THnSparseT<TArrayF> is not implemented in rootpy\n"
       ]
      },
      {
       "output_type": "stream",
       "stream": "stderr",
       "text": [
        "WARNING:rootpy] a subclass of THnSparseT<TArrayF> is not implemented in rootpy\n"
       ]
      },
      {
       "output_type": "stream",
       "stream": "stderr",
       "text": [
        "WARNING:rootpy] a subclass of THnSparseT<TArrayF> is not implemented in rootpy\n"
       ]
      },
      {
       "output_type": "stream",
       "stream": "stderr",
       "text": [
        "WARNING:rootpy] a subclass of THnSparseT<TArrayF> is not implemented in rootpy\n"
       ]
      },
      {
       "output_type": "stream",
       "stream": "stderr",
       "text": [
        "WARNING:rootpy] a subclass of THnSparseT<TArrayF> is not implemented in rootpy\n"
       ]
      },
      {
       "output_type": "stream",
       "stream": "stderr",
       "text": [
        "WARNING:rootpy] a subclass of THnSparseT<TArrayF> is not implemented in rootpy\n"
       ]
      },
      {
       "output_type": "stream",
       "stream": "stderr",
       "text": [
        "WARNING:rootpy] a subclass of THnSparseT<TArrayF> is not implemented in rootpy\n"
       ]
      },
      {
       "output_type": "stream",
       "stream": "stderr",
       "text": [
        "WARNING:rootpy] a subclass of THnSparseT<TArrayF> is not implemented in rootpy\n"
       ]
      },
      {
       "output_type": "stream",
       "stream": "stderr",
       "text": [
        "WARNING:rootpy] a subclass of THnSparseT<TArrayF> is not implemented in rootpy\n"
       ]
      },
      {
       "output_type": "stream",
       "stream": "stderr",
       "text": [
        "WARNING:rootpy] a subclass of THnSparseT<TArrayF> is not implemented in rootpy\n"
       ]
      },
      {
       "output_type": "stream",
       "stream": "stderr",
       "text": [
        "WARNING:rootpy] a subclass of THnSparseT<TArrayF> is not implemented in rootpy\n"
       ]
      },
      {
       "output_type": "stream",
       "stream": "stderr",
       "text": [
        "WARNING:rootpy] a subclass of THnSparseT<TArrayF> is not implemented in rootpy\n"
       ]
      },
      {
       "output_type": "stream",
       "stream": "stderr",
       "text": [
        "WARNING:rootpy] a subclass of THnSparseT<TArrayF> is not implemented in rootpy\n"
       ]
      },
      {
       "output_type": "stream",
       "stream": "stderr",
       "text": [
        "WARNING:rootpy] a subclass of THnSparseT<TArrayF> is not implemented in rootpy\n"
       ]
      },
      {
       "output_type": "stream",
       "stream": "stderr",
       "text": [
        "WARNING:rootpy] a subclass of THnSparseT<TArrayF> is not implemented in rootpy\n"
       ]
      },
      {
       "output_type": "stream",
       "stream": "stderr",
       "text": [
        "WARNING:rootpy] a subclass of THnSparseT<TArrayF> is not implemented in rootpy\n"
       ]
      },
      {
       "output_type": "stream",
       "stream": "stderr",
       "text": [
        "WARNING:rootpy] a subclass of THnSparseT<TArrayF> is not implemented in rootpy\n"
       ]
      },
      {
       "output_type": "stream",
       "stream": "stderr",
       "text": [
        "WARNING:rootpy] a subclass of THnSparseT<TArrayF> is not implemented in rootpy\n"
       ]
      },
      {
       "output_type": "stream",
       "stream": "stderr",
       "text": [
        "WARNING:rootpy] a subclass of THnSparseT<TArrayF> is not implemented in rootpy\n"
       ]
      },
      {
       "output_type": "stream",
       "stream": "stderr",
       "text": [
        "WARNING:rootpy] a subclass of THnSparseT<TArrayF> is not implemented in rootpy\n"
       ]
      },
      {
       "output_type": "stream",
       "stream": "stderr",
       "text": [
        "WARNING:rootpy] a subclass of THnSparseT<TArrayF> is not implemented in rootpy\n"
       ]
      },
      {
       "output_type": "stream",
       "stream": "stderr",
       "text": [
        "WARNING:rootpy] a subclass of THnSparseT<TArrayF> is not implemented in rootpy\n"
       ]
      },
      {
       "output_type": "stream",
       "stream": "stderr",
       "text": [
        "WARNING:rootpy] a subclass of THnSparseT<TArrayF> is not implemented in rootpy\n"
       ]
      },
      {
       "output_type": "stream",
       "stream": "stderr",
       "text": [
        "WARNING:rootpy] a subclass of THnSparseT<TArrayF> is not implemented in rootpy\n"
       ]
      },
      {
       "output_type": "stream",
       "stream": "stderr",
       "text": [
        "WARNING:rootpy] a subclass of THnSparseT<TArrayF> is not implemented in rootpy\n"
       ]
      },
      {
       "output_type": "stream",
       "stream": "stderr",
       "text": [
        "WARNING:rootpy] a subclass of THnSparseT<TArrayF> is not implemented in rootpy\n"
       ]
      },
      {
       "output_type": "stream",
       "stream": "stderr",
       "text": [
        "WARNING:rootpy] a subclass of THnSparseT<TArrayF> is not implemented in rootpy\n"
       ]
      },
      {
       "output_type": "stream",
       "stream": "stderr",
       "text": [
        "WARNING:rootpy] a subclass of THnSparseT<TArrayF> is not implemented in rootpy\n"
       ]
      },
      {
       "output_type": "stream",
       "stream": "stderr",
       "text": [
        "WARNING:rootpy] a subclass of THnSparseT<TArrayF> is not implemented in rootpy\n"
       ]
      },
      {
       "output_type": "stream",
       "stream": "stderr",
       "text": [
        "WARNING:rootpy] a subclass of THnSparseT<TArrayF> is not implemented in rootpy\n"
       ]
      },
      {
       "output_type": "stream",
       "stream": "stderr",
       "text": [
        "WARNING:rootpy] a subclass of THnSparseT<TArrayF> is not implemented in rootpy\n"
       ]
      },
      {
       "output_type": "stream",
       "stream": "stderr",
       "text": [
        "WARNING:rootpy] a subclass of THnSparseT<TArrayF> is not implemented in rootpy\n"
       ]
      },
      {
       "output_type": "stream",
       "stream": "stderr",
       "text": [
        "WARNING:rootpy] a subclass of THnSparseT<TArrayF> is not implemented in rootpy\n"
       ]
      },
      {
       "output_type": "stream",
       "stream": "stderr",
       "text": [
        "WARNING:rootpy] a subclass of THnSparseT<TArrayF> is not implemented in rootpy\n"
       ]
      },
      {
       "output_type": "stream",
       "stream": "stderr",
       "text": [
        "WARNING:rootpy] a subclass of THnSparseT<TArrayF> is not implemented in rootpy\n"
       ]
      },
      {
       "output_type": "stream",
       "stream": "stderr",
       "text": [
        "WARNING:rootpy] a subclass of THnSparseT<TArrayF> is not implemented in rootpy\n"
       ]
      },
      {
       "output_type": "stream",
       "stream": "stderr",
       "text": [
        "WARNING:rootpy] a subclass of THnSparseT<TArrayF> is not implemented in rootpy\n"
       ]
      },
      {
       "output_type": "stream",
       "stream": "stderr",
       "text": [
        "WARNING:rootpy] a subclass of THnSparseT<TArrayF> is not implemented in rootpy\n"
       ]
      },
      {
       "output_type": "stream",
       "stream": "stderr",
       "text": [
        "WARNING:rootpy] a subclass of THnSparseT<TArrayF> is not implemented in rootpy\n"
       ]
      },
      {
       "output_type": "stream",
       "stream": "stderr",
       "text": [
        "WARNING:rootpy] a subclass of THnSparseT<TArrayF> is not implemented in rootpy\n"
       ]
      },
      {
       "output_type": "stream",
       "stream": "stderr",
       "text": [
        "WARNING:rootpy] a subclass of THnSparseT<TArrayF> is not implemented in rootpy\n"
       ]
      },
      {
       "output_type": "stream",
       "stream": "stderr",
       "text": [
        "WARNING:rootpy] a subclass of THnSparseT<TArrayF> is not implemented in rootpy\n"
       ]
      },
      {
       "output_type": "stream",
       "stream": "stderr",
       "text": [
        "WARNING:rootpy] a subclass of THnSparseT<TArrayF> is not implemented in rootpy\n"
       ]
      },
      {
       "output_type": "stream",
       "stream": "stderr",
       "text": [
        "WARNING:rootpy] a subclass of THnSparseT<TArrayF> is not implemented in rootpy\n"
       ]
      },
      {
       "output_type": "stream",
       "stream": "stderr",
       "text": [
        "WARNING:rootpy] a subclass of THnSparseT<TArrayF> is not implemented in rootpy\n"
       ]
      },
      {
       "output_type": "stream",
       "stream": "stderr",
       "text": [
        "WARNING:rootpy] a subclass of THnSparseT<TArrayF> is not implemented in rootpy\n"
       ]
      },
      {
       "output_type": "stream",
       "stream": "stderr",
       "text": [
        "WARNING:rootpy] a subclass of THnSparseT<TArrayF> is not implemented in rootpy\n"
       ]
      },
      {
       "output_type": "stream",
       "stream": "stderr",
       "text": [
        "WARNING:rootpy] a subclass of THnSparseT<TArrayF> is not implemented in rootpy\n"
       ]
      },
      {
       "output_type": "stream",
       "stream": "stderr",
       "text": [
        "WARNING:rootpy] a subclass of THnSparseT<TArrayF> is not implemented in rootpy\n"
       ]
      },
      {
       "output_type": "stream",
       "stream": "stderr",
       "text": [
        "WARNING:rootpy] a subclass of THnSparseT<TArrayF> is not implemented in rootpy\n"
       ]
      },
      {
       "output_type": "stream",
       "stream": "stderr",
       "text": [
        "WARNING:rootpy] a subclass of THnSparseT<TArrayF> is not implemented in rootpy\n"
       ]
      },
      {
       "output_type": "stream",
       "stream": "stderr",
       "text": [
        "WARNING:rootpy] a subclass of THnSparseT<TArrayF> is not implemented in rootpy\n"
       ]
      },
      {
       "output_type": "stream",
       "stream": "stderr",
       "text": [
        "WARNING:rootpy] a subclass of THnSparseT<TArrayF> is not implemented in rootpy\n"
       ]
      },
      {
       "output_type": "stream",
       "stream": "stderr",
       "text": [
        "WARNING:rootpy] a subclass of THnSparseT<TArrayF> is not implemented in rootpy\n"
       ]
      },
      {
       "output_type": "stream",
       "stream": "stderr",
       "text": [
        "WARNING:rootpy] a subclass of THnSparseT<TArrayF> is not implemented in rootpy\n"
       ]
      },
      {
       "output_type": "stream",
       "stream": "stderr",
       "text": [
        "WARNING:rootpy] a subclass of THnSparseT<TArrayF> is not implemented in rootpy\n"
       ]
      },
      {
       "output_type": "stream",
       "stream": "stderr",
       "text": [
        "WARNING:rootpy] a subclass of THnSparseT<TArrayF> is not implemented in rootpy\n"
       ]
      },
      {
       "output_type": "stream",
       "stream": "stderr",
       "text": [
        "WARNING:rootpy] a subclass of THnSparseT<TArrayF> is not implemented in rootpy\n"
       ]
      },
      {
       "output_type": "stream",
       "stream": "stderr",
       "text": [
        "WARNING:rootpy] a subclass of THnSparseT<TArrayF> is not implemented in rootpy\n"
       ]
      },
      {
       "output_type": "stream",
       "stream": "stderr",
       "text": [
        "WARNING:rootpy] a subclass of THnSparseT<TArrayF> is not implemented in rootpy\n"
       ]
      },
      {
       "output_type": "stream",
       "stream": "stderr",
       "text": [
        "WARNING:rootpy] a subclass of THnSparseT<TArrayF> is not implemented in rootpy\n"
       ]
      },
      {
       "output_type": "stream",
       "stream": "stderr",
       "text": [
        "WARNING:rootpy] a subclass of THnSparseT<TArrayF> is not implemented in rootpy\n"
       ]
      },
      {
       "output_type": "stream",
       "stream": "stderr",
       "text": [
        "WARNING:rootpy] a subclass of THnSparseT<TArrayF> is not implemented in rootpy\n"
       ]
      },
      {
       "output_type": "stream",
       "stream": "stderr",
       "text": [
        "WARNING:rootpy] a subclass of THnSparseT<TArrayF> is not implemented in rootpy\n"
       ]
      },
      {
       "output_type": "stream",
       "stream": "stderr",
       "text": [
        "WARNING:rootpy] a subclass of THnSparseT<TArrayF> is not implemented in rootpy\n"
       ]
      },
      {
       "output_type": "stream",
       "stream": "stderr",
       "text": [
        "WARNING:rootpy] a subclass of THnSparseT<TArrayF> is not implemented in rootpy\n"
       ]
      },
      {
       "output_type": "stream",
       "stream": "stderr",
       "text": [
        "WARNING:rootpy] a subclass of THnSparseT<TArrayF> is not implemented in rootpy\n"
       ]
      },
      {
       "output_type": "stream",
       "stream": "stderr",
       "text": [
        "WARNING:rootpy] a subclass of THnSparseT<TArrayF> is not implemented in rootpy\n"
       ]
      },
      {
       "output_type": "stream",
       "stream": "stderr",
       "text": [
        "WARNING:rootpy] a subclass of THnSparseT<TArrayF> is not implemented in rootpy\n"
       ]
      },
      {
       "output_type": "stream",
       "stream": "stderr",
       "text": [
        "WARNING:rootpy] a subclass of THnSparseT<TArrayF> is not implemented in rootpy\n"
       ]
      },
      {
       "output_type": "stream",
       "stream": "stderr",
       "text": [
        "WARNING:rootpy] a subclass of THnSparseT<TArrayF> is not implemented in rootpy\n"
       ]
      },
      {
       "output_type": "stream",
       "stream": "stderr",
       "text": [
        "WARNING:rootpy] a subclass of THnSparseT<TArrayF> is not implemented in rootpy\n"
       ]
      },
      {
       "output_type": "stream",
       "stream": "stderr",
       "text": [
        "WARNING:rootpy] a subclass of THnSparseT<TArrayF> is not implemented in rootpy\n"
       ]
      },
      {
       "output_type": "stream",
       "stream": "stderr",
       "text": [
        "WARNING:rootpy] a subclass of THnSparseT<TArrayF> is not implemented in rootpy\n"
       ]
      },
      {
       "output_type": "stream",
       "stream": "stderr",
       "text": [
        "WARNING:rootpy] a subclass of THnSparseT<TArrayF> is not implemented in rootpy\n"
       ]
      },
      {
       "output_type": "stream",
       "stream": "stderr",
       "text": [
        "WARNING:rootpy] a subclass of THnSparseT<TArrayF> is not implemented in rootpy\n"
       ]
      },
      {
       "output_type": "stream",
       "stream": "stderr",
       "text": [
        "WARNING:rootpy] a subclass of THnSparseT<TArrayF> is not implemented in rootpy\n"
       ]
      },
      {
       "output_type": "stream",
       "stream": "stderr",
       "text": [
        "WARNING:rootpy] a subclass of THnSparseT<TArrayF> is not implemented in rootpy\n"
       ]
      },
      {
       "output_type": "stream",
       "stream": "stderr",
       "text": [
        "WARNING:rootpy] a subclass of THnSparseT<TArrayF> is not implemented in rootpy\n"
       ]
      },
      {
       "output_type": "stream",
       "stream": "stderr",
       "text": [
        "WARNING:rootpy] a subclass of THnSparseT<TArrayF> is not implemented in rootpy\n"
       ]
      },
      {
       "output_type": "stream",
       "stream": "stderr",
       "text": [
        "WARNING:rootpy] a subclass of THnSparseT<TArrayF> is not implemented in rootpy\n"
       ]
      },
      {
       "output_type": "stream",
       "stream": "stderr",
       "text": [
        "WARNING:rootpy] a subclass of THnSparseT<TArrayF> is not implemented in rootpy\n"
       ]
      },
      {
       "output_type": "stream",
       "stream": "stderr",
       "text": [
        "WARNING:rootpy] a subclass of THnSparseT<TArrayF> is not implemented in rootpy\n"
       ]
      },
      {
       "output_type": "stream",
       "stream": "stderr",
       "text": [
        "WARNING:rootpy] a subclass of THnSparseT<TArrayF> is not implemented in rootpy\n"
       ]
      },
      {
       "output_type": "stream",
       "stream": "stderr",
       "text": [
        "WARNING:rootpy] a subclass of THnSparseT<TArrayF> is not implemented in rootpy\n"
       ]
      },
      {
       "output_type": "stream",
       "stream": "stderr",
       "text": [
        "WARNING:rootpy] a subclass of THnSparseT<TArrayF> is not implemented in rootpy\n"
       ]
      },
      {
       "output_type": "stream",
       "stream": "stderr",
       "text": [
        "WARNING:rootpy] a subclass of THnSparseT<TArrayF> is not implemented in rootpy\n"
       ]
      },
      {
       "output_type": "stream",
       "stream": "stderr",
       "text": [
        "WARNING:rootpy] a subclass of THnSparseT<TArrayF> is not implemented in rootpy\n"
       ]
      },
      {
       "output_type": "stream",
       "stream": "stderr",
       "text": [
        "WARNING:rootpy] a subclass of THnSparseT<TArrayF> is not implemented in rootpy\n"
       ]
      },
      {
       "output_type": "stream",
       "stream": "stderr",
       "text": [
        "WARNING:rootpy] a subclass of THnSparseT<TArrayF> is not implemented in rootpy\n"
       ]
      },
      {
       "output_type": "stream",
       "stream": "stderr",
       "text": [
        "WARNING:rootpy] a subclass of THnSparseT<TArrayF> is not implemented in rootpy\n"
       ]
      },
      {
       "output_type": "stream",
       "stream": "stderr",
       "text": [
        "WARNING:rootpy] a subclass of THnSparseT<TArrayF> is not implemented in rootpy\n"
       ]
      },
      {
       "output_type": "stream",
       "stream": "stderr",
       "text": [
        "WARNING:rootpy] a subclass of THnSparseT<TArrayF> is not implemented in rootpy\n"
       ]
      },
      {
       "output_type": "stream",
       "stream": "stderr",
       "text": [
        "WARNING:rootpy] a subclass of THnSparseT<TArrayF> is not implemented in rootpy\n"
       ]
      },
      {
       "output_type": "stream",
       "stream": "stderr",
       "text": [
        "WARNING:rootpy] a subclass of THnSparseT<TArrayF> is not implemented in rootpy\n"
       ]
      },
      {
       "output_type": "stream",
       "stream": "stderr",
       "text": [
        "WARNING:rootpy] a subclass of THnSparseT<TArrayF> is not implemented in rootpy\n"
       ]
      },
      {
       "output_type": "stream",
       "stream": "stderr",
       "text": [
        "WARNING:rootpy] a subclass of THnSparseT<TArrayF> is not implemented in rootpy\n"
       ]
      },
      {
       "output_type": "stream",
       "stream": "stderr",
       "text": [
        "WARNING:rootpy] a subclass of THnSparseT<TArrayF> is not implemented in rootpy\n"
       ]
      },
      {
       "output_type": "stream",
       "stream": "stderr",
       "text": [
        "WARNING:rootpy] a subclass of THnSparseT<TArrayF> is not implemented in rootpy\n"
       ]
      },
      {
       "output_type": "stream",
       "stream": "stderr",
       "text": [
        "WARNING:rootpy] a subclass of THnSparseT<TArrayF> is not implemented in rootpy\n"
       ]
      },
      {
       "output_type": "stream",
       "stream": "stderr",
       "text": [
        "WARNING:rootpy] a subclass of THnSparseT<TArrayF> is not implemented in rootpy\n"
       ]
      },
      {
       "output_type": "stream",
       "stream": "stderr",
       "text": [
        "WARNING:rootpy] a subclass of THnSparseT<TArrayF> is not implemented in rootpy\n"
       ]
      },
      {
       "output_type": "stream",
       "stream": "stderr",
       "text": [
        "WARNING:rootpy] a subclass of THnSparseT<TArrayF> is not implemented in rootpy\n"
       ]
      },
      {
       "output_type": "stream",
       "stream": "stderr",
       "text": [
        "WARNING:rootpy] a subclass of THnSparseT<TArrayF> is not implemented in rootpy\n"
       ]
      },
      {
       "output_type": "stream",
       "stream": "stderr",
       "text": [
        "WARNING:rootpy] a subclass of THnSparseT<TArrayF> is not implemented in rootpy\n"
       ]
      },
      {
       "output_type": "stream",
       "stream": "stderr",
       "text": [
        "WARNING:rootpy] a subclass of THnSparseT<TArrayF> is not implemented in rootpy\n"
       ]
      },
      {
       "output_type": "stream",
       "stream": "stderr",
       "text": [
        "WARNING:rootpy] a subclass of THnSparseT<TArrayF> is not implemented in rootpy\n"
       ]
      },
      {
       "output_type": "stream",
       "stream": "stderr",
       "text": [
        "WARNING:rootpy] a subclass of THnSparseT<TArrayF> is not implemented in rootpy\n"
       ]
      },
      {
       "output_type": "stream",
       "stream": "stderr",
       "text": [
        "WARNING:rootpy] a subclass of THnSparseT<TArrayF> is not implemented in rootpy\n"
       ]
      },
      {
       "output_type": "stream",
       "stream": "stderr",
       "text": [
        "WARNING:rootpy] a subclass of THnSparseT<TArrayF> is not implemented in rootpy\n"
       ]
      },
      {
       "output_type": "stream",
       "stream": "stderr",
       "text": [
        "WARNING:rootpy] a subclass of THnSparseT<TArrayF> is not implemented in rootpy\n"
       ]
      },
      {
       "output_type": "stream",
       "stream": "stderr",
       "text": [
        "WARNING:rootpy] a subclass of THnSparseT<TArrayF> is not implemented in rootpy\n"
       ]
      },
      {
       "output_type": "stream",
       "stream": "stderr",
       "text": [
        "WARNING:rootpy] a subclass of THnSparseT<TArrayF> is not implemented in rootpy\n"
       ]
      },
      {
       "output_type": "stream",
       "stream": "stderr",
       "text": [
        "WARNING:rootpy] a subclass of THnSparseT<TArrayF> is not implemented in rootpy\n"
       ]
      },
      {
       "output_type": "stream",
       "stream": "stderr",
       "text": [
        "WARNING:rootpy] a subclass of THnSparseT<TArrayF> is not implemented in rootpy\n"
       ]
      },
      {
       "output_type": "stream",
       "stream": "stderr",
       "text": [
        "WARNING:rootpy] a subclass of THnSparseT<TArrayF> is not implemented in rootpy\n"
       ]
      },
      {
       "output_type": "stream",
       "stream": "stderr",
       "text": [
        "WARNING:rootpy] a subclass of THnSparseT<TArrayF> is not implemented in rootpy\n"
       ]
      },
      {
       "output_type": "stream",
       "stream": "stderr",
       "text": [
        "WARNING:rootpy] a subclass of THnSparseT<TArrayF> is not implemented in rootpy\n"
       ]
      },
      {
       "output_type": "stream",
       "stream": "stderr",
       "text": [
        "WARNING:rootpy] a subclass of THnSparseT<TArrayF> is not implemented in rootpy\n"
       ]
      },
      {
       "output_type": "stream",
       "stream": "stderr",
       "text": [
        "WARNING:rootpy] a subclass of THnSparseT<TArrayF> is not implemented in rootpy\n"
       ]
      },
      {
       "output_type": "stream",
       "stream": "stderr",
       "text": [
        "WARNING:rootpy] a subclass of THnSparseT<TArrayF> is not implemented in rootpy\n"
       ]
      },
      {
       "output_type": "stream",
       "stream": "stderr",
       "text": [
        "WARNING:rootpy] a subclass of THnSparseT<TArrayF> is not implemented in rootpy\n"
       ]
      },
      {
       "output_type": "stream",
       "stream": "stderr",
       "text": [
        "WARNING:rootpy] a subclass of THnSparseT<TArrayF> is not implemented in rootpy\n"
       ]
      },
      {
       "output_type": "stream",
       "stream": "stderr",
       "text": [
        "WARNING:rootpy] a subclass of THnSparseT<TArrayF> is not implemented in rootpy\n"
       ]
      },
      {
       "output_type": "stream",
       "stream": "stderr",
       "text": [
        "WARNING:rootpy] a subclass of THnSparseT<TArrayF> is not implemented in rootpy\n"
       ]
      },
      {
       "output_type": "stream",
       "stream": "stderr",
       "text": [
        "WARNING:rootpy] a subclass of THnSparseT<TArrayF> is not implemented in rootpy\n"
       ]
      },
      {
       "output_type": "stream",
       "stream": "stderr",
       "text": [
        "WARNING:rootpy] a subclass of THnSparseT<TArrayF> is not implemented in rootpy\n"
       ]
      },
      {
       "output_type": "stream",
       "stream": "stderr",
       "text": [
        "WARNING:rootpy] a subclass of THnSparseT<TArrayF> is not implemented in rootpy\n"
       ]
      },
      {
       "output_type": "stream",
       "stream": "stderr",
       "text": [
        "WARNING:rootpy] a subclass of THnSparseT<TArrayF> is not implemented in rootpy\n"
       ]
      },
      {
       "output_type": "stream",
       "stream": "stderr",
       "text": [
        "WARNING:rootpy] a subclass of THnSparseT<TArrayF> is not implemented in rootpy\n"
       ]
      },
      {
       "output_type": "stream",
       "stream": "stderr",
       "text": [
        "WARNING:rootpy] a subclass of THnSparseT<TArrayF> is not implemented in rootpy\n"
       ]
      },
      {
       "output_type": "stream",
       "stream": "stderr",
       "text": [
        "WARNING:rootpy] a subclass of THnSparseT<TArrayF> is not implemented in rootpy\n"
       ]
      },
      {
       "output_type": "stream",
       "stream": "stderr",
       "text": [
        "WARNING:rootpy] a subclass of THnSparseT<TArrayF> is not implemented in rootpy\n"
       ]
      },
      {
       "output_type": "stream",
       "stream": "stderr",
       "text": [
        "WARNING:rootpy] a subclass of THnSparseT<TArrayF> is not implemented in rootpy\n"
       ]
      },
      {
       "output_type": "stream",
       "stream": "stderr",
       "text": [
        "WARNING:rootpy] a subclass of THnSparseT<TArrayF> is not implemented in rootpy\n"
       ]
      },
      {
       "output_type": "stream",
       "stream": "stderr",
       "text": [
        "WARNING:rootpy] a subclass of THnSparseT<TArrayF> is not implemented in rootpy\n"
       ]
      },
      {
       "output_type": "stream",
       "stream": "stderr",
       "text": [
        "WARNING:rootpy] a subclass of THnSparseT<TArrayF> is not implemented in rootpy\n"
       ]
      },
      {
       "output_type": "stream",
       "stream": "stderr",
       "text": [
        "WARNING:rootpy] a subclass of THnSparseT<TArrayF> is not implemented in rootpy\n"
       ]
      },
      {
       "output_type": "stream",
       "stream": "stderr",
       "text": [
        "WARNING:rootpy] a subclass of THnSparseT<TArrayF> is not implemented in rootpy\n"
       ]
      },
      {
       "output_type": "stream",
       "stream": "stderr",
       "text": [
        "WARNING:rootpy] a subclass of THnSparseT<TArrayF> is not implemented in rootpy\n"
       ]
      },
      {
       "output_type": "stream",
       "stream": "stderr",
       "text": [
        "WARNING:rootpy] a subclass of THnSparseT<TArrayF> is not implemented in rootpy\n"
       ]
      },
      {
       "output_type": "stream",
       "stream": "stderr",
       "text": [
        "WARNING:rootpy] a subclass of THnSparseT<TArrayF> is not implemented in rootpy\n"
       ]
      },
      {
       "output_type": "stream",
       "stream": "stderr",
       "text": [
        "WARNING:rootpy] a subclass of THnSparseT<TArrayF> is not implemented in rootpy\n"
       ]
      },
      {
       "output_type": "stream",
       "stream": "stderr",
       "text": [
        "WARNING:rootpy] a subclass of THnSparseT<TArrayF> is not implemented in rootpy\n"
       ]
      },
      {
       "output_type": "stream",
       "stream": "stderr",
       "text": [
        "WARNING:rootpy] a subclass of THnSparseT<TArrayF> is not implemented in rootpy\n"
       ]
      },
      {
       "output_type": "stream",
       "stream": "stderr",
       "text": [
        "WARNING:rootpy] a subclass of THnSparseT<TArrayF> is not implemented in rootpy\n"
       ]
      },
      {
       "output_type": "stream",
       "stream": "stderr",
       "text": [
        "WARNING:rootpy] a subclass of THnSparseT<TArrayF> is not implemented in rootpy\n"
       ]
      },
      {
       "output_type": "stream",
       "stream": "stderr",
       "text": [
        "WARNING:rootpy] a subclass of THnSparseT<TArrayF> is not implemented in rootpy\n"
       ]
      },
      {
       "output_type": "stream",
       "stream": "stderr",
       "text": [
        "WARNING:rootpy] a subclass of THnSparseT<TArrayF> is not implemented in rootpy\n"
       ]
      },
      {
       "output_type": "stream",
       "stream": "stderr",
       "text": [
        "WARNING:rootpy] a subclass of THnSparseT<TArrayF> is not implemented in rootpy\n"
       ]
      },
      {
       "output_type": "stream",
       "stream": "stderr",
       "text": [
        "WARNING:rootpy] a subclass of THnSparseT<TArrayF> is not implemented in rootpy\n"
       ]
      },
      {
       "output_type": "stream",
       "stream": "stderr",
       "text": [
        "WARNING:rootpy] a subclass of THnSparseT<TArrayF> is not implemented in rootpy\n"
       ]
      },
      {
       "output_type": "stream",
       "stream": "stderr",
       "text": [
        "WARNING:rootpy] a subclass of THnSparseT<TArrayF> is not implemented in rootpy\n"
       ]
      },
      {
       "output_type": "stream",
       "stream": "stderr",
       "text": [
        "WARNING:rootpy] a subclass of THnSparseT<TArrayF> is not implemented in rootpy\n"
       ]
      },
      {
       "output_type": "stream",
       "stream": "stderr",
       "text": [
        "WARNING:rootpy] a subclass of THnSparseT<TArrayF> is not implemented in rootpy\n"
       ]
      },
      {
       "output_type": "stream",
       "stream": "stderr",
       "text": [
        "WARNING:rootpy] a subclass of THnSparseT<TArrayF> is not implemented in rootpy\n"
       ]
      },
      {
       "output_type": "stream",
       "stream": "stderr",
       "text": [
        "WARNING:rootpy] a subclass of THnSparseT<TArrayF> is not implemented in rootpy\n"
       ]
      },
      {
       "output_type": "stream",
       "stream": "stderr",
       "text": [
        "WARNING:rootpy] a subclass of THnSparseT<TArrayF> is not implemented in rootpy\n"
       ]
      },
      {
       "output_type": "stream",
       "stream": "stderr",
       "text": [
        "WARNING:rootpy] a subclass of THnSparseT<TArrayF> is not implemented in rootpy\n"
       ]
      },
      {
       "output_type": "stream",
       "stream": "stderr",
       "text": [
        "WARNING:rootpy] a subclass of THnSparseT<TArrayF> is not implemented in rootpy\n"
       ]
      },
      {
       "output_type": "stream",
       "stream": "stderr",
       "text": [
        "WARNING:rootpy] a subclass of THnSparseT<TArrayF> is not implemented in rootpy\n"
       ]
      },
      {
       "output_type": "stream",
       "stream": "stderr",
       "text": [
        "WARNING:rootpy] a subclass of THnSparseT<TArrayF> is not implemented in rootpy\n"
       ]
      },
      {
       "output_type": "stream",
       "stream": "stderr",
       "text": [
        "WARNING:rootpy] a subclass of THnSparseT<TArrayF> is not implemented in rootpy\n"
       ]
      },
      {
       "output_type": "stream",
       "stream": "stderr",
       "text": [
        "WARNING:rootpy] a subclass of THnSparseT<TArrayF> is not implemented in rootpy\n"
       ]
      },
      {
       "output_type": "stream",
       "stream": "stderr",
       "text": [
        "WARNING:rootpy] a subclass of THnSparseT<TArrayF> is not implemented in rootpy\n"
       ]
      },
      {
       "output_type": "stream",
       "stream": "stderr",
       "text": [
        "WARNING:rootpy] a subclass of THnSparseT<TArrayF> is not implemented in rootpy\n"
       ]
      },
      {
       "output_type": "stream",
       "stream": "stderr",
       "text": [
        "WARNING:rootpy] a subclass of THnSparseT<TArrayF> is not implemented in rootpy\n"
       ]
      },
      {
       "output_type": "stream",
       "stream": "stderr",
       "text": [
        "WARNING:rootpy] a subclass of THnSparseT<TArrayF> is not implemented in rootpy\n"
       ]
      },
      {
       "output_type": "stream",
       "stream": "stderr",
       "text": [
        "WARNING:rootpy] a subclass of THnSparseT<TArrayF> is not implemented in rootpy\n"
       ]
      },
      {
       "output_type": "stream",
       "stream": "stderr",
       "text": [
        "WARNING:rootpy] a subclass of THnSparseT<TArrayF> is not implemented in rootpy\n"
       ]
      },
      {
       "output_type": "stream",
       "stream": "stderr",
       "text": [
        "WARNING:rootpy] a subclass of THnSparseT<TArrayF> is not implemented in rootpy\n"
       ]
      },
      {
       "output_type": "stream",
       "stream": "stderr",
       "text": [
        "WARNING:rootpy] a subclass of THnSparseT<TArrayF> is not implemented in rootpy\n"
       ]
      },
      {
       "output_type": "stream",
       "stream": "stderr",
       "text": [
        "WARNING:rootpy] a subclass of THnSparseT<TArrayF> is not implemented in rootpy\n"
       ]
      },
      {
       "output_type": "stream",
       "stream": "stderr",
       "text": [
        "WARNING:rootpy] a subclass of THnSparseT<TArrayF> is not implemented in rootpy\n"
       ]
      },
      {
       "output_type": "stream",
       "stream": "stderr",
       "text": [
        "WARNING:rootpy] a subclass of THnSparseT<TArrayF> is not implemented in rootpy\n"
       ]
      },
      {
       "output_type": "stream",
       "stream": "stderr",
       "text": [
        "WARNING:rootpy] a subclass of THnSparseT<TArrayF> is not implemented in rootpy\n"
       ]
      },
      {
       "output_type": "stream",
       "stream": "stderr",
       "text": [
        "WARNING:rootpy] a subclass of THnSparseT<TArrayF> is not implemented in rootpy\n"
       ]
      },
      {
       "output_type": "stream",
       "stream": "stderr",
       "text": [
        "WARNING:rootpy] a subclass of THnSparseT<TArrayF> is not implemented in rootpy\n"
       ]
      },
      {
       "output_type": "stream",
       "stream": "stderr",
       "text": [
        "WARNING:rootpy] a subclass of THnSparseT<TArrayF> is not implemented in rootpy\n"
       ]
      },
      {
       "output_type": "stream",
       "stream": "stderr",
       "text": [
        "WARNING:rootpy] a subclass of THnSparseT<TArrayF> is not implemented in rootpy\n"
       ]
      },
      {
       "output_type": "stream",
       "stream": "stderr",
       "text": [
        "WARNING:rootpy] a subclass of THnSparseT<TArrayF> is not implemented in rootpy\n"
       ]
      },
      {
       "output_type": "stream",
       "stream": "stderr",
       "text": [
        "WARNING:rootpy] a subclass of THnSparseT<TArrayF> is not implemented in rootpy\n"
       ]
      },
      {
       "output_type": "stream",
       "stream": "stderr",
       "text": [
        "WARNING:rootpy] a subclass of THnSparseT<TArrayF> is not implemented in rootpy\n"
       ]
      },
      {
       "output_type": "stream",
       "stream": "stderr",
       "text": [
        "WARNING:rootpy] a subclass of THnSparseT<TArrayF> is not implemented in rootpy\n"
       ]
      },
      {
       "output_type": "stream",
       "stream": "stderr",
       "text": [
        "WARNING:rootpy] a subclass of THnSparseT<TArrayF> is not implemented in rootpy\n"
       ]
      },
      {
       "output_type": "stream",
       "stream": "stderr",
       "text": [
        "WARNING:rootpy] a subclass of THnSparseT<TArrayF> is not implemented in rootpy\n"
       ]
      },
      {
       "output_type": "stream",
       "stream": "stderr",
       "text": [
        "WARNING:rootpy] a subclass of THnSparseT<TArrayF> is not implemented in rootpy\n"
       ]
      },
      {
       "output_type": "stream",
       "stream": "stderr",
       "text": [
        "WARNING:rootpy] a subclass of THnSparseT<TArrayF> is not implemented in rootpy\n"
       ]
      },
      {
       "output_type": "stream",
       "stream": "stderr",
       "text": [
        "WARNING:rootpy] a subclass of THnSparseT<TArrayF> is not implemented in rootpy\n"
       ]
      },
      {
       "output_type": "stream",
       "stream": "stderr",
       "text": [
        "WARNING:rootpy] a subclass of THnSparseT<TArrayF> is not implemented in rootpy\n"
       ]
      },
      {
       "output_type": "stream",
       "stream": "stderr",
       "text": [
        "WARNING:rootpy] a subclass of THnSparseT<TArrayF> is not implemented in rootpy\n"
       ]
      },
      {
       "output_type": "stream",
       "stream": "stderr",
       "text": [
        "WARNING:rootpy] a subclass of THnSparseT<TArrayF> is not implemented in rootpy\n"
       ]
      },
      {
       "output_type": "stream",
       "stream": "stderr",
       "text": [
        "WARNING:rootpy] a subclass of THnSparseT<TArrayF> is not implemented in rootpy\n"
       ]
      },
      {
       "output_type": "stream",
       "stream": "stderr",
       "text": [
        "WARNING:rootpy] a subclass of THnSparseT<TArrayF> is not implemented in rootpy\n"
       ]
      },
      {
       "output_type": "stream",
       "stream": "stderr",
       "text": [
        "WARNING:rootpy] a subclass of THnSparseT<TArrayF> is not implemented in rootpy\n"
       ]
      },
      {
       "output_type": "stream",
       "stream": "stderr",
       "text": [
        "WARNING:rootpy] a subclass of THnSparseT<TArrayF> is not implemented in rootpy\n"
       ]
      },
      {
       "output_type": "stream",
       "stream": "stderr",
       "text": [
        "WARNING:rootpy] a subclass of THnSparseT<TArrayF> is not implemented in rootpy\n"
       ]
      },
      {
       "output_type": "stream",
       "stream": "stderr",
       "text": [
        "WARNING:rootpy] a subclass of THnSparseT<TArrayF> is not implemented in rootpy\n"
       ]
      },
      {
       "output_type": "stream",
       "stream": "stderr",
       "text": [
        "WARNING:rootpy] a subclass of THnSparseT<TArrayF> is not implemented in rootpy\n"
       ]
      },
      {
       "output_type": "stream",
       "stream": "stderr",
       "text": [
        "WARNING:rootpy] a subclass of THnSparseT<TArrayF> is not implemented in rootpy\n"
       ]
      },
      {
       "output_type": "stream",
       "stream": "stderr",
       "text": [
        "WARNING:rootpy] a subclass of THnSparseT<TArrayF> is not implemented in rootpy\n"
       ]
      },
      {
       "output_type": "stream",
       "stream": "stderr",
       "text": [
        "WARNING:rootpy] a subclass of THnSparseT<TArrayF> is not implemented in rootpy\n"
       ]
      },
      {
       "output_type": "stream",
       "stream": "stderr",
       "text": [
        "WARNING:rootpy] a subclass of THnSparseT<TArrayF> is not implemented in rootpy\n"
       ]
      },
      {
       "output_type": "stream",
       "stream": "stderr",
       "text": [
        "WARNING:rootpy] a subclass of THnSparseT<TArrayF> is not implemented in rootpy\n"
       ]
      },
      {
       "output_type": "stream",
       "stream": "stderr",
       "text": [
        "WARNING:rootpy] a subclass of THnSparseT<TArrayF> is not implemented in rootpy\n"
       ]
      },
      {
       "output_type": "stream",
       "stream": "stderr",
       "text": [
        "WARNING:rootpy] a subclass of THnSparseT<TArrayF> is not implemented in rootpy\n"
       ]
      },
      {
       "output_type": "stream",
       "stream": "stderr",
       "text": [
        "WARNING:rootpy] a subclass of THnSparseT<TArrayF> is not implemented in rootpy\n"
       ]
      },
      {
       "output_type": "stream",
       "stream": "stderr",
       "text": [
        "WARNING:rootpy] a subclass of THnSparseT<TArrayF> is not implemented in rootpy\n"
       ]
      },
      {
       "output_type": "stream",
       "stream": "stderr",
       "text": [
        "WARNING:rootpy] a subclass of THnSparseT<TArrayF> is not implemented in rootpy\n"
       ]
      },
      {
       "output_type": "stream",
       "stream": "stderr",
       "text": [
        "WARNING:rootpy] a subclass of THnSparseT<TArrayF> is not implemented in rootpy\n"
       ]
      },
      {
       "output_type": "stream",
       "stream": "stderr",
       "text": [
        "WARNING:rootpy] a subclass of THnSparseT<TArrayF> is not implemented in rootpy\n"
       ]
      },
      {
       "output_type": "stream",
       "stream": "stderr",
       "text": [
        "WARNING:rootpy] a subclass of THnSparseT<TArrayF> is not implemented in rootpy\n"
       ]
      },
      {
       "output_type": "stream",
       "stream": "stderr",
       "text": [
        "WARNING:rootpy] a subclass of THnSparseT<TArrayF> is not implemented in rootpy\n"
       ]
      },
      {
       "output_type": "stream",
       "stream": "stderr",
       "text": [
        "WARNING:rootpy] a subclass of THnSparseT<TArrayF> is not implemented in rootpy\n"
       ]
      },
      {
       "output_type": "stream",
       "stream": "stderr",
       "text": [
        "WARNING:rootpy] a subclass of THnSparseT<TArrayF> is not implemented in rootpy\n"
       ]
      },
      {
       "output_type": "stream",
       "stream": "stderr",
       "text": [
        "WARNING:rootpy] a subclass of THnSparseT<TArrayF> is not implemented in rootpy\n"
       ]
      },
      {
       "output_type": "stream",
       "stream": "stderr",
       "text": [
        "WARNING:rootpy] a subclass of THnSparseT<TArrayF> is not implemented in rootpy\n"
       ]
      },
      {
       "output_type": "stream",
       "stream": "stderr",
       "text": [
        "WARNING:rootpy] a subclass of THnSparseT<TArrayF> is not implemented in rootpy\n"
       ]
      },
      {
       "output_type": "stream",
       "stream": "stderr",
       "text": [
        "WARNING:rootpy] a subclass of THnSparseT<TArrayF> is not implemented in rootpy\n"
       ]
      },
      {
       "output_type": "stream",
       "stream": "stderr",
       "text": [
        "WARNING:rootpy] a subclass of THnSparseT<TArrayF> is not implemented in rootpy\n"
       ]
      },
      {
       "output_type": "stream",
       "stream": "stderr",
       "text": [
        "WARNING:rootpy] a subclass of THnSparseT<TArrayF> is not implemented in rootpy\n"
       ]
      },
      {
       "output_type": "stream",
       "stream": "stderr",
       "text": [
        "WARNING:rootpy] a subclass of THnSparseT<TArrayF> is not implemented in rootpy\n"
       ]
      },
      {
       "output_type": "stream",
       "stream": "stderr",
       "text": [
        "WARNING:rootpy] a subclass of THnSparseT<TArrayF> is not implemented in rootpy\n"
       ]
      },
      {
       "output_type": "stream",
       "stream": "stderr",
       "text": [
        "WARNING:rootpy] a subclass of THnSparseT<TArrayF> is not implemented in rootpy\n"
       ]
      },
      {
       "output_type": "stream",
       "stream": "stderr",
       "text": [
        "WARNING:rootpy] a subclass of THnSparseT<TArrayF> is not implemented in rootpy\n"
       ]
      },
      {
       "output_type": "stream",
       "stream": "stderr",
       "text": [
        "WARNING:rootpy] a subclass of THnSparseT<TArrayF> is not implemented in rootpy\n"
       ]
      },
      {
       "output_type": "stream",
       "stream": "stderr",
       "text": [
        "WARNING:rootpy] a subclass of THnSparseT<TArrayF> is not implemented in rootpy\n"
       ]
      },
      {
       "output_type": "stream",
       "stream": "stderr",
       "text": [
        "WARNING:rootpy] a subclass of THnSparseT<TArrayF> is not implemented in rootpy\n"
       ]
      },
      {
       "output_type": "stream",
       "stream": "stderr",
       "text": [
        "WARNING:rootpy] a subclass of THnSparseT<TArrayF> is not implemented in rootpy\n"
       ]
      },
      {
       "output_type": "stream",
       "stream": "stderr",
       "text": [
        "WARNING:rootpy] a subclass of THnSparseT<TArrayF> is not implemented in rootpy\n"
       ]
      },
      {
       "output_type": "stream",
       "stream": "stderr",
       "text": [
        "WARNING:rootpy] a subclass of THnSparseT<TArrayF> is not implemented in rootpy\n"
       ]
      },
      {
       "output_type": "stream",
       "stream": "stderr",
       "text": [
        "WARNING:rootpy] a subclass of THnSparseT<TArrayF> is not implemented in rootpy\n"
       ]
      },
      {
       "output_type": "stream",
       "stream": "stderr",
       "text": [
        "WARNING:rootpy] a subclass of THnSparseT<TArrayF> is not implemented in rootpy\n"
       ]
      },
      {
       "output_type": "stream",
       "stream": "stderr",
       "text": [
        "WARNING:rootpy] a subclass of THnSparseT<TArrayF> is not implemented in rootpy\n"
       ]
      },
      {
       "output_type": "stream",
       "stream": "stderr",
       "text": [
        "WARNING:rootpy] a subclass of THnSparseT<TArrayF> is not implemented in rootpy\n"
       ]
      },
      {
       "output_type": "stream",
       "stream": "stderr",
       "text": [
        "WARNING:rootpy] a subclass of THnSparseT<TArrayF> is not implemented in rootpy\n"
       ]
      },
      {
       "output_type": "stream",
       "stream": "stderr",
       "text": [
        "WARNING:rootpy] a subclass of THnSparseT<TArrayF> is not implemented in rootpy\n"
       ]
      },
      {
       "output_type": "stream",
       "stream": "stderr",
       "text": [
        "WARNING:rootpy] a subclass of THnSparseT<TArrayF> is not implemented in rootpy\n"
       ]
      },
      {
       "output_type": "stream",
       "stream": "stderr",
       "text": [
        "WARNING:rootpy] a subclass of THnSparseT<TArrayF> is not implemented in rootpy\n"
       ]
      },
      {
       "output_type": "stream",
       "stream": "stderr",
       "text": [
        "WARNING:rootpy] a subclass of THnSparseT<TArrayF> is not implemented in rootpy\n"
       ]
      },
      {
       "output_type": "stream",
       "stream": "stderr",
       "text": [
        "WARNING:rootpy] a subclass of THnSparseT<TArrayF> is not implemented in rootpy\n"
       ]
      },
      {
       "output_type": "stream",
       "stream": "stderr",
       "text": [
        "WARNING:rootpy] a subclass of THnSparseT<TArrayF> is not implemented in rootpy\n"
       ]
      },
      {
       "output_type": "stream",
       "stream": "stderr",
       "text": [
        "WARNING:rootpy] a subclass of THnSparseT<TArrayF> is not implemented in rootpy\n"
       ]
      },
      {
       "output_type": "stream",
       "stream": "stderr",
       "text": [
        "WARNING:rootpy] a subclass of THnSparseT<TArrayF> is not implemented in rootpy\n"
       ]
      },
      {
       "output_type": "stream",
       "stream": "stderr",
       "text": [
        "WARNING:rootpy] a subclass of THnSparseT<TArrayF> is not implemented in rootpy\n"
       ]
      },
      {
       "output_type": "stream",
       "stream": "stderr",
       "text": [
        "WARNING:rootpy] a subclass of THnSparseT<TArrayF> is not implemented in rootpy\n"
       ]
      },
      {
       "output_type": "stream",
       "stream": "stderr",
       "text": [
        "WARNING:rootpy] a subclass of THnSparseT<TArrayF> is not implemented in rootpy\n"
       ]
      },
      {
       "output_type": "stream",
       "stream": "stderr",
       "text": [
        "WARNING:rootpy] a subclass of THnSparseT<TArrayF> is not implemented in rootpy\n"
       ]
      },
      {
       "output_type": "stream",
       "stream": "stderr",
       "text": [
        "WARNING:rootpy] a subclass of THnSparseT<TArrayF> is not implemented in rootpy\n"
       ]
      },
      {
       "output_type": "stream",
       "stream": "stderr",
       "text": [
        "WARNING:rootpy] a subclass of THnSparseT<TArrayF> is not implemented in rootpy\n"
       ]
      },
      {
       "output_type": "stream",
       "stream": "stderr",
       "text": [
        "WARNING:rootpy] a subclass of THnSparseT<TArrayF> is not implemented in rootpy\n"
       ]
      },
      {
       "output_type": "stream",
       "stream": "stderr",
       "text": [
        "WARNING:rootpy] a subclass of THnSparseT<TArrayF> is not implemented in rootpy\n"
       ]
      },
      {
       "output_type": "stream",
       "stream": "stderr",
       "text": [
        "WARNING:rootpy] a subclass of THnSparseT<TArrayF> is not implemented in rootpy\n"
       ]
      },
      {
       "output_type": "stream",
       "stream": "stderr",
       "text": [
        "WARNING:rootpy] a subclass of THnSparseT<TArrayF> is not implemented in rootpy\n"
       ]
      },
      {
       "output_type": "stream",
       "stream": "stderr",
       "text": [
        "WARNING:rootpy] a subclass of THnSparseT<TArrayF> is not implemented in rootpy\n"
       ]
      },
      {
       "output_type": "stream",
       "stream": "stderr",
       "text": [
        "WARNING:rootpy] a subclass of THnSparseT<TArrayF> is not implemented in rootpy\n"
       ]
      },
      {
       "output_type": "stream",
       "stream": "stderr",
       "text": [
        "WARNING:rootpy] a subclass of THnSparseT<TArrayF> is not implemented in rootpy\n"
       ]
      },
      {
       "output_type": "stream",
       "stream": "stderr",
       "text": [
        "WARNING:rootpy] a subclass of THnSparseT<TArrayF> is not implemented in rootpy\n"
       ]
      },
      {
       "output_type": "stream",
       "stream": "stderr",
       "text": [
        "WARNING:rootpy] a subclass of THnSparseT<TArrayF> is not implemented in rootpy\n"
       ]
      },
      {
       "output_type": "stream",
       "stream": "stderr",
       "text": [
        "WARNING:rootpy] a subclass of THnSparseT<TArrayF> is not implemented in rootpy\n"
       ]
      },
      {
       "output_type": "stream",
       "stream": "stderr",
       "text": [
        "WARNING:rootpy] a subclass of THnSparseT<TArrayF> is not implemented in rootpy\n"
       ]
      },
      {
       "output_type": "stream",
       "stream": "stderr",
       "text": [
        "WARNING:rootpy] a subclass of THnSparseT<TArrayF> is not implemented in rootpy\n"
       ]
      },
      {
       "output_type": "stream",
       "stream": "stderr",
       "text": [
        "WARNING:rootpy] a subclass of THnSparseT<TArrayF> is not implemented in rootpy\n"
       ]
      },
      {
       "output_type": "stream",
       "stream": "stderr",
       "text": [
        "WARNING:rootpy] a subclass of THnSparseT<TArrayF> is not implemented in rootpy\n"
       ]
      },
      {
       "output_type": "stream",
       "stream": "stderr",
       "text": [
        "WARNING:rootpy] a subclass of THnSparseT<TArrayF> is not implemented in rootpy\n"
       ]
      },
      {
       "output_type": "stream",
       "stream": "stderr",
       "text": [
        "WARNING:rootpy] a subclass of THnSparseT<TArrayF> is not implemented in rootpy\n"
       ]
      },
      {
       "output_type": "stream",
       "stream": "stderr",
       "text": [
        "WARNING:rootpy] a subclass of THnSparseT<TArrayF> is not implemented in rootpy\n"
       ]
      },
      {
       "output_type": "stream",
       "stream": "stderr",
       "text": [
        "WARNING:rootpy] a subclass of THnSparseT<TArrayF> is not implemented in rootpy\n"
       ]
      },
      {
       "output_type": "stream",
       "stream": "stderr",
       "text": [
        "WARNING:rootpy] a subclass of THnSparseT<TArrayF> is not implemented in rootpy\n"
       ]
      },
      {
       "output_type": "stream",
       "stream": "stderr",
       "text": [
        "WARNING:rootpy] a subclass of THnSparseT<TArrayF> is not implemented in rootpy\n"
       ]
      },
      {
       "output_type": "stream",
       "stream": "stderr",
       "text": [
        "WARNING:rootpy] a subclass of THnSparseT<TArrayF> is not implemented in rootpy\n"
       ]
      },
      {
       "output_type": "stream",
       "stream": "stderr",
       "text": [
        "WARNING:rootpy] a subclass of THnSparseT<TArrayF> is not implemented in rootpy\n"
       ]
      },
      {
       "output_type": "stream",
       "stream": "stderr",
       "text": [
        "WARNING:rootpy] a subclass of THnSparseT<TArrayF> is not implemented in rootpy\n"
       ]
      },
      {
       "output_type": "stream",
       "stream": "stderr",
       "text": [
        "WARNING:rootpy] a subclass of THnSparseT<TArrayF> is not implemented in rootpy\n"
       ]
      },
      {
       "output_type": "stream",
       "stream": "stderr",
       "text": [
        "WARNING:rootpy] a subclass of THnSparseT<TArrayF> is not implemented in rootpy\n"
       ]
      },
      {
       "output_type": "stream",
       "stream": "stderr",
       "text": [
        "WARNING:rootpy] a subclass of THnSparseT<TArrayF> is not implemented in rootpy\n"
       ]
      },
      {
       "output_type": "stream",
       "stream": "stderr",
       "text": [
        "WARNING:rootpy] a subclass of THnSparseT<TArrayF> is not implemented in rootpy\n"
       ]
      },
      {
       "output_type": "stream",
       "stream": "stderr",
       "text": [
        "WARNING:rootpy] a subclass of THnSparseT<TArrayF> is not implemented in rootpy\n"
       ]
      },
      {
       "output_type": "stream",
       "stream": "stderr",
       "text": [
        "WARNING:rootpy] a subclass of THnSparseT<TArrayF> is not implemented in rootpy\n"
       ]
      },
      {
       "output_type": "stream",
       "stream": "stderr",
       "text": [
        "WARNING:rootpy] a subclass of THnSparseT<TArrayF> is not implemented in rootpy\n"
       ]
      },
      {
       "output_type": "stream",
       "stream": "stderr",
       "text": [
        "WARNING:rootpy] a subclass of THnSparseT<TArrayF> is not implemented in rootpy\n"
       ]
      },
      {
       "output_type": "stream",
       "stream": "stderr",
       "text": [
        "WARNING:rootpy] a subclass of THnSparseT<TArrayF> is not implemented in rootpy\n"
       ]
      },
      {
       "output_type": "stream",
       "stream": "stderr",
       "text": [
        "WARNING:rootpy] a subclass of THnSparseT<TArrayF> is not implemented in rootpy\n"
       ]
      },
      {
       "output_type": "stream",
       "stream": "stderr",
       "text": [
        "WARNING:rootpy] a subclass of THnSparseT<TArrayF> is not implemented in rootpy\n"
       ]
      },
      {
       "output_type": "stream",
       "stream": "stderr",
       "text": [
        "WARNING:rootpy] a subclass of THnSparseT<TArrayF> is not implemented in rootpy\n"
       ]
      },
      {
       "output_type": "stream",
       "stream": "stderr",
       "text": [
        "WARNING:rootpy] a subclass of THnSparseT<TArrayF> is not implemented in rootpy\n"
       ]
      },
      {
       "output_type": "stream",
       "stream": "stderr",
       "text": [
        "WARNING:rootpy] a subclass of THnSparseT<TArrayF> is not implemented in rootpy\n"
       ]
      },
      {
       "output_type": "stream",
       "stream": "stderr",
       "text": [
        "WARNING:rootpy] a subclass of THnSparseT<TArrayF> is not implemented in rootpy\n"
       ]
      },
      {
       "output_type": "stream",
       "stream": "stderr",
       "text": [
        "WARNING:rootpy] a subclass of THnSparseT<TArrayF> is not implemented in rootpy\n"
       ]
      },
      {
       "output_type": "stream",
       "stream": "stderr",
       "text": [
        "WARNING:rootpy] a subclass of THnSparseT<TArrayF> is not implemented in rootpy\n"
       ]
      },
      {
       "output_type": "stream",
       "stream": "stderr",
       "text": [
        "WARNING:rootpy] a subclass of THnSparseT<TArrayF> is not implemented in rootpy\n"
       ]
      },
      {
       "output_type": "stream",
       "stream": "stderr",
       "text": [
        "WARNING:rootpy] a subclass of THnSparseT<TArrayF> is not implemented in rootpy\n"
       ]
      },
      {
       "output_type": "stream",
       "stream": "stderr",
       "text": [
        "WARNING:rootpy] a subclass of THnSparseT<TArrayF> is not implemented in rootpy\n"
       ]
      },
      {
       "output_type": "stream",
       "stream": "stderr",
       "text": [
        "WARNING:rootpy] a subclass of THnSparseT<TArrayF> is not implemented in rootpy\n"
       ]
      },
      {
       "output_type": "stream",
       "stream": "stderr",
       "text": [
        "WARNING:rootpy] a subclass of THnSparseT<TArrayF> is not implemented in rootpy\n"
       ]
      },
      {
       "output_type": "stream",
       "stream": "stderr",
       "text": [
        "WARNING:rootpy] a subclass of THnSparseT<TArrayF> is not implemented in rootpy\n"
       ]
      },
      {
       "output_type": "stream",
       "stream": "stderr",
       "text": [
        "WARNING:rootpy] a subclass of THnSparseT<TArrayF> is not implemented in rootpy\n"
       ]
      },
      {
       "output_type": "stream",
       "stream": "stderr",
       "text": [
        "WARNING:rootpy] a subclass of THnSparseT<TArrayF> is not implemented in rootpy\n"
       ]
      },
      {
       "output_type": "stream",
       "stream": "stderr",
       "text": [
        "WARNING:rootpy] a subclass of THnSparseT<TArrayF> is not implemented in rootpy\n"
       ]
      },
      {
       "output_type": "stream",
       "stream": "stderr",
       "text": [
        "WARNING:rootpy] a subclass of THnSparseT<TArrayF> is not implemented in rootpy\n"
       ]
      },
      {
       "output_type": "stream",
       "stream": "stderr",
       "text": [
        "WARNING:rootpy] a subclass of THnSparseT<TArrayF> is not implemented in rootpy\n"
       ]
      },
      {
       "output_type": "stream",
       "stream": "stderr",
       "text": [
        "WARNING:rootpy] a subclass of THnSparseT<TArrayF> is not implemented in rootpy\n"
       ]
      },
      {
       "output_type": "stream",
       "stream": "stderr",
       "text": [
        "WARNING:rootpy] a subclass of THnSparseT<TArrayF> is not implemented in rootpy\n"
       ]
      },
      {
       "output_type": "stream",
       "stream": "stderr",
       "text": [
        "WARNING:rootpy] a subclass of THnSparseT<TArrayF> is not implemented in rootpy\n"
       ]
      },
      {
       "output_type": "stream",
       "stream": "stderr",
       "text": [
        "WARNING:rootpy] a subclass of THnSparseT<TArrayF> is not implemented in rootpy\n"
       ]
      },
      {
       "output_type": "stream",
       "stream": "stderr",
       "text": [
        "WARNING:rootpy] a subclass of THnSparseT<TArrayF> is not implemented in rootpy\n"
       ]
      },
      {
       "output_type": "stream",
       "stream": "stderr",
       "text": [
        "WARNING:rootpy] a subclass of THnSparseT<TArrayF> is not implemented in rootpy\n"
       ]
      },
      {
       "output_type": "stream",
       "stream": "stderr",
       "text": [
        "WARNING:rootpy] a subclass of THnSparseT<TArrayF> is not implemented in rootpy\n"
       ]
      },
      {
       "output_type": "stream",
       "stream": "stderr",
       "text": [
        "WARNING:rootpy] a subclass of THnSparseT<TArrayF> is not implemented in rootpy\n"
       ]
      },
      {
       "output_type": "stream",
       "stream": "stderr",
       "text": [
        "WARNING:rootpy] a subclass of THnSparseT<TArrayF> is not implemented in rootpy\n"
       ]
      },
      {
       "output_type": "stream",
       "stream": "stderr",
       "text": [
        "WARNING:rootpy] a subclass of THnSparseT<TArrayF> is not implemented in rootpy\n"
       ]
      },
      {
       "output_type": "stream",
       "stream": "stderr",
       "text": [
        "WARNING:rootpy] a subclass of THnSparseT<TArrayF> is not implemented in rootpy\n"
       ]
      },
      {
       "output_type": "stream",
       "stream": "stderr",
       "text": [
        "WARNING:rootpy] a subclass of THnSparseT<TArrayF> is not implemented in rootpy\n"
       ]
      },
      {
       "output_type": "stream",
       "stream": "stderr",
       "text": [
        "WARNING:rootpy] a subclass of THnSparseT<TArrayF> is not implemented in rootpy\n"
       ]
      },
      {
       "output_type": "stream",
       "stream": "stderr",
       "text": [
        "WARNING:rootpy] a subclass of THnSparseT<TArrayF> is not implemented in rootpy\n"
       ]
      },
      {
       "output_type": "stream",
       "stream": "stderr",
       "text": [
        "WARNING:rootpy] a subclass of THnSparseT<TArrayF> is not implemented in rootpy\n"
       ]
      },
      {
       "output_type": "stream",
       "stream": "stderr",
       "text": [
        "WARNING:rootpy] a subclass of THnSparseT<TArrayF> is not implemented in rootpy\n"
       ]
      },
      {
       "output_type": "stream",
       "stream": "stderr",
       "text": [
        "WARNING:rootpy] a subclass of THnSparseT<TArrayF> is not implemented in rootpy\n"
       ]
      },
      {
       "output_type": "stream",
       "stream": "stderr",
       "text": [
        "WARNING:rootpy] a subclass of THnSparseT<TArrayF> is not implemented in rootpy\n"
       ]
      },
      {
       "output_type": "stream",
       "stream": "stderr",
       "text": [
        "WARNING:rootpy] a subclass of THnSparseT<TArrayF> is not implemented in rootpy\n"
       ]
      },
      {
       "output_type": "stream",
       "stream": "stderr",
       "text": [
        "WARNING:rootpy] a subclass of THnSparseT<TArrayF> is not implemented in rootpy\n"
       ]
      },
      {
       "output_type": "stream",
       "stream": "stderr",
       "text": [
        "WARNING:rootpy] a subclass of THnSparseT<TArrayF> is not implemented in rootpy\n"
       ]
      },
      {
       "output_type": "stream",
       "stream": "stderr",
       "text": [
        "WARNING:rootpy] a subclass of THnSparseT<TArrayF> is not implemented in rootpy\n"
       ]
      },
      {
       "output_type": "stream",
       "stream": "stderr",
       "text": [
        "WARNING:rootpy] a subclass of THnSparseT<TArrayF> is not implemented in rootpy\n"
       ]
      },
      {
       "output_type": "stream",
       "stream": "stderr",
       "text": [
        "WARNING:rootpy] a subclass of THnSparseT<TArrayF> is not implemented in rootpy\n"
       ]
      },
      {
       "output_type": "stream",
       "stream": "stderr",
       "text": [
        "WARNING:rootpy] a subclass of THnSparseT<TArrayF> is not implemented in rootpy\n"
       ]
      },
      {
       "output_type": "stream",
       "stream": "stderr",
       "text": [
        "WARNING:rootpy] a subclass of THnSparseT<TArrayF> is not implemented in rootpy\n"
       ]
      },
      {
       "output_type": "stream",
       "stream": "stderr",
       "text": [
        "WARNING:rootpy] a subclass of THnSparseT<TArrayF> is not implemented in rootpy\n"
       ]
      },
      {
       "output_type": "stream",
       "stream": "stderr",
       "text": [
        "WARNING:rootpy] a subclass of THnSparseT<TArrayF> is not implemented in rootpy\n"
       ]
      },
      {
       "output_type": "stream",
       "stream": "stderr",
       "text": [
        "WARNING:rootpy] a subclass of THnSparseT<TArrayF> is not implemented in rootpy\n"
       ]
      },
      {
       "output_type": "stream",
       "stream": "stderr",
       "text": [
        "WARNING:rootpy] a subclass of THnSparseT<TArrayF> is not implemented in rootpy\n"
       ]
      },
      {
       "output_type": "stream",
       "stream": "stderr",
       "text": [
        "WARNING:rootpy] a subclass of THnSparseT<TArrayF> is not implemented in rootpy\n"
       ]
      },
      {
       "output_type": "stream",
       "stream": "stderr",
       "text": [
        "WARNING:rootpy] a subclass of THnSparseT<TArrayF> is not implemented in rootpy\n"
       ]
      },
      {
       "output_type": "stream",
       "stream": "stderr",
       "text": [
        "WARNING:rootpy] a subclass of THnSparseT<TArrayF> is not implemented in rootpy\n"
       ]
      },
      {
       "output_type": "stream",
       "stream": "stderr",
       "text": [
        "WARNING:rootpy] a subclass of THnSparseT<TArrayF> is not implemented in rootpy\n"
       ]
      },
      {
       "output_type": "stream",
       "stream": "stderr",
       "text": [
        "WARNING:rootpy] a subclass of THnSparseT<TArrayF> is not implemented in rootpy\n"
       ]
      },
      {
       "output_type": "stream",
       "stream": "stderr",
       "text": [
        "WARNING:rootpy] a subclass of THnSparseT<TArrayF> is not implemented in rootpy\n"
       ]
      },
      {
       "output_type": "stream",
       "stream": "stderr",
       "text": [
        "WARNING:rootpy] a subclass of THnSparseT<TArrayF> is not implemented in rootpy\n"
       ]
      },
      {
       "output_type": "stream",
       "stream": "stderr",
       "text": [
        "WARNING:rootpy] a subclass of THnSparseT<TArrayF> is not implemented in rootpy\n"
       ]
      },
      {
       "output_type": "stream",
       "stream": "stderr",
       "text": [
        "WARNING:rootpy] a subclass of THnSparseT<TArrayF> is not implemented in rootpy\n"
       ]
      },
      {
       "output_type": "stream",
       "stream": "stderr",
       "text": [
        "WARNING:rootpy] a subclass of THnSparseT<TArrayF> is not implemented in rootpy\n"
       ]
      },
      {
       "output_type": "stream",
       "stream": "stderr",
       "text": [
        "WARNING:rootpy] a subclass of THnSparseT<TArrayF> is not implemented in rootpy\n"
       ]
      },
      {
       "output_type": "stream",
       "stream": "stderr",
       "text": [
        "WARNING:rootpy] a subclass of THnSparseT<TArrayF> is not implemented in rootpy\n"
       ]
      },
      {
       "output_type": "stream",
       "stream": "stderr",
       "text": [
        "WARNING:rootpy] a subclass of THnSparseT<TArrayF> is not implemented in rootpy\n"
       ]
      },
      {
       "output_type": "stream",
       "stream": "stderr",
       "text": [
        "WARNING:rootpy] a subclass of THnSparseT<TArrayF> is not implemented in rootpy\n"
       ]
      },
      {
       "output_type": "stream",
       "stream": "stderr",
       "text": [
        "WARNING:rootpy] a subclass of THnSparseT<TArrayF> is not implemented in rootpy\n"
       ]
      },
      {
       "output_type": "stream",
       "stream": "stderr",
       "text": [
        "WARNING:rootpy] a subclass of THnSparseT<TArrayF> is not implemented in rootpy\n"
       ]
      },
      {
       "output_type": "stream",
       "stream": "stderr",
       "text": [
        "WARNING:rootpy] a subclass of THnSparseT<TArrayF> is not implemented in rootpy\n"
       ]
      },
      {
       "output_type": "stream",
       "stream": "stderr",
       "text": [
        "WARNING:rootpy] a subclass of THnSparseT<TArrayF> is not implemented in rootpy\n"
       ]
      },
      {
       "output_type": "stream",
       "stream": "stderr",
       "text": [
        "WARNING:rootpy] a subclass of THnSparseT<TArrayF> is not implemented in rootpy\n"
       ]
      },
      {
       "output_type": "stream",
       "stream": "stderr",
       "text": [
        "WARNING:rootpy] a subclass of THnSparseT<TArrayF> is not implemented in rootpy\n"
       ]
      },
      {
       "output_type": "stream",
       "stream": "stderr",
       "text": [
        "WARNING:rootpy] a subclass of THnSparseT<TArrayF> is not implemented in rootpy\n"
       ]
      },
      {
       "output_type": "stream",
       "stream": "stderr",
       "text": [
        "WARNING:rootpy] a subclass of THnSparseT<TArrayF> is not implemented in rootpy\n"
       ]
      },
      {
       "output_type": "stream",
       "stream": "stderr",
       "text": [
        "WARNING:rootpy] a subclass of THnSparseT<TArrayF> is not implemented in rootpy\n"
       ]
      },
      {
       "output_type": "stream",
       "stream": "stderr",
       "text": [
        "WARNING:rootpy] a subclass of THnSparseT<TArrayF> is not implemented in rootpy\n"
       ]
      },
      {
       "output_type": "stream",
       "stream": "stderr",
       "text": [
        "WARNING:rootpy] a subclass of THnSparseT<TArrayF> is not implemented in rootpy\n"
       ]
      },
      {
       "output_type": "stream",
       "stream": "stderr",
       "text": [
        "WARNING:rootpy] a subclass of THnSparseT<TArrayF> is not implemented in rootpy\n"
       ]
      },
      {
       "output_type": "stream",
       "stream": "stderr",
       "text": [
        "WARNING:rootpy] a subclass of THnSparseT<TArrayF> is not implemented in rootpy\n"
       ]
      },
      {
       "output_type": "stream",
       "stream": "stderr",
       "text": [
        "WARNING:rootpy] a subclass of THnSparseT<TArrayF> is not implemented in rootpy\n"
       ]
      },
      {
       "output_type": "stream",
       "stream": "stderr",
       "text": [
        "WARNING:rootpy] a subclass of THnSparseT<TArrayF> is not implemented in rootpy\n"
       ]
      },
      {
       "output_type": "stream",
       "stream": "stderr",
       "text": [
        "WARNING:rootpy] a subclass of THnSparseT<TArrayF> is not implemented in rootpy\n"
       ]
      },
      {
       "output_type": "stream",
       "stream": "stderr",
       "text": [
        "WARNING:rootpy] a subclass of THnSparseT<TArrayF> is not implemented in rootpy\n"
       ]
      },
      {
       "output_type": "stream",
       "stream": "stderr",
       "text": [
        "WARNING:rootpy] a subclass of THnSparseT<TArrayF> is not implemented in rootpy\n"
       ]
      },
      {
       "output_type": "stream",
       "stream": "stderr",
       "text": [
        "WARNING:rootpy] a subclass of THnSparseT<TArrayF> is not implemented in rootpy\n"
       ]
      },
      {
       "output_type": "stream",
       "stream": "stderr",
       "text": [
        "WARNING:rootpy] a subclass of THnSparseT<TArrayF> is not implemented in rootpy\n"
       ]
      },
      {
       "output_type": "stream",
       "stream": "stderr",
       "text": [
        "WARNING:rootpy] a subclass of THnSparseT<TArrayF> is not implemented in rootpy\n"
       ]
      },
      {
       "output_type": "stream",
       "stream": "stderr",
       "text": [
        "WARNING:rootpy] a subclass of THnSparseT<TArrayF> is not implemented in rootpy\n"
       ]
      },
      {
       "output_type": "stream",
       "stream": "stderr",
       "text": [
        "WARNING:rootpy] a subclass of THnSparseT<TArrayF> is not implemented in rootpy\n"
       ]
      },
      {
       "output_type": "stream",
       "stream": "stderr",
       "text": [
        "WARNING:rootpy] a subclass of THnSparseT<TArrayF> is not implemented in rootpy\n"
       ]
      },
      {
       "output_type": "stream",
       "stream": "stderr",
       "text": [
        "WARNING:rootpy] a subclass of THnSparseT<TArrayF> is not implemented in rootpy\n"
       ]
      },
      {
       "output_type": "stream",
       "stream": "stderr",
       "text": [
        "WARNING:rootpy] a subclass of THnSparseT<TArrayF> is not implemented in rootpy\n"
       ]
      },
      {
       "output_type": "stream",
       "stream": "stderr",
       "text": [
        "WARNING:rootpy] a subclass of THnSparseT<TArrayF> is not implemented in rootpy\n"
       ]
      },
      {
       "output_type": "stream",
       "stream": "stderr",
       "text": [
        "WARNING:rootpy] a subclass of THnSparseT<TArrayF> is not implemented in rootpy\n"
       ]
      },
      {
       "output_type": "stream",
       "stream": "stderr",
       "text": [
        "WARNING:rootpy] a subclass of THnSparseT<TArrayF> is not implemented in rootpy\n"
       ]
      },
      {
       "output_type": "stream",
       "stream": "stderr",
       "text": [
        "WARNING:rootpy] a subclass of THnSparseT<TArrayF> is not implemented in rootpy\n"
       ]
      },
      {
       "output_type": "stream",
       "stream": "stderr",
       "text": [
        "WARNING:rootpy] a subclass of THnSparseT<TArrayF> is not implemented in rootpy\n"
       ]
      },
      {
       "output_type": "stream",
       "stream": "stderr",
       "text": [
        "WARNING:rootpy] a subclass of THnSparseT<TArrayF> is not implemented in rootpy\n"
       ]
      },
      {
       "output_type": "stream",
       "stream": "stderr",
       "text": [
        "WARNING:rootpy] a subclass of THnSparseT<TArrayF> is not implemented in rootpy\n"
       ]
      },
      {
       "output_type": "stream",
       "stream": "stderr",
       "text": [
        "WARNING:rootpy] a subclass of THnSparseT<TArrayF> is not implemented in rootpy\n"
       ]
      },
      {
       "output_type": "stream",
       "stream": "stderr",
       "text": [
        "WARNING:rootpy] a subclass of THnSparseT<TArrayF> is not implemented in rootpy\n"
       ]
      },
      {
       "output_type": "stream",
       "stream": "stderr",
       "text": [
        "WARNING:rootpy] a subclass of THnSparseT<TArrayF> is not implemented in rootpy\n"
       ]
      },
      {
       "output_type": "stream",
       "stream": "stderr",
       "text": [
        "WARNING:rootpy] a subclass of THnSparseT<TArrayF> is not implemented in rootpy\n"
       ]
      },
      {
       "output_type": "stream",
       "stream": "stderr",
       "text": [
        "WARNING:rootpy] a subclass of THnSparseT<TArrayF> is not implemented in rootpy\n"
       ]
      },
      {
       "output_type": "stream",
       "stream": "stderr",
       "text": [
        "WARNING:rootpy] a subclass of THnSparseT<TArrayF> is not implemented in rootpy\n"
       ]
      },
      {
       "output_type": "stream",
       "stream": "stderr",
       "text": [
        "WARNING:rootpy] a subclass of THnSparseT<TArrayF> is not implemented in rootpy\n"
       ]
      },
      {
       "output_type": "stream",
       "stream": "stderr",
       "text": [
        "WARNING:rootpy] a subclass of THnSparseT<TArrayF> is not implemented in rootpy\n"
       ]
      },
      {
       "output_type": "stream",
       "stream": "stderr",
       "text": [
        "WARNING:rootpy] a subclass of THnSparseT<TArrayF> is not implemented in rootpy\n"
       ]
      },
      {
       "output_type": "stream",
       "stream": "stderr",
       "text": [
        "WARNING:rootpy] a subclass of THnSparseT<TArrayF> is not implemented in rootpy\n"
       ]
      },
      {
       "output_type": "stream",
       "stream": "stderr",
       "text": [
        "WARNING:rootpy] a subclass of THnSparseT<TArrayF> is not implemented in rootpy\n"
       ]
      },
      {
       "output_type": "stream",
       "stream": "stderr",
       "text": [
        "WARNING:rootpy] a subclass of THnSparseT<TArrayF> is not implemented in rootpy\n"
       ]
      },
      {
       "output_type": "stream",
       "stream": "stderr",
       "text": [
        "WARNING:rootpy] a subclass of THnSparseT<TArrayF> is not implemented in rootpy\n"
       ]
      },
      {
       "output_type": "stream",
       "stream": "stderr",
       "text": [
        "WARNING:rootpy] a subclass of THnSparseT<TArrayF> is not implemented in rootpy\n"
       ]
      },
      {
       "output_type": "stream",
       "stream": "stderr",
       "text": [
        "WARNING:rootpy] a subclass of THnSparseT<TArrayF> is not implemented in rootpy\n"
       ]
      },
      {
       "output_type": "stream",
       "stream": "stderr",
       "text": [
        "WARNING:rootpy] a subclass of THnSparseT<TArrayF> is not implemented in rootpy\n"
       ]
      },
      {
       "output_type": "stream",
       "stream": "stderr",
       "text": [
        "WARNING:rootpy] a subclass of THnSparseT<TArrayF> is not implemented in rootpy\n"
       ]
      },
      {
       "output_type": "stream",
       "stream": "stderr",
       "text": [
        "WARNING:rootpy] a subclass of THnSparseT<TArrayF> is not implemented in rootpy\n"
       ]
      },
      {
       "output_type": "stream",
       "stream": "stderr",
       "text": [
        "WARNING:rootpy] a subclass of THnSparseT<TArrayF> is not implemented in rootpy\n"
       ]
      },
      {
       "output_type": "stream",
       "stream": "stderr",
       "text": [
        "WARNING:rootpy] a subclass of THnSparseT<TArrayF> is not implemented in rootpy\n"
       ]
      },
      {
       "output_type": "stream",
       "stream": "stderr",
       "text": [
        "WARNING:rootpy] a subclass of THnSparseT<TArrayF> is not implemented in rootpy\n"
       ]
      },
      {
       "output_type": "stream",
       "stream": "stderr",
       "text": [
        "WARNING:rootpy] a subclass of THnSparseT<TArrayF> is not implemented in rootpy\n"
       ]
      },
      {
       "output_type": "stream",
       "stream": "stderr",
       "text": [
        "WARNING:rootpy] a subclass of THnSparseT<TArrayF> is not implemented in rootpy\n"
       ]
      },
      {
       "output_type": "stream",
       "stream": "stderr",
       "text": [
        "WARNING:rootpy] a subclass of THnSparseT<TArrayF> is not implemented in rootpy\n"
       ]
      },
      {
       "output_type": "stream",
       "stream": "stderr",
       "text": [
        "WARNING:rootpy] a subclass of THnSparseT<TArrayF> is not implemented in rootpy\n"
       ]
      },
      {
       "output_type": "stream",
       "stream": "stderr",
       "text": [
        "WARNING:rootpy] a subclass of THnSparseT<TArrayF> is not implemented in rootpy\n"
       ]
      },
      {
       "output_type": "stream",
       "stream": "stderr",
       "text": [
        "WARNING:rootpy] a subclass of THnSparseT<TArrayF> is not implemented in rootpy\n"
       ]
      },
      {
       "output_type": "stream",
       "stream": "stderr",
       "text": [
        "WARNING:rootpy] a subclass of THnSparseT<TArrayF> is not implemented in rootpy\n"
       ]
      },
      {
       "output_type": "stream",
       "stream": "stderr",
       "text": [
        "WARNING:rootpy] a subclass of THnSparseT<TArrayF> is not implemented in rootpy\n"
       ]
      },
      {
       "output_type": "stream",
       "stream": "stderr",
       "text": [
        "WARNING:rootpy] a subclass of THnSparseT<TArrayF> is not implemented in rootpy\n"
       ]
      },
      {
       "output_type": "stream",
       "stream": "stderr",
       "text": [
        "WARNING:rootpy] a subclass of THnSparseT<TArrayF> is not implemented in rootpy\n"
       ]
      },
      {
       "output_type": "stream",
       "stream": "stderr",
       "text": [
        "WARNING:rootpy] a subclass of THnSparseT<TArrayF> is not implemented in rootpy\n"
       ]
      },
      {
       "output_type": "stream",
       "stream": "stderr",
       "text": [
        "WARNING:rootpy] a subclass of THnSparseT<TArrayF> is not implemented in rootpy\n"
       ]
      },
      {
       "output_type": "stream",
       "stream": "stderr",
       "text": [
        "WARNING:rootpy] a subclass of THnSparseT<TArrayF> is not implemented in rootpy\n"
       ]
      },
      {
       "output_type": "stream",
       "stream": "stderr",
       "text": [
        "WARNING:rootpy] a subclass of THnSparseT<TArrayF> is not implemented in rootpy\n"
       ]
      },
      {
       "output_type": "stream",
       "stream": "stderr",
       "text": [
        "WARNING:rootpy] a subclass of THnSparseT<TArrayF> is not implemented in rootpy\n"
       ]
      },
      {
       "output_type": "stream",
       "stream": "stderr",
       "text": [
        "WARNING:rootpy] a subclass of THnSparseT<TArrayF> is not implemented in rootpy\n"
       ]
      },
      {
       "output_type": "stream",
       "stream": "stderr",
       "text": [
        "WARNING:rootpy] a subclass of THnSparseT<TArrayF> is not implemented in rootpy\n"
       ]
      },
      {
       "output_type": "stream",
       "stream": "stderr",
       "text": [
        "WARNING:rootpy] a subclass of THnSparseT<TArrayF> is not implemented in rootpy\n"
       ]
      },
      {
       "output_type": "stream",
       "stream": "stderr",
       "text": [
        "WARNING:rootpy] a subclass of THnSparseT<TArrayF> is not implemented in rootpy\n"
       ]
      },
      {
       "output_type": "stream",
       "stream": "stderr",
       "text": [
        "WARNING:rootpy] a subclass of THnSparseT<TArrayF> is not implemented in rootpy\n"
       ]
      },
      {
       "output_type": "stream",
       "stream": "stderr",
       "text": [
        "WARNING:rootpy] a subclass of THnSparseT<TArrayF> is not implemented in rootpy\n"
       ]
      },
      {
       "output_type": "stream",
       "stream": "stderr",
       "text": [
        "WARNING:rootpy] a subclass of THnSparseT<TArrayF> is not implemented in rootpy\n"
       ]
      },
      {
       "output_type": "stream",
       "stream": "stderr",
       "text": [
        "WARNING:rootpy] a subclass of THnSparseT<TArrayF> is not implemented in rootpy\n"
       ]
      },
      {
       "output_type": "stream",
       "stream": "stderr",
       "text": [
        "WARNING:rootpy] a subclass of THnSparseT<TArrayF> is not implemented in rootpy\n"
       ]
      },
      {
       "output_type": "stream",
       "stream": "stderr",
       "text": [
        "WARNING:rootpy] a subclass of THnSparseT<TArrayF> is not implemented in rootpy\n"
       ]
      },
      {
       "output_type": "stream",
       "stream": "stderr",
       "text": [
        "WARNING:rootpy] a subclass of THnSparseT<TArrayF> is not implemented in rootpy\n"
       ]
      },
      {
       "output_type": "stream",
       "stream": "stderr",
       "text": [
        "WARNING:rootpy] a subclass of THnSparseT<TArrayF> is not implemented in rootpy\n"
       ]
      },
      {
       "output_type": "stream",
       "stream": "stderr",
       "text": [
        "WARNING:rootpy] a subclass of THnSparseT<TArrayF> is not implemented in rootpy\n"
       ]
      },
      {
       "output_type": "stream",
       "stream": "stderr",
       "text": [
        "WARNING:rootpy] a subclass of THnSparseT<TArrayF> is not implemented in rootpy\n"
       ]
      },
      {
       "output_type": "stream",
       "stream": "stderr",
       "text": [
        "WARNING:rootpy] a subclass of THnSparseT<TArrayF> is not implemented in rootpy\n"
       ]
      },
      {
       "output_type": "stream",
       "stream": "stderr",
       "text": [
        "WARNING:rootpy] a subclass of THnSparseT<TArrayF> is not implemented in rootpy\n"
       ]
      },
      {
       "output_type": "stream",
       "stream": "stderr",
       "text": [
        "WARNING:rootpy] a subclass of THnSparseT<TArrayF> is not implemented in rootpy\n"
       ]
      },
      {
       "output_type": "stream",
       "stream": "stderr",
       "text": [
        "WARNING:rootpy] a subclass of THnSparseT<TArrayF> is not implemented in rootpy\n"
       ]
      },
      {
       "output_type": "stream",
       "stream": "stderr",
       "text": [
        "WARNING:rootpy] a subclass of THnSparseT<TArrayF> is not implemented in rootpy\n"
       ]
      },
      {
       "output_type": "stream",
       "stream": "stderr",
       "text": [
        "WARNING:rootpy] a subclass of THnSparseT<TArrayF> is not implemented in rootpy\n"
       ]
      },
      {
       "output_type": "stream",
       "stream": "stderr",
       "text": [
        "WARNING:rootpy] a subclass of THnSparseT<TArrayF> is not implemented in rootpy\n"
       ]
      },
      {
       "output_type": "stream",
       "stream": "stderr",
       "text": [
        "WARNING:rootpy] a subclass of THnSparseT<TArrayF> is not implemented in rootpy\n"
       ]
      },
      {
       "output_type": "stream",
       "stream": "stderr",
       "text": [
        "WARNING:rootpy] a subclass of THnSparseT<TArrayF> is not implemented in rootpy\n"
       ]
      },
      {
       "output_type": "stream",
       "stream": "stderr",
       "text": [
        "WARNING:rootpy] a subclass of THnSparseT<TArrayF> is not implemented in rootpy\n"
       ]
      },
      {
       "output_type": "stream",
       "stream": "stderr",
       "text": [
        "WARNING:rootpy] a subclass of THnSparseT<TArrayF> is not implemented in rootpy\n"
       ]
      },
      {
       "output_type": "stream",
       "stream": "stderr",
       "text": [
        "WARNING:rootpy] a subclass of THnSparseT<TArrayF> is not implemented in rootpy\n"
       ]
      },
      {
       "output_type": "stream",
       "stream": "stderr",
       "text": [
        "WARNING:rootpy] a subclass of THnSparseT<TArrayF> is not implemented in rootpy\n"
       ]
      },
      {
       "output_type": "stream",
       "stream": "stderr",
       "text": [
        "WARNING:rootpy] a subclass of THnSparseT<TArrayF> is not implemented in rootpy\n"
       ]
      },
      {
       "output_type": "stream",
       "stream": "stderr",
       "text": [
        "WARNING:rootpy] a subclass of THnSparseT<TArrayF> is not implemented in rootpy\n"
       ]
      },
      {
       "output_type": "stream",
       "stream": "stderr",
       "text": [
        "WARNING:rootpy] a subclass of THnSparseT<TArrayF> is not implemented in rootpy\n"
       ]
      },
      {
       "output_type": "stream",
       "stream": "stderr",
       "text": [
        "WARNING:rootpy] a subclass of THnSparseT<TArrayF> is not implemented in rootpy\n"
       ]
      },
      {
       "output_type": "stream",
       "stream": "stderr",
       "text": [
        "WARNING:rootpy] a subclass of THnSparseT<TArrayF> is not implemented in rootpy\n"
       ]
      },
      {
       "output_type": "stream",
       "stream": "stderr",
       "text": [
        "WARNING:rootpy] a subclass of THnSparseT<TArrayF> is not implemented in rootpy\n"
       ]
      },
      {
       "output_type": "stream",
       "stream": "stderr",
       "text": [
        "WARNING:rootpy] a subclass of THnSparseT<TArrayF> is not implemented in rootpy\n"
       ]
      },
      {
       "output_type": "stream",
       "stream": "stderr",
       "text": [
        "WARNING:rootpy] a subclass of THnSparseT<TArrayF> is not implemented in rootpy\n"
       ]
      },
      {
       "output_type": "stream",
       "stream": "stderr",
       "text": [
        "WARNING:rootpy] a subclass of THnSparseT<TArrayF> is not implemented in rootpy\n"
       ]
      },
      {
       "output_type": "stream",
       "stream": "stderr",
       "text": [
        "WARNING:rootpy] a subclass of THnSparseT<TArrayF> is not implemented in rootpy\n"
       ]
      },
      {
       "output_type": "stream",
       "stream": "stderr",
       "text": [
        "WARNING:rootpy] a subclass of THnSparseT<TArrayF> is not implemented in rootpy\n"
       ]
      },
      {
       "output_type": "stream",
       "stream": "stderr",
       "text": [
        "WARNING:rootpy] a subclass of THnSparseT<TArrayF> is not implemented in rootpy\n"
       ]
      },
      {
       "output_type": "stream",
       "stream": "stderr",
       "text": [
        "WARNING:rootpy] a subclass of THnSparseT<TArrayF> is not implemented in rootpy\n"
       ]
      },
      {
       "output_type": "stream",
       "stream": "stderr",
       "text": [
        "WARNING:rootpy] a subclass of THnSparseT<TArrayF> is not implemented in rootpy\n"
       ]
      },
      {
       "output_type": "stream",
       "stream": "stderr",
       "text": [
        "WARNING:rootpy] a subclass of THnSparseT<TArrayF> is not implemented in rootpy\n"
       ]
      },
      {
       "output_type": "stream",
       "stream": "stderr",
       "text": [
        "WARNING:rootpy] a subclass of THnSparseT<TArrayF> is not implemented in rootpy\n"
       ]
      },
      {
       "output_type": "stream",
       "stream": "stderr",
       "text": [
        "WARNING:rootpy] a subclass of THnSparseT<TArrayF> is not implemented in rootpy\n"
       ]
      },
      {
       "output_type": "stream",
       "stream": "stderr",
       "text": [
        "WARNING:rootpy] a subclass of THnSparseT<TArrayF> is not implemented in rootpy\n"
       ]
      },
      {
       "output_type": "stream",
       "stream": "stderr",
       "text": [
        "WARNING:rootpy] a subclass of THnSparseT<TArrayF> is not implemented in rootpy\n"
       ]
      },
      {
       "output_type": "stream",
       "stream": "stderr",
       "text": [
        "WARNING:rootpy] a subclass of THnSparseT<TArrayF> is not implemented in rootpy\n"
       ]
      },
      {
       "output_type": "stream",
       "stream": "stderr",
       "text": [
        "WARNING:rootpy] a subclass of THnSparseT<TArrayF> is not implemented in rootpy\n"
       ]
      },
      {
       "output_type": "stream",
       "stream": "stderr",
       "text": [
        "WARNING:rootpy] a subclass of THnSparseT<TArrayF> is not implemented in rootpy\n"
       ]
      },
      {
       "output_type": "stream",
       "stream": "stderr",
       "text": [
        "WARNING:rootpy] a subclass of THnSparseT<TArrayF> is not implemented in rootpy\n"
       ]
      },
      {
       "output_type": "stream",
       "stream": "stderr",
       "text": [
        "WARNING:rootpy] a subclass of THnSparseT<TArrayF> is not implemented in rootpy\n"
       ]
      },
      {
       "output_type": "stream",
       "stream": "stderr",
       "text": [
        "WARNING:rootpy] a subclass of THnSparseT<TArrayF> is not implemented in rootpy\n"
       ]
      },
      {
       "output_type": "stream",
       "stream": "stderr",
       "text": [
        "WARNING:rootpy] a subclass of THnSparseT<TArrayF> is not implemented in rootpy\n"
       ]
      },
      {
       "output_type": "stream",
       "stream": "stderr",
       "text": [
        "WARNING:rootpy] a subclass of THnSparseT<TArrayF> is not implemented in rootpy\n"
       ]
      },
      {
       "output_type": "stream",
       "stream": "stderr",
       "text": [
        "WARNING:rootpy] a subclass of THnSparseT<TArrayF> is not implemented in rootpy\n"
       ]
      },
      {
       "output_type": "stream",
       "stream": "stderr",
       "text": [
        "WARNING:rootpy] a subclass of THnSparseT<TArrayF> is not implemented in rootpy\n"
       ]
      },
      {
       "output_type": "stream",
       "stream": "stderr",
       "text": [
        "WARNING:rootpy] a subclass of THnSparseT<TArrayF> is not implemented in rootpy\n"
       ]
      },
      {
       "output_type": "stream",
       "stream": "stderr",
       "text": [
        "WARNING:rootpy] a subclass of THnSparseT<TArrayF> is not implemented in rootpy\n"
       ]
      },
      {
       "output_type": "stream",
       "stream": "stderr",
       "text": [
        "WARNING:rootpy] a subclass of THnSparseT<TArrayF> is not implemented in rootpy\n"
       ]
      },
      {
       "output_type": "stream",
       "stream": "stderr",
       "text": [
        "WARNING:rootpy] a subclass of THnSparseT<TArrayF> is not implemented in rootpy\n"
       ]
      },
      {
       "output_type": "stream",
       "stream": "stderr",
       "text": [
        "WARNING:rootpy] a subclass of THnSparseT<TArrayF> is not implemented in rootpy\n"
       ]
      },
      {
       "output_type": "stream",
       "stream": "stderr",
       "text": [
        "WARNING:rootpy] a subclass of THnSparseT<TArrayF> is not implemented in rootpy\n"
       ]
      },
      {
       "output_type": "stream",
       "stream": "stderr",
       "text": [
        "WARNING:rootpy] a subclass of THnSparseT<TArrayF> is not implemented in rootpy\n"
       ]
      },
      {
       "output_type": "stream",
       "stream": "stderr",
       "text": [
        "WARNING:rootpy] a subclass of THnSparseT<TArrayF> is not implemented in rootpy\n"
       ]
      },
      {
       "output_type": "stream",
       "stream": "stderr",
       "text": [
        "WARNING:rootpy] a subclass of THnSparseT<TArrayF> is not implemented in rootpy\n"
       ]
      },
      {
       "output_type": "stream",
       "stream": "stderr",
       "text": [
        "WARNING:rootpy] a subclass of THnSparseT<TArrayF> is not implemented in rootpy\n"
       ]
      },
      {
       "output_type": "stream",
       "stream": "stderr",
       "text": [
        "WARNING:rootpy] a subclass of THnSparseT<TArrayF> is not implemented in rootpy\n"
       ]
      },
      {
       "output_type": "stream",
       "stream": "stderr",
       "text": [
        "WARNING:rootpy] a subclass of THnSparseT<TArrayF> is not implemented in rootpy\n"
       ]
      },
      {
       "output_type": "stream",
       "stream": "stderr",
       "text": [
        "WARNING:rootpy] a subclass of THnSparseT<TArrayF> is not implemented in rootpy\n"
       ]
      },
      {
       "output_type": "stream",
       "stream": "stderr",
       "text": [
        "WARNING:rootpy] a subclass of THnSparseT<TArrayF> is not implemented in rootpy\n"
       ]
      },
      {
       "output_type": "stream",
       "stream": "stderr",
       "text": [
        "WARNING:rootpy] a subclass of THnSparseT<TArrayF> is not implemented in rootpy\n"
       ]
      },
      {
       "output_type": "stream",
       "stream": "stderr",
       "text": [
        "WARNING:rootpy] a subclass of THnSparseT<TArrayF> is not implemented in rootpy\n"
       ]
      },
      {
       "output_type": "stream",
       "stream": "stderr",
       "text": [
        "WARNING:rootpy] a subclass of THnSparseT<TArrayF> is not implemented in rootpy\n"
       ]
      },
      {
       "output_type": "stream",
       "stream": "stderr",
       "text": [
        "WARNING:rootpy] a subclass of THnSparseT<TArrayF> is not implemented in rootpy\n"
       ]
      },
      {
       "output_type": "stream",
       "stream": "stderr",
       "text": [
        "WARNING:rootpy] a subclass of THnSparseT<TArrayF> is not implemented in rootpy\n"
       ]
      },
      {
       "output_type": "stream",
       "stream": "stderr",
       "text": [
        "WARNING:rootpy] a subclass of THnSparseT<TArrayF> is not implemented in rootpy\n"
       ]
      },
      {
       "output_type": "stream",
       "stream": "stderr",
       "text": [
        "WARNING:rootpy] a subclass of THnSparseT<TArrayF> is not implemented in rootpy\n"
       ]
      },
      {
       "output_type": "stream",
       "stream": "stderr",
       "text": [
        "WARNING:rootpy] a subclass of THnSparseT<TArrayF> is not implemented in rootpy\n"
       ]
      },
      {
       "output_type": "stream",
       "stream": "stderr",
       "text": [
        "WARNING:rootpy] a subclass of THnSparseT<TArrayF> is not implemented in rootpy\n"
       ]
      },
      {
       "output_type": "stream",
       "stream": "stderr",
       "text": [
        "WARNING:rootpy] a subclass of THnSparseT<TArrayF> is not implemented in rootpy\n"
       ]
      },
      {
       "output_type": "stream",
       "stream": "stderr",
       "text": [
        "WARNING:rootpy] a subclass of THnSparseT<TArrayF> is not implemented in rootpy\n"
       ]
      },
      {
       "output_type": "stream",
       "stream": "stderr",
       "text": [
        "WARNING:rootpy] a subclass of THnSparseT<TArrayF> is not implemented in rootpy\n"
       ]
      },
      {
       "output_type": "stream",
       "stream": "stderr",
       "text": [
        "WARNING:rootpy] a subclass of THnSparseT<TArrayF> is not implemented in rootpy\n"
       ]
      },
      {
       "output_type": "stream",
       "stream": "stderr",
       "text": [
        "WARNING:rootpy] a subclass of THnSparseT<TArrayF> is not implemented in rootpy\n"
       ]
      }
     ],
     "prompt_number": 13
    },
    {
     "cell_type": "code",
     "collapsed": false,
     "input": [
      "print len(h5)"
     ],
     "language": "python",
     "metadata": {},
     "outputs": [
      {
       "output_type": "stream",
       "stream": "stdout",
       "text": [
        "544\n"
       ]
      }
     ],
     "prompt_number": 14
    },
    {
     "cell_type": "code",
     "collapsed": false,
     "input": [
      "itgrl=0\n",
      "for h in h5:\n",
      "    itgrl+=thntool.GetIntegral(h)\n",
      "print \"Total entries in h5s=\",itgrl"
     ],
     "language": "python",
     "metadata": {},
     "outputs": [
      {
       "output_type": "stream",
       "stream": "stdout",
       "text": [
        "Total entries in h5s= 3882268.0\n"
       ]
      }
     ],
     "prompt_number": 15
    },
    {
     "cell_type": "code",
     "collapsed": false,
     "input": [],
     "language": "python",
     "metadata": {},
     "outputs": []
    }
   ],
   "metadata": {}
  }
 ]
}