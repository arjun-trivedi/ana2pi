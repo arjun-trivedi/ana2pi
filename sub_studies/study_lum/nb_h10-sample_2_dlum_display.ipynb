{
 "metadata": {
  "name": ""
 },
 "nbformat": 3,
 "nbformat_minor": 0,
 "worksheets": [
  {
   "cells": [
    {
     "cell_type": "raw",
     "metadata": {},
     "source": [
      "Use e1f_allruns-local_h10lst to verify quicky impact on dlum when proc_lum is changed. Subsequenty, make dlum on the farm"
     ]
    },
    {
     "cell_type": "code",
     "collapsed": false,
     "input": [
      "import glob#,subprocess\n",
      "from subprocess import Popen, PIPE, STDOUT"
     ],
     "language": "python",
     "metadata": {},
     "outputs": [],
     "prompt_number": 1
    },
    {
     "cell_type": "code",
     "collapsed": false,
     "input": [
      "'''\n",
      "+ Verify if Runs in e1f_allruns-local_h10lst contain all the files.\n",
      "+ This is done by comparing Runs in e1f_allruns-local_h10lst with corresponding Runs in e1f_allruns_h10lst\n",
      "'''\n",
      "h10lstl=glob.glob(\"/home/trivedia/ongoing/e1f_allruns-local_h10lst/*.lst\")\n",
      "h10lstl.sort()\n",
      "print \"Number of locally available runs=\",len(h10lstl)\n",
      "local_h10lst_complete=True\n",
      "for h10lst in h10lstl:\n",
      "    runnum=int(h10lst.split(\"/\")[5].split(\".\")[0])\n",
      "    #print runnum\n",
      "    f=open(h10lst)\n",
      "    #print len(f.readlines())\n",
      "    f2=open(\"/home/trivedia/ongoing/e1f_allruns_h10lst/%d.lst\"%runnum)\n",
      "    #print len(f2.readlines())\n",
      "    if len(f2.readlines())-len(f.readlines()) != 0:\n",
      "        print runnum,\"has missing files\"\n",
      "        local_h10lst_complete=False\n",
      "if local_h10lst_complete: print \"Local h10lst is complete\""
     ],
     "language": "python",
     "metadata": {},
     "outputs": [
      {
       "output_type": "stream",
       "stream": "stdout",
       "text": [
        "Number of locally available runs= 45\n",
        "Local h10lst is complete"
       ]
      },
      {
       "output_type": "stream",
       "stream": "stdout",
       "text": [
        "\n"
       ]
      }
     ],
     "prompt_number": 2
    },
    {
     "cell_type": "code",
     "collapsed": false,
     "input": [
      "'''Make dlum from local h10s'''\n",
      "h10lstl=glob.glob(\"/home/trivedia/ongoing/e1f_allruns-local_h10lst/*.lst\")\n",
      "h10lstl.sort()\n",
      "for h10lst in h10lstl:\n",
      "    outdir=os.path.join(os.environ['STUDY_LUM_DATADIR'],\"made_from_h10-sample\")\n",
      "    runnum=int(h10lst.split(\"/\")[5].split(\".\")[0])\n",
      "    #if runnum>37661: continue\n",
      "    cmd=\"proc_h10 -i %s -t e1f:exp:2pi  -p lum -o %s/%d.root\"%(h10lst,outdir,runnum)\n",
      "    #print \"Going to process runnum %d\"%runnum\n",
      "    print \">%s\"%cmd\n",
      "    p = Popen(cmd, shell=True, stdin=PIPE, stdout=PIPE, stderr=STDOUT, close_fds=True)\n",
      "    stdout=p.stdout.read()\n",
      "    print stdout"
     ],
     "language": "python",
     "metadata": {},
     "outputs": [
      {
       "output_type": "stream",
       "stream": "stdout",
       "text": [
        ">proc_h10 -i /home/trivedia/ongoing/e1f_allruns-local_h10lst/37658.lst -t e1f:exp:2pi  -p lum -o /data/trivedia/e1f/study_lum/made_from_h10-sample/37658.root\n",
        "Info in <proc_h10::main()>: \n",
        "\n",
        "Info in <proc_h10>: Not going to use q2w_elist\n",
        "\n",
        "Info in <proc_h10>: h10lst=/home/trivedia/ongoing/e1f_allruns-local_h10lst/37658.lst,h10type=e1f:exp:2pi,procorder=lum,fout=/data/trivedia/e1f/study_lum/made_from_h10-sample/37658.root,nentries=1000000000\n",
        "Info in <proc_h10::SetupProcs()>: procorder = lum\n",
        "\n",
        "Collection name='TObjArray', class='TObjArray', size=16\n",
        " TObjString = lum\n",
        "Info in <EpProcessor::EpProcessor()>: lum isFirstProc!\n",
        "\n",
        "Info in <EpProcessor::EpProcessor()>: eid isFirstProc!\n",
        "\n",
        "Info in <ProcEid::ProcEid()>: dH10.expt==e1f && eidParFileFound=true. Will use goodE()\n",
        "Info in <H10Looper::Loop>: Number of entries in Chain =  3313868\n",
        "Info in <H10Looper::Loop>: Number of entries to processess =  3313868\n",
        "Info in <H10Looper::Loop>: Processing entry# 0(file=/data/trivedia/e1f/2pi/exp/h10-sample/root_37658_pass1.a00.root)\n",
        "Info in <H10Looper::Loop>:  0.00% entries processed\n",
        "Info in <H10Looper::Loop>: Total memory used = 13MB\n",
        "Info in <H10Looper::Loop>: Processing entry# 100000(file=/data/trivedia/e1f/2pi/exp/h10-sample/root_37658_pass1.a00.root)\n",
        "Info in <H10Looper::Loop>:  3.02% entries processed\n",
        "Info in <H10Looper::Loop>: Total memory used = 17MB\n",
        "Info in <H10Looper::Loop>: Processing entry# 200000(file=/data/trivedia/e1f/2pi/exp/h10-sample/root_37658_pass1.a00.root)\n",
        "Info in <H10Looper::Loop>:  6.04% entries processed\n",
        "Info in <H10Looper::Loop>: Total memory used = 19MB\n",
        "Info in <H10Looper::Loop>: Processing entry# 300000(file=/data/trivedia/e1f/2pi/exp/h10-sample/root_37658_pass1.a00.root)\n",
        "Info in <H10Looper::Loop>:  9.05% entries processed\n",
        "Info in <H10Looper::Loop>: Total memory used = 20MB\n",
        "Info in <H10Looper::Loop>: Processing entry# 400000(file=/data/trivedia/e1f/2pi/exp/h10-sample/root_37658_pass1.a00.root)\n",
        "Info in <H10Looper::Loop>: 12.07% entries processed\n",
        "Info in <H10Looper::Loop>: Total memory used = 21MB\n",
        "Info in <H10Looper::Loop>: Processing entry# 500000(file=/data/trivedia/e1f/2pi/exp/h10-sample/root_37658_pass1.a00.root)\n",
        "Info in <H10Looper::Loop>: 15.09% entries processed\n",
        "Info in <H10Looper::Loop>: Total memory used = 23MB\n",
        "Info in <H10Looper::Loop>: Processing entry# 600000(file=/data/trivedia/e1f/2pi/exp/h10-sample/root_37658_pass1.a01.root)\n",
        "Info in <H10Looper::Loop>: 18.11% entries processed\n",
        "Info in <H10Looper::Loop>: Total memory used = 23MB\n",
        "Info in <H10Looper::Loop>: Processing entry# 700000(file=/data/trivedia/e1f/2pi/exp/h10-sample/root_37658_pass1.a01.root)\n",
        "Info in <H10Looper::Loop>: 21.12% entries processed\n",
        "Info in <H10Looper::Loop>: Total memory used = 26MB\n",
        "Info in <H10Looper::Loop>: Processing entry# 800000(file=/data/trivedia/e1f/2pi/exp/h10-sample/root_37658_pass1.a01.root)\n",
        "Info in <H10Looper::Loop>: 24.14% entries processed\n",
        "Info in <H10Looper::Loop>: Total memory used = 28MB\n",
        "Info in <H10Looper::Loop>: Processing entry# 900000(file=/data/trivedia/e1f/2pi/exp/h10-sample/root_37658_pass1.a01.root)\n",
        "Info in <H10Looper::Loop>: 27.16% entries processed\n",
        "Info in <H10Looper::Loop>: Total memory used = 30MB\n",
        "Info in <H10Looper::Loop>: Processing entry# 1000000(file=/data/trivedia/e1f/2pi/exp/h10-sample/root_37658_pass1.a01.root)\n",
        "Info in <H10Looper::Loop>: 30.18% entries processed\n",
        "Info in <H10Looper::Loop>: Total memory used = 32MB\n",
        "Info in <H10Looper::Loop>: Processing entry# 1100000(file=/data/trivedia/e1f/2pi/exp/h10-sample/root_37658_pass1.a02.root)\n",
        "Info in <H10Looper::Loop>: 33.19% entries processed\n",
        "Info in <H10Looper::Loop>: Total memory used = 33MB\n",
        "Info in <H10Looper::Loop>: Processing entry# 1200000(file=/data/trivedia/e1f/2pi/exp/h10-sample/root_37658_pass1.a02.root)\n",
        "Info in <H10Looper::Loop>: 36.21% entries processed\n",
        "Info in <H10Looper::Loop>: Total memory used = 35MB\n",
        "Info in <H10Looper::Loop>: Processing entry# 1300000(file=/data/trivedia/e1f/2pi/exp/h10-sample/root_37658_pass1.a02.root)\n",
        "Info in <H10Looper::Loop>: 39.23% entries processed\n",
        "Info in <H10Looper::Loop>: Total memory used = 37MB\n",
        "Info in <H10Looper::Loop>: Processing entry# 1400000(file=/data/trivedia/e1f/2pi/exp/h10-sample/root_37658_pass1.a02.root)\n",
        "Info in <H10Looper::Loop>: 42.25% entries processed\n",
        "Info in <H10Looper::Loop>: Total memory used = 38MB\n",
        "Info in <H10Looper::Loop>: Processing entry# 1500000(file=/data/trivedia/e1f/2pi/exp/h10-sample/root_37658_pass1.a02.root)\n",
        "Info in <H10Looper::Loop>: 45.26% entries processed\n",
        "Info in <H10Looper::Loop>: Total memory used = 40MB\n",
        "Info in <H10Looper::Loop>: Processing entry# 1600000(file=/data/trivedia/e1f/2pi/exp/h10-sample/root_37658_pass1.a03.root)\n",
        "Info in <H10Looper::Loop>: 48.28% entries processed\n",
        "Info in <H10Looper::Loop>: Total memory used = 41MB\n",
        "Info in <H10Looper::Loop>: Processing entry# 1700000(file=/data/trivedia/e1f/2pi/exp/h10-sample/root_37658_pass1.a03.root)\n",
        "Info in <H10Looper::Loop>: 51.30% entries processed\n",
        "Info in <H10Looper::Loop>: Total memory used = 43MB\n",
        "Info in <H10Looper::Loop>: Processing entry# 1800000(file=/data/trivedia/e1f/2pi/exp/h10-sample/root_37658_pass1.a03.root)\n",
        "Info in <H10Looper::Loop>: 54.32% entries processed\n",
        "Info in <H10Looper::Loop>: Total memory used = 44MB\n",
        "Info in <H10Looper::Loop>: Processing entry# 1900000(file=/data/trivedia/e1f/2pi/exp/h10-sample/root_37658_pass1.a03.root)\n",
        "Info in <H10Looper::Loop>: 57.33% entries processed\n",
        "Info in <H10Looper::Loop>: Total memory used = 45MB\n",
        "Info in <H10Looper::Loop>: Processing entry# 2000000(file=/data/trivedia/e1f/2pi/exp/h10-sample/root_37658_pass1.a04.root)\n",
        "Info in <H10Looper::Loop>: 60.35% entries processed\n",
        "Info in <H10Looper::Loop>: Total memory used = 46MB\n",
        "Info in <H10Looper::Loop>: Processing entry# 2100000(file=/data/trivedia/e1f/2pi/exp/h10-sample/root_37658_pass1.a04.root)\n",
        "Info in <H10Looper::Loop>: 63.37% entries processed\n",
        "Info in <H10Looper::Loop>: Total memory used = 48MB\n",
        "Info in <H10Looper::Loop>: Processing entry# 2200000(file=/data/trivedia/e1f/2pi/exp/h10-sample/root_37658_pass1.a04.root)\n",
        "Info in <H10Looper::Loop>: 66.39% entries processed\n",
        "Info in <H10Looper::Loop>: Total memory used = 48MB\n",
        "Info in <H10Looper::Loop>: Processing entry# 2300000(file=/data/trivedia/e1f/2pi/exp/h10-sample/root_37658_pass1.a04.root)\n",
        "Info in <H10Looper::Loop>: 69.41% entries processed\n",
        "Info in <H10Looper::Loop>: Total memory used = 49MB\n",
        "Info in <H10Looper::Loop>: Processing entry# 2400000(file=/data/trivedia/e1f/2pi/exp/h10-sample/root_37658_pass1.a05.root)\n",
        "Info in <H10Looper::Loop>: 72.42% entries processed\n",
        "Info in <H10Looper::Loop>: Total memory used = 49MB\n",
        "Info in <H10Looper::Loop>: Processing entry# 2500000(file=/data/trivedia/e1f/2pi/exp/h10-sample/root_37658_pass1.a05.root)\n",
        "Info in <H10Looper::Loop>: 75.44% entries processed\n",
        "Info in <H10Looper::Loop>: Total memory used = 51MB\n",
        "Info in <H10Looper::Loop>: Processing entry# 2600000(file=/data/trivedia/e1f/2pi/exp/h10-sample/root_37658_pass1.a05.root)\n",
        "Info in <H10Looper::Loop>: 78.46% entries processed\n",
        "Info in <H10Looper::Loop>: Total memory used = 52MB\n",
        "Info in <H10Looper::Loop>: Processing entry# 2700000(file=/data/trivedia/e1f/2pi/exp/h10-sample/root_37658_pass1.a05.root)\n",
        "Info in <H10Looper::Loop>: 81.48% entries processed\n",
        "Info in <H10Looper::Loop>: Total memory used = 54MB\n",
        "Info in <H10Looper::Loop>: Processing entry# 2800000(file=/data/trivedia/e1f/2pi/exp/h10-sample/root_37658_pass1.a06.root)\n",
        "Info in <H10Looper::Loop>: 84.49% entries processed\n",
        "Info in <H10Looper::Loop>: Total memory used = 55MB\n",
        "Info in <H10Looper::Loop>: Processing entry# 2900000(file=/data/trivedia/e1f/2pi/exp/h10-sample/root_37658_pass1.a06.root)\n",
        "Info in <H10Looper::Loop>: 87.51% entries processed\n",
        "Info in <H10Looper::Loop>: Total memory used = 48MB\n",
        "Info in <H10Looper::Loop>: Processing entry# 3000000(file=/data/trivedia/e1f/2pi/exp/h10-sample/root_37658_pass1.a06.root)\n",
        "Info in <H10Looper::Loop>: 90.53% entries processed\n",
        "Info in <H10Looper::Loop>: Total memory used = 48MB\n",
        "Info in <H10Looper::Loop>: Processing entry# 3100000(file=/data/trivedia/e1f/2pi/exp/h10-sample/root_37658_pass1.a06.root)\n",
        "Info in <H10Looper::Loop>: 93.55% entries processed\n",
        "Info in <H10Looper::Loop>: Total memory used = 49MB\n",
        "Info in <H10Looper::Loop>: Processing entry# 3200000(file=/data/trivedia/e1f/2pi/exp/h10-sample/root_37658_pass1.a07.root)\n",
        "Info in <H10Looper::Loop>: 96.56% entries processed\n",
        "Info in <H10Looper::Loop>: Total memory used = 48MB\n",
        "Info in <H10Looper::Loop>: Processing entry# 3300000(file=/data/trivedia/e1f/2pi/exp/h10-sample/root_37658_pass1.a07.root)\n",
        "Info in <H10Looper::Loop>: 99.58% entries processed\n",
        "Info in <H10Looper::Loop>: Total memory used = 49MB\n",
        "Info in <H10Looper::Loop>: Total memory used = 49MB\n",
        "\n",
        "Reading eid pars from /home/trivedia/CLAS/workspace/ana2pi/eid/eid.exp.out\n"
       ]
      }
     ],
     "prompt_number": "*"
    },
    {
     "cell_type": "code",
     "collapsed": false,
     "input": [
      "import study_lum_lib as lib\n",
      "lib.make_dlum_txt(os.path.join(os.environ['STUDY_LUM_DATADIR'],\"made_from_h10-sample\"),'dlum-local.txt')\n",
      "lib.disp_lum('dlum-local.txt')"
     ],
     "language": "python",
     "metadata": {},
     "outputs": [
      {
       "output_type": "stream",
       "stream": "stdout",
       "text": [
        "['/data/trivedia/e1f/study_lum/made_from_h10-sample/37658.root', '/data/trivedia/e1f/study_lum/made_from_h10-sample/37659.root', '/data/trivedia/e1f/study_lum/made_from_h10-sample/37661.root']\n",
        "37658 11.39 3313868 291089 610201\n"
       ]
      },
      {
       "output_type": "stream",
       "stream": "stdout",
       "text": [
        "\n",
        "37659 11.01 3217268 279460 590683\n",
        "\n",
        "37661 13.41 3907822 347446 723206\n",
        "\n"
       ]
      },
      {
       "metadata": {},
       "output_type": "display_data",
       "png": "[encoded data removed]",
       "text": [
        "<matplotlib.figure.Figure at 0x607a810>"
       ]
      }
     ],
     "prompt_number": 1
    },
    {
     "cell_type": "code",
     "collapsed": false,
     "input": [],
     "language": "python",
     "metadata": {},
     "outputs": []
    },
    {
     "cell_type": "code",
     "collapsed": false,
     "input": [
      "ff=open('dlum-local.txt', 'w')\n",
      "lumdl=glob.glob(os.path.join(os.environ['STUDY_LUM_DATADIR'],\"made_from_h10-sample\",\"*.root\"))\n",
      "lumdl=sort(lumdl)\n",
      "#print lumdl\n",
      "for lumd in lumdl:\n",
      "    runnum=int(lumd.split(\"/\")[6].split(\".\")[0])\n",
      "    #print runnum\n",
      "    f=ROOT.TFile(lumd)\n",
      "    #print f.GetName()\n",
      "    hevtsum=f.Get(\"lum/hevtsum\")\n",
      "    hQ=f.Get(\"lum/hQ\")\n",
      "    #print hevtsum.GetName()\n",
      "    q=hQ.GetBinContent(1)\n",
      "    Ntrigger=hevtsum.GetBinContent(1)\n",
      "    Ngoode=hevtsum.GetBinContent(2)\n",
      "    Ngoodebos=hevtsum.GetBinContent(3)\n",
      "    ff.write(\"%d %.2f %d %d\\n\"%(runnum,q,Ntrigger,Ngoode,Ngoodebos))\n",
      "ff.close()"
     ],
     "language": "python",
     "metadata": {},
     "outputs": [
      {
       "output_type": "stream",
       "stream": "stdout",
       "text": [
        "['/data/trivedia/e1f/study_lum/made_from_h10-sample/37658.root'\n",
        " '/data/trivedia/e1f/study_lum/made_from_h10-sample/37659.root'\n",
        " '/data/trivedia/e1f/study_lum/made_from_h10-sample/37661.root'\n",
        " '/data/trivedia/e1f/study_lum/made_from_h10-sample/37662.root']\n"
       ]
      }
     ],
     "prompt_number": 51
    },
    {
     "cell_type": "code",
     "collapsed": false,
     "input": [
      "ff=open('dlum-local.txt')\n",
      "runnuml=[]\n",
      "norm_Ntrigger=[]\n",
      "norm_Ngoode=[]\n",
      "norm_Ngoodebos=[]\n",
      "for l in ff.readlines():\n",
      "    #print l\n",
      "    dl=l.split(\" \")\n",
      "    runnum=int(dl[0].strip())\n",
      "    q=float(dl[1].strip())\n",
      "    Ntrigger=int(dl[2].strip())\n",
      "    Ngoode=int(dl[3].strip())\n",
      "    Ngoodebos=int(dl[3].strip())\n",
      "    #print runnum,q,Ntrigger,Ngoode\n",
      "    runnuml.append(runnum)\n",
      "    if q==0.0:\n",
      "        norm_Ntrigger.append(0)\n",
      "        norm_Ngoode.append(0)\n",
      "        norm_Ngoodebos.append(0)\n",
      "    else:\n",
      "        norm_Ntrigger.append(Ntrigger/q)\n",
      "        norm_Ngoode.append(Ngoode/q)\n",
      "        norm_Ngoodebos.append(Ngoodebos/q)\n",
      "fig,axs=plt.subplots(figsize=(15,5),nrows=1,ncols=4)\n",
      "axs[0].scatter(runnuml,Q)\n",
      "axs[1].scatter(runnuml,norm_Ntrigger)\n",
      "axs[2].scatter(runnuml,norm_Ngoode)\n",
      "axs[3].scatter(runnuml,norm_Ngoodebos)"
     ],
     "language": "python",
     "metadata": {},
     "outputs": [
      {
       "metadata": {},
       "output_type": "pyout",
       "prompt_number": 52,
       "text": [
        "<matplotlib.collections.PathCollection at 0x5e52b10>"
       ]
      },
      {
       "metadata": {},
       "output_type": "display_data",
       "png": "[encoded data removed]",
       "text": [
        "<matplotlib.figure.Figure at 0x58ad190>"
       ]
      }
     ],
     "prompt_number": 52
    },
    {
     "cell_type": "code",
     "collapsed": false,
     "input": [
      "from subprocess import Popen, PIPE, STDOUT\n",
      "cmd = 'ls /etc/fstab /etc/non-existent-file'\n",
      "p = Popen(cmd, shell=True, stdin=PIPE, stdout=PIPE, stderr=STDOUT, close_fds=True)\n",
      "stdout=p.stdout.read()\n",
      "#stderr=p.stderr\n",
      "print stdout#,stderr"
     ],
     "language": "python",
     "metadata": {},
     "outputs": [
      {
       "output_type": "stream",
       "stream": "stdout",
       "text": [
        "ls: cannot access /etc/non-existent-file: No such file or directory\n",
        "/etc/fstab\n",
        "\n"
       ]
      }
     ],
     "prompt_number": 19
    },
    {
     "cell_type": "code",
     "collapsed": false,
     "input": [
      "import atlib as t\n",
      "import os\n",
      "from root_numpy import root2array, root2rec, tree2rec\n",
      "#r=os.path.join(os.environ['H10DIR_EXP'],'h10-sample','root_37658_pass1.a00.root')\n",
      "r=os.path.join(os.environ['H10DIR_EXP'],'h10-sample','root_37658_pass1.*.root')\n",
      "d=pd.DataFrame(root2array(r,'h10',branches=['q_l','evntid']))              "
     ],
     "language": "python",
     "metadata": {},
     "outputs": [],
     "prompt_number": 57
    },
    {
     "cell_type": "code",
     "collapsed": false,
     "input": [
      "print d.head()"
     ],
     "language": "python",
     "metadata": {},
     "outputs": [
      {
       "output_type": "stream",
       "stream": "stdout",
       "text": [
        "   q_l   evntid\n",
        "0    0  1279212\n",
        "1    0  1279213\n",
        "2    0  1279214\n",
        "3    0  1279215\n",
        "4    0  1279216\n"
       ]
      }
     ],
     "prompt_number": 58
    },
    {
     "cell_type": "code",
     "collapsed": false,
     "input": [
      "x=d['evntid']\n",
      "y=d['q_l']\n",
      "plt.scatter(x,y)"
     ],
     "language": "python",
     "metadata": {},
     "outputs": [
      {
       "metadata": {},
       "output_type": "pyout",
       "prompt_number": 59,
       "text": [
        "<matplotlib.collections.PathCollection at 0xb8b7fd0>"
       ]
      },
      {
       "metadata": {},
       "output_type": "display_data",
       "png": "[encoded data removed]",
       "text": [
        "<matplotlib.figure.Figure at 0x5111450>"
       ]
      }
     ],
     "prompt_number": 59
    },
    {
     "cell_type": "code",
     "collapsed": false,
     "input": [
      "r=d['q_l']\n",
      "print r[44531]\n",
      "print r[44532]\n",
      "print r[44500:44532]"
     ],
     "language": "python",
     "metadata": {},
     "outputs": [
      {
       "output_type": "stream",
       "stream": "stdout",
       "text": [
        "13.7696\n",
        "13.7696\n",
        "44500    13.769597\n",
        "44501    13.769597\n",
        "44502    13.769597\n",
        "44503    13.769597\n",
        "44504    13.769597\n",
        "44505    13.769597\n",
        "44506    13.769597\n",
        "44507    13.769597\n",
        "44508    13.769597\n",
        "44509    13.769597\n",
        "44510    13.769597\n",
        "44511    13.769597\n",
        "44512    13.769597\n",
        "44513    13.769597\n",
        "44514    13.769597\n",
        "44515    13.769597\n",
        "44516    13.769597\n",
        "44517    13.769597\n",
        "44518    13.769597\n",
        "44519    13.769597\n",
        "44520    13.769597\n",
        "44521    13.769597\n",
        "44522    13.769597\n",
        "44523    13.769597\n",
        "44524    13.769597\n",
        "44525    13.769597\n",
        "44526    13.769597\n",
        "44527    13.769597\n",
        "44528    13.769597\n",
        "44529    13.769597\n",
        "44530    13.769597\n",
        "44531    13.769597\n",
        "Name: q_l, dtype: float32\n"
       ]
      }
     ],
     "prompt_number": 45
    },
    {
     "cell_type": "code",
     "collapsed": false,
     "input": [],
     "language": "python",
     "metadata": {},
     "outputs": []
    }
   ],
   "metadata": {}
  }
 ]
}