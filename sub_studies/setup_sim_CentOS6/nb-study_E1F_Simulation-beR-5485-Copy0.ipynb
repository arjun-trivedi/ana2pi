{
 "metadata": {
  "name": ""
 },
 "nbformat": 3,
 "nbformat_minor": 0,
 "worksheets": [
  {
   "cells": [
    {
     "cell_type": "code",
     "collapsed": false,
     "input": [
      "import study_simdet_tools as sdt\n",
      "sdt.load_data(5497)\n",
      "#sdt.plot_q2w()\n",
      "#sdt.plot_kinematics()\n",
      "#means,sgmas=sdt.get_detector_resolution_and_offset()"
     ],
     "language": "python",
     "metadata": {},
     "outputs": [
      {
       "output_type": "stream",
       "stream": "stderr",
       "text": [
        "/usr/lib/python2.7/pkgutil.py:186: ImportWarning: Not importing directory '/usr/lib/python2.7/dist-packages/scikits': missing __init__.py\n",
        "  file, filename, etc = imp.find_module(subname, path)\n",
        "/usr/local/lib/python2.7/dist-packages/pandas/__init__.py:6: RuntimeWarning: numpy.dtype size changed, may indicate binary incompatibility\n",
        "  from . import hashtable, tslib, lib\n"
       ]
      },
      {
       "output_type": "stream",
       "stream": "stderr",
       "text": [
        "/usr/local/lib/python2.7/dist-packages/pandas/__init__.py:6: RuntimeWarning: numpy.ufunc size changed, may indicate binary incompatibility\n",
        "  from . import hashtable, tslib, lib\n",
        "/usr/local/lib/python2.7/dist-packages/pandas/core/common.py:12: RuntimeWarning: numpy.dtype size changed, may indicate binary incompatibility\n",
        "  import pandas.algos as algos\n",
        "/usr/local/lib/python2.7/dist-packages/pandas/core/common.py:12: RuntimeWarning: numpy.ufunc size changed, may indicate binary incompatibility\n",
        "  import pandas.algos as algos\n",
        "/usr/local/lib/python2.7/dist-packages/pandas/core/index.py:10: RuntimeWarning: numpy.dtype size changed, may indicate binary incompatibility\n",
        "  import pandas.index as _index\n",
        "/usr/local/lib/python2.7/dist-packages/pandas/core/index.py:10: RuntimeWarning: numpy.ufunc size changed, may indicate binary incompatibility\n",
        "  import pandas.index as _index\n",
        "/usr/local/lib/python2.7/dist-packages/pandas/sparse/array.py:16: RuntimeWarning: numpy.dtype size changed, may indicate binary incompatibility\n",
        "  from pandas._sparse import BlockIndex, IntIndex\n"
       ]
      },
      {
       "output_type": "stream",
       "stream": "stdout",
       "text": [
        "\n",
        "\tLoad data\n",
        "\t\n"
       ]
      },
      {
       "output_type": "stream",
       "stream": "stderr",
       "text": [
        "/usr/local/lib/python2.7/dist-packages/pandas/sparse/array.py:16: RuntimeWarning: numpy.ufunc size changed, may indicate binary incompatibility\n",
        "  from pandas._sparse import BlockIndex, IntIndex\n",
        "/usr/local/lib/python2.7/dist-packages/pandas/io/parsers.py:24: RuntimeWarning: numpy.dtype size changed, may indicate binary incompatibility\n",
        "  import pandas.parser as _parser\n",
        "/usr/local/lib/python2.7/dist-packages/pandas/io/parsers.py:24: RuntimeWarning: numpy.ufunc size changed, may indicate binary incompatibility\n",
        "  import pandas.parser as _parser\n"
       ]
      }
     ],
     "prompt_number": 1
    },
    {
     "cell_type": "code",
     "collapsed": false,
     "input": [
      "dfT=sdt.dfT\n",
      "dfR=sdt.dfR\n",
      "print dfR.head()\n",
      "print dfT.head()"
     ],
     "language": "python",
     "metadata": {},
     "outputs": [
      {
       "output_type": "stream",
       "stream": "stdout",
       "text": [
        "<class 'pandas.core.frame.DataFrame'>\n",
        "Int64Index: 5 entries, 0 to 4\n",
        "Data columns (total 61 columns):\n",
        "p_e0             5  non-null values\n",
        "p_e              5  non-null values\n",
        "p_p              5  non-null values\n",
        "p_pip            5  non-null values\n",
        "p_pim            5  non-null values\n",
        "theta_e          5  non-null values\n",
        "theta_p          5  non-null values\n",
        "theta_pip        5  non-null values\n",
        "theta_pim        5  non-null values\n",
        "phi_e            5  non-null values\n",
        "phi_p            5  non-null values\n",
        "phi_pip          5  non-null values\n",
        "phi_pim          5  non-null values\n",
        "vx_e             5  non-null values\n",
        "vx_p             5  non-null values\n",
        "vx_pip           5  non-null values\n",
        "vx_pim           5  non-null values\n",
        "vy_e             5  non-null values\n",
        "vy_p             5  non-null values\n",
        "vy_pip           5  non-null values\n",
        "vy_pim           5  non-null values\n",
        "vz_e             5  non-null values\n",
        "vz_p             5  non-null values\n",
        "vz_pip           5  non-null values\n",
        "vz_pim           5  non-null values\n",
        "Q2               5  non-null values\n",
        "W                5  non-null values\n",
        "h                5  non-null values\n",
        "mm2ppippim       5  non-null values\n",
        "mmppippim        5  non-null values\n",
        "mm2ppip          5  non-null values\n",
        "mmppip           5  non-null values\n",
        "mm2ppim          5  non-null values\n",
        "mmppim           5  non-null values\n",
        "mm2pippim        5  non-null values\n",
        "mmpippim         5  non-null values\n",
        "top              5  non-null values\n",
        "M_ppip           5  non-null values\n",
        "M_ppim           5  non-null values\n",
        "M_pippim         5  non-null values\n",
        "theta_cms_p      5  non-null values\n",
        "theta_cms_pip    5  non-null values\n",
        "theta_cms_pim    5  non-null values\n",
        "phi_cms_p        5  non-null values\n",
        "phi_cms_pip      5  non-null values\n",
        "phi_cms_pim      5  non-null values\n",
        "alpha_1          5  non-null values\n",
        "alpha_2          5  non-null values\n",
        "alpha_3          5  non-null values\n",
        "px_e             5  non-null values\n",
        "py_e             5  non-null values\n",
        "pz_e             5  non-null values\n",
        "px_p             5  non-null values\n",
        "py_p             5  non-null values\n",
        "pz_p             5  non-null values\n",
        "px_pip           5  non-null values\n",
        "py_pip           5  non-null values\n",
        "pz_pip           5  non-null values\n",
        "px_pim           5  non-null values\n",
        "py_pim           5  non-null values\n",
        "pz_pim           5  non-null values\n",
        "dtypes: float32(59), int32(1), int8(1)\n",
        "<class 'pandas.core.frame.DataFrame'>\n",
        "Int64Index: 5 entries, 0 to 4\n",
        "Data columns (total 61 columns):\n",
        "p_e0             5  non-null values\n",
        "p_e              5  non-null values\n",
        "p_p              5  non-null values\n",
        "p_pip            5  non-null values\n",
        "p_pim            5  non-null values\n",
        "theta_e          5  non-null values\n",
        "theta_p          5  non-null values\n",
        "theta_pip        5  non-null values\n",
        "theta_pim        5  non-null values\n",
        "phi_e            5  non-null values\n",
        "phi_p            5  non-null values\n",
        "phi_pip          5  non-null values\n",
        "phi_pim          5  non-null values\n",
        "vx_e             5  non-null values\n",
        "vx_p             5  non-null values\n",
        "vx_pip           5  non-null values\n",
        "vx_pim           5  non-null values\n",
        "vy_e             5  non-null values\n",
        "vy_p             5  non-null values\n",
        "vy_pip           5  non-null values\n",
        "vy_pim           5  non-null values\n",
        "vz_e             5  non-null values\n",
        "vz_p             5  non-null values\n",
        "vz_pip           5  non-null values\n",
        "vz_pim           5  non-null values\n",
        "Q2               5  non-null values\n",
        "W                5  non-null values\n",
        "h                5  non-null values\n",
        "mm2ppippim       5  non-null values\n",
        "mmppippim        5  non-null values\n",
        "mm2ppip          5  non-null values\n",
        "mmppip           5  non-null values\n",
        "mm2ppim          5  non-null values\n",
        "mmppim           5  non-null values\n",
        "mm2pippim        5  non-null values\n",
        "mmpippim         5  non-null values\n",
        "top              5  non-null values\n",
        "M_ppip           5  non-null values\n",
        "M_ppim           5  non-null values\n",
        "M_pippim         5  non-null values\n",
        "theta_cms_p      5  non-null values\n",
        "theta_cms_pip    5  non-null values\n",
        "theta_cms_pim    5  non-null values\n",
        "phi_cms_p        5  non-null values\n",
        "phi_cms_pip      5  non-null values\n",
        "phi_cms_pim      5  non-null values\n",
        "alpha_1          5  non-null values\n",
        "alpha_2          5  non-null values\n",
        "alpha_3          5  non-null values\n",
        "px_e             5  non-null values\n",
        "py_e             5  non-null values\n",
        "pz_e             5  non-null values\n",
        "px_p             5  non-null values\n",
        "py_p             5  non-null values\n",
        "pz_p             5  non-null values\n",
        "px_pip           5  non-null values\n",
        "py_pip           5  non-null values\n",
        "pz_pip           5  non-null values\n",
        "px_pim           5  non-null values\n",
        "py_pim           5  non-null values\n",
        "pz_pim           5  non-null values\n",
        "dtypes: float32(59), int32(1), int8(1)\n"
       ]
      }
     ],
     "prompt_number": 37
    },
    {
     "cell_type": "code",
     "collapsed": false,
     "input": [
      "print dfT['vz_e'].head()\n",
      "print dfR['vz_e'].head()"
     ],
     "language": "python",
     "metadata": {},
     "outputs": [
      {
       "output_type": "stream",
       "stream": "stdout",
       "text": [
        "0    0\n",
        "1    0\n",
        "2    0\n",
        "3    0\n",
        "4    0\n",
        "Name: vz_e, dtype: float32\n",
        "0   -23.400343\n",
        "1   -25.845001\n",
        "2   -26.192501\n",
        "3   -25.411047\n",
        "4   -24.339005\n",
        "Name: vz_e, dtype: float32\n"
       ]
      }
     ],
     "prompt_number": 35
    },
    {
     "cell_type": "code",
     "collapsed": false,
     "input": [],
     "language": "python",
     "metadata": {},
     "outputs": []
    }
   ],
   "metadata": {}
  }
 ]
}