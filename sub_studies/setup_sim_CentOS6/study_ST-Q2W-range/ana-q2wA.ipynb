{
 "metadata": {
  "name": ""
 },
 "nbformat": 3,
 "nbformat_minor": 0,
 "worksheets": [
  {
   "cells": [
    {
     "cell_type": "markdown",
     "metadata": {},
     "source": [
      "### Study resolution of Q2 and W for q2wA = [1.6,6.0],[1.2,1.3]\n",
      "\n",
      "#### Simulation parameters\n",
      "* Thrown Q2,W = [1.6,6.0] GeV2,[1.2,1.3] GeV\n",
      "* Beam energy = 5.499 GeV \n",
      "\n",
      "#### Event Reconstruction \n",
      "* Events reconstructed with 5.499 GeV i.e. BE-ST = BE-SR"
     ]
    },
    {
     "cell_type": "code",
     "collapsed": false,
     "input": [
      "#import rootnotes\n",
      "\n",
      "W_TH = 1.216\n",
      "\n",
      "DATADIR=os.environ['STUDY_STQ2WRANGE_DATADIR']\n",
      "ANADIR=os.environ['STUDY_STQ2WRANGE_ANADIR']\n",
      "OUTDIR=\"\" #OUTDIR = ANADIR/q2wdir\n",
      "\n",
      "dT=\"\"\n",
      "dR=\"\"\n",
      "VARS=\"\"\n",
      "DRVD_COLS=['px_e','py_e','pz_e','px_p','py_p','pz_p','px_pip','py_pip','pz_pip','px_pim','py_pim','pz_pim']\n",
      "HRANGE=\"\"\n",
      "FRANGE=\"\"\n",
      "SEL_TOPS=\"\"\n",
      "\n",
      "Q2MIN=\"\"\n",
      "Q2MAX=\"\"\n",
      "NQ2BINS=\"\"\n",
      "Q2BINW=\"\"\n",
      "Q2BINS_LE=\"\"\n",
      "Q2BINS_UE=\"\"\n",
      "WMIN=\"\"\n",
      "WMAX=\"\"\n",
      "NWBINS=\"\"\n",
      "WBINW=\"\"\n",
      "WBINS_LE=\"\"\n",
      "WBINS_UE=\"\"\n",
      "\n",
      "HOFT=\"\"\n",
      "HRES=\"\"\n",
      "\n",
      "def init(q2wdirs,nq2bins,nwbins,variables,hrange,frange,tops):\n",
      "    \"\"\"\n",
      "    This function intializes the necessary information needed in studying the Simulated-Detector\n",
      "    \n",
      "    Input arguments:\n",
      "    ----------------\n",
      "    q2wdirs = list of q2wdirs relative to $STUDY_STQ2WRANGE_DATADIR,list of str\n",
      "    nq2bins = Number of Q2 bins,int\n",
      "    nwbins = Number of W bins,int\n",
      "    variables = Variables for which offset and resolution is to be extracted,list of str\n",
      "    hrange=for each variable, range for ST-SR histogram,list of [min,max]\n",
      "    frange=for each variable, range over which ST-SR histogram is fitted,list of [min,max]\n",
      "    tops = Topology to be used, list of int\n",
      "    \"\"\"\n",
      "    #print init.__doc__\n",
      "    \n",
      "    #-- Import data \n",
      "    global dT,dR,VARS\n",
      "    cols=['top']\n",
      "    VARS=variables\n",
      "    if any(drvd_col in VARS for drvd_cols in DRVD_COLS):\n",
      "        #print \"Don't know what to do\"\n",
      "        #return\n",
      "        drct_cols=[item for item in VARS if item not in DRVD_COLS]\n",
      "        drvd_cols=[item for item in VARS if item in DRVD_COLS]\n",
      "        if not 'theta_e' in VARS: drct_cols.extend(['theta_e'])#needed for drvd_cols\n",
      "        if not 'phi_e' in VARS: drct_cols.extend(['phi_e'])#needed for drvd_cols    \n",
      "        cols.extend(drct_cols)\n",
      "        print \"Branches to load into DataFrame=\",cols\n",
      "        #f = os.path.join(DATADIR,q2wdir,'recon/d2pi.root')\n",
      "        f=[]\n",
      "        for q2wdir in q2wdirs:\n",
      "            f.append(os.path.join(DATADIR,q2wdir,'recon/d2pi.root'))\n",
      "        arrT = root2array(f,'d2piTR/T/tT',branches=cols)\n",
      "        arrR = root2array(f,'d2piTR/R/tR',branches=cols)\n",
      "        dT = pd.DataFrame(arrT)\n",
      "        dR = pd.DataFrame(arrR)\n",
      "        #-- Add drvd_cols\n",
      "        for d in (dT,dR):\n",
      "            d['px_e']=d['p_e']*np.sin(np.deg2rad(d['theta_e']))*np.cos(np.deg2rad(d['phi_e']))\n",
      "            d['py_e']=d['p_e']*np.sin(np.deg2rad(d['theta_e']))*np.sin(np.deg2rad(d['phi_e']))\n",
      "            d['pz_e']=d['p_e']*np.cos(np.deg2rad(d['theta_e']))\n",
      "    else:\n",
      "        cols.extend(VARS)\n",
      "        print \"Branches to load into DataFrame=\",cols\n",
      "        #f = os.path.join(DATADIR,q2wdir,'recon/d2pi.root')\n",
      "        f=[]\n",
      "        for q2wdir in q2wdirs:\n",
      "            f.append(os.path.join(DATADIR,q2wdir,'recon/d2pi.root'))\n",
      "        arrT = root2array(f,'d2piTR/T/tT',branches=cols)\n",
      "        arrR = root2array(f,'d2piTR/R/tR',branches=cols)\n",
      "        dT = pd.DataFrame(arrT)\n",
      "        dR = pd.DataFrame(arrR)\n",
      "        \n",
      "    #-- get HRANGE,FRANGE\n",
      "    global HRANGE,FRANGE\n",
      "    HRANGE=hrange\n",
      "    FRANGE=frange\n",
      "\n",
      "    #-- Determine Topologies to be used\n",
      "    global SEL_TOPS\n",
      "    SEL_TOPS=\"\"\n",
      "    itr=0\n",
      "    for top in tops:\n",
      "        if itr==0:\n",
      "            SEL_TOPS+=\"(dR['top']==%d)\"%top\n",
      "        else:\n",
      "            SEL_TOPS+=\"|(dR['top']==%d)\"%top\n",
      "        itr+=1\n",
      "    print \"SEL_TOPS = %s\"%SEL_TOPS\n",
      "    \n",
      "    #-- Determine kinematic range of Simulated-Thrown (ST) Events\n",
      "    global Q2MIN,Q2MAX,WMIN,WMAX\n",
      "    Q2MIN=round(min(dT['Q2']),2)\n",
      "    Q2MAX=round(max(dT['Q2']),2)\n",
      "    WMIN=round(min(dT['W']),2)\n",
      "    WMAX=round(max(dT['W']),2)\n",
      "    print \"Simulated-Thrown Q2,W = [%.2f,%.2f]GeV^2,[%.2f,%.2f]GeV\"%(Q2MIN,Q2MAX,WMIN,WMAX)\n",
      "    \n",
      "    #-- Determine Q2,W binning\n",
      "    global NQ2BINS,Q2BINW,Q2BINS_LE,Q2BINS_UE\n",
      "    global NWBINS,WBINW,WBINS_LE,WBINS_UE\n",
      "    NQ2BINS=nq2bins\n",
      "    Q2BINW=round((Q2MAX-Q2MIN)/NQ2BINS,2)\n",
      "    Q2BINS_LE=[Q2MIN+(i*Q2BINW) for i in range(NQ2BINS)]\n",
      "    Q2BINS_UE=[Q2BINS_LE[i]+Q2BINW for i in range(NQ2BINS)]\n",
      "    print \"*** Q2 binning ***\"\n",
      "    print \"NQ2BINS=%d,Q2BINW=%0.2f GeV^2\"%(NQ2BINS,Q2BINW)\n",
      "    print [\"%0.2f\" % i for i in Q2BINS_LE]\n",
      "    print [\"%0.2f\" % i for i in Q2BINS_UE]\n",
      "    NWBINS=nwbins\n",
      "    WBINW=round((WMAX-WMIN)/NWBINS,2)\n",
      "    WBINS_LE=[WMIN+(i*WBINW) for i in range(NWBINS)]\n",
      "    WBINS_UE=[WBINS_LE[i]+WBINW for i in range(NWBINS)]\n",
      "    print \"*** W binning ***\"\n",
      "    print \"NWBINS=%d,WBINW=%0.2f GeV\"%(NWBINS,WBINW)\n",
      "    print [\"%0.2f\" % i for i in WBINS_LE]\n",
      "    print [\"%0.2f\" % i for i in WBINS_UE]\n",
      "    \n",
      "    #-- For the variables, create hres,hofst\n",
      "    global HOFT,HRES\n",
      "    HOFT=[]\n",
      "    HRES=[]\n",
      "    for var in VARS:\n",
      "        HOFT.append(Hist2D(NWBINS,WMIN,WMAX,NQ2BINS,Q2MIN,Q2MAX,name=\"%s_OFT\"%var,title=\"%s Offset\"%var))\n",
      "        HRES.append(Hist2D(NWBINS,WMIN,WMAX,NQ2BINS,Q2MIN,Q2MAX,name=\"%s_RES\"%var,title=\"%s Resolution\"%var))\n",
      "    print 'HOFT=',HOFT\n",
      "    print 'HRES=',HRES\n",
      "        \n",
      "    # -- Create OUTDIR\n",
      "    global OUTDIR\n",
      "    #OUTDIR=os.path.join(ANADIR,q2wdir)\n",
      "    OUTDIR=os.path.join(ANADIR,\"_\".join(q2wdirs))\n",
      "    if not os.path.exists(OUTDIR):\n",
      "        os.makedirs(OUTDIR)\n",
      "    print \"OUTDIR=%s\"%OUTDIR\n"
     ],
     "language": "python",
     "metadata": {},
     "outputs": [],
     "prompt_number": 1
    },
    {
     "cell_type": "code",
     "collapsed": false,
     "input": [
      "init(['q2wA','q2w2'],10,25,\n",
      "     ['Q2','W','p_e','px_e','py_e','pz_e','theta_e','phi_e','vz_e'],\n",
      "     [(-0.2,0.2),(-0.2,0.2),(-0.2,0.2),(-0.2,0.2),(-0.2,0.2),(-0.2,0.2),(-0.2,0.2),(-1.5,1.5),(-1,1)],\n",
      "     [(-0.02,0.02),(-0.03,0.03),(-0.03,0.03),(-0.03,0.03),(-0.03,0.03),(-0.03,0.03),(-0.03,0.03),(-0.4,0.4),(-0.4,0.4)],\n",
      "     [1,2,3,4])\n",
      "#print dR.head()\n",
      "#print dR[eval(SEL_TOPS)].head()"
     ],
     "language": "python",
     "metadata": {},
     "outputs": [
      {
       "output_type": "stream",
       "stream": "stdout",
       "text": [
        "Branches to load into DataFrame= ['top', 'Q2', 'W', 'p_e', 'theta_e', 'phi_e', 'vz_e']\n",
        "SEL_TOPS = (dR['top']==1)|(dR['top']==2)|(dR['top']==3)|(dR['top']==4)"
       ]
      },
      {
       "output_type": "stream",
       "stream": "stdout",
       "text": [
        "\n",
        "Simulated-Thrown Q2,W = [1.60,6.00]GeV^2,[1.23,1.90]GeV"
       ]
      },
      {
       "output_type": "stream",
       "stream": "stdout",
       "text": [
        "\n",
        "*** Q2 binning ***\n",
        "NQ2BINS=10,Q2BINW=0.44 GeV^2\n",
        "['1.60', '2.04', '2.48', '2.92', '3.36', '3.80', '4.24', '4.68', '5.12', '5.56']\n",
        "['2.04', '2.48', '2.92', '3.36', '3.80', '4.24', '4.68', '5.12', '5.56', '6.00']\n",
        "*** W binning ***\n",
        "NWBINS=25,WBINW=0.03 GeV\n",
        "['1.23', '1.26', '1.29', '1.32', '1.35', '1.38', '1.41', '1.44', '1.47', '1.50', '1.53', '1.56', '1.59', '1.62', '1.65', '1.68', '1.71', '1.74', '1.77', '1.80', '1.83', '1.86', '1.89', '1.92', '1.95']\n",
        "['1.26', '1.29', '1.32', '1.35', '1.38', '1.41', '1.44', '1.47', '1.50', '1.53', '1.56', '1.59', '1.62', '1.65', '1.68', '1.71', '1.74', '1.77', '1.80', '1.83', '1.86', '1.89', '1.92', '1.95', '1.98']\n",
        "HOFT= [Hist2D('Q2_OFT'), Hist2D('W_OFT'), Hist2D('p_e_OFT'), Hist2D('px_e_OFT'), Hist2D('py_e_OFT'), Hist2D('pz_e_OFT'), Hist2D('theta_e_OFT'), Hist2D('phi_e_OFT'), Hist2D('vz_e_OFT')]\n",
        "HRES= [Hist2D('Q2_RES'), Hist2D('W_RES'), Hist2D('p_e_RES'), Hist2D('px_e_RES'), Hist2D('py_e_RES'), Hist2D('pz_e_RES'), Hist2D('theta_e_RES'), Hist2D('phi_e_RES'), Hist2D('vz_e_RES')]\n",
        "OUTDIR=/home/trivedia/CLAS/workspace/ana2pi/sub_studies/setup_sim_CentOS6/study_ST-Q2W-range/q2wA_q2w2\n"
       ]
      }
     ],
     "prompt_number": 2
    },
    {
     "cell_type": "code",
     "collapsed": false,
     "input": [
      "def plot_q2w_boundary(axes):\n",
      "    axes.hlines(Q2MIN,WMIN,WMAX,colors='red',linewidth=1)#5DFC0A\n",
      "    axes.hlines(Q2MAX,WMIN,WMAX,colors='red',linewidth=1)\n",
      "    axes.vlines(WMIN,Q2MIN,Q2MAX,colors='red',linewidth=1)\n",
      "    axes.vlines(WMAX,Q2MIN,Q2MAX,colors='red',linewidth=1)\n",
      "def plot_q2_boundary(axes):\n",
      "    ylim=axes.get_ylim()\n",
      "    axes.vlines(Q2MIN,ylim[0],ylim[1],colors='red',linewidth=1)#5DFC0A\n",
      "    axes.vlines(Q2MAX,ylim[0],ylim[1],colors='red',linewidth=1)\n",
      "def plot_w_boundary(axes):\n",
      "    ylim=axes.get_ylim()\n",
      "    axes.vlines(WMIN,ylim[0],ylim[1],colors='red',linewidth=1)\n",
      "    axes.vlines(WMAX,ylim[0],ylim[1],colors='red',linewidth=1)\n",
      "def plot_WTh(axes):\n",
      "    ylim=axes.get_ylim()\n",
      "    axes.vlines(W_TH,ylim[0],ylim[1],colors='green',linewidth=2,linestyles='dashed')\n",
      "    \n",
      "def plot_q2w():\n",
      "    fig=plt.figure(figsize=(30,15))\n",
      "    q2_T=dT['Q2']\n",
      "    w_T=dT['W']\n",
      "    sel=eval(SEL_TOPS)\n",
      "    q2_R=dR[sel]['Q2']\n",
      "    w_R=dR[sel]['W']\n",
      "    \n",
      "    nq2bins=4400\n",
      "    nwbins=100\n",
      "\n",
      "    axQ2vW_T=plt.subplot(221)\n",
      "    axQ2vW_T.grid(1,linewidth=2)\n",
      "    axQ2vW_T.set_title('Q2 vs. W: ST',fontsize='xx-large')\n",
      "    axQ2vW_T.tick_params(axis='both', which='major', labelsize=20)\n",
      "    hist,xbins,ybins=np.histogram2d(w_T,q2_T,bins=[nwbins,nq2bins],range=[[WMIN-0.1,WMAX+0.1],[Q2MIN-0.1,Q2MAX+0.1]])\n",
      "    extent = [xbins.min(),xbins.max(),ybins.min(),ybins.max()]\n",
      "    im = plt.imshow(hist.T, interpolation='none', origin='lower', aspect='auto',extent=extent)\n",
      "    cb = fig.colorbar(im, ax=axQ2vW_T)\n",
      "    #-- ST region\n",
      "    plot_q2w_boundary(axQ2vW_T)\n",
      "    #-- W Th\n",
      "    plot_WTh(axQ2vW_T)\n",
      "\n",
      "    axQ2vW_R=plt.subplot(222)\n",
      "    axQ2vW_R.grid(1,linewidth=2)\n",
      "    axQ2vW_R.set_title('Q2 vs. W: SR',fontsize='xx-large')\n",
      "    axQ2vW_R.tick_params(axis='both', which='major', labelsize=20)\n",
      "    hist,xbins,ybins=np.histogram2d(w_R,q2_R,bins=[nwbins,nq2bins],range=[[WMIN-0.1,WMAX+0.1],[Q2MIN-0.1,Q2MAX+0.1]])\n",
      "    extent = [xbins.min(),xbins.max(),ybins.min(),ybins.max()]\n",
      "    im = plt.imshow(hist.T, interpolation='none', origin='lower', aspect='auto',extent=extent)\n",
      "    cb = fig.colorbar(im, ax=axQ2vW_R)\n",
      "    #-- ST region\n",
      "    plot_q2w_boundary(axQ2vW_R)\n",
      "    #-- W Th\n",
      "    plot_WTh(axQ2vW_R)\n",
      "    \n",
      "    axQ2=plt.subplot(223)\n",
      "    axQ2.grid(1,linewidth=2)\n",
      "    axQ2.set_title('Q2[GeV^2]',fontsize='xx-large')\n",
      "    axQ2.set_xlabel('Q2[GeV^2]',fontsize='xx-large')\n",
      "    axQ2.tick_params(axis='both', which='major', labelsize=20)\n",
      "    r=plt.hist(q2_T,nq2bins,range=(Q2MIN-0.1,Q2MAX+0.1),alpha=0.5,label='ST',histtype='stepfilled')\n",
      "    r=plt.hist(q2_R,nq2bins,range=(Q2MIN-0.1,Q2MAX+0.1),alpha=0.5,label='SR',histtype='stepfilled')\n",
      "    #-- ST region\n",
      "    plot_q2_boundary(axQ2)\n",
      "    axQ2.legend()\n",
      "\n",
      "    axW=plt.subplot(224)\n",
      "    axW.grid(1,linewidth=2)\n",
      "    axW.set_title('W',fontsize='xx-large')\n",
      "    axW.set_xlabel('W[GeV]',fontsize='xx-large')\n",
      "    axW.tick_params(axis='both', which='major', labelsize=20)\n",
      "    r=plt.hist(w_T,nwbins,range=(WMIN-0.1,WMAX+0.1),alpha=0.5,label='ST',histtype='stepfilled')\n",
      "    r=plt.hist(w_R,nwbins,range=(WMIN-0.1,WMAX+0.1),alpha=0.5,label='SR',histtype='stepfilled')\n",
      "    #-- ST region\n",
      "    plot_w_boundary(axW)\n",
      "    axW.legend()\n",
      "    #-- W Th\n",
      "    plot_WTh(axW)\n",
      "    "
     ],
     "language": "python",
     "metadata": {},
     "outputs": [],
     "prompt_number": 3
    },
    {
     "cell_type": "code",
     "collapsed": false,
     "input": [
      "plot_q2w()"
     ],
     "language": "python",
     "metadata": {},
     "outputs": [
      {
       "metadata": {},
       "output_type": "display_data",
       "png": "[encoded data removed]",
       "text": [
        "<matplotlib.figure.Figure at 0x4abf190>"
       ]
      }
     ],
     "prompt_number": 4
    },
    {
     "cell_type": "code",
     "collapsed": false,
     "input": [
      "import shutil\n",
      "def plot_res():\n",
      "    #-- Clear existing plots from outdir\n",
      "    for ivar,var in enumerate(VARS):\n",
      "        outdir=os.path.join(OUTDIR,var)\n",
      "        print \"outdir=\",outdir\n",
      "        if os.path.exists(outdir):\n",
      "            shutil.rmtree(outdir)\n",
      "        os.makedirs(outdir)\n",
      "        #-- Following were added when running in interactive mode\n",
      "        HOFT[ivar].Reset()\n",
      "        HRES[ivar].Reset()\n",
      "    \n",
      "    #-- For each q2wbin and therein, for each VAR:\n",
      "    #-- 1. Plot and save ST-SR distribiotn\n",
      "    #-- 2. Obtain offset and resolution from ST-SR distribution and fill HOFST,HRES    \n",
      "    for iq2bin in range(NQ2BINS):\n",
      "        for iwbin in range(NWBINS):\n",
      "            #print \"Q2=[%0.2f,%0.2f]\"%(Q2BINS_LE[iq2bin],Q2BINS_UE[iq2bin])\n",
      "            #print \"W=[%0.2f,%0.2f]\"%(WBINS_LE[iwbin],WBINS_UE[iwbin])\n",
      "            sel_q2w=(dR['Q2']>=Q2BINS_LE[iq2bin])&(dR['Q2']<Q2BINS_UE[iq2bin])&(dR['W']>=WBINS_LE[iwbin])&(dR['W']<WBINS_UE[iwbin])\n",
      "            sel=sel_q2w&eval(SEL_TOPS)\n",
      "            \n",
      "            for ivar,var in enumerate(VARS):\n",
      "                if len(dT[sel][var])==0: continue #if there is no data, continue \n",
      "                diff=dT[sel][var]-dR[sel][var]\n",
      "                h=Hist(100,HRANGE[ivar][0],HRANGE[ivar][1],name='%s_hdiff_%02d_%02d'%(var,iq2bin+1,iwbin+1),\n",
      "                              title='%s:ST-SR for Q2,W=[%.2f,%.2f],[%.2f,%.2f]'%\n",
      "                              (var,Q2BINS_LE[iq2bin],Q2BINS_UE[iq2bin],WBINS_LE[iwbin],WBINS_UE[iwbin]))\n",
      "                h.fill_array(diff)\n",
      "                if h.GetEntries()<50:continue #-- Require minimum number of entries\n",
      "                c=ROOT.TCanvas(h.GetName(),h.GetName())\n",
      "                ROOT.gStyle.SetOptStat(\"nemMrRuo\")\n",
      "                ROOT.gStyle.SetOptFit(1111)\n",
      "                h.Fit(\"gaus\",\"\",\"\",FRANGE[ivar][0],FRANGE[ivar][1])\n",
      "                h.Draw()\n",
      "                #mu=h.GetFunction(\"gaus\").GetParameter(1)\n",
      "                #sgma=h.GetFunction(\"gaus\").GetParameter(2)\n",
      "                fgaus=h.GetFunction(\"gaus\")\n",
      "                mu,smga='',''\n",
      "                if not fgaus:\n",
      "                    mu=0\n",
      "                    sgma=0\n",
      "                else:\n",
      "                    if fgaus.GetProb()<0.01 or fgaus.GetNDF<5:\n",
      "                        mu=0\n",
      "                        sgma=0\n",
      "                    else:\n",
      "                        mu=fgaus.GetParameter(1)\n",
      "                        sgma=fgaus.GetParameter(2)\n",
      "                HOFT[ivar].Fill(WBINS_LE[iwbin],Q2BINS_LE[iq2bin]+Q2BINW/2,mu)\n",
      "                HRES[ivar].Fill(WBINS_LE[iwbin],Q2BINS_LE[iq2bin]+Q2BINW/2,sgma)\n",
      "                #print \"w,q2,RMS=%.2f,%.2f,%.2f\"%(WBINS_LE[iwbin],Q2BINS_LE[iq2bin],h.GetRMS())\n",
      "                #c.SaveAs(\"%s/%02d_%02d.png\"%(outdir,iq2bin+1,iwbin+1)) \n",
      "                outdir=os.path.join(OUTDIR,var)\n",
      "                c.SaveAs(\"%s/%s.png\"%(outdir,c.GetName())) \n",
      "                c.Close()\n",
      "    \n",
      "    #-- For each VAR, plot and save HOFST,HRES\n",
      "    fig=plt.figure(figsize=(25,25))\n",
      "    for ivar,var in enumerate(VARS):\n",
      "        for ihist,hist in enumerate([HOFT[ivar],HRES[ivar]]):\n",
      "            #-- Using matplotlib \n",
      "            plt.subplot(len(VARS),2,(ivar+1)+ivar+ihist,title=hist.GetName());\n",
      "            plt.grid(1,linewidth=2)\n",
      "            z = np.array(hist.z()).T\n",
      "            im = plt.imshow(z,extent=[hist.xedges(0), hist.xedges(-1),\n",
      "                        hist.yedges(0), hist.yedges(-1)],\n",
      "                        interpolation='nearest',\n",
      "                        aspect='auto',\n",
      "                        origin='lower')\n",
      "            cb = plt.colorbar(im)\n",
      "            #-- Using TCanvas\n",
      "            c=ROOT.TCanvas(hist.GetName(),hist.GetName())\n",
      "            c.SetGrid();\n",
      "            ROOT.gStyle.SetOptStat(\"ne\")\n",
      "            hist.Draw(\"colz\");\n",
      "            outdir=os.path.join(OUTDIR,var)\n",
      "            c.SaveAs(\"%s/%s.png\"%(outdir,c.GetName()))\n",
      "            c.Close()\n",
      "    fig.savefig(\"%s/simdet_study.eps\"%OUTDIR)       \n",
      "plt.show()\n",
      "                "
     ],
     "language": "python",
     "metadata": {},
     "outputs": [],
     "prompt_number": 7
    },
    {
     "cell_type": "code",
     "collapsed": false,
     "input": [
      "plot_res()"
     ],
     "language": "python",
     "metadata": {},
     "outputs": [
      {
       "output_type": "stream",
       "stream": "stderr",
       "text": [
        "WARNING:ROOT.TROOT.Append] Replacing existing TH1: Q2_hdiff_01_01 (Potential memory leak).\n"
       ]
      },
      {
       "output_type": "stream",
       "stream": "stderr",
       "text": [
        "WARNING:ROOT.TROOT.Append] Replacing existing TH1: W_hdiff_01_01 (Potential memory leak).\n"
       ]
      },
      {
       "output_type": "stream",
       "stream": "stderr",
       "text": [
        "WARNING:ROOT.TROOT.Append] Replacing existing TH1: p_e_hdiff_01_01 (Potential memory leak).\n"
       ]
      },
      {
       "output_type": "stream",
       "stream": "stderr",
       "text": [
        "WARNING:ROOT.TROOT.Append] Replacing existing TH1: px_e_hdiff_01_01 (Potential memory leak).\n"
       ]
      },
      {
       "output_type": "stream",
       "stream": "stderr",
       "text": [
        "WARNING:ROOT.TROOT.Append] Replacing existing TH1: py_e_hdiff_01_01 (Potential memory leak).\n"
       ]
      },
      {
       "output_type": "stream",
       "stream": "stderr",
       "text": [
        "WARNING:ROOT.TROOT.Append] Replacing existing TH1: pz_e_hdiff_01_01 (Potential memory leak).\n"
       ]
      },
      {
       "output_type": "stream",
       "stream": "stderr",
       "text": [
        "WARNING:ROOT.TROOT.Append] Replacing existing TH1: theta_e_hdiff_01_01 (Potential memory leak).\n"
       ]
      },
      {
       "output_type": "stream",
       "stream": "stderr",
       "text": [
        "WARNING:ROOT.TROOT.Append] Replacing existing TH1: phi_e_hdiff_01_01 (Potential memory leak).\n"
       ]
      },
      {
       "output_type": "stream",
       "stream": "stderr",
       "text": [
        "WARNING:ROOT.TROOT.Append] Replacing existing TH1: vz_e_hdiff_01_01 (Potential memory leak).\n"
       ]
      },
      {
       "output_type": "stream",
       "stream": "stderr",
       "text": [
        "WARNING:ROOT.TROOT.Append] Replacing existing TH1: Q2_hdiff_01_02 (Potential memory leak).\n"
       ]
      },
      {
       "output_type": "stream",
       "stream": "stderr",
       "text": [
        "WARNING:ROOT.TROOT.Append] Replacing existing TH1: W_hdiff_01_02 (Potential memory leak).\n"
       ]
      },
      {
       "output_type": "stream",
       "stream": "stderr",
       "text": [
        "WARNING:ROOT.TROOT.Append] Replacing existing TH1: p_e_hdiff_01_02 (Potential memory leak).\n"
       ]
      },
      {
       "output_type": "stream",
       "stream": "stderr",
       "text": [
        "WARNING:ROOT.TROOT.Append] Replacing existing TH1: px_e_hdiff_01_02 (Potential memory leak).\n"
       ]
      },
      {
       "output_type": "stream",
       "stream": "stderr",
       "text": [
        "WARNING:ROOT.TROOT.Append] Replacing existing TH1: py_e_hdiff_01_02 (Potential memory leak).\n"
       ]
      },
      {
       "output_type": "stream",
       "stream": "stderr",
       "text": [
        "WARNING:ROOT.TROOT.Append] Replacing existing TH1: pz_e_hdiff_01_02 (Potential memory leak).\n"
       ]
      },
      {
       "output_type": "stream",
       "stream": "stderr",
       "text": [
        "WARNING:ROOT.TROOT.Append] Replacing existing TH1: theta_e_hdiff_01_02 (Potential memory leak).\n"
       ]
      },
      {
       "output_type": "stream",
       "stream": "stderr",
       "text": [
        "WARNING:ROOT.TROOT.Append] Replacing existing TH1: phi_e_hdiff_01_02 (Potential memory leak).\n"
       ]
      },
      {
       "output_type": "stream",
       "stream": "stderr",
       "text": [
        "WARNING:ROOT.TROOT.Append] Replacing existing TH1: vz_e_hdiff_01_02 (Potential memory leak).\n"
       ]
      },
      {
       "output_type": "stream",
       "stream": "stderr",
       "text": [
        "WARNING:ROOT.TROOT.Append] Replacing existing TH1: Q2_hdiff_01_03 (Potential memory leak).\n"
       ]
      },
      {
       "output_type": "stream",
       "stream": "stderr",
       "text": [
        "WARNING:ROOT.TROOT.Append] Replacing existing TH1: W_hdiff_01_03 (Potential memory leak).\n"
       ]
      },
      {
       "output_type": "stream",
       "stream": "stderr",
       "text": [
        "WARNING:ROOT.TROOT.Append] Replacing existing TH1: p_e_hdiff_01_03 (Potential memory leak).\n"
       ]
      },
      {
       "output_type": "stream",
       "stream": "stderr",
       "text": [
        "WARNING:ROOT.TROOT.Append] Replacing existing TH1: px_e_hdiff_01_03 (Potential memory leak).\n"
       ]
      },
      {
       "output_type": "stream",
       "stream": "stderr",
       "text": [
        "WARNING:ROOT.TROOT.Append] Replacing existing TH1: py_e_hdiff_01_03 (Potential memory leak).\n"
       ]
      },
      {
       "output_type": "stream",
       "stream": "stderr",
       "text": [
        "WARNING:ROOT.TROOT.Append] Replacing existing TH1: pz_e_hdiff_01_03 (Potential memory leak).\n"
       ]
      },
      {
       "output_type": "stream",
       "stream": "stderr",
       "text": [
        "WARNING:ROOT.TROOT.Append] Replacing existing TH1: theta_e_hdiff_01_03 (Potential memory leak).\n"
       ]
      },
      {
       "output_type": "stream",
       "stream": "stderr",
       "text": [
        "WARNING:ROOT.TROOT.Append] Replacing existing TH1: phi_e_hdiff_01_03 (Potential memory leak).\n"
       ]
      },
      {
       "output_type": "stream",
       "stream": "stderr",
       "text": [
        "WARNING:ROOT.TROOT.Append] Replacing existing TH1: vz_e_hdiff_01_03 (Potential memory leak).\n"
       ]
      },
      {
       "output_type": "stream",
       "stream": "stderr",
       "text": [
        "WARNING:ROOT.TROOT.Append] Replacing existing TH1: Q2_hdiff_01_04 (Potential memory leak).\n"
       ]
      },
      {
       "output_type": "stream",
       "stream": "stderr",
       "text": [
        "WARNING:ROOT.TROOT.Append] Replacing existing TH1: W_hdiff_01_04 (Potential memory leak).\n"
       ]
      },
      {
       "output_type": "stream",
       "stream": "stderr",
       "text": [
        "WARNING:ROOT.TROOT.Append] Replacing existing TH1: p_e_hdiff_01_04 (Potential memory leak).\n"
       ]
      },
      {
       "output_type": "stream",
       "stream": "stderr",
       "text": [
        "WARNING:ROOT.TROOT.Append] Replacing existing TH1: px_e_hdiff_01_04 (Potential memory leak).\n"
       ]
      },
      {
       "output_type": "stream",
       "stream": "stderr",
       "text": [
        "WARNING:ROOT.TROOT.Append] Replacing existing TH1: py_e_hdiff_01_04 (Potential memory leak).\n"
       ]
      },
      {
       "output_type": "stream",
       "stream": "stderr",
       "text": [
        "WARNING:ROOT.TROOT.Append] Replacing existing TH1: pz_e_hdiff_01_04 (Potential memory leak).\n"
       ]
      },
      {
       "output_type": "stream",
       "stream": "stderr",
       "text": [
        "WARNING:ROOT.TROOT.Append] Replacing existing TH1: theta_e_hdiff_01_04 (Potential memory leak).\n"
       ]
      },
      {
       "output_type": "stream",
       "stream": "stderr",
       "text": [
        "WARNING:ROOT.TROOT.Append] Replacing existing TH1: phi_e_hdiff_01_04 (Potential memory leak).\n"
       ]
      },
      {
       "output_type": "stream",
       "stream": "stderr",
       "text": [
        "WARNING:ROOT.TROOT.Append] Replacing existing TH1: vz_e_hdiff_01_04 (Potential memory leak).\n"
       ]
      },
      {
       "output_type": "stream",
       "stream": "stderr",
       "text": [
        "WARNING:ROOT.TROOT.Append] Replacing existing TH1: Q2_hdiff_01_05 (Potential memory leak).\n"
       ]
      },
      {
       "output_type": "stream",
       "stream": "stderr",
       "text": [
        "WARNING:ROOT.TROOT.Append] Replacing existing TH1: W_hdiff_01_05 (Potential memory leak).\n"
       ]
      },
      {
       "output_type": "stream",
       "stream": "stderr",
       "text": [
        "WARNING:ROOT.TROOT.Append] Replacing existing TH1: p_e_hdiff_01_05 (Potential memory leak).\n"
       ]
      },
      {
       "output_type": "stream",
       "stream": "stderr",
       "text": [
        "WARNING:ROOT.TROOT.Append] Replacing existing TH1: px_e_hdiff_01_05 (Potential memory leak).\n"
       ]
      },
      {
       "output_type": "stream",
       "stream": "stderr",
       "text": [
        "WARNING:ROOT.TROOT.Append] Replacing existing TH1: py_e_hdiff_01_05 (Potential memory leak).\n"
       ]
      },
      {
       "output_type": "stream",
       "stream": "stderr",
       "text": [
        "WARNING:ROOT.TROOT.Append] Replacing existing TH1: pz_e_hdiff_01_05 (Potential memory leak).\n"
       ]
      },
      {
       "output_type": "stream",
       "stream": "stderr",
       "text": [
        "WARNING:ROOT.TROOT.Append] Replacing existing TH1: theta_e_hdiff_01_05 (Potential memory leak).\n"
       ]
      },
      {
       "output_type": "stream",
       "stream": "stderr",
       "text": [
        "WARNING:ROOT.TROOT.Append] Replacing existing TH1: phi_e_hdiff_01_05 (Potential memory leak).\n"
       ]
      },
      {
       "output_type": "stream",
       "stream": "stderr",
       "text": [
        "WARNING:ROOT.TROOT.Append] Replacing existing TH1: vz_e_hdiff_01_05 (Potential memory leak).\n"
       ]
      },
      {
       "output_type": "stream",
       "stream": "stderr",
       "text": [
        "WARNING:ROOT.TROOT.Append] Replacing existing TH1: Q2_hdiff_01_06 (Potential memory leak).\n"
       ]
      },
      {
       "output_type": "stream",
       "stream": "stderr",
       "text": [
        "WARNING:ROOT.TROOT.Append] Replacing existing TH1: W_hdiff_01_06 (Potential memory leak).\n"
       ]
      },
      {
       "output_type": "stream",
       "stream": "stderr",
       "text": [
        "WARNING:ROOT.TROOT.Append] Replacing existing TH1: p_e_hdiff_01_06 (Potential memory leak).\n"
       ]
      },
      {
       "output_type": "stream",
       "stream": "stderr",
       "text": [
        "WARNING:ROOT.TROOT.Append] Replacing existing TH1: px_e_hdiff_01_06 (Potential memory leak).\n"
       ]
      },
      {
       "output_type": "stream",
       "stream": "stderr",
       "text": [
        "WARNING:ROOT.TROOT.Append] Replacing existing TH1: py_e_hdiff_01_06 (Potential memory leak).\n"
       ]
      },
      {
       "output_type": "stream",
       "stream": "stderr",
       "text": [
        "WARNING:ROOT.TROOT.Append] Replacing existing TH1: pz_e_hdiff_01_06 (Potential memory leak).\n"
       ]
      },
      {
       "output_type": "stream",
       "stream": "stderr",
       "text": [
        "WARNING:ROOT.TROOT.Append] Replacing existing TH1: theta_e_hdiff_01_06 (Potential memory leak).\n"
       ]
      },
      {
       "output_type": "stream",
       "stream": "stderr",
       "text": [
        "WARNING:ROOT.TROOT.Append] Replacing existing TH1: phi_e_hdiff_01_06 (Potential memory leak).\n"
       ]
      },
      {
       "output_type": "stream",
       "stream": "stderr",
       "text": [
        "WARNING:ROOT.TROOT.Append] Replacing existing TH1: vz_e_hdiff_01_06 (Potential memory leak).\n"
       ]
      },
      {
       "output_type": "stream",
       "stream": "stderr",
       "text": [
        "WARNING:ROOT.TROOT.Append] Replacing existing TH1: Q2_hdiff_01_07 (Potential memory leak).\n"
       ]
      },
      {
       "output_type": "stream",
       "stream": "stderr",
       "text": [
        "WARNING:ROOT.TROOT.Append] Replacing existing TH1: W_hdiff_01_07 (Potential memory leak).\n"
       ]
      },
      {
       "output_type": "stream",
       "stream": "stderr",
       "text": [
        "WARNING:ROOT.TROOT.Append] Replacing existing TH1: p_e_hdiff_01_07 (Potential memory leak).\n"
       ]
      },
      {
       "output_type": "stream",
       "stream": "stderr",
       "text": [
        "WARNING:ROOT.TROOT.Append] Replacing existing TH1: px_e_hdiff_01_07 (Potential memory leak).\n"
       ]
      },
      {
       "output_type": "stream",
       "stream": "stderr",
       "text": [
        "WARNING:ROOT.TROOT.Append] Replacing existing TH1: py_e_hdiff_01_07 (Potential memory leak).\n"
       ]
      },
      {
       "output_type": "stream",
       "stream": "stderr",
       "text": [
        "WARNING:ROOT.TROOT.Append] Replacing existing TH1: pz_e_hdiff_01_07 (Potential memory leak).\n"
       ]
      },
      {
       "output_type": "stream",
       "stream": "stderr",
       "text": [
        "WARNING:ROOT.TROOT.Append] Replacing existing TH1: theta_e_hdiff_01_07 (Potential memory leak).\n"
       ]
      },
      {
       "output_type": "stream",
       "stream": "stderr",
       "text": [
        "WARNING:ROOT.TROOT.Append] Replacing existing TH1: phi_e_hdiff_01_07 (Potential memory leak).\n"
       ]
      },
      {
       "output_type": "stream",
       "stream": "stderr",
       "text": [
        "WARNING:ROOT.TROOT.Append] Replacing existing TH1: vz_e_hdiff_01_07 (Potential memory leak).\n"
       ]
      },
      {
       "output_type": "stream",
       "stream": "stderr",
       "text": [
        "WARNING:ROOT.TROOT.Append] Replacing existing TH1: Q2_hdiff_01_08 (Potential memory leak).\n"
       ]
      },
      {
       "output_type": "stream",
       "stream": "stderr",
       "text": [
        "WARNING:ROOT.TROOT.Append] Replacing existing TH1: W_hdiff_01_08 (Potential memory leak).\n"
       ]
      },
      {
       "output_type": "stream",
       "stream": "stderr",
       "text": [
        "WARNING:ROOT.TROOT.Append] Replacing existing TH1: p_e_hdiff_01_08 (Potential memory leak).\n"
       ]
      },
      {
       "output_type": "stream",
       "stream": "stderr",
       "text": [
        "WARNING:ROOT.TROOT.Append] Replacing existing TH1: px_e_hdiff_01_08 (Potential memory leak).\n"
       ]
      },
      {
       "output_type": "stream",
       "stream": "stderr",
       "text": [
        "WARNING:ROOT.TROOT.Append] Replacing existing TH1: py_e_hdiff_01_08 (Potential memory leak).\n"
       ]
      },
      {
       "output_type": "stream",
       "stream": "stderr",
       "text": [
        "WARNING:ROOT.TROOT.Append] Replacing existing TH1: pz_e_hdiff_01_08 (Potential memory leak).\n"
       ]
      },
      {
       "output_type": "stream",
       "stream": "stderr",
       "text": [
        "WARNING:ROOT.TROOT.Append] Replacing existing TH1: theta_e_hdiff_01_08 (Potential memory leak).\n"
       ]
      },
      {
       "output_type": "stream",
       "stream": "stderr",
       "text": [
        "WARNING:ROOT.TROOT.Append] Replacing existing TH1: phi_e_hdiff_01_08 (Potential memory leak).\n"
       ]
      },
      {
       "output_type": "stream",
       "stream": "stderr",
       "text": [
        "WARNING:ROOT.TROOT.Append] Replacing existing TH1: vz_e_hdiff_01_08 (Potential memory leak).\n"
       ]
      },
      {
       "output_type": "stream",
       "stream": "stderr",
       "text": [
        "WARNING:ROOT.TROOT.Append] Replacing existing TH1: Q2_hdiff_01_09 (Potential memory leak).\n"
       ]
      },
      {
       "output_type": "stream",
       "stream": "stderr",
       "text": [
        "WARNING:ROOT.TROOT.Append] Replacing existing TH1: W_hdiff_01_09 (Potential memory leak).\n"
       ]
      },
      {
       "output_type": "stream",
       "stream": "stderr",
       "text": [
        "WARNING:ROOT.TROOT.Append] Replacing existing TH1: p_e_hdiff_01_09 (Potential memory leak).\n"
       ]
      },
      {
       "output_type": "stream",
       "stream": "stderr",
       "text": [
        "WARNING:ROOT.TROOT.Append] Replacing existing TH1: px_e_hdiff_01_09 (Potential memory leak).\n"
       ]
      },
      {
       "output_type": "stream",
       "stream": "stderr",
       "text": [
        "WARNING:ROOT.TROOT.Append] Replacing existing TH1: py_e_hdiff_01_09 (Potential memory leak).\n"
       ]
      },
      {
       "output_type": "stream",
       "stream": "stderr",
       "text": [
        "WARNING:ROOT.TROOT.Append] Replacing existing TH1: pz_e_hdiff_01_09 (Potential memory leak).\n"
       ]
      },
      {
       "output_type": "stream",
       "stream": "stderr",
       "text": [
        "WARNING:ROOT.TROOT.Append] Replacing existing TH1: theta_e_hdiff_01_09 (Potential memory leak).\n"
       ]
      },
      {
       "output_type": "stream",
       "stream": "stderr",
       "text": [
        "WARNING:ROOT.TROOT.Append] Replacing existing TH1: phi_e_hdiff_01_09 (Potential memory leak).\n"
       ]
      },
      {
       "output_type": "stream",
       "stream": "stderr",
       "text": [
        "WARNING:ROOT.TROOT.Append] Replacing existing TH1: vz_e_hdiff_01_09 (Potential memory leak).\n"
       ]
      },
      {
       "output_type": "stream",
       "stream": "stderr",
       "text": [
        "WARNING:ROOT.TROOT.Append] Replacing existing TH1: Q2_hdiff_01_10 (Potential memory leak).\n"
       ]
      },
      {
       "output_type": "stream",
       "stream": "stderr",
       "text": [
        "WARNING:ROOT.TROOT.Append] Replacing existing TH1: W_hdiff_01_10 (Potential memory leak).\n"
       ]
      },
      {
       "output_type": "stream",
       "stream": "stderr",
       "text": [
        "WARNING:ROOT.TROOT.Append] Replacing existing TH1: p_e_hdiff_01_10 (Potential memory leak).\n"
       ]
      },
      {
       "output_type": "stream",
       "stream": "stderr",
       "text": [
        "WARNING:ROOT.TROOT.Append] Replacing existing TH1: px_e_hdiff_01_10 (Potential memory leak).\n"
       ]
      },
      {
       "output_type": "stream",
       "stream": "stderr",
       "text": [
        "WARNING:ROOT.TROOT.Append] Replacing existing TH1: py_e_hdiff_01_10 (Potential memory leak).\n"
       ]
      },
      {
       "output_type": "stream",
       "stream": "stderr",
       "text": [
        "WARNING:ROOT.TROOT.Append] Replacing existing TH1: pz_e_hdiff_01_10 (Potential memory leak).\n"
       ]
      },
      {
       "output_type": "stream",
       "stream": "stderr",
       "text": [
        "WARNING:ROOT.TROOT.Append] Replacing existing TH1: theta_e_hdiff_01_10 (Potential memory leak).\n"
       ]
      },
      {
       "output_type": "stream",
       "stream": "stderr",
       "text": [
        "WARNING:ROOT.TROOT.Append] Replacing existing TH1: phi_e_hdiff_01_10 (Potential memory leak).\n"
       ]
      },
      {
       "output_type": "stream",
       "stream": "stderr",
       "text": [
        "WARNING:ROOT.TROOT.Append] Replacing existing TH1: vz_e_hdiff_01_10 (Potential memory leak).\n"
       ]
      },
      {
       "output_type": "stream",
       "stream": "stderr",
       "text": [
        "WARNING:ROOT.TROOT.Append] Replacing existing TH1: Q2_hdiff_01_11 (Potential memory leak).\n"
       ]
      },
      {
       "output_type": "stream",
       "stream": "stderr",
       "text": [
        "WARNING:ROOT.TROOT.Append] Replacing existing TH1: W_hdiff_01_11 (Potential memory leak).\n"
       ]
      },
      {
       "output_type": "stream",
       "stream": "stderr",
       "text": [
        "WARNING:ROOT.TROOT.Append] Replacing existing TH1: p_e_hdiff_01_11 (Potential memory leak).\n"
       ]
      },
      {
       "output_type": "stream",
       "stream": "stderr",
       "text": [
        "WARNING:ROOT.TROOT.Append] Replacing existing TH1: px_e_hdiff_01_11 (Potential memory leak).\n"
       ]
      },
      {
       "output_type": "stream",
       "stream": "stderr",
       "text": [
        "WARNING:ROOT.TROOT.Append] Replacing existing TH1: py_e_hdiff_01_11 (Potential memory leak).\n"
       ]
      },
      {
       "output_type": "stream",
       "stream": "stderr",
       "text": [
        "WARNING:ROOT.TROOT.Append] Replacing existing TH1: pz_e_hdiff_01_11 (Potential memory leak).\n"
       ]
      },
      {
       "output_type": "stream",
       "stream": "stderr",
       "text": [
        "WARNING:ROOT.TROOT.Append] Replacing existing TH1: theta_e_hdiff_01_11 (Potential memory leak).\n"
       ]
      },
      {
       "output_type": "stream",
       "stream": "stderr",
       "text": [
        "WARNING:ROOT.TROOT.Append] Replacing existing TH1: phi_e_hdiff_01_11 (Potential memory leak).\n"
       ]
      },
      {
       "output_type": "stream",
       "stream": "stderr",
       "text": [
        "WARNING:ROOT.TROOT.Append] Replacing existing TH1: vz_e_hdiff_01_11 (Potential memory leak).\n"
       ]
      },
      {
       "output_type": "stream",
       "stream": "stderr",
       "text": [
        "WARNING:ROOT.TROOT.Append] Replacing existing TH1: Q2_hdiff_01_12 (Potential memory leak).\n"
       ]
      },
      {
       "output_type": "stream",
       "stream": "stderr",
       "text": [
        "WARNING:ROOT.TROOT.Append] Replacing existing TH1: W_hdiff_01_12 (Potential memory leak).\n"
       ]
      },
      {
       "output_type": "stream",
       "stream": "stderr",
       "text": [
        "WARNING:ROOT.TROOT.Append] Replacing existing TH1: p_e_hdiff_01_12 (Potential memory leak).\n"
       ]
      },
      {
       "output_type": "stream",
       "stream": "stderr",
       "text": [
        "WARNING:ROOT.TROOT.Append] Replacing existing TH1: px_e_hdiff_01_12 (Potential memory leak).\n"
       ]
      },
      {
       "output_type": "stream",
       "stream": "stderr",
       "text": [
        "WARNING:ROOT.TROOT.Append] Replacing existing TH1: py_e_hdiff_01_12 (Potential memory leak).\n"
       ]
      },
      {
       "output_type": "stream",
       "stream": "stderr",
       "text": [
        "WARNING:ROOT.TROOT.Append] Replacing existing TH1: pz_e_hdiff_01_12 (Potential memory leak).\n"
       ]
      },
      {
       "output_type": "stream",
       "stream": "stderr",
       "text": [
        "WARNING:ROOT.TROOT.Append] Replacing existing TH1: theta_e_hdiff_01_12 (Potential memory leak).\n"
       ]
      },
      {
       "output_type": "stream",
       "stream": "stderr",
       "text": [
        "WARNING:ROOT.TROOT.Append] Replacing existing TH1: phi_e_hdiff_01_12 (Potential memory leak).\n"
       ]
      },
      {
       "output_type": "stream",
       "stream": "stderr",
       "text": [
        "WARNING:ROOT.TROOT.Append] Replacing existing TH1: vz_e_hdiff_01_12 (Potential memory leak).\n"
       ]
      },
      {
       "output_type": "stream",
       "stream": "stderr",
       "text": [
        "WARNING:ROOT.TROOT.Append] Replacing existing TH1: Q2_hdiff_01_13 (Potential memory leak).\n"
       ]
      },
      {
       "output_type": "stream",
       "stream": "stderr",
       "text": [
        "WARNING:ROOT.TROOT.Append] Replacing existing TH1: W_hdiff_01_13 (Potential memory leak).\n"
       ]
      },
      {
       "output_type": "stream",
       "stream": "stderr",
       "text": [
        "WARNING:ROOT.TROOT.Append] Replacing existing TH1: p_e_hdiff_01_13 (Potential memory leak).\n"
       ]
      },
      {
       "output_type": "stream",
       "stream": "stderr",
       "text": [
        "WARNING:ROOT.TROOT.Append] Replacing existing TH1: px_e_hdiff_01_13 (Potential memory leak).\n"
       ]
      },
      {
       "output_type": "stream",
       "stream": "stderr",
       "text": [
        "WARNING:ROOT.TROOT.Append] Replacing existing TH1: py_e_hdiff_01_13 (Potential memory leak).\n"
       ]
      },
      {
       "output_type": "stream",
       "stream": "stderr",
       "text": [
        "WARNING:ROOT.TROOT.Append] Replacing existing TH1: pz_e_hdiff_01_13 (Potential memory leak).\n"
       ]
      },
      {
       "output_type": "stream",
       "stream": "stderr",
       "text": [
        "WARNING:ROOT.TROOT.Append] Replacing existing TH1: theta_e_hdiff_01_13 (Potential memory leak).\n"
       ]
      },
      {
       "output_type": "stream",
       "stream": "stderr",
       "text": [
        "WARNING:ROOT.TROOT.Append] Replacing existing TH1: phi_e_hdiff_01_13 (Potential memory leak).\n"
       ]
      },
      {
       "output_type": "stream",
       "stream": "stderr",
       "text": [
        "WARNING:ROOT.TROOT.Append] Replacing existing TH1: vz_e_hdiff_01_13 (Potential memory leak).\n"
       ]
      },
      {
       "output_type": "stream",
       "stream": "stderr",
       "text": [
        "WARNING:ROOT.TROOT.Append] Replacing existing TH1: Q2_hdiff_01_14 (Potential memory leak).\n"
       ]
      },
      {
       "output_type": "stream",
       "stream": "stderr",
       "text": [
        "WARNING:ROOT.TROOT.Append] Replacing existing TH1: W_hdiff_01_14 (Potential memory leak).\n"
       ]
      },
      {
       "output_type": "stream",
       "stream": "stderr",
       "text": [
        "WARNING:ROOT.TROOT.Append] Replacing existing TH1: p_e_hdiff_01_14 (Potential memory leak).\n"
       ]
      },
      {
       "output_type": "stream",
       "stream": "stderr",
       "text": [
        "WARNING:ROOT.TROOT.Append] Replacing existing TH1: px_e_hdiff_01_14 (Potential memory leak).\n"
       ]
      },
      {
       "output_type": "stream",
       "stream": "stderr",
       "text": [
        "WARNING:ROOT.TROOT.Append] Replacing existing TH1: py_e_hdiff_01_14 (Potential memory leak).\n"
       ]
      },
      {
       "output_type": "stream",
       "stream": "stderr",
       "text": [
        "WARNING:ROOT.TROOT.Append] Replacing existing TH1: pz_e_hdiff_01_14 (Potential memory leak).\n"
       ]
      },
      {
       "output_type": "stream",
       "stream": "stderr",
       "text": [
        "WARNING:ROOT.TROOT.Append] Replacing existing TH1: theta_e_hdiff_01_14 (Potential memory leak).\n"
       ]
      },
      {
       "output_type": "stream",
       "stream": "stderr",
       "text": [
        "WARNING:ROOT.TROOT.Append] Replacing existing TH1: phi_e_hdiff_01_14 (Potential memory leak).\n"
       ]
      },
      {
       "output_type": "stream",
       "stream": "stderr",
       "text": [
        "WARNING:ROOT.TROOT.Append] Replacing existing TH1: vz_e_hdiff_01_14 (Potential memory leak).\n"
       ]
      },
      {
       "output_type": "stream",
       "stream": "stderr",
       "text": [
        "WARNING:ROOT.TROOT.Append] Replacing existing TH1: Q2_hdiff_01_15 (Potential memory leak).\n"
       ]
      },
      {
       "output_type": "stream",
       "stream": "stderr",
       "text": [
        "WARNING:ROOT.TROOT.Append] Replacing existing TH1: W_hdiff_01_15 (Potential memory leak).\n"
       ]
      },
      {
       "output_type": "stream",
       "stream": "stderr",
       "text": [
        "WARNING:ROOT.TROOT.Append] Replacing existing TH1: p_e_hdiff_01_15 (Potential memory leak).\n"
       ]
      }
     ],
     "prompt_number": "*"
    },
    {
     "cell_type": "code",
     "collapsed": false,
     "input": [
      "plt.plot(\n",
      "plt.plot(dR['p_e'],dR['Q2'])\n",
      "plt.show()\n"
     ],
     "language": "python",
     "metadata": {},
     "outputs": [
      {
       "metadata": {},
       "output_type": "display_data",
       "text": [
        "<matplotlib.figure.Figure at 0x956acd0>"
       ]
      }
     ],
     "prompt_number": 11
    },
    {
     "cell_type": "code",
     "collapsed": false,
     "input": [],
     "language": "python",
     "metadata": {},
     "outputs": []
    }
   ],
   "metadata": {}
  }
 ]
}