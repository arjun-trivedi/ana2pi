{
 "metadata": {
  "name": ""
 },
 "nbformat": 3,
 "nbformat_minor": 0,
 "worksheets": [
  {
   "cells": [
    {
     "cell_type": "code",
     "collapsed": false,
     "input": [
      "import rootnotes\n",
      "datadir=os.environ['STUDY_STQ2WRANGE_DATADIR']\n",
      "f = os.path.join(datadir,'q2wC/recon/d2pi.root')\n",
      "arrT = root2array(f,'d2piTR/T/tT')#,stop=10000)#,start=1,stop=5)#,start=1,stop=5)#start=1,stop=2)\n",
      "arrR = root2array(f,'d2piTR/R/tR')#,stop=10000)#,start=1,stop=5)#,start=1,stop=5)#start=1,mstop=2)\n",
      "\n",
      "dT = pd.DataFrame(arrT)\n",
      "dR = pd.DataFrame(arrR)"
     ],
     "language": "python",
     "metadata": {},
     "outputs": [],
     "prompt_number": 1
    },
    {
     "cell_type": "code",
     "collapsed": false,
     "input": [
      "print dR.head()"
     ],
     "language": "python",
     "metadata": {},
     "outputs": [
      {
       "output_type": "stream",
       "stream": "stdout",
       "text": [
        "<class 'pandas.core.frame.DataFrame'>\n",
        "Int64Index: 5 entries, 0 to 4\n",
        "Data columns (total 49 columns):\n",
        "p_e0             5  non-null values\n",
        "p_e              5  non-null values\n",
        "p_p              5  non-null values\n",
        "p_pip            5  non-null values\n",
        "p_pim            5  non-null values\n",
        "theta_e          5  non-null values\n",
        "theta_p          5  non-null values\n",
        "theta_pip        5  non-null values\n",
        "theta_pim        5  non-null values\n",
        "phi_e            5  non-null values\n",
        "phi_p            5  non-null values\n",
        "phi_pip          5  non-null values\n",
        "phi_pim          5  non-null values\n",
        "vx_e             5  non-null values\n",
        "vx_p             5  non-null values\n",
        "vx_pip           5  non-null values\n",
        "vx_pim           5  non-null values\n",
        "vy_e             5  non-null values\n",
        "vy_p             5  non-null values\n",
        "vy_pip           5  non-null values\n",
        "vy_pim           5  non-null values\n",
        "vz_e             5  non-null values\n",
        "vz_p             5  non-null values\n",
        "vz_pip           5  non-null values\n",
        "vz_pim           5  non-null values\n",
        "Q2               5  non-null values\n",
        "W                5  non-null values\n",
        "h                5  non-null values\n",
        "mm2ppippim       5  non-null values\n",
        "mmppippim        5  non-null values\n",
        "mm2ppip          5  non-null values\n",
        "mmppip           5  non-null values\n",
        "mm2ppim          5  non-null values\n",
        "mmppim           5  non-null values\n",
        "mm2pippim        5  non-null values\n",
        "mmpippim         5  non-null values\n",
        "top              5  non-null values\n",
        "M_ppip           5  non-null values\n",
        "M_ppim           5  non-null values\n",
        "M_pippim         5  non-null values\n",
        "theta_cms_p      5  non-null values\n",
        "theta_cms_pip    5  non-null values\n",
        "theta_cms_pim    5  non-null values\n",
        "phi_cms_p        5  non-null values\n",
        "phi_cms_pip      5  non-null values\n",
        "phi_cms_pim      5  non-null values\n",
        "alpha_1          5  non-null values\n",
        "alpha_2          5  non-null values\n",
        "alpha_3          5  non-null values\n",
        "dtypes: float32(47), int32(1), int8(1)\n"
       ]
      },
      {
       "output_type": "stream",
       "stream": "stderr",
       "text": [
        "/usr/local/lib/python2.7/dist-packages/pandas/core/config.py:570: DeprecationWarning: height has been deprecated.\n",
        "\n",
        "  warnings.warn(d.msg, DeprecationWarning)\n"
       ]
      }
     ],
     "prompt_number": 2
    },
    {
     "cell_type": "code",
     "collapsed": false,
     "input": [],
     "language": "python",
     "metadata": {},
     "outputs": []
    }
   ],
   "metadata": {}
  }
 ]
}