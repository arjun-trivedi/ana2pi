{
 "metadata": {
  "name": ""
 },
 "nbformat": 3,
 "nbformat_minor": 0,
 "worksheets": [
  {
   "cells": [
    {
     "cell_type": "code",
     "collapsed": false,
     "input": [
      "#! Imports\n",
      "from array import *\n",
      "from collections import OrderedDict\n",
      "\n",
      "import atlib as atlib\n",
      "\n",
      "ROOT.gROOT.ProcessLine(\".L THnTool.C+\")\n",
      "#ROOT.gSystem.Load(\"THnTool_C.so\")\n",
      "\n",
      "from ROOT import THnTool\n",
      "thntool=THnTool()\n",
      "\n",
      "#NTOPS=4;#['TOP1','TOP2','TOP3','TOP4']\n",
      "TOPS=[1,2,3,4]\n",
      "#NVSTS=3;#['VST1','VST3']#['VST1','VST2']#,'VST3']\n",
      "VSTS=[1]#,2,3]\n",
      "\n",
      "SEQ={}\n",
      "SEQ['SIM']=['ST','SR','SA','SC','SH','SF']\n",
      "SEQ['EXP']=['ER','EC','EH','EF']\n",
      "# for iseq,seq in enumerate(SEQ['SIM']):\n",
      "#     print iseq,seq\n",
      "\n",
      "VARS=['M1','M2','THETA','PHI','ALPHA']\n",
      "# for ivar, var in enumerate(VARS):\n",
      "#     print ivar,var\n"
     ],
     "language": "python",
     "metadata": {},
     "outputs": [],
     "prompt_number": 1
    },
    {
     "cell_type": "code",
     "collapsed": false,
     "input": [
      "#! Define some q2w_i binnings; where sum_i_n(q2w_i)=q2w-F\n",
      "q2w2=[[2.0,2.5,0.5],[1.3,1.9,0.025]] #min,max,width \n",
      "Q2BNG,WBNG=atlib.init_q2wbng2(q2w2)\n",
      "#! Test Q2WBNG, WBNG\n",
      "# print \"Q2 bins=\",Q2BNG['BINS']\n",
      "# print \"W bins=\",WBNG['BINS']\n",
      "# for i in range(Q2BNG['NBINS']):\n",
      "#     print \"Q2 bin:\",i+1\n",
      "#     print Q2BNG['BINS_LE'][i]\n",
      "#     print Q2BNG['BINS_UE'][i]\n",
      "# for i in range(WBNG['NBINS']):\n",
      "#     print \"W bin:\",i+1\n",
      "#     print WBNG['BINS_LE'][i]\n",
      "#     print WBNG['BINS_UE'][i]    \n"
     ],
     "language": "python",
     "metadata": {},
     "outputs": [],
     "prompt_number": 2
    },
    {
     "cell_type": "code",
     "collapsed": false,
     "input": [
      "#! Setup indexing for h8 bins\n",
      "# [HEL,Q2,W,M1,M2,THETA,PHI,ALPHA]=range(8)\n",
      "# h8_dims= [HEL,Q2,W,M1,M2,THETA,PHI,ALPHA]\n",
      "# print h8_dims[HEL]"
     ],
     "language": "python",
     "metadata": {},
     "outputs": [],
     "prompt_number": 3
    },
    {
     "cell_type": "code",
     "collapsed": false,
     "input": [
      "#! Setup indexing for h8 bins\n",
      "# [HEL]=range(1)\n",
      "# [Q2,W]=range(2)\n",
      "# [M1,M2,THETA,PHI,ALPHA]=range(5)\n",
      "# print [HEL],[Q2,W],[M1,M2,THETA,PHI,ALPHA]"
     ],
     "language": "python",
     "metadata": {},
     "outputs": [],
     "prompt_number": 4
    },
    {
     "cell_type": "code",
     "collapsed": false,
     "input": [
      "#h8_dim={'HEL':0,'Q2':1,'W':2,'M1':3,'M2':4,'THETA':6,'PHI':7,'ALPHA':8}\n",
      "#! See http://stackoverflow.com/questions/16553506/python-ordereddict-iteration for following code\n",
      "H8_DIM=OrderedDict([('HEL',0),('Q2',1),('W',2),('M1',3),('M2',4),('THETA',5),('PHI',6),('ALPHA',7)])\n",
      "H7_PROJDIM=array('i',[H8_DIM['Q2'],H8_DIM['W'],H8_DIM['M1'],H8_DIM['M2'],H8_DIM['THETA'],H8_DIM['PHI'],\n",
      "                      H8_DIM['ALPHA']])\n",
      "print H8_DIM \n",
      "print H8_DIM.keys()\n",
      "print H8_DIM.values()\n",
      "\n",
      "H7_DIM=OrderedDict([('Q2',0),('W',1),('M1',2),('M2',3),('THETA',4),('PHI',5),('ALPHA',6)])\n",
      "print H7_DIM \n",
      "print H7_DIM.keys()\n",
      "print H7_DIM.values()"
     ],
     "language": "python",
     "metadata": {},
     "outputs": [
      {
       "output_type": "stream",
       "stream": "stdout",
       "text": [
        "OrderedDict([('HEL', 0), ('Q2', 1), ('W', 2), ('M1', 3), ('M2', 4), ('THETA', 5), ('PHI', 6), ('ALPHA', 7)])\n",
        "['HEL', 'Q2', 'W', 'M1', 'M2', 'THETA', 'PHI', 'ALPHA']\n",
        "[0, 1, 2, 3, 4, 5, 6, 7]\n",
        "OrderedDict([('Q2', 0), ('W', 1), ('M1', 2), ('M2', 3), ('THETA', 4), ('PHI', 5), ('ALPHA', 6)])\n",
        "['Q2', 'W', 'M1', 'M2', 'THETA', 'PHI', 'ALPHA']\n",
        "[0, 1, 2, 3, 4, 5, 6]\n"
       ]
      }
     ],
     "prompt_number": 5
    },
    {
     "cell_type": "code",
     "collapsed": false,
     "input": [
      "DATADIR=os.environ['OBS_DATADIR_EXP']\n",
      "print DATADIR\n",
      "ANADIR=os.environ['ANA2PI_OBS']\n",
      "print ANADIR"
     ],
     "language": "python",
     "metadata": {},
     "outputs": [
      {
       "output_type": "stream",
       "stream": "stdout",
       "text": [
        "/data/trivedia/e1f/exp/2pi\n",
        "/home/trivedia/CLAS/workspace/ana2pi/obs\n"
       ]
      }
     ],
     "prompt_number": 6
    },
    {
     "cell_type": "code",
     "collapsed": false,
     "input": [
      "h8=OrderedDict()\n",
      "h7=OrderedDict()\n",
      "\n",
      "rfile=os.path.join(os.environ['OBS_DATADIR_SIM'],'q2w2','sim_1','d2pi.root')\n",
      "f=ROOT.TFile(rfile)\n",
      "\n",
      "#! Fetch ST-,SR-h8 directly from file (Add all tops)\n",
      "for vst in VSTS:\n",
      "    print \"Going to get\",'d2piT/yield_varset%d'%vst,\"...\"\n",
      "    h8['ST','VST%d'%vst]=f.Get('d2piT/yield_varset%d'%vst)\n",
      "    print \"Done getting\",'d2piT/yield_varset%d'%vst\n",
      "    #! For SR, add all tops\n",
      "    for itop,top in enumerate(TOPS):\n",
      "        if itop==0:\n",
      "            print \"Going to get\",'d2piR/top%d/yield_varset%d'%(top,vst),\"...\"\n",
      "            h8['SR','VST%d'%vst]=f.Get('d2piR/top%d/yield_varset%d'%(top,vst))\n",
      "            print \"Done getting\",'d2piR/top%d/yield_varset%d'%(top,vst)\n",
      "        else:\n",
      "            print \"Going to get and add to top1\",'d2piR/top%d/yield_varset%d'%(top,vst),\"...\"\n",
      "            h8['SR','VST%d'%vst].Add(f.Get('d2piR/top%d/yield_varset%d'%(top,vst)))\n",
      "            print \"Done gettng and adding to top1\",'d2piR/top%d/yield_varset%d'%(top,vst)\n",
      "            \n",
      "\n",
      "# for ivst,vst in enumerate(VSTS):\n",
      "#     h7['ST',vst]=h8['ST',vst].Projection(7,H7_PROJDIM,\"E\")\n",
      "#     h7['SR',vst]=h8['SR',vst].Projection(7,H7_PROJDIM,\"E\")\n",
      "#     #! Calculate SA\n",
      "#     h7['SA',vst]=h7['SR',vst].Clone()\n",
      "#     h7['SA',vst].Divide(h7['ST',vst])\n",
      "#     #! Calculate SC\n",
      "#     h7['SC',vst]=h7['SR',vst].Clone()\n",
      "#     h7['SC',vst].Divide(h7['SA',vst])\n",
      "#     #! Calculate SH\n",
      "#     h7['SH',vst]=h7['ST',vst].Clone()\n",
      "#     h7['SH',vst].Add(h7['SC',vst],-1)\n",
      "#     thntool.SetUnderOverFLowBinsToZero(h7['SH',vst])\n",
      "#     #! Calculate SF\n",
      "#     h7['SF',vst]=h7['SC',vst].Clone()\n",
      "#     h7['SF',vst].Add(h7['SH',vst],1)"
     ],
     "language": "python",
     "metadata": {},
     "outputs": [
      {
       "output_type": "stream",
       "stream": "stdout",
       "text": [
        "Going to get d2piT/yield_varset1 ...\n",
        "Done getting"
       ]
      },
      {
       "output_type": "stream",
       "stream": "stdout",
       "text": [
        " d2piT/yield_varset1\n",
        "Going to get d2piR/top1/yield_varset1 ...\n",
        "Done getting"
       ]
      },
      {
       "output_type": "stream",
       "stream": "stdout",
       "text": [
        " d2piR/top1/yield_varset1\n",
        "Going to get and add to top1 d2piR/top2/yield_varset1 ...\n",
        "Done gettng and adding to top1"
       ]
      },
      {
       "output_type": "stream",
       "stream": "stdout",
       "text": [
        " d2piR/top2/yield_varset1\n",
        "Going to get and add to top1 d2piR/top3/yield_varset1 ...\n",
        "Done gettng and adding to top1"
       ]
      },
      {
       "output_type": "stream",
       "stream": "stdout",
       "text": [
        " d2piR/top3/yield_varset1\n",
        "Going to get and add to top1 d2piR/top4/yield_varset1 ...\n",
        "Done gettng and adding to top1"
       ]
      },
      {
       "output_type": "stream",
       "stream": "stdout",
       "text": [
        " d2piR/top4/yield_varset1\n"
       ]
      }
     ],
     "prompt_number": 7
    },
    {
     "cell_type": "code",
     "collapsed": false,
     "input": [
      "for k in h8:\n",
      "    print k,h8[k].GetEntries()"
     ],
     "language": "python",
     "metadata": {},
     "outputs": [
      {
       "output_type": "stream",
       "stream": "stdout",
       "text": [
        "('ST', 'VST1') 198853353.0\n",
        "('SR', 'VST1') 36724877.0\n"
       ]
      }
     ],
     "prompt_number": 8
    },
    {
     "cell_type": "code",
     "collapsed": false,
     "input": [
      "for vst in VSTS:\n",
      "    print vst\n",
      "    #! Make sure to include all HEls before projecting out h7\n",
      "    h8['ST','VST%d'%vst].GetAxis(H8_DIM['HEL']).SetRange()\n",
      "    h8['SR','VST%d'%vst].GetAxis(H8_DIM['HEL']).SetRange()\n",
      "    #! h8->h7\n",
      "    h7['ST','VST%d'%vst]=h8['ST','VST%d'%vst].Projection(7,H7_PROJDIM,\"E\")\n",
      "    h7['SR','VST%d'%vst]=h8['SR','VST%d'%vst].Projection(7,H7_PROJDIM,\"E\")\n",
      "    print \"ST,SR:\",h7['ST','VST%d'%vst].GetEntries(),h7['SR','VST%d'%vst].GetEntries()\n",
      "    #! Calculate SA\n",
      "    h7['SA','VST%d'%vst]=h7['SR','VST%d'%vst].Clone()\n",
      "    h7['SA','VST%d'%vst].Divide(h7['ST','VST%d'%vst])\n",
      "    print \"SA:\",h7['SA','VST%d'%vst].GetEntries()\n",
      "    #! Calculate SC\n",
      "    h7['SC','VST%d'%vst]=h7['SR','VST%d'%vst].Clone()\n",
      "    h7['SC','VST%d'%vst].Divide(h7['SA','VST%d'%vst])\n",
      "    print \"SC\", h7['SC','VST%d'%vst].GetEntries()\n",
      "    #! Calculate SH\n",
      "    h7['SH','VST%d'%vst]=h7['ST','VST%d'%vst].Clone()\n",
      "    h7['SH','VST%d'%vst].Add(h7['SC','VST%d'%vst],-1)\n",
      "    print \"SH1:\",h7['SH','VST%d'%vst].GetEntries()\n",
      "    thntool.SetUnderOverFLowBinsToZero(h7['SH','VST%d'%vst])\n",
      "    print \"SH2\", h7['SH','VST%d'%vst].GetEntries()\n",
      "    #! Calculate SF\n",
      "    h7['SF','VST%d'%vst]=h7['SC','VST%d'%vst].Clone()\n",
      "    h7['SF','VST%d'%vst].Add(h7['SH','VST%d'%vst],1)\n",
      "    print \"SF\",h7['SF','VST%d'%vst].GetEntries()"
     ],
     "language": "python",
     "metadata": {},
     "outputs": [
      {
       "output_type": "stream",
       "stream": "stdout",
       "text": [
        "1\n",
        "ST,SR:"
       ]
      },
      {
       "output_type": "stream",
       "stream": "stderr",
       "text": [
        "INFO:rootpy.logger] | No default log handler configured. See `logging` module |\n"
       ]
      },
      {
       "output_type": "stream",
       "stream": "stderr",
       "text": [
        "INFO:rootpy.logger] \\    To suppress: 'rootpy.log.basic_config_colorized()'   /\n"
       ]
      },
      {
       "output_type": "stream",
       "stream": "stderr",
       "text": [
        "WARNING:ROOT.THnSparseT<TArrayF>.Divide(h)] Histogram h has empty bins - division by zero! Setting bin to 0.\n"
       ]
      },
      {
       "output_type": "stream",
       "stream": "stdout",
       "text": [
        " 198853353.0 36724877.0\n",
        "SA:"
       ]
      },
      {
       "output_type": "stream",
       "stream": "stderr",
       "text": [
        "WARNING:ROOT.THnSparseT<TArrayF>.Divide(h)] Histogram h has empty bins - division by zero! Setting bin to 0.\n"
       ]
      },
      {
       "output_type": "stream",
       "stream": "stdout",
       "text": [
        " 36724877.0\n",
        "SC"
       ]
      },
      {
       "output_type": "stream",
       "stream": "stdout",
       "text": [
        " 36724877.0\n",
        "SH1:"
       ]
      },
      {
       "output_type": "stream",
       "stream": "stdout",
       "text": [
        " 162128476.0\n",
        "SH2"
       ]
      },
      {
       "output_type": "stream",
       "stream": "stdout",
       "text": [
        " 162225312.0\n",
        "SF"
       ]
      },
      {
       "output_type": "stream",
       "stream": "stdout",
       "text": [
        " 198950189.0\n"
       ]
      }
     ],
     "prompt_number": 9
    },
    {
     "cell_type": "code",
     "collapsed": false,
     "input": [
      "#print h7['ST'].GetNbins(),h7['SR'].GetNbins(),h7['SA'].GetNbins(),h7['SC'].GetNbins(),h7['SH'].GetNbins(),h7['SF'].GetNbins()"
     ],
     "language": "python",
     "metadata": {},
     "outputs": [
      {
       "output_type": "stream",
       "stream": "stdout",
       "text": [
        "13737899 6768455 6768455 6768455 14427222 14427222\n"
       ]
      }
     ],
     "prompt_number": 8
    },
    {
     "cell_type": "code",
     "collapsed": false,
     "input": [
      "for vst in enumerate(VSTS):\n",
      "    print h7['ST',vst].GetNbins(),h7['SR',vst].GetNbins(),h7['SA'vst,].GetNbins()\n",
      "    ,h7['SC',vst].GetNbins(),h7['SH',vst].GetNbins(),h7['SF',vst].GetNbins()"
     ],
     "language": "python",
     "metadata": {},
     "outputs": []
    },
    {
     "cell_type": "code",
     "collapsed": false,
     "input": [
      "# h2=OrderedDict()\n",
      "# h2['ST']=h7['ST'].Projection(H7_DIM['Q2'],H7_DIM['W'],\"E\")\n",
      "# h2['ST'].SetName(\"ST\")\n",
      "# h2['SR']=h7['SR'].Projection(H7_DIM['Q2'],H7_DIM['W'],\"E\")\n",
      "# h2['SR'].SetName(\"SR\")\n",
      "# h2['SA']=h7['SA'].Projection(H7_DIM['Q2'],H7_DIM['W'],\"E\")\n",
      "# h2['SA'].SetName(\"SA\")\n",
      "# h2['SC']=h7['SC'].Projection(H7_DIM['Q2'],H7_DIM['W'],\"E\")\n",
      "# h2['SC'].SetName(\"SC\")\n",
      "# h2['SH']=h7['SH'].Projection(H7_DIM['Q2'],H7_DIM['W'],\"E\")\n",
      "# h2['SH'].SetName(\"SH\")\n",
      "# h2['SF']=h7['SF'].Projection(H7_DIM['Q2'],H7_DIM['W'],\"E\")\n",
      "# h2['SF'].SetName(\"SF\")"
     ],
     "language": "python",
     "metadata": {},
     "outputs": [],
     "prompt_number": 11
    },
    {
     "cell_type": "code",
     "collapsed": false,
     "input": [
      "# c=ROOT.TCanvas()\n",
      "# c.Divide(3,2)\n",
      "# c.SetGridx()\n",
      "# c.SetGridy()\n",
      "# for i in range(len(h2)):\n",
      "#     print h2.values()[i].GetName()\n",
      "#     pad=c.cd(i+1)\n",
      "#     pad.SetGridx()\n",
      "#     pad.SetGridy()\n",
      "#     #h2.values()[i].GetXaxis().LabelsOption(\"v\")\n",
      "#     h2.values()[i].GetXaxis().SetNdivisions(80)\n",
      "#     h2.values()[i].Draw(\"colz\")    "
     ],
     "language": "python",
     "metadata": {},
     "outputs": [
      {
       "output_type": "stream",
       "stream": "stdout",
       "text": [
        "ST\n",
        "SR"
       ]
      },
      {
       "output_type": "stream",
       "stream": "stdout",
       "text": [
        "\n",
        "SA\n",
        "SC\n",
        "SH\n",
        "SF\n"
       ]
      }
     ],
     "prompt_number": 12
    },
    {
     "cell_type": "code",
     "collapsed": false,
     "input": [
      "#! Loop over q2wbins and project out 1D histograms\n",
      "fout=ROOT.TFile(\"test.root\",\"RECREATE\")\n",
      "for i in range(Q2BNG['NBINS']):\n",
      "    for j in range(WBNG['NBINS']):\n",
      "        if j>0: break\n",
      "        q2wdir=\"%0.1f-%0.1f_%0.3f-%0.3f\"%(Q2BNG['BINS_LE'][i],Q2BNG['BINS_UE'][i],\n",
      "                                      WBNG['BINS_LE'][i],WBNG['BINS_UE'][i])\n",
      "        for vst in VSTS:\n",
      "            for seq in SEQ['SIM']:\n",
      "                #! Create outdir: in OS and ROOT file\n",
      "                #!-- OS\n",
      "                outdir=os.path.join(ANADIR,'q2w2',q2wdir,seq)\n",
      "                if not os.path.exists(outdir):\n",
      "                    os.makedirs(outdir)\n",
      "                #! -- ROOT file\n",
      "                ret=fout.GetDirectory(\"%s\"%q2wdir)\n",
      "                if ret==None:\n",
      "                    fout.mkdir(\"%s\"%q2wdir)\n",
      "                fout.cd(q2wdir)\n",
      "                ROOT.gDirectory.mkdir(seq).cd()\n",
      "                #! h7: Set range for Q2,W\n",
      "                q2bin_le=h7[seq,'VST%d'%vst].GetAxis(H7_DIM['Q2']).FindBin(Q2BNG['BINS_LE'][i])\n",
      "                q2bin_ue=h7[seq,'VST%d'%vst].GetAxis(H7_DIM['Q2']).FindBin(Q2BNG['BINS_UE'][i])\n",
      "                h7[seq,'VST%d'%vst].GetAxis(H7_DIM['Q2']).SetRange(q2bin_le,q2bin_ue)\n",
      "                wbin_le=h7[seq,'VST%d'%vst].GetAxis(H7_DIM['W']).FindBin(WBNG['BINS_LE'][j])\n",
      "                wbin_ue=h7[seq,'VST%d'%vst].GetAxis(H7_DIM['W']).FindBin(WBNG['BINS_UE'][j])\n",
      "                h7[seq,'VST%d'%vst].GetAxis(H7_DIM['W']).SetRange(wbin_le,wbin_ue)\n",
      "                print q2bin_le,q2bin_ue,wbin_le,wbin_ue,seq\n",
      "                #! Project out hq2w\n",
      "                hq2w=h7[seq,'VST%d'%vst].Projection(H7_DIM['Q2'],H7_DIM['W'],\"E\")\n",
      "                hq2w.SetNameTitle(\"h%s_q2w\"%seq,\"h%s_q2w\"%seq)\n",
      "                hq2w.Write()\n",
      "                cq2w=ROOT.TCanvas(hq2w.GetName(),hq2w.GetTitle())\n",
      "                hq2w.Draw(\"colz\")\n",
      "                cq2w.SaveAs(\"%s/%s.png\"%(outdir,cq2w.GetName()))\n",
      "                cq2w.Close()\n",
      "                #! Project out h1s\n",
      "                for ivar, var in enumerate(VARS):\n",
      "                    h=h7[seq,'VST%d'%vst].Projection(H7_DIM[var],\"E\")\n",
      "                    h.SetNameTitle(\"h%s_%s\"%(seq,var),\"h%s_%s\"%(seq,var))\n",
      "                    h.Write()\n",
      "                    c=ROOT.TCanvas(h.GetName(),h.GetTitle())\n",
      "                    h.Draw()\n",
      "                    c.SaveAs(\"%s/%s.png\"%(outdir,c.GetName()))\n",
      "                    c.Close()\n",
      "#fout.Write() #Was writing all cycles of an object\n",
      "fout.Close()      "
     ],
     "language": "python",
     "metadata": {},
     "outputs": [
      {
       "output_type": "stream",
       "stream": "stderr",
       "text": [
        "INFO:ROOT.TCanvas.Print] png file /home/trivedia/CLAS/workspace/ana2pi/obs/q2w2/2.0-2.5_1.300-1.325/ST/hST_q2w.png has been created\n"
       ]
      },
      {
       "output_type": "stream",
       "stream": "stderr",
       "text": [
        "INFO:ROOT.TCanvas.Print] png file /home/trivedia/CLAS/workspace/ana2pi/obs/q2w2/2.0-2.5_1.300-1.325/ST/hST_M1.png has been created\n"
       ]
      },
      {
       "output_type": "stream",
       "stream": "stderr",
       "text": [
        "INFO:ROOT.TCanvas.Print] png file /home/trivedia/CLAS/workspace/ana2pi/obs/q2w2/2.0-2.5_1.300-1.325/ST/hST_M2.png has been created\n"
       ]
      },
      {
       "output_type": "stream",
       "stream": "stderr",
       "text": [
        "INFO:ROOT.TCanvas.Print] png file /home/trivedia/CLAS/workspace/ana2pi/obs/q2w2/2.0-2.5_1.300-1.325/ST/hST_THETA.png has been created\n"
       ]
      },
      {
       "output_type": "stream",
       "stream": "stderr",
       "text": [
        "INFO:ROOT.TCanvas.Print] png file /home/trivedia/CLAS/workspace/ana2pi/obs/q2w2/2.0-2.5_1.300-1.325/ST/hST_PHI.png has been created\n"
       ]
      },
      {
       "output_type": "stream",
       "stream": "stderr",
       "text": [
        "INFO:ROOT.TCanvas.Print] png file /home/trivedia/CLAS/workspace/ana2pi/obs/q2w2/2.0-2.5_1.300-1.325/ST/hST_ALPHA.png has been created\n"
       ]
      },
      {
       "output_type": "stream",
       "stream": "stdout",
       "text": [
        "5 6 13 13 ST\n",
        "5"
       ]
      },
      {
       "output_type": "stream",
       "stream": "stderr",
       "text": [
        "INFO:ROOT.TCanvas.Print] png file /home/trivedia/CLAS/workspace/ana2pi/obs/q2w2/2.0-2.5_1.300-1.325/SR/hSR_q2w.png has been created\n"
       ]
      },
      {
       "output_type": "stream",
       "stream": "stderr",
       "text": [
        "INFO:ROOT.TCanvas.Print] png file /home/trivedia/CLAS/workspace/ana2pi/obs/q2w2/2.0-2.5_1.300-1.325/SR/hSR_M1.png has been created\n"
       ]
      },
      {
       "output_type": "stream",
       "stream": "stderr",
       "text": [
        "INFO:ROOT.TCanvas.Print] png file /home/trivedia/CLAS/workspace/ana2pi/obs/q2w2/2.0-2.5_1.300-1.325/SR/hSR_M2.png has been created\n"
       ]
      },
      {
       "output_type": "stream",
       "stream": "stderr",
       "text": [
        "INFO:ROOT.TCanvas.Print] png file /home/trivedia/CLAS/workspace/ana2pi/obs/q2w2/2.0-2.5_1.300-1.325/SR/hSR_THETA.png has been created\n"
       ]
      },
      {
       "output_type": "stream",
       "stream": "stderr",
       "text": [
        "INFO:ROOT.TCanvas.Print] png file /home/trivedia/CLAS/workspace/ana2pi/obs/q2w2/2.0-2.5_1.300-1.325/SR/hSR_PHI.png has been created\n"
       ]
      },
      {
       "output_type": "stream",
       "stream": "stderr",
       "text": [
        "INFO:ROOT.TCanvas.Print] png file /home/trivedia/CLAS/workspace/ana2pi/obs/q2w2/2.0-2.5_1.300-1.325/SR/hSR_ALPHA.png has been created\n"
       ]
      },
      {
       "output_type": "stream",
       "stream": "stdout",
       "text": [
        " 6 13 13 SR\n",
        "5"
       ]
      },
      {
       "output_type": "stream",
       "stream": "stderr",
       "text": [
        "INFO:ROOT.TCanvas.Print] png file /home/trivedia/CLAS/workspace/ana2pi/obs/q2w2/2.0-2.5_1.300-1.325/SA/hSA_q2w.png has been created\n"
       ]
      },
      {
       "output_type": "stream",
       "stream": "stderr",
       "text": [
        "INFO:ROOT.TCanvas.Print] png file /home/trivedia/CLAS/workspace/ana2pi/obs/q2w2/2.0-2.5_1.300-1.325/SA/hSA_M1.png has been created\n"
       ]
      },
      {
       "output_type": "stream",
       "stream": "stderr",
       "text": [
        "INFO:ROOT.TCanvas.Print] png file /home/trivedia/CLAS/workspace/ana2pi/obs/q2w2/2.0-2.5_1.300-1.325/SA/hSA_M2.png has been created\n"
       ]
      },
      {
       "output_type": "stream",
       "stream": "stderr",
       "text": [
        "INFO:ROOT.TCanvas.Print] png file /home/trivedia/CLAS/workspace/ana2pi/obs/q2w2/2.0-2.5_1.300-1.325/SA/hSA_THETA.png has been created\n"
       ]
      },
      {
       "output_type": "stream",
       "stream": "stderr",
       "text": [
        "INFO:ROOT.TCanvas.Print] png file /home/trivedia/CLAS/workspace/ana2pi/obs/q2w2/2.0-2.5_1.300-1.325/SA/hSA_PHI.png has been created\n"
       ]
      },
      {
       "output_type": "stream",
       "stream": "stderr",
       "text": [
        "INFO:ROOT.TCanvas.Print] png file /home/trivedia/CLAS/workspace/ana2pi/obs/q2w2/2.0-2.5_1.300-1.325/SA/hSA_ALPHA.png has been created\n"
       ]
      },
      {
       "output_type": "stream",
       "stream": "stdout",
       "text": [
        " 6 13 13 SA\n",
        "5"
       ]
      },
      {
       "output_type": "stream",
       "stream": "stderr",
       "text": [
        "INFO:ROOT.TCanvas.Print] png file /home/trivedia/CLAS/workspace/ana2pi/obs/q2w2/2.0-2.5_1.300-1.325/SC/hSC_q2w.png has been created\n"
       ]
      },
      {
       "output_type": "stream",
       "stream": "stderr",
       "text": [
        "INFO:ROOT.TCanvas.Print] png file /home/trivedia/CLAS/workspace/ana2pi/obs/q2w2/2.0-2.5_1.300-1.325/SC/hSC_M1.png has been created\n"
       ]
      },
      {
       "output_type": "stream",
       "stream": "stderr",
       "text": [
        "INFO:ROOT.TCanvas.Print] png file /home/trivedia/CLAS/workspace/ana2pi/obs/q2w2/2.0-2.5_1.300-1.325/SC/hSC_M2.png has been created\n"
       ]
      },
      {
       "output_type": "stream",
       "stream": "stderr",
       "text": [
        "INFO:ROOT.TCanvas.Print] png file /home/trivedia/CLAS/workspace/ana2pi/obs/q2w2/2.0-2.5_1.300-1.325/SC/hSC_THETA.png has been created\n"
       ]
      },
      {
       "output_type": "stream",
       "stream": "stderr",
       "text": [
        "INFO:ROOT.TCanvas.Print] png file /home/trivedia/CLAS/workspace/ana2pi/obs/q2w2/2.0-2.5_1.300-1.325/SC/hSC_PHI.png has been created\n"
       ]
      },
      {
       "output_type": "stream",
       "stream": "stderr",
       "text": [
        "INFO:ROOT.TCanvas.Print] png file /home/trivedia/CLAS/workspace/ana2pi/obs/q2w2/2.0-2.5_1.300-1.325/SC/hSC_ALPHA.png has been created\n"
       ]
      },
      {
       "output_type": "stream",
       "stream": "stdout",
       "text": [
        " 6 13 13 SC\n",
        "5"
       ]
      },
      {
       "output_type": "stream",
       "stream": "stderr",
       "text": [
        "INFO:ROOT.TCanvas.Print] png file /home/trivedia/CLAS/workspace/ana2pi/obs/q2w2/2.0-2.5_1.300-1.325/SH/hSH_q2w.png has been created\n"
       ]
      },
      {
       "output_type": "stream",
       "stream": "stderr",
       "text": [
        "INFO:ROOT.TCanvas.Print] png file /home/trivedia/CLAS/workspace/ana2pi/obs/q2w2/2.0-2.5_1.300-1.325/SH/hSH_M1.png has been created\n"
       ]
      },
      {
       "output_type": "stream",
       "stream": "stderr",
       "text": [
        "INFO:ROOT.TCanvas.Print] png file /home/trivedia/CLAS/workspace/ana2pi/obs/q2w2/2.0-2.5_1.300-1.325/SH/hSH_M2.png has been created\n"
       ]
      },
      {
       "output_type": "stream",
       "stream": "stderr",
       "text": [
        "INFO:ROOT.TCanvas.Print] png file /home/trivedia/CLAS/workspace/ana2pi/obs/q2w2/2.0-2.5_1.300-1.325/SH/hSH_THETA.png has been created\n"
       ]
      },
      {
       "output_type": "stream",
       "stream": "stderr",
       "text": [
        "INFO:ROOT.TCanvas.Print] png file /home/trivedia/CLAS/workspace/ana2pi/obs/q2w2/2.0-2.5_1.300-1.325/SH/hSH_PHI.png has been created\n"
       ]
      },
      {
       "output_type": "stream",
       "stream": "stderr",
       "text": [
        "INFO:ROOT.TCanvas.Print] png file /home/trivedia/CLAS/workspace/ana2pi/obs/q2w2/2.0-2.5_1.300-1.325/SH/hSH_ALPHA.png has been created\n"
       ]
      },
      {
       "output_type": "stream",
       "stream": "stdout",
       "text": [
        " 6 13 13 SH\n",
        "5"
       ]
      },
      {
       "output_type": "stream",
       "stream": "stderr",
       "text": [
        "INFO:ROOT.TCanvas.Print] png file /home/trivedia/CLAS/workspace/ana2pi/obs/q2w2/2.0-2.5_1.300-1.325/SF/hSF_q2w.png has been created\n"
       ]
      },
      {
       "output_type": "stream",
       "stream": "stderr",
       "text": [
        "INFO:ROOT.TCanvas.Print] png file /home/trivedia/CLAS/workspace/ana2pi/obs/q2w2/2.0-2.5_1.300-1.325/SF/hSF_M1.png has been created\n"
       ]
      },
      {
       "output_type": "stream",
       "stream": "stderr",
       "text": [
        "INFO:ROOT.TCanvas.Print] png file /home/trivedia/CLAS/workspace/ana2pi/obs/q2w2/2.0-2.5_1.300-1.325/SF/hSF_M2.png has been created\n"
       ]
      },
      {
       "output_type": "stream",
       "stream": "stderr",
       "text": [
        "INFO:ROOT.TCanvas.Print] png file /home/trivedia/CLAS/workspace/ana2pi/obs/q2w2/2.0-2.5_1.300-1.325/SF/hSF_THETA.png has been created\n"
       ]
      },
      {
       "output_type": "stream",
       "stream": "stderr",
       "text": [
        "INFO:ROOT.TCanvas.Print] png file /home/trivedia/CLAS/workspace/ana2pi/obs/q2w2/2.0-2.5_1.300-1.325/SF/hSF_PHI.png has been created\n"
       ]
      },
      {
       "output_type": "stream",
       "stream": "stderr",
       "text": [
        "INFO:ROOT.TCanvas.Print] png file /home/trivedia/CLAS/workspace/ana2pi/obs/q2w2/2.0-2.5_1.300-1.325/SF/hSF_ALPHA.png has been created\n"
       ]
      },
      {
       "output_type": "stream",
       "stream": "stdout",
       "text": [
        " 6 13 13 SF\n"
       ]
      }
     ],
     "prompt_number": 12
    },
    {
     "cell_type": "code",
     "collapsed": false,
     "input": [],
     "language": "python",
     "metadata": {},
     "outputs": []
    }
   ],
   "metadata": {}
  }
 ]
}