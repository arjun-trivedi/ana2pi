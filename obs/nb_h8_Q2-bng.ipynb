{
 "metadata": {
  "name": ""
 },
 "nbformat": 3,
 "nbformat_minor": 0,
 "worksheets": [
  {
   "cells": [
    {
     "cell_type": "code",
     "collapsed": false,
     "input": [
      "\"\"\"\n",
      "Q2 binning for h8s\n",
      "[09-07-14]\n",
      "+ Note, that when making uniform sized bins, either the first or the last bin will not be suited for analysis, \n",
      "depending on which of the two bin's (lower/upper)edge is held fixed to set up the rest of the bins\n",
      "    + Here I began with the lower edge of the first bin which is determined by ST-Q2MIN and SR-resolution\n",
      "+ Finally optimized binning should use variable binning so that the last bin is also suited for analysis\n",
      "\"\"\"\n",
      "Q2MIN=1.25 # ST-Q2min = 1.2 GeV^2 (see hand written for details on 1.25=1.2+5*res)\n",
      "Q2MAX=5.00 \n",
      "Q2BINW=0.5\n",
      "np.arange(Q2MIN,Q2MAX+Q2BINW,Q2BINW)"
     ],
     "language": "python",
     "metadata": {},
     "outputs": [
      {
       "metadata": {},
       "output_type": "pyout",
       "prompt_number": 9,
       "text": [
        "array([ 1.25,  1.75,  2.25,  2.75,  3.25,  3.75,  4.25,  4.75,  5.25])"
       ]
      }
     ],
     "prompt_number": 9
    },
    {
     "cell_type": "code",
     "collapsed": false,
     "input": [
      "np.linspace(Q2MIN,4.75,8)"
     ],
     "language": "python",
     "metadata": {},
     "outputs": [
      {
       "metadata": {},
       "output_type": "pyout",
       "prompt_number": 15,
       "text": [
        "array([ 1.25,  1.75,  2.25,  2.75,  3.25,  3.75,  4.25,  4.75])"
       ]
      }
     ],
     "prompt_number": 15
    },
    {
     "cell_type": "code",
     "collapsed": false,
     "input": [],
     "language": "python",
     "metadata": {},
     "outputs": []
    }
   ],
   "metadata": {}
  }
 ]
}