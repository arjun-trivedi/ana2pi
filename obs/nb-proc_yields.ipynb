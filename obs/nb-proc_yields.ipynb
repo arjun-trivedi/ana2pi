{
 "metadata": {
  "name": ""
 },
 "nbformat": 3,
 "nbformat_minor": 0,
 "worksheets": [
  {
   "cells": [
    {
     "cell_type": "code",
     "collapsed": false,
     "input": [
      "#! Imports\n",
      "from array import *\n",
      "from collections import OrderedDict\n",
      "\n",
      "import atlib as atlib\n",
      "\n",
      "ROOT.gROOT.ProcessLine(\".L THnTool.C+\")\n",
      "#ROOT.gSystem.Load(\"THnTool_C.so\")\n",
      "\n",
      "from ROOT import THnTool\n",
      "thntool=THnTool()\n",
      "\n",
      "#NTOPS=4;#['TOP1','TOP2','TOP3','TOP4']\n",
      "TOPS=[1,2,3,4]\n",
      "#NVSTS=3;#['VST1','VST3']#['VST1','VST2']#,'VST3']\n",
      "VSTS=[1,2,3]\n",
      "\n",
      "SEQ={}\n",
      "SEQ['SIM']=['ST','SR','SA','SC','SH','SF']\n",
      "SEQ['EXP']=['ER','EC','EH','EF']\n",
      "# for iseq,seq in enumerate(SEQ['SIM']):\n",
      "#     print iseq,seq\n",
      "\n",
      "VARS=['M1','M2','THETA','PHI','ALPHA']\n",
      "# for ivar, var in enumerate(VARS):\n",
      "#     print ivar,var\n"
     ],
     "language": "python",
     "metadata": {},
     "outputs": [
      {
       "output_type": "stream",
       "stream": "stderr",
       "text": [
        "INFO:ROOT.ACLiC] unmodified script has already been compiled and loaded\n"
       ]
      }
     ],
     "prompt_number": 8
    },
    {
     "cell_type": "code",
     "collapsed": false,
     "input": [
      "#! Define some q2w_i binnings; where sum_i_n(q2w_i)=q2w-F\n",
      "q2w2=[[2.0,2.5,0.5],[1.3,1.9,0.025]] #min,max,width \n",
      "Q2BNG,WBNG=atlib.init_q2wbng2(q2w2)\n",
      "#! Test Q2WBNG, WBNG\n",
      "# print \"Q2 bins=\",Q2BNG['BINS']\n",
      "# print \"W bins=\",WBNG['BINS']\n",
      "# for i in range(Q2BNG['NBINS']):\n",
      "#     print \"Q2 bin:\",i+1\n",
      "#     print Q2BNG['BINS_LE'][i]\n",
      "#     print Q2BNG['BINS_UE'][i]\n",
      "# for i in range(WBNG['NBINS']):\n",
      "#     print \"W bin:\",i+1\n",
      "#     print WBNG['BINS_LE'][i]\n",
      "#     print WBNG['BINS_UE'][i]    \n"
     ],
     "language": "python",
     "metadata": {},
     "outputs": [],
     "prompt_number": 9
    },
    {
     "cell_type": "code",
     "collapsed": false,
     "input": [
      "#h8_dim={'HEL':0,'Q2':1,'W':2,'M1':3,'M2':4,'THETA':6,'PHI':7,'ALPHA':8}\n",
      "#! See http://stackoverflow.com/questions/16553506/python-ordereddict-iteration for following code\n",
      "H8_DIM=OrderedDict([('HEL',0),('Q2',1),('W',2),('M1',3),('M2',4),('THETA',5),('PHI',6),('ALPHA',7)])\n",
      "H5_PROJDIM=array('i',[H8_DIM['M1'],H8_DIM['M2'],H8_DIM['THETA'],H8_DIM['PHI'],\n",
      "                      H8_DIM['ALPHA']])\n",
      "# print H8_DIM \n",
      "# print H8_DIM.keys()\n",
      "# print H8_DIM.values()\n",
      "\n",
      "H5_DIM=OrderedDict([('M1',0),('M2',1),('THETA',2),('PHI',3),('ALPHA',4)])\n",
      "# print H5_DIM \n",
      "# print H5_DIM.keys()\n",
      "# print H5_DIM.values()"
     ],
     "language": "python",
     "metadata": {},
     "outputs": [],
     "prompt_number": 10
    },
    {
     "cell_type": "code",
     "collapsed": false,
     "input": [
      "DATADIR=os.environ['OBS_DATADIR_EXP']\n",
      "print DATADIR\n",
      "ANADIR=os.environ['ANA2PI_OBS']\n",
      "print ANADIR"
     ],
     "language": "python",
     "metadata": {},
     "outputs": [
      {
       "output_type": "stream",
       "stream": "stdout",
       "text": [
        "/data/trivedia/e1f/exp/2pi\n",
        "/home/trivedia/CLAS/workspace/ana2pi/obs\n"
       ]
      }
     ],
     "prompt_number": 11
    },
    {
     "cell_type": "code",
     "collapsed": false,
     "input": [
      "h8=OrderedDict()\n",
      "\n",
      "rfile=os.path.join(os.environ['OBS_DATADIR_SIM'],'q2w2','sim_1','d2pi.root')\n",
      "f=ROOT.TFile(rfile)\n",
      "\n",
      "#! Fetch ST-,SR-h8 directly from file (Add all tops)\n",
      "for vst in VSTS:\n",
      "    vst_name='VST%d'%vst\n",
      "    #1 Fetch ST-h8\n",
      "    print \"Going to get\",'d2piT/yield_varset%d'%vst,\"...\"\n",
      "    h8[vst_name,'ST']=f.Get('d2piT/yield_varset%d'%vst)\n",
      "    print \"Done getting\",'d2piT/yield_varset%d'%vst\n",
      "    #! For SR, add all tops\n",
      "    for itop,top in enumerate(TOPS):\n",
      "        if itop==0:\n",
      "            print \"Going to get\",'d2piR/top%d/yield_varset%d'%(top,vst),\"...\"\n",
      "            h8[vst_name,'SR']=f.Get('d2piR/top%d/yield_varset%d'%(top,vst))\n",
      "            print \"Done getting\",'d2piR/top%d/yield_varset%d'%(top,vst)\n",
      "        else:\n",
      "            print \"Going to get and add to top1\",'d2piR/top%d/yield_varset%d'%(top,vst),\"...\"\n",
      "            h8[vst_name,'SR'].Add(f.Get('d2piR/top%d/yield_varset%d'%(top,vst)))\n",
      "            print \"Done gettng and adding to top1\",'d2piR/top%d/yield_varset%d'%(top,vst)"
     ],
     "language": "python",
     "metadata": {},
     "outputs": [
      {
       "output_type": "stream",
       "stream": "stdout",
       "text": [
        "Going to get d2piT/yield_varset1 ...\n",
        "Done getting"
       ]
      },
      {
       "output_type": "stream",
       "stream": "stdout",
       "text": [
        " d2piT/yield_varset1\n",
        "Going to get d2piR/top1/yield_varset1 ...\n",
        "Done getting"
       ]
      },
      {
       "output_type": "stream",
       "stream": "stdout",
       "text": [
        " d2piR/top1/yield_varset1\n",
        "Going to get and add to top1 d2piR/top2/yield_varset1 ...\n",
        "Done gettng and adding to top1"
       ]
      },
      {
       "output_type": "stream",
       "stream": "stdout",
       "text": [
        " d2piR/top2/yield_varset1\n",
        "Going to get and add to top1 d2piR/top3/yield_varset1 ...\n",
        "Done gettng and adding to top1"
       ]
      },
      {
       "output_type": "stream",
       "stream": "stdout",
       "text": [
        " d2piR/top3/yield_varset1\n",
        "Going to get and add to top1 d2piR/top4/yield_varset1 ...\n",
        "Done gettng and adding to top1"
       ]
      },
      {
       "output_type": "stream",
       "stream": "stdout",
       "text": [
        " d2piR/top4/yield_varset1\n",
        "Going to get d2piT/yield_varset2 ...\n",
        "Done getting"
       ]
      },
      {
       "output_type": "stream",
       "stream": "stdout",
       "text": [
        " d2piT/yield_varset2\n",
        "Going to get d2piR/top1/yield_varset2 ...\n",
        "Done getting"
       ]
      },
      {
       "output_type": "stream",
       "stream": "stdout",
       "text": [
        " d2piR/top1/yield_varset2\n",
        "Going to get and add to top1 d2piR/top2/yield_varset2 ...\n",
        "Done gettng and adding to top1"
       ]
      },
      {
       "output_type": "stream",
       "stream": "stdout",
       "text": [
        " d2piR/top2/yield_varset2\n",
        "Going to get and add to top1 d2piR/top3/yield_varset2 ...\n",
        "Done gettng and adding to top1"
       ]
      },
      {
       "output_type": "stream",
       "stream": "stdout",
       "text": [
        " d2piR/top3/yield_varset2\n",
        "Going to get and add to top1 d2piR/top4/yield_varset2 ...\n",
        "Done gettng and adding to top1"
       ]
      },
      {
       "output_type": "stream",
       "stream": "stdout",
       "text": [
        " d2piR/top4/yield_varset2\n",
        "Going to get d2piT/yield_varset3 ...\n",
        "Done getting"
       ]
      },
      {
       "output_type": "stream",
       "stream": "stdout",
       "text": [
        " d2piT/yield_varset3\n",
        "Going to get d2piR/top1/yield_varset3 ...\n",
        "Done getting"
       ]
      },
      {
       "output_type": "stream",
       "stream": "stdout",
       "text": [
        " d2piR/top1/yield_varset3\n",
        "Going to get and add to top1 d2piR/top2/yield_varset3 ...\n",
        "Done gettng and adding to top1"
       ]
      },
      {
       "output_type": "stream",
       "stream": "stdout",
       "text": [
        " d2piR/top2/yield_varset3\n",
        "Going to get and add to top1 d2piR/top3/yield_varset3 ...\n",
        "Done gettng and adding to top1"
       ]
      },
      {
       "output_type": "stream",
       "stream": "stdout",
       "text": [
        " d2piR/top3/yield_varset3\n",
        "Going to get and add to top1 d2piR/top4/yield_varset3 ...\n",
        "Done gettng and adding to top1"
       ]
      },
      {
       "output_type": "stream",
       "stream": "stdout",
       "text": [
        " d2piR/top4/yield_varset3\n"
       ]
      }
     ],
     "prompt_number": 12
    },
    {
     "cell_type": "code",
     "collapsed": false,
     "input": [
      "for k in h8:\n",
      "    print k,h8[k].GetEntries()"
     ],
     "language": "python",
     "metadata": {},
     "outputs": [
      {
       "output_type": "stream",
       "stream": "stdout",
       "text": [
        "('VST1', 'ST') 198853353.0\n",
        "('VST1', 'SR') 36724877.0\n",
        "('VST2', 'ST') 198853353.0\n",
        "('VST2', 'SR') 36724877.0\n",
        "('VST3', 'ST') 198853353.0\n",
        "('VST3', 'SR') 36724877.0\n"
       ]
      }
     ],
     "prompt_number": 13
    },
    {
     "cell_type": "code",
     "collapsed": false,
     "input": [
      "#! Loop over VSTS,[Q2BNG,WBNG],SEQ, and project: h8->h5->h1\n",
      "fout=ROOT.TFile(\"test.root\",\"RECREATE\")\n",
      "for vst in VSTS:\n",
      "    vst_name='VST%d'%vst\n",
      "    print \"*** Processing %s ***\"%vst_name\n",
      "    for i in range(Q2BNG['NBINS']):\n",
      "        for j in range(WBNG['NBINS']):\n",
      "            if j>0: break\n",
      "            q2wdir=\"%0.1f-%0.1f_%0.3f-%0.3f\"%(Q2BNG['BINS_LE'][i],Q2BNG['BINS_UE'][i],WBNG['BINS_LE'][i],WBNG['BINS_UE'][i])\n",
      "            print \"\\n*** Processing %s ***\"%q2wdir\n",
      "            #! 1. h8->h5 \n",
      "            #! 1.1 Set range for SR-,ST-h8's HEL,Q2 & W dimensions\n",
      "            print \"\\n*** 1. Processing h8->h5 ***\"\n",
      "            hq2w=OrderedDict() #This will be used to visually debug that h8->h5 projections are correct\n",
      "            for seq in SEQ['SIM']:\n",
      "                if seq=='ST' or seq=='SR':\n",
      "                    #!-- HEL: include all helicities\n",
      "                    h8[vst_name,seq].GetAxis(H8_DIM['HEL']).SetRange()\n",
      "                    #!-- Q2\n",
      "                    q2bin_le=h8[vst_name,seq].GetAxis(H8_DIM['Q2']).FindBin(Q2BNG['BINS_LE'][i])\n",
      "                    q2bin_ue=h8[vst_name,seq].GetAxis(H8_DIM['Q2']).FindBin(Q2BNG['BINS_UE'][i])\n",
      "                    h8[vst_name,seq].GetAxis(H8_DIM['Q2']).SetRange(q2bin_le,q2bin_ue)\n",
      "                    #!-- W\n",
      "                    wbin_le=h8[vst_name,seq].GetAxis(H8_DIM['W']).FindBin(WBNG['BINS_LE'][j])\n",
      "                    wbin_ue=h8[vst_name,seq].GetAxis(H8_DIM['W']).FindBin(WBNG['BINS_UE'][j])\n",
      "                    h8[vst_name,seq].GetAxis(H8_DIM['W']).SetRange(wbin_le,wbin_ue)\n",
      "                    print \"1.1 For h8(%s,%s),finished setting Q2-,W-bin range = [%d,%d],[%d,%d] ***\"%(vst_name,seq,q2bin_le,q2bin_ue,wbin_le,wbin_ue)\n",
      "                    #! Project out hq2w; will save them later\n",
      "                    hq2w[seq]=h8[vst_name,seq].Projection(H8_DIM['Q2'],H8_DIM['W'],\"E\")\n",
      "                    hq2w[seq].SetNameTitle(\"h_%s_%s_q2w\"%(vst_name,seq),\"h_%s_%s_q2w\"%(vst_name,seq))\n",
      "            #! 1.2 Finally project out h5\n",
      "            print \"1.2 Making projections: h8->h5\"\n",
      "            h5=OrderedDict()\n",
      "            h5['ST']=h8[vst_name,'ST'].Projection(5,H5_PROJDIM,\"E\")\n",
      "            h5['SR']=h8[vst_name,'SR'].Projection(5,H5_PROJDIM,\"E\")\n",
      "            print \"Processed h5['ST'],h5['SR']. Number of respective entries=%d,%d\"%(h5['ST'].GetEntries(),h5['SR'].GetEntries())\n",
      "            #! Calculate SA\n",
      "            h5['SA']=h5['SR'].Clone()\n",
      "            h5['SA'].Divide(h5['ST'])\n",
      "            print \"Processed h5['SA']. Number of entries=\",h5['SA'].GetEntries()\n",
      "            #! Calculate SC\n",
      "            h5['SC']=h5['SR'].Clone()\n",
      "            h5['SC'].Divide(h5['SA'])\n",
      "            print \"Processed h5['SC']. Number of entries=\",h5['SC'].GetEntries()\n",
      "            #! Calculate SH\n",
      "            h5['SH']=h5['ST'].Clone()\n",
      "            h5['SH'].Add(h5['SC'],-1)\n",
      "            thntool.SetUnderOverFLowBinsToZero(h5['SH'])\n",
      "            print \"Processed h5['SH']. Number of entries=\",h5['SH'].GetEntries()\n",
      "            #! Calculate SF\n",
      "            h5['SF']=h5['SC'].Clone()\n",
      "            h5['SF'].Add(h5['SH'],1)\n",
      "            print \"Processed h5['SF']. Number of entries=\",h5['SF'].GetEntries()\n",
      "        \n",
      "            #! 2. h5->h1\n",
      "            fout.mkdir(vst_name).cd()\n",
      "            ROOT.gDirectory.mkdir(q2wdir).cd()\n",
      "            print \"\\n*** 2. Processing h5->h1 ***\"\n",
      "            for seq in SEQ['SIM']:\n",
      "                #! Create outdir: in OS and ROOT file\n",
      "                #!-- OS\n",
      "                outdir=os.path.join(ANADIR,'q2w2',vst_name,q2wdir,seq)\n",
      "                if not os.path.exists(outdir):\n",
      "                    os.makedirs(outdir)\n",
      "                #! -- ROOT file\n",
      "#                 fout.mkdir(vst_name).cd()\n",
      "#                 ROOT.gDirectory.mkdir(q2wdir).cd()\n",
      "                ROOT.gDirectory.mkdir(seq).cd()\n",
      "#                 ret=fout.GetDirectory(\"%s/%s/%s\"%('VST%d'%vst,q2wdir,seq))\n",
      "#                 if ret==None:\n",
      "#                     fout.cd(\"%s/%s\"%('VST%d'%vst,q2wdir))\n",
      "#                     ROOT.gDirectory.mkdir(seq).cd()\n",
      "#                 else:\n",
      "#                     fout.cd(\"%s/%s/%s\"%('VST%d'%vst,q2wdir,seq))\n",
      "                #! Save hq2w creater \"earlier\"\n",
      "                if seq=='ST' or seq=='SR':\n",
      "                    cq2w=ROOT.TCanvas(hq2w[seq].GetName(),hq2w[seq].GetTitle())\n",
      "                    hq2w[seq].Draw(\"colz\")\n",
      "                    hq2w[seq].Write()\n",
      "                    cq2w.SaveAs(\"%s/%s.png\"%(outdir,cq2w.GetName()))\n",
      "                #! Project out h1s\n",
      "                for ivar, var in enumerate(VARS):\n",
      "                    print \"Processing\",seq,var\n",
      "                    h=h5[seq].Projection(H5_DIM[var],\"E\")\n",
      "                    h.SetNameTitle(\"h_%s_%s_%s\"%('VST%d'%vst,seq,var),\"h_%s_%s_%s\"%('VST%d'%vst,seq,var))\n",
      "                    h.Write()\n",
      "                    c=ROOT.TCanvas(h.GetName(),h.GetTitle())\n",
      "                    h.Draw()\n",
      "                    c.SaveAs(\"%s/%s.png\"%(outdir,c.GetName()))\n",
      "                    c.Close()\n",
      "fout.Close()      "
     ],
     "language": "python",
     "metadata": {},
     "outputs": [
      {
       "output_type": "stream",
       "stream": "stdout",
       "text": [
        "*** Processing VST1 ***\n",
        "\n",
        "*** Processing 2.0-2.5_1.300-1.325 ***\n",
        "\n",
        "*** 1. Processing h8->h5 ***\n",
        "1.1 For h8(VST1,ST),finished setting Q2-,W-bin range = [5,6],[13,13] ***\n",
        "1.1 For h8(VST1,SR),finished setting Q2-,W-bin range = [5,6],[13,13] ***"
       ]
      },
      {
       "output_type": "stream",
       "stream": "stdout",
       "text": [
        "\n",
        "1.2 Making projections: h8->h5"
       ]
      },
      {
       "output_type": "stream",
       "stream": "stdout",
       "text": [
        "\n",
        "Processed h5['ST'],h5['SR']. Number of respective entries=198853353,36724877"
       ]
      },
      {
       "output_type": "stream",
       "stream": "stderr",
       "text": [
        "WARNING:ROOT.THnSparseT<TArrayF>.Divide(h)] Histogram h has empty bins - division by zero! Setting bin to 0.\n"
       ]
      },
      {
       "output_type": "stream",
       "stream": "stderr",
       "text": [
        "WARNING:ROOT.THnSparseT<TArrayF>.Divide(h)] Histogram h has empty bins - division by zero! Setting bin to 0.\n"
       ]
      },
      {
       "output_type": "stream",
       "stream": "stdout",
       "text": [
        "\n",
        "Processed h5['SA']. Number of entries= 36724877.0\n",
        "Processed h5['SC']. Number of entries= 36724877.0\n",
        "Processed h5['SH']. Number of entries= 162131223.0\n",
        "Processed h5['SF']. Number of entries="
       ]
      },
      {
       "output_type": "stream",
       "stream": "stderr",
       "text": [
        "WARNING:ROOT.TCanvas.Constructor] Deleting canvas with same name: h_VST1_ST_q2w\n"
       ]
      },
      {
       "output_type": "stream",
       "stream": "stderr",
       "text": [
        "INFO:ROOT.TCanvas.Print] png file /home/trivedia/CLAS/workspace/ana2pi/obs/q2w2/VST1/2.0-2.5_1.300-1.325/ST/h_VST1_ST_q2w.png has been created\n"
       ]
      },
      {
       "output_type": "stream",
       "stream": "stdout",
       "text": [
        " 198856100.0\n",
        "\n",
        "*** 2. Processing h5->h1 ***\n",
        "Processing"
       ]
      },
      {
       "output_type": "stream",
       "stream": "stderr",
       "text": [
        "INFO:ROOT.TCanvas.Print] png file /home/trivedia/CLAS/workspace/ana2pi/obs/q2w2/VST1/2.0-2.5_1.300-1.325/ST/h_VST1_ST_M1.png has been created\n"
       ]
      },
      {
       "output_type": "stream",
       "stream": "stdout",
       "text": [
        " ST M1\n",
        "Processing"
       ]
      },
      {
       "output_type": "stream",
       "stream": "stderr",
       "text": [
        "INFO:ROOT.TCanvas.Print] png file /home/trivedia/CLAS/workspace/ana2pi/obs/q2w2/VST1/2.0-2.5_1.300-1.325/ST/h_VST1_ST_M2.png has been created\n"
       ]
      },
      {
       "output_type": "stream",
       "stream": "stdout",
       "text": [
        " ST M2\n",
        "Processing"
       ]
      },
      {
       "output_type": "stream",
       "stream": "stderr",
       "text": [
        "INFO:ROOT.TCanvas.Print] png file /home/trivedia/CLAS/workspace/ana2pi/obs/q2w2/VST1/2.0-2.5_1.300-1.325/ST/h_VST1_ST_THETA.png has been created\n"
       ]
      },
      {
       "output_type": "stream",
       "stream": "stdout",
       "text": [
        " ST THETA\n",
        "Processing"
       ]
      },
      {
       "output_type": "stream",
       "stream": "stderr",
       "text": [
        "INFO:ROOT.TCanvas.Print] png file /home/trivedia/CLAS/workspace/ana2pi/obs/q2w2/VST1/2.0-2.5_1.300-1.325/ST/h_VST1_ST_PHI.png has been created\n"
       ]
      },
      {
       "output_type": "stream",
       "stream": "stdout",
       "text": [
        " ST PHI\n",
        "Processing"
       ]
      },
      {
       "output_type": "stream",
       "stream": "stderr",
       "text": [
        "INFO:ROOT.TCanvas.Print] png file /home/trivedia/CLAS/workspace/ana2pi/obs/q2w2/VST1/2.0-2.5_1.300-1.325/ST/h_VST1_ST_ALPHA.png has been created\n"
       ]
      },
      {
       "output_type": "stream",
       "stream": "stdout",
       "text": [
        " ST ALPHA\n",
        "Processing"
       ]
      },
      {
       "output_type": "stream",
       "stream": "stdout",
       "text": [
        " SR M1\n",
        "Processing"
       ]
      },
      {
       "output_type": "stream",
       "stream": "stdout",
       "text": [
        " SR M2\n",
        "Processing"
       ]
      },
      {
       "output_type": "stream",
       "stream": "stdout",
       "text": [
        " SR THETA\n",
        "Processing"
       ]
      },
      {
       "output_type": "stream",
       "stream": "stdout",
       "text": [
        " SR PHI\n",
        "Processing"
       ]
      },
      {
       "output_type": "stream",
       "stream": "stdout",
       "text": [
        " SR ALPHA\n",
        "Processing"
       ]
      },
      {
       "output_type": "stream",
       "stream": "stdout",
       "text": [
        " SA M1\n",
        "Processing"
       ]
      },
      {
       "output_type": "stream",
       "stream": "stdout",
       "text": [
        " SA M2\n",
        "Processing"
       ]
      },
      {
       "output_type": "stream",
       "stream": "stdout",
       "text": [
        " SA THETA\n",
        "Processing"
       ]
      },
      {
       "output_type": "stream",
       "stream": "stdout",
       "text": [
        " SA PHI\n",
        "Processing"
       ]
      },
      {
       "output_type": "stream",
       "stream": "stdout",
       "text": [
        " SA ALPHA\n",
        "Processing"
       ]
      },
      {
       "output_type": "stream",
       "stream": "stdout",
       "text": [
        " SC M1\n",
        "Processing"
       ]
      },
      {
       "output_type": "stream",
       "stream": "stdout",
       "text": [
        " SC M2\n",
        "Processing"
       ]
      },
      {
       "output_type": "stream",
       "stream": "stdout",
       "text": [
        " SC THETA\n",
        "Processing"
       ]
      },
      {
       "output_type": "stream",
       "stream": "stdout",
       "text": [
        " SC PHI\n",
        "Processing"
       ]
      },
      {
       "output_type": "stream",
       "stream": "stdout",
       "text": [
        " SC ALPHA\n",
        "Processing"
       ]
      },
      {
       "output_type": "stream",
       "stream": "stdout",
       "text": [
        " SH M1\n",
        "Processing"
       ]
      },
      {
       "output_type": "stream",
       "stream": "stdout",
       "text": [
        " SH M2\n",
        "Processing"
       ]
      },
      {
       "output_type": "stream",
       "stream": "stdout",
       "text": [
        " SH THETA\n",
        "Processing"
       ]
      },
      {
       "output_type": "stream",
       "stream": "stdout",
       "text": [
        " SH PHI\n",
        "Processing"
       ]
      },
      {
       "output_type": "stream",
       "stream": "stdout",
       "text": [
        " SH ALPHA\n",
        "Processing"
       ]
      },
      {
       "output_type": "stream",
       "stream": "stdout",
       "text": [
        " SF M1\n",
        "Processing"
       ]
      },
      {
       "output_type": "stream",
       "stream": "stdout",
       "text": [
        " SF M2\n",
        "Processing"
       ]
      },
      {
       "output_type": "stream",
       "stream": "stdout",
       "text": [
        " SF THETA\n",
        "Processing"
       ]
      },
      {
       "output_type": "stream",
       "stream": "stdout",
       "text": [
        " SF PHI\n",
        "Processing"
       ]
      },
      {
       "output_type": "stream",
       "stream": "stdout",
       "text": [
        " SF ALPHA\n",
        "*** Processing VST2 ***"
       ]
      },
      {
       "output_type": "stream",
       "stream": "stdout",
       "text": [
        "\n",
        "\n",
        "*** Processing 2.0-2.5_1.300-1.325 ***\n",
        "\n",
        "*** 1. Processing h8->h5 ***\n",
        "1.1 For h8(VST2,ST),finished setting Q2-,W-bin range = [5,6],[13,13] ***\n",
        "1.1 For h8(VST2,SR),finished setting Q2-,W-bin range = [5,6],[13,13] ***"
       ]
      },
      {
       "output_type": "stream",
       "stream": "stdout",
       "text": [
        "\n",
        "1.2 Making projections: h8->h5"
       ]
      },
      {
       "output_type": "stream",
       "stream": "stdout",
       "text": [
        "\n",
        "Processed h5['ST'],h5['SR']. Number of respective entries=198853353,36724877"
       ]
      },
      {
       "output_type": "stream",
       "stream": "stderr",
       "text": [
        "WARNING:ROOT.THnSparseT<TArrayF>.Divide(h)] Histogram h has empty bins - division by zero! Setting bin to 0.\n"
       ]
      },
      {
       "output_type": "stream",
       "stream": "stderr",
       "text": [
        "WARNING:ROOT.THnSparseT<TArrayF>.Divide(h)] Histogram h has empty bins - division by zero! Setting bin to 0.\n"
       ]
      },
      {
       "output_type": "stream",
       "stream": "stdout",
       "text": [
        "\n",
        "Processed h5['SA']. Number of entries= 36724877.0\n",
        "Processed h5['SC']. Number of entries= 36724877.0\n",
        "Processed h5['SH']. Number of entries= 162131158.0\n",
        "Processed h5['SF']. Number of entries="
       ]
      },
      {
       "output_type": "stream",
       "stream": "stdout",
       "text": [
        " 198856035.0\n",
        "\n",
        "*** 2. Processing h5->h1 ***\n",
        "Processing"
       ]
      },
      {
       "output_type": "stream",
       "stream": "stdout",
       "text": [
        " ST M1\n",
        "Processing"
       ]
      },
      {
       "output_type": "stream",
       "stream": "stdout",
       "text": [
        " ST M2\n",
        "Processing"
       ]
      },
      {
       "output_type": "stream",
       "stream": "stdout",
       "text": [
        " ST THETA\n",
        "Processing"
       ]
      },
      {
       "output_type": "stream",
       "stream": "stdout",
       "text": [
        " ST PHI\n",
        "Processing"
       ]
      },
      {
       "output_type": "stream",
       "stream": "stdout",
       "text": [
        " ST ALPHA\n",
        "Processing"
       ]
      },
      {
       "output_type": "stream",
       "stream": "stdout",
       "text": [
        " SR M1\n",
        "Processing"
       ]
      },
      {
       "output_type": "stream",
       "stream": "stdout",
       "text": [
        " SR M2\n",
        "Processing"
       ]
      },
      {
       "output_type": "stream",
       "stream": "stdout",
       "text": [
        " SR THETA\n",
        "Processing"
       ]
      },
      {
       "output_type": "stream",
       "stream": "stdout",
       "text": [
        " SR PHI\n",
        "Processing"
       ]
      },
      {
       "output_type": "stream",
       "stream": "stdout",
       "text": [
        " SR ALPHA\n",
        "Processing"
       ]
      },
      {
       "output_type": "stream",
       "stream": "stdout",
       "text": [
        " SA M1\n",
        "Processing"
       ]
      },
      {
       "output_type": "stream",
       "stream": "stdout",
       "text": [
        " SA M2\n",
        "Processing"
       ]
      },
      {
       "output_type": "stream",
       "stream": "stdout",
       "text": [
        " SA THETA\n",
        "Processing"
       ]
      },
      {
       "output_type": "stream",
       "stream": "stdout",
       "text": [
        " SA PHI\n",
        "Processing"
       ]
      },
      {
       "output_type": "stream",
       "stream": "stdout",
       "text": [
        " SA ALPHA\n",
        "Processing"
       ]
      },
      {
       "output_type": "stream",
       "stream": "stdout",
       "text": [
        " SC M1\n",
        "Processing"
       ]
      },
      {
       "output_type": "stream",
       "stream": "stdout",
       "text": [
        " SC M2\n",
        "Processing"
       ]
      },
      {
       "output_type": "stream",
       "stream": "stdout",
       "text": [
        " SC THETA\n",
        "Processing"
       ]
      },
      {
       "output_type": "stream",
       "stream": "stdout",
       "text": [
        " SC PHI\n",
        "Processing"
       ]
      },
      {
       "output_type": "stream",
       "stream": "stdout",
       "text": [
        " SC ALPHA\n",
        "Processing"
       ]
      },
      {
       "output_type": "stream",
       "stream": "stdout",
       "text": [
        " SH M1\n",
        "Processing"
       ]
      },
      {
       "output_type": "stream",
       "stream": "stdout",
       "text": [
        " SH M2\n",
        "Processing"
       ]
      },
      {
       "output_type": "stream",
       "stream": "stdout",
       "text": [
        " SH THETA\n",
        "Processing"
       ]
      },
      {
       "output_type": "stream",
       "stream": "stdout",
       "text": [
        " SH PHI\n",
        "Processing"
       ]
      },
      {
       "output_type": "stream",
       "stream": "stdout",
       "text": [
        " SH ALPHA\n",
        "Processing"
       ]
      },
      {
       "output_type": "stream",
       "stream": "stdout",
       "text": [
        " SF M1\n",
        "Processing"
       ]
      },
      {
       "output_type": "stream",
       "stream": "stdout",
       "text": [
        " SF M2\n",
        "Processing"
       ]
      },
      {
       "output_type": "stream",
       "stream": "stdout",
       "text": [
        " SF THETA\n",
        "Processing"
       ]
      },
      {
       "output_type": "stream",
       "stream": "stdout",
       "text": [
        " SF PHI\n",
        "Processing"
       ]
      },
      {
       "output_type": "stream",
       "stream": "stdout",
       "text": [
        " SF ALPHA\n",
        "*** Processing VST3 ***"
       ]
      },
      {
       "output_type": "stream",
       "stream": "stdout",
       "text": [
        "\n",
        "\n",
        "*** Processing 2.0-2.5_1.300-1.325 ***\n",
        "\n",
        "*** 1. Processing h8->h5 ***\n",
        "1.1 For h8(VST3,ST),finished setting Q2-,W-bin range = [5,6],[13,13] ***\n",
        "1.1 For h8(VST3,SR),finished setting Q2-,W-bin range = [5,6],[13,13] ***"
       ]
      },
      {
       "output_type": "stream",
       "stream": "stdout",
       "text": [
        "\n",
        "1.2 Making projections: h8->h5"
       ]
      },
      {
       "output_type": "stream",
       "stream": "stdout",
       "text": [
        "\n",
        "Processed h5['ST'],h5['SR']. Number of respective entries=198853353,36724877"
       ]
      },
      {
       "output_type": "stream",
       "stream": "stderr",
       "text": [
        "WARNING:ROOT.THnSparseT<TArrayF>.Divide(h)] Histogram h has empty bins - division by zero! Setting bin to 0.\n"
       ]
      },
      {
       "output_type": "stream",
       "stream": "stderr",
       "text": [
        "WARNING:ROOT.THnSparseT<TArrayF>.Divide(h)] Histogram h has empty bins - division by zero! Setting bin to 0.\n"
       ]
      },
      {
       "output_type": "stream",
       "stream": "stdout",
       "text": [
        "\n",
        "Processed h5['SA']. Number of entries= 36724877.0\n",
        "Processed h5['SC']. Number of entries= 36724877.0\n",
        "Processed h5['SH']. Number of entries= 162130776.0\n",
        "Processed h5['SF']. Number of entries= 198855653.0\n",
        "\n",
        "*** 2. Processing h5->h1 ***\n",
        "Processing"
       ]
      },
      {
       "output_type": "stream",
       "stream": "stdout",
       "text": [
        " ST M1\n",
        "Processing"
       ]
      },
      {
       "output_type": "stream",
       "stream": "stdout",
       "text": [
        " ST M2\n",
        "Processing"
       ]
      },
      {
       "output_type": "stream",
       "stream": "stdout",
       "text": [
        " ST THETA\n",
        "Processing"
       ]
      },
      {
       "output_type": "stream",
       "stream": "stdout",
       "text": [
        " ST PHI\n",
        "Processing"
       ]
      },
      {
       "output_type": "stream",
       "stream": "stdout",
       "text": [
        " ST ALPHA\n",
        "Processing"
       ]
      },
      {
       "output_type": "stream",
       "stream": "stdout",
       "text": [
        " SR M1\n",
        "Processing"
       ]
      },
      {
       "output_type": "stream",
       "stream": "stdout",
       "text": [
        " SR M2\n",
        "Processing"
       ]
      },
      {
       "output_type": "stream",
       "stream": "stdout",
       "text": [
        " SR THETA\n",
        "Processing"
       ]
      },
      {
       "output_type": "stream",
       "stream": "stdout",
       "text": [
        " SR PHI\n",
        "Processing"
       ]
      },
      {
       "output_type": "stream",
       "stream": "stdout",
       "text": [
        " SR ALPHA\n",
        "Processing"
       ]
      },
      {
       "output_type": "stream",
       "stream": "stdout",
       "text": [
        " SA M1\n",
        "Processing"
       ]
      },
      {
       "output_type": "stream",
       "stream": "stdout",
       "text": [
        " SA M2\n",
        "Processing"
       ]
      },
      {
       "output_type": "stream",
       "stream": "stdout",
       "text": [
        " SA THETA\n",
        "Processing"
       ]
      },
      {
       "output_type": "stream",
       "stream": "stdout",
       "text": [
        " SA PHI\n",
        "Processing"
       ]
      },
      {
       "output_type": "stream",
       "stream": "stdout",
       "text": [
        " SA ALPHA\n",
        "Processing"
       ]
      },
      {
       "output_type": "stream",
       "stream": "stdout",
       "text": [
        " SC M1\n",
        "Processing"
       ]
      },
      {
       "output_type": "stream",
       "stream": "stdout",
       "text": [
        " SC M2\n",
        "Processing"
       ]
      },
      {
       "output_type": "stream",
       "stream": "stdout",
       "text": [
        " SC THETA\n",
        "Processing"
       ]
      },
      {
       "output_type": "stream",
       "stream": "stdout",
       "text": [
        " SC PHI\n",
        "Processing"
       ]
      },
      {
       "output_type": "stream",
       "stream": "stdout",
       "text": [
        " SC ALPHA\n",
        "Processing"
       ]
      },
      {
       "output_type": "stream",
       "stream": "stdout",
       "text": [
        " SH M1\n",
        "Processing"
       ]
      },
      {
       "output_type": "stream",
       "stream": "stdout",
       "text": [
        " SH M2\n",
        "Processing"
       ]
      },
      {
       "output_type": "stream",
       "stream": "stdout",
       "text": [
        " SH THETA\n",
        "Processing"
       ]
      },
      {
       "output_type": "stream",
       "stream": "stdout",
       "text": [
        " SH PHI\n",
        "Processing"
       ]
      },
      {
       "output_type": "stream",
       "stream": "stdout",
       "text": [
        " SH ALPHA\n",
        "Processing"
       ]
      },
      {
       "output_type": "stream",
       "stream": "stdout",
       "text": [
        " SF M1\n",
        "Processing"
       ]
      },
      {
       "output_type": "stream",
       "stream": "stdout",
       "text": [
        " SF M2\n",
        "Processing"
       ]
      },
      {
       "output_type": "stream",
       "stream": "stdout",
       "text": [
        " SF THETA\n",
        "Processing"
       ]
      },
      {
       "output_type": "stream",
       "stream": "stdout",
       "text": [
        " SF PHI\n",
        "Processing"
       ]
      },
      {
       "output_type": "stream",
       "stream": "stdout",
       "text": [
        " SF ALPHA\n"
       ]
      }
     ],
     "prompt_number": 19
    },
    {
     "cell_type": "code",
     "collapsed": false,
     "input": [],
     "language": "python",
     "metadata": {},
     "outputs": []
    }
   ],
   "metadata": {}
  }
 ]
}