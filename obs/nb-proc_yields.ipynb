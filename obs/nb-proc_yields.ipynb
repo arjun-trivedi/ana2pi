{
 "metadata": {
  "name": ""
 },
 "nbformat": 3,
 "nbformat_minor": 0,
 "worksheets": [
  {
   "cells": [
    {
     "cell_type": "code",
     "collapsed": false,
     "input": [
      "from array import *"
     ],
     "language": "python",
     "metadata": {},
     "outputs": [],
     "prompt_number": 1
    },
    {
     "cell_type": "code",
     "collapsed": false,
     "input": [
      "#! Setup indexing for h8 bins\n",
      "[HEL,Q2,W,M1,M2,THETA,PHI,ALPHA]=range(8)\n",
      "h8_dims= [HEL,Q2,W,M1,M2,THETA,PHI,ALPHA]\n",
      "print h8_dims[HEL]"
     ],
     "language": "python",
     "metadata": {},
     "outputs": [
      {
       "output_type": "stream",
       "stream": "stdout",
       "text": [
        "0\n"
       ]
      }
     ],
     "prompt_number": 2
    },
    {
     "cell_type": "code",
     "collapsed": false,
     "input": [
      "DATADIR=os.environ['OBS_DATADIR_EXP']\n",
      "print DATADIR\n",
      "ANADIR=os.environ['ANA2PI_OBS']\n",
      "print ANADIR"
     ],
     "language": "python",
     "metadata": {},
     "outputs": [
      {
       "output_type": "stream",
       "stream": "stdout",
       "text": [
        "/data/trivedia/e1f/exp/2pi\n",
        "/home/trivedia/CLAS/workspace/ana2pi/obs\n"
       ]
      }
     ],
     "prompt_number": 3
    },
    {
     "cell_type": "code",
     "collapsed": false,
     "input": [
      "f=ROOT.TFile(os.path.join(DATADIR,'d2pi.root'))\n",
      "h8=f.Get('d2piR/top1/yield_varset1')\n",
      "#! Project out HEL: h8->h7\n",
      "t=array('i',[Q2,W,M1,M2,THETA,PHI,ALPHA])\n",
      "print t\n",
      "h7=h8.Projection(7,t,\"E\")\n",
      "print h7.GetNdimensions()\n",
      "print h7.GetAxis(1).GetXmin()\n",
      "print h7.GetAxis(1).GetXmax()"
     ],
     "language": "python",
     "metadata": {},
     "outputs": [
      {
       "output_type": "stream",
       "stream": "stdout",
       "text": [
        "array('i', [1, 2, 3, 4, 5, 6, 7])\n",
        "7"
       ]
      },
      {
       "output_type": "stream",
       "stream": "stdout",
       "text": [
        "\n",
        "1.0\n",
        "3.0\n"
       ]
      }
     ],
     "prompt_number": 4
    },
    {
     "cell_type": "code",
     "collapsed": false,
     "input": [
      "#['EXP','SIM']=range(2)\n",
      "#DTYP=['EXP','SIM']\n",
      "h8={}\n",
      "h7={}\n",
      "h7_projdims_indices=array('i',[Q2,W,M1,M2,THETA,PHI,ALPHA])\n",
      "rfile=os.path.join(os.environ['OBS_DATADIR_SIM'],'q2w2','sim_1','d2pi.root')\n",
      "f=ROOT.TFile(rfile)\n",
      "h8['ST']=f.Get('d2piT/yield_varset1')\n",
      "h8['SR']=f.Get('d2piR/top2/yield_varset1')\n",
      "h7['ST']=h8['ST'].Projection(7,h7_projdims_indices,\"E\")\n",
      "h7['SR']=h8['SR'].Projection(7,h7_projdims_indices,\"E\")\n",
      "h7['SA']=h7['SR'].Clone()\n",
      "h7['SA'].Divide(h7['ST'])\n",
      "#print h8[EXP].GetNbins(),h8[SIM].GetNbins()\n",
      "#print h7['EXP'].GetNbins(),h7['SIM'].GetNbins()"
     ],
     "language": "python",
     "metadata": {},
     "outputs": [
      {
       "output_type": "stream",
       "stream": "stderr",
       "text": [
        "INFO:rootpy.logger] | No default log handler configured. See `logging` module |\n"
       ]
      },
      {
       "output_type": "stream",
       "stream": "stderr",
       "text": [
        "INFO:rootpy.logger] \\    To suppress: 'rootpy.log.basic_config_colorized()'   /\n"
       ]
      },
      {
       "output_type": "stream",
       "stream": "stderr",
       "text": [
        "WARNING:ROOT.THnSparseT<TArrayF>.Divide(h)] Histogram h has empty bins - division by zero! Setting bin to 0.\n"
       ]
      }
     ],
     "prompt_number": 5
    },
    {
     "cell_type": "code",
     "collapsed": false,
     "input": [
      "print h7['ST'].GetNbins(),"
     ],
     "language": "python",
     "metadata": {},
     "outputs": []
    }
   ],
   "metadata": {}
  }
 ]
}