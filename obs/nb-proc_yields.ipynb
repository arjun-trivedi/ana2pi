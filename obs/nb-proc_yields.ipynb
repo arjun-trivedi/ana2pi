{
 "metadata": {
  "name": ""
 },
 "nbformat": 3,
 "nbformat_minor": 0,
 "worksheets": [
  {
   "cells": [
    {
     "cell_type": "code",
     "collapsed": false,
     "input": [
      "from array import *\n",
      "ROOT.gSystem.Load(\"THnTool_C.so\")\n",
      "from ROOT import THnTool\n",
      "thntool=THnTool()\n"
     ],
     "language": "python",
     "metadata": {},
     "outputs": [],
     "prompt_number": 6
    },
    {
     "cell_type": "code",
     "collapsed": false,
     "input": [
      "#! Setup indexing for h8 bins\n",
      "[HEL,Q2,W,M1,M2,THETA,PHI,ALPHA]=range(8)\n",
      "h8_dims= [HEL,Q2,W,M1,M2,THETA,PHI,ALPHA]\n",
      "print h8_dims[HEL]"
     ],
     "language": "python",
     "metadata": {},
     "outputs": [
      {
       "output_type": "stream",
       "stream": "stdout",
       "text": [
        "0\n"
       ]
      }
     ],
     "prompt_number": 7
    },
    {
     "cell_type": "code",
     "collapsed": false,
     "input": [
      "DATADIR=os.environ['OBS_DATADIR_EXP']\n",
      "print DATADIR\n",
      "ANADIR=os.environ['ANA2PI_OBS']\n",
      "print ANADIR"
     ],
     "language": "python",
     "metadata": {},
     "outputs": [
      {
       "output_type": "stream",
       "stream": "stdout",
       "text": [
        "/data/trivedia/e1f/exp/2pi\n",
        "/home/trivedia/CLAS/workspace/ana2pi/obs\n"
       ]
      }
     ],
     "prompt_number": 8
    },
    {
     "cell_type": "code",
     "collapsed": false,
     "input": [
      "#['EXP','SIM']=range(2)\n",
      "#DTYP=['EXP','SIM']\n",
      "h8={}\n",
      "h7={}\n",
      "h7_projdims_indices=array('i',[Q2,W,M1,M2,THETA,PHI,ALPHA])\n",
      "rfile=os.path.join(os.environ['OBS_DATADIR_SIM'],'q2w2','sim_1','d2pi.root')\n",
      "f=ROOT.TFile(rfile)\n",
      "h8['ST']=f.Get('d2piT/yield_varset1')\n",
      "h8['SR']=f.Get('d2piR/top2/yield_varset1')\n",
      "#! Fetch ST,SR directly from file\n",
      "h7['ST']=h8['ST'].Projection(7,h7_projdims_indices,\"E\")\n",
      "h7['SR']=h8['SR'].Projection(7,h7_projdims_indices,\"E\")\n",
      "#! Calculate SA\n",
      "h7['SA']=h7['SR'].Clone()\n",
      "h7['SA'].Divide(h7['ST'])\n",
      "#! Calculate SC\n",
      "h7['SC']=h7['SR'].Clone()\n",
      "h7['SC'].Divide(h7['SA'])\n",
      "#! Calculate SH\n",
      "h7['SH']=h7['ST'].Clone()\n",
      "h7['SH'].Add(h7['SC'],-1)\n",
      "thntool.SetUnderOverFLowBinsToZero(h7['SH'])\n",
      "#! Calculate SF\n",
      "h7['SF']=h7['SC'].Clone()\n",
      "h7['SF'].Add(h7['SH'],1)"
     ],
     "language": "python",
     "metadata": {},
     "outputs": [
      {
       "output_type": "stream",
       "stream": "stderr",
       "text": [
        "WARNING:ROOT.THnSparseT<TArrayF>.Divide(h)] Histogram h has empty bins - division by zero! Setting bin to 0.\n"
       ]
      },
      {
       "output_type": "stream",
       "stream": "stderr",
       "text": [
        "WARNING:ROOT.THnSparseT<TArrayF>.Divide(h)] Histogram h has empty bins - division by zero! Setting bin to 0.\n"
       ]
      }
     ],
     "prompt_number": 13
    },
    {
     "cell_type": "code",
     "collapsed": false,
     "input": [
      "print h7['ST'].GetNbins(),h7['SR'].GetNbins(),h7['SA'].GetNbins(),h7['SC'].GetNbins(),h7['SH'].GetNbins(),h7['SF'].GetNbins()"
     ],
     "language": "python",
     "metadata": {},
     "outputs": [
      {
       "output_type": "stream",
       "stream": "stdout",
       "text": [
        "13737899 6768455 6768455 6768455 14427222 14427222\n"
       ]
      }
     ],
     "prompt_number": 14
    },
    {
     "cell_type": "code",
     "collapsed": false,
     "input": [
      "h={}\n",
      "h['Q2','ST']=h7['ST'].Projection(0,\"E\")\n",
      "h['Q2','ST'].SetName(\"ST\")\n",
      "h['Q2','SR']=h7['ST'].Projection(0,\"E\")\n",
      "h['Q2','SR'].SetName(\"SR\")\n",
      "h['Q2','SA']=h7['ST'].Projection(0,\"E\")\n",
      "h['Q2','SA'].SetName(\"SA\")\n",
      "h['Q2','SC']=h7['ST'].Projection(0,\"E\")\n",
      "h['Q2','SC'].SetName(\"SC\")\n",
      "h['Q2','SH']=h7['ST'].Projection(0,\"E\")\n",
      "h['Q2','SH'].SetName(\"SH\")\n",
      "h['Q2','SF']=h7['ST'].Projection(0,\"E\")\n",
      "h['Q2','SF'].SetName(\"SF\")"
     ],
     "language": "python",
     "metadata": {},
     "outputs": [
      {
       "output_type": "stream",
       "stream": "stderr",
       "text": [
        "WARNING:ROOT.TFile.Append] Replacing existing TH1: yield_varset1_proj_1_2_3_4_5_6_7_proj_0 (Potential memory leak).\n"
       ]
      },
      {
       "output_type": "stream",
       "stream": "stderr",
       "text": [
        "WARNING:ROOT.TFile.Append] Replacing existing TH1: yield_varset1_proj_1_2_3_4_5_6_7_proj_0 (Potential memory leak).\n"
       ]
      },
      {
       "output_type": "stream",
       "stream": "stderr",
       "text": [
        "WARNING:ROOT.TFile.Append] Replacing existing TH1: yield_varset1_proj_1_2_3_4_5_6_7_proj_0 (Potential memory leak).\n"
       ]
      },
      {
       "output_type": "stream",
       "stream": "stderr",
       "text": [
        "WARNING:ROOT.TFile.Append] Replacing existing TH1: yield_varset1_proj_1_2_3_4_5_6_7_proj_0 (Potential memory leak).\n"
       ]
      },
      {
       "output_type": "stream",
       "stream": "stderr",
       "text": [
        "WARNING:ROOT.TFile.Append] Replacing existing TH1: yield_varset1_proj_1_2_3_4_5_6_7_proj_0 (Potential memory leak).\n"
       ]
      }
     ],
     "prompt_number": 27
    },
    {
     "cell_type": "code",
     "collapsed": false,
     "input": [
      "import rootnotes\n",
      "c=rootnotes.default_canvas()\n",
      "c.Divide(3,3)\n",
      "for i in range(len(h)):\n",
      "    print h.values()[0].GetName()\n",
      "    "
     ],
     "language": "python",
     "metadata": {},
     "outputs": [
      {
       "output_type": "stream",
       "stream": "stdout",
       "text": [
        "yield_varset1_proj_1_2_3_4_5_6_7_proj_0\n",
        "yield_varset1_proj_1_2_3_4_5_6_7_proj_0\n",
        "yield_varset1_proj_1_2_3_4_5_6_7_proj_0\n",
        "yield_varset1_proj_1_2_3_4_5_6_7_proj_0\n",
        "yield_varset1_proj_1_2_3_4_5_6_7_proj_0\n",
        "yield_varset1_proj_1_2_3_4_5_6_7_proj_0\n"
       ]
      }
     ],
     "prompt_number": 25
    },
    {
     "cell_type": "code",
     "collapsed": false,
     "input": [],
     "language": "python",
     "metadata": {},
     "outputs": []
    }
   ],
   "metadata": {}
  }
 ]
}