{
 "metadata": {
  "name": ""
 },
 "nbformat": 3,
 "nbformat_minor": 0,
 "worksheets": [
  {
   "cells": [
    {
     "cell_type": "code",
     "collapsed": false,
     "input": [
      "#! Imports\n",
      "from array import *\n",
      "from collections import OrderedDict\n",
      "\n",
      "import atlib as atlib\n",
      "\n",
      "ROOT.gROOT.ProcessLine(\".L THnTool.C+\")\n",
      "#ROOT.gSystem.Load(\"THnTool_C.so\")\n",
      "\n",
      "from ROOT import THnTool\n",
      "thntool=THnTool()\n",
      "\n",
      "#NTOPS=4;#['TOP1','TOP2','TOP3','TOP4']\n",
      "TOPS=[1,2,3,4]\n",
      "#NVSTS=3;#['VST1','VST3']#['VST1','VST2']#,'VST3']\n",
      "VSTS=[1,2,3]\n",
      "\n",
      "SEQ={}\n",
      "SEQ['SIM']=['ST','SR','SA','SC','SH','SF']\n",
      "SEQ['EXP']=['ER','EC','EH','EF']\n",
      "# for iseq,seq in enumerate(SEQ['SIM']):\n",
      "#     print iseq,seq\n",
      "\n",
      "VARS=['M1','M2','THETA','PHI','ALPHA']\n",
      "# for ivar, var in enumerate(VARS):\n",
      "#     print ivar,var\n"
     ],
     "language": "python",
     "metadata": {},
     "outputs": [],
     "prompt_number": 1
    },
    {
     "cell_type": "code",
     "collapsed": false,
     "input": [
      "#! Define some q2w_i binnings; where sum_i_n(q2w_i)=q2w-F\n",
      "q2w2=[[2.0,2.5,0.5],[1.3,1.9,0.025]] #min,max,width \n",
      "Q2BNG,WBNG=atlib.init_q2wbng2(q2w2)\n",
      "#! Test Q2WBNG, WBNG\n",
      "# print \"Q2 bins=\",Q2BNG['BINS']\n",
      "# print \"W bins=\",WBNG['BINS']\n",
      "# for i in range(Q2BNG['NBINS']):\n",
      "#     print \"Q2 bin:\",i+1\n",
      "#     print Q2BNG['BINS_LE'][i]\n",
      "#     print Q2BNG['BINS_UE'][i]\n",
      "# for i in range(WBNG['NBINS']):\n",
      "#     print \"W bin:\",i+1\n",
      "#     print WBNG['BINS_LE'][i]\n",
      "#     print WBNG['BINS_UE'][i]    \n"
     ],
     "language": "python",
     "metadata": {},
     "outputs": [],
     "prompt_number": 2
    },
    {
     "cell_type": "code",
     "collapsed": false,
     "input": [
      "#h8_dim={'HEL':0,'Q2':1,'W':2,'M1':3,'M2':4,'THETA':6,'PHI':7,'ALPHA':8}\n",
      "#! See http://stackoverflow.com/questions/16553506/python-ordereddict-iteration for following code\n",
      "H8_DIM=OrderedDict([('HEL',0),('Q2',1),('W',2),('M1',3),('M2',4),('THETA',5),('PHI',6),('ALPHA',7)])\n",
      "H5_PROJDIM=array('i',[H8_DIM['M1'],H8_DIM['M2'],H8_DIM['THETA'],H8_DIM['PHI'],\n",
      "                      H8_DIM['ALPHA']])\n",
      "# print H8_DIM \n",
      "# print H8_DIM.keys()\n",
      "# print H8_DIM.values()\n",
      "\n",
      "H5_DIM=OrderedDict([('M1',0),('M2',1),('THETA',2),('PHI',3),('ALPHA',4)])\n",
      "# print H5_DIM \n",
      "# print H5_DIM.keys()\n",
      "# print H5_DIM.values()"
     ],
     "language": "python",
     "metadata": {},
     "outputs": [],
     "prompt_number": 3
    },
    {
     "cell_type": "code",
     "collapsed": false,
     "input": [
      "DATADIR=os.environ['OBS_DATADIR_EXP']\n",
      "print DATADIR\n",
      "ANADIR=os.environ['ANA2PI_OBS']\n",
      "print ANADIR"
     ],
     "language": "python",
     "metadata": {},
     "outputs": [
      {
       "output_type": "stream",
       "stream": "stdout",
       "text": [
        "/data/trivedia/e1f/exp/2pi\n",
        "/home/trivedia/CLAS/workspace/ana2pi/obs\n"
       ]
      }
     ],
     "prompt_number": 4
    },
    {
     "cell_type": "code",
     "collapsed": false,
     "input": [
      "h8=OrderedDict()\n",
      "\n",
      "rfile=os.path.join(os.environ['OBS_DATADIR_SIM'],'q2w2','sim_1','d2pi.root')\n",
      "f=ROOT.TFile(rfile)\n",
      "\n",
      "#! Fetch ST-,SR-h8 directly from file (Add all tops)\n",
      "for vst in VSTS:\n",
      "    print \"Going to get\",'d2piT/yield_varset%d'%vst,\"...\"\n",
      "    h8['ST','VST%d'%vst]=f.Get('d2piT/yield_varset%d'%vst)\n",
      "    print \"Done getting\",'d2piT/yield_varset%d'%vst\n",
      "    #! For SR, add all tops\n",
      "    for itop,top in enumerate(TOPS):\n",
      "        if itop==0:\n",
      "            print \"Going to get\",'d2piR/top%d/yield_varset%d'%(top,vst),\"...\"\n",
      "            h8['SR','VST%d'%vst]=f.Get('d2piR/top%d/yield_varset%d'%(top,vst))\n",
      "            print \"Done getting\",'d2piR/top%d/yield_varset%d'%(top,vst)\n",
      "        else:\n",
      "            print \"Going to get and add to top1\",'d2piR/top%d/yield_varset%d'%(top,vst),\"...\"\n",
      "            h8['SR','VST%d'%vst].Add(f.Get('d2piR/top%d/yield_varset%d'%(top,vst)))\n",
      "            print \"Done gettng and adding to top1\",'d2piR/top%d/yield_varset%d'%(top,vst)"
     ],
     "language": "python",
     "metadata": {},
     "outputs": [
      {
       "output_type": "stream",
       "stream": "stdout",
       "text": [
        "Going to get d2piT/yield_varset1 ...\n",
        "Done getting"
       ]
      },
      {
       "output_type": "stream",
       "stream": "stdout",
       "text": [
        " d2piT/yield_varset1\n",
        "Going to get d2piR/top1/yield_varset1 ...\n",
        "Done getting"
       ]
      },
      {
       "output_type": "stream",
       "stream": "stdout",
       "text": [
        " d2piR/top1/yield_varset1\n",
        "Going to get and add to top1 d2piR/top2/yield_varset1 ...\n",
        "Done gettng and adding to top1"
       ]
      },
      {
       "output_type": "stream",
       "stream": "stdout",
       "text": [
        " d2piR/top2/yield_varset1\n",
        "Going to get and add to top1 d2piR/top3/yield_varset1 ...\n",
        "Done gettng and adding to top1"
       ]
      },
      {
       "output_type": "stream",
       "stream": "stdout",
       "text": [
        " d2piR/top3/yield_varset1\n",
        "Going to get and add to top1 d2piR/top4/yield_varset1 ...\n",
        "Done gettng and adding to top1"
       ]
      },
      {
       "output_type": "stream",
       "stream": "stdout",
       "text": [
        " d2piR/top4/yield_varset1\n",
        "Going to get d2piT/yield_varset2 ...\n",
        "Done getting"
       ]
      },
      {
       "output_type": "stream",
       "stream": "stdout",
       "text": [
        " d2piT/yield_varset2\n",
        "Going to get d2piR/top1/yield_varset2 ...\n",
        "Done getting"
       ]
      },
      {
       "output_type": "stream",
       "stream": "stdout",
       "text": [
        " d2piR/top1/yield_varset2\n",
        "Going to get and add to top1 d2piR/top2/yield_varset2 ...\n",
        "Done gettng and adding to top1"
       ]
      },
      {
       "output_type": "stream",
       "stream": "stdout",
       "text": [
        " d2piR/top2/yield_varset2\n",
        "Going to get and add to top1 d2piR/top3/yield_varset2 ...\n",
        "Done gettng and adding to top1"
       ]
      },
      {
       "output_type": "stream",
       "stream": "stdout",
       "text": [
        " d2piR/top3/yield_varset2\n",
        "Going to get and add to top1 d2piR/top4/yield_varset2 ...\n",
        "Done gettng and adding to top1"
       ]
      },
      {
       "output_type": "stream",
       "stream": "stdout",
       "text": [
        " d2piR/top4/yield_varset2\n",
        "Going to get d2piT/yield_varset3 ...\n",
        "Done getting"
       ]
      },
      {
       "output_type": "stream",
       "stream": "stdout",
       "text": [
        " d2piT/yield_varset3\n",
        "Going to get d2piR/top1/yield_varset3 ...\n",
        "Done getting"
       ]
      },
      {
       "output_type": "stream",
       "stream": "stdout",
       "text": [
        " d2piR/top1/yield_varset3\n",
        "Going to get and add to top1 d2piR/top2/yield_varset3 ...\n",
        "Done gettng and adding to top1"
       ]
      },
      {
       "output_type": "stream",
       "stream": "stdout",
       "text": [
        " d2piR/top2/yield_varset3\n",
        "Going to get and add to top1 d2piR/top3/yield_varset3 ...\n",
        "Done gettng and adding to top1"
       ]
      },
      {
       "output_type": "stream",
       "stream": "stdout",
       "text": [
        " d2piR/top3/yield_varset3\n",
        "Going to get and add to top1 d2piR/top4/yield_varset3 ...\n",
        "Done gettng and adding to top1"
       ]
      },
      {
       "output_type": "stream",
       "stream": "stdout",
       "text": [
        " d2piR/top4/yield_varset3\n"
       ]
      }
     ],
     "prompt_number": 5
    },
    {
     "cell_type": "code",
     "collapsed": false,
     "input": [
      "for k in h8:\n",
      "    print k,h8[k].GetEntries()"
     ],
     "language": "python",
     "metadata": {},
     "outputs": [
      {
       "output_type": "stream",
       "stream": "stdout",
       "text": [
        "('ST', 'VST1') 198853353.0\n",
        "('SR', 'VST1') 36724877.0\n",
        "('ST', 'VST2') 198853353.0\n",
        "('SR', 'VST2') 36724877.0\n",
        "('ST', 'VST3') 198853353.0\n",
        "('SR', 'VST3') 36724877.0\n"
       ]
      }
     ],
     "prompt_number": 6
    },
    {
     "cell_type": "code",
     "collapsed": false,
     "input": [
      "#! Loop over VSTS,[Q2BNG,WBNG],SEQ, and project: h8->h5->h1\n",
      "fout=ROOT.TFile(\"test.root\",\"RECREATE\")\n",
      "for vst in VSTS:\n",
      "    for i in range(Q2BNG['NBINS']):\n",
      "        for j in range(WBNG['NBINS']):\n",
      "            if j>0: break\n",
      "            q2wdir=\"%0.1f-%0.1f_%0.3f-%0.3f\"%(Q2BNG['BINS_LE'][i],Q2BNG['BINS_UE'][i],\n",
      "                                              WBNG['BINS_LE'][i],WBNG['BINS_UE'][i])\n",
      "            #! ST-h8,SR-h8: Set range for HEL,Q2,W\n",
      "            for seq in SEQ['SIM']:\n",
      "                if seq=='ST' or seq=='SR':\n",
      "                    #! Create outdir: in OS and ROOT file\n",
      "                    #!-- OS\n",
      "                    outdir=os.path.join(ANADIR,'q2w2','VST%d'%vst,q2wdir,seq)\n",
      "                    if not os.path.exists(outdir):\n",
      "                        os.makedirs(outdir)\n",
      "                    #! -- ROOT file\n",
      "                    ret=fout.GetDirectory('VST%d'%vst)\n",
      "                    if ret==None:\n",
      "                        fout.mkdir('VST%d'%vst).cd()\n",
      "                        ret=ROOT.gDirectory.GetDirectory(q2wdir)\n",
      "                        if ret==None:\n",
      "                            ROOT.gDirectory.mkdir(q2wdir)\n",
      "                    fout.cd(\"%s/%s\"%('VST%d'%vst,q2wdir))\n",
      "                    ROOT.gDirectory.mkdir(seq).cd()\n",
      "                    #!-- HEL: include all helicities\n",
      "                    h8[seq,'VST%d'%vst].GetAxis(H8_DIM['HEL']).SetRange()\n",
      "                    #!-- Q2\n",
      "                    q2bin_le=h8[seq,'VST%d'%vst].GetAxis(H8_DIM['Q2']).FindBin(Q2BNG['BINS_LE'][i])\n",
      "                    q2bin_ue=h8[seq,'VST%d'%vst].GetAxis(H8_DIM['Q2']).FindBin(Q2BNG['BINS_UE'][i])\n",
      "                    h8[seq,'VST%d'%vst].GetAxis(H8_DIM['Q2']).SetRange(q2bin_le,q2bin_ue)\n",
      "                    #!-- W\n",
      "                    wbin_le=h8[seq,'VST%d'%vst].GetAxis(H8_DIM['W']).FindBin(WBNG['BINS_LE'][j])\n",
      "                    wbin_ue=h8[seq,'VST%d'%vst].GetAxis(H8_DIM['W']).FindBin(WBNG['BINS_UE'][j])\n",
      "                    h8[seq,'VST%d'%vst].GetAxis(H8_DIM['W']).SetRange(wbin_le,wbin_ue)\n",
      "                    print q2bin_le,q2bin_ue,wbin_le,wbin_ue\n",
      "                    #! Project out hq2w\n",
      "                    hq2w=h8[seq,'VST%d'%vst].Projection(H8_DIM['Q2'],H8_DIM['W'],\"E\")\n",
      "                    hq2w.SetNameTitle(\"h%s_%s_q2w\"%('VST%d'%vst,seq),\"h%s_%s_q2w\"%('VST%d'%vst,seq))\n",
      "                    hq2w.Write()\n",
      "                    cq2w=ROOT.TCanvas(hq2w.GetName(),hq2w.GetTitle())\n",
      "                    hq2w.Draw(\"colz\")\n",
      "                    cq2w.SaveAs(\"%s/%s.png\"%(outdir,cq2w.GetName()))\n",
      "                    cq2w.Close()\n",
      "        \n",
      "            #! h8->h5  \n",
      "            h5=OrderedDict()\n",
      "            #for vst in VSTS:\n",
      "            print vst\n",
      "            h5['ST','VST%d'%vst]=h8['ST','VST%d'%vst].Projection(5,H5_PROJDIM,\"E\")\n",
      "            h5['SR','VST%d'%vst]=h8['SR','VST%d'%vst].Projection(5,H5_PROJDIM,\"E\")\n",
      "            print \"ST,SR:\",h5['ST','VST%d'%vst].GetEntries(),h5['SR','VST%d'%vst].GetEntries()\n",
      "            #! Calculate SA\n",
      "            h5['SA','VST%d'%vst]=h5['SR','VST%d'%vst].Clone()\n",
      "            h5['SA','VST%d'%vst].Divide(h5['ST','VST%d'%vst])\n",
      "            print \"SA:\",h5['SA','VST%d'%vst].GetEntries()\n",
      "            #! Calculate SC\n",
      "            h5['SC','VST%d'%vst]=h5['SR','VST%d'%vst].Clone()\n",
      "            h5['SC','VST%d'%vst].Divide(h5['SA','VST%d'%vst])\n",
      "            print \"SC\", h5['SC','VST%d'%vst].GetEntries()\n",
      "            #! Calculate SH\n",
      "            h5['SH','VST%d'%vst]=h5['ST','VST%d'%vst].Clone()\n",
      "            h5['SH','VST%d'%vst].Add(h5['SC','VST%d'%vst],-1)\n",
      "            print \"SH1:\",h5['SH','VST%d'%vst].GetEntries()\n",
      "            thntool.SetUnderOverFLowBinsToZero(h5['SH','VST%d'%vst])\n",
      "            print \"SH2\", h5['SH','VST%d'%vst].GetEntries()\n",
      "            #! Calculate SF\n",
      "            h5['SF','VST%d'%vst]=h5['SC','VST%d'%vst].Clone()\n",
      "            h5['SF','VST%d'%vst].Add(h5['SH','VST%d'%vst],1)\n",
      "            print \"SF\",h5['SF','VST%d'%vst].GetEntries()\n",
      "        \n",
      "            #! h5->h1\n",
      "            #for vst in VSTS:\n",
      "            for seq in SEQ['SIM']:\n",
      "                #! Create outdir: in OS and ROOT file\n",
      "                #!-- OS\n",
      "                outdir=os.path.join(ANADIR,'q2w2','VST%d'%vst,q2wdir,seq)\n",
      "                if not os.path.exists(outdir):\n",
      "                    os.makedirs(outdir)\n",
      "                #! -- ROOT file\n",
      "                ret=fout.GetDirectory(\"%s/%s/%s\"%('VST%d'%vst,q2wdir,seq))\n",
      "                if ret==None:\n",
      "                    fout.cd(\"%s/%s\"%('VST%d'%vst,q2wdir))\n",
      "                    ROOT.gDirectory.mkdir(seq).cd()\n",
      "                else:\n",
      "                    fout.cd(\"%s/%s/%s\"%('VST%d'%vst,q2wdir,seq))\n",
      "\n",
      "                #! Project out h1s\n",
      "                for ivar, var in enumerate(VARS):\n",
      "                    h=h5[seq,'VST%d'%vst].Projection(H5_DIM[var],\"E\")\n",
      "                    h.SetNameTitle(\"h%s_%s_%s\"%('VST%d'%vst,seq,var),\"h%s_%s_%s\"%('VST%d'%vst,seq,var))\n",
      "                    h.Write()\n",
      "                    c=ROOT.TCanvas(h.GetName(),h.GetTitle())\n",
      "                    h.Draw()\n",
      "                    c.SaveAs(\"%s/%s.png\"%(outdir,c.GetName()))\n",
      "                    c.Close()\n",
      "fout.Close()      "
     ],
     "language": "python",
     "metadata": {},
     "outputs": [
      {
       "output_type": "stream",
       "stream": "stderr",
       "text": [
        "INFO:rootpy.logger] | No default log handler configured. See `logging` module |\n"
       ]
      },
      {
       "output_type": "stream",
       "stream": "stderr",
       "text": [
        "INFO:rootpy.logger] \\    To suppress: 'rootpy.log.basic_config_colorized()'   /\n"
       ]
      },
      {
       "output_type": "stream",
       "stream": "stderr",
       "text": [
        "INFO:ROOT.TCanvas.Print] png file /home/trivedia/CLAS/workspace/ana2pi/obs/q2w2/VST1/2.0-2.5_1.300-1.325/ST/hVST1_ST_q2w.png has been created\n"
       ]
      },
      {
       "output_type": "stream",
       "stream": "stdout",
       "text": [
        "5 6 13 13\n",
        "5"
       ]
      },
      {
       "output_type": "stream",
       "stream": "stderr",
       "text": [
        "INFO:ROOT.TCanvas.Print] png file /home/trivedia/CLAS/workspace/ana2pi/obs/q2w2/VST1/2.0-2.5_1.300-1.325/SR/hVST1_SR_q2w.png has been created\n"
       ]
      },
      {
       "output_type": "stream",
       "stream": "stdout",
       "text": [
        " 6 13 13\n",
        "1"
       ]
      },
      {
       "output_type": "stream",
       "stream": "stdout",
       "text": [
        "\n",
        "ST,SR:"
       ]
      },
      {
       "output_type": "stream",
       "stream": "stderr",
       "text": [
        "WARNING:ROOT.THnSparseT<TArrayF>.Divide(h)] Histogram h has empty bins - division by zero! Setting bin to 0.\n"
       ]
      },
      {
       "output_type": "stream",
       "stream": "stderr",
       "text": [
        "WARNING:ROOT.THnSparseT<TArrayF>.Divide(h)] Histogram h has empty bins - division by zero! Setting bin to 0.\n"
       ]
      },
      {
       "output_type": "stream",
       "stream": "stderr",
       "text": [
        "INFO:ROOT.TCanvas.Print] png file /home/trivedia/CLAS/workspace/ana2pi/obs/q2w2/VST1/2.0-2.5_1.300-1.325/ST/hVST1_ST_M1.png has been created\n"
       ]
      },
      {
       "output_type": "stream",
       "stream": "stderr",
       "text": [
        "INFO:ROOT.TCanvas.Print] png file /home/trivedia/CLAS/workspace/ana2pi/obs/q2w2/VST1/2.0-2.5_1.300-1.325/ST/hVST1_ST_M2.png has been created\n"
       ]
      },
      {
       "output_type": "stream",
       "stream": "stderr",
       "text": [
        "INFO:ROOT.TCanvas.Print] png file /home/trivedia/CLAS/workspace/ana2pi/obs/q2w2/VST1/2.0-2.5_1.300-1.325/ST/hVST1_ST_THETA.png has been created\n"
       ]
      },
      {
       "output_type": "stream",
       "stream": "stderr",
       "text": [
        "INFO:ROOT.TCanvas.Print] png file /home/trivedia/CLAS/workspace/ana2pi/obs/q2w2/VST1/2.0-2.5_1.300-1.325/ST/hVST1_ST_PHI.png has been created\n"
       ]
      },
      {
       "output_type": "stream",
       "stream": "stderr",
       "text": [
        "INFO:ROOT.TCanvas.Print] png file /home/trivedia/CLAS/workspace/ana2pi/obs/q2w2/VST1/2.0-2.5_1.300-1.325/ST/hVST1_ST_ALPHA.png has been created\n"
       ]
      },
      {
       "output_type": "stream",
       "stream": "stderr",
       "text": [
        "INFO:ROOT.TCanvas.Print] png file /home/trivedia/CLAS/workspace/ana2pi/obs/q2w2/VST1/2.0-2.5_1.300-1.325/SR/hVST1_SR_M1.png has been created\n"
       ]
      },
      {
       "output_type": "stream",
       "stream": "stderr",
       "text": [
        "INFO:ROOT.TCanvas.Print] png file /home/trivedia/CLAS/workspace/ana2pi/obs/q2w2/VST1/2.0-2.5_1.300-1.325/SR/hVST1_SR_M2.png has been created\n"
       ]
      },
      {
       "output_type": "stream",
       "stream": "stderr",
       "text": [
        "INFO:ROOT.TCanvas.Print] png file /home/trivedia/CLAS/workspace/ana2pi/obs/q2w2/VST1/2.0-2.5_1.300-1.325/SR/hVST1_SR_THETA.png has been created\n"
       ]
      },
      {
       "output_type": "stream",
       "stream": "stderr",
       "text": [
        "INFO:ROOT.TCanvas.Print] png file /home/trivedia/CLAS/workspace/ana2pi/obs/q2w2/VST1/2.0-2.5_1.300-1.325/SR/hVST1_SR_PHI.png has been created\n"
       ]
      },
      {
       "output_type": "stream",
       "stream": "stderr",
       "text": [
        "INFO:ROOT.TCanvas.Print] png file /home/trivedia/CLAS/workspace/ana2pi/obs/q2w2/VST1/2.0-2.5_1.300-1.325/SR/hVST1_SR_ALPHA.png has been created\n"
       ]
      },
      {
       "output_type": "stream",
       "stream": "stderr",
       "text": [
        "INFO:ROOT.TCanvas.Print] png file /home/trivedia/CLAS/workspace/ana2pi/obs/q2w2/VST1/2.0-2.5_1.300-1.325/SA/hVST1_SA_M1.png has been created\n"
       ]
      },
      {
       "output_type": "stream",
       "stream": "stderr",
       "text": [
        "INFO:ROOT.TCanvas.Print] png file /home/trivedia/CLAS/workspace/ana2pi/obs/q2w2/VST1/2.0-2.5_1.300-1.325/SA/hVST1_SA_M2.png has been created\n"
       ]
      },
      {
       "output_type": "stream",
       "stream": "stderr",
       "text": [
        "INFO:ROOT.TCanvas.Print] png file /home/trivedia/CLAS/workspace/ana2pi/obs/q2w2/VST1/2.0-2.5_1.300-1.325/SA/hVST1_SA_THETA.png has been created\n"
       ]
      },
      {
       "output_type": "stream",
       "stream": "stderr",
       "text": [
        "INFO:ROOT.TCanvas.Print] png file /home/trivedia/CLAS/workspace/ana2pi/obs/q2w2/VST1/2.0-2.5_1.300-1.325/SA/hVST1_SA_PHI.png has been created\n"
       ]
      },
      {
       "output_type": "stream",
       "stream": "stderr",
       "text": [
        "INFO:ROOT.TCanvas.Print] png file /home/trivedia/CLAS/workspace/ana2pi/obs/q2w2/VST1/2.0-2.5_1.300-1.325/SA/hVST1_SA_ALPHA.png has been created\n"
       ]
      },
      {
       "output_type": "stream",
       "stream": "stderr",
       "text": [
        "INFO:ROOT.TCanvas.Print] png file /home/trivedia/CLAS/workspace/ana2pi/obs/q2w2/VST1/2.0-2.5_1.300-1.325/SC/hVST1_SC_M1.png has been created\n"
       ]
      },
      {
       "output_type": "stream",
       "stream": "stderr",
       "text": [
        "INFO:ROOT.TCanvas.Print] png file /home/trivedia/CLAS/workspace/ana2pi/obs/q2w2/VST1/2.0-2.5_1.300-1.325/SC/hVST1_SC_M2.png has been created\n"
       ]
      },
      {
       "output_type": "stream",
       "stream": "stderr",
       "text": [
        "INFO:ROOT.TCanvas.Print] png file /home/trivedia/CLAS/workspace/ana2pi/obs/q2w2/VST1/2.0-2.5_1.300-1.325/SC/hVST1_SC_THETA.png has been created\n"
       ]
      },
      {
       "output_type": "stream",
       "stream": "stderr",
       "text": [
        "INFO:ROOT.TCanvas.Print] png file /home/trivedia/CLAS/workspace/ana2pi/obs/q2w2/VST1/2.0-2.5_1.300-1.325/SC/hVST1_SC_PHI.png has been created\n"
       ]
      },
      {
       "output_type": "stream",
       "stream": "stderr",
       "text": [
        "INFO:ROOT.TCanvas.Print] png file /home/trivedia/CLAS/workspace/ana2pi/obs/q2w2/VST1/2.0-2.5_1.300-1.325/SC/hVST1_SC_ALPHA.png has been created\n"
       ]
      },
      {
       "output_type": "stream",
       "stream": "stderr",
       "text": [
        "INFO:ROOT.TCanvas.Print] png file /home/trivedia/CLAS/workspace/ana2pi/obs/q2w2/VST1/2.0-2.5_1.300-1.325/SH/hVST1_SH_M1.png has been created\n"
       ]
      },
      {
       "output_type": "stream",
       "stream": "stderr",
       "text": [
        "INFO:ROOT.TCanvas.Print] png file /home/trivedia/CLAS/workspace/ana2pi/obs/q2w2/VST1/2.0-2.5_1.300-1.325/SH/hVST1_SH_M2.png has been created\n"
       ]
      },
      {
       "output_type": "stream",
       "stream": "stderr",
       "text": [
        "INFO:ROOT.TCanvas.Print] png file /home/trivedia/CLAS/workspace/ana2pi/obs/q2w2/VST1/2.0-2.5_1.300-1.325/SH/hVST1_SH_THETA.png has been created\n"
       ]
      },
      {
       "output_type": "stream",
       "stream": "stderr",
       "text": [
        "INFO:ROOT.TCanvas.Print] png file /home/trivedia/CLAS/workspace/ana2pi/obs/q2w2/VST1/2.0-2.5_1.300-1.325/SH/hVST1_SH_PHI.png has been created\n"
       ]
      },
      {
       "output_type": "stream",
       "stream": "stderr",
       "text": [
        "INFO:ROOT.TCanvas.Print] png file /home/trivedia/CLAS/workspace/ana2pi/obs/q2w2/VST1/2.0-2.5_1.300-1.325/SH/hVST1_SH_ALPHA.png has been created\n"
       ]
      },
      {
       "output_type": "stream",
       "stream": "stderr",
       "text": [
        "INFO:ROOT.TCanvas.Print] png file /home/trivedia/CLAS/workspace/ana2pi/obs/q2w2/VST1/2.0-2.5_1.300-1.325/SF/hVST1_SF_M1.png has been created\n"
       ]
      },
      {
       "output_type": "stream",
       "stream": "stderr",
       "text": [
        "INFO:ROOT.TCanvas.Print] png file /home/trivedia/CLAS/workspace/ana2pi/obs/q2w2/VST1/2.0-2.5_1.300-1.325/SF/hVST1_SF_M2.png has been created\n"
       ]
      },
      {
       "output_type": "stream",
       "stream": "stderr",
       "text": [
        "INFO:ROOT.TCanvas.Print] png file /home/trivedia/CLAS/workspace/ana2pi/obs/q2w2/VST1/2.0-2.5_1.300-1.325/SF/hVST1_SF_THETA.png has been created\n"
       ]
      },
      {
       "output_type": "stream",
       "stream": "stderr",
       "text": [
        "INFO:ROOT.TCanvas.Print] png file /home/trivedia/CLAS/workspace/ana2pi/obs/q2w2/VST1/2.0-2.5_1.300-1.325/SF/hVST1_SF_PHI.png has been created\n"
       ]
      },
      {
       "output_type": "stream",
       "stream": "stderr",
       "text": [
        "INFO:ROOT.TCanvas.Print] png file /home/trivedia/CLAS/workspace/ana2pi/obs/q2w2/VST1/2.0-2.5_1.300-1.325/SF/hVST1_SF_ALPHA.png has been created\n"
       ]
      },
      {
       "output_type": "stream",
       "stream": "stdout",
       "text": [
        " 198853353.0 36724877.0\n",
        "SA: 36724877.0\n",
        "SC 36724877.0\n",
        "SH1: 162128476.0\n",
        "SH2 162131223.0\n",
        "SF 198856100.0\n",
        "5"
       ]
      },
      {
       "output_type": "stream",
       "stream": "stderr",
       "text": [
        "INFO:ROOT.TCanvas.Print] png file /home/trivedia/CLAS/workspace/ana2pi/obs/q2w2/VST2/2.0-2.5_1.300-1.325/ST/hVST2_ST_q2w.png has been created\n"
       ]
      },
      {
       "output_type": "stream",
       "stream": "stdout",
       "text": [
        " 6 13 13\n",
        "5"
       ]
      },
      {
       "output_type": "stream",
       "stream": "stderr",
       "text": [
        "INFO:ROOT.TCanvas.Print] png file /home/trivedia/CLAS/workspace/ana2pi/obs/q2w2/VST2/2.0-2.5_1.300-1.325/SR/hVST2_SR_q2w.png has been created\n"
       ]
      },
      {
       "output_type": "stream",
       "stream": "stdout",
       "text": [
        " 6 13 13\n",
        "2"
       ]
      },
      {
       "output_type": "stream",
       "stream": "stdout",
       "text": [
        "\n",
        "ST,SR:"
       ]
      },
      {
       "output_type": "stream",
       "stream": "stderr",
       "text": [
        "WARNING:ROOT.THnSparseT<TArrayF>.Divide(h)] Histogram h has empty bins - division by zero! Setting bin to 0.\n"
       ]
      },
      {
       "output_type": "stream",
       "stream": "stderr",
       "text": [
        "WARNING:ROOT.THnSparseT<TArrayF>.Divide(h)] Histogram h has empty bins - division by zero! Setting bin to 0.\n"
       ]
      },
      {
       "output_type": "stream",
       "stream": "stderr",
       "text": [
        "INFO:ROOT.TCanvas.Print] png file /home/trivedia/CLAS/workspace/ana2pi/obs/q2w2/VST2/2.0-2.5_1.300-1.325/ST/hVST2_ST_M1.png has been created\n"
       ]
      },
      {
       "output_type": "stream",
       "stream": "stderr",
       "text": [
        "INFO:ROOT.TCanvas.Print] png file /home/trivedia/CLAS/workspace/ana2pi/obs/q2w2/VST2/2.0-2.5_1.300-1.325/ST/hVST2_ST_M2.png has been created\n"
       ]
      },
      {
       "output_type": "stream",
       "stream": "stderr",
       "text": [
        "INFO:ROOT.TCanvas.Print] png file /home/trivedia/CLAS/workspace/ana2pi/obs/q2w2/VST2/2.0-2.5_1.300-1.325/ST/hVST2_ST_THETA.png has been created\n"
       ]
      },
      {
       "output_type": "stream",
       "stream": "stderr",
       "text": [
        "INFO:ROOT.TCanvas.Print] png file /home/trivedia/CLAS/workspace/ana2pi/obs/q2w2/VST2/2.0-2.5_1.300-1.325/ST/hVST2_ST_PHI.png has been created\n"
       ]
      },
      {
       "output_type": "stream",
       "stream": "stderr",
       "text": [
        "INFO:ROOT.TCanvas.Print] png file /home/trivedia/CLAS/workspace/ana2pi/obs/q2w2/VST2/2.0-2.5_1.300-1.325/ST/hVST2_ST_ALPHA.png has been created\n"
       ]
      },
      {
       "output_type": "stream",
       "stream": "stderr",
       "text": [
        "INFO:ROOT.TCanvas.Print] png file /home/trivedia/CLAS/workspace/ana2pi/obs/q2w2/VST2/2.0-2.5_1.300-1.325/SR/hVST2_SR_M1.png has been created\n"
       ]
      },
      {
       "output_type": "stream",
       "stream": "stderr",
       "text": [
        "INFO:ROOT.TCanvas.Print] png file /home/trivedia/CLAS/workspace/ana2pi/obs/q2w2/VST2/2.0-2.5_1.300-1.325/SR/hVST2_SR_M2.png has been created\n"
       ]
      },
      {
       "output_type": "stream",
       "stream": "stderr",
       "text": [
        "INFO:ROOT.TCanvas.Print] png file /home/trivedia/CLAS/workspace/ana2pi/obs/q2w2/VST2/2.0-2.5_1.300-1.325/SR/hVST2_SR_THETA.png has been created\n"
       ]
      },
      {
       "output_type": "stream",
       "stream": "stderr",
       "text": [
        "INFO:ROOT.TCanvas.Print] png file /home/trivedia/CLAS/workspace/ana2pi/obs/q2w2/VST2/2.0-2.5_1.300-1.325/SR/hVST2_SR_PHI.png has been created\n"
       ]
      },
      {
       "output_type": "stream",
       "stream": "stderr",
       "text": [
        "INFO:ROOT.TCanvas.Print] png file /home/trivedia/CLAS/workspace/ana2pi/obs/q2w2/VST2/2.0-2.5_1.300-1.325/SR/hVST2_SR_ALPHA.png has been created\n"
       ]
      },
      {
       "output_type": "stream",
       "stream": "stderr",
       "text": [
        "INFO:ROOT.TCanvas.Print] png file /home/trivedia/CLAS/workspace/ana2pi/obs/q2w2/VST2/2.0-2.5_1.300-1.325/SA/hVST2_SA_M1.png has been created\n"
       ]
      },
      {
       "output_type": "stream",
       "stream": "stderr",
       "text": [
        "INFO:ROOT.TCanvas.Print] png file /home/trivedia/CLAS/workspace/ana2pi/obs/q2w2/VST2/2.0-2.5_1.300-1.325/SA/hVST2_SA_M2.png has been created\n"
       ]
      },
      {
       "output_type": "stream",
       "stream": "stderr",
       "text": [
        "INFO:ROOT.TCanvas.Print] png file /home/trivedia/CLAS/workspace/ana2pi/obs/q2w2/VST2/2.0-2.5_1.300-1.325/SA/hVST2_SA_THETA.png has been created\n"
       ]
      },
      {
       "output_type": "stream",
       "stream": "stderr",
       "text": [
        "INFO:ROOT.TCanvas.Print] png file /home/trivedia/CLAS/workspace/ana2pi/obs/q2w2/VST2/2.0-2.5_1.300-1.325/SA/hVST2_SA_PHI.png has been created\n"
       ]
      },
      {
       "output_type": "stream",
       "stream": "stderr",
       "text": [
        "INFO:ROOT.TCanvas.Print] png file /home/trivedia/CLAS/workspace/ana2pi/obs/q2w2/VST2/2.0-2.5_1.300-1.325/SA/hVST2_SA_ALPHA.png has been created\n"
       ]
      },
      {
       "output_type": "stream",
       "stream": "stderr",
       "text": [
        "INFO:ROOT.TCanvas.Print] png file /home/trivedia/CLAS/workspace/ana2pi/obs/q2w2/VST2/2.0-2.5_1.300-1.325/SC/hVST2_SC_M1.png has been created\n"
       ]
      },
      {
       "output_type": "stream",
       "stream": "stderr",
       "text": [
        "INFO:ROOT.TCanvas.Print] png file /home/trivedia/CLAS/workspace/ana2pi/obs/q2w2/VST2/2.0-2.5_1.300-1.325/SC/hVST2_SC_M2.png has been created\n"
       ]
      },
      {
       "output_type": "stream",
       "stream": "stderr",
       "text": [
        "INFO:ROOT.TCanvas.Print] png file /home/trivedia/CLAS/workspace/ana2pi/obs/q2w2/VST2/2.0-2.5_1.300-1.325/SC/hVST2_SC_THETA.png has been created\n"
       ]
      },
      {
       "output_type": "stream",
       "stream": "stderr",
       "text": [
        "INFO:ROOT.TCanvas.Print] png file /home/trivedia/CLAS/workspace/ana2pi/obs/q2w2/VST2/2.0-2.5_1.300-1.325/SC/hVST2_SC_PHI.png has been created\n"
       ]
      },
      {
       "output_type": "stream",
       "stream": "stderr",
       "text": [
        "INFO:ROOT.TCanvas.Print] png file /home/trivedia/CLAS/workspace/ana2pi/obs/q2w2/VST2/2.0-2.5_1.300-1.325/SC/hVST2_SC_ALPHA.png has been created\n"
       ]
      },
      {
       "output_type": "stream",
       "stream": "stderr",
       "text": [
        "INFO:ROOT.TCanvas.Print] png file /home/trivedia/CLAS/workspace/ana2pi/obs/q2w2/VST2/2.0-2.5_1.300-1.325/SH/hVST2_SH_M1.png has been created\n"
       ]
      },
      {
       "output_type": "stream",
       "stream": "stderr",
       "text": [
        "INFO:ROOT.TCanvas.Print] png file /home/trivedia/CLAS/workspace/ana2pi/obs/q2w2/VST2/2.0-2.5_1.300-1.325/SH/hVST2_SH_M2.png has been created\n"
       ]
      },
      {
       "output_type": "stream",
       "stream": "stderr",
       "text": [
        "INFO:ROOT.TCanvas.Print] png file /home/trivedia/CLAS/workspace/ana2pi/obs/q2w2/VST2/2.0-2.5_1.300-1.325/SH/hVST2_SH_THETA.png has been created\n"
       ]
      },
      {
       "output_type": "stream",
       "stream": "stderr",
       "text": [
        "INFO:ROOT.TCanvas.Print] png file /home/trivedia/CLAS/workspace/ana2pi/obs/q2w2/VST2/2.0-2.5_1.300-1.325/SH/hVST2_SH_PHI.png has been created\n"
       ]
      },
      {
       "output_type": "stream",
       "stream": "stderr",
       "text": [
        "INFO:ROOT.TCanvas.Print] png file /home/trivedia/CLAS/workspace/ana2pi/obs/q2w2/VST2/2.0-2.5_1.300-1.325/SH/hVST2_SH_ALPHA.png has been created\n"
       ]
      },
      {
       "output_type": "stream",
       "stream": "stderr",
       "text": [
        "INFO:ROOT.TCanvas.Print] png file /home/trivedia/CLAS/workspace/ana2pi/obs/q2w2/VST2/2.0-2.5_1.300-1.325/SF/hVST2_SF_M1.png has been created\n"
       ]
      },
      {
       "output_type": "stream",
       "stream": "stderr",
       "text": [
        "INFO:ROOT.TCanvas.Print] png file /home/trivedia/CLAS/workspace/ana2pi/obs/q2w2/VST2/2.0-2.5_1.300-1.325/SF/hVST2_SF_M2.png has been created\n"
       ]
      },
      {
       "output_type": "stream",
       "stream": "stderr",
       "text": [
        "INFO:ROOT.TCanvas.Print] png file /home/trivedia/CLAS/workspace/ana2pi/obs/q2w2/VST2/2.0-2.5_1.300-1.325/SF/hVST2_SF_THETA.png has been created\n"
       ]
      },
      {
       "output_type": "stream",
       "stream": "stderr",
       "text": [
        "INFO:ROOT.TCanvas.Print] png file /home/trivedia/CLAS/workspace/ana2pi/obs/q2w2/VST2/2.0-2.5_1.300-1.325/SF/hVST2_SF_PHI.png has been created\n"
       ]
      },
      {
       "output_type": "stream",
       "stream": "stderr",
       "text": [
        "INFO:ROOT.TCanvas.Print] png file /home/trivedia/CLAS/workspace/ana2pi/obs/q2w2/VST2/2.0-2.5_1.300-1.325/SF/hVST2_SF_ALPHA.png has been created\n"
       ]
      },
      {
       "output_type": "stream",
       "stream": "stdout",
       "text": [
        " 198853353.0 36724877.0\n",
        "SA: 36724877.0\n",
        "SC 36724877.0\n",
        "SH1: 162128476.0\n",
        "SH2 162131158.0\n",
        "SF 198856035.0\n",
        "5"
       ]
      },
      {
       "output_type": "stream",
       "stream": "stderr",
       "text": [
        "INFO:ROOT.TCanvas.Print] png file /home/trivedia/CLAS/workspace/ana2pi/obs/q2w2/VST3/2.0-2.5_1.300-1.325/ST/hVST3_ST_q2w.png has been created\n"
       ]
      },
      {
       "output_type": "stream",
       "stream": "stdout",
       "text": [
        " 6 13 13\n",
        "5"
       ]
      },
      {
       "output_type": "stream",
       "stream": "stderr",
       "text": [
        "INFO:ROOT.TCanvas.Print] png file /home/trivedia/CLAS/workspace/ana2pi/obs/q2w2/VST3/2.0-2.5_1.300-1.325/SR/hVST3_SR_q2w.png has been created\n"
       ]
      },
      {
       "output_type": "stream",
       "stream": "stdout",
       "text": [
        " 6 13 13\n",
        "3"
       ]
      },
      {
       "output_type": "stream",
       "stream": "stdout",
       "text": [
        "\n",
        "ST,SR:"
       ]
      },
      {
       "output_type": "stream",
       "stream": "stderr",
       "text": [
        "WARNING:ROOT.THnSparseT<TArrayF>.Divide(h)] Histogram h has empty bins - division by zero! Setting bin to 0.\n"
       ]
      },
      {
       "output_type": "stream",
       "stream": "stderr",
       "text": [
        "WARNING:ROOT.THnSparseT<TArrayF>.Divide(h)] Histogram h has empty bins - division by zero! Setting bin to 0.\n"
       ]
      },
      {
       "output_type": "stream",
       "stream": "stderr",
       "text": [
        "INFO:ROOT.TCanvas.Print] png file /home/trivedia/CLAS/workspace/ana2pi/obs/q2w2/VST3/2.0-2.5_1.300-1.325/ST/hVST3_ST_M1.png has been created\n"
       ]
      },
      {
       "output_type": "stream",
       "stream": "stderr",
       "text": [
        "INFO:ROOT.TCanvas.Print] png file /home/trivedia/CLAS/workspace/ana2pi/obs/q2w2/VST3/2.0-2.5_1.300-1.325/ST/hVST3_ST_M2.png has been created\n"
       ]
      },
      {
       "output_type": "stream",
       "stream": "stderr",
       "text": [
        "INFO:ROOT.TCanvas.Print] png file /home/trivedia/CLAS/workspace/ana2pi/obs/q2w2/VST3/2.0-2.5_1.300-1.325/ST/hVST3_ST_THETA.png has been created\n"
       ]
      },
      {
       "output_type": "stream",
       "stream": "stderr",
       "text": [
        "INFO:ROOT.TCanvas.Print] png file /home/trivedia/CLAS/workspace/ana2pi/obs/q2w2/VST3/2.0-2.5_1.300-1.325/ST/hVST3_ST_PHI.png has been created\n"
       ]
      },
      {
       "output_type": "stream",
       "stream": "stderr",
       "text": [
        "INFO:ROOT.TCanvas.Print] png file /home/trivedia/CLAS/workspace/ana2pi/obs/q2w2/VST3/2.0-2.5_1.300-1.325/ST/hVST3_ST_ALPHA.png has been created\n"
       ]
      },
      {
       "output_type": "stream",
       "stream": "stderr",
       "text": [
        "INFO:ROOT.TCanvas.Print] png file /home/trivedia/CLAS/workspace/ana2pi/obs/q2w2/VST3/2.0-2.5_1.300-1.325/SR/hVST3_SR_M1.png has been created\n"
       ]
      },
      {
       "output_type": "stream",
       "stream": "stderr",
       "text": [
        "INFO:ROOT.TCanvas.Print] png file /home/trivedia/CLAS/workspace/ana2pi/obs/q2w2/VST3/2.0-2.5_1.300-1.325/SR/hVST3_SR_M2.png has been created\n"
       ]
      },
      {
       "output_type": "stream",
       "stream": "stderr",
       "text": [
        "INFO:ROOT.TCanvas.Print] png file /home/trivedia/CLAS/workspace/ana2pi/obs/q2w2/VST3/2.0-2.5_1.300-1.325/SR/hVST3_SR_THETA.png has been created\n"
       ]
      },
      {
       "output_type": "stream",
       "stream": "stderr",
       "text": [
        "INFO:ROOT.TCanvas.Print] png file /home/trivedia/CLAS/workspace/ana2pi/obs/q2w2/VST3/2.0-2.5_1.300-1.325/SR/hVST3_SR_PHI.png has been created\n"
       ]
      },
      {
       "output_type": "stream",
       "stream": "stderr",
       "text": [
        "INFO:ROOT.TCanvas.Print] png file /home/trivedia/CLAS/workspace/ana2pi/obs/q2w2/VST3/2.0-2.5_1.300-1.325/SR/hVST3_SR_ALPHA.png has been created\n"
       ]
      },
      {
       "output_type": "stream",
       "stream": "stderr",
       "text": [
        "INFO:ROOT.TCanvas.Print] png file /home/trivedia/CLAS/workspace/ana2pi/obs/q2w2/VST3/2.0-2.5_1.300-1.325/SA/hVST3_SA_M1.png has been created\n"
       ]
      },
      {
       "output_type": "stream",
       "stream": "stderr",
       "text": [
        "INFO:ROOT.TCanvas.Print] png file /home/trivedia/CLAS/workspace/ana2pi/obs/q2w2/VST3/2.0-2.5_1.300-1.325/SA/hVST3_SA_M2.png has been created\n"
       ]
      },
      {
       "output_type": "stream",
       "stream": "stderr",
       "text": [
        "INFO:ROOT.TCanvas.Print] png file /home/trivedia/CLAS/workspace/ana2pi/obs/q2w2/VST3/2.0-2.5_1.300-1.325/SA/hVST3_SA_THETA.png has been created\n"
       ]
      },
      {
       "output_type": "stream",
       "stream": "stderr",
       "text": [
        "INFO:ROOT.TCanvas.Print] png file /home/trivedia/CLAS/workspace/ana2pi/obs/q2w2/VST3/2.0-2.5_1.300-1.325/SA/hVST3_SA_PHI.png has been created\n"
       ]
      },
      {
       "output_type": "stream",
       "stream": "stderr",
       "text": [
        "INFO:ROOT.TCanvas.Print] png file /home/trivedia/CLAS/workspace/ana2pi/obs/q2w2/VST3/2.0-2.5_1.300-1.325/SA/hVST3_SA_ALPHA.png has been created\n"
       ]
      },
      {
       "output_type": "stream",
       "stream": "stderr",
       "text": [
        "INFO:ROOT.TCanvas.Print] png file /home/trivedia/CLAS/workspace/ana2pi/obs/q2w2/VST3/2.0-2.5_1.300-1.325/SC/hVST3_SC_M1.png has been created\n"
       ]
      },
      {
       "output_type": "stream",
       "stream": "stderr",
       "text": [
        "INFO:ROOT.TCanvas.Print] png file /home/trivedia/CLAS/workspace/ana2pi/obs/q2w2/VST3/2.0-2.5_1.300-1.325/SC/hVST3_SC_M2.png has been created\n"
       ]
      },
      {
       "output_type": "stream",
       "stream": "stderr",
       "text": [
        "INFO:ROOT.TCanvas.Print] png file /home/trivedia/CLAS/workspace/ana2pi/obs/q2w2/VST3/2.0-2.5_1.300-1.325/SC/hVST3_SC_THETA.png has been created\n"
       ]
      },
      {
       "output_type": "stream",
       "stream": "stderr",
       "text": [
        "INFO:ROOT.TCanvas.Print] png file /home/trivedia/CLAS/workspace/ana2pi/obs/q2w2/VST3/2.0-2.5_1.300-1.325/SC/hVST3_SC_PHI.png has been created\n"
       ]
      },
      {
       "output_type": "stream",
       "stream": "stderr",
       "text": [
        "INFO:ROOT.TCanvas.Print] png file /home/trivedia/CLAS/workspace/ana2pi/obs/q2w2/VST3/2.0-2.5_1.300-1.325/SC/hVST3_SC_ALPHA.png has been created\n"
       ]
      },
      {
       "output_type": "stream",
       "stream": "stderr",
       "text": [
        "INFO:ROOT.TCanvas.Print] png file /home/trivedia/CLAS/workspace/ana2pi/obs/q2w2/VST3/2.0-2.5_1.300-1.325/SH/hVST3_SH_M1.png has been created\n"
       ]
      },
      {
       "output_type": "stream",
       "stream": "stderr",
       "text": [
        "INFO:ROOT.TCanvas.Print] png file /home/trivedia/CLAS/workspace/ana2pi/obs/q2w2/VST3/2.0-2.5_1.300-1.325/SH/hVST3_SH_M2.png has been created\n"
       ]
      },
      {
       "output_type": "stream",
       "stream": "stderr",
       "text": [
        "INFO:ROOT.TCanvas.Print] png file /home/trivedia/CLAS/workspace/ana2pi/obs/q2w2/VST3/2.0-2.5_1.300-1.325/SH/hVST3_SH_THETA.png has been created\n"
       ]
      },
      {
       "output_type": "stream",
       "stream": "stderr",
       "text": [
        "INFO:ROOT.TCanvas.Print] png file /home/trivedia/CLAS/workspace/ana2pi/obs/q2w2/VST3/2.0-2.5_1.300-1.325/SH/hVST3_SH_PHI.png has been created\n"
       ]
      },
      {
       "output_type": "stream",
       "stream": "stderr",
       "text": [
        "INFO:ROOT.TCanvas.Print] png file /home/trivedia/CLAS/workspace/ana2pi/obs/q2w2/VST3/2.0-2.5_1.300-1.325/SH/hVST3_SH_ALPHA.png has been created\n"
       ]
      },
      {
       "output_type": "stream",
       "stream": "stderr",
       "text": [
        "INFO:ROOT.TCanvas.Print] png file /home/trivedia/CLAS/workspace/ana2pi/obs/q2w2/VST3/2.0-2.5_1.300-1.325/SF/hVST3_SF_M1.png has been created\n"
       ]
      },
      {
       "output_type": "stream",
       "stream": "stderr",
       "text": [
        "INFO:ROOT.TCanvas.Print] png file /home/trivedia/CLAS/workspace/ana2pi/obs/q2w2/VST3/2.0-2.5_1.300-1.325/SF/hVST3_SF_M2.png has been created\n"
       ]
      },
      {
       "output_type": "stream",
       "stream": "stderr",
       "text": [
        "INFO:ROOT.TCanvas.Print] png file /home/trivedia/CLAS/workspace/ana2pi/obs/q2w2/VST3/2.0-2.5_1.300-1.325/SF/hVST3_SF_THETA.png has been created\n"
       ]
      },
      {
       "output_type": "stream",
       "stream": "stderr",
       "text": [
        "INFO:ROOT.TCanvas.Print] png file /home/trivedia/CLAS/workspace/ana2pi/obs/q2w2/VST3/2.0-2.5_1.300-1.325/SF/hVST3_SF_PHI.png has been created\n"
       ]
      },
      {
       "output_type": "stream",
       "stream": "stderr",
       "text": [
        "INFO:ROOT.TCanvas.Print] png file /home/trivedia/CLAS/workspace/ana2pi/obs/q2w2/VST3/2.0-2.5_1.300-1.325/SF/hVST3_SF_ALPHA.png has been created\n"
       ]
      },
      {
       "output_type": "stream",
       "stream": "stdout",
       "text": [
        " 198853353.0 36724877.0\n",
        "SA: 36724877.0\n",
        "SC 36724877.0\n",
        "SH1: 162128476.0\n",
        "SH2 162130776.0\n",
        "SF 198855653.0\n"
       ]
      }
     ],
     "prompt_number": 7
    },
    {
     "cell_type": "code",
     "collapsed": false,
     "input": [],
     "language": "python",
     "metadata": {},
     "outputs": []
    }
   ],
   "metadata": {}
  }
 ]
}