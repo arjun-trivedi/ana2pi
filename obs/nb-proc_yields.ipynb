{
 "metadata": {
  "name": ""
 },
 "nbformat": 3,
 "nbformat_minor": 0,
 "worksheets": [
  {
   "cells": [
    {
     "cell_type": "code",
     "collapsed": false,
     "input": [
      "#! Imports\n",
      "from array import *\n",
      "from collections import OrderedDict\n",
      "\n",
      "import atlib as atlib\n",
      "\n",
      "ROOT.gROOT.ProcessLine(\".L THnTool.C+\")\n",
      "from ROOT import THnTool\n",
      "\n",
      "# Tools\n",
      "thntool=THnTool()\n",
      "\n",
      "# Constants\n",
      "#h8_dim={'HEL':0,'Q2':1,'W':2,'M1':3,'M2':4,'THETA':6,'PHI':7,'ALPHA':8}\n",
      "#! See http://stackoverflow.com/questions/16553506/python-ordereddict-iteration for following code\n",
      "H8_DIM=OrderedDict([('HEL',0),('Q2',1),('W',2),('M1',3),('M2',4),('THETA',5),('PHI',6),('ALPHA',7)])\n",
      "H5_PROJDIM=array('i',[H8_DIM['M1'],H8_DIM['M2'],H8_DIM['THETA'],H8_DIM['PHI'],\n",
      "                      H8_DIM['ALPHA']])\n",
      "# print H8_DIM \n",
      "# print H8_DIM.keys()\n",
      "# print H8_DIM.values()\n",
      "\n",
      "H5_DIM=OrderedDict([('M1',0),('M2',1),('THETA',2),('PHI',3),('ALPHA',4)])\n",
      "# print H5_DIM \n",
      "# print H5_DIM.keys()\n",
      "# print H5_DIM.values()\n",
      "\n",
      "# SEQ_SIM=['ST','SR','SA','SC','SH','SF']\n",
      "# SEQ_EXP=['ER','EC','EH','EF']\n",
      "SEQ=['T','R','A','C','H','F']\n",
      "\n",
      "VARS=['M1','M2','THETA','PHI','ALPHA']\n",
      "\n",
      "# Following defined by UI\n",
      "TOPS=[1,2,3,4] # as per UI\n",
      "VSTS=[1,2,3] # as per UI\n",
      "\n",
      "Q2W='q2w2' # as per UI's q2w range\n",
      "Q2BNG,WBNG=None,None\n",
      "if Q2W=='q2w2':\n",
      "    q2w=[[2.0,2.5,0.5],[1.3,1.9,0.025]] #min,max,width; as per UI\n",
      "    Q2BNG,WBNG=atlib.init_q2wbng2(q2w)\n",
      "# #! Test Q2WBNG, WBNG\n",
      "# print \"Q2 bins=\",Q2BNG['BINS']\n",
      "# print \"W bins=\",WBNG['BINS']\n",
      "# for i in range(Q2BNG['NBINS']):\n",
      "#     print \"Q2 bin:\",i+1\n",
      "#     print Q2BNG['BINS_LE'][i]\n",
      "#     print Q2BNG['BINS_UE'][i]\n",
      "# for i in range(WBNG['NBINS']):\n",
      "#     print \"W bin:\",i+1\n",
      "#     print WBNG['BINS_LE'][i]\n",
      "#     print WBNG['BINS_UE'][i]\n",
      "\n",
      "#EXP/SIM was per UI\n",
      "EXP=False\n",
      "SIM=True\n",
      "if not(EXP or SIM):\n",
      "    sys.exit(\"dtyp is neither EXP or SIM! Exiting\")\n",
      "SIM_NUM='sim_1'\n",
      "if EXP:\n",
      "    #SEQ=SEQ_EXP\n",
      "    DATADIR=os.environ['OBS_DATADIR_EXP']\n",
      "    ANADIR=os.path.join(os.environ['ANA2PI_OBS'],Q2W)\n",
      "    FIN=os.path.join(DATADIR,'d2pi.root')\n",
      "    FIN_SIMYIELD=ROOT.TFile(os.path.join(ANADIR,\"yield_sim.root\"))\n",
      "    FOUT=ROOT.TFile(os.path.join(ANADIR,\"yield_exp.root\"),\"RECREATE\")\n",
      "if SIM:\n",
      "    #SEQ=SEQ_SIM\n",
      "    DATADIR=os.environ['OBS_DATADIR_SIM']\n",
      "    ANADIR=os.path.join(os.environ['ANA2PI_OBS'],Q2W)\n",
      "    FIN=ROOT.TFile(os.path.join(DATADIR,Q2W,SIM_NUM,'d2pi.root'))\n",
      "    FOUT=ROOT.TFile(os.path.join(ANADIR,\"yield_sim.root\"),\"RECREATE\")\n",
      "\n",
      "print \"DATADIR=\",DATADIR\n",
      "print \"ANADIR=\",ANADIR\n",
      "if not os.path.exists(ANADIR):\n",
      "    ANADIR=os.makedirs(ANADIR)"
     ],
     "language": "python",
     "metadata": {},
     "outputs": [
      {
       "output_type": "stream",
       "stream": "stdout",
       "text": [
        "DATADIR= /data/trivedia/e1f/sim/2pi\n",
        "ANADIR= /home/trivedia/CLAS/workspace/ana2pi/obs/q2w2\n"
       ]
      }
     ],
     "prompt_number": 1
    },
    {
     "cell_type": "code",
     "collapsed": false,
     "input": [
      "def get_h8():\n",
      "    #! Fetch h8-ST/SR/ER directly from file (Add all tops)\n",
      "    for vst in VSTS:\n",
      "        vst_name='VST%d'%vst\n",
      "        #! Fetch h8-T\n",
      "        if SIM:\n",
      "            print \"Going to get\",'d2piT/yield_varset%d'%vst,\"...\"\n",
      "            h8[vst_name,'T']=f.Get('d2piT/yield_varset%d'%vst)\n",
      "            print \"Done getting\",'d2piT/yield_varset%d'%vst\n",
      "        #! Fetch h8-R (Add all tops i.e. h8 = h8(t1)+h8(t2)+h8(t3)+h8(t4))\n",
      "        for itop,top in enumerate(TOPS):\n",
      "            if itop==0:\n",
      "                print \"Going to get\",'d2piR/top%d/yield_varset%d'%(top,vst),\"...\"\n",
      "                h8[vst_name,'R']=f.Get('d2piR/top%d/yield_varset%d'%(top,vst))\n",
      "                print \"Done getting\",'d2piR/top%d/yield_varset%d'%(top,vst)\n",
      "            else:\n",
      "                print \"Going to get and add to top1\",'d2piR/top%d/yield_varset%d'%(top,vst),\"...\"\n",
      "                h8[vst_name,'R'].Add(f.Get('d2piR/top%d/yield_varset%d'%(top,vst)))\n",
      "                print \"Done gettng and adding to top1\",'d2piR/top%d/yield_varset%d'%(top,vst)"
     ],
     "language": "python",
     "metadata": {},
     "outputs": [],
     "prompt_number": 2
    },
    {
     "cell_type": "code",
     "collapsed": false,
     "input": [
      "def proc_h5():\n",
      "    #global h5\n",
      "    print \"*** 1. Processing h8->h5 ***\"\n",
      "    #! First, for h8-ST/SR/ER, set appropriate ranges for HEL,Q2&W\n",
      "    if EXP:SEQ_h8=['R']\n",
      "    if SIM:SEQ_h8=['T','R']\n",
      "    for seq in SEQ_h8:\n",
      "        #!-- HEL: include all helicities\n",
      "        h8[vst_name,seq].GetAxis(H8_DIM['HEL']).SetRange()\n",
      "        #!-- Q2\n",
      "        q2bin_le=h8[vst_name,seq].GetAxis(H8_DIM['Q2']).FindBin(Q2BNG['BINS_LE'][i])\n",
      "        q2bin_ue=h8[vst_name,seq].GetAxis(H8_DIM['Q2']).FindBin(Q2BNG['BINS_UE'][i])\n",
      "        h8[vst_name,seq].GetAxis(H8_DIM['Q2']).SetRange(q2bin_le,q2bin_ue)\n",
      "        #!-- W\n",
      "        wbin_le=h8[vst_name,seq].GetAxis(H8_DIM['W']).FindBin(WBNG['BINS_LE'][j])\n",
      "        wbin_ue=h8[vst_name,seq].GetAxis(H8_DIM['W']).FindBin(WBNG['BINS_UE'][j])\n",
      "        h8[vst_name,seq].GetAxis(H8_DIM['W']).SetRange(wbin_le,wbin_ue)\n",
      "        print \"For h8(%s,%s),finished setting Q2-,W-bin range = [%d,%d],[%d,%d] ***\"%(vst_name,seq,q2bin_le,q2bin_ue,wbin_le,wbin_ue)\n",
      "        #! Project out hq2w & save (to FOUT & OS)\n",
      "        hq2w[vst_name,seq]=h8[vst_name,seq].Projection(H8_DIM['Q2'],H8_DIM['W'],\"E\")\n",
      "        hq2w[vst_name,seq].SetName('h_q2_v_w')\n",
      "        hq2w[vst_name,seq].SetTitle(\"%s_%s_%s_q2w\"%(q2w,vst_name,seq))\n",
      "        outdir=os.path.join(ANADIR,q2w,vst_name,seq)\n",
      "        if not os.path.exists(outdir):\n",
      "            os.makedirs(outdir)\n",
      "        #! cd into FOUT.q2wdir.vstdir.seqdir\n",
      "        vstdir.mkdir(seq).cd()\n",
      "        hq2w[vst_name,seq].Write()\n",
      "        cq2w=ROOT.TCanvas(hq2w[vst_name,seq].GetName(),hq2w[vst_name,seq].GetTitle())\n",
      "        hq2w[vst_name,seq].Draw(\"colz\")\n",
      "        cq2w.SaveAs(\"%s/%s.png\"%(outdir,cq2w.GetName()))\n",
      "            \n",
      "    #! 1.2 Finally project out h5 & save them to file\n",
      "    #! Project out h5-T/R\n",
      "    if EXP:SEQ_h5=['R']\n",
      "    if SIM:SEQ_h5=['T','R']\n",
      "    for seq in SEQ_h5:\n",
      "        h5[vst_name,seq]=h8[vst_name,seq].Projection(5,H5_PROJDIM,\"E\")\n",
      "        thntool.SetUnderOverFLowBinsToZero(h5[vst_name,seq]);\n",
      "        h5[vst_name,seq].SetName('h5')\n",
      "        h5[vst_name,seq].SetTitle('%s_%s_%s'%(q2w,vst_name,seq))\n",
      "        if vstdir.GetDirectory(seq)==None:\n",
      "            vstdir.mkdir(seq).cd()\n",
      "        else:\n",
      "            vstdir.cd(seq)\n",
      "        h5[vst_name,seq].Write()\n",
      "    #! Calculate Acceptance\n",
      "    if SIM:\n",
      "        h5[vst_name,'A']=h5[vst_name,'R'].Clone()\n",
      "        h5[vst_name,'A'].Divide(h5[vst_name,'T'])\n",
      "        thntool.SetUnderOverFLowBinsToZero(h5[vst_name,'A']);\n",
      "        h5[vst_name,'A'].SetName('h5')\n",
      "        h5[vst_name,'A'].SetTitle('%s_%s_%s'%(q2w,vst_name,'A'))\n",
      "        vstdir.mkdir('A').cd()\n",
      "        h5[vst_name,'A'].Write()\n",
      "    if EXP:\n",
      "        h5[vst_name,'A']=FIN_SIMYIELD.Get('%s/%s/A/h5'%(q2w,vst_name))\n",
      "    #! Calculate Corrected yields\n",
      "    h5[vst_name,'C']=h5[vst_name,'R'].Clone()\n",
      "    h5[vst_name,'C'].Divide(h5[vst_name,'A'])\n",
      "    thntool.SetUnderOverFLowBinsToZero(h5[vst_name,'C']);\n",
      "    h5[vst_name,'C'].SetName('h5')\n",
      "    h5[vst_name,'C'].SetTitle('%s_%s_%s'%(q2w,vst_name,'C'))\n",
      "    vstdir.mkdir('C').cd()\n",
      "    h5[vst_name,'C'].Write()\n",
      "    #! Calculate H\n",
      "    if SIM:\n",
      "        h5[vst_name,'H']=h5[vst_name,'T'].Clone()\n",
      "        h5[vst_name,'H'].Add(h5[vst_name,'C'],-1)\n",
      "        thntool.SetUnderOverFLowBinsToZero(h5[vst_name,'H'])\n",
      "        h5[vst_name,'H'].SetName('h5')\n",
      "        h5[vst_name,'H'].SetTitle('%s_%s_%s'%(q2w,vst_name,'H'))\n",
      "        vstdir.mkdir('H').cd()\n",
      "        h5[vst_name,'H'].Write()\n",
      "    if EXP:\n",
      "        #!first copy sim-HOLE into exp-HOLE\n",
      "        h5[vst_name,'H']=FIN_SIMYIELD.Get('%s/%s/H/h5'%(q2w,vst_name))\n",
      "        #!now get SC for obtaining normalization factor\n",
      "        h5_SIM_C=FIN_SIMYIELD.Get('%s/%s/C/h5'%(q2w,vst_name))\n",
      "        #!calculate normalization factor\n",
      "        norm=calcNorm(h5['C'],h5_SIM_C);\n",
      "        #!normalize exp-HOLE\n",
      "        h5[vst_name,'H'].Scale(norm);\n",
      "        thntool.SetUnderOverFLowBinsToZero(h5[vst_name,'H']);\n",
      "        h5[vst_name,'H'].Write();\n",
      "\t#! Calculate F\n",
      "    h5[vst_name,'F']=h5[vst_name,'C'].Clone()\n",
      "    h5[vst_name,'F'].Add(h5[vst_name,'H'],1)\n",
      "    h5[vst_name,'F'].SetName('h5')\n",
      "    h5[vst_name,'F'].SetTitle('%s_%s_%s'%(q2w,vst_name,'F'))\n",
      "    vstdir.mkdir('F').cd()\n",
      "    h5[vst_name,'F'].Write()\n",
      "    print \"*** Done processing h8->h5 ***\""
     ],
     "language": "python",
     "metadata": {},
     "outputs": [],
     "prompt_number": 15
    },
    {
     "cell_type": "code",
     "collapsed": false,
     "input": [
      "def proc_h1():\n",
      "    #global h1\n",
      "    print \"*** Processing h5->h1 ... ***\"\n",
      "    for seq in SEQ:\n",
      "        #! Create outdir in OS (I am currently saving 1D hist plots to view with gqview)\n",
      "        outdir=os.path.join(ANADIR,q2w,vst_name,seq)\n",
      "        if not os.path.exists(outdir):\n",
      "            os.makedirs(outdir)\n",
      "        #! cd into FOUT.q2wdir.vstdir.seqdir(note seqdir already create in proc_h5)\n",
      "        vstdir.cd(seq)\n",
      "#         #! Save hq2w created when doing h8->h5\n",
      "#         if seq=='ST' or seq=='SR':\n",
      "#             cq2w=ROOT.TCanvas(hq2w[vst_name,seq].GetName(),hq2w[vst_name,seq].GetTitle())\n",
      "#             hq2w[vst_name,seq].Draw(\"colz\")\n",
      "#             hq2w[vst_name,seq].Write()\n",
      "#             cq2w.SaveAs(\"%s/%s.png\"%(outdir,cq2w.GetName()))\n",
      "        #! Project out h1s\n",
      "        for var in VARS:\n",
      "            h1[vst_name,seq,var]=h5[vst_name,seq].Projection(H5_DIM[var],\"E\")\n",
      "            h1[vst_name,seq,var].SetName('h_%s'%var)\n",
      "            h1[vst_name,seq,var].SetTitle(\"%s_%s_%s_%s\"%(q2w,vst_name,seq,var))\n",
      "            h1[vst_name,seq,var].Write()\n",
      "            c1=ROOT.TCanvas(h1[vst_name,seq,var].GetName(),h1[vst_name,seq,var].GetTitle())\n",
      "            h1[vst_name,seq,var].Draw()\n",
      "            c1.SaveAs(\"%s/%s.png\"%(outdir,c1.GetName()))\n",
      "            c1.Close()\n",
      "    print \"*** Done processing h5->h1 ***\""
     ],
     "language": "python",
     "metadata": {},
     "outputs": [],
     "prompt_number": 5
    },
    {
     "cell_type": "code",
     "collapsed": false,
     "input": [
      "def calcNorm(h5D_EA,h5D_SA):\n",
      "    norm,nExpEvts,nSimEvts=0,0,0\n",
      "    expBinCoord=np.zeros(5,'i')\n",
      "    nExpBins = h5D_EA.GetNbins()\n",
      "    for iExpBin in range(nExpBins):\n",
      "        nExpEvts+=h5D_EA.GetBinContent(iExpBin,expBinCoord)\n",
      "        iSimBin=h5D_SA.GetBin(expBinCoord);\n",
      "        nSimEvts+=h5D_SA.GetBinContent(iSimBin)\n",
      "    norm=nExpEvts/nSimEvts;\n",
      "    return norm"
     ],
     "language": "python",
     "metadata": {},
     "outputs": [],
     "prompt_number": 6
    },
    {
     "cell_type": "code",
     "collapsed": false,
     "input": [
      "#! Fetch h8{}\n",
      "h8=OrderedDict()\n",
      "f=ROOT.TFile(FIN)\n",
      "get_h8()\n",
      "\n",
      "# #! Debug h8{}\n",
      "# for k in h8:\n",
      "#     print k,h8[k].GetEntries()   \n",
      "  "
     ],
     "language": "python",
     "metadata": {},
     "outputs": [
      {
       "output_type": "stream",
       "stream": "stdout",
       "text": [
        "Going to get d2piT/yield_varset1 ...\n",
        "Done getting"
       ]
      },
      {
       "output_type": "stream",
       "stream": "stdout",
       "text": [
        " d2piT/yield_varset1\n",
        "Going to get d2piR/top1/yield_varset1 ...\n",
        "Done getting"
       ]
      },
      {
       "output_type": "stream",
       "stream": "stdout",
       "text": [
        " d2piR/top1/yield_varset1\n",
        "Going to get and add to top1 d2piR/top2/yield_varset1 ...\n",
        "Done gettng and adding to top1"
       ]
      },
      {
       "output_type": "stream",
       "stream": "stdout",
       "text": [
        " d2piR/top2/yield_varset1\n",
        "Going to get and add to top1 d2piR/top3/yield_varset1 ...\n",
        "Done gettng and adding to top1"
       ]
      },
      {
       "output_type": "stream",
       "stream": "stdout",
       "text": [
        " d2piR/top3/yield_varset1\n",
        "Going to get and add to top1 d2piR/top4/yield_varset1 ...\n",
        "Done gettng and adding to top1"
       ]
      },
      {
       "output_type": "stream",
       "stream": "stdout",
       "text": [
        " d2piR/top4/yield_varset1\n",
        "Going to get d2piT/yield_varset2 ...\n",
        "Done getting"
       ]
      },
      {
       "output_type": "stream",
       "stream": "stdout",
       "text": [
        " d2piT/yield_varset2\n",
        "Going to get d2piR/top1/yield_varset2 ...\n",
        "Done getting"
       ]
      },
      {
       "output_type": "stream",
       "stream": "stdout",
       "text": [
        " d2piR/top1/yield_varset2\n",
        "Going to get and add to top1 d2piR/top2/yield_varset2 ...\n",
        "Done gettng and adding to top1"
       ]
      },
      {
       "output_type": "stream",
       "stream": "stdout",
       "text": [
        " d2piR/top2/yield_varset2\n",
        "Going to get and add to top1 d2piR/top3/yield_varset2 ...\n",
        "Done gettng and adding to top1"
       ]
      },
      {
       "output_type": "stream",
       "stream": "stdout",
       "text": [
        " d2piR/top3/yield_varset2\n",
        "Going to get and add to top1 d2piR/top4/yield_varset2 ...\n",
        "Done gettng and adding to top1"
       ]
      },
      {
       "output_type": "stream",
       "stream": "stdout",
       "text": [
        " d2piR/top4/yield_varset2\n",
        "Going to get d2piT/yield_varset3 ...\n",
        "Done getting"
       ]
      },
      {
       "output_type": "stream",
       "stream": "stdout",
       "text": [
        " d2piT/yield_varset3\n",
        "Going to get d2piR/top1/yield_varset3 ...\n",
        "Done getting"
       ]
      },
      {
       "output_type": "stream",
       "stream": "stdout",
       "text": [
        " d2piR/top1/yield_varset3\n",
        "Going to get and add to top1 d2piR/top2/yield_varset3 ...\n",
        "Done gettng and adding to top1"
       ]
      },
      {
       "output_type": "stream",
       "stream": "stdout",
       "text": [
        " d2piR/top2/yield_varset3\n",
        "Going to get and add to top1 d2piR/top3/yield_varset3 ...\n",
        "Done gettng and adding to top1"
       ]
      },
      {
       "output_type": "stream",
       "stream": "stdout",
       "text": [
        " d2piR/top3/yield_varset3\n",
        "Going to get and add to top1 d2piR/top4/yield_varset3 ...\n",
        "Done gettng and adding to top1"
       ]
      },
      {
       "output_type": "stream",
       "stream": "stdout",
       "text": [
        " d2piR/top4/yield_varset3\n"
       ]
      }
     ],
     "prompt_number": 7
    },
    {
     "cell_type": "code",
     "collapsed": false,
     "input": [
      "#! Loop over [Q2BNG,WBNG],VSTS,SEQ, and project: h8->h5->h1\n",
      "FOUT=ROOT.TFile(os.path.join(ANADIR,\"yield_sim.root\"),\"RECREATE\")\n",
      "for i in range(Q2BNG['NBINS']):\n",
      "    for j in range(WBNG['NBINS']):\n",
      "        if j>0: break\n",
      "        q2w=\"%0.1f-%0.1f_%0.3f-%0.3f\"%(Q2BNG['BINS_LE'][i],Q2BNG['BINS_UE'][i],WBNG['BINS_LE'][i],WBNG['BINS_UE'][i])\n",
      "        q2wdir=FOUT.mkdir(q2w)\n",
      "        hq2w,h5,h1=OrderedDict(),OrderedDict(),OrderedDict()\n",
      "        for vst in VSTS:\n",
      "            vst_name='VST%d'%vst\n",
      "            vstdir=q2wdir.mkdir(vst_name)           \n",
      "            print \"*** Processing %s,%s ***\"%(q2w,vst_name)\n",
      "            #! 1. h8->h5 \n",
      "            proc_h5()\n",
      "            #! 2. h5->h1\n",
      "            proc_h1()\n",
      "FOUT.Close()"
     ],
     "language": "python",
     "metadata": {},
     "outputs": [
      {
       "output_type": "stream",
       "stream": "stderr",
       "text": [
        "WARNING:ROOT.TCanvas.Constructor] Deleting canvas with same name: h_q2_v_w\n"
       ]
      },
      {
       "output_type": "stream",
       "stream": "stderr",
       "text": [
        "INFO:ROOT.TCanvas.Print] png file /home/trivedia/CLAS/workspace/ana2pi/obs/q2w2/2.0-2.5_1.300-1.325/VST1/T/h_q2_v_w.png has been created\n"
       ]
      },
      {
       "output_type": "stream",
       "stream": "stdout",
       "text": [
        "*** Processing 2.0-2.5_1.300-1.325,VST1 ***\n",
        "*** 1. Processing h8->h5 ***\n",
        "For h8(VST1,T),finished setting Q2-,W-bin range = [5,6],[13,13] ***\n",
        "For h8(VST1,R),finished setting Q2-,W-bin range = [5,6],[13,13] ***"
       ]
      },
      {
       "output_type": "stream",
       "stream": "stderr",
       "text": [
        "WARNING:ROOT.TCanvas.Constructor] Deleting canvas with same name: h_q2_v_w\n"
       ]
      },
      {
       "output_type": "stream",
       "stream": "stderr",
       "text": [
        "INFO:ROOT.TCanvas.Print] png file /home/trivedia/CLAS/workspace/ana2pi/obs/q2w2/2.0-2.5_1.300-1.325/VST1/R/h_q2_v_w.png has been created\n"
       ]
      },
      {
       "output_type": "stream",
       "stream": "stderr",
       "text": [
        "WARNING:ROOT.THnSparseT<TArrayF>.Divide(h)] Histogram h has empty bins - division by zero! Setting bin to 0.\n"
       ]
      },
      {
       "output_type": "stream",
       "stream": "stderr",
       "text": [
        "WARNING:ROOT.THnSparseT<TArrayF>.Divide(h)] Histogram h has empty bins - division by zero! Setting bin to 0.\n"
       ]
      },
      {
       "output_type": "stream",
       "stream": "stdout",
       "text": [
        "\n",
        "*** Done processing h8->h5 ***"
       ]
      },
      {
       "output_type": "stream",
       "stream": "stdout",
       "text": [
        "\n",
        "*** Processing h5->h1 ... ***\n",
        "*** Done processing h5->h1 ***"
       ]
      },
      {
       "output_type": "stream",
       "stream": "stdout",
       "text": [
        "\n",
        "*** Processing 2.0-2.5_1.300-1.325,VST2 ***\n",
        "*** 1. Processing h8->h5 ***\n",
        "For h8(VST2,T),finished setting Q2-,W-bin range = [5,6],[13,13] ***\n",
        "For h8(VST2,R),finished setting Q2-,W-bin range = [5,6],[13,13] ***"
       ]
      },
      {
       "output_type": "stream",
       "stream": "stderr",
       "text": [
        "WARNING:ROOT.TCanvas.Constructor] Deleting canvas with same name: h_q2_v_w\n"
       ]
      },
      {
       "output_type": "stream",
       "stream": "stderr",
       "text": [
        "WARNING:ROOT.THnSparseT<TArrayF>.Divide(h)] Histogram h has empty bins - division by zero! Setting bin to 0.\n"
       ]
      },
      {
       "output_type": "stream",
       "stream": "stderr",
       "text": [
        "WARNING:ROOT.THnSparseT<TArrayF>.Divide(h)] Histogram h has empty bins - division by zero! Setting bin to 0.\n"
       ]
      },
      {
       "output_type": "stream",
       "stream": "stdout",
       "text": [
        "\n",
        "*** Done processing h8->h5 ***"
       ]
      },
      {
       "output_type": "stream",
       "stream": "stdout",
       "text": [
        "\n",
        "*** Processing h5->h1 ... ***\n",
        "*** Done processing h5->h1 ***"
       ]
      },
      {
       "output_type": "stream",
       "stream": "stdout",
       "text": [
        "\n",
        "*** Processing 2.0-2.5_1.300-1.325,VST3 ***\n",
        "*** 1. Processing h8->h5 ***\n",
        "For h8(VST3,T),finished setting Q2-,W-bin range = [5,6],[13,13] ***\n",
        "For h8(VST3,R),finished setting Q2-,W-bin range = [5,6],[13,13] ***"
       ]
      },
      {
       "output_type": "stream",
       "stream": "stderr",
       "text": [
        "WARNING:ROOT.TCanvas.Constructor] Deleting canvas with same name: h_q2_v_w\n"
       ]
      },
      {
       "output_type": "stream",
       "stream": "stderr",
       "text": [
        "WARNING:ROOT.THnSparseT<TArrayF>.Divide(h)] Histogram h has empty bins - division by zero! Setting bin to 0.\n"
       ]
      },
      {
       "output_type": "stream",
       "stream": "stderr",
       "text": [
        "WARNING:ROOT.THnSparseT<TArrayF>.Divide(h)] Histogram h has empty bins - division by zero! Setting bin to 0.\n"
       ]
      },
      {
       "output_type": "stream",
       "stream": "stdout",
       "text": [
        "\n",
        "*** Done processing h8->h5 ***"
       ]
      },
      {
       "output_type": "stream",
       "stream": "stdout",
       "text": [
        "\n",
        "*** Processing h5->h1 ... ***\n",
        "*** Done processing h5->h1 ***"
       ]
      },
      {
       "output_type": "stream",
       "stream": "stdout",
       "text": [
        "\n"
       ]
      }
     ],
     "prompt_number": 16
    },
    {
     "cell_type": "code",
     "collapsed": false,
     "input": [],
     "language": "python",
     "metadata": {},
     "outputs": []
    }
   ],
   "metadata": {}
  }
 ]
}