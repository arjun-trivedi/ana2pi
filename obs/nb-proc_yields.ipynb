{
 "metadata": {
  "name": ""
 },
 "nbformat": 3,
 "nbformat_minor": 0,
 "worksheets": [
  {
   "cells": [
    {
     "cell_type": "code",
     "collapsed": false,
     "input": [
      "#! Imports\n",
      "from array import *\n",
      "from collections import OrderedDict\n",
      "\n",
      "import atlib as atlib\n",
      "\n",
      "ROOT.gROOT.ProcessLine(\".L THnTool.C+\")\n",
      "from ROOT import THnTool\n",
      "\n",
      "# Tools\n",
      "thntool=THnTool()\n",
      "\n",
      "# Constants\n",
      "#h8_dim={'HEL':0,'Q2':1,'W':2,'M1':3,'M2':4,'THETA':6,'PHI':7,'ALPHA':8}\n",
      "#! See http://stackoverflow.com/questions/16553506/python-ordereddict-iteration for following code\n",
      "H8_DIM=OrderedDict([('HEL',0),('Q2',1),('W',2),('M1',3),('M2',4),('THETA',5),('PHI',6),('ALPHA',7)])\n",
      "H5_PROJDIM=array('i',[H8_DIM['M1'],H8_DIM['M2'],H8_DIM['THETA'],H8_DIM['PHI'],\n",
      "                      H8_DIM['ALPHA']])\n",
      "# print H8_DIM \n",
      "# print H8_DIM.keys()\n",
      "# print H8_DIM.values()\n",
      "\n",
      "H5_DIM=OrderedDict([('M1',0),('M2',1),('THETA',2),('PHI',3),('ALPHA',4)])\n",
      "# print H5_DIM \n",
      "# print H5_DIM.keys()\n",
      "# print H5_DIM.values()\n",
      "\n",
      "SEQ_SIM=['ST','SR','SA','SC','SH','SF']\n",
      "SEQ_EXP=['ER','EC','EH','EF']\n",
      "\n",
      "VARS=['M1','M2','THETA','PHI','ALPHA']\n",
      "\n",
      "# Following defined by UI\n",
      "TOPS=[1,2,3,4] # as per UI\n",
      "VSTS=[1,2,3] # as per UI\n",
      "\n",
      "Q2W='q2w2' # as per UI's q2w range\n",
      "Q2BNG,WBNG=None,None\n",
      "if Q2W=='q2w2':\n",
      "    q2w=[[2.0,2.5,0.5],[1.3,1.9,0.025]] #min,max,width; as per UI\n",
      "    Q2BNG,WBNG=atlib.init_q2wbng2(q2w)\n",
      "SIM_NUM='sim_1' # as per UI\n",
      "# #! Test Q2WBNG, WBNG\n",
      "# print \"Q2 bins=\",Q2BNG['BINS']\n",
      "# print \"W bins=\",WBNG['BINS']\n",
      "# for i in range(Q2BNG['NBINS']):\n",
      "#     print \"Q2 bin:\",i+1\n",
      "#     print Q2BNG['BINS_LE'][i]\n",
      "#     print Q2BNG['BINS_UE'][i]\n",
      "# for i in range(WBNG['NBINS']):\n",
      "#     print \"W bin:\",i+1\n",
      "#     print WBNG['BINS_LE'][i]\n",
      "#     print WBNG['BINS_UE'][i]\n",
      "\n",
      "SEQ=SEQ_SIM # as per UI\n",
      "\n",
      "DATADIR=os.environ['OBS_DATADIR_SIM'] # as per UI=EXP/SIM\n",
      "print \"DATADIR=\",DATADIR\n",
      "ANADIR=os.path.join(os.environ['ANA2PI_OBS'],Q2W)\n",
      "print \"ANADIR=\",ANADIR\n",
      "if not os.path.exists(ANADIR):\n",
      "    ANADIR=os.makedirs(ANADIR)\n",
      "\n",
      "FIN=os.path.join(DATADIR,Q2W,SIM_NUM,'d2pi.root')\n",
      "FOUT=ROOT.TFile(os.path.join(ANADIR,\"test.root\"),\"RECREATE\")"
     ],
     "language": "python",
     "metadata": {},
     "outputs": [
      {
       "output_type": "stream",
       "stream": "stdout",
       "text": [
        "DATADIR= /data/trivedia/e1f/sim/2pi\n",
        "ANADIR= /home/trivedia/CLAS/workspace/ana2pi/obs/q2w2\n"
       ]
      }
     ],
     "prompt_number": 5
    },
    {
     "cell_type": "code",
     "collapsed": false,
     "input": [
      "def get_h8():\n",
      "    #! Fetch ST-,SR-h8 directly from file (Add all tops)\n",
      "    for vst in VSTS:\n",
      "        vst_name='VST%d'%vst\n",
      "        #1 Fetch ST-h8\n",
      "        print \"Going to get\",'d2piT/yield_varset%d'%vst,\"...\"\n",
      "        h8[vst_name,'ST']=f.Get('d2piT/yield_varset%d'%vst)\n",
      "        print \"Done getting\",'d2piT/yield_varset%d'%vst\n",
      "        #! For SR, add all tops\n",
      "        for itop,top in enumerate(TOPS):\n",
      "            if itop==0:\n",
      "                print \"Going to get\",'d2piR/top%d/yield_varset%d'%(top,vst),\"...\"\n",
      "                h8[vst_name,'SR']=f.Get('d2piR/top%d/yield_varset%d'%(top,vst))\n",
      "                print \"Done getting\",'d2piR/top%d/yield_varset%d'%(top,vst)\n",
      "            else:\n",
      "                print \"Going to get and add to top1\",'d2piR/top%d/yield_varset%d'%(top,vst),\"...\"\n",
      "                h8[vst_name,'SR'].Add(f.Get('d2piR/top%d/yield_varset%d'%(top,vst)))\n",
      "                print \"Done gettng and adding to top1\",'d2piR/top%d/yield_varset%d'%(top,vst)"
     ],
     "language": "python",
     "metadata": {},
     "outputs": [],
     "prompt_number": 6
    },
    {
     "cell_type": "code",
     "collapsed": false,
     "input": [
      "def proc_h5():\n",
      "    global h5\n",
      "    print \"*** 1. Processing h8->h5 ***\"\n",
      "    for seq in SEQ:\n",
      "        if seq=='ST' or seq=='SR':\n",
      "            #!-- HEL: include all helicities\n",
      "            h8[vst_name,seq].GetAxis(H8_DIM['HEL']).SetRange()\n",
      "            #!-- Q2\n",
      "            q2bin_le=h8[vst_name,seq].GetAxis(H8_DIM['Q2']).FindBin(Q2BNG['BINS_LE'][i])\n",
      "            q2bin_ue=h8[vst_name,seq].GetAxis(H8_DIM['Q2']).FindBin(Q2BNG['BINS_UE'][i])\n",
      "            h8[vst_name,seq].GetAxis(H8_DIM['Q2']).SetRange(q2bin_le,q2bin_ue)\n",
      "            #!-- W\n",
      "            wbin_le=h8[vst_name,seq].GetAxis(H8_DIM['W']).FindBin(WBNG['BINS_LE'][j])\n",
      "            wbin_ue=h8[vst_name,seq].GetAxis(H8_DIM['W']).FindBin(WBNG['BINS_UE'][j])\n",
      "            h8[vst_name,seq].GetAxis(H8_DIM['W']).SetRange(wbin_le,wbin_ue)\n",
      "            print \"For h8(%s,%s),finished setting Q2-,W-bin range = [%d,%d],[%d,%d] ***\"%(vst_name,seq,q2bin_le,q2bin_ue,wbin_le,wbin_ue)\n",
      "            #! Project out hq2w; will save them later\n",
      "            hq2w[vst_name,seq]=h8[vst_name,seq].Projection(H8_DIM['Q2'],H8_DIM['W'],\"E\")\n",
      "            hq2w[vst_name,seq].SetNameTitle(\"h_%s_%s_q2w\"%(vst_name,seq),\"h_%s_%s_q2w\"%(vst_name,seq))\n",
      "        #! 1.2 Finally project out h5\n",
      "        h5[vst_name,'ST']=h8[vst_name,'ST'].Projection(5,H5_PROJDIM,\"E\")\n",
      "        h5[vst_name,'SR']=h8[vst_name,'SR'].Projection(5,H5_PROJDIM,\"E\")\n",
      "        #! Calculate SA\n",
      "        h5[vst_name,'SA']=h5[vst_name,'SR'].Clone()\n",
      "        h5[vst_name,'SA'].Divide(h5[vst_name,'ST'])\n",
      "        #! Calculate SC\n",
      "        h5[vst_name,'SC']=h5[vst_name,'SR'].Clone()\n",
      "        h5[vst_name,'SC'].Divide(h5[vst_name,'SA'])\n",
      "        #! Calculate SH\n",
      "        h5[vst_name,'SH']=h5[vst_name,'ST'].Clone()\n",
      "        h5[vst_name,'SH'].Add(h5[vst_name,'SC'],-1)\n",
      "        thntool.SetUnderOverFLowBinsToZero(h5[vst_name,'SH'])\n",
      "        #! Calculate SF\n",
      "        h5[vst_name,'SF']=h5[vst_name,'SC'].Clone()\n",
      "        h5[vst_name,'SF'].Add(h5[vst_name,'SH'],1)\n",
      "    print \"*** Done processing h8->h5 ***\""
     ],
     "language": "python",
     "metadata": {},
     "outputs": [],
     "prompt_number": 8
    },
    {
     "cell_type": "code",
     "collapsed": false,
     "input": [
      "def proc_h1():\n",
      "    global h1\n",
      "    q2wdir=None\n",
      "    ret=FOUT.GetDirectory(q2w)\n",
      "    if ret==None:\n",
      "        q2wdir=FOUT.mkdir(q2w)\n",
      "    else:\n",
      "        q2wdir=ret\n",
      "    vstdir=q2wdir.mkdir(vst_name)\n",
      "    print \"*** Processing h5->h1 ... ***\"\n",
      "    for seq in SEQ:\n",
      "        #! Create outdir: in OS and ROOT file\n",
      "        #!-- OS\n",
      "        outdir=os.path.join(ANADIR,q2w,vst_name,seq)\n",
      "        if not os.path.exists(outdir):\n",
      "            os.makedirs(outdir)\n",
      "        #! -- ROOT file (Note, vard/q2wd created before SEQ loop)\n",
      "        vstdir.mkdir(seq).cd()\n",
      "        #! Save hq2w created when doing h8->h5\n",
      "        if seq=='ST' or seq=='SR':\n",
      "            cq2w=ROOT.TCanvas(hq2w[vst_name,seq].GetName(),hq2w[vst_name,seq].GetTitle())\n",
      "            hq2w[vst_name,seq].Draw(\"colz\")\n",
      "            hq2w[vst_name,seq].Write()\n",
      "            cq2w.SaveAs(\"%s/%s.png\"%(outdir,cq2w.GetName()))\n",
      "        #! Project out h1s\n",
      "        for var in VARS:\n",
      "            #print \"Processing\",seq,var\n",
      "            h1[vst_name,seq,var]=h5[vst_name,seq].Projection(H5_DIM[var],\"E\")\n",
      "            h1[vst_name,seq,var].SetNameTitle(\"h_%s_%s_%s\"%('VST%d'%vst,seq,var),\"h_%s_%s_%s\"%('VST%d'%vst,seq,var))\n",
      "            h1[vst_name,seq,var].Write()\n",
      "            c1=ROOT.TCanvas(h1[vst_name,seq,var].GetName(),h1[vst_name,seq,var].GetTitle())\n",
      "            h1[vst_name,seq,var].Draw()\n",
      "            c1.SaveAs(\"%s/%s.png\"%(outdir,c1.GetName()))\n",
      "            c1.Close()\n",
      "    print \"*** Done processing h5->h1 ***\""
     ],
     "language": "python",
     "metadata": {},
     "outputs": [],
     "prompt_number": 9
    },
    {
     "cell_type": "code",
     "collapsed": false,
     "input": [
      "#! Fetch h8{}\n",
      "h8=OrderedDict()\n",
      "f=ROOT.TFile(FIN)\n",
      "get_h8()\n",
      "#! Debug h8{}\n",
      "for k in h8:\n",
      "    print k,h8[k].GetEntries()\n",
      "    \n",
      "#! Loop over [Q2BNG,WBNG],VSTS,SEQ, and project: h8->h5->h1\n",
      "FOUT=ROOT.TFile(os.path.join(ANADIR,\"test.root\"),\"RECREATE\")\n",
      "for i in range(Q2BNG['NBINS']):\n",
      "    for j in range(WBNG['NBINS']):\n",
      "        if j>0: break\n",
      "        q2w=\"%0.1f-%0.1f_%0.3f-%0.3f\"%(Q2BNG['BINS_LE'][i],Q2BNG['BINS_UE'][i],WBNG['BINS_LE'][i],WBNG['BINS_UE'][i])\n",
      "        hq2w,h5,h1=OrderedDict(),OrderedDict(),OrderedDict()\n",
      "        for vst in VSTS:\n",
      "            vst_name='VST%d'%vst\n",
      "            print \"*** Processing %s,%s ***\"%(q2w,vst_name)\n",
      "            #! 1. h8->h5 \n",
      "            proc_h5()\n",
      "            #! 2. h5->h1\n",
      "            proc_h1()\n",
      "FOUT.Close()      "
     ],
     "language": "python",
     "metadata": {},
     "outputs": [
      {
       "output_type": "stream",
       "stream": "stdout",
       "text": [
        "Going to get d2piT/yield_varset1 ...\n",
        "Done getting"
       ]
      },
      {
       "output_type": "stream",
       "stream": "stdout",
       "text": [
        " d2piT/yield_varset1\n",
        "Going to get d2piR/top1/yield_varset1 ...\n",
        "Done getting"
       ]
      },
      {
       "output_type": "stream",
       "stream": "stdout",
       "text": [
        " d2piR/top1/yield_varset1\n",
        "Going to get and add to top1 d2piR/top2/yield_varset1 ...\n",
        "Done gettng and adding to top1"
       ]
      },
      {
       "output_type": "stream",
       "stream": "stdout",
       "text": [
        " d2piR/top2/yield_varset1\n",
        "Going to get and add to top1 d2piR/top3/yield_varset1 ...\n",
        "Done gettng and adding to top1"
       ]
      },
      {
       "output_type": "stream",
       "stream": "stdout",
       "text": [
        " d2piR/top3/yield_varset1\n",
        "Going to get and add to top1 d2piR/top4/yield_varset1 ...\n",
        "Done gettng and adding to top1"
       ]
      },
      {
       "output_type": "stream",
       "stream": "stdout",
       "text": [
        " d2piR/top4/yield_varset1\n",
        "Going to get d2piT/yield_varset2 ...\n",
        "Done getting"
       ]
      },
      {
       "output_type": "stream",
       "stream": "stdout",
       "text": [
        " d2piT/yield_varset2\n",
        "Going to get d2piR/top1/yield_varset2 ...\n",
        "Done getting"
       ]
      },
      {
       "output_type": "stream",
       "stream": "stdout",
       "text": [
        " d2piR/top1/yield_varset2\n",
        "Going to get and add to top1 d2piR/top2/yield_varset2 ...\n",
        "Done gettng and adding to top1"
       ]
      },
      {
       "output_type": "stream",
       "stream": "stdout",
       "text": [
        " d2piR/top2/yield_varset2\n",
        "Going to get and add to top1 d2piR/top3/yield_varset2 ...\n",
        "Done gettng and adding to top1"
       ]
      },
      {
       "output_type": "stream",
       "stream": "stdout",
       "text": [
        " d2piR/top3/yield_varset2\n",
        "Going to get and add to top1 d2piR/top4/yield_varset2 ...\n",
        "Done gettng and adding to top1"
       ]
      },
      {
       "output_type": "stream",
       "stream": "stdout",
       "text": [
        " d2piR/top4/yield_varset2\n",
        "Going to get d2piT/yield_varset3 ...\n",
        "Done getting"
       ]
      },
      {
       "output_type": "stream",
       "stream": "stdout",
       "text": [
        " d2piT/yield_varset3\n",
        "Going to get d2piR/top1/yield_varset3 ...\n",
        "Done getting"
       ]
      },
      {
       "output_type": "stream",
       "stream": "stdout",
       "text": [
        " d2piR/top1/yield_varset3\n",
        "Going to get and add to top1 d2piR/top2/yield_varset3 ...\n",
        "Done gettng and adding to top1"
       ]
      },
      {
       "output_type": "stream",
       "stream": "stdout",
       "text": [
        " d2piR/top2/yield_varset3\n",
        "Going to get and add to top1 d2piR/top3/yield_varset3 ...\n",
        "Done gettng and adding to top1"
       ]
      },
      {
       "output_type": "stream",
       "stream": "stdout",
       "text": [
        " d2piR/top3/yield_varset3\n",
        "Going to get and add to top1 d2piR/top4/yield_varset3 ...\n",
        "Done gettng and adding to top1"
       ]
      },
      {
       "output_type": "stream",
       "stream": "stdout",
       "text": [
        " d2piR/top4/yield_varset3\n",
        "('VST1', 'ST')"
       ]
      },
      {
       "output_type": "stream",
       "stream": "stdout",
       "text": [
        " 198853353.0\n",
        "('VST1', 'SR') 36724877.0\n",
        "('VST2', 'ST') 198853353.0\n",
        "('VST2', 'SR') 36724877.0\n",
        "('VST3', 'ST') 198853353.0\n",
        "('VST3', 'SR') 36724877.0\n",
        "*** Processing 2.0-2.5_1.300-1.325,VST1 ***"
       ]
      },
      {
       "output_type": "stream",
       "stream": "stdout",
       "text": [
        "\n",
        "*** 1. Processing h8->h5 ***\n",
        "For h8(VST1,ST),finished setting Q2-,W-bin range = [5,6],[13,13] ***"
       ]
      },
      {
       "output_type": "stream",
       "stream": "stderr",
       "text": [
        "WARNING:ROOT.THnSparseT<TArrayF>.Divide(h)] Histogram h has empty bins - division by zero! Setting bin to 0.\n"
       ]
      },
      {
       "output_type": "stream",
       "stream": "stderr",
       "text": [
        "WARNING:ROOT.THnSparseT<TArrayF>.Divide(h)] Histogram h has empty bins - division by zero! Setting bin to 0.\n"
       ]
      },
      {
       "output_type": "stream",
       "stream": "stdout",
       "text": [
        "\n",
        "For h8(VST1,SR),finished setting Q2-,W-bin range = [5,6],[13,13] ***"
       ]
      },
      {
       "output_type": "stream",
       "stream": "stderr",
       "text": [
        "WARNING:ROOT.THnSparseT<TArrayF>.Divide(h)] Histogram h has empty bins - division by zero! Setting bin to 0.\n"
       ]
      },
      {
       "output_type": "stream",
       "stream": "stderr",
       "text": [
        "WARNING:ROOT.THnSparseT<TArrayF>.Divide(h)] Histogram h has empty bins - division by zero! Setting bin to 0.\n"
       ]
      },
      {
       "output_type": "stream",
       "stream": "stderr",
       "text": [
        "WARNING:ROOT.THnSparseT<TArrayF>.Divide(h)] Histogram h has empty bins - division by zero! Setting bin to 0.\n"
       ]
      },
      {
       "output_type": "stream",
       "stream": "stderr",
       "text": [
        "WARNING:ROOT.THnSparseT<TArrayF>.Divide(h)] Histogram h has empty bins - division by zero! Setting bin to 0.\n"
       ]
      },
      {
       "output_type": "stream",
       "stream": "stderr",
       "text": [
        "WARNING:ROOT.THnSparseT<TArrayF>.Divide(h)] Histogram h has empty bins - division by zero! Setting bin to 0.\n"
       ]
      },
      {
       "output_type": "stream",
       "stream": "stderr",
       "text": [
        "WARNING:ROOT.THnSparseT<TArrayF>.Divide(h)] Histogram h has empty bins - division by zero! Setting bin to 0.\n"
       ]
      },
      {
       "output_type": "stream",
       "stream": "stderr",
       "text": [
        "WARNING:ROOT.THnSparseT<TArrayF>.Divide(h)] Histogram h has empty bins - division by zero! Setting bin to 0.\n"
       ]
      },
      {
       "output_type": "stream",
       "stream": "stderr",
       "text": [
        "WARNING:ROOT.THnSparseT<TArrayF>.Divide(h)] Histogram h has empty bins - division by zero! Setting bin to 0.\n"
       ]
      },
      {
       "output_type": "stream",
       "stream": "stderr",
       "text": [
        "WARNING:ROOT.THnSparseT<TArrayF>.Divide(h)] Histogram h has empty bins - division by zero! Setting bin to 0.\n"
       ]
      },
      {
       "output_type": "stream",
       "stream": "stderr",
       "text": [
        "WARNING:ROOT.THnSparseT<TArrayF>.Divide(h)] Histogram h has empty bins - division by zero! Setting bin to 0.\n"
       ]
      },
      {
       "output_type": "stream",
       "stream": "stdout",
       "text": [
        "\n",
        "*** Done processing h8->h5 ***"
       ]
      },
      {
       "output_type": "stream",
       "stream": "stdout",
       "text": [
        "\n",
        "*** Processing h5->h1 ... ***"
       ]
      },
      {
       "output_type": "stream",
       "stream": "stdout",
       "text": [
        "\n",
        "*** Done processing h5->h1 ***"
       ]
      },
      {
       "output_type": "stream",
       "stream": "stderr",
       "text": [
        "WARNING:ROOT.THnSparseT<TArrayF>.Divide(h)] Histogram h has empty bins - division by zero! Setting bin to 0.\n"
       ]
      },
      {
       "output_type": "stream",
       "stream": "stderr",
       "text": [
        "WARNING:ROOT.THnSparseT<TArrayF>.Divide(h)] Histogram h has empty bins - division by zero! Setting bin to 0.\n"
       ]
      },
      {
       "output_type": "stream",
       "stream": "stdout",
       "text": [
        "\n",
        "*** Processing 2.0-2.5_1.300-1.325,VST2 ***\n",
        "*** 1. Processing h8->h5 ***\n",
        "For h8(VST2,ST),finished setting Q2-,W-bin range = [5,6],[13,13] ***\n",
        "For h8(VST2,SR),finished setting Q2-,W-bin range = [5,6],[13,13] ***"
       ]
      },
      {
       "output_type": "stream",
       "stream": "stderr",
       "text": [
        "WARNING:ROOT.THnSparseT<TArrayF>.Divide(h)] Histogram h has empty bins - division by zero! Setting bin to 0.\n"
       ]
      },
      {
       "output_type": "stream",
       "stream": "stderr",
       "text": [
        "WARNING:ROOT.THnSparseT<TArrayF>.Divide(h)] Histogram h has empty bins - division by zero! Setting bin to 0.\n"
       ]
      },
      {
       "output_type": "stream",
       "stream": "stderr",
       "text": [
        "WARNING:ROOT.THnSparseT<TArrayF>.Divide(h)] Histogram h has empty bins - division by zero! Setting bin to 0.\n"
       ]
      },
      {
       "output_type": "stream",
       "stream": "stderr",
       "text": [
        "WARNING:ROOT.THnSparseT<TArrayF>.Divide(h)] Histogram h has empty bins - division by zero! Setting bin to 0.\n"
       ]
      },
      {
       "output_type": "stream",
       "stream": "stderr",
       "text": [
        "WARNING:ROOT.THnSparseT<TArrayF>.Divide(h)] Histogram h has empty bins - division by zero! Setting bin to 0.\n"
       ]
      },
      {
       "output_type": "stream",
       "stream": "stderr",
       "text": [
        "WARNING:ROOT.THnSparseT<TArrayF>.Divide(h)] Histogram h has empty bins - division by zero! Setting bin to 0.\n"
       ]
      },
      {
       "output_type": "stream",
       "stream": "stderr",
       "text": [
        "WARNING:ROOT.THnSparseT<TArrayF>.Divide(h)] Histogram h has empty bins - division by zero! Setting bin to 0.\n"
       ]
      },
      {
       "output_type": "stream",
       "stream": "stderr",
       "text": [
        "WARNING:ROOT.THnSparseT<TArrayF>.Divide(h)] Histogram h has empty bins - division by zero! Setting bin to 0.\n"
       ]
      },
      {
       "output_type": "stream",
       "stream": "stderr",
       "text": [
        "WARNING:ROOT.THnSparseT<TArrayF>.Divide(h)] Histogram h has empty bins - division by zero! Setting bin to 0.\n"
       ]
      },
      {
       "output_type": "stream",
       "stream": "stderr",
       "text": [
        "WARNING:ROOT.THnSparseT<TArrayF>.Divide(h)] Histogram h has empty bins - division by zero! Setting bin to 0.\n"
       ]
      },
      {
       "output_type": "stream",
       "stream": "stdout",
       "text": [
        "\n",
        "*** Done processing h8->h5 ***"
       ]
      },
      {
       "output_type": "stream",
       "stream": "stdout",
       "text": [
        "\n",
        "*** Processing h5->h1 ... ***\n",
        "*** Done processing h5->h1 ***"
       ]
      },
      {
       "output_type": "stream",
       "stream": "stderr",
       "text": [
        "WARNING:ROOT.THnSparseT<TArrayF>.Divide(h)] Histogram h has empty bins - division by zero! Setting bin to 0.\n"
       ]
      },
      {
       "output_type": "stream",
       "stream": "stderr",
       "text": [
        "WARNING:ROOT.THnSparseT<TArrayF>.Divide(h)] Histogram h has empty bins - division by zero! Setting bin to 0.\n"
       ]
      },
      {
       "output_type": "stream",
       "stream": "stdout",
       "text": [
        "\n",
        "*** Processing 2.0-2.5_1.300-1.325,VST3 ***\n",
        "*** 1. Processing h8->h5 ***\n",
        "For h8(VST3,ST),finished setting Q2-,W-bin range = [5,6],[13,13] ***\n",
        "For h8(VST3,SR),finished setting Q2-,W-bin range = [5,6],[13,13] ***"
       ]
      },
      {
       "output_type": "stream",
       "stream": "stderr",
       "text": [
        "WARNING:ROOT.THnSparseT<TArrayF>.Divide(h)] Histogram h has empty bins - division by zero! Setting bin to 0.\n"
       ]
      },
      {
       "output_type": "stream",
       "stream": "stderr",
       "text": [
        "WARNING:ROOT.THnSparseT<TArrayF>.Divide(h)] Histogram h has empty bins - division by zero! Setting bin to 0.\n"
       ]
      },
      {
       "output_type": "stream",
       "stream": "stderr",
       "text": [
        "WARNING:ROOT.THnSparseT<TArrayF>.Divide(h)] Histogram h has empty bins - division by zero! Setting bin to 0.\n"
       ]
      },
      {
       "output_type": "stream",
       "stream": "stderr",
       "text": [
        "WARNING:ROOT.THnSparseT<TArrayF>.Divide(h)] Histogram h has empty bins - division by zero! Setting bin to 0.\n"
       ]
      },
      {
       "output_type": "stream",
       "stream": "stderr",
       "text": [
        "WARNING:ROOT.THnSparseT<TArrayF>.Divide(h)] Histogram h has empty bins - division by zero! Setting bin to 0.\n"
       ]
      },
      {
       "output_type": "stream",
       "stream": "stderr",
       "text": [
        "WARNING:ROOT.THnSparseT<TArrayF>.Divide(h)] Histogram h has empty bins - division by zero! Setting bin to 0.\n"
       ]
      },
      {
       "output_type": "stream",
       "stream": "stderr",
       "text": [
        "WARNING:ROOT.THnSparseT<TArrayF>.Divide(h)] Histogram h has empty bins - division by zero! Setting bin to 0.\n"
       ]
      },
      {
       "output_type": "stream",
       "stream": "stderr",
       "text": [
        "WARNING:ROOT.THnSparseT<TArrayF>.Divide(h)] Histogram h has empty bins - division by zero! Setting bin to 0.\n"
       ]
      },
      {
       "output_type": "stream",
       "stream": "stderr",
       "text": [
        "WARNING:ROOT.THnSparseT<TArrayF>.Divide(h)] Histogram h has empty bins - division by zero! Setting bin to 0.\n"
       ]
      },
      {
       "output_type": "stream",
       "stream": "stderr",
       "text": [
        "WARNING:ROOT.THnSparseT<TArrayF>.Divide(h)] Histogram h has empty bins - division by zero! Setting bin to 0.\n"
       ]
      },
      {
       "output_type": "stream",
       "stream": "stdout",
       "text": [
        "\n",
        "*** Done processing h8->h5 ***"
       ]
      },
      {
       "output_type": "stream",
       "stream": "stdout",
       "text": [
        "\n",
        "*** Processing h5->h1 ... ***\n",
        "*** Done processing h5->h1 ***"
       ]
      },
      {
       "output_type": "stream",
       "stream": "stdout",
       "text": [
        "\n"
       ]
      }
     ],
     "prompt_number": 11
    },
    {
     "cell_type": "code",
     "collapsed": false,
     "input": [],
     "language": "python",
     "metadata": {},
     "outputs": []
    }
   ],
   "metadata": {}
  }
 ]
}