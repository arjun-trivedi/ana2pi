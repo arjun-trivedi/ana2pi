{
 "metadata": {
  "name": ""
 },
 "nbformat": 3,
 "nbformat_minor": 0,
 "worksheets": [
  {
   "cells": [
    {
     "cell_type": "code",
     "collapsed": false,
     "input": [
      "#! Imports\n",
      "from array import *\n",
      "from collections import OrderedDict\n",
      "\n",
      "import atlib as atlib\n",
      "\n",
      "ROOT.gROOT.ProcessLine(\".L THnTool.C+\")\n",
      "#ROOT.gSystem.Load(\"THnTool_C.so\")\n",
      "from ROOT import THnTool\n",
      "thntool=THnTool()\n",
      "\n",
      "SEQ={}\n",
      "SEQ['SIM']=['ST','SR','SA','SC','SH','SF']\n",
      "SEQ['EXP']=['ER','EC','EH','EF']\n",
      "for iseq,seq in enumerate(SEQ['SIM']):\n",
      "    print iseq,seq\n"
     ],
     "language": "python",
     "metadata": {},
     "outputs": [
      {
       "output_type": "stream",
       "stream": "stderr",
       "text": [
        "INFO:ROOT.ACLiC] unmodified script has already been compiled and loaded\n"
       ]
      },
      {
       "output_type": "stream",
       "stream": "stdout",
       "text": [
        "0 ST\n",
        "1 SR\n",
        "2 SA\n",
        "3 SC\n",
        "4 SH\n",
        "5 SF\n"
       ]
      }
     ],
     "prompt_number": 15
    },
    {
     "cell_type": "code",
     "collapsed": false,
     "input": [
      "#! Define some q2w_i binnings; where sum_i_n(q2w_i)=q2w-F\n",
      "q2w2=[[2.0,2.5,0.5],[1.3,1.9,0.025]] #min,max,width \n",
      "Q2BNG,WBNG=atlib.init_q2wbng2(q2w2)\n",
      "#! Test Q2WBNG, WBNG\n",
      "print \"Q2 bins=\",Q2BNG['BINS']\n",
      "print \"W bins=\",WBNG['BINS']\n",
      "for i in range(Q2BNG['NBINS']):\n",
      "    print \"Q2 bin:\",i+1\n",
      "    print Q2BNG['BINS_LE'][i]\n",
      "    print Q2BNG['BINS_UE'][i]\n",
      "for i in range(WBNG['NBINS']):\n",
      "    print \"W bin:\",i+1\n",
      "    print WBNG['BINS_LE'][i]\n",
      "    print WBNG['BINS_UE'][i]    \n"
     ],
     "language": "python",
     "metadata": {},
     "outputs": [
      {
       "output_type": "stream",
       "stream": "stdout",
       "text": [
        "Q2 bins= [2.0, 2.5]\n",
        "W bins= [1.3, 1.325, 1.3500000000000001, 1.375, 1.4000000000000001, 1.425, 1.4500000000000002, 1.4750000000000001, 1.5, 1.5250000000000001, 1.55, 1.5750000000000002, 1.6000000000000001, 1.625, 1.6500000000000001, 1.675, 1.7000000000000002, 1.7250000000000001, 1.75, 1.7750000000000001, 1.8, 1.8250000000000002, 1.8500000000000001, 1.875, 1.8999999999999999]\n",
        "Q2 bin: 1\n",
        "2.0\n",
        "2.5\n",
        "W bin: 1\n",
        "1.3\n",
        "1.325\n",
        "W bin: 2\n",
        "1.325\n",
        "1.35\n",
        "W bin: 3\n",
        "1.35\n",
        "1.375\n",
        "W bin: 4\n",
        "1.375\n",
        "1.4\n",
        "W bin: 5\n",
        "1.4\n",
        "1.425\n",
        "W bin: 6\n",
        "1.425\n",
        "1.45\n",
        "W bin: 7\n",
        "1.45\n",
        "1.475\n",
        "W bin: 8\n",
        "1.475\n",
        "1.5\n",
        "W bin: 9\n",
        "1.5\n",
        "1.525\n",
        "W bin: 10\n",
        "1.525\n",
        "1.55\n",
        "W bin: 11\n",
        "1.55\n",
        "1.575\n",
        "W bin: 12\n",
        "1.575\n",
        "1.6\n",
        "W bin: 13\n",
        "1.6\n",
        "1.625\n",
        "W bin: 14\n",
        "1.625\n",
        "1.65\n",
        "W bin: 15\n",
        "1.65\n",
        "1.675\n",
        "W bin: 16\n",
        "1.675\n",
        "1.7\n",
        "W bin: 17\n",
        "1.7\n",
        "1.725\n",
        "W bin: 18\n",
        "1.725\n",
        "1.75\n",
        "W bin: 19\n",
        "1.75\n",
        "1.775\n",
        "W bin: 20\n",
        "1.775\n",
        "1.8\n",
        "W bin: 21\n",
        "1.8\n",
        "1.825\n",
        "W bin: 22\n",
        "1.825\n",
        "1.85\n",
        "W bin: 23\n",
        "1.85\n",
        "1.875\n",
        "W bin: 24\n",
        "1.875\n",
        "1.9\n"
       ]
      }
     ],
     "prompt_number": 2
    },
    {
     "cell_type": "code",
     "collapsed": false,
     "input": [
      "#! Setup indexing for h8 bins\n",
      "# [HEL,Q2,W,M1,M2,THETA,PHI,ALPHA]=range(8)\n",
      "# h8_dims= [HEL,Q2,W,M1,M2,THETA,PHI,ALPHA]\n",
      "# print h8_dims[HEL]"
     ],
     "language": "python",
     "metadata": {},
     "outputs": [],
     "prompt_number": 3
    },
    {
     "cell_type": "code",
     "collapsed": false,
     "input": [
      "#! Setup indexing for h8 bins\n",
      "# [HEL]=range(1)\n",
      "# [Q2,W]=range(2)\n",
      "# [M1,M2,THETA,PHI,ALPHA]=range(5)\n",
      "# print [HEL],[Q2,W],[M1,M2,THETA,PHI,ALPHA]"
     ],
     "language": "python",
     "metadata": {},
     "outputs": [],
     "prompt_number": 4
    },
    {
     "cell_type": "code",
     "collapsed": false,
     "input": [
      "#h8_dim={'HEL':0,'Q2':1,'W':2,'M1':3,'M2':4,'THETA':6,'PHI':7,'ALPHA':8}\n",
      "#! See http://stackoverflow.com/questions/16553506/python-ordereddict-iteration for following code\n",
      "H8_DIM=OrderedDict([('HEL',0),('Q2',1),('W',2),('M1',3),('M2',4),('THETA',5),('PHI',6),('ALPHA',7)])\n",
      "H7_PROJDIM=array('i',[H8_DIM['Q2'],H8_DIM['W'],H8_DIM['M1'],H8_DIM['M2'],H8_DIM['THETA'],H8_DIM['PHI'],\n",
      "                      H8_DIM['ALPHA']])\n",
      "print H8_DIM \n",
      "print H8_DIM.keys()\n",
      "print H8_DIM.values()\n",
      "\n",
      "H7_DIM=OrderedDict([('Q2',0),('W',1),('M1',2),('M2',3),('THETA',4),('PHI',5),('ALPHA',6)])\n",
      "print H7_DIM \n",
      "print H7_DIM.keys()\n",
      "print H7_DIM.values()"
     ],
     "language": "python",
     "metadata": {},
     "outputs": [
      {
       "output_type": "stream",
       "stream": "stdout",
       "text": [
        "OrderedDict([('HEL', 0), ('Q2', 1), ('W', 2), ('M1', 3), ('M2', 4), ('THETA', 5), ('PHI', 6), ('ALPHA', 7)])\n",
        "['HEL', 'Q2', 'W', 'M1', 'M2', 'THETA', 'PHI', 'ALPHA']\n",
        "[0, 1, 2, 3, 4, 5, 6, 7]\n",
        "OrderedDict([('Q2', 0), ('W', 1), ('M1', 2), ('M2', 3), ('THETA', 4), ('PHI', 5), ('ALPHA', 6)])\n",
        "['Q2', 'W', 'M1', 'M2', 'THETA', 'PHI', 'ALPHA']\n",
        "[0, 1, 2, 3, 4, 5, 6]\n"
       ]
      }
     ],
     "prompt_number": 5
    },
    {
     "cell_type": "code",
     "collapsed": false,
     "input": [
      "DATADIR=os.environ['OBS_DATADIR_EXP']\n",
      "print DATADIR\n",
      "ANADIR=os.environ['ANA2PI_OBS']\n",
      "print ANADIR"
     ],
     "language": "python",
     "metadata": {},
     "outputs": [
      {
       "output_type": "stream",
       "stream": "stdout",
       "text": [
        "/data/trivedia/e1f/exp/2pi\n",
        "/home/trivedia/CLAS/workspace/ana2pi/obs\n"
       ]
      }
     ],
     "prompt_number": 6
    },
    {
     "cell_type": "code",
     "collapsed": false,
     "input": [
      "#['EXP','SIM']=range(2)\n",
      "#DTYP=['EXP','SIM']\n",
      "h8=OrderedDict()\n",
      "h7=OrderedDict()\n",
      "#h7_projdims_indices=array('i',[Q2,W,M1,M2,THETA,PHI,ALPHA])\n",
      "#h7_projdims_indices=array('i',[1,2,3,4,5,6,7])\n",
      "\n",
      "rfile=os.path.join(os.environ['OBS_DATADIR_SIM'],'q2w2','sim_1','d2pi.root')\n",
      "f=ROOT.TFile(rfile)\n",
      "h8['ST']=f.Get('d2piT/yield_varset1')\n",
      "h8['SR']=f.Get('d2piR/top2/yield_varset1')\n",
      "#! Fetch ST,SR directly from file\n",
      "h7['ST']=h8['ST'].Projection(7,H7_PROJDIM,\"E\")\n",
      "h7['SR']=h8['SR'].Projection(7,H7_PROJDIM,\"E\")\n",
      "#! Calculate SA\n",
      "h7['SA']=h7['SR'].Clone()\n",
      "h7['SA'].Divide(h7['ST'])\n",
      "#! Calculate SC\n",
      "h7['SC']=h7['SR'].Clone()\n",
      "h7['SC'].Divide(h7['SA'])\n",
      "#! Calculate SH\n",
      "h7['SH']=h7['ST'].Clone()\n",
      "h7['SH'].Add(h7['SC'],-1)\n",
      "thntool.SetUnderOverFLowBinsToZero(h7['SH'])\n",
      "#! Calculate SF\n",
      "h7['SF']=h7['SC'].Clone()\n",
      "h7['SF'].Add(h7['SH'],1)"
     ],
     "language": "python",
     "metadata": {},
     "outputs": [
      {
       "output_type": "stream",
       "stream": "stderr",
       "text": [
        "INFO:rootpy.logger] | No default log handler configured. See `logging` module |\n"
       ]
      },
      {
       "output_type": "stream",
       "stream": "stderr",
       "text": [
        "INFO:rootpy.logger] \\    To suppress: 'rootpy.log.basic_config_colorized()'   /\n"
       ]
      },
      {
       "output_type": "stream",
       "stream": "stderr",
       "text": [
        "WARNING:ROOT.THnSparseT<TArrayF>.Divide(h)] Histogram h has empty bins - division by zero! Setting bin to 0.\n"
       ]
      },
      {
       "output_type": "stream",
       "stream": "stderr",
       "text": [
        "WARNING:ROOT.THnSparseT<TArrayF>.Divide(h)] Histogram h has empty bins - division by zero! Setting bin to 0.\n"
       ]
      }
     ],
     "prompt_number": 7
    },
    {
     "cell_type": "code",
     "collapsed": false,
     "input": [
      "print h7['ST'].GetNbins(),h7['SR'].GetNbins(),h7['SA'].GetNbins(),h7['SC'].GetNbins(),h7['SH'].GetNbins(),h7['SF'].GetNbins()"
     ],
     "language": "python",
     "metadata": {},
     "outputs": [
      {
       "output_type": "stream",
       "stream": "stdout",
       "text": [
        "13737899 6768455 6768455 6768455 14427222 14427222\n"
       ]
      }
     ],
     "prompt_number": 8
    },
    {
     "cell_type": "code",
     "collapsed": false,
     "input": [
      "h2=OrderedDict()\n",
      "h2['ST']=h7['ST'].Projection(H7_DIM['Q2'],H7_DIM['W'],\"E\")\n",
      "h2['ST'].SetName(\"ST\")\n",
      "h2['SR']=h7['SR'].Projection(H7_DIM['Q2'],H7_DIM['W'],\"E\")\n",
      "h2['SR'].SetName(\"SR\")\n",
      "h2['SA']=h7['SA'].Projection(H7_DIM['Q2'],H7_DIM['W'],\"E\")\n",
      "h2['SA'].SetName(\"SA\")\n",
      "h2['SC']=h7['SC'].Projection(H7_DIM['Q2'],H7_DIM['W'],\"E\")\n",
      "h2['SC'].SetName(\"SC\")\n",
      "h2['SH']=h7['SH'].Projection(H7_DIM['Q2'],H7_DIM['W'],\"E\")\n",
      "h2['SH'].SetName(\"SH\")\n",
      "h2['SF']=h7['SF'].Projection(H7_DIM['Q2'],H7_DIM['W'],\"E\")\n",
      "h2['SF'].SetName(\"SF\")"
     ],
     "language": "python",
     "metadata": {},
     "outputs": [],
     "prompt_number": 11
    },
    {
     "cell_type": "code",
     "collapsed": false,
     "input": [
      "#import rootnotes\n",
      "#c=rootnotes.default_canvas()\n",
      "c=ROOT.TCanvas()\n",
      "c.Divide(3,2)\n",
      "c.SetGridx()\n",
      "c.SetGridy()\n",
      "for i in range(len(h2)):\n",
      "    print h2.values()[i].GetName()\n",
      "    pad=c.cd(i+1)\n",
      "    pad.SetGridx()\n",
      "    pad.SetGridy()\n",
      "    #h2.values()[i].GetXaxis().LabelsOption(\"v\")\n",
      "    h2.values()[i].GetXaxis().SetNdivisions(80)\n",
      "    h2.values()[i].Draw(\"colz\")    "
     ],
     "language": "python",
     "metadata": {},
     "outputs": [
      {
       "output_type": "stream",
       "stream": "stdout",
       "text": [
        "ST\n",
        "SR"
       ]
      },
      {
       "output_type": "stream",
       "stream": "stdout",
       "text": [
        "\n",
        "SA\n",
        "SC\n",
        "SH\n",
        "SF\n"
       ]
      }
     ],
     "prompt_number": 12
    },
    {
     "cell_type": "code",
     "collapsed": false,
     "input": [
      "#! Loop over q2wbins and project out 1D histograms\n",
      "# outdir=os.path.join(ANADIR,'q2w2')\n",
      "# if not os.path.exists(outdir):\n",
      "#     os.makedirs(outdir)\n",
      "f=ROOT.TFile(\"test.root\",\"RECREATE\")\n",
      "# c_q2w=ROOT.TCanvas()\n",
      "# c_q2w.Divide(1,6)\n",
      "# c_1d=ROOT.TCanvas()\n",
      "# c_1d.Divide(1,6)\n",
      "for i in range(Q2BNG['NBINS']):\n",
      "    for j in range(WBNG['NBINS']):\n",
      "        if j>0: break\n",
      "#         c_q2w=ROOT.TCanvas()\n",
      "#         c_q2w.Divide(1,6)\n",
      "#         c_1d=ROOT.TCanvas()\n",
      "#         c_1d.Divide(1,6)\n",
      "        q2wdir=\"%0.1f-%0.1f_%0.3f-%0.3f\"%(Q2BNG['BINS_LE'][i],Q2BNG['BINS_UE'][i],\n",
      "                                      WBNG['BINS_LE'][i],WBNG['BINS_UE'][i])\n",
      "        outdir=os.path.join(ANADIR,'q2w2',q2wdir)\n",
      "        if not os.path.exists(outdir):\n",
      "            os.makedirs(outdir)\n",
      "        for seq in SEQ['SIM']:\n",
      "            q2bin_le=h7[seq].GetAxis(H7_DIM['Q2']).FindBin(Q2BNG['BINS_LE'][i])\n",
      "            q2bin_ue=h7[seq].GetAxis(H7_DIM['Q2']).FindBin(Q2BNG['BINS_UE'][i])\n",
      "            h7[seq].GetAxis(H7_DIM['Q2']).SetRange(q2bin_le,q2bin_ue)\n",
      "            wbin_le=h7[seq].GetAxis(H7_DIM['W']).FindBin(WBNG['BINS_LE'][j])\n",
      "            wbin_ue=h7[seq].GetAxis(H7_DIM['W']).FindBin(WBNG['BINS_UE'][j])\n",
      "            h7[seq].GetAxis(H7_DIM['W']).SetRange(wbin_le,wbin_ue)\n",
      "            hq2w=h7[seq].Projection(H7_DIM['Q2'],H7_DIM['W'],\"E\")\n",
      "            hq2w.SetNameTitle(\"hq2w_%s\"%seq,\"hq2w_%s\"%seq)\n",
      "            hq2w.Write()\n",
      "            print seq,q2bin_le,q2bin_ue,wbin_le,wbin_ue,hq2w.GetEntries()\n",
      "            #c_q2w.cd(iseq+1)\n",
      "            cq2w=ROOT.TCanvas(hq2w.GetName(),hq2w.GetTitle())\n",
      "            hq2w.Draw(\"colz\")\n",
      "            cq2w.SaveAs(\"%s/%s.png\"%(outdir,cq2w.GetName()))\n",
      "f.Write()\n",
      "                \n",
      "        \n",
      "        \n",
      "        "
     ],
     "language": "python",
     "metadata": {},
     "outputs": [
      {
       "output_type": "stream",
       "stream": "stderr",
       "text": [
        "WARNING:ROOT.TCanvas.Constructor] Deleting canvas with same name: hq2w_ST\n"
       ]
      },
      {
       "output_type": "stream",
       "stream": "stderr",
       "text": [
        "ERROR:ROOT.TASImage.WriteImage] error writing file /home/trivedia/CLAS/workspace/ana2pi/obs/q2w2/2.0-2.5_1.300-1.325/2.0-2.5_1.300-1.325/hq2w_ST.png\n"
       ]
      },
      {
       "ename": "ROOTError",
       "evalue": "level=3000, loc='TASImage::WriteImage', msg='error writing file /home/trivedia/CLAS/workspace/ana2pi/obs/q2w2/2.0-2.5_1.300-1.325/2.0-2.5_1.300-1.325/hq2w_ST.png'",
       "output_type": "pyerr",
       "traceback": [
        "\u001b[1;31m---------------------------------------------------------------------------\u001b[0m\n\u001b[1;31mROOTError\u001b[0m                                 Traceback (most recent call last)",
        "\u001b[1;32m<ipython-input-33-0855c9593e2d>\u001b[0m in \u001b[0;36m<module>\u001b[1;34m()\u001b[0m\n\u001b[0;32m     34\u001b[0m             \u001b[0mcq2w\u001b[0m\u001b[1;33m=\u001b[0m\u001b[0mROOT\u001b[0m\u001b[1;33m.\u001b[0m\u001b[0mTCanvas\u001b[0m\u001b[1;33m(\u001b[0m\u001b[0mhq2w\u001b[0m\u001b[1;33m.\u001b[0m\u001b[0mGetName\u001b[0m\u001b[1;33m(\u001b[0m\u001b[1;33m)\u001b[0m\u001b[1;33m,\u001b[0m\u001b[0mhq2w\u001b[0m\u001b[1;33m.\u001b[0m\u001b[0mGetTitle\u001b[0m\u001b[1;33m(\u001b[0m\u001b[1;33m)\u001b[0m\u001b[1;33m)\u001b[0m\u001b[1;33m\u001b[0m\u001b[0m\n\u001b[0;32m     35\u001b[0m             \u001b[0mhq2w\u001b[0m\u001b[1;33m.\u001b[0m\u001b[0mDraw\u001b[0m\u001b[1;33m(\u001b[0m\u001b[1;34m\"colz\"\u001b[0m\u001b[1;33m)\u001b[0m\u001b[1;33m\u001b[0m\u001b[0m\n\u001b[1;32m---> 36\u001b[1;33m             \u001b[0mcq2w\u001b[0m\u001b[1;33m.\u001b[0m\u001b[0mSaveAs\u001b[0m\u001b[1;33m(\u001b[0m\u001b[1;34m\"%s/%s/%s.png\"\u001b[0m\u001b[1;33m%\u001b[0m\u001b[1;33m(\u001b[0m\u001b[0moutdir\u001b[0m\u001b[1;33m,\u001b[0m\u001b[0mq2wdir\u001b[0m\u001b[1;33m,\u001b[0m\u001b[0mcq2w\u001b[0m\u001b[1;33m.\u001b[0m\u001b[0mGetName\u001b[0m\u001b[1;33m(\u001b[0m\u001b[1;33m)\u001b[0m\u001b[1;33m)\u001b[0m\u001b[1;33m)\u001b[0m\u001b[1;33m\u001b[0m\u001b[0m\n\u001b[0m\u001b[0;32m     37\u001b[0m \u001b[0mf\u001b[0m\u001b[1;33m.\u001b[0m\u001b[0mWrite\u001b[0m\u001b[1;33m(\u001b[0m\u001b[1;33m)\u001b[0m\u001b[1;33m\u001b[0m\u001b[0m\n\u001b[0;32m     38\u001b[0m \u001b[1;33m\u001b[0m\u001b[0m\n",
        "\u001b[1;32m<ipython-input-33-0855c9593e2d>\u001b[0m in \u001b[0;36m<module>\u001b[1;34m()\u001b[0m\n\u001b[0;32m     34\u001b[0m             \u001b[0mcq2w\u001b[0m\u001b[1;33m=\u001b[0m\u001b[0mROOT\u001b[0m\u001b[1;33m.\u001b[0m\u001b[0mTCanvas\u001b[0m\u001b[1;33m(\u001b[0m\u001b[0mhq2w\u001b[0m\u001b[1;33m.\u001b[0m\u001b[0mGetName\u001b[0m\u001b[1;33m(\u001b[0m\u001b[1;33m)\u001b[0m\u001b[1;33m,\u001b[0m\u001b[0mhq2w\u001b[0m\u001b[1;33m.\u001b[0m\u001b[0mGetTitle\u001b[0m\u001b[1;33m(\u001b[0m\u001b[1;33m)\u001b[0m\u001b[1;33m)\u001b[0m\u001b[1;33m\u001b[0m\u001b[0m\n\u001b[0;32m     35\u001b[0m             \u001b[0mhq2w\u001b[0m\u001b[1;33m.\u001b[0m\u001b[0mDraw\u001b[0m\u001b[1;33m(\u001b[0m\u001b[1;34m\"colz\"\u001b[0m\u001b[1;33m)\u001b[0m\u001b[1;33m\u001b[0m\u001b[0m\n\u001b[1;32m---> 36\u001b[1;33m             \u001b[0mcq2w\u001b[0m\u001b[1;33m.\u001b[0m\u001b[0mSaveAs\u001b[0m\u001b[1;33m(\u001b[0m\u001b[1;34m\"%s/%s/%s.png\"\u001b[0m\u001b[1;33m%\u001b[0m\u001b[1;33m(\u001b[0m\u001b[0moutdir\u001b[0m\u001b[1;33m,\u001b[0m\u001b[0mq2wdir\u001b[0m\u001b[1;33m,\u001b[0m\u001b[0mcq2w\u001b[0m\u001b[1;33m.\u001b[0m\u001b[0mGetName\u001b[0m\u001b[1;33m(\u001b[0m\u001b[1;33m)\u001b[0m\u001b[1;33m)\u001b[0m\u001b[1;33m)\u001b[0m\u001b[1;33m\u001b[0m\u001b[0m\n\u001b[0m\u001b[0;32m     37\u001b[0m \u001b[0mf\u001b[0m\u001b[1;33m.\u001b[0m\u001b[0mWrite\u001b[0m\u001b[1;33m(\u001b[0m\u001b[1;33m)\u001b[0m\u001b[1;33m\u001b[0m\u001b[0m\n\u001b[0;32m     38\u001b[0m \u001b[1;33m\u001b[0m\u001b[0m\n",
        "\u001b[1;32m/usr/local/lib/python2.7/dist-packages/rootpy/logger/roothandler.pyc\u001b[0m in \u001b[0;36mpython_logging_error_handler\u001b[1;34m(level, root_says_abort, location, msg)\u001b[0m\n\u001b[0;32m     89\u001b[0m             \u001b[1;31m# Hence the need for dark magic, we re-raise it within a trace.\u001b[0m\u001b[1;33m\u001b[0m\u001b[1;33m\u001b[0m\u001b[0m\n\u001b[0;32m     90\u001b[0m             \u001b[1;32mfrom\u001b[0m \u001b[0mrootpy\u001b[0m \u001b[1;32mimport\u001b[0m \u001b[0mROOTError\u001b[0m\u001b[1;33m\u001b[0m\u001b[0m\n\u001b[1;32m---> 91\u001b[1;33m             \u001b[1;32mraise\u001b[0m \u001b[0mROOTError\u001b[0m\u001b[1;33m(\u001b[0m\u001b[0mlevel\u001b[0m\u001b[1;33m,\u001b[0m \u001b[0mlocation\u001b[0m\u001b[1;33m,\u001b[0m \u001b[0mmsg\u001b[0m\u001b[1;33m)\u001b[0m\u001b[1;33m\u001b[0m\u001b[0m\n\u001b[0m\u001b[0;32m     92\u001b[0m         \u001b[1;32mexcept\u001b[0m \u001b[0mRuntimeError\u001b[0m\u001b[1;33m:\u001b[0m\u001b[1;33m\u001b[0m\u001b[0m\n\u001b[0;32m     93\u001b[0m             \u001b[0m_\u001b[0m\u001b[1;33m,\u001b[0m \u001b[0mexc\u001b[0m\u001b[1;33m,\u001b[0m \u001b[0mtraceback\u001b[0m \u001b[1;33m=\u001b[0m \u001b[0msys\u001b[0m\u001b[1;33m.\u001b[0m\u001b[0mexc_info\u001b[0m\u001b[1;33m(\u001b[0m\u001b[1;33m)\u001b[0m\u001b[1;33m\u001b[0m\u001b[0m\n",
        "\u001b[1;31mROOTError\u001b[0m: level=3000, loc='TASImage::WriteImage', msg='error writing file /home/trivedia/CLAS/workspace/ana2pi/obs/q2w2/2.0-2.5_1.300-1.325/2.0-2.5_1.300-1.325/hq2w_ST.png'"
       ]
      },
      {
       "output_type": "stream",
       "stream": "stdout",
       "text": [
        "ST 5 6 13 13 286945.0\n"
       ]
      }
     ],
     "prompt_number": 33
    },
    {
     "cell_type": "code",
     "collapsed": false,
     "input": [],
     "language": "python",
     "metadata": {},
     "outputs": []
    }
   ],
   "metadata": {}
  }
 ]
}