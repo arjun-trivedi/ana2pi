{
 "metadata": {
  "name": ""
 },
 "nbformat": 3,
 "nbformat_minor": 0,
 "worksheets": [
  {
   "cells": [
    {
     "cell_type": "code",
     "collapsed": false,
     "input": [
      "#! Imports\n",
      "from array import *\n",
      "from collections import OrderedDict\n",
      "\n",
      "ROOT.gROOT.ProcessLine(\".L THnTool.C+\")\n",
      "#ROOT.gSystem.Load(\"THnTool_C.so\")\n",
      "from ROOT import THnTool\n",
      "thntool=THnTool()"
     ],
     "language": "python",
     "metadata": {},
     "outputs": [],
     "prompt_number": 1
    },
    {
     "cell_type": "code",
     "collapsed": false,
     "input": [
      "#! Define some q2w_i binnings; where sum_i_n(q2w_i)=q2w-F\n",
      "q2w2_bng=[[2.0,2.5,0.5],[1.3,1.9,0.025]] #min,max,width "
     ],
     "language": "python",
     "metadata": {},
     "outputs": [],
     "prompt_number": 2
    },
    {
     "cell_type": "code",
     "collapsed": false,
     "input": [
      "#! Setup indexing for h8 bins\n",
      "# [HEL,Q2,W,M1,M2,THETA,PHI,ALPHA]=range(8)\n",
      "# h8_dims= [HEL,Q2,W,M1,M2,THETA,PHI,ALPHA]\n",
      "# print h8_dims[HEL]"
     ],
     "language": "python",
     "metadata": {},
     "outputs": [],
     "prompt_number": 3
    },
    {
     "cell_type": "code",
     "collapsed": false,
     "input": [
      "#! Setup indexing for h8 bins\n",
      "# [HEL]=range(1)\n",
      "# [Q2,W]=range(2)\n",
      "# [M1,M2,THETA,PHI,ALPHA]=range(5)\n",
      "# print [HEL],[Q2,W],[M1,M2,THETA,PHI,ALPHA]"
     ],
     "language": "python",
     "metadata": {},
     "outputs": [],
     "prompt_number": 4
    },
    {
     "cell_type": "code",
     "collapsed": false,
     "input": [
      "#h8_dim={'HEL':0,'Q2':1,'W':2,'M1':3,'M2':4,'THETA':6,'PHI':7,'ALPHA':8}\n",
      "#! See http://stackoverflow.com/questions/16553506/python-ordereddict-iteration for following code\n",
      "H8_DIM=OrderedDict([('HEL',0),('Q2',1),('W',2),('M1',3),('M2',4),('THETA',5),('PHI',6),('ALPHA',7)])\n",
      "H7_PROJDIM=array('i',[H8_DIM['Q2'],H8_DIM['W'],H8_DIM['M1'],H8_DIM['M2'],H8_DIM['THETA'],H8_DIM['PHI'],\n",
      "                      H8_DIM['ALPHA']])\n",
      "print H8_DIM \n",
      "print H8_DIM.keys()\n",
      "print H8_DIM.values()\n",
      "\n",
      "H7_DIM=OrderedDict([('Q2',0),('W',1),('M1',2),('M2',3),('THETA',4),('PHI',5),('ALPHA',6)])\n",
      "print H7_DIM \n",
      "print H7_DIM.keys()\n",
      "print H7_DIM.values()"
     ],
     "language": "python",
     "metadata": {},
     "outputs": [
      {
       "output_type": "stream",
       "stream": "stdout",
       "text": [
        "OrderedDict([('HEL', 0), ('Q2', 1), ('W', 2), ('M1', 3), ('M2', 4), ('THETA', 5), ('PHI', 6), ('ALPHA', 7)])\n",
        "['HEL', 'Q2', 'W', 'M1', 'M2', 'THETA', 'PHI', 'ALPHA']\n",
        "[0, 1, 2, 3, 4, 5, 6, 7]\n",
        "OrderedDict([('Q2', 0), ('W', 1), ('M1', 2), ('M2', 3), ('THETA', 4), ('PHI', 5), ('ALPHA', 6)])\n",
        "['Q2', 'W', 'M1', 'M2', 'THETA', 'PHI', 'ALPHA']\n",
        "[0, 1, 2, 3, 4, 5, 6]\n"
       ]
      }
     ],
     "prompt_number": 5
    },
    {
     "cell_type": "code",
     "collapsed": false,
     "input": [
      "DATADIR=os.environ['OBS_DATADIR_EXP']\n",
      "print DATADIR\n",
      "ANADIR=os.environ['ANA2PI_OBS']\n",
      "print ANADIR"
     ],
     "language": "python",
     "metadata": {},
     "outputs": [
      {
       "output_type": "stream",
       "stream": "stdout",
       "text": [
        "/data/trivedia/e1f/exp/2pi\n",
        "/home/trivedia/CLAS/workspace/ana2pi/obs\n"
       ]
      }
     ],
     "prompt_number": 6
    },
    {
     "cell_type": "code",
     "collapsed": false,
     "input": [
      "#['EXP','SIM']=range(2)\n",
      "#DTYP=['EXP','SIM']\n",
      "h8=OrderedDict()\n",
      "h7=OrderedDict()\n",
      "#h7_projdims_indices=array('i',[Q2,W,M1,M2,THETA,PHI,ALPHA])\n",
      "#h7_projdims_indices=array('i',[1,2,3,4,5,6,7])\n",
      "\n",
      "rfile=os.path.join(os.environ['OBS_DATADIR_SIM'],'q2w2','sim_1','d2pi.root')\n",
      "f=ROOT.TFile(rfile)\n",
      "h8['ST']=f.Get('d2piT/yield_varset1')\n",
      "h8['SR']=f.Get('d2piR/top2/yield_varset1')\n",
      "#! Fetch ST,SR directly from file\n",
      "h7['ST']=h8['ST'].Projection(7,H7_PROJDIM,\"E\")\n",
      "h7['SR']=h8['SR'].Projection(7,H7_PROJDIM,\"E\")\n",
      "#! Calculate SA\n",
      "h7['SA']=h7['SR'].Clone()\n",
      "h7['SA'].Divide(h7['ST'])\n",
      "#! Calculate SC\n",
      "h7['SC']=h7['SR'].Clone()\n",
      "h7['SC'].Divide(h7['SA'])\n",
      "#! Calculate SH\n",
      "h7['SH']=h7['ST'].Clone()\n",
      "h7['SH'].Add(h7['SC'],-1)\n",
      "thntool.SetUnderOverFLowBinsToZero(h7['SH'])\n",
      "#! Calculate SF\n",
      "h7['SF']=h7['SC'].Clone()\n",
      "h7['SF'].Add(h7['SH'],1)"
     ],
     "language": "python",
     "metadata": {},
     "outputs": [
      {
       "output_type": "stream",
       "stream": "stderr",
       "text": [
        "INFO:rootpy.logger] | No default log handler configured. See `logging` module |\n"
       ]
      },
      {
       "output_type": "stream",
       "stream": "stderr",
       "text": [
        "INFO:rootpy.logger] \\    To suppress: 'rootpy.log.basic_config_colorized()'   /\n"
       ]
      },
      {
       "output_type": "stream",
       "stream": "stderr",
       "text": [
        "WARNING:ROOT.THnSparseT<TArrayF>.Divide(h)] Histogram h has empty bins - division by zero! Setting bin to 0.\n"
       ]
      },
      {
       "output_type": "stream",
       "stream": "stderr",
       "text": [
        "WARNING:ROOT.THnSparseT<TArrayF>.Divide(h)] Histogram h has empty bins - division by zero! Setting bin to 0.\n"
       ]
      }
     ],
     "prompt_number": 7
    },
    {
     "cell_type": "code",
     "collapsed": false,
     "input": [
      "print h7['ST'].GetNbins(),h7['SR'].GetNbins(),h7['SA'].GetNbins(),h7['SC'].GetNbins(),h7['SH'].GetNbins(),h7['SF'].GetNbins()"
     ],
     "language": "python",
     "metadata": {},
     "outputs": [
      {
       "output_type": "stream",
       "stream": "stdout",
       "text": [
        "13737899 6768455 6768455 6768455 14427222 14427222\n"
       ]
      }
     ],
     "prompt_number": 8
    },
    {
     "cell_type": "code",
     "collapsed": false,
     "input": [
      "h2=OrderedDict()\n",
      "h2['ST']=h7['ST'].Projection(H7_DIM['Q2'],H7_DIM['W'],\"E\")\n",
      "h2['ST'].SetName(\"ST\")\n",
      "h2['SR']=h7['SR'].Projection(H7_DIM['Q2'],H7_DIM['W'],\"E\")\n",
      "h2['SR'].SetName(\"SR\")\n",
      "h2['SA']=h7['SA'].Projection(H7_DIM['Q2'],H7_DIM['W'],\"E\")\n",
      "h2['SA'].SetName(\"SA\")\n",
      "h2['SC']=h7['SC'].Projection(H7_DIM['Q2'],H7_DIM['W'],\"E\")\n",
      "h2['SC'].SetName(\"SC\")\n",
      "h2['SH']=h7['SH'].Projection(H7_DIM['Q2'],H7_DIM['W'],\"E\")\n",
      "h2['SH'].SetName(\"SH\")\n",
      "h2['SF']=h7['SF'].Projection(H7_DIM['Q2'],H7_DIM['W'],\"E\")\n",
      "h2['SF'].SetName(\"SF\")"
     ],
     "language": "python",
     "metadata": {},
     "outputs": [],
     "prompt_number": 9
    },
    {
     "cell_type": "code",
     "collapsed": false,
     "input": [
      "#import rootnotes\n",
      "#c=rootnotes.default_canvas()\n",
      "c=ROOT.TCanvas()\n",
      "c.Divide(3,2)\n",
      "c.SetGridx()\n",
      "c.SetGridy()\n",
      "for i in range(len(h2)):\n",
      "    print h2.values()[i].GetName()\n",
      "    pad=c.cd(i+1)\n",
      "    pad.SetGridx()\n",
      "    pad.SetGridy()\n",
      "    #h2.values()[i].GetXaxis().LabelsOption(\"v\")\n",
      "    h2.values()[i].GetXaxis().SetNdivisions(80)\n",
      "    h2.values()[i].Draw(\"colz\")    "
     ],
     "language": "python",
     "metadata": {},
     "outputs": [
      {
       "output_type": "stream",
       "stream": "stdout",
       "text": [
        "ST\n",
        "SR\n",
        "SA\n"
       ]
      },
      {
       "output_type": "stream",
       "stream": "stdout",
       "text": [
        "SC\n",
        "SH\n",
        "SF\n"
       ]
      }
     ],
     "prompt_number": "*"
    },
    {
     "cell_type": "code",
     "collapsed": false,
     "input": [],
     "language": "python",
     "metadata": {},
     "outputs": []
    }
   ],
   "metadata": {}
  }
 ]
}