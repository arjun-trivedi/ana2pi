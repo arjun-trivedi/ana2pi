{
 "metadata": {
  "name": ""
 },
 "nbformat": 3,
 "nbformat_minor": 0,
 "worksheets": [
  {
   "cells": [
    {
     "cell_type": "code",
     "collapsed": false,
     "input": [
      "from proc_yields import ProcYields\n",
      "py={}\n",
      "py['sim']=ProcYields('q2w2','sim')\n",
      "py['sim'].proc()\n",
      "py['exp']=ProcYields('q2w2','exp')\n",
      "py['exp'].proc()"
     ],
     "language": "python",
     "metadata": {},
     "outputs": [
      {
       "output_type": "stream",
       "stream": "stdout",
       "text": [
        "dtyp=sim\n",
        "DATADIR=/data/trivedia/e1f/sim/2pi/q2w2/sim_12345\n",
        "ANADIR=/home/trivedia/CLAS/workspace/ana2pi/obs/q2w2/sim_12345\n",
        "FIN=<ROOT.TFile object at 0x4d251a0>\n",
        "FOUT=<ROOT.TFile object at 0x4e168c0>"
       ]
      },
      {
       "output_type": "stream",
       "stream": "stdout",
       "text": [
        "\n",
        "Going to get d2piT/yield_varset1 ...\n",
        "Done getting"
       ]
      },
      {
       "output_type": "stream",
       "stream": "stdout",
       "text": [
        " d2piT/yield_varset1\n",
        "Going to get d2piR/top1/yield_varset1 ...\n",
        "Done getting"
       ]
      },
      {
       "output_type": "stream",
       "stream": "stdout",
       "text": [
        " d2piR/top1/yield_varset1\n",
        "Going to get and add to top1 d2piR/top2/yield_varset1 ...\n",
        "Done gettng and adding to top1"
       ]
      },
      {
       "output_type": "stream",
       "stream": "stdout",
       "text": [
        " d2piR/top2/yield_varset1\n",
        "Going to get and add to top1 d2piR/top3/yield_varset1 ...\n",
        "Done gettng and adding to top1"
       ]
      },
      {
       "output_type": "stream",
       "stream": "stdout",
       "text": [
        " d2piR/top3/yield_varset1\n",
        "Going to get and add to top1 d2piR/top4/yield_varset1 ...\n",
        "Done gettng and adding to top1"
       ]
      },
      {
       "output_type": "stream",
       "stream": "stdout",
       "text": [
        " d2piR/top4/yield_varset1\n",
        "Going to get d2piT/yield_varset2 ...\n",
        "Done getting"
       ]
      },
      {
       "output_type": "stream",
       "stream": "stdout",
       "text": [
        " d2piT/yield_varset2\n",
        "Going to get"
       ]
      },
      {
       "output_type": "stream",
       "stream": "stdout",
       "text": [
        " d2piR/top1/yield_varset2 ...\n",
        "Done getting"
       ]
      }
     ],
     "prompt_number": "*"
    },
    {
     "cell_type": "code",
     "collapsed": false,
     "input": [],
     "language": "python",
     "metadata": {},
     "outputs": []
    }
   ],
   "metadata": {}
  }
 ]
}