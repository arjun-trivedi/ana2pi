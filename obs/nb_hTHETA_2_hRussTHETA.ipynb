{
 "metadata": {
  "name": ""
 },
 "nbformat": 3,
 "nbformat_minor": 0,
 "worksheets": [
  {
   "cells": [
    {
     "cell_type": "code",
     "collapsed": false,
     "input": [
      "from __future__ import division\n",
      "import rootnotes\n",
      "c=rootnotes.default_canvas(size=(400,400))\n",
      "f=ROOT.TFile(\"$OBSDIR/sim1/yield_sim.root\")\n",
      "#h=f.Get(\"1.25-1.75_1.600-1.625/VST1/T/h_THETA\")\n",
      "h=f.Get(\"1.25-1.75_1.600-1.625/VST2/T/h_THETA\")\n",
      "h.Draw()\n",
      "c"
     ],
     "language": "python",
     "metadata": {},
     "outputs": [
      {
       "output_type": "stream",
       "stream": "stderr",
       "text": [
        "INFO:ROOT.TCanvas.Print] png file /tmp/tmp7uw_lM.png has been created\n"
       ]
      },
      {
       "metadata": {},
       "output_type": "pyout",
       "png": "[encoded data removed]",
       "prompt_number": 15,
       "text": [
        "<ROOT.TCanvas object (\"icanvas\") at 0x486cd30>"
       ]
      }
     ],
     "prompt_number": 15
    },
    {
     "cell_type": "code",
     "collapsed": false,
     "input": [
      "def get_hRussTheta(hTheta):\n",
      "    hRussTheta=hTheta.Clone()\n",
      "    nbins=hRussTheta.GetNbinsX()\n",
      "    for ibin in range(nbins):\n",
      "        DN=hRussTheta.GetBinContent(ibin+1)\n",
      "        theta_a=hRussTheta.GetBinLowEdge(ibin+1)\n",
      "        theta_b=hRussTheta.GetBinLowEdge(ibin+1) + hRussTheta.GetBinWidth(ibin+1)\n",
      "        Dtheta=theta_b-theta_a\n",
      "        DN_Dtheta=DN/Dtheta\n",
      "        \n",
      "        DCosTheta=fabs(cos(math.radians(theta_b))-cos(math.radians(theta_a)))\n",
      "        f=DCosTheta/Dtheta\n",
      "        DN_DCosTheta=DN_Dtheta/f\n",
      "        print(\"DN=%f,Dtheta=%f,DN/Dtheta=%f,DN/DCosTheta=%f\"%(DN,Dtheta,DN_Dtheta,DN_DCosTheta))\n",
      "        hRussTheta.SetBinContent(ibin+1,DN/DCosTheta)\n",
      "    return hRussTheta"
     ],
     "language": "python",
     "metadata": {},
     "outputs": [],
     "prompt_number": 16
    },
    {
     "cell_type": "code",
     "collapsed": false,
     "input": [
      "hR=get_hRussTheta(h)\n",
      "c1=rootnotes.default_canvas(size=(400,400))\n",
      "hR.Draw()\n",
      "c1"
     ],
     "language": "python",
     "metadata": {},
     "outputs": [
      {
       "output_type": "stream",
       "stream": "stderr",
       "text": [
        "INFO:ROOT.TCanvas.Print] png file /tmp/tmphGvWkm.png has been created\n"
       ]
      },
      {
       "output_type": "stream",
       "stream": "stdout",
       "text": [
        "DN=162200.000000,Dtheta=18.000000,DN/Dtheta=9011.111111,DN/DCosTheta=3314026.459133\n",
        "DN=480463.000000,Dtheta=18.000000,DN/Dtheta=26692.388889,DN/DCosTheta=3382600.796628\n",
        "DN=770790.000000,Dtheta=18.000000,DN/Dtheta=42821.666667,DN/DCosTheta=3484084.122579\n",
        "DN=994280.000000,Dtheta=18.000000,DN/Dtheta=55237.777778,DN/DCosTheta=3566690.151266\n",
        "DN=1108942.000000,Dtheta=18.000000,DN/Dtheta=61607.888889,DN/DCosTheta=3588611.695105\n",
        "DN=1133882.000000,Dtheta=18.000000,DN/Dtheta=62993.444444,DN/DCosTheta=3669319.230463\n",
        "DN=1082969.000000,Dtheta=18.000000,DN/Dtheta=60164.944444,DN/DCosTheta=3884836.129085\n",
        "DN=930047.000000,Dtheta=18.000000,DN/Dtheta=51669.277778,DN/DCosTheta=4203949.176756\n",
        "DN=641538.000000,Dtheta=18.000000,DN/Dtheta=35641.000000,DN/DCosTheta=4516616.159553\n",
        "DN=228473.000000,Dtheta=18.000000,DN/Dtheta=12692.944444,DN/DCosTheta=4668098.441415\n"
       ]
      },
      {
       "metadata": {},
       "output_type": "pyout",
       "png": "[encoded data removed]",
       "prompt_number": 17,
       "text": [
        "<ROOT.TCanvas object (\"icanvas\") at 0x486cd30>"
       ]
      }
     ],
     "prompt_number": 17
    },
    {
     "cell_type": "code",
     "collapsed": false,
     "input": [
      "686920/18"
     ],
     "language": "python",
     "metadata": {},
     "outputs": [
      {
       "metadata": {},
       "output_type": "pyout",
       "prompt_number": 8,
       "text": [
        "38162.22222222222"
       ]
      }
     ],
     "prompt_number": 8
    },
    {
     "cell_type": "code",
     "collapsed": false,
     "input": [
      "cos(math.radians(90))"
     ],
     "language": "python",
     "metadata": {},
     "outputs": [
      {
       "metadata": {},
       "output_type": "pyout",
       "prompt_number": 11,
       "text": [
        "6.123233995736766e-17"
       ]
      }
     ],
     "prompt_number": 11
    },
    {
     "cell_type": "code",
     "collapsed": false,
     "input": [
      "fabs(-1.22)"
     ],
     "language": "python",
     "metadata": {},
     "outputs": [
      {
       "metadata": {},
       "output_type": "pyout",
       "prompt_number": 12,
       "text": [
        "1.22"
       ]
      }
     ],
     "prompt_number": 12
    },
    {
     "cell_type": "code",
     "collapsed": false,
     "input": [],
     "language": "python",
     "metadata": {},
     "outputs": []
    }
   ],
   "metadata": {}
  }
 ]
}