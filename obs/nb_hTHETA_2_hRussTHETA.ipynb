{
 "metadata": {
  "name": ""
 },
 "nbformat": 3,
 "nbformat_minor": 0,
 "worksheets": [
  {
   "cells": [
    {
     "cell_type": "code",
     "collapsed": false,
     "input": [
      "\"\"\"\n",
      "+ In this notebook, I am testing the process of obtaining \"Russian-normalized\" theta distribution.\n",
      "+ hTheta is binned in theta, however instead of normalizing each bin to Dtheta, where\n",
      "    Dtheta = theta_bin_ue - theta_bin_le,\n",
      "  in the Russian-normalization, each bin is normalized to DCosTheta, where\n",
      "    DCosTheta = cos(theta_bin_ue) - cos(theta_bin-le)\n",
      "\"\"\"\n",
      "from __future__ import division\n",
      "import rootnotes\n",
      "c=rootnotes.default_canvas(size=(400,400))\n",
      "f=ROOT.TFile(\"$OBSDIR/sim1/yield_sim.root\")\n",
      "h=f.Get(\"1.25-1.75_1.600-1.625/VST1/T/h_THETA\")\n",
      "#h=f.Get(\"1.25-1.75_1.600-1.625/VST2/T/h_THETA\")\n",
      "Eh=f.Get(\"1.25-1.75_1.600-1.625/VST3/T/h_THETA\")\n",
      "h.Draw()\n",
      "c"
     ],
     "language": "python",
     "metadata": {},
     "outputs": [
      {
       "output_type": "stream",
       "stream": "stderr",
       "text": [
        "INFO:ROOT.TCanvas.Print] png file /tmp/tmp4MlegQ.png has been created\n"
       ]
      },
      {
       "metadata": {},
       "output_type": "pyout",
       "png": "[encoded data removed]",
       "prompt_number": 4,
       "text": [
        "<ROOT.TCanvas object (\"icanvas\") at 0x58092c0>"
       ]
      }
     ],
     "prompt_number": 4
    },
    {
     "cell_type": "code",
     "collapsed": false,
     "input": [
      "def russ_norm_theta_dist(hTheta):\n",
      "    #! 1. Create Russian-normalization factor histogram\n",
      "    hDCosTheta=hTheta.Clone()\n",
      "    nbins=hTheta.GetNbinsX()\n",
      "    for ibin in range(nbins):\n",
      "        theta_a=hTheta.GetBinLowEdge(ibin+1)\n",
      "        theta_b=hTheta.GetBinLowEdge(ibin+1) + hTheta.GetBinWidth(ibin+1)\n",
      "        DCosTheta=fabs(cos(math.radians(theta_b))-cos(math.radians(theta_a)))\n",
      "        hDCosTheta.SetBinContent(ibin+1,DCosTheta)\n",
      "        hDCosTheta.SetBinError(ibin+1,0.)\n",
      "    #! Now divide hTheta by hDCosTheta\n",
      "    #! Do Sumw2() so that errors are correctly propagated\n",
      "    hTheta.Sumw2();\n",
      "    hTheta.Divide(hDCosTheta)        "
     ],
     "language": "python",
     "metadata": {},
     "outputs": [],
     "prompt_number": 5
    },
    {
     "cell_type": "code",
     "collapsed": false,
     "input": [
      "russ_norm_theta_dist(h)\n",
      "c1=rootnotes.default_canvas(size=(400,400))\n",
      "h.Draw()\n",
      "c1"
     ],
     "language": "python",
     "metadata": {},
     "outputs": [
      {
       "output_type": "stream",
       "stream": "stderr",
       "text": [
        "INFO:ROOT.TCanvas.Print] png file /tmp/tmp9idF6c.png has been created\n"
       ]
      },
      {
       "metadata": {},
       "output_type": "pyout",
       "png": "[encoded data removed]",
       "prompt_number": 6,
       "text": [
        "<ROOT.TCanvas object (\"icanvas\") at 0x58092c0>"
       ]
      }
     ],
     "prompt_number": 6
    },
    {
     "cell_type": "code",
     "collapsed": false,
     "input": [
      "\"\"\"\n",
      "Obsolete code\n",
      "[10-10-14] Should work like the code above, but most likely the above code is a more \"elegant\" form of\n",
      "the obsolete code\n",
      "\"\"\""
     ],
     "language": "python",
     "metadata": {},
     "outputs": []
    },
    {
     "cell_type": "code",
     "collapsed": false,
     "input": [
      "from __future__ import division\n",
      "import rootnotes\n",
      "c=rootnotes.default_canvas(size=(400,400))\n",
      "f=ROOT.TFile(\"$OBSDIR/sim1/yield_sim.root\")\n",
      "#h=f.Get(\"1.25-1.75_1.600-1.625/VST1/T/h_THETA\")\n",
      "#h=f.Get(\"1.25-1.75_1.600-1.625/VST2/T/h_THETA\")\n",
      "h=f.Get(\"1.25-1.75_1.600-1.625/VST3/T/h_THETA\")\n",
      "h.Draw()\n",
      "c"
     ],
     "language": "python",
     "metadata": {},
     "outputs": [
      {
       "output_type": "stream",
       "stream": "stderr",
       "text": [
        "INFO:ROOT.TCanvas.Print] png file /tmp/tmp0u2BbO.png has been created\n"
       ]
      },
      {
       "metadata": {},
       "output_type": "pyout",
       "png": "[encoded data removed]",
       "prompt_number": 9,
       "text": [
        "<ROOT.TCanvas object (\"icanvas\") at 0x570f200>"
       ]
      }
     ],
     "prompt_number": 9
    },
    {
     "cell_type": "code",
     "collapsed": false,
     "input": [
      "def get_hRussTheta(hTheta):\n",
      "    hRussTheta=hTheta.Clone()\n",
      "    nbins=hRussTheta.GetNbinsX()\n",
      "    for ibin in range(nbins):\n",
      "        DN=hRussTheta.GetBinContent(ibin+1)\n",
      "        DN_err=hRussTheta.GetBinError(ibin+1)\n",
      "        theta_a=hRussTheta.GetBinLowEdge(ibin+1)\n",
      "        theta_b=hRussTheta.GetBinLowEdge(ibin+1) + hRussTheta.GetBinWidth(ibin+1)\n",
      "        Dtheta=theta_b-theta_a\n",
      "        DN_Dtheta=DN/Dtheta\n",
      "        \n",
      "        DCosTheta=fabs(cos(math.radians(theta_b))-cos(math.radians(theta_a)))\n",
      "        f=DCosTheta/Dtheta\n",
      "        DN_DCosTheta=DN_Dtheta/f\n",
      "        #print(\"DN=%f,Dtheta=%f,DN/Dtheta=%f,DN/DCosTheta=%f\"%(DN,Dtheta,DN_Dtheta,DN_DCosTheta))\n",
      "        hRussTheta.SetBinContent(ibin+1,DN/DCosTheta)\n",
      "        hRussTheta.SetBinError(ibin+1,DN_err/DCosTheta)\n",
      "    return hRussTheta"
     ],
     "language": "python",
     "metadata": {},
     "outputs": [],
     "prompt_number": 10
    },
    {
     "cell_type": "code",
     "collapsed": false,
     "input": [
      "hR=get_hRussTheta(h)\n",
      "c2=rootnotes.default_canvas(size=(400,400))\n",
      "hR.Draw()\n",
      "c2"
     ],
     "language": "python",
     "metadata": {},
     "outputs": [
      {
       "output_type": "stream",
       "stream": "stderr",
       "text": [
        "INFO:ROOT.TCanvas.Print] png file /tmp/tmpVwY3cO.png has been created\n"
       ]
      },
      {
       "metadata": {},
       "output_type": "pyout",
       "png": "[encoded data removed]",
       "prompt_number": 11,
       "text": [
        "<ROOT.TCanvas object (\"icanvas\") at 0x570f200>"
       ]
      }
     ],
     "prompt_number": 11
    },
    {
     "cell_type": "code",
     "collapsed": false,
     "input": [
      "686920/18"
     ],
     "language": "python",
     "metadata": {},
     "outputs": [
      {
       "metadata": {},
       "output_type": "pyout",
       "prompt_number": 8,
       "text": [
        "38162.22222222222"
       ]
      }
     ],
     "prompt_number": 8
    },
    {
     "cell_type": "code",
     "collapsed": false,
     "input": [
      "cos(math.radians(90))"
     ],
     "language": "python",
     "metadata": {},
     "outputs": [
      {
       "metadata": {},
       "output_type": "pyout",
       "prompt_number": 11,
       "text": [
        "6.123233995736766e-17"
       ]
      }
     ],
     "prompt_number": 11
    },
    {
     "cell_type": "code",
     "collapsed": false,
     "input": [
      "fabs(-1.22)"
     ],
     "language": "python",
     "metadata": {},
     "outputs": [
      {
       "metadata": {},
       "output_type": "pyout",
       "prompt_number": 12,
       "text": [
        "1.22"
       ]
      }
     ],
     "prompt_number": 12
    },
    {
     "cell_type": "code",
     "collapsed": false,
     "input": [],
     "language": "python",
     "metadata": {},
     "outputs": []
    }
   ],
   "metadata": {}
  }
 ]
}