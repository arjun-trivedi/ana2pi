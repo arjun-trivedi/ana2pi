{
 "metadata": {
  "name": ""
 },
 "nbformat": 3,
 "nbformat_minor": 0,
 "worksheets": [
  {
   "cells": [
    {
     "cell_type": "code",
     "collapsed": false,
     "input": [
      "import os,glob,subprocess\n",
      "\n",
      "simdir=os.path.join(os.environ['OBS_DATADIR_SIM'],\"sim1\")\n",
      "#os.listdir(datadir)\n",
      "q2wl=glob.glob(os.path.join(simdir,'q2w*'))\n",
      "q2wl=[os.path.basename(i) for i in q2wl]\n",
      "q2wl.sort()\n",
      "print q2wl\n",
      "\n",
      "for i,q2wi in enumerate(q2wl):\n",
      "    if i>1: break\n",
      "    tf=os.path.join(simdir,\"d2pi_%d.root\"%(i+1))\n",
      "    cmd=[\"hadd\",tf]\n",
      "    sfl=[os.path.join(simdir,q2wi,\"d2pi.root\")]\n",
      "    if i>0:\n",
      "        prev_d2pi=os.path.join(simdir,\"d2pi_%d.root\"%((i-1)+1))\n",
      "        sfl.append(prev_d2pi)\n",
      "    cmd=[\"hadd\",tf]\n",
      "    cmd+=sfl\n",
      "    print \">>>%s\"%cmd \n",
      "    #subprocess.call(cmd)\n",
      "    #subprocess.check_output(cmd,stderr=subprocess.STDOUT)\n",
      "    out,err=subprocess.Popen(cmd,stdout=subprocess.PIPE,stderr=subprocess.PIPE).communicate()\n",
      "    print out,err\n",
      "    if i>0:\n",
      "        print \">>>rm %s\"%prev_d2pi"
     ],
     "language": "python",
     "metadata": {},
     "outputs": []
    }
   ],
   "metadata": {}
  }
 ]
}