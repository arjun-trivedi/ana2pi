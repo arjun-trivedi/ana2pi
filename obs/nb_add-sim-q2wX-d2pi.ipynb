{
 "metadata": {
  "name": ""
 },
 "nbformat": 3,
 "nbformat_minor": 0,
 "worksheets": [
  {
   "cells": [
    {
     "cell_type": "code",
     "collapsed": false,
     "input": [
      "import os,glob,subprocess\n",
      "\n",
      "simdir=os.path.join(os.environ['OBS_DATADIR_SIM'],\"sim1\")\n",
      "#os.listdir(datadir)\n",
      "q2wl=glob.glob(os.path.join(simdir,'q2w*'))\n",
      "q2wl=[os.path.basename(i) for i in q2wl]\n",
      "q2wl.sort()\n",
      "print q2wl\n",
      "\n",
      "for i,q2wi in enumerate(q2wl):\n",
      "    if i>1: break\n",
      "    tf=os.path.join(simdir,\"d2pi_%d.root\"%(i+1))\n",
      "    cmd=[\"hadd\",tf]\n",
      "    sfl=[os.path.join(simdir,q2wi,\"d2pi.root\")]\n",
      "    if i>0:\n",
      "        prev_d2pi=os.path.join(simdir,\"d2pi_%d.root\"%((i-1)+1))\n",
      "        sfl.append(prev_d2pi)\n",
      "    cmd=[\"hadd\",tf]\n",
      "    cmd+=sfl\n",
      "    print \">>>%s\"%cmd \n",
      "    #subprocess.check_output(cmd,stderr=subprocess.STDOUT)\n",
      "    out,err=subprocess.Popen(cmd,stdout=subprocess.PIPE,stderr=subprocess.PIPE).communicate()\n",
      "    print out,err\n",
      "    if i>0:\n",
      "        print \">>>rm %s\"%prev_d2pi\n",
      "        subprocess.check_output([\"rm\",prev_d2pi])#,stderr=subprocess.STDOUT)\n",
      "    if i==1:#len(q2wl)\n",
      "        print \">>>cp %s %s\"%(tf,\"d2pi.root\")\n",
      "        subprocess.check_output([\"cp\",tf,\"d2pi.root\"])"
     ],
     "language": "python",
     "metadata": {},
     "outputs": [
      {
       "output_type": "stream",
       "stream": "stdout",
       "text": [
        "['q2w1', 'q2w10', 'q2w11', 'q2w12', 'q2w13', 'q2w14', 'q2w15', 'q2w16', 'q2w17', 'q2w18', 'q2w19', 'q2w2', 'q2w20', 'q2w21', 'q2w22', 'q2w23', 'q2w24', 'q2w25', 'q2w26', 'q2w27', 'q2w28', 'q2w29', 'q2w3', 'q2w30', 'q2w31', 'q2w32', 'q2w33', 'q2w34', 'q2w35', 'q2w36', 'q2w37', 'q2w38', 'q2w39', 'q2w4', 'q2w40', 'q2w41', 'q2w42', 'q2w43', 'q2w44', 'q2w45', 'q2w46', 'q2w47', 'q2w48', 'q2w49', 'q2w5', 'q2w6', 'q2w7', 'q2w8', 'q2w9']\n",
        ">>>['hadd', '/data/trivedia/e1f/2pi/sim/sim1/d2pi_1.root', '/data/trivedia/e1f/2pi/sim/sim1/q2w1/d2pi.root']\n",
        "hadd Target file: /data/trivedia/e1f/2pi/sim/sim1/d2pi_1.root\n",
        "hadd Source file 1: /data/trivedia/e1f/2pi/sim/sim1/q2w1/d2pi.root\n",
        "hadd Target path: /data/trivedia/e1f/2pi/sim/sim1/d2pi_1.root:/\n",
        "hadd Target path: /data/trivedia/e1f/2pi/sim/sim1/d2pi_1.root:/q2wskim\n",
        "hadd Target path: /data/trivedia/e1f/2pi/sim/sim1/d2pi_1.root:/q2wskim/monitor\n",
        "hadd Target path: /data/trivedia/e1f/2pi/sim/sim1/d2pi_1.root:/q2wskim/monitor/sector0\n",
        "hadd Target path: /data/trivedia/e1f/2pi/sim/sim1/d2pi_1.root:/q2wskim/monitor/sector1\n",
        "hadd Target path: /data/trivedia/e1f/2pi/sim/sim1/d2pi_1.root:/q2wskim/monitor/sector2\n",
        "hadd Target path: /data/trivedia/e1f/2pi/sim/sim1/d2pi_1.root:/q2wskim/monitor/sector3\n",
        "hadd Target path: /data/trivedia/e1f/2pi/sim/sim1/d2pi_1.root:/q2wskim/monitor/sector4\n",
        "hadd Target path: /data/trivedia/e1f/2pi/sim/sim1/d2pi_1.root:/q2wskim/monitor/sector5\n",
        "hadd Target path: /data/trivedia/e1f/2pi/sim/sim1/d2pi_1.root:/q2wskim/monitor/sector6\n",
        "hadd Target path: /data/trivedia/e1f/2pi/sim/sim1/d2pi_1.root:/q2wskim/cut\n",
        "hadd Target path: /data/trivedia/e1f/2pi/sim/sim1/d2pi_1.root:/q2wskim/cut/sector0\n",
        "hadd Target path: /data/trivedia/e1f/2pi/sim/sim1/d2pi_1.root:/q2wskim/cut/sector1\n",
        "hadd Target path: /data/trivedia/e1f/2pi/sim/sim1/d2pi_1.root:/q2wskim/cut/sector2\n",
        "hadd Target path: /data/trivedia/e1f/2pi/sim/sim1/d2pi_1.root:/q2wskim/cut/sector3\n",
        "hadd Target path: /data/trivedia/e1f/2pi/sim/sim1/d2pi_1.root:/q2wskim/cut/sector4\n",
        "hadd Target path: /data/trivedia/e1f/2pi/sim/sim1/d2pi_1.root:/q2wskim/cut/sector5\n",
        "hadd Target path: /data/trivedia/e1f/2pi/sim/sim1/d2pi_1.root:/q2wskim/cut/sector6\n",
        "hadd Target path: /data/trivedia/e1f/2pi/sim/sim1/d2pi_1.root:/d2piT\n",
        "hadd Target path: /data/trivedia/e1f/2pi/sim/sim1/d2pi_1.root:/eid\n",
        "hadd Target path: /data/trivedia/e1f/2pi/sim/sim1/d2pi_1.root:/fid\n",
        "hadd Target path: /data/trivedia/e1f/2pi/sim/sim1/d2pi_1.root:/qskim\n",
        "hadd Target path: /data/trivedia/e1f/2pi/sim/sim1/d2pi_1.root:/pid\n",
        "hadd Target path: /data/trivedia/e1f/2pi/sim/sim1/d2pi_1.root:/d2piR\n",
        "hadd Target path: /data/trivedia/e1f/2pi/sim/sim1/d2pi_1.root:/d2piR/top1\n",
        "hadd Target path: /data/trivedia/e1f/2pi/sim/sim1/d2pi_1.root:/d2piR/top2\n",
        "hadd Target path: /data/trivedia/e1f/2pi/sim/sim1/d2pi_1.root:/d2piR/top3\n",
        "hadd Target path: /data/trivedia/e1f/2pi/sim/sim1/d2pi_1.root:/d2piR/top4\n"
       ]
      },
      {
       "output_type": "stream",
       "stream": "stdout",
       "text": [
        "\n",
        ">>>['hadd', '/data/trivedia/e1f/2pi/sim/sim1/d2pi_2.root', '/data/trivedia/e1f/2pi/sim/sim1/q2w10/d2pi.root', '/data/trivedia/e1f/2pi/sim/sim1/d2pi_1.root']\n",
        "hadd Target file: /data/trivedia/e1f/2pi/sim/sim1/d2pi_2.root\n",
        "hadd Source file 1: /data/trivedia/e1f/2pi/sim/sim1/q2w10/d2pi.root\n",
        "hadd Source file 2: /data/trivedia/e1f/2pi/sim/sim1/d2pi_1.root\n",
        "hadd Target path: /data/trivedia/e1f/2pi/sim/sim1/d2pi_2.root:/\n",
        "hadd Target path: /data/trivedia/e1f/2pi/sim/sim1/d2pi_2.root:/q2wskim\n",
        "hadd Target path: /data/trivedia/e1f/2pi/sim/sim1/d2pi_2.root:/q2wskim/monitor\n",
        "hadd Target path: /data/trivedia/e1f/2pi/sim/sim1/d2pi_2.root:/q2wskim/monitor/sector0\n",
        "hadd Target path: /data/trivedia/e1f/2pi/sim/sim1/d2pi_2.root:/q2wskim/monitor/sector1\n",
        "hadd Target path: /data/trivedia/e1f/2pi/sim/sim1/d2pi_2.root:/q2wskim/monitor/sector2\n",
        "hadd Target path: /data/trivedia/e1f/2pi/sim/sim1/d2pi_2.root:/q2wskim/monitor/sector3\n",
        "hadd Target path: /data/trivedia/e1f/2pi/sim/sim1/d2pi_2.root:/q2wskim/monitor/sector4\n",
        "hadd Target path: /data/trivedia/e1f/2pi/sim/sim1/d2pi_2.root:/q2wskim/monitor/sector5\n",
        "hadd Target path: /data/trivedia/e1f/2pi/sim/sim1/d2pi_2.root:/q2wskim/monitor/sector6\n",
        "hadd Target path: /data/trivedia/e1f/2pi/sim/sim1/d2pi_2.root:/q2wskim/cut\n",
        "hadd Target path: /data/trivedia/e1f/2pi/sim/sim1/d2pi_2.root:/q2wskim/cut/sector0\n",
        "hadd Target path: /data/trivedia/e1f/2pi/sim/sim1/d2pi_2.root:/q2wskim/cut/sector1\n",
        "hadd Target path: /data/trivedia/e1f/2pi/sim/sim1/d2pi_2.root:/q2wskim/cut/sector2\n",
        "hadd Target path: /data/trivedia/e1f/2pi/sim/sim1/d2pi_2.root:/q2wskim/cut/sector3\n",
        "hadd Target path: /data/trivedia/e1f/2pi/sim/sim1/d2pi_2.root:/q2wskim/cut/sector4\n",
        "hadd Target path: /data/trivedia/e1f/2pi/sim/sim1/d2pi_2.root:/q2wskim/cut/sector5\n",
        "hadd Target path: /data/trivedia/e1f/2pi/sim/sim1/d2pi_2.root:/q2wskim/cut/sector6\n",
        "hadd Target path: /data/trivedia/e1f/2pi/sim/sim1/d2pi_2.root:/d2piT\n",
        "hadd Target path: /data/trivedia/e1f/2pi/sim/sim1/d2pi_2.root:/eid\n",
        "hadd Target path: /data/trivedia/e1f/2pi/sim/sim1/d2pi_2.root:/fid\n",
        "hadd Target path: /data/trivedia/e1f/2pi/sim/sim1/d2pi_2.root:/qskim\n",
        "hadd Target path: /data/trivedia/e1f/2pi/sim/sim1/d2pi_2.root:/pid\n",
        "hadd Target path: /data/trivedia/e1f/2pi/sim/sim1/d2pi_2.root:/d2piR\n",
        "hadd Target path: /data/trivedia/e1f/2pi/sim/sim1/d2pi_2.root:/d2piR/top1\n",
        "hadd Target path: /data/trivedia/e1f/2pi/sim/sim1/d2pi_2.root:/d2piR/top2\n",
        "hadd Target path: /data/trivedia/e1f/2pi/sim/sim1/d2pi_2.root:/d2piR/top3\n",
        "hadd Target path: /data/trivedia/e1f/2pi/sim/sim1/d2pi_2.root:/d2piR/top4\n"
       ]
      },
      {
       "output_type": "stream",
       "stream": "stdout",
       "text": [
        "\n",
        ">>>rm /data/trivedia/e1f/2pi/sim/sim1/d2pi_1.root\n",
        ">>>cp /data/trivedia/e1f/2pi/sim/sim1/d2pi_2.root d2pi.root\n"
       ]
      }
     ],
     "prompt_number": 1
    },
    {
     "cell_type": "code",
     "collapsed": false,
     "input": [],
     "language": "python",
     "metadata": {},
     "outputs": []
    }
   ],
   "metadata": {}
  }
 ]
}