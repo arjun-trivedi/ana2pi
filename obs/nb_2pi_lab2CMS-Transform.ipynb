{
 "metadata": {
  "name": ""
 },
 "nbformat": 3,
 "nbformat_minor": 0,
 "worksheets": [
  {
   "cells": [
    {
     "cell_type": "code",
     "collapsed": false,
     "input": [
      "\"\"\"\n",
      "[10-09-14] In this notebook I began to note how the CMS system \n",
      "defined by Evan(ep) and Gleb(gf) are different\n",
      "\"\"\"\n",
      "from __future__ import division\n",
      "\n",
      "MASS_P = 0.93827203\n",
      "MASS_E = 0.000511\n",
      "E1F_P=5.499\n",
      "lvP0=ROOT.TLorentzVector(0,0,0,MASS_P)\n",
      "lvE0=ROOT.TLorentzVector(0,0,E1F_P,sqrt(E1F_P**2+MASS_E**2))\n",
      "\n",
      "lvE1=ROOT.TLorentzVector(0,0,0,0)\n",
      "vE1=ROOT.TVector3(1.62,1.62,5)\n",
      "lvE1.SetVectM(vE1,0.000511)\n",
      "\n",
      "lvQ=lvE0-lvE1\n",
      "lvW=lvQ+lvP0\n",
      "uz=lvQ.Vect().Unit()\n",
      "ux_ep=(lvE0.Vect().Cross(lvE1.Vect())).Unit()\n",
      "ux_ep.Rotate(-ROOT.TMath.Pi()/2,uz)\n",
      "ux_gf=(lvE1.Vect().Cross(lvE0.Vect())).Unit()\n",
      "ux_gf.Rotate(3*ROOT.TMath.Pi()/2,uz)\n",
      "\n",
      "r3_ep=ROOT.TRotation()\n",
      "r3_ep.SetZAxis(uz,ux_ep).Invert()\n",
      "r3_gf=ROOT.TRotation()\n",
      "r3_gf.SetZAxis(uz,ux_gf).Invert()\n",
      "\n",
      "#! Calculate Tranformation as per Evan: r4=r3*boost\n",
      "#! + Actual code='boost_ep=ROOT.TVector3(-1*lvW.BoostVector())'\n",
      "#! + But PyROOT does not recognize '-1*lvW.BoostVector()'\n",
      "boost=ROOT.TVector3(lvW.BoostVector());\n",
      "boost*=-1\n",
      "r4=ROOT.TLorentzRotation(r3_ep)\n",
      "r4*=boost #! This code is not being understood by PyROOT!\n",
      "#! STOP! Abandoned writing code in PyROOT; see 2pi_lab2CMS_Transformation.C\n",
      "\n",
      "#! Calculate Transformation as per Gleb, which is a two step process: 1=r3,2=boost\n",
      "Q2=-lvQ.Mag2()\n",
      "beta=sqrt(lvQ[3]*lvQ[3]+Q2)/(lvQ[3]+MASS_P)"
     ],
     "language": "python",
     "metadata": {},
     "outputs": [
      {
       "metadata": {},
       "output_type": "pyout",
       "prompt_number": 2,
       "text": [
        "<ROOT.TRotation object (\"TRotation\") at 0x5b15880>"
       ]
      }
     ],
     "prompt_number": 2
    },
    {
     "cell_type": "code",
     "collapsed": false,
     "input": [
      "print \"uz=\",uz.X(),uz.Y(),uz.Z()\n",
      "print \"ux_ep=\",ux_ep.X(),ux_ep.Y(),ux_ep.Z()\n",
      "print \"ux_gf=\",ux_gf.X(),ux_gf.Y(),ux_gf.Z()\n",
      "\n",
      "print \"r3_ep:\"\n",
      "print r3_ep.XX(),r3_ep.XY(),r3_ep.XZ()\n",
      "print r3_ep.YX(),r3_ep.YY(),r3_ep.YZ()\n",
      "print r3_ep.ZX(),r3_ep.ZY(),r3_ep.ZZ()\n",
      "\n",
      "print \"r3_gf:\"\n",
      "print r3_gf.XX(),r3_gf.XY(),r3_gf.XZ()\n",
      "print r3_gf.YX(),r3_gf.YY(),r3_gf.YZ()\n",
      "print r3_gf.ZX(),r3_gf.ZY(),r3_gf.ZZ()"
     ],
     "language": "python",
     "metadata": {},
     "outputs": [
      {
       "output_type": "stream",
       "stream": "stdout",
       "text": [
        "uz= -0.690908453681 -0.690908453681 0.212816863202\n",
        "ux_ep= 0.150484247121 0.150484247121 0.977092105554\n",
        "ux_gf= -0.150484247121 -0.150484247121 -0.977092105554\n",
        "r3_ep:\n",
        "0.150484247121 0.150484247121 0.977092105554\n",
        "-0.707106781187 0.707106781187 -5.55111512313e-17\n",
        "-0.690908453681 -0.690908453681 0.212816863202\n",
        "r3_gf:\n",
        "-0.150484247121 -0.150484247121 -0.977092105554\n",
        "0.707106781187 -0.707106781187 -1.66533453694e-16\n",
        "-0.690908453681 -0.690908453681 0.212816863202\n"
       ]
      }
     ],
     "prompt_number": 18
    },
    {
     "cell_type": "code",
     "collapsed": false,
     "input": [
      "print boost.Mag()\n",
      "print beta"
     ],
     "language": "python",
     "metadata": {},
     "outputs": [
      {
       "output_type": "stream",
       "stream": "stdout",
       "text": [
        "2.50137212031\n",
        "2.50137212031\n"
       ]
      }
     ],
     "prompt_number": 16
    },
    {
     "cell_type": "code",
     "collapsed": false,
     "input": [
      "sqrt((5.499**2-5**2)/2)"
     ],
     "language": "python",
     "metadata": {},
     "outputs": [
      {
       "metadata": {},
       "output_type": "pyout",
       "prompt_number": 9,
       "text": [
        "1.6184871022037826"
       ]
      }
     ],
     "prompt_number": 9
    },
    {
     "cell_type": "code",
     "collapsed": false,
     "input": [
      "1.61**2+1.61**2+5**2"
     ],
     "language": "python",
     "metadata": {},
     "outputs": [
      {
       "metadata": {},
       "output_type": "pyout",
       "prompt_number": 10,
       "text": [
        "30.1842"
       ]
      }
     ],
     "prompt_number": 10
    },
    {
     "cell_type": "code",
     "collapsed": false,
     "input": [
      "5.499**2"
     ],
     "language": "python",
     "metadata": {},
     "outputs": [
      {
       "metadata": {},
       "output_type": "pyout",
       "prompt_number": 11,
       "text": [
        "30.239000999999995"
       ]
      }
     ],
     "prompt_number": 11
    },
    {
     "cell_type": "code",
     "collapsed": false,
     "input": [
      "3**2"
     ],
     "language": "python",
     "metadata": {},
     "outputs": [
      {
       "metadata": {},
       "output_type": "pyout",
       "prompt_number": 16,
       "text": [
        "9"
       ]
      }
     ],
     "prompt_number": 16
    },
    {
     "cell_type": "code",
     "collapsed": false,
     "input": [
      "ROOT.TMath.Pi()"
     ],
     "language": "python",
     "metadata": {},
     "outputs": [
      {
       "metadata": {},
       "output_type": "pyout",
       "prompt_number": 26,
       "text": [
        "3.141592653589793"
       ]
      }
     ],
     "prompt_number": 26
    },
    {
     "cell_type": "code",
     "collapsed": false,
     "input": [],
     "language": "python",
     "metadata": {},
     "outputs": []
    }
   ],
   "metadata": {}
  }
 ]
}