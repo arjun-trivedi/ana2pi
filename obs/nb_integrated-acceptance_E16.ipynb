{
 "metadata": {
  "name": ""
 },
 "nbformat": 3,
 "nbformat_minor": 0,
 "worksheets": [
  {
   "cells": [
    {
     "cell_type": "code",
     "collapsed": false,
     "input": [
      "import study_acc_tools as t"
     ],
     "language": "python",
     "metadata": {},
     "outputs": [],
     "prompt_number": 1
    },
    {
     "cell_type": "code",
     "collapsed": false,
     "input": [
      "t.plot_intg_acc(\"obs_052015_full_proc_chain\",\"e16\",\"sim1.1\",[2],[\"2.25-2.75\"])\n",
      "t.plot_intg_acc(\"obs_052015_full_proc_chain\",\"e16\",\"sim1.1\",[1,2],[\"2.25-2.75\"])\n",
      "t.plot_intg_acc(\"obs_052015_full_proc_chain\",\"e16\",\"sim1.1\",[1,2,3,4],[\"2.25-2.75\"])"
     ],
     "language": "python",
     "metadata": {},
     "outputs": [
      {
       "output_type": "stream",
       "stream": "stderr",
       "text": [
        "INFO:rootpy.logger] | No default log handler configured. See `logging` module |\n"
       ]
      },
      {
       "output_type": "stream",
       "stream": "stderr",
       "text": [
        "INFO:rootpy.logger] \\    To suppress: 'rootpy.log.basic_config_colorized()'   /\n"
       ]
      },
      {
       "output_type": "stream",
       "stream": "stderr",
       "text": [
        "WARNING:ROOT.TFile.Append] Replacing existing TH1: h5_UNPOL_proj_1 (Potential memory leak).\n"
       ]
      },
      {
       "output_type": "stream",
       "stream": "stderr",
       "text": [
        "INFO:ROOT.TCanvas.Print] png file /data/trivedia/e16/2pi/d2pi/obs_052015_full_proc_chain/sim1.1/intg-eff_top2/ceff_top2_1.575-1.600_VST1.png has been created\n"
       ]
      },
      {
       "output_type": "stream",
       "stream": "stderr",
       "text": [
        "WARNING:ROOT.TCanvas.Constructor] Deleting canvas with same name: c\n"
       ]
      },
      {
       "output_type": "stream",
       "stream": "stdout",
       "text": [
        "iq2wbin= 0\n",
        "iq2wbin="
       ]
      },
      {
       "output_type": "stream",
       "stream": "stderr",
       "text": [
        "WARNING:ROOT.TFile.Append] Replacing existing TH1: h5_UNPOL_proj_1 (Potential memory leak).\n"
       ]
      },
      {
       "output_type": "stream",
       "stream": "stderr",
       "text": [
        "WARNING:ROOT.TFile.Append] Replacing existing TH1: h5_UNPOL_proj_1 (Potential memory leak).\n"
       ]
      },
      {
       "output_type": "stream",
       "stream": "stderr",
       "text": [
        "INFO:ROOT.TCanvas.Print] png file /data/trivedia/e16/2pi/d2pi/obs_052015_full_proc_chain/sim1.1/intg-eff_top2/ceff_top2_1.675-1.700_VST1.png has been created\n"
       ]
      },
      {
       "output_type": "stream",
       "stream": "stderr",
       "text": [
        "WARNING:ROOT.TCanvas.Constructor] Deleting canvas with same name: c\n"
       ]
      },
      {
       "output_type": "stream",
       "stream": "stdout",
       "text": [
        " 0\n",
        "iq2wbin="
       ]
      },
      {
       "output_type": "stream",
       "stream": "stderr",
       "text": [
        "WARNING:ROOT.TFile.Append] Replacing existing TH1: h5_UNPOL_proj_1 (Potential memory leak).\n"
       ]
      },
      {
       "output_type": "stream",
       "stream": "stderr",
       "text": [
        "WARNING:ROOT.TFile.Append] Replacing existing TH1: h5_UNPOL_proj_1 (Potential memory leak).\n"
       ]
      },
      {
       "output_type": "stream",
       "stream": "stderr",
       "text": [
        "INFO:ROOT.TCanvas.Print] png file /data/trivedia/e16/2pi/d2pi/obs_052015_full_proc_chain/sim1.1/intg-eff_top2/ceff_top2_1.775-1.800_VST1.png has been created\n"
       ]
      },
      {
       "output_type": "stream",
       "stream": "stderr",
       "text": [
        "WARNING:ROOT.TCanvas.Constructor] Deleting canvas with same name: c\n"
       ]
      },
      {
       "output_type": "stream",
       "stream": "stdout",
       "text": [
        " 0\n",
        "iq2wbin="
       ]
      },
      {
       "output_type": "stream",
       "stream": "stderr",
       "text": [
        "WARNING:ROOT.TFile.Append] Replacing existing TH1: h5_UNPOL_proj_1 (Potential memory leak).\n"
       ]
      },
      {
       "output_type": "stream",
       "stream": "stderr",
       "text": [
        "WARNING:ROOT.TFile.Append] Replacing existing TH1: h5_UNPOL_proj_1 (Potential memory leak).\n"
       ]
      },
      {
       "output_type": "stream",
       "stream": "stderr",
       "text": [
        "INFO:ROOT.TCanvas.Print] png file /data/trivedia/e16/2pi/d2pi/obs_052015_full_proc_chain/sim1.1/intg-eff_top2/ceff_top2_1.875-1.900_VST1.png has been created\n"
       ]
      },
      {
       "output_type": "stream",
       "stream": "stderr",
       "text": [
        "WARNING:ROOT.TCanvas.Constructor] Deleting canvas with same name: c\n"
       ]
      },
      {
       "output_type": "stream",
       "stream": "stdout",
       "text": [
        " 0\n",
        "iq2wbin="
       ]
      },
      {
       "output_type": "stream",
       "stream": "stderr",
       "text": [
        "WARNING:ROOT.TFile.Append] Replacing existing TH1: h5_UNPOL_proj_1 (Potential memory leak).\n"
       ]
      },
      {
       "output_type": "stream",
       "stream": "stderr",
       "text": [
        "WARNING:ROOT.TFile.Append] Replacing existing TH1: h5_UNPOL_proj_1 (Potential memory leak).\n"
       ]
      },
      {
       "output_type": "stream",
       "stream": "stderr",
       "text": [
        "INFO:ROOT.TCanvas.Print] png file /data/trivedia/e16/2pi/d2pi/obs_052015_full_proc_chain/sim1.1/intg-eff_top2/ceff_top2_1.975-2.000_VST1.png has been created\n"
       ]
      },
      {
       "output_type": "stream",
       "stream": "stdout",
       "text": [
        " 0\n",
        "iq2wbin="
       ]
      },
      {
       "output_type": "stream",
       "stream": "stderr",
       "text": [
        "WARNING:ROOT.TFile.Append] Replacing existing TH1: h5_UNPOL_proj_1 (Potential memory leak).\n"
       ]
      },
      {
       "output_type": "stream",
       "stream": "stderr",
       "text": [
        "INFO:ROOT.TCanvas.Print] png file /data/trivedia/e16/2pi/d2pi/obs_052015_full_proc_chain/sim1.1/intg-eff_top12/ceff_top12_1.575-1.600_VST1.png has been created\n"
       ]
      },
      {
       "output_type": "stream",
       "stream": "stderr",
       "text": [
        "WARNING:ROOT.TCanvas.Constructor] Deleting canvas with same name: c\n"
       ]
      },
      {
       "output_type": "stream",
       "stream": "stdout",
       "text": [
        " 0\n",
        "iq2wbin="
       ]
      },
      {
       "output_type": "stream",
       "stream": "stderr",
       "text": [
        "WARNING:ROOT.TFile.Append] Replacing existing TH1: h5_UNPOL_proj_1 (Potential memory leak).\n"
       ]
      },
      {
       "output_type": "stream",
       "stream": "stderr",
       "text": [
        "WARNING:ROOT.TFile.Append] Replacing existing TH1: h5_UNPOL_proj_1 (Potential memory leak).\n"
       ]
      },
      {
       "output_type": "stream",
       "stream": "stderr",
       "text": [
        "INFO:ROOT.TCanvas.Print] png file /data/trivedia/e16/2pi/d2pi/obs_052015_full_proc_chain/sim1.1/intg-eff_top12/ceff_top12_1.675-1.700_VST1.png has been created\n"
       ]
      },
      {
       "output_type": "stream",
       "stream": "stderr",
       "text": [
        "WARNING:ROOT.TCanvas.Constructor] Deleting canvas with same name: c\n"
       ]
      },
      {
       "output_type": "stream",
       "stream": "stdout",
       "text": [
        " 0\n",
        "iq2wbin="
       ]
      },
      {
       "output_type": "stream",
       "stream": "stderr",
       "text": [
        "WARNING:ROOT.TFile.Append] Replacing existing TH1: h5_UNPOL_proj_1 (Potential memory leak).\n"
       ]
      },
      {
       "output_type": "stream",
       "stream": "stderr",
       "text": [
        "WARNING:ROOT.TFile.Append] Replacing existing TH1: h5_UNPOL_proj_1 (Potential memory leak).\n"
       ]
      },
      {
       "output_type": "stream",
       "stream": "stderr",
       "text": [
        "INFO:ROOT.TCanvas.Print] png file /data/trivedia/e16/2pi/d2pi/obs_052015_full_proc_chain/sim1.1/intg-eff_top12/ceff_top12_1.775-1.800_VST1.png has been created\n"
       ]
      },
      {
       "output_type": "stream",
       "stream": "stderr",
       "text": [
        "WARNING:ROOT.TCanvas.Constructor] Deleting canvas with same name: c\n"
       ]
      },
      {
       "output_type": "stream",
       "stream": "stdout",
       "text": [
        " 0\n",
        "iq2wbin="
       ]
      },
      {
       "output_type": "stream",
       "stream": "stderr",
       "text": [
        "WARNING:ROOT.TFile.Append] Replacing existing TH1: h5_UNPOL_proj_1 (Potential memory leak).\n"
       ]
      },
      {
       "output_type": "stream",
       "stream": "stderr",
       "text": [
        "WARNING:ROOT.TFile.Append] Replacing existing TH1: h5_UNPOL_proj_1 (Potential memory leak).\n"
       ]
      },
      {
       "output_type": "stream",
       "stream": "stderr",
       "text": [
        "INFO:ROOT.TCanvas.Print] png file /data/trivedia/e16/2pi/d2pi/obs_052015_full_proc_chain/sim1.1/intg-eff_top12/ceff_top12_1.875-1.900_VST1.png has been created\n"
       ]
      },
      {
       "output_type": "stream",
       "stream": "stderr",
       "text": [
        "WARNING:ROOT.TCanvas.Constructor] Deleting canvas with same name: c\n"
       ]
      },
      {
       "output_type": "stream",
       "stream": "stdout",
       "text": [
        " 0\n",
        "iq2wbin="
       ]
      },
      {
       "output_type": "stream",
       "stream": "stderr",
       "text": [
        "WARNING:ROOT.TFile.Append] Replacing existing TH1: h5_UNPOL_proj_1 (Potential memory leak).\n"
       ]
      },
      {
       "output_type": "stream",
       "stream": "stderr",
       "text": [
        "WARNING:ROOT.TFile.Append] Replacing existing TH1: h5_UNPOL_proj_1 (Potential memory leak).\n"
       ]
      },
      {
       "output_type": "stream",
       "stream": "stderr",
       "text": [
        "INFO:ROOT.TCanvas.Print] png file /data/trivedia/e16/2pi/d2pi/obs_052015_full_proc_chain/sim1.1/intg-eff_top12/ceff_top12_1.975-2.000_VST1.png has been created\n"
       ]
      },
      {
       "output_type": "stream",
       "stream": "stdout",
       "text": [
        " 0\n",
        "iq2wbin="
       ]
      },
      {
       "output_type": "stream",
       "stream": "stderr",
       "text": [
        "WARNING:ROOT.TFile.Append] Replacing existing TH1: h5_UNPOL_proj_1 (Potential memory leak).\n"
       ]
      },
      {
       "output_type": "stream",
       "stream": "stderr",
       "text": [
        "INFO:ROOT.TCanvas.Print] png file /data/trivedia/e16/2pi/d2pi/obs_052015_full_proc_chain/sim1.1/intg-eff_top1234/ceff_top1234_1.575-1.600_VST1.png has been created\n"
       ]
      },
      {
       "output_type": "stream",
       "stream": "stderr",
       "text": [
        "WARNING:ROOT.TCanvas.Constructor] Deleting canvas with same name: c\n"
       ]
      },
      {
       "output_type": "stream",
       "stream": "stdout",
       "text": [
        " 0\n",
        "iq2wbin="
       ]
      },
      {
       "output_type": "stream",
       "stream": "stderr",
       "text": [
        "WARNING:ROOT.TFile.Append] Replacing existing TH1: h5_UNPOL_proj_1 (Potential memory leak).\n"
       ]
      },
      {
       "output_type": "stream",
       "stream": "stderr",
       "text": [
        "WARNING:ROOT.TFile.Append] Replacing existing TH1: h5_UNPOL_proj_1 (Potential memory leak).\n"
       ]
      },
      {
       "output_type": "stream",
       "stream": "stderr",
       "text": [
        "INFO:ROOT.TCanvas.Print] png file /data/trivedia/e16/2pi/d2pi/obs_052015_full_proc_chain/sim1.1/intg-eff_top1234/ceff_top1234_1.675-1.700_VST1.png has been created\n"
       ]
      },
      {
       "output_type": "stream",
       "stream": "stderr",
       "text": [
        "WARNING:ROOT.TCanvas.Constructor] Deleting canvas with same name: c\n"
       ]
      },
      {
       "output_type": "stream",
       "stream": "stdout",
       "text": [
        " 0\n",
        "iq2wbin="
       ]
      },
      {
       "output_type": "stream",
       "stream": "stderr",
       "text": [
        "WARNING:ROOT.TFile.Append] Replacing existing TH1: h5_UNPOL_proj_1 (Potential memory leak).\n"
       ]
      },
      {
       "output_type": "stream",
       "stream": "stderr",
       "text": [
        "WARNING:ROOT.TFile.Append] Replacing existing TH1: h5_UNPOL_proj_1 (Potential memory leak).\n"
       ]
      },
      {
       "output_type": "stream",
       "stream": "stderr",
       "text": [
        "INFO:ROOT.TCanvas.Print] png file /data/trivedia/e16/2pi/d2pi/obs_052015_full_proc_chain/sim1.1/intg-eff_top1234/ceff_top1234_1.775-1.800_VST1.png has been created\n"
       ]
      },
      {
       "output_type": "stream",
       "stream": "stderr",
       "text": [
        "WARNING:ROOT.TCanvas.Constructor] Deleting canvas with same name: c\n"
       ]
      },
      {
       "output_type": "stream",
       "stream": "stdout",
       "text": [
        " 0\n",
        "iq2wbin="
       ]
      },
      {
       "output_type": "stream",
       "stream": "stderr",
       "text": [
        "WARNING:ROOT.TFile.Append] Replacing existing TH1: h5_UNPOL_proj_1 (Potential memory leak).\n"
       ]
      },
      {
       "output_type": "stream",
       "stream": "stderr",
       "text": [
        "WARNING:ROOT.TFile.Append] Replacing existing TH1: h5_UNPOL_proj_1 (Potential memory leak).\n"
       ]
      },
      {
       "output_type": "stream",
       "stream": "stderr",
       "text": [
        "INFO:ROOT.TCanvas.Print] png file /data/trivedia/e16/2pi/d2pi/obs_052015_full_proc_chain/sim1.1/intg-eff_top1234/ceff_top1234_1.875-1.900_VST1.png has been created\n"
       ]
      },
      {
       "output_type": "stream",
       "stream": "stderr",
       "text": [
        "WARNING:ROOT.TCanvas.Constructor] Deleting canvas with same name: c\n"
       ]
      },
      {
       "output_type": "stream",
       "stream": "stdout",
       "text": [
        " 0\n",
        "iq2wbin="
       ]
      },
      {
       "output_type": "stream",
       "stream": "stderr",
       "text": [
        "WARNING:ROOT.TFile.Append] Replacing existing TH1: h5_UNPOL_proj_1 (Potential memory leak).\n"
       ]
      },
      {
       "output_type": "stream",
       "stream": "stderr",
       "text": [
        "WARNING:ROOT.TFile.Append] Replacing existing TH1: h5_UNPOL_proj_1 (Potential memory leak).\n"
       ]
      },
      {
       "output_type": "stream",
       "stream": "stderr",
       "text": [
        "INFO:ROOT.TCanvas.Print] png file /data/trivedia/e16/2pi/d2pi/obs_052015_full_proc_chain/sim1.1/intg-eff_top1234/ceff_top1234_1.975-2.000_VST1.png has been created\n"
       ]
      },
      {
       "output_type": "stream",
       "stream": "stdout",
       "text": [
        " 0\n"
       ]
      }
     ],
     "prompt_number": 2
    },
    {
     "cell_type": "code",
     "collapsed": false,
     "input": [
      "t.plot_intg_acc(\"obs_052115_no_pfid\",\"e16\",\"sim1.1\",[2],[\"2.25-2.75\"])\n",
      "t.plot_intg_acc(\"obs_052115_no_pfid\",\"e16\",\"sim1.1\",[1,2],[\"2.25-2.75\"])\n",
      "t.plot_intg_acc(\"obs_052115_no_pfid\",\"e16\",\"sim1.1\",[1,2,3,4],[\"2.25-2.75\"])"
     ],
     "language": "python",
     "metadata": {},
     "outputs": [
      {
       "output_type": "stream",
       "stream": "stderr",
       "text": [
        "WARNING:ROOT.TFile.Append] Replacing existing TH1: h5_UNPOL_proj_1 (Potential memory leak).\n"
       ]
      },
      {
       "output_type": "stream",
       "stream": "stderr",
       "text": [
        "INFO:ROOT.TCanvas.Print] png file /data/trivedia/e16/2pi/d2pi/obs_052115_no_pfid/sim1.1/intg-eff_top2/ceff_top2_1.575-1.600_VST1.png has been created\n"
       ]
      },
      {
       "output_type": "stream",
       "stream": "stderr",
       "text": [
        "WARNING:ROOT.TCanvas.Constructor] Deleting canvas with same name: c\n"
       ]
      },
      {
       "output_type": "stream",
       "stream": "stdout",
       "text": [
        "iq2wbin= 0\n",
        "iq2wbin="
       ]
      },
      {
       "output_type": "stream",
       "stream": "stderr",
       "text": [
        "WARNING:ROOT.TFile.Append] Replacing existing TH1: h5_UNPOL_proj_1 (Potential memory leak).\n"
       ]
      },
      {
       "output_type": "stream",
       "stream": "stderr",
       "text": [
        "WARNING:ROOT.TFile.Append] Replacing existing TH1: h5_UNPOL_proj_1 (Potential memory leak).\n"
       ]
      },
      {
       "output_type": "stream",
       "stream": "stderr",
       "text": [
        "INFO:ROOT.TCanvas.Print] png file /data/trivedia/e16/2pi/d2pi/obs_052115_no_pfid/sim1.1/intg-eff_top2/ceff_top2_1.675-1.700_VST1.png has been created\n"
       ]
      },
      {
       "output_type": "stream",
       "stream": "stderr",
       "text": [
        "WARNING:ROOT.TCanvas.Constructor] Deleting canvas with same name: c\n"
       ]
      },
      {
       "output_type": "stream",
       "stream": "stdout",
       "text": [
        " 0\n",
        "iq2wbin="
       ]
      },
      {
       "output_type": "stream",
       "stream": "stderr",
       "text": [
        "WARNING:ROOT.TFile.Append] Replacing existing TH1: h5_UNPOL_proj_1 (Potential memory leak).\n"
       ]
      },
      {
       "output_type": "stream",
       "stream": "stderr",
       "text": [
        "WARNING:ROOT.TFile.Append] Replacing existing TH1: h5_UNPOL_proj_1 (Potential memory leak).\n"
       ]
      },
      {
       "output_type": "stream",
       "stream": "stderr",
       "text": [
        "INFO:ROOT.TCanvas.Print] png file /data/trivedia/e16/2pi/d2pi/obs_052115_no_pfid/sim1.1/intg-eff_top2/ceff_top2_1.775-1.800_VST1.png has been created\n"
       ]
      },
      {
       "output_type": "stream",
       "stream": "stderr",
       "text": [
        "WARNING:ROOT.TCanvas.Constructor] Deleting canvas with same name: c\n"
       ]
      },
      {
       "output_type": "stream",
       "stream": "stdout",
       "text": [
        " 0\n",
        "iq2wbin="
       ]
      },
      {
       "output_type": "stream",
       "stream": "stderr",
       "text": [
        "WARNING:ROOT.TFile.Append] Replacing existing TH1: h5_UNPOL_proj_1 (Potential memory leak).\n"
       ]
      },
      {
       "output_type": "stream",
       "stream": "stderr",
       "text": [
        "WARNING:ROOT.TFile.Append] Replacing existing TH1: h5_UNPOL_proj_1 (Potential memory leak).\n"
       ]
      },
      {
       "output_type": "stream",
       "stream": "stderr",
       "text": [
        "INFO:ROOT.TCanvas.Print] png file /data/trivedia/e16/2pi/d2pi/obs_052115_no_pfid/sim1.1/intg-eff_top2/ceff_top2_1.875-1.900_VST1.png has been created\n"
       ]
      },
      {
       "output_type": "stream",
       "stream": "stderr",
       "text": [
        "WARNING:ROOT.TCanvas.Constructor] Deleting canvas with same name: c\n"
       ]
      },
      {
       "output_type": "stream",
       "stream": "stdout",
       "text": [
        " 0\n",
        "iq2wbin="
       ]
      },
      {
       "output_type": "stream",
       "stream": "stderr",
       "text": [
        "WARNING:ROOT.TFile.Append] Replacing existing TH1: h5_UNPOL_proj_1 (Potential memory leak).\n"
       ]
      },
      {
       "output_type": "stream",
       "stream": "stderr",
       "text": [
        "WARNING:ROOT.TFile.Append] Replacing existing TH1: h5_UNPOL_proj_1 (Potential memory leak).\n"
       ]
      },
      {
       "output_type": "stream",
       "stream": "stderr",
       "text": [
        "INFO:ROOT.TCanvas.Print] png file /data/trivedia/e16/2pi/d2pi/obs_052115_no_pfid/sim1.1/intg-eff_top2/ceff_top2_1.975-2.000_VST1.png has been created\n"
       ]
      },
      {
       "output_type": "stream",
       "stream": "stdout",
       "text": [
        " 0\n",
        "iq2wbin="
       ]
      },
      {
       "output_type": "stream",
       "stream": "stderr",
       "text": [
        "WARNING:ROOT.TFile.Append] Replacing existing TH1: h5_UNPOL_proj_1 (Potential memory leak).\n"
       ]
      },
      {
       "output_type": "stream",
       "stream": "stderr",
       "text": [
        "INFO:ROOT.TCanvas.Print] png file /data/trivedia/e16/2pi/d2pi/obs_052115_no_pfid/sim1.1/intg-eff_top12/ceff_top12_1.575-1.600_VST1.png has been created\n"
       ]
      },
      {
       "output_type": "stream",
       "stream": "stderr",
       "text": [
        "WARNING:ROOT.TCanvas.Constructor] Deleting canvas with same name: c\n"
       ]
      },
      {
       "output_type": "stream",
       "stream": "stdout",
       "text": [
        " 0\n",
        "iq2wbin="
       ]
      },
      {
       "output_type": "stream",
       "stream": "stderr",
       "text": [
        "WARNING:ROOT.TFile.Append] Replacing existing TH1: h5_UNPOL_proj_1 (Potential memory leak).\n"
       ]
      },
      {
       "output_type": "stream",
       "stream": "stderr",
       "text": [
        "WARNING:ROOT.TFile.Append] Replacing existing TH1: h5_UNPOL_proj_1 (Potential memory leak).\n"
       ]
      },
      {
       "output_type": "stream",
       "stream": "stderr",
       "text": [
        "INFO:ROOT.TCanvas.Print] png file /data/trivedia/e16/2pi/d2pi/obs_052115_no_pfid/sim1.1/intg-eff_top12/ceff_top12_1.675-1.700_VST1.png has been created\n"
       ]
      },
      {
       "output_type": "stream",
       "stream": "stderr",
       "text": [
        "WARNING:ROOT.TCanvas.Constructor] Deleting canvas with same name: c\n"
       ]
      },
      {
       "output_type": "stream",
       "stream": "stdout",
       "text": [
        " 0\n",
        "iq2wbin="
       ]
      },
      {
       "output_type": "stream",
       "stream": "stderr",
       "text": [
        "WARNING:ROOT.TFile.Append] Replacing existing TH1: h5_UNPOL_proj_1 (Potential memory leak).\n"
       ]
      },
      {
       "output_type": "stream",
       "stream": "stderr",
       "text": [
        "WARNING:ROOT.TFile.Append] Replacing existing TH1: h5_UNPOL_proj_1 (Potential memory leak).\n"
       ]
      },
      {
       "output_type": "stream",
       "stream": "stderr",
       "text": [
        "INFO:ROOT.TCanvas.Print] png file /data/trivedia/e16/2pi/d2pi/obs_052115_no_pfid/sim1.1/intg-eff_top12/ceff_top12_1.775-1.800_VST1.png has been created\n"
       ]
      },
      {
       "output_type": "stream",
       "stream": "stderr",
       "text": [
        "WARNING:ROOT.TCanvas.Constructor] Deleting canvas with same name: c\n"
       ]
      },
      {
       "output_type": "stream",
       "stream": "stdout",
       "text": [
        " 0\n",
        "iq2wbin="
       ]
      },
      {
       "output_type": "stream",
       "stream": "stderr",
       "text": [
        "WARNING:ROOT.TFile.Append] Replacing existing TH1: h5_UNPOL_proj_1 (Potential memory leak).\n"
       ]
      },
      {
       "output_type": "stream",
       "stream": "stderr",
       "text": [
        "WARNING:ROOT.TFile.Append] Replacing existing TH1: h5_UNPOL_proj_1 (Potential memory leak).\n"
       ]
      },
      {
       "output_type": "stream",
       "stream": "stderr",
       "text": [
        "INFO:ROOT.TCanvas.Print] png file /data/trivedia/e16/2pi/d2pi/obs_052115_no_pfid/sim1.1/intg-eff_top12/ceff_top12_1.875-1.900_VST1.png has been created\n"
       ]
      },
      {
       "output_type": "stream",
       "stream": "stderr",
       "text": [
        "WARNING:ROOT.TCanvas.Constructor] Deleting canvas with same name: c\n"
       ]
      },
      {
       "output_type": "stream",
       "stream": "stdout",
       "text": [
        " 0\n",
        "iq2wbin="
       ]
      },
      {
       "output_type": "stream",
       "stream": "stderr",
       "text": [
        "WARNING:ROOT.TFile.Append] Replacing existing TH1: h5_UNPOL_proj_1 (Potential memory leak).\n"
       ]
      },
      {
       "output_type": "stream",
       "stream": "stderr",
       "text": [
        "WARNING:ROOT.TFile.Append] Replacing existing TH1: h5_UNPOL_proj_1 (Potential memory leak).\n"
       ]
      },
      {
       "output_type": "stream",
       "stream": "stderr",
       "text": [
        "INFO:ROOT.TCanvas.Print] png file /data/trivedia/e16/2pi/d2pi/obs_052115_no_pfid/sim1.1/intg-eff_top12/ceff_top12_1.975-2.000_VST1.png has been created\n"
       ]
      },
      {
       "output_type": "stream",
       "stream": "stdout",
       "text": [
        " 0\n",
        "iq2wbin="
       ]
      },
      {
       "output_type": "stream",
       "stream": "stderr",
       "text": [
        "WARNING:ROOT.TFile.Append] Replacing existing TH1: h5_UNPOL_proj_1 (Potential memory leak).\n"
       ]
      },
      {
       "output_type": "stream",
       "stream": "stderr",
       "text": [
        "INFO:ROOT.TCanvas.Print] png file /data/trivedia/e16/2pi/d2pi/obs_052115_no_pfid/sim1.1/intg-eff_top1234/ceff_top1234_1.575-1.600_VST1.png has been created\n"
       ]
      },
      {
       "output_type": "stream",
       "stream": "stderr",
       "text": [
        "WARNING:ROOT.TCanvas.Constructor] Deleting canvas with same name: c\n"
       ]
      },
      {
       "output_type": "stream",
       "stream": "stdout",
       "text": [
        " 0\n",
        "iq2wbin="
       ]
      },
      {
       "output_type": "stream",
       "stream": "stderr",
       "text": [
        "WARNING:ROOT.TFile.Append] Replacing existing TH1: h5_UNPOL_proj_1 (Potential memory leak).\n"
       ]
      },
      {
       "output_type": "stream",
       "stream": "stderr",
       "text": [
        "WARNING:ROOT.TFile.Append] Replacing existing TH1: h5_UNPOL_proj_1 (Potential memory leak).\n"
       ]
      },
      {
       "output_type": "stream",
       "stream": "stderr",
       "text": [
        "INFO:ROOT.TCanvas.Print] png file /data/trivedia/e16/2pi/d2pi/obs_052115_no_pfid/sim1.1/intg-eff_top1234/ceff_top1234_1.675-1.700_VST1.png has been created\n"
       ]
      },
      {
       "output_type": "stream",
       "stream": "stderr",
       "text": [
        "WARNING:ROOT.TCanvas.Constructor] Deleting canvas with same name: c\n"
       ]
      },
      {
       "output_type": "stream",
       "stream": "stdout",
       "text": [
        " 0\n",
        "iq2wbin="
       ]
      },
      {
       "output_type": "stream",
       "stream": "stderr",
       "text": [
        "WARNING:ROOT.TFile.Append] Replacing existing TH1: h5_UNPOL_proj_1 (Potential memory leak).\n"
       ]
      },
      {
       "output_type": "stream",
       "stream": "stderr",
       "text": [
        "WARNING:ROOT.TFile.Append] Replacing existing TH1: h5_UNPOL_proj_1 (Potential memory leak).\n"
       ]
      },
      {
       "output_type": "stream",
       "stream": "stderr",
       "text": [
        "INFO:ROOT.TCanvas.Print] png file /data/trivedia/e16/2pi/d2pi/obs_052115_no_pfid/sim1.1/intg-eff_top1234/ceff_top1234_1.775-1.800_VST1.png has been created\n"
       ]
      },
      {
       "output_type": "stream",
       "stream": "stderr",
       "text": [
        "WARNING:ROOT.TCanvas.Constructor] Deleting canvas with same name: c\n"
       ]
      },
      {
       "output_type": "stream",
       "stream": "stdout",
       "text": [
        " 0\n",
        "iq2wbin="
       ]
      },
      {
       "output_type": "stream",
       "stream": "stderr",
       "text": [
        "WARNING:ROOT.TFile.Append] Replacing existing TH1: h5_UNPOL_proj_1 (Potential memory leak).\n"
       ]
      },
      {
       "output_type": "stream",
       "stream": "stderr",
       "text": [
        "WARNING:ROOT.TFile.Append] Replacing existing TH1: h5_UNPOL_proj_1 (Potential memory leak).\n"
       ]
      },
      {
       "output_type": "stream",
       "stream": "stderr",
       "text": [
        "INFO:ROOT.TCanvas.Print] png file /data/trivedia/e16/2pi/d2pi/obs_052115_no_pfid/sim1.1/intg-eff_top1234/ceff_top1234_1.875-1.900_VST1.png has been created\n"
       ]
      },
      {
       "output_type": "stream",
       "stream": "stderr",
       "text": [
        "WARNING:ROOT.TCanvas.Constructor] Deleting canvas with same name: c\n"
       ]
      },
      {
       "output_type": "stream",
       "stream": "stdout",
       "text": [
        " 0\n",
        "iq2wbin="
       ]
      },
      {
       "output_type": "stream",
       "stream": "stderr",
       "text": [
        "WARNING:ROOT.TFile.Append] Replacing existing TH1: h5_UNPOL_proj_1 (Potential memory leak).\n"
       ]
      },
      {
       "output_type": "stream",
       "stream": "stderr",
       "text": [
        "WARNING:ROOT.TFile.Append] Replacing existing TH1: h5_UNPOL_proj_1 (Potential memory leak).\n"
       ]
      },
      {
       "output_type": "stream",
       "stream": "stderr",
       "text": [
        "INFO:ROOT.TCanvas.Print] png file /data/trivedia/e16/2pi/d2pi/obs_052115_no_pfid/sim1.1/intg-eff_top1234/ceff_top1234_1.975-2.000_VST1.png has been created\n"
       ]
      },
      {
       "output_type": "stream",
       "stream": "stdout",
       "text": [
        " 0\n"
       ]
      }
     ],
     "prompt_number": 3
    },
    {
     "cell_type": "code",
     "collapsed": false,
     "input": [
      "t.plot_intg_acc(\"obs_052115_no_efid\",\"e16\",\"sim1.1\",[2],[\"2.25-2.75\"])\n",
      "t.plot_intg_acc(\"obs_052115_no_efid\",\"e16\",\"sim1.1\",[1,2],[\"2.25-2.75\"])\n",
      "t.plot_intg_acc(\"obs_052115_no_efid\",\"e16\",\"sim1.1\",[1,2,3,4],[\"2.25-2.75\"])"
     ],
     "language": "python",
     "metadata": {},
     "outputs": [
      {
       "output_type": "stream",
       "stream": "stderr",
       "text": [
        "ERROR:ROOT.TFile.TFile] file /data/trivedia/e16/2pi/d2pi/obs_052115_no_efid/sim1.1/yield_sim_top2.root does not exist\n"
       ]
      },
      {
       "ename": "ROOTError",
       "evalue": "level=3000, loc='TFile::TFile', msg='file /data/trivedia/e16/2pi/d2pi/obs_052115_no_efid/sim1.1/yield_sim_top2.root does not exist'",
       "output_type": "pyerr",
       "traceback": [
        "\u001b[1;31m---------------------------------------------------------------------------\u001b[0m\n\u001b[1;31mROOTError\u001b[0m                                 Traceback (most recent call last)",
        "\u001b[1;32m<ipython-input-4-9b7637037068>\u001b[0m in \u001b[0;36m<module>\u001b[1;34m()\u001b[0m\n\u001b[1;32m----> 1\u001b[1;33m \u001b[0mt\u001b[0m\u001b[1;33m.\u001b[0m\u001b[0mplot_intg_acc\u001b[0m\u001b[1;33m(\u001b[0m\u001b[1;34m\"obs_052115_no_efid\"\u001b[0m\u001b[1;33m,\u001b[0m\u001b[1;34m\"e16\"\u001b[0m\u001b[1;33m,\u001b[0m\u001b[1;34m\"sim1.1\"\u001b[0m\u001b[1;33m,\u001b[0m\u001b[1;33m[\u001b[0m\u001b[1;36m2\u001b[0m\u001b[1;33m]\u001b[0m\u001b[1;33m,\u001b[0m\u001b[1;33m[\u001b[0m\u001b[1;34m\"2.25-2.75\"\u001b[0m\u001b[1;33m]\u001b[0m\u001b[1;33m)\u001b[0m\u001b[1;33m\u001b[0m\u001b[0m\n\u001b[0m\u001b[0;32m      2\u001b[0m \u001b[0mt\u001b[0m\u001b[1;33m.\u001b[0m\u001b[0mplot_intg_acc\u001b[0m\u001b[1;33m(\u001b[0m\u001b[1;34m\"obs_052115_no_efid\"\u001b[0m\u001b[1;33m,\u001b[0m\u001b[1;34m\"e16\"\u001b[0m\u001b[1;33m,\u001b[0m\u001b[1;34m\"sim1.1\"\u001b[0m\u001b[1;33m,\u001b[0m\u001b[1;33m[\u001b[0m\u001b[1;36m1\u001b[0m\u001b[1;33m,\u001b[0m\u001b[1;36m2\u001b[0m\u001b[1;33m]\u001b[0m\u001b[1;33m,\u001b[0m\u001b[1;33m[\u001b[0m\u001b[1;34m\"2.25-2.75\"\u001b[0m\u001b[1;33m]\u001b[0m\u001b[1;33m)\u001b[0m\u001b[1;33m\u001b[0m\u001b[0m\n\u001b[0;32m      3\u001b[0m \u001b[0mt\u001b[0m\u001b[1;33m.\u001b[0m\u001b[0mplot_intg_acc\u001b[0m\u001b[1;33m(\u001b[0m\u001b[1;34m\"obs_052115_no_efid\"\u001b[0m\u001b[1;33m,\u001b[0m\u001b[1;34m\"e16\"\u001b[0m\u001b[1;33m,\u001b[0m\u001b[1;34m\"sim1.1\"\u001b[0m\u001b[1;33m,\u001b[0m\u001b[1;33m[\u001b[0m\u001b[1;36m1\u001b[0m\u001b[1;33m,\u001b[0m\u001b[1;36m2\u001b[0m\u001b[1;33m,\u001b[0m\u001b[1;36m3\u001b[0m\u001b[1;33m,\u001b[0m\u001b[1;36m4\u001b[0m\u001b[1;33m]\u001b[0m\u001b[1;33m,\u001b[0m\u001b[1;33m[\u001b[0m\u001b[1;34m\"2.25-2.75\"\u001b[0m\u001b[1;33m]\u001b[0m\u001b[1;33m)\u001b[0m\u001b[1;33m\u001b[0m\u001b[0m\n",
        "\u001b[1;32m/home/trivedia/CLAS/workspace/ana2pi/obs/study_acc_tools.py\u001b[0m in \u001b[0;36mplot_intg_acc\u001b[1;34m(obsdate, expt, sim, tops, q2binl, vst)\u001b[0m\n\u001b[0;32m     29\u001b[0m                 \u001b[0msys\u001b[0m\u001b[1;33m.\u001b[0m\u001b[0mexit\u001b[0m\u001b[1;33m(\u001b[0m\u001b[1;34m\"expt is neither E1F or E16! Exiting\"\u001b[0m\u001b[1;33m)\u001b[0m\u001b[1;33m\u001b[0m\u001b[0m\n\u001b[0;32m     30\u001b[0m \u001b[1;33m\u001b[0m\u001b[0m\n\u001b[1;32m---> 31\u001b[1;33m         \u001b[0mFIN\u001b[0m\u001b[1;33m=\u001b[0m\u001b[0mROOT\u001b[0m\u001b[1;33m.\u001b[0m\u001b[0mTFile\u001b[0m\u001b[1;33m(\u001b[0m\u001b[0mos\u001b[0m\u001b[1;33m.\u001b[0m\u001b[0mpath\u001b[0m\u001b[1;33m.\u001b[0m\u001b[0mjoin\u001b[0m\u001b[1;33m(\u001b[0m\u001b[0mDATADIR\u001b[0m\u001b[1;33m,\u001b[0m\u001b[0msim\u001b[0m\u001b[1;33m,\u001b[0m\u001b[1;34m'yield_sim_top%s.root'\u001b[0m\u001b[1;33m%\u001b[0m\u001b[1;34m''\u001b[0m\u001b[1;33m.\u001b[0m\u001b[0mjoin\u001b[0m\u001b[1;33m(\u001b[0m\u001b[0mstr\u001b[0m\u001b[1;33m(\u001b[0m\u001b[0mt\u001b[0m\u001b[1;33m)\u001b[0m \u001b[1;32mfor\u001b[0m \u001b[0mt\u001b[0m \u001b[1;32min\u001b[0m \u001b[0mtops\u001b[0m\u001b[1;33m)\u001b[0m\u001b[1;33m)\u001b[0m\u001b[1;33m)\u001b[0m\u001b[1;33m\u001b[0m\u001b[0m\n\u001b[0m\u001b[0;32m     32\u001b[0m         \u001b[0mOUTDIR\u001b[0m\u001b[1;33m=\u001b[0m\u001b[0mos\u001b[0m\u001b[1;33m.\u001b[0m\u001b[0mpath\u001b[0m\u001b[1;33m.\u001b[0m\u001b[0mjoin\u001b[0m\u001b[1;33m(\u001b[0m\u001b[0mDATADIR\u001b[0m\u001b[1;33m,\u001b[0m\u001b[0msim\u001b[0m\u001b[1;33m,\u001b[0m\u001b[1;34m'intg-eff_top%s'\u001b[0m\u001b[1;33m%\u001b[0m\u001b[1;34m''\u001b[0m\u001b[1;33m.\u001b[0m\u001b[0mjoin\u001b[0m\u001b[1;33m(\u001b[0m\u001b[0mstr\u001b[0m\u001b[1;33m(\u001b[0m\u001b[0mt\u001b[0m\u001b[1;33m)\u001b[0m \u001b[1;32mfor\u001b[0m \u001b[0mt\u001b[0m \u001b[1;32min\u001b[0m \u001b[0mtops\u001b[0m\u001b[1;33m)\u001b[0m\u001b[1;33m)\u001b[0m\u001b[1;33m\u001b[0m\u001b[0m\n\u001b[0;32m     33\u001b[0m         \u001b[1;32mif\u001b[0m \u001b[1;32mnot\u001b[0m \u001b[0mos\u001b[0m\u001b[1;33m.\u001b[0m\u001b[0mpath\u001b[0m\u001b[1;33m.\u001b[0m\u001b[0mexists\u001b[0m\u001b[1;33m(\u001b[0m\u001b[0mOUTDIR\u001b[0m\u001b[1;33m)\u001b[0m\u001b[1;33m:\u001b[0m\u001b[1;33m\u001b[0m\u001b[0m\n",
        "\u001b[1;32m/home/trivedia/CLAS/workspace/ana2pi/obs/study_acc_tools.py\u001b[0m in \u001b[0;36mplot_intg_acc\u001b[1;34m(obsdate, expt, sim, tops, q2binl, vst)\u001b[0m\n\u001b[0;32m     29\u001b[0m                 \u001b[0msys\u001b[0m\u001b[1;33m.\u001b[0m\u001b[0mexit\u001b[0m\u001b[1;33m(\u001b[0m\u001b[1;34m\"expt is neither E1F or E16! Exiting\"\u001b[0m\u001b[1;33m)\u001b[0m\u001b[1;33m\u001b[0m\u001b[0m\n\u001b[0;32m     30\u001b[0m \u001b[1;33m\u001b[0m\u001b[0m\n\u001b[1;32m---> 31\u001b[1;33m         \u001b[0mFIN\u001b[0m\u001b[1;33m=\u001b[0m\u001b[0mROOT\u001b[0m\u001b[1;33m.\u001b[0m\u001b[0mTFile\u001b[0m\u001b[1;33m(\u001b[0m\u001b[0mos\u001b[0m\u001b[1;33m.\u001b[0m\u001b[0mpath\u001b[0m\u001b[1;33m.\u001b[0m\u001b[0mjoin\u001b[0m\u001b[1;33m(\u001b[0m\u001b[0mDATADIR\u001b[0m\u001b[1;33m,\u001b[0m\u001b[0msim\u001b[0m\u001b[1;33m,\u001b[0m\u001b[1;34m'yield_sim_top%s.root'\u001b[0m\u001b[1;33m%\u001b[0m\u001b[1;34m''\u001b[0m\u001b[1;33m.\u001b[0m\u001b[0mjoin\u001b[0m\u001b[1;33m(\u001b[0m\u001b[0mstr\u001b[0m\u001b[1;33m(\u001b[0m\u001b[0mt\u001b[0m\u001b[1;33m)\u001b[0m \u001b[1;32mfor\u001b[0m \u001b[0mt\u001b[0m \u001b[1;32min\u001b[0m \u001b[0mtops\u001b[0m\u001b[1;33m)\u001b[0m\u001b[1;33m)\u001b[0m\u001b[1;33m)\u001b[0m\u001b[1;33m\u001b[0m\u001b[0m\n\u001b[0m\u001b[0;32m     32\u001b[0m         \u001b[0mOUTDIR\u001b[0m\u001b[1;33m=\u001b[0m\u001b[0mos\u001b[0m\u001b[1;33m.\u001b[0m\u001b[0mpath\u001b[0m\u001b[1;33m.\u001b[0m\u001b[0mjoin\u001b[0m\u001b[1;33m(\u001b[0m\u001b[0mDATADIR\u001b[0m\u001b[1;33m,\u001b[0m\u001b[0msim\u001b[0m\u001b[1;33m,\u001b[0m\u001b[1;34m'intg-eff_top%s'\u001b[0m\u001b[1;33m%\u001b[0m\u001b[1;34m''\u001b[0m\u001b[1;33m.\u001b[0m\u001b[0mjoin\u001b[0m\u001b[1;33m(\u001b[0m\u001b[0mstr\u001b[0m\u001b[1;33m(\u001b[0m\u001b[0mt\u001b[0m\u001b[1;33m)\u001b[0m \u001b[1;32mfor\u001b[0m \u001b[0mt\u001b[0m \u001b[1;32min\u001b[0m \u001b[0mtops\u001b[0m\u001b[1;33m)\u001b[0m\u001b[1;33m)\u001b[0m\u001b[1;33m\u001b[0m\u001b[0m\n\u001b[0;32m     33\u001b[0m         \u001b[1;32mif\u001b[0m \u001b[1;32mnot\u001b[0m \u001b[0mos\u001b[0m\u001b[1;33m.\u001b[0m\u001b[0mpath\u001b[0m\u001b[1;33m.\u001b[0m\u001b[0mexists\u001b[0m\u001b[1;33m(\u001b[0m\u001b[0mOUTDIR\u001b[0m\u001b[1;33m)\u001b[0m\u001b[1;33m:\u001b[0m\u001b[1;33m\u001b[0m\u001b[0m\n",
        "\u001b[1;32m/usr/local/lib/python2.7/dist-packages/rootpy/logger/roothandler.pyc\u001b[0m in \u001b[0;36mpython_logging_error_handler\u001b[1;34m(level, root_says_abort, location, msg)\u001b[0m\n\u001b[0;32m     89\u001b[0m             \u001b[1;31m# Hence the need for dark magic, we re-raise it within a trace.\u001b[0m\u001b[1;33m\u001b[0m\u001b[1;33m\u001b[0m\u001b[0m\n\u001b[0;32m     90\u001b[0m             \u001b[1;32mfrom\u001b[0m \u001b[0mrootpy\u001b[0m \u001b[1;32mimport\u001b[0m \u001b[0mROOTError\u001b[0m\u001b[1;33m\u001b[0m\u001b[0m\n\u001b[1;32m---> 91\u001b[1;33m             \u001b[1;32mraise\u001b[0m \u001b[0mROOTError\u001b[0m\u001b[1;33m(\u001b[0m\u001b[0mlevel\u001b[0m\u001b[1;33m,\u001b[0m \u001b[0mlocation\u001b[0m\u001b[1;33m,\u001b[0m \u001b[0mmsg\u001b[0m\u001b[1;33m)\u001b[0m\u001b[1;33m\u001b[0m\u001b[0m\n\u001b[0m\u001b[0;32m     92\u001b[0m         \u001b[1;32mexcept\u001b[0m \u001b[0mRuntimeError\u001b[0m\u001b[1;33m:\u001b[0m\u001b[1;33m\u001b[0m\u001b[0m\n\u001b[0;32m     93\u001b[0m             \u001b[0m_\u001b[0m\u001b[1;33m,\u001b[0m \u001b[0mexc\u001b[0m\u001b[1;33m,\u001b[0m \u001b[0mtraceback\u001b[0m \u001b[1;33m=\u001b[0m \u001b[0msys\u001b[0m\u001b[1;33m.\u001b[0m\u001b[0mexc_info\u001b[0m\u001b[1;33m(\u001b[0m\u001b[1;33m)\u001b[0m\u001b[1;33m\u001b[0m\u001b[0m\n",
        "\u001b[1;31mROOTError\u001b[0m: level=3000, loc='TFile::TFile', msg='file /data/trivedia/e16/2pi/d2pi/obs_052115_no_efid/sim1.1/yield_sim_top2.root does not exist'"
       ]
      }
     ],
     "prompt_number": 4
    },
    {
     "cell_type": "code",
     "collapsed": false,
     "input": [
      "t.plot_intg_acc(\"obs_052115_no_efid_pfid\",\"e16\",\"sim1.1\",[2],[\"2.25-2.75\"])\n",
      "t.plot_intg_acc(\"obs_052115_no_efid_pfid\",\"e16\",\"sim1.1\",[1,2],[\"2.25-2.75\"])\n",
      "t.plot_intg_acc(\"obs_052115_no_efid_pfid\",\"e16\",\"sim1.1\",[1,2,3,4],[\"2.25-2.75\"])"
     ],
     "language": "python",
     "metadata": {},
     "outputs": [
      {
       "output_type": "stream",
       "stream": "stderr",
       "text": [
        "ERROR:ROOT.TFile.TFile] file /data/trivedia/e16/2pi/d2pi/obs_052115_no_efid_pfid/sim1.1/yield_sim_top2.root does not exist\n"
       ]
      },
      {
       "ename": "ROOTError",
       "evalue": "level=3000, loc='TFile::TFile', msg='file /data/trivedia/e16/2pi/d2pi/obs_052115_no_efid_pfid/sim1.1/yield_sim_top2.root does not exist'",
       "output_type": "pyerr",
       "traceback": [
        "\u001b[1;31m---------------------------------------------------------------------------\u001b[0m\n\u001b[1;31mROOTError\u001b[0m                                 Traceback (most recent call last)",
        "\u001b[1;32m<ipython-input-5-f3f54ed6b519>\u001b[0m in \u001b[0;36m<module>\u001b[1;34m()\u001b[0m\n\u001b[1;32m----> 1\u001b[1;33m \u001b[0mt\u001b[0m\u001b[1;33m.\u001b[0m\u001b[0mplot_intg_acc\u001b[0m\u001b[1;33m(\u001b[0m\u001b[1;34m\"obs_052115_no_efid_pfid\"\u001b[0m\u001b[1;33m,\u001b[0m\u001b[1;34m\"e16\"\u001b[0m\u001b[1;33m,\u001b[0m\u001b[1;34m\"sim1.1\"\u001b[0m\u001b[1;33m,\u001b[0m\u001b[1;33m[\u001b[0m\u001b[1;36m2\u001b[0m\u001b[1;33m]\u001b[0m\u001b[1;33m,\u001b[0m\u001b[1;33m[\u001b[0m\u001b[1;34m\"2.25-2.75\"\u001b[0m\u001b[1;33m]\u001b[0m\u001b[1;33m)\u001b[0m\u001b[1;33m\u001b[0m\u001b[0m\n\u001b[0m\u001b[0;32m      2\u001b[0m \u001b[0mt\u001b[0m\u001b[1;33m.\u001b[0m\u001b[0mplot_intg_acc\u001b[0m\u001b[1;33m(\u001b[0m\u001b[1;34m\"obs_052115_no_efid_pfid\"\u001b[0m\u001b[1;33m,\u001b[0m\u001b[1;34m\"e16\"\u001b[0m\u001b[1;33m,\u001b[0m\u001b[1;34m\"sim1.1\"\u001b[0m\u001b[1;33m,\u001b[0m\u001b[1;33m[\u001b[0m\u001b[1;36m1\u001b[0m\u001b[1;33m,\u001b[0m\u001b[1;36m2\u001b[0m\u001b[1;33m]\u001b[0m\u001b[1;33m,\u001b[0m\u001b[1;33m[\u001b[0m\u001b[1;34m\"2.25-2.75\"\u001b[0m\u001b[1;33m]\u001b[0m\u001b[1;33m)\u001b[0m\u001b[1;33m\u001b[0m\u001b[0m\n\u001b[0;32m      3\u001b[0m \u001b[0mt\u001b[0m\u001b[1;33m.\u001b[0m\u001b[0mplot_intg_acc\u001b[0m\u001b[1;33m(\u001b[0m\u001b[1;34m\"obs_052115_no_efid_pfid\"\u001b[0m\u001b[1;33m,\u001b[0m\u001b[1;34m\"e16\"\u001b[0m\u001b[1;33m,\u001b[0m\u001b[1;34m\"sim1.1\"\u001b[0m\u001b[1;33m,\u001b[0m\u001b[1;33m[\u001b[0m\u001b[1;36m1\u001b[0m\u001b[1;33m,\u001b[0m\u001b[1;36m2\u001b[0m\u001b[1;33m,\u001b[0m\u001b[1;36m3\u001b[0m\u001b[1;33m,\u001b[0m\u001b[1;36m4\u001b[0m\u001b[1;33m]\u001b[0m\u001b[1;33m,\u001b[0m\u001b[1;33m[\u001b[0m\u001b[1;34m\"2.25-2.75\"\u001b[0m\u001b[1;33m]\u001b[0m\u001b[1;33m)\u001b[0m\u001b[1;33m\u001b[0m\u001b[0m\n",
        "\u001b[1;32m/home/trivedia/CLAS/workspace/ana2pi/obs/study_acc_tools.py\u001b[0m in \u001b[0;36mplot_intg_acc\u001b[1;34m(obsdate, expt, sim, tops, q2binl, vst)\u001b[0m\n\u001b[0;32m     29\u001b[0m                 \u001b[0msys\u001b[0m\u001b[1;33m.\u001b[0m\u001b[0mexit\u001b[0m\u001b[1;33m(\u001b[0m\u001b[1;34m\"expt is neither E1F or E16! Exiting\"\u001b[0m\u001b[1;33m)\u001b[0m\u001b[1;33m\u001b[0m\u001b[0m\n\u001b[0;32m     30\u001b[0m \u001b[1;33m\u001b[0m\u001b[0m\n\u001b[1;32m---> 31\u001b[1;33m         \u001b[0mFIN\u001b[0m\u001b[1;33m=\u001b[0m\u001b[0mROOT\u001b[0m\u001b[1;33m.\u001b[0m\u001b[0mTFile\u001b[0m\u001b[1;33m(\u001b[0m\u001b[0mos\u001b[0m\u001b[1;33m.\u001b[0m\u001b[0mpath\u001b[0m\u001b[1;33m.\u001b[0m\u001b[0mjoin\u001b[0m\u001b[1;33m(\u001b[0m\u001b[0mDATADIR\u001b[0m\u001b[1;33m,\u001b[0m\u001b[0msim\u001b[0m\u001b[1;33m,\u001b[0m\u001b[1;34m'yield_sim_top%s.root'\u001b[0m\u001b[1;33m%\u001b[0m\u001b[1;34m''\u001b[0m\u001b[1;33m.\u001b[0m\u001b[0mjoin\u001b[0m\u001b[1;33m(\u001b[0m\u001b[0mstr\u001b[0m\u001b[1;33m(\u001b[0m\u001b[0mt\u001b[0m\u001b[1;33m)\u001b[0m \u001b[1;32mfor\u001b[0m \u001b[0mt\u001b[0m \u001b[1;32min\u001b[0m \u001b[0mtops\u001b[0m\u001b[1;33m)\u001b[0m\u001b[1;33m)\u001b[0m\u001b[1;33m)\u001b[0m\u001b[1;33m\u001b[0m\u001b[0m\n\u001b[0m\u001b[0;32m     32\u001b[0m         \u001b[0mOUTDIR\u001b[0m\u001b[1;33m=\u001b[0m\u001b[0mos\u001b[0m\u001b[1;33m.\u001b[0m\u001b[0mpath\u001b[0m\u001b[1;33m.\u001b[0m\u001b[0mjoin\u001b[0m\u001b[1;33m(\u001b[0m\u001b[0mDATADIR\u001b[0m\u001b[1;33m,\u001b[0m\u001b[0msim\u001b[0m\u001b[1;33m,\u001b[0m\u001b[1;34m'intg-eff_top%s'\u001b[0m\u001b[1;33m%\u001b[0m\u001b[1;34m''\u001b[0m\u001b[1;33m.\u001b[0m\u001b[0mjoin\u001b[0m\u001b[1;33m(\u001b[0m\u001b[0mstr\u001b[0m\u001b[1;33m(\u001b[0m\u001b[0mt\u001b[0m\u001b[1;33m)\u001b[0m \u001b[1;32mfor\u001b[0m \u001b[0mt\u001b[0m \u001b[1;32min\u001b[0m \u001b[0mtops\u001b[0m\u001b[1;33m)\u001b[0m\u001b[1;33m)\u001b[0m\u001b[1;33m\u001b[0m\u001b[0m\n\u001b[0;32m     33\u001b[0m         \u001b[1;32mif\u001b[0m \u001b[1;32mnot\u001b[0m \u001b[0mos\u001b[0m\u001b[1;33m.\u001b[0m\u001b[0mpath\u001b[0m\u001b[1;33m.\u001b[0m\u001b[0mexists\u001b[0m\u001b[1;33m(\u001b[0m\u001b[0mOUTDIR\u001b[0m\u001b[1;33m)\u001b[0m\u001b[1;33m:\u001b[0m\u001b[1;33m\u001b[0m\u001b[0m\n",
        "\u001b[1;32m/home/trivedia/CLAS/workspace/ana2pi/obs/study_acc_tools.py\u001b[0m in \u001b[0;36mplot_intg_acc\u001b[1;34m(obsdate, expt, sim, tops, q2binl, vst)\u001b[0m\n\u001b[0;32m     29\u001b[0m                 \u001b[0msys\u001b[0m\u001b[1;33m.\u001b[0m\u001b[0mexit\u001b[0m\u001b[1;33m(\u001b[0m\u001b[1;34m\"expt is neither E1F or E16! Exiting\"\u001b[0m\u001b[1;33m)\u001b[0m\u001b[1;33m\u001b[0m\u001b[0m\n\u001b[0;32m     30\u001b[0m \u001b[1;33m\u001b[0m\u001b[0m\n\u001b[1;32m---> 31\u001b[1;33m         \u001b[0mFIN\u001b[0m\u001b[1;33m=\u001b[0m\u001b[0mROOT\u001b[0m\u001b[1;33m.\u001b[0m\u001b[0mTFile\u001b[0m\u001b[1;33m(\u001b[0m\u001b[0mos\u001b[0m\u001b[1;33m.\u001b[0m\u001b[0mpath\u001b[0m\u001b[1;33m.\u001b[0m\u001b[0mjoin\u001b[0m\u001b[1;33m(\u001b[0m\u001b[0mDATADIR\u001b[0m\u001b[1;33m,\u001b[0m\u001b[0msim\u001b[0m\u001b[1;33m,\u001b[0m\u001b[1;34m'yield_sim_top%s.root'\u001b[0m\u001b[1;33m%\u001b[0m\u001b[1;34m''\u001b[0m\u001b[1;33m.\u001b[0m\u001b[0mjoin\u001b[0m\u001b[1;33m(\u001b[0m\u001b[0mstr\u001b[0m\u001b[1;33m(\u001b[0m\u001b[0mt\u001b[0m\u001b[1;33m)\u001b[0m \u001b[1;32mfor\u001b[0m \u001b[0mt\u001b[0m \u001b[1;32min\u001b[0m \u001b[0mtops\u001b[0m\u001b[1;33m)\u001b[0m\u001b[1;33m)\u001b[0m\u001b[1;33m)\u001b[0m\u001b[1;33m\u001b[0m\u001b[0m\n\u001b[0m\u001b[0;32m     32\u001b[0m         \u001b[0mOUTDIR\u001b[0m\u001b[1;33m=\u001b[0m\u001b[0mos\u001b[0m\u001b[1;33m.\u001b[0m\u001b[0mpath\u001b[0m\u001b[1;33m.\u001b[0m\u001b[0mjoin\u001b[0m\u001b[1;33m(\u001b[0m\u001b[0mDATADIR\u001b[0m\u001b[1;33m,\u001b[0m\u001b[0msim\u001b[0m\u001b[1;33m,\u001b[0m\u001b[1;34m'intg-eff_top%s'\u001b[0m\u001b[1;33m%\u001b[0m\u001b[1;34m''\u001b[0m\u001b[1;33m.\u001b[0m\u001b[0mjoin\u001b[0m\u001b[1;33m(\u001b[0m\u001b[0mstr\u001b[0m\u001b[1;33m(\u001b[0m\u001b[0mt\u001b[0m\u001b[1;33m)\u001b[0m \u001b[1;32mfor\u001b[0m \u001b[0mt\u001b[0m \u001b[1;32min\u001b[0m \u001b[0mtops\u001b[0m\u001b[1;33m)\u001b[0m\u001b[1;33m)\u001b[0m\u001b[1;33m\u001b[0m\u001b[0m\n\u001b[0;32m     33\u001b[0m         \u001b[1;32mif\u001b[0m \u001b[1;32mnot\u001b[0m \u001b[0mos\u001b[0m\u001b[1;33m.\u001b[0m\u001b[0mpath\u001b[0m\u001b[1;33m.\u001b[0m\u001b[0mexists\u001b[0m\u001b[1;33m(\u001b[0m\u001b[0mOUTDIR\u001b[0m\u001b[1;33m)\u001b[0m\u001b[1;33m:\u001b[0m\u001b[1;33m\u001b[0m\u001b[0m\n",
        "\u001b[1;32m/usr/local/lib/python2.7/dist-packages/rootpy/logger/roothandler.pyc\u001b[0m in \u001b[0;36mpython_logging_error_handler\u001b[1;34m(level, root_says_abort, location, msg)\u001b[0m\n\u001b[0;32m     89\u001b[0m             \u001b[1;31m# Hence the need for dark magic, we re-raise it within a trace.\u001b[0m\u001b[1;33m\u001b[0m\u001b[1;33m\u001b[0m\u001b[0m\n\u001b[0;32m     90\u001b[0m             \u001b[1;32mfrom\u001b[0m \u001b[0mrootpy\u001b[0m \u001b[1;32mimport\u001b[0m \u001b[0mROOTError\u001b[0m\u001b[1;33m\u001b[0m\u001b[0m\n\u001b[1;32m---> 91\u001b[1;33m             \u001b[1;32mraise\u001b[0m \u001b[0mROOTError\u001b[0m\u001b[1;33m(\u001b[0m\u001b[0mlevel\u001b[0m\u001b[1;33m,\u001b[0m \u001b[0mlocation\u001b[0m\u001b[1;33m,\u001b[0m \u001b[0mmsg\u001b[0m\u001b[1;33m)\u001b[0m\u001b[1;33m\u001b[0m\u001b[0m\n\u001b[0m\u001b[0;32m     92\u001b[0m         \u001b[1;32mexcept\u001b[0m \u001b[0mRuntimeError\u001b[0m\u001b[1;33m:\u001b[0m\u001b[1;33m\u001b[0m\u001b[0m\n\u001b[0;32m     93\u001b[0m             \u001b[0m_\u001b[0m\u001b[1;33m,\u001b[0m \u001b[0mexc\u001b[0m\u001b[1;33m,\u001b[0m \u001b[0mtraceback\u001b[0m \u001b[1;33m=\u001b[0m \u001b[0msys\u001b[0m\u001b[1;33m.\u001b[0m\u001b[0mexc_info\u001b[0m\u001b[1;33m(\u001b[0m\u001b[1;33m)\u001b[0m\u001b[1;33m\u001b[0m\u001b[0m\n",
        "\u001b[1;31mROOTError\u001b[0m: level=3000, loc='TFile::TFile', msg='file /data/trivedia/e16/2pi/d2pi/obs_052115_no_efid_pfid/sim1.1/yield_sim_top2.root does not exist'"
       ]
      }
     ],
     "prompt_number": 5
    },
    {
     "cell_type": "code",
     "collapsed": false,
     "input": [
      "t.plot_intg_acc(\"obs_052015_full_proc_chain\",\"e16\",\"sim1.1_sim2\",[2],[\"2.25-2.75\"])\n",
      "t.plot_intg_acc(\"obs_052015_full_proc_chain\",\"e16\",\"sim1.1_sim2\",[1,2],[\"2.25-2.75\"])\n",
      "t.plot_intg_acc(\"obs_052015_full_proc_chain\",\"e16\",\"sim1.1_sim2\",[1,2,3,4],[\"2.25-2.75\"])"
     ],
     "language": "python",
     "metadata": {},
     "outputs": [
      {
       "output_type": "stream",
       "stream": "stderr",
       "text": [
        "WARNING:ROOT.TFile.Append] Replacing existing TH1: h5_UNPOL_proj_1 (Potential memory leak).\n"
       ]
      },
      {
       "output_type": "stream",
       "stream": "stderr",
       "text": [
        "INFO:ROOT.TCanvas.Print] png file /data/trivedia/e16/2pi/d2pi/obs_052015_full_proc_chain/sim1.1_sim2/intg-eff_top2/ceff_top2_1.575-1.600_VST1.png has been created\n"
       ]
      },
      {
       "output_type": "stream",
       "stream": "stderr",
       "text": [
        "WARNING:ROOT.TCanvas.Constructor] Deleting canvas with same name: c\n"
       ]
      },
      {
       "output_type": "stream",
       "stream": "stdout",
       "text": [
        "iq2wbin= 0\n",
        "iq2wbin="
       ]
      },
      {
       "output_type": "stream",
       "stream": "stderr",
       "text": [
        "WARNING:ROOT.TFile.Append] Replacing existing TH1: h5_UNPOL_proj_1 (Potential memory leak).\n"
       ]
      },
      {
       "output_type": "stream",
       "stream": "stderr",
       "text": [
        "WARNING:ROOT.TFile.Append] Replacing existing TH1: h5_UNPOL_proj_1 (Potential memory leak).\n"
       ]
      },
      {
       "output_type": "stream",
       "stream": "stderr",
       "text": [
        "INFO:ROOT.TCanvas.Print] png file /data/trivedia/e16/2pi/d2pi/obs_052015_full_proc_chain/sim1.1_sim2/intg-eff_top2/ceff_top2_1.675-1.700_VST1.png has been created\n"
       ]
      },
      {
       "output_type": "stream",
       "stream": "stderr",
       "text": [
        "WARNING:ROOT.TCanvas.Constructor] Deleting canvas with same name: c\n"
       ]
      },
      {
       "output_type": "stream",
       "stream": "stdout",
       "text": [
        " 0\n",
        "iq2wbin="
       ]
      },
      {
       "output_type": "stream",
       "stream": "stderr",
       "text": [
        "WARNING:ROOT.TFile.Append] Replacing existing TH1: h5_UNPOL_proj_1 (Potential memory leak).\n"
       ]
      },
      {
       "output_type": "stream",
       "stream": "stderr",
       "text": [
        "WARNING:ROOT.TFile.Append] Replacing existing TH1: h5_UNPOL_proj_1 (Potential memory leak).\n"
       ]
      },
      {
       "output_type": "stream",
       "stream": "stderr",
       "text": [
        "INFO:ROOT.TCanvas.Print] png file /data/trivedia/e16/2pi/d2pi/obs_052015_full_proc_chain/sim1.1_sim2/intg-eff_top2/ceff_top2_1.775-1.800_VST1.png has been created\n"
       ]
      },
      {
       "output_type": "stream",
       "stream": "stderr",
       "text": [
        "WARNING:ROOT.TCanvas.Constructor] Deleting canvas with same name: c\n"
       ]
      },
      {
       "output_type": "stream",
       "stream": "stdout",
       "text": [
        " 0\n",
        "iq2wbin="
       ]
      },
      {
       "output_type": "stream",
       "stream": "stderr",
       "text": [
        "WARNING:ROOT.TFile.Append] Replacing existing TH1: h5_UNPOL_proj_1 (Potential memory leak).\n"
       ]
      },
      {
       "output_type": "stream",
       "stream": "stderr",
       "text": [
        "WARNING:ROOT.TFile.Append] Replacing existing TH1: h5_UNPOL_proj_1 (Potential memory leak).\n"
       ]
      },
      {
       "output_type": "stream",
       "stream": "stderr",
       "text": [
        "INFO:ROOT.TCanvas.Print] png file /data/trivedia/e16/2pi/d2pi/obs_052015_full_proc_chain/sim1.1_sim2/intg-eff_top2/ceff_top2_1.875-1.900_VST1.png has been created\n"
       ]
      },
      {
       "output_type": "stream",
       "stream": "stderr",
       "text": [
        "WARNING:ROOT.TCanvas.Constructor] Deleting canvas with same name: c\n"
       ]
      },
      {
       "output_type": "stream",
       "stream": "stdout",
       "text": [
        " 0\n",
        "iq2wbin="
       ]
      },
      {
       "output_type": "stream",
       "stream": "stderr",
       "text": [
        "WARNING:ROOT.TFile.Append] Replacing existing TH1: h5_UNPOL_proj_1 (Potential memory leak).\n"
       ]
      },
      {
       "output_type": "stream",
       "stream": "stderr",
       "text": [
        "WARNING:ROOT.TFile.Append] Replacing existing TH1: h5_UNPOL_proj_1 (Potential memory leak).\n"
       ]
      },
      {
       "output_type": "stream",
       "stream": "stderr",
       "text": [
        "INFO:ROOT.TCanvas.Print] png file /data/trivedia/e16/2pi/d2pi/obs_052015_full_proc_chain/sim1.1_sim2/intg-eff_top2/ceff_top2_1.975-2.000_VST1.png has been created\n"
       ]
      },
      {
       "output_type": "stream",
       "stream": "stdout",
       "text": [
        " 0\n",
        "iq2wbin="
       ]
      },
      {
       "output_type": "stream",
       "stream": "stderr",
       "text": [
        "WARNING:ROOT.TFile.Append] Replacing existing TH1: h5_UNPOL_proj_1 (Potential memory leak).\n"
       ]
      },
      {
       "output_type": "stream",
       "stream": "stderr",
       "text": [
        "INFO:ROOT.TCanvas.Print] png file /data/trivedia/e16/2pi/d2pi/obs_052015_full_proc_chain/sim1.1_sim2/intg-eff_top12/ceff_top12_1.575-1.600_VST1.png has been created\n"
       ]
      },
      {
       "output_type": "stream",
       "stream": "stderr",
       "text": [
        "WARNING:ROOT.TCanvas.Constructor] Deleting canvas with same name: c\n"
       ]
      },
      {
       "output_type": "stream",
       "stream": "stdout",
       "text": [
        " 0\n",
        "iq2wbin="
       ]
      },
      {
       "output_type": "stream",
       "stream": "stderr",
       "text": [
        "WARNING:ROOT.TFile.Append] Replacing existing TH1: h5_UNPOL_proj_1 (Potential memory leak).\n"
       ]
      },
      {
       "output_type": "stream",
       "stream": "stderr",
       "text": [
        "WARNING:ROOT.TFile.Append] Replacing existing TH1: h5_UNPOL_proj_1 (Potential memory leak).\n"
       ]
      },
      {
       "output_type": "stream",
       "stream": "stderr",
       "text": [
        "INFO:ROOT.TCanvas.Print] png file /data/trivedia/e16/2pi/d2pi/obs_052015_full_proc_chain/sim1.1_sim2/intg-eff_top12/ceff_top12_1.675-1.700_VST1.png has been created\n"
       ]
      },
      {
       "output_type": "stream",
       "stream": "stderr",
       "text": [
        "WARNING:ROOT.TCanvas.Constructor] Deleting canvas with same name: c\n"
       ]
      },
      {
       "output_type": "stream",
       "stream": "stdout",
       "text": [
        " 0\n",
        "iq2wbin="
       ]
      },
      {
       "output_type": "stream",
       "stream": "stderr",
       "text": [
        "WARNING:ROOT.TFile.Append] Replacing existing TH1: h5_UNPOL_proj_1 (Potential memory leak).\n"
       ]
      },
      {
       "output_type": "stream",
       "stream": "stderr",
       "text": [
        "WARNING:ROOT.TFile.Append] Replacing existing TH1: h5_UNPOL_proj_1 (Potential memory leak).\n"
       ]
      },
      {
       "output_type": "stream",
       "stream": "stderr",
       "text": [
        "INFO:ROOT.TCanvas.Print] png file /data/trivedia/e16/2pi/d2pi/obs_052015_full_proc_chain/sim1.1_sim2/intg-eff_top12/ceff_top12_1.775-1.800_VST1.png has been created\n"
       ]
      },
      {
       "output_type": "stream",
       "stream": "stderr",
       "text": [
        "WARNING:ROOT.TCanvas.Constructor] Deleting canvas with same name: c\n"
       ]
      },
      {
       "output_type": "stream",
       "stream": "stdout",
       "text": [
        " 0\n",
        "iq2wbin="
       ]
      },
      {
       "output_type": "stream",
       "stream": "stderr",
       "text": [
        "WARNING:ROOT.TFile.Append] Replacing existing TH1: h5_UNPOL_proj_1 (Potential memory leak).\n"
       ]
      },
      {
       "output_type": "stream",
       "stream": "stderr",
       "text": [
        "WARNING:ROOT.TFile.Append] Replacing existing TH1: h5_UNPOL_proj_1 (Potential memory leak).\n"
       ]
      },
      {
       "output_type": "stream",
       "stream": "stderr",
       "text": [
        "INFO:ROOT.TCanvas.Print] png file /data/trivedia/e16/2pi/d2pi/obs_052015_full_proc_chain/sim1.1_sim2/intg-eff_top12/ceff_top12_1.875-1.900_VST1.png has been created\n"
       ]
      },
      {
       "output_type": "stream",
       "stream": "stderr",
       "text": [
        "WARNING:ROOT.TCanvas.Constructor] Deleting canvas with same name: c\n"
       ]
      },
      {
       "output_type": "stream",
       "stream": "stdout",
       "text": [
        " 0\n",
        "iq2wbin="
       ]
      },
      {
       "output_type": "stream",
       "stream": "stderr",
       "text": [
        "WARNING:ROOT.TFile.Append] Replacing existing TH1: h5_UNPOL_proj_1 (Potential memory leak).\n"
       ]
      },
      {
       "output_type": "stream",
       "stream": "stderr",
       "text": [
        "WARNING:ROOT.TFile.Append] Replacing existing TH1: h5_UNPOL_proj_1 (Potential memory leak).\n"
       ]
      },
      {
       "output_type": "stream",
       "stream": "stderr",
       "text": [
        "INFO:ROOT.TCanvas.Print] png file /data/trivedia/e16/2pi/d2pi/obs_052015_full_proc_chain/sim1.1_sim2/intg-eff_top12/ceff_top12_1.975-2.000_VST1.png has been created\n"
       ]
      },
      {
       "output_type": "stream",
       "stream": "stdout",
       "text": [
        " 0\n",
        "iq2wbin="
       ]
      },
      {
       "output_type": "stream",
       "stream": "stderr",
       "text": [
        "WARNING:ROOT.TFile.Append] Replacing existing TH1: h5_UNPOL_proj_1 (Potential memory leak).\n"
       ]
      },
      {
       "output_type": "stream",
       "stream": "stderr",
       "text": [
        "INFO:ROOT.TCanvas.Print] png file /data/trivedia/e16/2pi/d2pi/obs_052015_full_proc_chain/sim1.1_sim2/intg-eff_top1234/ceff_top1234_1.575-1.600_VST1.png has been created\n"
       ]
      },
      {
       "output_type": "stream",
       "stream": "stderr",
       "text": [
        "WARNING:ROOT.TCanvas.Constructor] Deleting canvas with same name: c\n"
       ]
      },
      {
       "output_type": "stream",
       "stream": "stdout",
       "text": [
        " 0\n",
        "iq2wbin="
       ]
      },
      {
       "output_type": "stream",
       "stream": "stderr",
       "text": [
        "WARNING:ROOT.TFile.Append] Replacing existing TH1: h5_UNPOL_proj_1 (Potential memory leak).\n"
       ]
      },
      {
       "output_type": "stream",
       "stream": "stderr",
       "text": [
        "WARNING:ROOT.TFile.Append] Replacing existing TH1: h5_UNPOL_proj_1 (Potential memory leak).\n"
       ]
      },
      {
       "output_type": "stream",
       "stream": "stderr",
       "text": [
        "INFO:ROOT.TCanvas.Print] png file /data/trivedia/e16/2pi/d2pi/obs_052015_full_proc_chain/sim1.1_sim2/intg-eff_top1234/ceff_top1234_1.675-1.700_VST1.png has been created\n"
       ]
      },
      {
       "output_type": "stream",
       "stream": "stderr",
       "text": [
        "WARNING:ROOT.TCanvas.Constructor] Deleting canvas with same name: c\n"
       ]
      },
      {
       "output_type": "stream",
       "stream": "stdout",
       "text": [
        " 0\n",
        "iq2wbin="
       ]
      },
      {
       "output_type": "stream",
       "stream": "stderr",
       "text": [
        "WARNING:ROOT.TFile.Append] Replacing existing TH1: h5_UNPOL_proj_1 (Potential memory leak).\n"
       ]
      },
      {
       "output_type": "stream",
       "stream": "stderr",
       "text": [
        "WARNING:ROOT.TFile.Append] Replacing existing TH1: h5_UNPOL_proj_1 (Potential memory leak).\n"
       ]
      },
      {
       "output_type": "stream",
       "stream": "stderr",
       "text": [
        "INFO:ROOT.TCanvas.Print] png file /data/trivedia/e16/2pi/d2pi/obs_052015_full_proc_chain/sim1.1_sim2/intg-eff_top1234/ceff_top1234_1.775-1.800_VST1.png has been created\n"
       ]
      },
      {
       "output_type": "stream",
       "stream": "stderr",
       "text": [
        "WARNING:ROOT.TCanvas.Constructor] Deleting canvas with same name: c\n"
       ]
      },
      {
       "output_type": "stream",
       "stream": "stdout",
       "text": [
        " 0\n",
        "iq2wbin="
       ]
      },
      {
       "output_type": "stream",
       "stream": "stderr",
       "text": [
        "WARNING:ROOT.TFile.Append] Replacing existing TH1: h5_UNPOL_proj_1 (Potential memory leak).\n"
       ]
      },
      {
       "output_type": "stream",
       "stream": "stderr",
       "text": [
        "WARNING:ROOT.TFile.Append] Replacing existing TH1: h5_UNPOL_proj_1 (Potential memory leak).\n"
       ]
      },
      {
       "output_type": "stream",
       "stream": "stderr",
       "text": [
        "INFO:ROOT.TCanvas.Print] png file /data/trivedia/e16/2pi/d2pi/obs_052015_full_proc_chain/sim1.1_sim2/intg-eff_top1234/ceff_top1234_1.875-1.900_VST1.png has been created\n"
       ]
      },
      {
       "output_type": "stream",
       "stream": "stderr",
       "text": [
        "WARNING:ROOT.TCanvas.Constructor] Deleting canvas with same name: c\n"
       ]
      },
      {
       "output_type": "stream",
       "stream": "stdout",
       "text": [
        " 0\n",
        "iq2wbin="
       ]
      },
      {
       "output_type": "stream",
       "stream": "stderr",
       "text": [
        "WARNING:ROOT.TFile.Append] Replacing existing TH1: h5_UNPOL_proj_1 (Potential memory leak).\n"
       ]
      },
      {
       "output_type": "stream",
       "stream": "stderr",
       "text": [
        "WARNING:ROOT.TFile.Append] Replacing existing TH1: h5_UNPOL_proj_1 (Potential memory leak).\n"
       ]
      },
      {
       "output_type": "stream",
       "stream": "stderr",
       "text": [
        "INFO:ROOT.TCanvas.Print] png file /data/trivedia/e16/2pi/d2pi/obs_052015_full_proc_chain/sim1.1_sim2/intg-eff_top1234/ceff_top1234_1.975-2.000_VST1.png has been created\n"
       ]
      },
      {
       "output_type": "stream",
       "stream": "stdout",
       "text": [
        " 0\n"
       ]
      }
     ],
     "prompt_number": 6
    },
    {
     "cell_type": "code",
     "collapsed": false,
     "input": [
      "t.plot_intg_acc(\"obs_052115_no_pfid\",\"e16\",\"sim1.1_sim2\",[2],[\"2.25-2.75\"])\n",
      "t.plot_intg_acc(\"obs_052115_no_pfid\",\"e16\",\"sim1.1_sim2\",[1,2],[\"2.25-2.75\"])\n",
      "t.plot_intg_acc(\"obs_052115_no_pfid\",\"e16\",\"sim1.1_sim2\",[1,2,3,4],[\"2.25-2.75\"])"
     ],
     "language": "python",
     "metadata": {},
     "outputs": [
      {
       "output_type": "stream",
       "stream": "stderr",
       "text": [
        "WARNING:ROOT.TFile.Append] Replacing existing TH1: h5_UNPOL_proj_1 (Potential memory leak).\n"
       ]
      },
      {
       "output_type": "stream",
       "stream": "stderr",
       "text": [
        "INFO:ROOT.TCanvas.Print] png file /data/trivedia/e16/2pi/d2pi/obs_052115_no_pfid/sim1.1_sim2/intg-eff_top2/ceff_top2_1.575-1.600_VST1.png has been created\n"
       ]
      },
      {
       "output_type": "stream",
       "stream": "stderr",
       "text": [
        "WARNING:ROOT.TCanvas.Constructor] Deleting canvas with same name: c\n"
       ]
      },
      {
       "output_type": "stream",
       "stream": "stdout",
       "text": [
        "iq2wbin= 0\n",
        "iq2wbin="
       ]
      },
      {
       "output_type": "stream",
       "stream": "stderr",
       "text": [
        "WARNING:ROOT.TFile.Append] Replacing existing TH1: h5_UNPOL_proj_1 (Potential memory leak).\n"
       ]
      },
      {
       "output_type": "stream",
       "stream": "stderr",
       "text": [
        "WARNING:ROOT.TFile.Append] Replacing existing TH1: h5_UNPOL_proj_1 (Potential memory leak).\n"
       ]
      },
      {
       "output_type": "stream",
       "stream": "stderr",
       "text": [
        "INFO:ROOT.TCanvas.Print] png file /data/trivedia/e16/2pi/d2pi/obs_052115_no_pfid/sim1.1_sim2/intg-eff_top2/ceff_top2_1.675-1.700_VST1.png has been created\n"
       ]
      },
      {
       "output_type": "stream",
       "stream": "stderr",
       "text": [
        "WARNING:ROOT.TCanvas.Constructor] Deleting canvas with same name: c\n"
       ]
      },
      {
       "output_type": "stream",
       "stream": "stdout",
       "text": [
        " 0\n",
        "iq2wbin="
       ]
      },
      {
       "output_type": "stream",
       "stream": "stderr",
       "text": [
        "WARNING:ROOT.TFile.Append] Replacing existing TH1: h5_UNPOL_proj_1 (Potential memory leak).\n"
       ]
      },
      {
       "output_type": "stream",
       "stream": "stderr",
       "text": [
        "WARNING:ROOT.TFile.Append] Replacing existing TH1: h5_UNPOL_proj_1 (Potential memory leak).\n"
       ]
      },
      {
       "output_type": "stream",
       "stream": "stderr",
       "text": [
        "INFO:ROOT.TCanvas.Print] png file /data/trivedia/e16/2pi/d2pi/obs_052115_no_pfid/sim1.1_sim2/intg-eff_top2/ceff_top2_1.775-1.800_VST1.png has been created\n"
       ]
      },
      {
       "output_type": "stream",
       "stream": "stderr",
       "text": [
        "WARNING:ROOT.TCanvas.Constructor] Deleting canvas with same name: c\n"
       ]
      },
      {
       "output_type": "stream",
       "stream": "stdout",
       "text": [
        " 0\n",
        "iq2wbin="
       ]
      },
      {
       "output_type": "stream",
       "stream": "stderr",
       "text": [
        "WARNING:ROOT.TFile.Append] Replacing existing TH1: h5_UNPOL_proj_1 (Potential memory leak).\n"
       ]
      },
      {
       "output_type": "stream",
       "stream": "stderr",
       "text": [
        "WARNING:ROOT.TFile.Append] Replacing existing TH1: h5_UNPOL_proj_1 (Potential memory leak).\n"
       ]
      },
      {
       "output_type": "stream",
       "stream": "stderr",
       "text": [
        "INFO:ROOT.TCanvas.Print] png file /data/trivedia/e16/2pi/d2pi/obs_052115_no_pfid/sim1.1_sim2/intg-eff_top2/ceff_top2_1.875-1.900_VST1.png has been created\n"
       ]
      },
      {
       "output_type": "stream",
       "stream": "stderr",
       "text": [
        "WARNING:ROOT.TCanvas.Constructor] Deleting canvas with same name: c\n"
       ]
      },
      {
       "output_type": "stream",
       "stream": "stdout",
       "text": [
        " 0\n",
        "iq2wbin="
       ]
      },
      {
       "output_type": "stream",
       "stream": "stderr",
       "text": [
        "WARNING:ROOT.TFile.Append] Replacing existing TH1: h5_UNPOL_proj_1 (Potential memory leak).\n"
       ]
      },
      {
       "output_type": "stream",
       "stream": "stderr",
       "text": [
        "WARNING:ROOT.TFile.Append] Replacing existing TH1: h5_UNPOL_proj_1 (Potential memory leak).\n"
       ]
      },
      {
       "output_type": "stream",
       "stream": "stderr",
       "text": [
        "INFO:ROOT.TCanvas.Print] png file /data/trivedia/e16/2pi/d2pi/obs_052115_no_pfid/sim1.1_sim2/intg-eff_top2/ceff_top2_1.975-2.000_VST1.png has been created\n"
       ]
      },
      {
       "output_type": "stream",
       "stream": "stdout",
       "text": [
        " 0\n",
        "iq2wbin="
       ]
      },
      {
       "output_type": "stream",
       "stream": "stderr",
       "text": [
        "WARNING:ROOT.TFile.Append] Replacing existing TH1: h5_UNPOL_proj_1 (Potential memory leak).\n"
       ]
      },
      {
       "output_type": "stream",
       "stream": "stderr",
       "text": [
        "INFO:ROOT.TCanvas.Print] png file /data/trivedia/e16/2pi/d2pi/obs_052115_no_pfid/sim1.1_sim2/intg-eff_top12/ceff_top12_1.575-1.600_VST1.png has been created\n"
       ]
      },
      {
       "output_type": "stream",
       "stream": "stderr",
       "text": [
        "WARNING:ROOT.TCanvas.Constructor] Deleting canvas with same name: c\n"
       ]
      },
      {
       "output_type": "stream",
       "stream": "stdout",
       "text": [
        " 0\n",
        "iq2wbin="
       ]
      },
      {
       "output_type": "stream",
       "stream": "stderr",
       "text": [
        "WARNING:ROOT.TFile.Append] Replacing existing TH1: h5_UNPOL_proj_1 (Potential memory leak).\n"
       ]
      },
      {
       "output_type": "stream",
       "stream": "stderr",
       "text": [
        "WARNING:ROOT.TFile.Append] Replacing existing TH1: h5_UNPOL_proj_1 (Potential memory leak).\n"
       ]
      },
      {
       "output_type": "stream",
       "stream": "stderr",
       "text": [
        "INFO:ROOT.TCanvas.Print] png file /data/trivedia/e16/2pi/d2pi/obs_052115_no_pfid/sim1.1_sim2/intg-eff_top12/ceff_top12_1.675-1.700_VST1.png has been created\n"
       ]
      },
      {
       "output_type": "stream",
       "stream": "stderr",
       "text": [
        "WARNING:ROOT.TCanvas.Constructor] Deleting canvas with same name: c\n"
       ]
      },
      {
       "output_type": "stream",
       "stream": "stdout",
       "text": [
        " 0\n",
        "iq2wbin="
       ]
      },
      {
       "output_type": "stream",
       "stream": "stderr",
       "text": [
        "WARNING:ROOT.TFile.Append] Replacing existing TH1: h5_UNPOL_proj_1 (Potential memory leak).\n"
       ]
      },
      {
       "output_type": "stream",
       "stream": "stderr",
       "text": [
        "WARNING:ROOT.TFile.Append] Replacing existing TH1: h5_UNPOL_proj_1 (Potential memory leak).\n"
       ]
      },
      {
       "output_type": "stream",
       "stream": "stderr",
       "text": [
        "INFO:ROOT.TCanvas.Print] png file /data/trivedia/e16/2pi/d2pi/obs_052115_no_pfid/sim1.1_sim2/intg-eff_top12/ceff_top12_1.775-1.800_VST1.png has been created\n"
       ]
      },
      {
       "output_type": "stream",
       "stream": "stderr",
       "text": [
        "WARNING:ROOT.TCanvas.Constructor] Deleting canvas with same name: c\n"
       ]
      },
      {
       "output_type": "stream",
       "stream": "stdout",
       "text": [
        " 0\n",
        "iq2wbin="
       ]
      },
      {
       "output_type": "stream",
       "stream": "stderr",
       "text": [
        "WARNING:ROOT.TFile.Append] Replacing existing TH1: h5_UNPOL_proj_1 (Potential memory leak).\n"
       ]
      },
      {
       "output_type": "stream",
       "stream": "stderr",
       "text": [
        "WARNING:ROOT.TFile.Append] Replacing existing TH1: h5_UNPOL_proj_1 (Potential memory leak).\n"
       ]
      },
      {
       "output_type": "stream",
       "stream": "stderr",
       "text": [
        "INFO:ROOT.TCanvas.Print] png file /data/trivedia/e16/2pi/d2pi/obs_052115_no_pfid/sim1.1_sim2/intg-eff_top12/ceff_top12_1.875-1.900_VST1.png has been created\n"
       ]
      },
      {
       "output_type": "stream",
       "stream": "stderr",
       "text": [
        "WARNING:ROOT.TCanvas.Constructor] Deleting canvas with same name: c\n"
       ]
      },
      {
       "output_type": "stream",
       "stream": "stdout",
       "text": [
        " 0\n",
        "iq2wbin="
       ]
      },
      {
       "output_type": "stream",
       "stream": "stderr",
       "text": [
        "WARNING:ROOT.TFile.Append] Replacing existing TH1: h5_UNPOL_proj_1 (Potential memory leak).\n"
       ]
      },
      {
       "output_type": "stream",
       "stream": "stderr",
       "text": [
        "WARNING:ROOT.TFile.Append] Replacing existing TH1: h5_UNPOL_proj_1 (Potential memory leak).\n"
       ]
      },
      {
       "output_type": "stream",
       "stream": "stderr",
       "text": [
        "INFO:ROOT.TCanvas.Print] png file /data/trivedia/e16/2pi/d2pi/obs_052115_no_pfid/sim1.1_sim2/intg-eff_top12/ceff_top12_1.975-2.000_VST1.png has been created\n"
       ]
      },
      {
       "output_type": "stream",
       "stream": "stdout",
       "text": [
        " 0\n",
        "iq2wbin="
       ]
      },
      {
       "output_type": "stream",
       "stream": "stderr",
       "text": [
        "WARNING:ROOT.TFile.Append] Replacing existing TH1: h5_UNPOL_proj_1 (Potential memory leak).\n"
       ]
      },
      {
       "output_type": "stream",
       "stream": "stderr",
       "text": [
        "INFO:ROOT.TCanvas.Print] png file /data/trivedia/e16/2pi/d2pi/obs_052115_no_pfid/sim1.1_sim2/intg-eff_top1234/ceff_top1234_1.575-1.600_VST1.png has been created\n"
       ]
      },
      {
       "output_type": "stream",
       "stream": "stderr",
       "text": [
        "WARNING:ROOT.TCanvas.Constructor] Deleting canvas with same name: c\n"
       ]
      },
      {
       "output_type": "stream",
       "stream": "stdout",
       "text": [
        " 0\n",
        "iq2wbin="
       ]
      },
      {
       "output_type": "stream",
       "stream": "stderr",
       "text": [
        "WARNING:ROOT.TFile.Append] Replacing existing TH1: h5_UNPOL_proj_1 (Potential memory leak).\n"
       ]
      },
      {
       "output_type": "stream",
       "stream": "stderr",
       "text": [
        "WARNING:ROOT.TFile.Append] Replacing existing TH1: h5_UNPOL_proj_1 (Potential memory leak).\n"
       ]
      },
      {
       "output_type": "stream",
       "stream": "stderr",
       "text": [
        "INFO:ROOT.TCanvas.Print] png file /data/trivedia/e16/2pi/d2pi/obs_052115_no_pfid/sim1.1_sim2/intg-eff_top1234/ceff_top1234_1.675-1.700_VST1.png has been created\n"
       ]
      },
      {
       "output_type": "stream",
       "stream": "stderr",
       "text": [
        "WARNING:ROOT.TCanvas.Constructor] Deleting canvas with same name: c\n"
       ]
      },
      {
       "output_type": "stream",
       "stream": "stdout",
       "text": [
        " 0\n",
        "iq2wbin="
       ]
      },
      {
       "output_type": "stream",
       "stream": "stderr",
       "text": [
        "WARNING:ROOT.TFile.Append] Replacing existing TH1: h5_UNPOL_proj_1 (Potential memory leak).\n"
       ]
      },
      {
       "output_type": "stream",
       "stream": "stderr",
       "text": [
        "WARNING:ROOT.TFile.Append] Replacing existing TH1: h5_UNPOL_proj_1 (Potential memory leak).\n"
       ]
      },
      {
       "output_type": "stream",
       "stream": "stderr",
       "text": [
        "INFO:ROOT.TCanvas.Print] png file /data/trivedia/e16/2pi/d2pi/obs_052115_no_pfid/sim1.1_sim2/intg-eff_top1234/ceff_top1234_1.775-1.800_VST1.png has been created\n"
       ]
      },
      {
       "output_type": "stream",
       "stream": "stderr",
       "text": [
        "WARNING:ROOT.TCanvas.Constructor] Deleting canvas with same name: c\n"
       ]
      },
      {
       "output_type": "stream",
       "stream": "stdout",
       "text": [
        " 0\n",
        "iq2wbin="
       ]
      },
      {
       "output_type": "stream",
       "stream": "stderr",
       "text": [
        "WARNING:ROOT.TFile.Append] Replacing existing TH1: h5_UNPOL_proj_1 (Potential memory leak).\n"
       ]
      },
      {
       "output_type": "stream",
       "stream": "stderr",
       "text": [
        "WARNING:ROOT.TFile.Append] Replacing existing TH1: h5_UNPOL_proj_1 (Potential memory leak).\n"
       ]
      },
      {
       "output_type": "stream",
       "stream": "stderr",
       "text": [
        "INFO:ROOT.TCanvas.Print] png file /data/trivedia/e16/2pi/d2pi/obs_052115_no_pfid/sim1.1_sim2/intg-eff_top1234/ceff_top1234_1.875-1.900_VST1.png has been created\n"
       ]
      },
      {
       "output_type": "stream",
       "stream": "stderr",
       "text": [
        "WARNING:ROOT.TCanvas.Constructor] Deleting canvas with same name: c\n"
       ]
      },
      {
       "output_type": "stream",
       "stream": "stdout",
       "text": [
        " 0\n",
        "iq2wbin="
       ]
      },
      {
       "output_type": "stream",
       "stream": "stderr",
       "text": [
        "WARNING:ROOT.TFile.Append] Replacing existing TH1: h5_UNPOL_proj_1 (Potential memory leak).\n"
       ]
      },
      {
       "output_type": "stream",
       "stream": "stderr",
       "text": [
        "WARNING:ROOT.TFile.Append] Replacing existing TH1: h5_UNPOL_proj_1 (Potential memory leak).\n"
       ]
      },
      {
       "output_type": "stream",
       "stream": "stderr",
       "text": [
        "INFO:ROOT.TCanvas.Print] png file /data/trivedia/e16/2pi/d2pi/obs_052115_no_pfid/sim1.1_sim2/intg-eff_top1234/ceff_top1234_1.975-2.000_VST1.png has been created\n"
       ]
      },
      {
       "output_type": "stream",
       "stream": "stdout",
       "text": [
        " 0\n"
       ]
      }
     ],
     "prompt_number": 7
    },
    {
     "cell_type": "code",
     "collapsed": false,
     "input": [],
     "language": "python",
     "metadata": {},
     "outputs": []
    }
   ],
   "metadata": {}
  }
 ]
}