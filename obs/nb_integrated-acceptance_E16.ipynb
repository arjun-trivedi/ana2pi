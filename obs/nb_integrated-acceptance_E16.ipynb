{
 "metadata": {
  "name": ""
 },
 "nbformat": 3,
 "nbformat_minor": 0,
 "worksheets": [
  {
   "cells": [
    {
     "cell_type": "code",
     "collapsed": false,
     "input": [
      "import study_acc_tools as t"
     ],
     "language": "python",
     "metadata": {},
     "outputs": [],
     "prompt_number": 1
    },
    {
     "cell_type": "code",
     "collapsed": false,
     "input": [
      "t.plot_intg_acc(\"obs_052015_full_proc_chain\",\"e16\",\"siml\",[2],[\"2.25-2.75\"])\n",
      "t.plot_intg_acc(\"obs_052015_full_proc_chain\",\"e16\",\"siml\",[1,2],[\"2.25-2.75\"])\n",
      "t.plot_intg_acc(\"obs_052015_full_proc_chain\",\"e16\",\"siml\",[1,2,3,4],[\"2.25-2.75\"])"
     ],
     "language": "python",
     "metadata": {},
     "outputs": [
      {
       "output_type": "stream",
       "stream": "stderr",
       "text": [
        "INFO:rootpy.logger] | No default log handler configured. See `logging` module |\n"
       ]
      },
      {
       "output_type": "stream",
       "stream": "stderr",
       "text": [
        "INFO:rootpy.logger] \\    To suppress: 'rootpy.log.basic_config_colorized()'   /\n"
       ]
      },
      {
       "output_type": "stream",
       "stream": "stderr",
       "text": [
        "WARNING:ROOT.TFile.Append] Replacing existing TH1: h5_UNPOL_proj_1 (Potential memory leak).\n"
       ]
      },
      {
       "output_type": "stream",
       "stream": "stderr",
       "text": [
        "INFO:ROOT.TCanvas.Print] png file /data/trivedia/e16/2pi/d2pi/obs_052015_full_proc_chain/siml/intg-eff_top2/ceff_top2_1.575-1.600_VST1.png has been created\n"
       ]
      },
      {
       "output_type": "stream",
       "stream": "stderr",
       "text": [
        "WARNING:ROOT.TCanvas.Constructor] Deleting canvas with same name: c\n"
       ]
      },
      {
       "output_type": "stream",
       "stream": "stdout",
       "text": [
        "iq2wbin= 0\n",
        "iq2wbin="
       ]
      },
      {
       "output_type": "stream",
       "stream": "stderr",
       "text": [
        "WARNING:ROOT.TFile.Append] Replacing existing TH1: h5_UNPOL_proj_1 (Potential memory leak).\n"
       ]
      },
      {
       "output_type": "stream",
       "stream": "stderr",
       "text": [
        "WARNING:ROOT.TFile.Append] Replacing existing TH1: h5_UNPOL_proj_1 (Potential memory leak).\n"
       ]
      },
      {
       "output_type": "stream",
       "stream": "stderr",
       "text": [
        "INFO:ROOT.TCanvas.Print] png file /data/trivedia/e16/2pi/d2pi/obs_052015_full_proc_chain/siml/intg-eff_top2/ceff_top2_1.675-1.700_VST1.png has been created\n"
       ]
      },
      {
       "output_type": "stream",
       "stream": "stderr",
       "text": [
        "WARNING:ROOT.TCanvas.Constructor] Deleting canvas with same name: c\n"
       ]
      },
      {
       "output_type": "stream",
       "stream": "stdout",
       "text": [
        " 0\n",
        "iq2wbin="
       ]
      },
      {
       "output_type": "stream",
       "stream": "stderr",
       "text": [
        "WARNING:ROOT.TFile.Append] Replacing existing TH1: h5_UNPOL_proj_1 (Potential memory leak).\n"
       ]
      },
      {
       "output_type": "stream",
       "stream": "stderr",
       "text": [
        "WARNING:ROOT.TFile.Append] Replacing existing TH1: h5_UNPOL_proj_1 (Potential memory leak).\n"
       ]
      },
      {
       "output_type": "stream",
       "stream": "stderr",
       "text": [
        "INFO:ROOT.TCanvas.Print] png file /data/trivedia/e16/2pi/d2pi/obs_052015_full_proc_chain/siml/intg-eff_top2/ceff_top2_1.775-1.800_VST1.png has been created\n"
       ]
      },
      {
       "output_type": "stream",
       "stream": "stderr",
       "text": [
        "WARNING:ROOT.TCanvas.Constructor] Deleting canvas with same name: c\n"
       ]
      },
      {
       "output_type": "stream",
       "stream": "stdout",
       "text": [
        " 0\n",
        "iq2wbin="
       ]
      },
      {
       "output_type": "stream",
       "stream": "stderr",
       "text": [
        "WARNING:ROOT.TFile.Append] Replacing existing TH1: h5_UNPOL_proj_1 (Potential memory leak).\n"
       ]
      },
      {
       "output_type": "stream",
       "stream": "stderr",
       "text": [
        "WARNING:ROOT.TFile.Append] Replacing existing TH1: h5_UNPOL_proj_1 (Potential memory leak).\n"
       ]
      },
      {
       "output_type": "stream",
       "stream": "stderr",
       "text": [
        "INFO:ROOT.TCanvas.Print] png file /data/trivedia/e16/2pi/d2pi/obs_052015_full_proc_chain/siml/intg-eff_top2/ceff_top2_1.875-1.900_VST1.png has been created\n"
       ]
      },
      {
       "output_type": "stream",
       "stream": "stderr",
       "text": [
        "WARNING:ROOT.TCanvas.Constructor] Deleting canvas with same name: c\n"
       ]
      },
      {
       "output_type": "stream",
       "stream": "stdout",
       "text": [
        " 0\n",
        "iq2wbin="
       ]
      },
      {
       "output_type": "stream",
       "stream": "stderr",
       "text": [
        "WARNING:ROOT.TFile.Append] Replacing existing TH1: h5_UNPOL_proj_1 (Potential memory leak).\n"
       ]
      },
      {
       "output_type": "stream",
       "stream": "stderr",
       "text": [
        "WARNING:ROOT.TFile.Append] Replacing existing TH1: h5_UNPOL_proj_1 (Potential memory leak).\n"
       ]
      },
      {
       "output_type": "stream",
       "stream": "stderr",
       "text": [
        "INFO:ROOT.TCanvas.Print] png file /data/trivedia/e16/2pi/d2pi/obs_052015_full_proc_chain/siml/intg-eff_top2/ceff_top2_1.975-2.000_VST1.png has been created\n"
       ]
      },
      {
       "output_type": "stream",
       "stream": "stdout",
       "text": [
        " 0\n",
        "iq2wbin="
       ]
      },
      {
       "output_type": "stream",
       "stream": "stderr",
       "text": [
        "WARNING:ROOT.TFile.Append] Replacing existing TH1: h5_UNPOL_proj_1 (Potential memory leak).\n"
       ]
      },
      {
       "output_type": "stream",
       "stream": "stderr",
       "text": [
        "INFO:ROOT.TCanvas.Print] png file /data/trivedia/e16/2pi/d2pi/obs_052015_full_proc_chain/siml/intg-eff_top12/ceff_top12_1.575-1.600_VST1.png has been created\n"
       ]
      },
      {
       "output_type": "stream",
       "stream": "stderr",
       "text": [
        "WARNING:ROOT.TCanvas.Constructor] Deleting canvas with same name: c\n"
       ]
      },
      {
       "output_type": "stream",
       "stream": "stdout",
       "text": [
        " 0\n",
        "iq2wbin="
       ]
      },
      {
       "output_type": "stream",
       "stream": "stderr",
       "text": [
        "WARNING:ROOT.TFile.Append] Replacing existing TH1: h5_UNPOL_proj_1 (Potential memory leak).\n"
       ]
      },
      {
       "output_type": "stream",
       "stream": "stderr",
       "text": [
        "WARNING:ROOT.TFile.Append] Replacing existing TH1: h5_UNPOL_proj_1 (Potential memory leak).\n"
       ]
      },
      {
       "output_type": "stream",
       "stream": "stderr",
       "text": [
        "INFO:ROOT.TCanvas.Print] png file /data/trivedia/e16/2pi/d2pi/obs_052015_full_proc_chain/siml/intg-eff_top12/ceff_top12_1.675-1.700_VST1.png has been created\n"
       ]
      },
      {
       "output_type": "stream",
       "stream": "stderr",
       "text": [
        "WARNING:ROOT.TCanvas.Constructor] Deleting canvas with same name: c\n"
       ]
      },
      {
       "output_type": "stream",
       "stream": "stdout",
       "text": [
        " 0\n",
        "iq2wbin="
       ]
      },
      {
       "output_type": "stream",
       "stream": "stderr",
       "text": [
        "WARNING:ROOT.TFile.Append] Replacing existing TH1: h5_UNPOL_proj_1 (Potential memory leak).\n"
       ]
      },
      {
       "output_type": "stream",
       "stream": "stderr",
       "text": [
        "WARNING:ROOT.TFile.Append] Replacing existing TH1: h5_UNPOL_proj_1 (Potential memory leak).\n"
       ]
      },
      {
       "output_type": "stream",
       "stream": "stderr",
       "text": [
        "INFO:ROOT.TCanvas.Print] png file /data/trivedia/e16/2pi/d2pi/obs_052015_full_proc_chain/siml/intg-eff_top12/ceff_top12_1.775-1.800_VST1.png has been created\n"
       ]
      },
      {
       "output_type": "stream",
       "stream": "stderr",
       "text": [
        "WARNING:ROOT.TCanvas.Constructor] Deleting canvas with same name: c\n"
       ]
      },
      {
       "output_type": "stream",
       "stream": "stdout",
       "text": [
        " 0\n",
        "iq2wbin="
       ]
      },
      {
       "output_type": "stream",
       "stream": "stderr",
       "text": [
        "WARNING:ROOT.TFile.Append] Replacing existing TH1: h5_UNPOL_proj_1 (Potential memory leak).\n"
       ]
      },
      {
       "output_type": "stream",
       "stream": "stderr",
       "text": [
        "WARNING:ROOT.TFile.Append] Replacing existing TH1: h5_UNPOL_proj_1 (Potential memory leak).\n"
       ]
      },
      {
       "output_type": "stream",
       "stream": "stderr",
       "text": [
        "INFO:ROOT.TCanvas.Print] png file /data/trivedia/e16/2pi/d2pi/obs_052015_full_proc_chain/siml/intg-eff_top12/ceff_top12_1.875-1.900_VST1.png has been created\n"
       ]
      },
      {
       "output_type": "stream",
       "stream": "stderr",
       "text": [
        "WARNING:ROOT.TCanvas.Constructor] Deleting canvas with same name: c\n"
       ]
      },
      {
       "output_type": "stream",
       "stream": "stdout",
       "text": [
        " 0\n",
        "iq2wbin="
       ]
      },
      {
       "output_type": "stream",
       "stream": "stderr",
       "text": [
        "WARNING:ROOT.TFile.Append] Replacing existing TH1: h5_UNPOL_proj_1 (Potential memory leak).\n"
       ]
      },
      {
       "output_type": "stream",
       "stream": "stderr",
       "text": [
        "WARNING:ROOT.TFile.Append] Replacing existing TH1: h5_UNPOL_proj_1 (Potential memory leak).\n"
       ]
      },
      {
       "output_type": "stream",
       "stream": "stderr",
       "text": [
        "INFO:ROOT.TCanvas.Print] png file /data/trivedia/e16/2pi/d2pi/obs_052015_full_proc_chain/siml/intg-eff_top12/ceff_top12_1.975-2.000_VST1.png has been created\n"
       ]
      },
      {
       "output_type": "stream",
       "stream": "stdout",
       "text": [
        " 0\n",
        "iq2wbin="
       ]
      },
      {
       "output_type": "stream",
       "stream": "stderr",
       "text": [
        "WARNING:ROOT.TFile.Append] Replacing existing TH1: h5_UNPOL_proj_1 (Potential memory leak).\n"
       ]
      },
      {
       "output_type": "stream",
       "stream": "stderr",
       "text": [
        "INFO:ROOT.TCanvas.Print] png file /data/trivedia/e16/2pi/d2pi/obs_052015_full_proc_chain/siml/intg-eff_top1234/ceff_top1234_1.575-1.600_VST1.png has been created\n"
       ]
      },
      {
       "output_type": "stream",
       "stream": "stderr",
       "text": [
        "WARNING:ROOT.TCanvas.Constructor] Deleting canvas with same name: c\n"
       ]
      },
      {
       "output_type": "stream",
       "stream": "stdout",
       "text": [
        " 0\n",
        "iq2wbin="
       ]
      },
      {
       "output_type": "stream",
       "stream": "stderr",
       "text": [
        "WARNING:ROOT.TFile.Append] Replacing existing TH1: h5_UNPOL_proj_1 (Potential memory leak).\n"
       ]
      },
      {
       "output_type": "stream",
       "stream": "stderr",
       "text": [
        "WARNING:ROOT.TFile.Append] Replacing existing TH1: h5_UNPOL_proj_1 (Potential memory leak).\n"
       ]
      },
      {
       "output_type": "stream",
       "stream": "stderr",
       "text": [
        "INFO:ROOT.TCanvas.Print] png file /data/trivedia/e16/2pi/d2pi/obs_052015_full_proc_chain/siml/intg-eff_top1234/ceff_top1234_1.675-1.700_VST1.png has been created\n"
       ]
      },
      {
       "output_type": "stream",
       "stream": "stderr",
       "text": [
        "WARNING:ROOT.TCanvas.Constructor] Deleting canvas with same name: c\n"
       ]
      },
      {
       "output_type": "stream",
       "stream": "stdout",
       "text": [
        " 0\n",
        "iq2wbin="
       ]
      },
      {
       "output_type": "stream",
       "stream": "stderr",
       "text": [
        "WARNING:ROOT.TFile.Append] Replacing existing TH1: h5_UNPOL_proj_1 (Potential memory leak).\n"
       ]
      },
      {
       "output_type": "stream",
       "stream": "stderr",
       "text": [
        "WARNING:ROOT.TFile.Append] Replacing existing TH1: h5_UNPOL_proj_1 (Potential memory leak).\n"
       ]
      },
      {
       "output_type": "stream",
       "stream": "stderr",
       "text": [
        "INFO:ROOT.TCanvas.Print] png file /data/trivedia/e16/2pi/d2pi/obs_052015_full_proc_chain/siml/intg-eff_top1234/ceff_top1234_1.775-1.800_VST1.png has been created\n"
       ]
      },
      {
       "output_type": "stream",
       "stream": "stderr",
       "text": [
        "WARNING:ROOT.TCanvas.Constructor] Deleting canvas with same name: c\n"
       ]
      },
      {
       "output_type": "stream",
       "stream": "stdout",
       "text": [
        " 0\n",
        "iq2wbin="
       ]
      },
      {
       "output_type": "stream",
       "stream": "stderr",
       "text": [
        "WARNING:ROOT.TFile.Append] Replacing existing TH1: h5_UNPOL_proj_1 (Potential memory leak).\n"
       ]
      },
      {
       "output_type": "stream",
       "stream": "stderr",
       "text": [
        "WARNING:ROOT.TFile.Append] Replacing existing TH1: h5_UNPOL_proj_1 (Potential memory leak).\n"
       ]
      },
      {
       "output_type": "stream",
       "stream": "stderr",
       "text": [
        "INFO:ROOT.TCanvas.Print] png file /data/trivedia/e16/2pi/d2pi/obs_052015_full_proc_chain/siml/intg-eff_top1234/ceff_top1234_1.875-1.900_VST1.png has been created\n"
       ]
      },
      {
       "output_type": "stream",
       "stream": "stderr",
       "text": [
        "WARNING:ROOT.TCanvas.Constructor] Deleting canvas with same name: c\n"
       ]
      },
      {
       "output_type": "stream",
       "stream": "stdout",
       "text": [
        " 0\n",
        "iq2wbin="
       ]
      },
      {
       "output_type": "stream",
       "stream": "stderr",
       "text": [
        "WARNING:ROOT.TFile.Append] Replacing existing TH1: h5_UNPOL_proj_1 (Potential memory leak).\n"
       ]
      },
      {
       "output_type": "stream",
       "stream": "stderr",
       "text": [
        "WARNING:ROOT.TFile.Append] Replacing existing TH1: h5_UNPOL_proj_1 (Potential memory leak).\n"
       ]
      },
      {
       "output_type": "stream",
       "stream": "stderr",
       "text": [
        "INFO:ROOT.TCanvas.Print] png file /data/trivedia/e16/2pi/d2pi/obs_052015_full_proc_chain/siml/intg-eff_top1234/ceff_top1234_1.975-2.000_VST1.png has been created\n"
       ]
      },
      {
       "output_type": "stream",
       "stream": "stdout",
       "text": [
        " 0\n"
       ]
      }
     ],
     "prompt_number": 2
    },
    {
     "cell_type": "code",
     "collapsed": false,
     "input": [
      "t.plot_intg_acc(\"obs_052115_no_pfid\",\"e16\",\"siml\",[2],[\"2.25-2.75\"])\n",
      "t.plot_intg_acc(\"obs_052115_no_pfid\",\"e16\",\"siml\",[1,2],[\"2.25-2.75\"])\n",
      "t.plot_intg_acc(\"obs_052115_no_pfid\",\"e16\",\"siml\",[1,2,3,4],[\"2.25-2.75\"])"
     ],
     "language": "python",
     "metadata": {},
     "outputs": [
      {
       "output_type": "stream",
       "stream": "stderr",
       "text": [
        "WARNING:ROOT.TFile.Append] Replacing existing TH1: h5_UNPOL_proj_1 (Potential memory leak).\n"
       ]
      },
      {
       "output_type": "stream",
       "stream": "stderr",
       "text": [
        "INFO:ROOT.TCanvas.Print] png file /data/trivedia/e16/2pi/d2pi/obs_052115_no_pfid/siml/intg-eff_top2/ceff_top2_1.575-1.600_VST1.png has been created\n"
       ]
      },
      {
       "output_type": "stream",
       "stream": "stderr",
       "text": [
        "WARNING:ROOT.TCanvas.Constructor] Deleting canvas with same name: c\n"
       ]
      },
      {
       "output_type": "stream",
       "stream": "stdout",
       "text": [
        "iq2wbin= 0\n",
        "iq2wbin="
       ]
      },
      {
       "output_type": "stream",
       "stream": "stderr",
       "text": [
        "WARNING:ROOT.TFile.Append] Replacing existing TH1: h5_UNPOL_proj_1 (Potential memory leak).\n"
       ]
      },
      {
       "output_type": "stream",
       "stream": "stderr",
       "text": [
        "WARNING:ROOT.TFile.Append] Replacing existing TH1: h5_UNPOL_proj_1 (Potential memory leak).\n"
       ]
      },
      {
       "output_type": "stream",
       "stream": "stderr",
       "text": [
        "INFO:ROOT.TCanvas.Print] png file /data/trivedia/e16/2pi/d2pi/obs_052115_no_pfid/siml/intg-eff_top2/ceff_top2_1.675-1.700_VST1.png has been created\n"
       ]
      },
      {
       "output_type": "stream",
       "stream": "stderr",
       "text": [
        "WARNING:ROOT.TCanvas.Constructor] Deleting canvas with same name: c\n"
       ]
      },
      {
       "output_type": "stream",
       "stream": "stdout",
       "text": [
        " 0\n",
        "iq2wbin="
       ]
      },
      {
       "output_type": "stream",
       "stream": "stderr",
       "text": [
        "WARNING:ROOT.TFile.Append] Replacing existing TH1: h5_UNPOL_proj_1 (Potential memory leak).\n"
       ]
      },
      {
       "output_type": "stream",
       "stream": "stderr",
       "text": [
        "WARNING:ROOT.TFile.Append] Replacing existing TH1: h5_UNPOL_proj_1 (Potential memory leak).\n"
       ]
      },
      {
       "output_type": "stream",
       "stream": "stderr",
       "text": [
        "INFO:ROOT.TCanvas.Print] png file /data/trivedia/e16/2pi/d2pi/obs_052115_no_pfid/siml/intg-eff_top2/ceff_top2_1.775-1.800_VST1.png has been created\n"
       ]
      },
      {
       "output_type": "stream",
       "stream": "stderr",
       "text": [
        "WARNING:ROOT.TCanvas.Constructor] Deleting canvas with same name: c\n"
       ]
      },
      {
       "output_type": "stream",
       "stream": "stdout",
       "text": [
        " 0\n",
        "iq2wbin="
       ]
      },
      {
       "output_type": "stream",
       "stream": "stderr",
       "text": [
        "WARNING:ROOT.TFile.Append] Replacing existing TH1: h5_UNPOL_proj_1 (Potential memory leak).\n"
       ]
      },
      {
       "output_type": "stream",
       "stream": "stderr",
       "text": [
        "WARNING:ROOT.TFile.Append] Replacing existing TH1: h5_UNPOL_proj_1 (Potential memory leak).\n"
       ]
      },
      {
       "output_type": "stream",
       "stream": "stderr",
       "text": [
        "INFO:ROOT.TCanvas.Print] png file /data/trivedia/e16/2pi/d2pi/obs_052115_no_pfid/siml/intg-eff_top2/ceff_top2_1.875-1.900_VST1.png has been created\n"
       ]
      },
      {
       "output_type": "stream",
       "stream": "stderr",
       "text": [
        "WARNING:ROOT.TCanvas.Constructor] Deleting canvas with same name: c\n"
       ]
      },
      {
       "output_type": "stream",
       "stream": "stdout",
       "text": [
        " 0\n",
        "iq2wbin="
       ]
      },
      {
       "output_type": "stream",
       "stream": "stderr",
       "text": [
        "WARNING:ROOT.TFile.Append] Replacing existing TH1: h5_UNPOL_proj_1 (Potential memory leak).\n"
       ]
      },
      {
       "output_type": "stream",
       "stream": "stderr",
       "text": [
        "WARNING:ROOT.TFile.Append] Replacing existing TH1: h5_UNPOL_proj_1 (Potential memory leak).\n"
       ]
      },
      {
       "output_type": "stream",
       "stream": "stderr",
       "text": [
        "INFO:ROOT.TCanvas.Print] png file /data/trivedia/e16/2pi/d2pi/obs_052115_no_pfid/siml/intg-eff_top2/ceff_top2_1.975-2.000_VST1.png has been created\n"
       ]
      },
      {
       "output_type": "stream",
       "stream": "stdout",
       "text": [
        " 0\n",
        "iq2wbin="
       ]
      },
      {
       "output_type": "stream",
       "stream": "stderr",
       "text": [
        "WARNING:ROOT.TFile.Append] Replacing existing TH1: h5_UNPOL_proj_1 (Potential memory leak).\n"
       ]
      },
      {
       "output_type": "stream",
       "stream": "stderr",
       "text": [
        "INFO:ROOT.TCanvas.Print] png file /data/trivedia/e16/2pi/d2pi/obs_052115_no_pfid/siml/intg-eff_top12/ceff_top12_1.575-1.600_VST1.png has been created\n"
       ]
      },
      {
       "output_type": "stream",
       "stream": "stderr",
       "text": [
        "WARNING:ROOT.TCanvas.Constructor] Deleting canvas with same name: c\n"
       ]
      },
      {
       "output_type": "stream",
       "stream": "stdout",
       "text": [
        " 0\n",
        "iq2wbin="
       ]
      },
      {
       "output_type": "stream",
       "stream": "stderr",
       "text": [
        "WARNING:ROOT.TFile.Append] Replacing existing TH1: h5_UNPOL_proj_1 (Potential memory leak).\n"
       ]
      },
      {
       "output_type": "stream",
       "stream": "stderr",
       "text": [
        "WARNING:ROOT.TFile.Append] Replacing existing TH1: h5_UNPOL_proj_1 (Potential memory leak).\n"
       ]
      },
      {
       "output_type": "stream",
       "stream": "stderr",
       "text": [
        "INFO:ROOT.TCanvas.Print] png file /data/trivedia/e16/2pi/d2pi/obs_052115_no_pfid/siml/intg-eff_top12/ceff_top12_1.675-1.700_VST1.png has been created\n"
       ]
      },
      {
       "output_type": "stream",
       "stream": "stderr",
       "text": [
        "WARNING:ROOT.TCanvas.Constructor] Deleting canvas with same name: c\n"
       ]
      },
      {
       "output_type": "stream",
       "stream": "stdout",
       "text": [
        " 0\n",
        "iq2wbin="
       ]
      },
      {
       "output_type": "stream",
       "stream": "stderr",
       "text": [
        "WARNING:ROOT.TFile.Append] Replacing existing TH1: h5_UNPOL_proj_1 (Potential memory leak).\n"
       ]
      },
      {
       "output_type": "stream",
       "stream": "stderr",
       "text": [
        "WARNING:ROOT.TFile.Append] Replacing existing TH1: h5_UNPOL_proj_1 (Potential memory leak).\n"
       ]
      },
      {
       "output_type": "stream",
       "stream": "stderr",
       "text": [
        "INFO:ROOT.TCanvas.Print] png file /data/trivedia/e16/2pi/d2pi/obs_052115_no_pfid/siml/intg-eff_top12/ceff_top12_1.775-1.800_VST1.png has been created\n"
       ]
      },
      {
       "output_type": "stream",
       "stream": "stderr",
       "text": [
        "WARNING:ROOT.TCanvas.Constructor] Deleting canvas with same name: c\n"
       ]
      },
      {
       "output_type": "stream",
       "stream": "stdout",
       "text": [
        " 0\n",
        "iq2wbin="
       ]
      },
      {
       "output_type": "stream",
       "stream": "stderr",
       "text": [
        "WARNING:ROOT.TFile.Append] Replacing existing TH1: h5_UNPOL_proj_1 (Potential memory leak).\n"
       ]
      },
      {
       "output_type": "stream",
       "stream": "stderr",
       "text": [
        "WARNING:ROOT.TFile.Append] Replacing existing TH1: h5_UNPOL_proj_1 (Potential memory leak).\n"
       ]
      },
      {
       "output_type": "stream",
       "stream": "stderr",
       "text": [
        "INFO:ROOT.TCanvas.Print] png file /data/trivedia/e16/2pi/d2pi/obs_052115_no_pfid/siml/intg-eff_top12/ceff_top12_1.875-1.900_VST1.png has been created\n"
       ]
      },
      {
       "output_type": "stream",
       "stream": "stderr",
       "text": [
        "WARNING:ROOT.TCanvas.Constructor] Deleting canvas with same name: c\n"
       ]
      },
      {
       "output_type": "stream",
       "stream": "stdout",
       "text": [
        " 0\n",
        "iq2wbin="
       ]
      },
      {
       "output_type": "stream",
       "stream": "stderr",
       "text": [
        "WARNING:ROOT.TFile.Append] Replacing existing TH1: h5_UNPOL_proj_1 (Potential memory leak).\n"
       ]
      },
      {
       "output_type": "stream",
       "stream": "stderr",
       "text": [
        "WARNING:ROOT.TFile.Append] Replacing existing TH1: h5_UNPOL_proj_1 (Potential memory leak).\n"
       ]
      },
      {
       "output_type": "stream",
       "stream": "stderr",
       "text": [
        "INFO:ROOT.TCanvas.Print] png file /data/trivedia/e16/2pi/d2pi/obs_052115_no_pfid/siml/intg-eff_top12/ceff_top12_1.975-2.000_VST1.png has been created\n"
       ]
      },
      {
       "output_type": "stream",
       "stream": "stdout",
       "text": [
        " 0\n",
        "iq2wbin="
       ]
      },
      {
       "output_type": "stream",
       "stream": "stderr",
       "text": [
        "WARNING:ROOT.TFile.Append] Replacing existing TH1: h5_UNPOL_proj_1 (Potential memory leak).\n"
       ]
      },
      {
       "output_type": "stream",
       "stream": "stderr",
       "text": [
        "INFO:ROOT.TCanvas.Print] png file /data/trivedia/e16/2pi/d2pi/obs_052115_no_pfid/siml/intg-eff_top1234/ceff_top1234_1.575-1.600_VST1.png has been created\n"
       ]
      },
      {
       "output_type": "stream",
       "stream": "stderr",
       "text": [
        "WARNING:ROOT.TCanvas.Constructor] Deleting canvas with same name: c\n"
       ]
      },
      {
       "output_type": "stream",
       "stream": "stdout",
       "text": [
        " 0\n",
        "iq2wbin="
       ]
      },
      {
       "output_type": "stream",
       "stream": "stderr",
       "text": [
        "WARNING:ROOT.TFile.Append] Replacing existing TH1: h5_UNPOL_proj_1 (Potential memory leak).\n"
       ]
      },
      {
       "output_type": "stream",
       "stream": "stderr",
       "text": [
        "WARNING:ROOT.TFile.Append] Replacing existing TH1: h5_UNPOL_proj_1 (Potential memory leak).\n"
       ]
      },
      {
       "output_type": "stream",
       "stream": "stderr",
       "text": [
        "INFO:ROOT.TCanvas.Print] png file /data/trivedia/e16/2pi/d2pi/obs_052115_no_pfid/siml/intg-eff_top1234/ceff_top1234_1.675-1.700_VST1.png has been created\n"
       ]
      },
      {
       "output_type": "stream",
       "stream": "stderr",
       "text": [
        "WARNING:ROOT.TCanvas.Constructor] Deleting canvas with same name: c\n"
       ]
      },
      {
       "output_type": "stream",
       "stream": "stdout",
       "text": [
        " 0\n",
        "iq2wbin="
       ]
      },
      {
       "output_type": "stream",
       "stream": "stderr",
       "text": [
        "WARNING:ROOT.TFile.Append] Replacing existing TH1: h5_UNPOL_proj_1 (Potential memory leak).\n"
       ]
      },
      {
       "output_type": "stream",
       "stream": "stderr",
       "text": [
        "WARNING:ROOT.TFile.Append] Replacing existing TH1: h5_UNPOL_proj_1 (Potential memory leak).\n"
       ]
      },
      {
       "output_type": "stream",
       "stream": "stderr",
       "text": [
        "INFO:ROOT.TCanvas.Print] png file /data/trivedia/e16/2pi/d2pi/obs_052115_no_pfid/siml/intg-eff_top1234/ceff_top1234_1.775-1.800_VST1.png has been created\n"
       ]
      },
      {
       "output_type": "stream",
       "stream": "stderr",
       "text": [
        "WARNING:ROOT.TCanvas.Constructor] Deleting canvas with same name: c\n"
       ]
      },
      {
       "output_type": "stream",
       "stream": "stdout",
       "text": [
        " 0\n",
        "iq2wbin="
       ]
      },
      {
       "output_type": "stream",
       "stream": "stderr",
       "text": [
        "WARNING:ROOT.TFile.Append] Replacing existing TH1: h5_UNPOL_proj_1 (Potential memory leak).\n"
       ]
      },
      {
       "output_type": "stream",
       "stream": "stderr",
       "text": [
        "WARNING:ROOT.TFile.Append] Replacing existing TH1: h5_UNPOL_proj_1 (Potential memory leak).\n"
       ]
      },
      {
       "output_type": "stream",
       "stream": "stderr",
       "text": [
        "INFO:ROOT.TCanvas.Print] png file /data/trivedia/e16/2pi/d2pi/obs_052115_no_pfid/siml/intg-eff_top1234/ceff_top1234_1.875-1.900_VST1.png has been created\n"
       ]
      },
      {
       "output_type": "stream",
       "stream": "stderr",
       "text": [
        "WARNING:ROOT.TCanvas.Constructor] Deleting canvas with same name: c\n"
       ]
      },
      {
       "output_type": "stream",
       "stream": "stdout",
       "text": [
        " 0\n",
        "iq2wbin="
       ]
      },
      {
       "output_type": "stream",
       "stream": "stderr",
       "text": [
        "WARNING:ROOT.TFile.Append] Replacing existing TH1: h5_UNPOL_proj_1 (Potential memory leak).\n"
       ]
      },
      {
       "output_type": "stream",
       "stream": "stderr",
       "text": [
        "WARNING:ROOT.TFile.Append] Replacing existing TH1: h5_UNPOL_proj_1 (Potential memory leak).\n"
       ]
      },
      {
       "output_type": "stream",
       "stream": "stderr",
       "text": [
        "INFO:ROOT.TCanvas.Print] png file /data/trivedia/e16/2pi/d2pi/obs_052115_no_pfid/siml/intg-eff_top1234/ceff_top1234_1.975-2.000_VST1.png has been created\n"
       ]
      },
      {
       "output_type": "stream",
       "stream": "stdout",
       "text": [
        " 0\n"
       ]
      }
     ],
     "prompt_number": 3
    },
    {
     "cell_type": "code",
     "collapsed": false,
     "input": [
      "t.plot_intg_acc(\"obs_052115_no_efid\",\"e16\",\"siml\",[2],[\"2.25-2.75\"])\n",
      "t.plot_intg_acc(\"obs_052115_no_efid\",\"e16\",\"siml\",[1,2],[\"2.25-2.75\"])\n",
      "t.plot_intg_acc(\"obs_052115_no_efid\",\"e16\",\"siml\",[1,2,3,4],[\"2.25-2.75\"])"
     ],
     "language": "python",
     "metadata": {},
     "outputs": [
      {
       "output_type": "stream",
       "stream": "stderr",
       "text": [
        "WARNING:ROOT.TFile.Append] Replacing existing TH1: h5_UNPOL_proj_1 (Potential memory leak).\n"
       ]
      },
      {
       "output_type": "stream",
       "stream": "stderr",
       "text": [
        "INFO:ROOT.TCanvas.Print] png file /data/trivedia/e16/2pi/d2pi/obs_052115_no_efid/siml/intg-eff_top2/ceff_top2_1.575-1.600_VST1.png has been created\n"
       ]
      },
      {
       "output_type": "stream",
       "stream": "stderr",
       "text": [
        "WARNING:ROOT.TCanvas.Constructor] Deleting canvas with same name: c\n"
       ]
      },
      {
       "output_type": "stream",
       "stream": "stdout",
       "text": [
        "iq2wbin= 0\n",
        "iq2wbin="
       ]
      },
      {
       "output_type": "stream",
       "stream": "stderr",
       "text": [
        "WARNING:ROOT.TFile.Append] Replacing existing TH1: h5_UNPOL_proj_1 (Potential memory leak).\n"
       ]
      },
      {
       "output_type": "stream",
       "stream": "stderr",
       "text": [
        "WARNING:ROOT.TFile.Append] Replacing existing TH1: h5_UNPOL_proj_1 (Potential memory leak).\n"
       ]
      },
      {
       "output_type": "stream",
       "stream": "stderr",
       "text": [
        "INFO:ROOT.TCanvas.Print] png file /data/trivedia/e16/2pi/d2pi/obs_052115_no_efid/siml/intg-eff_top2/ceff_top2_1.675-1.700_VST1.png has been created\n"
       ]
      },
      {
       "output_type": "stream",
       "stream": "stderr",
       "text": [
        "WARNING:ROOT.TCanvas.Constructor] Deleting canvas with same name: c\n"
       ]
      },
      {
       "output_type": "stream",
       "stream": "stdout",
       "text": [
        " 0\n",
        "iq2wbin="
       ]
      },
      {
       "output_type": "stream",
       "stream": "stderr",
       "text": [
        "WARNING:ROOT.TFile.Append] Replacing existing TH1: h5_UNPOL_proj_1 (Potential memory leak).\n"
       ]
      },
      {
       "output_type": "stream",
       "stream": "stderr",
       "text": [
        "WARNING:ROOT.TFile.Append] Replacing existing TH1: h5_UNPOL_proj_1 (Potential memory leak).\n"
       ]
      },
      {
       "output_type": "stream",
       "stream": "stderr",
       "text": [
        "INFO:ROOT.TCanvas.Print] png file /data/trivedia/e16/2pi/d2pi/obs_052115_no_efid/siml/intg-eff_top2/ceff_top2_1.775-1.800_VST1.png has been created\n"
       ]
      },
      {
       "output_type": "stream",
       "stream": "stderr",
       "text": [
        "WARNING:ROOT.TCanvas.Constructor] Deleting canvas with same name: c\n"
       ]
      },
      {
       "output_type": "stream",
       "stream": "stdout",
       "text": [
        " 0\n",
        "iq2wbin="
       ]
      },
      {
       "output_type": "stream",
       "stream": "stderr",
       "text": [
        "WARNING:ROOT.TFile.Append] Replacing existing TH1: h5_UNPOL_proj_1 (Potential memory leak).\n"
       ]
      },
      {
       "output_type": "stream",
       "stream": "stderr",
       "text": [
        "WARNING:ROOT.TFile.Append] Replacing existing TH1: h5_UNPOL_proj_1 (Potential memory leak).\n"
       ]
      },
      {
       "output_type": "stream",
       "stream": "stderr",
       "text": [
        "INFO:ROOT.TCanvas.Print] png file /data/trivedia/e16/2pi/d2pi/obs_052115_no_efid/siml/intg-eff_top2/ceff_top2_1.875-1.900_VST1.png has been created\n"
       ]
      },
      {
       "output_type": "stream",
       "stream": "stderr",
       "text": [
        "WARNING:ROOT.TCanvas.Constructor] Deleting canvas with same name: c\n"
       ]
      },
      {
       "output_type": "stream",
       "stream": "stdout",
       "text": [
        " 0\n",
        "iq2wbin="
       ]
      },
      {
       "output_type": "stream",
       "stream": "stderr",
       "text": [
        "WARNING:ROOT.TFile.Append] Replacing existing TH1: h5_UNPOL_proj_1 (Potential memory leak).\n"
       ]
      },
      {
       "output_type": "stream",
       "stream": "stderr",
       "text": [
        "WARNING:ROOT.TFile.Append] Replacing existing TH1: h5_UNPOL_proj_1 (Potential memory leak).\n"
       ]
      },
      {
       "output_type": "stream",
       "stream": "stderr",
       "text": [
        "INFO:ROOT.TCanvas.Print] png file /data/trivedia/e16/2pi/d2pi/obs_052115_no_efid/siml/intg-eff_top2/ceff_top2_1.975-2.000_VST1.png has been created\n"
       ]
      },
      {
       "output_type": "stream",
       "stream": "stdout",
       "text": [
        " 0\n",
        "iq2wbin="
       ]
      },
      {
       "output_type": "stream",
       "stream": "stderr",
       "text": [
        "WARNING:ROOT.TFile.Append] Replacing existing TH1: h5_UNPOL_proj_1 (Potential memory leak).\n"
       ]
      },
      {
       "output_type": "stream",
       "stream": "stderr",
       "text": [
        "INFO:ROOT.TCanvas.Print] png file /data/trivedia/e16/2pi/d2pi/obs_052115_no_efid/siml/intg-eff_top12/ceff_top12_1.575-1.600_VST1.png has been created\n"
       ]
      },
      {
       "output_type": "stream",
       "stream": "stderr",
       "text": [
        "WARNING:ROOT.TCanvas.Constructor] Deleting canvas with same name: c\n"
       ]
      },
      {
       "output_type": "stream",
       "stream": "stdout",
       "text": [
        " 0\n",
        "iq2wbin="
       ]
      },
      {
       "output_type": "stream",
       "stream": "stderr",
       "text": [
        "WARNING:ROOT.TFile.Append] Replacing existing TH1: h5_UNPOL_proj_1 (Potential memory leak).\n"
       ]
      },
      {
       "output_type": "stream",
       "stream": "stderr",
       "text": [
        "WARNING:ROOT.TFile.Append] Replacing existing TH1: h5_UNPOL_proj_1 (Potential memory leak).\n"
       ]
      },
      {
       "output_type": "stream",
       "stream": "stderr",
       "text": [
        "INFO:ROOT.TCanvas.Print] png file /data/trivedia/e16/2pi/d2pi/obs_052115_no_efid/siml/intg-eff_top12/ceff_top12_1.675-1.700_VST1.png has been created\n"
       ]
      },
      {
       "output_type": "stream",
       "stream": "stderr",
       "text": [
        "WARNING:ROOT.TCanvas.Constructor] Deleting canvas with same name: c\n"
       ]
      },
      {
       "output_type": "stream",
       "stream": "stdout",
       "text": [
        " 0\n",
        "iq2wbin="
       ]
      },
      {
       "output_type": "stream",
       "stream": "stderr",
       "text": [
        "WARNING:ROOT.TFile.Append] Replacing existing TH1: h5_UNPOL_proj_1 (Potential memory leak).\n"
       ]
      },
      {
       "output_type": "stream",
       "stream": "stderr",
       "text": [
        "WARNING:ROOT.TFile.Append] Replacing existing TH1: h5_UNPOL_proj_1 (Potential memory leak).\n"
       ]
      },
      {
       "output_type": "stream",
       "stream": "stderr",
       "text": [
        "INFO:ROOT.TCanvas.Print] png file /data/trivedia/e16/2pi/d2pi/obs_052115_no_efid/siml/intg-eff_top12/ceff_top12_1.775-1.800_VST1.png has been created\n"
       ]
      },
      {
       "output_type": "stream",
       "stream": "stderr",
       "text": [
        "WARNING:ROOT.TCanvas.Constructor] Deleting canvas with same name: c\n"
       ]
      },
      {
       "output_type": "stream",
       "stream": "stdout",
       "text": [
        " 0\n",
        "iq2wbin="
       ]
      },
      {
       "output_type": "stream",
       "stream": "stderr",
       "text": [
        "WARNING:ROOT.TFile.Append] Replacing existing TH1: h5_UNPOL_proj_1 (Potential memory leak).\n"
       ]
      },
      {
       "output_type": "stream",
       "stream": "stderr",
       "text": [
        "WARNING:ROOT.TFile.Append] Replacing existing TH1: h5_UNPOL_proj_1 (Potential memory leak).\n"
       ]
      },
      {
       "output_type": "stream",
       "stream": "stderr",
       "text": [
        "INFO:ROOT.TCanvas.Print] png file /data/trivedia/e16/2pi/d2pi/obs_052115_no_efid/siml/intg-eff_top12/ceff_top12_1.875-1.900_VST1.png has been created\n"
       ]
      },
      {
       "output_type": "stream",
       "stream": "stderr",
       "text": [
        "WARNING:ROOT.TCanvas.Constructor] Deleting canvas with same name: c\n"
       ]
      },
      {
       "output_type": "stream",
       "stream": "stdout",
       "text": [
        " 0\n",
        "iq2wbin="
       ]
      },
      {
       "output_type": "stream",
       "stream": "stderr",
       "text": [
        "WARNING:ROOT.TFile.Append] Replacing existing TH1: h5_UNPOL_proj_1 (Potential memory leak).\n"
       ]
      },
      {
       "output_type": "stream",
       "stream": "stderr",
       "text": [
        "WARNING:ROOT.TFile.Append] Replacing existing TH1: h5_UNPOL_proj_1 (Potential memory leak).\n"
       ]
      },
      {
       "output_type": "stream",
       "stream": "stderr",
       "text": [
        "INFO:ROOT.TCanvas.Print] png file /data/trivedia/e16/2pi/d2pi/obs_052115_no_efid/siml/intg-eff_top12/ceff_top12_1.975-2.000_VST1.png has been created\n"
       ]
      },
      {
       "output_type": "stream",
       "stream": "stdout",
       "text": [
        " 0\n",
        "iq2wbin="
       ]
      },
      {
       "output_type": "stream",
       "stream": "stderr",
       "text": [
        "WARNING:ROOT.TFile.Append] Replacing existing TH1: h5_UNPOL_proj_1 (Potential memory leak).\n"
       ]
      },
      {
       "output_type": "stream",
       "stream": "stderr",
       "text": [
        "INFO:ROOT.TCanvas.Print] png file /data/trivedia/e16/2pi/d2pi/obs_052115_no_efid/siml/intg-eff_top1234/ceff_top1234_1.575-1.600_VST1.png has been created\n"
       ]
      },
      {
       "output_type": "stream",
       "stream": "stderr",
       "text": [
        "WARNING:ROOT.TCanvas.Constructor] Deleting canvas with same name: c\n"
       ]
      },
      {
       "output_type": "stream",
       "stream": "stdout",
       "text": [
        " 0\n",
        "iq2wbin="
       ]
      },
      {
       "output_type": "stream",
       "stream": "stderr",
       "text": [
        "WARNING:ROOT.TFile.Append] Replacing existing TH1: h5_UNPOL_proj_1 (Potential memory leak).\n"
       ]
      },
      {
       "output_type": "stream",
       "stream": "stderr",
       "text": [
        "WARNING:ROOT.TFile.Append] Replacing existing TH1: h5_UNPOL_proj_1 (Potential memory leak).\n"
       ]
      },
      {
       "output_type": "stream",
       "stream": "stderr",
       "text": [
        "INFO:ROOT.TCanvas.Print] png file /data/trivedia/e16/2pi/d2pi/obs_052115_no_efid/siml/intg-eff_top1234/ceff_top1234_1.675-1.700_VST1.png has been created\n"
       ]
      },
      {
       "output_type": "stream",
       "stream": "stderr",
       "text": [
        "WARNING:ROOT.TCanvas.Constructor] Deleting canvas with same name: c\n"
       ]
      },
      {
       "output_type": "stream",
       "stream": "stdout",
       "text": [
        " 0\n",
        "iq2wbin="
       ]
      },
      {
       "output_type": "stream",
       "stream": "stderr",
       "text": [
        "WARNING:ROOT.TFile.Append] Replacing existing TH1: h5_UNPOL_proj_1 (Potential memory leak).\n"
       ]
      },
      {
       "output_type": "stream",
       "stream": "stderr",
       "text": [
        "WARNING:ROOT.TFile.Append] Replacing existing TH1: h5_UNPOL_proj_1 (Potential memory leak).\n"
       ]
      },
      {
       "output_type": "stream",
       "stream": "stderr",
       "text": [
        "INFO:ROOT.TCanvas.Print] png file /data/trivedia/e16/2pi/d2pi/obs_052115_no_efid/siml/intg-eff_top1234/ceff_top1234_1.775-1.800_VST1.png has been created\n"
       ]
      },
      {
       "output_type": "stream",
       "stream": "stderr",
       "text": [
        "WARNING:ROOT.TCanvas.Constructor] Deleting canvas with same name: c\n"
       ]
      },
      {
       "output_type": "stream",
       "stream": "stdout",
       "text": [
        " 0\n",
        "iq2wbin="
       ]
      },
      {
       "output_type": "stream",
       "stream": "stderr",
       "text": [
        "WARNING:ROOT.TFile.Append] Replacing existing TH1: h5_UNPOL_proj_1 (Potential memory leak).\n"
       ]
      },
      {
       "output_type": "stream",
       "stream": "stderr",
       "text": [
        "WARNING:ROOT.TFile.Append] Replacing existing TH1: h5_UNPOL_proj_1 (Potential memory leak).\n"
       ]
      },
      {
       "output_type": "stream",
       "stream": "stderr",
       "text": [
        "INFO:ROOT.TCanvas.Print] png file /data/trivedia/e16/2pi/d2pi/obs_052115_no_efid/siml/intg-eff_top1234/ceff_top1234_1.875-1.900_VST1.png has been created\n"
       ]
      },
      {
       "output_type": "stream",
       "stream": "stderr",
       "text": [
        "WARNING:ROOT.TCanvas.Constructor] Deleting canvas with same name: c\n"
       ]
      },
      {
       "output_type": "stream",
       "stream": "stdout",
       "text": [
        " 0\n",
        "iq2wbin="
       ]
      },
      {
       "output_type": "stream",
       "stream": "stderr",
       "text": [
        "WARNING:ROOT.TFile.Append] Replacing existing TH1: h5_UNPOL_proj_1 (Potential memory leak).\n"
       ]
      },
      {
       "output_type": "stream",
       "stream": "stderr",
       "text": [
        "WARNING:ROOT.TFile.Append] Replacing existing TH1: h5_UNPOL_proj_1 (Potential memory leak).\n"
       ]
      },
      {
       "output_type": "stream",
       "stream": "stderr",
       "text": [
        "INFO:ROOT.TCanvas.Print] png file /data/trivedia/e16/2pi/d2pi/obs_052115_no_efid/siml/intg-eff_top1234/ceff_top1234_1.975-2.000_VST1.png has been created\n"
       ]
      },
      {
       "output_type": "stream",
       "stream": "stdout",
       "text": [
        " 0\n"
       ]
      }
     ],
     "prompt_number": 4
    },
    {
     "cell_type": "code",
     "collapsed": false,
     "input": [
      "t.plot_intg_acc(\"obs_052115_no_efid_pfid\",\"e16\",\"siml\",[2],[\"2.25-2.75\"])\n",
      "t.plot_intg_acc(\"obs_052115_no_efid_pfid\",\"e16\",\"siml\",[1,2],[\"2.25-2.75\"])\n",
      "t.plot_intg_acc(\"obs_052115_no_efid_pfid\",\"e16\",\"siml\",[1,2,3,4],[\"2.25-2.75\"])"
     ],
     "language": "python",
     "metadata": {},
     "outputs": [
      {
       "output_type": "stream",
       "stream": "stderr",
       "text": [
        "WARNING:ROOT.TFile.Append] Replacing existing TH1: h5_UNPOL_proj_1 (Potential memory leak).\n"
       ]
      },
      {
       "output_type": "stream",
       "stream": "stderr",
       "text": [
        "INFO:ROOT.TCanvas.Print] png file /data/trivedia/e16/2pi/d2pi/obs_052115_no_efid_pfid/siml/intg-eff_top2/ceff_top2_1.575-1.600_VST1.png has been created\n"
       ]
      },
      {
       "output_type": "stream",
       "stream": "stderr",
       "text": [
        "WARNING:ROOT.TCanvas.Constructor] Deleting canvas with same name: c\n"
       ]
      },
      {
       "output_type": "stream",
       "stream": "stdout",
       "text": [
        "iq2wbin= 0\n",
        "iq2wbin="
       ]
      },
      {
       "output_type": "stream",
       "stream": "stderr",
       "text": [
        "WARNING:ROOT.TFile.Append] Replacing existing TH1: h5_UNPOL_proj_1 (Potential memory leak).\n"
       ]
      },
      {
       "output_type": "stream",
       "stream": "stderr",
       "text": [
        "WARNING:ROOT.TFile.Append] Replacing existing TH1: h5_UNPOL_proj_1 (Potential memory leak).\n"
       ]
      },
      {
       "output_type": "stream",
       "stream": "stderr",
       "text": [
        "INFO:ROOT.TCanvas.Print] png file /data/trivedia/e16/2pi/d2pi/obs_052115_no_efid_pfid/siml/intg-eff_top2/ceff_top2_1.675-1.700_VST1.png has been created\n"
       ]
      },
      {
       "output_type": "stream",
       "stream": "stderr",
       "text": [
        "WARNING:ROOT.TCanvas.Constructor] Deleting canvas with same name: c\n"
       ]
      },
      {
       "output_type": "stream",
       "stream": "stdout",
       "text": [
        " 0\n",
        "iq2wbin="
       ]
      },
      {
       "output_type": "stream",
       "stream": "stderr",
       "text": [
        "WARNING:ROOT.TFile.Append] Replacing existing TH1: h5_UNPOL_proj_1 (Potential memory leak).\n"
       ]
      },
      {
       "output_type": "stream",
       "stream": "stderr",
       "text": [
        "WARNING:ROOT.TFile.Append] Replacing existing TH1: h5_UNPOL_proj_1 (Potential memory leak).\n"
       ]
      },
      {
       "output_type": "stream",
       "stream": "stderr",
       "text": [
        "INFO:ROOT.TCanvas.Print] png file /data/trivedia/e16/2pi/d2pi/obs_052115_no_efid_pfid/siml/intg-eff_top2/ceff_top2_1.775-1.800_VST1.png has been created\n"
       ]
      },
      {
       "output_type": "stream",
       "stream": "stderr",
       "text": [
        "WARNING:ROOT.TCanvas.Constructor] Deleting canvas with same name: c\n"
       ]
      },
      {
       "output_type": "stream",
       "stream": "stdout",
       "text": [
        " 0\n",
        "iq2wbin="
       ]
      },
      {
       "output_type": "stream",
       "stream": "stderr",
       "text": [
        "WARNING:ROOT.TFile.Append] Replacing existing TH1: h5_UNPOL_proj_1 (Potential memory leak).\n"
       ]
      },
      {
       "output_type": "stream",
       "stream": "stderr",
       "text": [
        "WARNING:ROOT.TFile.Append] Replacing existing TH1: h5_UNPOL_proj_1 (Potential memory leak).\n"
       ]
      },
      {
       "output_type": "stream",
       "stream": "stderr",
       "text": [
        "INFO:ROOT.TCanvas.Print] png file /data/trivedia/e16/2pi/d2pi/obs_052115_no_efid_pfid/siml/intg-eff_top2/ceff_top2_1.875-1.900_VST1.png has been created\n"
       ]
      },
      {
       "output_type": "stream",
       "stream": "stderr",
       "text": [
        "WARNING:ROOT.TCanvas.Constructor] Deleting canvas with same name: c\n"
       ]
      },
      {
       "output_type": "stream",
       "stream": "stdout",
       "text": [
        " 0\n",
        "iq2wbin="
       ]
      },
      {
       "output_type": "stream",
       "stream": "stderr",
       "text": [
        "WARNING:ROOT.TFile.Append] Replacing existing TH1: h5_UNPOL_proj_1 (Potential memory leak).\n"
       ]
      },
      {
       "output_type": "stream",
       "stream": "stderr",
       "text": [
        "WARNING:ROOT.TFile.Append] Replacing existing TH1: h5_UNPOL_proj_1 (Potential memory leak).\n"
       ]
      },
      {
       "output_type": "stream",
       "stream": "stderr",
       "text": [
        "INFO:ROOT.TCanvas.Print] png file /data/trivedia/e16/2pi/d2pi/obs_052115_no_efid_pfid/siml/intg-eff_top2/ceff_top2_1.975-2.000_VST1.png has been created\n"
       ]
      },
      {
       "output_type": "stream",
       "stream": "stdout",
       "text": [
        " 0\n",
        "iq2wbin="
       ]
      },
      {
       "output_type": "stream",
       "stream": "stderr",
       "text": [
        "WARNING:ROOT.TFile.Append] Replacing existing TH1: h5_UNPOL_proj_1 (Potential memory leak).\n"
       ]
      },
      {
       "output_type": "stream",
       "stream": "stderr",
       "text": [
        "INFO:ROOT.TCanvas.Print] png file /data/trivedia/e16/2pi/d2pi/obs_052115_no_efid_pfid/siml/intg-eff_top12/ceff_top12_1.575-1.600_VST1.png has been created\n"
       ]
      },
      {
       "output_type": "stream",
       "stream": "stderr",
       "text": [
        "WARNING:ROOT.TCanvas.Constructor] Deleting canvas with same name: c\n"
       ]
      },
      {
       "output_type": "stream",
       "stream": "stdout",
       "text": [
        " 0\n",
        "iq2wbin="
       ]
      },
      {
       "output_type": "stream",
       "stream": "stderr",
       "text": [
        "WARNING:ROOT.TFile.Append] Replacing existing TH1: h5_UNPOL_proj_1 (Potential memory leak).\n"
       ]
      },
      {
       "output_type": "stream",
       "stream": "stderr",
       "text": [
        "WARNING:ROOT.TFile.Append] Replacing existing TH1: h5_UNPOL_proj_1 (Potential memory leak).\n"
       ]
      },
      {
       "output_type": "stream",
       "stream": "stderr",
       "text": [
        "INFO:ROOT.TCanvas.Print] png file /data/trivedia/e16/2pi/d2pi/obs_052115_no_efid_pfid/siml/intg-eff_top12/ceff_top12_1.675-1.700_VST1.png has been created\n"
       ]
      },
      {
       "output_type": "stream",
       "stream": "stderr",
       "text": [
        "WARNING:ROOT.TCanvas.Constructor] Deleting canvas with same name: c\n"
       ]
      },
      {
       "output_type": "stream",
       "stream": "stdout",
       "text": [
        " 0\n",
        "iq2wbin="
       ]
      },
      {
       "output_type": "stream",
       "stream": "stderr",
       "text": [
        "WARNING:ROOT.TFile.Append] Replacing existing TH1: h5_UNPOL_proj_1 (Potential memory leak).\n"
       ]
      },
      {
       "output_type": "stream",
       "stream": "stderr",
       "text": [
        "WARNING:ROOT.TFile.Append] Replacing existing TH1: h5_UNPOL_proj_1 (Potential memory leak).\n"
       ]
      },
      {
       "output_type": "stream",
       "stream": "stderr",
       "text": [
        "INFO:ROOT.TCanvas.Print] png file /data/trivedia/e16/2pi/d2pi/obs_052115_no_efid_pfid/siml/intg-eff_top12/ceff_top12_1.775-1.800_VST1.png has been created\n"
       ]
      },
      {
       "output_type": "stream",
       "stream": "stderr",
       "text": [
        "WARNING:ROOT.TCanvas.Constructor] Deleting canvas with same name: c\n"
       ]
      },
      {
       "output_type": "stream",
       "stream": "stdout",
       "text": [
        " 0\n",
        "iq2wbin="
       ]
      },
      {
       "output_type": "stream",
       "stream": "stderr",
       "text": [
        "WARNING:ROOT.TFile.Append] Replacing existing TH1: h5_UNPOL_proj_1 (Potential memory leak).\n"
       ]
      },
      {
       "output_type": "stream",
       "stream": "stderr",
       "text": [
        "WARNING:ROOT.TFile.Append] Replacing existing TH1: h5_UNPOL_proj_1 (Potential memory leak).\n"
       ]
      },
      {
       "output_type": "stream",
       "stream": "stderr",
       "text": [
        "INFO:ROOT.TCanvas.Print] png file /data/trivedia/e16/2pi/d2pi/obs_052115_no_efid_pfid/siml/intg-eff_top12/ceff_top12_1.875-1.900_VST1.png has been created\n"
       ]
      },
      {
       "output_type": "stream",
       "stream": "stderr",
       "text": [
        "WARNING:ROOT.TCanvas.Constructor] Deleting canvas with same name: c\n"
       ]
      },
      {
       "output_type": "stream",
       "stream": "stdout",
       "text": [
        " 0\n",
        "iq2wbin="
       ]
      },
      {
       "output_type": "stream",
       "stream": "stderr",
       "text": [
        "WARNING:ROOT.TFile.Append] Replacing existing TH1: h5_UNPOL_proj_1 (Potential memory leak).\n"
       ]
      },
      {
       "output_type": "stream",
       "stream": "stderr",
       "text": [
        "WARNING:ROOT.TFile.Append] Replacing existing TH1: h5_UNPOL_proj_1 (Potential memory leak).\n"
       ]
      },
      {
       "output_type": "stream",
       "stream": "stderr",
       "text": [
        "INFO:ROOT.TCanvas.Print] png file /data/trivedia/e16/2pi/d2pi/obs_052115_no_efid_pfid/siml/intg-eff_top12/ceff_top12_1.975-2.000_VST1.png has been created\n"
       ]
      },
      {
       "output_type": "stream",
       "stream": "stdout",
       "text": [
        " 0\n",
        "iq2wbin="
       ]
      },
      {
       "output_type": "stream",
       "stream": "stderr",
       "text": [
        "WARNING:ROOT.TFile.Append] Replacing existing TH1: h5_UNPOL_proj_1 (Potential memory leak).\n"
       ]
      },
      {
       "output_type": "stream",
       "stream": "stderr",
       "text": [
        "INFO:ROOT.TCanvas.Print] png file /data/trivedia/e16/2pi/d2pi/obs_052115_no_efid_pfid/siml/intg-eff_top1234/ceff_top1234_1.575-1.600_VST1.png has been created\n"
       ]
      },
      {
       "output_type": "stream",
       "stream": "stderr",
       "text": [
        "WARNING:ROOT.TCanvas.Constructor] Deleting canvas with same name: c\n"
       ]
      },
      {
       "output_type": "stream",
       "stream": "stdout",
       "text": [
        " 0\n",
        "iq2wbin="
       ]
      },
      {
       "output_type": "stream",
       "stream": "stderr",
       "text": [
        "WARNING:ROOT.TFile.Append] Replacing existing TH1: h5_UNPOL_proj_1 (Potential memory leak).\n"
       ]
      },
      {
       "output_type": "stream",
       "stream": "stderr",
       "text": [
        "WARNING:ROOT.TFile.Append] Replacing existing TH1: h5_UNPOL_proj_1 (Potential memory leak).\n"
       ]
      },
      {
       "output_type": "stream",
       "stream": "stderr",
       "text": [
        "INFO:ROOT.TCanvas.Print] png file /data/trivedia/e16/2pi/d2pi/obs_052115_no_efid_pfid/siml/intg-eff_top1234/ceff_top1234_1.675-1.700_VST1.png has been created\n"
       ]
      },
      {
       "output_type": "stream",
       "stream": "stderr",
       "text": [
        "WARNING:ROOT.TCanvas.Constructor] Deleting canvas with same name: c\n"
       ]
      },
      {
       "output_type": "stream",
       "stream": "stdout",
       "text": [
        " 0\n",
        "iq2wbin="
       ]
      },
      {
       "output_type": "stream",
       "stream": "stderr",
       "text": [
        "WARNING:ROOT.TFile.Append] Replacing existing TH1: h5_UNPOL_proj_1 (Potential memory leak).\n"
       ]
      },
      {
       "output_type": "stream",
       "stream": "stderr",
       "text": [
        "WARNING:ROOT.TFile.Append] Replacing existing TH1: h5_UNPOL_proj_1 (Potential memory leak).\n"
       ]
      },
      {
       "output_type": "stream",
       "stream": "stderr",
       "text": [
        "INFO:ROOT.TCanvas.Print] png file /data/trivedia/e16/2pi/d2pi/obs_052115_no_efid_pfid/siml/intg-eff_top1234/ceff_top1234_1.775-1.800_VST1.png has been created\n"
       ]
      },
      {
       "output_type": "stream",
       "stream": "stderr",
       "text": [
        "WARNING:ROOT.TCanvas.Constructor] Deleting canvas with same name: c\n"
       ]
      },
      {
       "output_type": "stream",
       "stream": "stdout",
       "text": [
        " 0\n",
        "iq2wbin="
       ]
      },
      {
       "output_type": "stream",
       "stream": "stderr",
       "text": [
        "WARNING:ROOT.TFile.Append] Replacing existing TH1: h5_UNPOL_proj_1 (Potential memory leak).\n"
       ]
      },
      {
       "output_type": "stream",
       "stream": "stderr",
       "text": [
        "WARNING:ROOT.TFile.Append] Replacing existing TH1: h5_UNPOL_proj_1 (Potential memory leak).\n"
       ]
      },
      {
       "output_type": "stream",
       "stream": "stderr",
       "text": [
        "INFO:ROOT.TCanvas.Print] png file /data/trivedia/e16/2pi/d2pi/obs_052115_no_efid_pfid/siml/intg-eff_top1234/ceff_top1234_1.875-1.900_VST1.png has been created\n"
       ]
      },
      {
       "output_type": "stream",
       "stream": "stderr",
       "text": [
        "WARNING:ROOT.TCanvas.Constructor] Deleting canvas with same name: c\n"
       ]
      },
      {
       "output_type": "stream",
       "stream": "stdout",
       "text": [
        " 0\n",
        "iq2wbin="
       ]
      },
      {
       "output_type": "stream",
       "stream": "stderr",
       "text": [
        "WARNING:ROOT.TFile.Append] Replacing existing TH1: h5_UNPOL_proj_1 (Potential memory leak).\n"
       ]
      },
      {
       "output_type": "stream",
       "stream": "stderr",
       "text": [
        "WARNING:ROOT.TFile.Append] Replacing existing TH1: h5_UNPOL_proj_1 (Potential memory leak).\n"
       ]
      },
      {
       "output_type": "stream",
       "stream": "stderr",
       "text": [
        "INFO:ROOT.TCanvas.Print] png file /data/trivedia/e16/2pi/d2pi/obs_052115_no_efid_pfid/siml/intg-eff_top1234/ceff_top1234_1.975-2.000_VST1.png has been created\n"
       ]
      },
      {
       "output_type": "stream",
       "stream": "stdout",
       "text": [
        " 0\n"
       ]
      }
     ],
     "prompt_number": 5
    },
    {
     "cell_type": "code",
     "collapsed": false,
     "input": [],
     "language": "python",
     "metadata": {},
     "outputs": []
    }
   ],
   "metadata": {}
  }
 ]
}