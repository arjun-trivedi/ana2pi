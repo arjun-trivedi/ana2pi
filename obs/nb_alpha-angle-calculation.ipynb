{
 "metadata": {
  "name": ""
 },
 "nbformat": 3,
 "nbformat_minor": 0,
 "worksheets": [
  {
   "cells": [
    {
     "cell_type": "code",
     "collapsed": false,
     "input": [
      "from __future__ import division"
     ],
     "language": "python",
     "metadata": {},
     "outputs": [],
     "prompt_number": 21
    },
    {
     "cell_type": "code",
     "collapsed": false,
     "input": [
      "b=ROOT.TVector3(1,0,0)\n",
      "m=1/ROOT.TMath.Sqrt(2)\n",
      "a1=ROOT.TVector3(m,m,0)\n",
      "a2=ROOT.TVector3(-m,m,0)\n",
      "a3=ROOT.TVector3(-m,-m,0)\n",
      "a4=ROOT.TVector3(m,-m,0)\n",
      "print ROOT.TMath.ACos(b.Dot(a1))*ROOT.TMath.RadToDeg(),b.Cross(a1).Mag()\n",
      "print ROOT.TMath.ACos(b.Dot(a2))*ROOT.TMath.RadToDeg(),b.Cross(a2).Mag()\n",
      "print ROOT.TMath.ACos(b.Dot(a3))*ROOT.TMath.RadToDeg(),b.Cross(a3).Mag()\n",
      "print ROOT.TMath.ACos(b.Dot(a4))*ROOT.TMath.RadToDeg(),b.Cross(a4).Mag()"
     ],
     "language": "python",
     "metadata": {},
     "outputs": [
      {
       "output_type": "stream",
       "stream": "stdout",
       "text": [
        "45.0 0.707106781187\n",
        "135.0 0.707106781187\n",
        "135.0 0.707106781187\n",
        "45.0 0.707106781187\n"
       ]
      }
     ],
     "prompt_number": 11
    },
    {
     "cell_type": "code",
     "collapsed": false,
     "input": [
      "print b.Angle(a1)*ROOT.TMath.RadToDeg()\n",
      "print b.Angle(a2)*ROOT.TMath.RadToDeg()\n",
      "print b.Angle(a3)*ROOT.TMath.RadToDeg()\n",
      "print b.Angle(a4)*ROOT.TMath.RadToDeg()"
     ],
     "language": "python",
     "metadata": {},
     "outputs": [
      {
       "output_type": "stream",
       "stream": "stdout",
       "text": [
        "45.0\n",
        "135.0\n",
        "135.0\n",
        "45.0\n"
       ]
      }
     ],
     "prompt_number": 12
    },
    {
     "cell_type": "code",
     "collapsed": false,
     "input": [
      "print rad2deg(math.atan2(b.Cross(a1).Mag()/(b.Mag()*a1.Mag()),b.Dot(a1)))\n",
      "print rad2deg(math.atan2(b.Cross(a2).Mag()/(b.Mag()*a2.Mag()),b.Dot(a2)))\n",
      "print rad2deg(math.atan2(-b.Cross(a3).Mag()/(b.Mag()*a3.Mag()),b.Dot(a3))) \n",
      "print rad2deg(math.atan2(-b.Cross(a4).Mag()/(b.Mag()*a4.Mag()),b.Dot(a4))) "
     ],
     "language": "python",
     "metadata": {},
     "outputs": [
      {
       "output_type": "stream",
       "stream": "stdout",
       "text": [
        "45.0\n",
        "135.0\n",
        "-135.0\n",
        "-45.0\n"
       ]
      }
     ],
     "prompt_number": 16
    }
   ],
   "metadata": {}
  }
 ]
}