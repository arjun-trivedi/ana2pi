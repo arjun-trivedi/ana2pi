{
 "metadata": {
  "name": ""
 },
 "nbformat": 3,
 "nbformat_minor": 0,
 "worksheets": [
  {
   "cells": [
    {
     "cell_type": "code",
     "collapsed": false,
     "input": [
      "from __future__ import division"
     ],
     "language": "python",
     "metadata": {},
     "outputs": [],
     "prompt_number": 21
    },
    {
     "cell_type": "code",
     "collapsed": false,
     "input": [
      "print math.degrees(math.acos(1))\n",
      "print math.degrees(math.acos(-1))\n",
      "print math.degrees(math.acos(0))"
     ],
     "language": "python",
     "metadata": {},
     "outputs": [
      {
       "output_type": "stream",
       "stream": "stdout",
       "text": [
        "0.0\n",
        "180.0\n",
        "90.0\n"
       ]
      }
     ],
     "prompt_number": 30
    },
    {
     "cell_type": "code",
     "collapsed": false,
     "input": [
      "b=ROOT.TVector3(1,0,0)\n",
      "a=ROOT.TVector3(0,1,0)\n",
      "print a.Dot(b)"
     ],
     "language": "python",
     "metadata": {},
     "outputs": [
      {
       "output_type": "stream",
       "stream": "stdout",
       "text": [
        "0.0\n"
       ]
      }
     ],
     "prompt_number": 33
    },
    {
     "cell_type": "code",
     "collapsed": false,
     "input": [
      "c=ROOT.TVector3(1/ROOT.TMath.Sqrt(2),1/ROOT.TMath.Sqrt(2),0)\n",
      "print c.Mag()"
     ],
     "language": "python",
     "metadata": {},
     "outputs": [
      {
       "output_type": "stream",
       "stream": "stdout",
       "text": [
        "1.0\n"
       ]
      }
     ],
     "prompt_number": 40
    },
    {
     "cell_type": "code",
     "collapsed": false,
     "input": [
      "m=1/ROOT.TMath.Sqrt(2)\n",
      "a1=ROOT.TVector3(m,m,0)\n",
      "a2=ROOT.TVector3(-m,m,0)\n",
      "a3=ROOT.TVector3(-m,-m,0)\n",
      "print ROOT.TMath.ACos(b.Dot(a1))*ROOT.TMath.RadToDeg(),b.Cross(a1).Mag()\n",
      "print ROOT.TMath.ACos(b.Dot(a2))*ROOT.TMath.RadToDeg(),b.Cross(a2).Mag()\n",
      "print ROOT.TMath.ACos(b.Dot(a3))*ROOT.TMath.RadToDeg(),b.Cross(a3).Mag()"
     ],
     "language": "python",
     "metadata": {},
     "outputs": [
      {
       "output_type": "stream",
       "stream": "stdout",
       "text": [
        "45.0 0.707106781187\n",
        "135.0 0.707106781187\n",
        "135.0 0.707106781187\n"
       ]
      }
     ],
     "prompt_number": 57
    },
    {
     "cell_type": "code",
     "collapsed": false,
     "input": [
      "b.Cross(a1).Cross(a1).Mag()"
     ],
     "language": "python",
     "metadata": {},
     "outputs": [
      {
       "metadata": {},
       "output_type": "pyout",
       "prompt_number": 61,
       "text": [
        "0.7071067811865474"
       ]
      }
     ],
     "prompt_number": 61
    },
    {
     "cell_type": "code",
     "collapsed": false,
     "input": [
      "print b.Angle(a1)*ROOT.TMath.RadToDeg()\n",
      "print b.Angle(a2)*ROOT.TMath.RadToDeg()\n",
      "print b.Angle(a3)*ROOT.TMath.RadToDeg()"
     ],
     "language": "python",
     "metadata": {},
     "outputs": [
      {
       "output_type": "stream",
       "stream": "stdout",
       "text": [
        "45.0\n",
        "135.0\n",
        "135.0\n"
       ]
      }
     ],
     "prompt_number": 64
    },
    {
     "cell_type": "code",
     "collapsed": false,
     "input": [
      "rad2deg(math.atan2(b.Dot(a1)/(b.Mag()*a1.Mag()),b.Dot(a1)))\n",
      "rad2deg(math.atan2(b.Dot(a3)/(b.Mag()*a3.Mag()),b.Dot(a3))) + 360"
     ],
     "language": "python",
     "metadata": {},
     "outputs": [
      {
       "metadata": {},
       "output_type": "pyout",
       "prompt_number": 68,
       "text": [
        "225.0"
       ]
      }
     ],
     "prompt_number": 68
    },
    {
     "cell_type": "code",
     "collapsed": false,
     "input": [
      "ROOT.TMath.ATan2(b.Dot(a1)/(b.Mag()*a1.Mag()),b.Dot(a1))*ROOT.TMath.RadToDeg()\n",
      "ROOT.TMath.ATan2(b.Dot(a3)/(b.Mag()*a3.Mag()),b.Dot(a3))*ROOT.TMath.RadToDeg() +360"
     ],
     "language": "python",
     "metadata": {},
     "outputs": [
      {
       "metadata": {},
       "output_type": "pyout",
       "prompt_number": 74,
       "text": [
        "225.0"
       ]
      }
     ],
     "prompt_number": 74
    },
    {
     "cell_type": "code",
     "collapsed": false,
     "input": [],
     "language": "python",
     "metadata": {},
     "outputs": []
    }
   ],
   "metadata": {}
  }
 ]
}