{
 "metadata": {
  "name": ""
 },
 "nbformat": 3,
 "nbformat_minor": 0,
 "worksheets": [
  {
   "cells": [
    {
     "cell_type": "code",
     "collapsed": false,
     "input": [
      "H8_DIM=OrderedDict([('HEL',0),('Q2',1),('W',2),('M1',3),('M2',4),('THETA',5),('PHI',6),('ALPHA',7)])\n",
      "H5_PROJDIM=array('i',[H8_DIM['M1'],H8_DIM['M2'],H8_DIM['THETA'],H8_DIM['PHI'],\n",
      "\t\t\t\t\t  H8_DIM['ALPHA']])\n",
      "\t\n",
      "H5_DIM=OrderedDict([('M1',0),('M2',1),('THETA',2),('PHI',3),('ALPHA',4)])\n",
      "VARS=['M1','M2','THETA','PHI','ALPHA']"
     ],
     "language": "python",
     "metadata": {},
     "outputs": [],
     "prompt_number": 2
    },
    {
     "cell_type": "code",
     "collapsed": false,
     "input": [
      "datadir=os.path.join(os.environ['OBSDIR'],'q2wA/lite/obs_101415_new_h8-to-Obs')\n",
      "print datadir\n",
      "f=OrderedDict()\n",
      "f['ER']=ROOT.TFile('%s/d2pi_exp/d2piR.root'%datadir)\n",
      "f['SR']=ROOT.TFile('%s/d2pi_sim/sim1/d2piR.root'%datadir)\n",
      "f['ST']=ROOT.TFile('%s/d2pi_sim/sim1/d2piT.root'%datadir)"
     ],
     "language": "python",
     "metadata": {},
     "outputs": [
      {
       "output_type": "stream",
       "stream": "stdout",
       "text": [
        "/data/trivedia/e1f/2pi/d2pi/q2wA/lite/obs_101415_new_h8-to-Obs\n"
       ]
      }
     ],
     "prompt_number": 5
    },
    {
     "cell_type": "code",
     "collapsed": false,
     "input": [
      "#! Get h8(wcrsbin=3,vst=1)\n",
      "h8=OrderedDict()\n",
      "h8['ER']=f['ER'].Get('d2pi/h8_3_1')\n",
      "h8['SR']=f['SR'].Get('d2pi/h8_3_1')\n",
      "h8['ST']=f['ST'].Get('d2pi/h8_3_1')"
     ],
     "language": "python",
     "metadata": {},
     "outputs": [],
     "prompt_number": 6
    },
    {
     "cell_type": "code",
     "collapsed": false,
     "input": [
      "h8['SA']=h8['SR'].Clone()\n",
      "h8['SA'].Divide(h8['ST'])\n",
      "\n",
      "h8['EC']=h8['ER'].Clone()\n",
      "h8['EC'].Divide(h8['SA'])"
     ],
     "language": "python",
     "metadata": {},
     "outputs": [
      {
       "output_type": "stream",
       "stream": "stderr",
       "text": [
        "WARNING:ROOT.THnSparseT<TArrayF>.Divide(h)] Histogram h has empty bins - division by zero! Setting bin to 0.\n"
       ]
      },
      {
       "output_type": "stream",
       "stream": "stderr",
       "text": [
        "WARNING:ROOT.THnSparseT<TArrayF>.Divide(h)] Histogram h has empty bins - division by zero! Setting bin to 0.\n"
       ]
      }
     ],
     "prompt_number": 7
    },
    {
     "cell_type": "code",
     "collapsed": false,
     "input": [
      "h5=OrderedDict()"
     ],
     "language": "python",
     "metadata": {},
     "outputs": [],
     "prompt_number": 8
    },
    {
     "cell_type": "code",
     "collapsed": false,
     "input": [],
     "language": "python",
     "metadata": {},
     "outputs": []
    }
   ],
   "metadata": {}
  }
 ]
}