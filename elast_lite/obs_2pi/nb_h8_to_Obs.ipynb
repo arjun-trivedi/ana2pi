{
 "metadata": {
  "name": ""
 },
 "nbformat": 3,
 "nbformat_minor": 0,
 "worksheets": [
  {
   "cells": [
    {
     "cell_type": "code",
     "collapsed": false,
     "input": [
      "H8_DIM=OrderedDict([('HEL',0),('Q2',1),('W',2),('M1',3),('M2',4),('THETA',5),('PHI',6),('ALPHA',7)])\n",
      "H5_PROJDIM=array('i',[H8_DIM['M1'],H8_DIM['M2'],H8_DIM['THETA'],H8_DIM['PHI'],\n",
      "\t\t\t\t\t  H8_DIM['ALPHA']])\n",
      "\t\n",
      "H5_DIM=OrderedDict([('M1',0),('M2',1),('THETA',2),('PHI',3),('ALPHA',4)])\n",
      "VARS=['M1','M2','THETA','PHI','ALPHA']"
     ],
     "language": "python",
     "metadata": {},
     "outputs": [],
     "prompt_number": 7
    },
    {
     "cell_type": "code",
     "collapsed": false,
     "input": [
      "datadir=os.path.join(os.environ['OBSDIR'],'q2wA/lite/obs_101415_new_h8-to-Obs')\n",
      "print datadir"
     ],
     "language": "python",
     "metadata": {},
     "outputs": [
      {
       "output_type": "stream",
       "stream": "stdout",
       "text": [
        "/data/trivedia/e1f/2pi/d2pi/q2wA/lite/obs_101415_new_h8-to-Obs\n"
       ]
      }
     ],
     "prompt_number": 8
    },
    {
     "cell_type": "code",
     "collapsed": false,
     "input": [
      "#! Get h8(wcrsbin=3,vst=3)\n",
      "fexp=ROOT.TFile('%s/d2pi_exp/d2piR.root'%datadir)\n",
      "h8=fexp.Get('d2pi/h8_3_3')"
     ],
     "language": "python",
     "metadata": {},
     "outputs": [],
     "prompt_number": 9
    },
    {
     "cell_type": "code",
     "collapsed": false,
     "input": [
      "for dim in H8_DIM:\n",
      "    print \"Numer of bins for dim %s=%d\"%(dim,h8.GetAxis(H8_DIM[dim]).GetNbins())"
     ],
     "language": "python",
     "metadata": {},
     "outputs": [
      {
       "output_type": "stream",
       "stream": "stdout",
       "text": [
        "Numer of bins for dim HEL=3\n",
        "Numer of bins for dim Q2=8\n",
        "Numer of bins for dim W=6\n",
        "Numer of bins for dim M1=14\n",
        "Numer of bins for dim M2=14\n",
        "Numer of bins for dim THETA=10\n",
        "Numer of bins for dim PHI=10\n",
        "Numer of bins for dim ALPHA=10\n"
       ]
      }
     ],
     "prompt_number": 13
    },
    {
     "cell_type": "code",
     "collapsed": false,
     "input": [
      "#! print Q2 binning\n",
      "NQ2BINS=h8.GetAxis(H8_DIM['Q2']).GetNbins()\n",
      "print \"Number of Q2 bins=\",NQ2BINS\n",
      "print \"Binning:\"\n",
      "for iq2bin in range(NQ2BINS):\n",
      "    binmin=h8.GetAxis(H8_DIM['Q2']).GetBinLowEdge(iq2bin+1)\n",
      "    binmax=h8.GetAxis(H8_DIM['Q2']).GetBinLowEdge(iq2bin+2)\n",
      "    print \"[%f,%f)\"%(binmin,binmax)"
     ],
     "language": "python",
     "metadata": {},
     "outputs": [
      {
       "output_type": "stream",
       "stream": "stdout",
       "text": [
        "Number of Q2 bins= 8\n",
        "Binning:\n",
        "[1.250000,1.750000)\n",
        "[1.750000,2.250000)\n",
        "[2.250000,2.750000)\n",
        "[2.750000,3.250000)\n",
        "[3.250000,3.750000)\n",
        "[3.750000,4.250000)\n",
        "[4.250000,4.750000)\n",
        "[4.750000,5.250000)\n"
       ]
      }
     ],
     "prompt_number": 16
    },
    {
     "cell_type": "code",
     "collapsed": false,
     "input": [
      "#! print  W binning\n",
      "NWBINS=h8.GetAxis(H8_DIM['W']).GetNbins()\n",
      "print \"Number of W bins=\",NWBINS\n",
      "print \"Binning:\"\n",
      "for iwbin in range(NWBINS):\n",
      "    binmin=h8.GetAxis(H8_DIM['W']).GetBinLowEdge(iwbin+1)\n",
      "    binmax=h8.GetAxis(H8_DIM['W']).GetBinLowEdge(iwbin+2)\n",
      "    print \"[%f,%f)\"%(binmin,binmax)"
     ],
     "language": "python",
     "metadata": {},
     "outputs": [
      {
       "output_type": "stream",
       "stream": "stdout",
       "text": [
        "Number of W bins= 6\n",
        "Binning:\n",
        "[1.575000,1.600000)\n",
        "[1.600000,1.625000)\n",
        "[1.625000,1.650000)\n",
        "[1.650000,1.675000)\n",
        "[1.675000,1.700000)\n",
        "[1.700000,1.725000)\n"
       ]
      }
     ],
     "prompt_number": 17
    },
    {
     "cell_type": "code",
     "collapsed": false,
     "input": [
      "import itertools\n",
      "q2b_crds=range(1,NQ2BINS+1)\n",
      "wb_crds=range(1,NWBINS+1)\n",
      "q2wb_crds=list(itertools.product(q2b_crds,wb_crds))\n",
      "print q2wb_crds\n",
      "\n"
     ],
     "language": "python",
     "metadata": {},
     "outputs": [
      {
       "output_type": "stream",
       "stream": "stdout",
       "text": [
        "[(1, 1), (1, 2), (1, 3), (1, 4), (1, 5), (1, 6), (2, 1), (2, 2), (2, 3), (2, 4), (2, 5), (2, 6), (3, 1), (3, 2), (3, 3), (3, 4), (3, 5), (3, 6), (4, 1), (4, 2), (4, 3), (4, 4), (4, 5), (4, 6), (5, 1), (5, 2), (5, 3), (5, 4), (5, 5), (5, 6), (6, 1), (6, 2), (6, 3), (6, 4), (6, 5), (6, 6), (7, 1), (7, 2), (7, 3), (7, 4), (7, 5), (7, 6), (8, 1), (8, 2), (8, 3), (8, 4), (8, 5), (8, 6)]\n"
       ]
      }
     ],
     "prompt_number": 27
    },
    {
     "cell_type": "code",
     "collapsed": false,
     "input": [
      "q2wb_crds[0][0]"
     ],
     "language": "python",
     "metadata": {},
     "outputs": [
      {
       "metadata": {},
       "output_type": "pyout",
       "prompt_number": 28,
       "text": [
        "1"
       ]
      }
     ],
     "prompt_number": 28
    },
    {
     "cell_type": "code",
     "collapsed": false,
     "input": [
      "q2wb_lmts=[]\n",
      "for q2wb_crd in q2wb_crds:\n",
      "    q2b_crd=q2wb_crd[0]\n",
      "    q2b_min=(float)(\"%.2f\"%h8.GetAxis(H8_DIM['Q2']).GetBinLowEdge(q2b_crd))\n",
      "    q2b_max=(float)(\"%.2f\"%h8.GetAxis(H8_DIM['Q2']).GetBinLowEdge(q2b_crd+1))\n",
      "    \n",
      "    wb_crd=q2wb_crd[1]\n",
      "    wb_min=(float)(\"%.3f\"%h8.GetAxis(H8_DIM['W']).GetBinLowEdge(wb_crd))\n",
      "    wb_max=(float)(\"%.3f\"%h8.GetAxis(H8_DIM['W']).GetBinLowEdge(wb_crd+1))\n",
      "    \n",
      "    q2wb_lmts.append(((q2b_min,q2b_max),(wb_min,wb_max)))\n",
      "    #q2wb_lmts.append(1)\n",
      "    "
     ],
     "language": "python",
     "metadata": {},
     "outputs": [],
     "prompt_number": 54
    },
    {
     "cell_type": "code",
     "collapsed": false,
     "input": [
      "print q2wb_lmts"
     ],
     "language": "python",
     "metadata": {},
     "outputs": [
      {
       "output_type": "stream",
       "stream": "stdout",
       "text": [
        "[((1.25, 1.75), (1.575, 1.6)), ((1.25, 1.75), (1.6, 1.625)), ((1.25, 1.75), (1.625, 1.65)), ((1.25, 1.75), (1.65, 1.675)), ((1.25, 1.75), (1.675, 1.7)), ((1.25, 1.75), (1.7, 1.725)), ((1.75, 2.25), (1.575, 1.6)), ((1.75, 2.25), (1.6, 1.625)), ((1.75, 2.25), (1.625, 1.65)), ((1.75, 2.25), (1.65, 1.675)), ((1.75, 2.25), (1.675, 1.7)), ((1.75, 2.25), (1.7, 1.725)), ((2.25, 2.75), (1.575, 1.6)), ((2.25, 2.75), (1.6, 1.625)), ((2.25, 2.75), (1.625, 1.65)), ((2.25, 2.75), (1.65, 1.675)), ((2.25, 2.75), (1.675, 1.7)), ((2.25, 2.75), (1.7, 1.725)), ((2.75, 3.25), (1.575, 1.6)), ((2.75, 3.25), (1.6, 1.625)), ((2.75, 3.25), (1.625, 1.65)), ((2.75, 3.25), (1.65, 1.675)), ((2.75, 3.25), (1.675, 1.7)), ((2.75, 3.25), (1.7, 1.725)), ((3.25, 3.75), (1.575, 1.6)), ((3.25, 3.75), (1.6, 1.625)), ((3.25, 3.75), (1.625, 1.65)), ((3.25, 3.75), (1.65, 1.675)), ((3.25, 3.75), (1.675, 1.7)), ((3.25, 3.75), (1.7, 1.725)), ((3.75, 4.25), (1.575, 1.6)), ((3.75, 4.25), (1.6, 1.625)), ((3.75, 4.25), (1.625, 1.65)), ((3.75, 4.25), (1.65, 1.675)), ((3.75, 4.25), (1.675, 1.7)), ((3.75, 4.25), (1.7, 1.725)), ((4.25, 4.75), (1.575, 1.6)), ((4.25, 4.75), (1.6, 1.625)), ((4.25, 4.75), (1.625, 1.65)), ((4.25, 4.75), (1.65, 1.675)), ((4.25, 4.75), (1.675, 1.7)), ((4.25, 4.75), (1.7, 1.725)), ((4.75, 5.25), (1.575, 1.6)), ((4.75, 5.25), (1.6, 1.625)), ((4.75, 5.25), (1.625, 1.65)), ((4.75, 5.25), (1.65, 1.675)), ((4.75, 5.25), (1.675, 1.7)), ((4.75, 5.25), (1.7, 1.725))]\n"
       ]
      }
     ],
     "prompt_number": 55
    },
    {
     "cell_type": "code",
     "collapsed": false,
     "input": [
      "for q2wb_crd,q2wb_lmt in zip(q2wb_crds,q2wb_lmts):\n",
      "    print q2wb_crd,q2wb_lmt"
     ],
     "language": "python",
     "metadata": {},
     "outputs": [
      {
       "output_type": "stream",
       "stream": "stdout",
       "text": [
        "(1, 1) ((1.25, 1.75), (1.575, 1.6))\n",
        "(1, 2) ((1.25, 1.75), (1.6, 1.625))\n",
        "(1, 3) ((1.25, 1.75), (1.625, 1.65))\n",
        "(1, 4) ((1.25, 1.75), (1.65, 1.675))\n",
        "(1, 5) ((1.25, 1.75), (1.675, 1.7))\n",
        "(1, 6) ((1.25, 1.75), (1.7, 1.725))\n",
        "(2, 1) ((1.75, 2.25), (1.575, 1.6))\n",
        "(2, 2) ((1.75, 2.25), (1.6, 1.625))\n",
        "(2, 3) ((1.75, 2.25), (1.625, 1.65))\n",
        "(2, 4) ((1.75, 2.25), (1.65, 1.675))\n",
        "(2, 5) ((1.75, 2.25), (1.675, 1.7))\n",
        "(2, 6) ((1.75, 2.25), (1.7, 1.725))\n",
        "(3, 1) ((2.25, 2.75), (1.575, 1.6))\n",
        "(3, 2) ((2.25, 2.75), (1.6, 1.625))\n",
        "(3, 3) ((2.25, 2.75), (1.625, 1.65))\n",
        "(3, 4) ((2.25, 2.75), (1.65, 1.675))\n",
        "(3, 5) ((2.25, 2.75), (1.675, 1.7))\n",
        "(3, 6) ((2.25, 2.75), (1.7, 1.725))\n",
        "(4, 1) ((2.75, 3.25), (1.575, 1.6))\n",
        "(4, 2) ((2.75, 3.25), (1.6, 1.625))\n",
        "(4, 3) ((2.75, 3.25), (1.625, 1.65))\n",
        "(4, 4) ((2.75, 3.25), (1.65, 1.675))\n",
        "(4, 5) ((2.75, 3.25), (1.675, 1.7))\n",
        "(4, 6) ((2.75, 3.25), (1.7, 1.725))\n",
        "(5, 1) ((3.25, 3.75), (1.575, 1.6))\n",
        "(5, 2) ((3.25, 3.75), (1.6, 1.625))\n",
        "(5, 3) ((3.25, 3.75), (1.625, 1.65))\n",
        "(5, 4) ((3.25, 3.75), (1.65, 1.675))\n",
        "(5, 5) ((3.25, 3.75), (1.675, 1.7))\n",
        "(5, 6) ((3.25, 3.75), (1.7, 1.725))\n",
        "(6, 1) ((3.75, 4.25), (1.575, 1.6))\n",
        "(6, 2) ((3.75, 4.25), (1.6, 1.625))\n",
        "(6, 3) ((3.75, 4.25), (1.625, 1.65))\n",
        "(6, 4) ((3.75, 4.25), (1.65, 1.675))\n",
        "(6, 5) ((3.75, 4.25), (1.675, 1.7))\n",
        "(6, 6) ((3.75, 4.25), (1.7, 1.725))\n",
        "(7, 1) ((4.25, 4.75), (1.575, 1.6))\n",
        "(7, 2) ((4.25, 4.75), (1.6, 1.625))\n",
        "(7, 3) ((4.25, 4.75), (1.625, 1.65))\n",
        "(7, 4) ((4.25, 4.75), (1.65, 1.675))\n",
        "(7, 5) ((4.25, 4.75), (1.675, 1.7))\n",
        "(7, 6) ((4.25, 4.75), (1.7, 1.725))\n",
        "(8, 1) ((4.75, 5.25), (1.575, 1.6))\n",
        "(8, 2) ((4.75, 5.25), (1.6, 1.625))\n",
        "(8, 3) ((4.75, 5.25), (1.625, 1.65))\n",
        "(8, 4) ((4.75, 5.25), (1.65, 1.675))\n",
        "(8, 5) ((4.75, 5.25), (1.675, 1.7))\n",
        "(8, 6) ((4.75, 5.25), (1.7, 1.725))\n"
       ]
      }
     ],
     "prompt_number": 57
    },
    {
     "cell_type": "code",
     "collapsed": false,
     "input": [],
     "language": "python",
     "metadata": {},
     "outputs": []
    }
   ],
   "metadata": {}
  }
 ]
}