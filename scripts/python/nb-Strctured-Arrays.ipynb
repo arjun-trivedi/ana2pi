{
 "metadata": {
  "name": ""
 },
 "nbformat": 3,
 "nbformat_minor": 0,
 "worksheets": [
  {
   "cells": [
    {
     "cell_type": "markdown",
     "metadata": {},
     "source": [
      "### Test Structured Arrays"
     ]
    },
    {
     "cell_type": "code",
     "collapsed": false,
     "input": [
      "from comp_sim import *\n",
      "fold = '/e1f.sim2pi.datadir/comp_old_new_sim/Q2W__1.9-2.5__1.3-1.9/cooked/1.root'\n",
      "arr = root2array(fold,'h10',start=1,stop=5)#start=1,stop=2)\n",
      "\n",
      "#arr['gpart']\n",
      "print \">>>arr['gpart']:\"\n",
      "print arr['gpart']\n",
      "#print \">>>arr['etot']:\"\n",
      "#print arr['etot']\n",
      "\n",
      "tarr = np.array(arr['etot'])#ndmin=2)\n",
      "print tarr\n",
      "print tarr.shape\n",
      "print len(tarr)\n",
      "\n",
      "\n",
      "\n",
      "#print tarr[0][0]\n",
      "\n"
     ],
     "language": "python",
     "metadata": {},
     "outputs": [
      {
       "output_type": "stream",
       "stream": "stderr",
       "text": [
        "/usr/lib/python2.7/pkgutil.py:186: ImportWarning: Not importing directory '/usr/lib/python2.7/dist-packages/scikits': missing __init__.py\n",
        "  file, filename, etc = imp.find_module(subname, path)\n",
        "/usr/local/lib/python2.7/dist-packages/pandas/__init__.py:6: RuntimeWarning: numpy.dtype size changed, may indicate binary incompatibility\n",
        "  from . import hashtable, tslib, lib\n",
        "/usr/local/lib/python2.7/dist-packages/pandas/__init__.py:6: RuntimeWarning: numpy.ufunc size changed, may indicate binary incompatibility\n",
        "  from . import hashtable, tslib, lib\n",
        "/usr/local/lib/python2.7/dist-packages/pandas/core/common.py:12: RuntimeWarning: numpy.dtype size changed, may indicate binary incompatibility\n",
        "  import pandas.algos as algos\n",
        "/usr/local/lib/python2.7/dist-packages/pandas/core/common.py:12: RuntimeWarning: numpy.ufunc size changed, may indicate binary incompatibility\n",
        "  import pandas.algos as algos\n",
        "/usr/local/lib/python2.7/dist-packages/pandas/core/index.py:10: RuntimeWarning: numpy.dtype size changed, may indicate binary incompatibility\n",
        "  import pandas.index as _index\n",
        "/usr/local/lib/python2.7/dist-packages/pandas/core/index.py:10: RuntimeWarning: numpy.ufunc size changed, may indicate binary incompatibility\n",
        "  import pandas.index as _index\n",
        "/usr/local/lib/python2.7/dist-packages/pandas/sparse/array.py:16: RuntimeWarning: numpy.dtype size changed, may indicate binary incompatibility\n",
        "  from pandas._sparse import BlockIndex, IntIndex\n"
       ]
      },
      {
       "output_type": "stream",
       "stream": "stdout",
       "text": [
        ">>>arr['gpart']:\n",
        "[5 4 4 3]\n",
        "[array([ 0.07206572,  0.58974069,  0.11503663,  0.04056678], dtype=float32)\n",
        " array([ 0.77829021,  0.26333636,  0.01448718], dtype=float32)\n",
        " array([ 0.7282443 ,  0.04785389,  0.04176846], dtype=float32)\n",
        " array([ 0.72235388,  0.16092646,  0.20696025], dtype=float32)]\n",
        "(4,)\n",
        "4\n"
       ]
      },
      {
       "output_type": "stream",
       "stream": "stderr",
       "text": [
        "/usr/local/lib/python2.7/dist-packages/pandas/sparse/array.py:16: RuntimeWarning: numpy.ufunc size changed, may indicate binary incompatibility\n",
        "  from pandas._sparse import BlockIndex, IntIndex\n",
        "/usr/local/lib/python2.7/dist-packages/pandas/io/parsers.py:24: RuntimeWarning: numpy.dtype size changed, may indicate binary incompatibility\n",
        "  import pandas.parser as _parser\n",
        "/usr/local/lib/python2.7/dist-packages/pandas/io/parsers.py:24: RuntimeWarning: numpy.ufunc size changed, may indicate binary incompatibility\n",
        "  import pandas.parser as _parser\n"
       ]
      }
     ],
     "prompt_number": 2
    },
    {
     "cell_type": "code",
     "collapsed": false,
     "input": [
      "df = pd.DataFrame(arr)\n",
      "print df['etot']\n",
      "tarr2 = np.array(df['etot'])\n",
      "print tarr2[0]\n",
      "print tarr2.shape\n",
      "\n",
      "print df['etot']\n",
      "print df['etot'][0]\n",
      "print df['etot'][0][0]"
     ],
     "language": "python",
     "metadata": {},
     "outputs": [
      {
       "output_type": "stream",
       "stream": "stdout",
       "text": [
        "0    [0.0720657, 0.589741, 0.115037, 0.0405668]\n",
        "1                [0.77829, 0.263336, 0.0144872]\n",
        "2              [0.728244, 0.0478539, 0.0417685]\n",
        "3                 [0.722354, 0.160926, 0.20696]\n",
        "Name: etot, dtype: object\n",
        "[ 0.07206572  0.58974069  0.11503663  0.04056678]\n",
        "(4,)\n",
        "0    [0.0720657, 0.589741, 0.115037, 0.0405668]\n",
        "1                [0.77829, 0.263336, 0.0144872]\n",
        "2              [0.728244, 0.0478539, 0.0417685]\n",
        "3                 [0.722354, 0.160926, 0.20696]\n",
        "Name: etot, dtype: object\n",
        "[ 0.07206572  0.58974069  0.11503663  0.04056678]\n",
        "0.0720657\n"
       ]
      }
     ],
     "prompt_number": 55
    },
    {
     "cell_type": "code",
     "collapsed": false,
     "input": [
      "x = np.zeros((2,),dtype=('i4,f4,a10'))\n",
      "x[:] = [(1,2.,'Hello'),(2,3.,\"World\")]\n",
      "x"
     ],
     "language": "python",
     "metadata": {},
     "outputs": [
      {
       "metadata": {},
       "output_type": "pyout",
       "prompt_number": 2,
       "text": [
        "array([(1, 2.0, 'Hello'), (2, 3.0, 'World')], \n",
        "      dtype=[('f0', '<i4'), ('f1', '<f4'), ('f2', 'S10')])"
       ]
      }
     ],
     "prompt_number": 2
    },
    {
     "cell_type": "code",
     "collapsed": false,
     "input": [
      "y = np.zeros(3, dtype='3int8, float32, (2,3)float64')\n",
      "y"
     ],
     "language": "python",
     "metadata": {},
     "outputs": [
      {
       "metadata": {},
       "output_type": "pyout",
       "prompt_number": 4,
       "text": [
        "array([([0, 0, 0], 0.0, [[0.0, 0.0, 0.0], [0.0, 0.0, 0.0]]),\n",
        "       ([0, 0, 0], 0.0, [[0.0, 0.0, 0.0], [0.0, 0.0, 0.0]]),\n",
        "       ([0, 0, 0], 0.0, [[0.0, 0.0, 0.0], [0.0, 0.0, 0.0]])], \n",
        "      dtype=[('f0', 'i1', (3,)), ('f1', '<f4'), ('f2', '<f8', (2, 3))])"
       ]
      }
     ],
     "prompt_number": 4
    },
    {
     "cell_type": "code",
     "collapsed": false,
     "input": [
      "y[0] = ([1,2,3],4,[[1,2,3],[4,5,6]])\n",
      "y[1] = ([10,20,30],40,[[10,20,30],[40,50,60]])\n",
      "y[2] = ([20,40,60],80,[[20,40,20],[80,90,90]])"
     ],
     "language": "python",
     "metadata": {},
     "outputs": [],
     "prompt_number": 5
    },
    {
     "cell_type": "code",
     "collapsed": false,
     "input": [
      "print y['f0']\n",
      "print y.dtype.fields['f0']"
     ],
     "language": "python",
     "metadata": {},
     "outputs": [
      {
       "output_type": "stream",
       "stream": "stdout",
       "text": [
        "[[ 1  2  3]\n",
        " [10 20 30]\n",
        " [20 40 60]]\n",
        "(dtype(('i1', (3,))), 0)\n"
       ]
      }
     ],
     "prompt_number": 8
    },
    {
     "cell_type": "code",
     "collapsed": false,
     "input": [
      "print y['f0']\n",
      "t = np.array(y['f0'])\n",
      "print t.shape\n",
      "print t[:,0:1]\n",
      "print t\n",
      "n = plt.hist(t)"
     ],
     "language": "python",
     "metadata": {},
     "outputs": [
      {
       "output_type": "stream",
       "stream": "stdout",
       "text": [
        "[[ 1  2  3]\n",
        " [10 20 30]\n",
        " [20 40 60]]\n",
        "(3, 3)\n",
        "[[ 1]\n",
        " [10]\n",
        " [20]]\n",
        "[[ 1  2  3]\n",
        " [10 20 30]\n",
        " [20 40 60]]\n"
       ]
      },
      {
       "metadata": {},
       "output_type": "display_data",
       "png": "[encoded data removed]",
       "text": [
        "<matplotlib.figure.Figure at 0x600b110>"
       ]
      }
     ],
     "prompt_number": 135
    },
    {
     "cell_type": "code",
     "collapsed": false,
     "input": [
      "m =np.zeros((2,2))\n",
      "m[:,1]=1\n",
      "print m"
     ],
     "language": "python",
     "metadata": {},
     "outputs": [
      {
       "output_type": "stream",
       "stream": "stdout",
       "text": [
        "[[ 0.  1.]\n",
        " [ 0.  1.]]\n"
       ]
      }
     ],
     "prompt_number": 47
    },
    {
     "cell_type": "code",
     "collapsed": false,
     "input": [
      "a=b=[]\n",
      "\n",
      "t = [a,b]\n",
      "a.append(1)\n",
      "b.append(2)\n",
      "t[0][0]"
     ],
     "language": "python",
     "metadata": {},
     "outputs": [
      {
       "metadata": {},
       "output_type": "pyout",
       "prompt_number": 59,
       "text": [
        "1"
       ]
      }
     ],
     "prompt_number": 59
    },
    {
     "cell_type": "code",
     "collapsed": false,
     "input": [
      "wp = pd.Panel(randn(2, 5, 4), items=['Item1', 'Item2'],\n",
      "               major_axis=['1','2','3','4','5',],\n",
      "               minor_axis=['A', 'B', 'C', 'D'])\n",
      "wp\n",
      "#for item in len(wp.items):\n",
      "    #wp[item]"
     ],
     "language": "python",
     "metadata": {},
     "outputs": [
      {
       "metadata": {},
       "output_type": "pyout",
       "prompt_number": 14,
       "text": [
        "<class 'pandas.core.panel.Panel'>\n",
        "Dimensions: 2 (items) x 5 (major_axis) x 4 (minor_axis)\n",
        "Items axis: Item1 to Item2\n",
        "Major_axis axis: 1 to 5\n",
        "Minor_axis axis: A to D"
       ]
      }
     ],
     "prompt_number": 14
    },
    {
     "cell_type": "code",
     "collapsed": false,
     "input": [],
     "language": "python",
     "metadata": {},
     "outputs": []
    }
   ],
   "metadata": {}
  }
 ]
}