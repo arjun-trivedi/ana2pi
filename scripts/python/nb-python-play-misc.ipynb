{
 "metadata": {
  "name": ""
 },
 "nbformat": 3,
 "nbformat_minor": 0,
 "worksheets": [
  {
   "cells": [
    {
     "cell_type": "code",
     "collapsed": false,
     "input": [
      "import matplotlib.pyplot as plt\n",
      "import pandas as pd\n",
      "import numpy as np\n",
      "from array import *\n",
      "\n",
      "x=np.arange(0,1,.1)\n",
      "print x"
     ],
     "language": "python",
     "metadata": {},
     "outputs": [
      {
       "output_type": "stream",
       "stream": "stdout",
       "text": [
        "[ 0.   0.1  0.2  0.3  0.4  0.5  0.6  0.7  0.8  0.9]\n"
       ]
      }
     ],
     "prompt_number": 31
    },
    {
     "cell_type": "code",
     "collapsed": false,
     "input": [
      "SELS_LOW =[np.arange(0,1,.1),[1,2],[1,2],[1,2]]\n",
      "SELS_HIGH =[np.arange(0.1,1.1,.1),[1,2],[1,2],[1,2]]\n",
      "print SELS_LOW\n",
      "print SELS_LOW[0]\n",
      "print SELS_HIGH[0]\n",
      "print len(SELS_HIGH[0])\n",
      "\n",
      "t=[range(10),range(10)]\n",
      "print t\n",
      "\n",
      "np.linspace(0,1,10)\n",
      "\n",
      "\n",
      "\n",
      "\n",
      "\n"
     ],
     "language": "python",
     "metadata": {},
     "outputs": [
      {
       "output_type": "stream",
       "stream": "stdout",
       "text": [
        "[array([ 0. ,  0.1,  0.2,  0.3,  0.4,  0.5,  0.6,  0.7,  0.8,  0.9]), [1, 2], [1, 2], [1, 2]]\n",
        "[ 0.   0.1  0.2  0.3  0.4  0.5  0.6  0.7  0.8  0.9]\n",
        "[ 0.1  0.2  0.3  0.4  0.5  0.6  0.7  0.8  0.9  1. ]\n",
        "10\n",
        "[[0, 1, 2, 3, 4, 5, 6, 7, 8, 9], [0, 1, 2, 3, 4, 5, 6, 7, 8, 9]]\n"
       ]
      },
      {
       "metadata": {},
       "output_type": "pyout",
       "prompt_number": 46,
       "text": [
        "array([ 0.        ,  0.11111111,  0.22222222,  0.33333333,  0.44444444,\n",
        "        0.55555556,  0.66666667,  0.77777778,  0.88888889,  1.        ])"
       ]
      }
     ],
     "prompt_number": 46
    },
    {
     "cell_type": "code",
     "collapsed": false,
     "input": [],
     "language": "python",
     "metadata": {},
     "outputs": []
    }
   ],
   "metadata": {}
  }
 ]
}