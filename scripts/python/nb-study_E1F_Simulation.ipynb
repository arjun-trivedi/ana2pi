{
 "metadata": {
  "name": ""
 },
 "nbformat": 3,
 "nbformat_minor": 0,
 "worksheets": [
  {
   "cells": [
    {
     "cell_type": "code",
     "collapsed": false,
     "input": [
      "import ROOT\n",
      "from root_numpy import root2array, root2rec, tree2rec\n",
      "from root_numpy.testdata import get_filepath\n",
      "\n",
      "import pandas as pd\n",
      "import numpy as np\n",
      "import matplotlib.pyplot as plt\n",
      "\n",
      "import os\n",
      "#f = '/data/trivedia/e1f/simulation_2pi/setup_sim_CentOS6/gpppars/try1/q2w2_gpptest_14_011914/recon/d2pi.root'\n",
      "ddir=os.environ['SETUPSIMCENTOS6_DATADIR']\n",
      "f = os.path.join(ddir,'d2pi.root')\n",
      "arrT = root2array(f,'d2piTR/T/tT')#,start=1,stop=5)#,start=1,stop=5)#start=1,stop=2)\n",
      "arrR = root2array(f,'d2piTR/R/tR')#,start=1,stop=5)#,start=1,stop=5)#start=1,stop=2)\n",
      "\n",
      "dfT = pd.DataFrame(arrT)\n",
      "dfR = pd.DataFrame(arrR)\n",
      "#print dfT['p_e']\n",
      "#print dfR['p_e']\n",
      "#print dfT['p_e']-dfR['p_e']\n",
      "d = dfT['p_e']-dfR['p_e']\n",
      "#d.hist()\n",
      "print d.mean()\n",
      "print d.std()\n",
      "plt.scatter(dfT['p_e'],dfT['p_e'])\n",
      "plt.show()\n",
      "\n",
      "#print dfT['Q2']\n",
      "#print dfR['Q2']\n",
      "#print dfT['Q2']-dfR['Q2']\n",
      "#d = dfT['Q2']-dfR['Q2']\n",
      "#print d\n",
      "#print dfT\n",
      "#print dfR"
     ],
     "language": "python",
     "metadata": {},
     "outputs": [
      {
       "output_type": "stream",
       "stream": "stderr",
       "text": [
        "/usr/lib/python2.7/pkgutil.py:186: ImportWarning: Not importing directory '/usr/lib/python2.7/dist-packages/scikits': missing __init__.py\n",
        "  file, filename, etc = imp.find_module(subname, path)\n",
        "/usr/local/lib/python2.7/dist-packages/pandas/__init__.py:6: RuntimeWarning: numpy.dtype size changed, may indicate binary incompatibility\n",
        "  from . import hashtable, tslib, lib\n",
        "/usr/local/lib/python2.7/dist-packages/pandas/__init__.py:6: RuntimeWarning: numpy.ufunc size changed, may indicate binary incompatibility\n",
        "  from . import hashtable, tslib, lib\n",
        "/usr/local/lib/python2.7/dist-packages/pandas/core/common.py:12: RuntimeWarning: numpy.dtype size changed, may indicate binary incompatibility\n",
        "  import pandas.algos as algos\n",
        "/usr/local/lib/python2.7/dist-packages/pandas/core/common.py:12: RuntimeWarning: numpy.ufunc size changed, may indicate binary incompatibility\n",
        "  import pandas.algos as algos\n",
        "/usr/local/lib/python2.7/dist-packages/pandas/core/index.py:10: RuntimeWarning: numpy.dtype size changed, may indicate binary incompatibility\n",
        "  import pandas.index as _index\n",
        "/usr/local/lib/python2.7/dist-packages/pandas/core/index.py:10: RuntimeWarning: numpy.ufunc size changed, may indicate binary incompatibility\n",
        "  import pandas.index as _index\n",
        "/usr/local/lib/python2.7/dist-packages/pandas/sparse/array.py:16: RuntimeWarning: numpy.dtype size changed, may indicate binary incompatibility\n",
        "  from pandas._sparse import BlockIndex, IntIndex\n"
       ]
      },
      {
       "output_type": "stream",
       "stream": "stdout",
       "text": [
        "0.0121205248808\n",
        "0.127171082874\n"
       ]
      },
      {
       "output_type": "stream",
       "stream": "stderr",
       "text": [
        "/usr/local/lib/python2.7/dist-packages/pandas/sparse/array.py:16: RuntimeWarning: numpy.ufunc size changed, may indicate binary incompatibility\n",
        "  from pandas._sparse import BlockIndex, IntIndex\n",
        "/usr/local/lib/python2.7/dist-packages/pandas/io/parsers.py:24: RuntimeWarning: numpy.dtype size changed, may indicate binary incompatibility\n",
        "  import pandas.parser as _parser\n",
        "/usr/local/lib/python2.7/dist-packages/pandas/io/parsers.py:24: RuntimeWarning: numpy.ufunc size changed, may indicate binary incompatibility\n",
        "  import pandas.parser as _parser\n"
       ]
      },
      {
       "metadata": {},
       "output_type": "display_data",
       "png": "[encoded data removed]",
       "text": [
        "<matplotlib.figure.Figure at 0x3f5aa10>"
       ]
      }
     ],
     "prompt_number": 1
    },
    {
     "cell_type": "code",
     "collapsed": false,
     "input": [],
     "language": "python",
     "metadata": {},
     "outputs": []
    }
   ],
   "metadata": {}
  }
 ]
}