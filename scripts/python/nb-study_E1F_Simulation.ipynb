{
 "metadata": {
  "name": ""
 },
 "nbformat": 3,
 "nbformat_minor": 0,
 "worksheets": [
  {
   "cells": [
    {
     "cell_type": "code",
     "collapsed": false,
     "input": [
      "import ROOT\n",
      "from root_numpy import root2array, root2rec, tree2rec\n",
      "from root_numpy.testdata import get_filepath\n",
      "\n",
      "import pandas as pd\n",
      "import numpy as np\n",
      "import matplotlib.pyplot as plt\n",
      "\n",
      "f = '/data/trivedia/e1f/simulation_2pi/setup_sim_CentOS6/gpppars/try1/q2w2_gpptest_14_011914/recon/d2pi.root'\n",
      "arr = root2array(f,'d2piR/tR')#,start=1,stop=5)#start=1,stop=2)\n",
      "df = pd.DataFrame(arr)\n",
      "print df"
     ],
     "language": "python",
     "metadata": {},
     "outputs": [
      {
       "output_type": "stream",
       "stream": "stderr",
       "text": [
        "/usr/lib/python2.7/pkgutil.py:186: ImportWarning: Not importing directory '/usr/lib/python2.7/dist-packages/scikits': missing __init__.py\n",
        "  file, filename, etc = imp.find_module(subname, path)\n",
        "/usr/local/lib/python2.7/dist-packages/pandas/__init__.py:6: RuntimeWarning: numpy.dtype size changed, may indicate binary incompatibility\n",
        "  from . import hashtable, tslib, lib\n",
        "/usr/local/lib/python2.7/dist-packages/pandas/__init__.py:6: RuntimeWarning: numpy.ufunc size changed, may indicate binary incompatibility\n",
        "  from . import hashtable, tslib, lib\n",
        "/usr/local/lib/python2.7/dist-packages/pandas/core/common.py:12: RuntimeWarning: numpy.dtype size changed, may indicate binary incompatibility\n",
        "  import pandas.algos as algos\n",
        "/usr/local/lib/python2.7/dist-packages/pandas/core/common.py:12: RuntimeWarning: numpy.ufunc size changed, may indicate binary incompatibility\n",
        "  import pandas.algos as algos\n",
        "/usr/local/lib/python2.7/dist-packages/pandas/core/index.py:10: RuntimeWarning: numpy.dtype size changed, may indicate binary incompatibility\n",
        "  import pandas.index as _index\n",
        "/usr/local/lib/python2.7/dist-packages/pandas/core/index.py:10: RuntimeWarning: numpy.ufunc size changed, may indicate binary incompatibility\n",
        "  import pandas.index as _index\n",
        "/usr/local/lib/python2.7/dist-packages/pandas/sparse/array.py:16: RuntimeWarning: numpy.dtype size changed, may indicate binary incompatibility\n",
        "  from pandas._sparse import BlockIndex, IntIndex\n"
       ]
      },
      {
       "output_type": "stream",
       "stream": "stderr",
       "text": [
        "/usr/local/lib/python2.7/dist-packages/pandas/sparse/array.py:16: RuntimeWarning: numpy.ufunc size changed, may indicate binary incompatibility\n",
        "  from pandas._sparse import BlockIndex, IntIndex\n",
        "/usr/local/lib/python2.7/dist-packages/pandas/io/parsers.py:24: RuntimeWarning: numpy.dtype size changed, may indicate binary incompatibility\n",
        "  import pandas.parser as _parser\n",
        "/usr/local/lib/python2.7/dist-packages/pandas/io/parsers.py:24: RuntimeWarning: numpy.ufunc size changed, may indicate binary incompatibility\n",
        "  import pandas.parser as _parser\n",
        "/usr/local/lib/python2.7/dist-packages/pandas/core/config.py:570: DeprecationWarning: height has been deprecated.\n",
        "\n",
        "  warnings.warn(d.msg, DeprecationWarning)\n"
       ]
      },
      {
       "output_type": "stream",
       "stream": "stdout",
       "text": [
        "         p_e       p_p\n",
        "0   2.971430  2.971430\n",
        "1   3.282393  3.282393\n",
        "2   3.281718  3.281718\n",
        "3   3.463777  3.463777\n",
        "4   3.453074  3.453074\n",
        "5   3.259655  3.259655\n",
        "6   3.502434  3.502434\n",
        "7   3.221669  3.221669\n",
        "8   3.322659  3.322659\n",
        "9   2.970322  2.970322\n",
        "10  2.948078  2.948078\n",
        "11  3.005796  3.005796\n",
        "12  3.298952  3.298952\n",
        "13  3.602370  3.602370\n",
        "14  3.243519  3.243519\n",
        "15  3.446122  3.446122\n",
        "16  3.547135  3.547135\n",
        "17  2.971618  2.971618\n",
        "18  3.242289  3.242289\n",
        "19  3.433116  3.433116\n",
        "20  3.582086  3.582086\n",
        "21  3.080737  3.080737\n"
       ]
      }
     ],
     "prompt_number": 1
    },
    {
     "cell_type": "code",
     "collapsed": false,
     "input": [],
     "language": "python",
     "metadata": {},
     "outputs": []
    }
   ],
   "metadata": {}
  }
 ]
}