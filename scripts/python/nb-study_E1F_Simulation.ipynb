{
 "metadata": {
  "name": ""
 },
 "nbformat": 3,
 "nbformat_minor": 0,
 "worksheets": [
  {
   "cells": [
    {
     "cell_type": "code",
     "collapsed": false,
     "input": [
      "import ROOT\n",
      "from root_numpy import root2array, root2rec, tree2rec\n",
      "from root_numpy.testdata import get_filepath\n",
      "\n",
      "import pandas as pd\n",
      "import numpy as np\n",
      "import matplotlib.pyplot as plt\n",
      "\n",
      "f = '/data/trivedia/e1f/simulation_2pi/setup_sim_CentOS6/gpppars/try1/q2w2_gpptest_14_011914/recon/d2pi.root'\n",
      "arr = root2array(f,'d2piR/tR',start=1,stop=5)#,start=1,stop=5)#start=1,stop=2)\n",
      "df = pd.DataFrame(arr)\n",
      "print df"
     ],
     "language": "python",
     "metadata": {},
     "outputs": [
      {
       "output_type": "stream",
       "stream": "stderr",
       "text": [
        "/usr/lib/python2.7/pkgutil.py:186: ImportWarning: Not importing directory '/usr/lib/python2.7/dist-packages/scikits': missing __init__.py\n",
        "  file, filename, etc = imp.find_module(subname, path)\n",
        "/usr/local/lib/python2.7/dist-packages/pandas/__init__.py:6: RuntimeWarning: numpy.dtype size changed, may indicate binary incompatibility\n",
        "  from . import hashtable, tslib, lib\n",
        "/usr/local/lib/python2.7/dist-packages/pandas/__init__.py:6: RuntimeWarning: numpy.ufunc size changed, may indicate binary incompatibility\n",
        "  from . import hashtable, tslib, lib\n",
        "/usr/local/lib/python2.7/dist-packages/pandas/core/common.py:12: RuntimeWarning: numpy.dtype size changed, may indicate binary incompatibility\n",
        "  import pandas.algos as algos\n",
        "/usr/local/lib/python2.7/dist-packages/pandas/core/common.py:12: RuntimeWarning: numpy.ufunc size changed, may indicate binary incompatibility\n",
        "  import pandas.algos as algos\n",
        "/usr/local/lib/python2.7/dist-packages/pandas/core/index.py:10: RuntimeWarning: numpy.dtype size changed, may indicate binary incompatibility\n",
        "  import pandas.index as _index\n",
        "/usr/local/lib/python2.7/dist-packages/pandas/core/index.py:10: RuntimeWarning: numpy.ufunc size changed, may indicate binary incompatibility\n",
        "  import pandas.index as _index\n",
        "/usr/local/lib/python2.7/dist-packages/pandas/sparse/array.py:16: RuntimeWarning: numpy.dtype size changed, may indicate binary incompatibility\n",
        "  from pandas._sparse import BlockIndex, IntIndex\n"
       ]
      },
      {
       "output_type": "stream",
       "stream": "stderr",
       "text": [
        "/usr/local/lib/python2.7/dist-packages/pandas/sparse/array.py:16: RuntimeWarning: numpy.ufunc size changed, may indicate binary incompatibility\n",
        "  from pandas._sparse import BlockIndex, IntIndex\n",
        "/usr/local/lib/python2.7/dist-packages/pandas/io/parsers.py:24: RuntimeWarning: numpy.dtype size changed, may indicate binary incompatibility\n",
        "  import pandas.parser as _parser\n",
        "/usr/local/lib/python2.7/dist-packages/pandas/io/parsers.py:24: RuntimeWarning: numpy.ufunc size changed, may indicate binary incompatibility\n",
        "  import pandas.parser as _parser\n",
        "/usr/local/lib/python2.7/dist-packages/pandas/core/config.py:570: DeprecationWarning: height has been deprecated.\n",
        "\n",
        "  warnings.warn(d.msg, DeprecationWarning)\n"
       ]
      },
      {
       "output_type": "stream",
       "stream": "stdout",
       "text": [
        "<class 'pandas.core.frame.DataFrame'>\n",
        "Int64Index: 22 entries, 0 to 21\n",
        "Data columns (total 49 columns):\n",
        "p_e0             22  non-null values\n",
        "p_e              22  non-null values\n",
        "p_p              22  non-null values\n",
        "p_pip            22  non-null values\n",
        "p_pim            22  non-null values\n",
        "theta_e          22  non-null values\n",
        "theta_p          22  non-null values\n",
        "theta_pip        22  non-null values\n",
        "theta_pim        22  non-null values\n",
        "phi_e            22  non-null values\n",
        "phi_p            22  non-null values\n",
        "phi_pip          22  non-null values\n",
        "phi_pim          22  non-null values\n",
        "vx_e             22  non-null values\n",
        "vx_p             22  non-null values\n",
        "vx_pip           22  non-null values\n",
        "vx_pim           22  non-null values\n",
        "vy_e             22  non-null values\n",
        "vy_p             22  non-null values\n",
        "vy_pip           22  non-null values\n",
        "vy_pim           22  non-null values\n",
        "vz_e             22  non-null values\n",
        "vz_p             22  non-null values\n",
        "vz_pip           22  non-null values\n",
        "vz_pim           22  non-null values\n",
        "Q2               22  non-null values\n",
        "W                22  non-null values\n",
        "h                22  non-null values\n",
        "mm2ppippim       22  non-null values\n",
        "mmppippim        22  non-null values\n",
        "mm2ppip          22  non-null values\n",
        "mmppip           22  non-null values\n",
        "mm2ppim          22  non-null values\n",
        "mmppim           22  non-null values\n",
        "mm2pippim        22  non-null values\n",
        "mmpippim         22  non-null values\n",
        "top              22  non-null values\n",
        "M_ppip           22  non-null values\n",
        "M_ppim           22  non-null values\n",
        "M_pippim         22  non-null values\n",
        "theta_cms_p      22  non-null values\n",
        "theta_cms_pip    22  non-null values\n",
        "theta_cms_pim    22  non-null values\n",
        "phi_cms_p        22  non-null values\n",
        "phi_cms_pip      22  non-null values\n",
        "phi_cms_pim      22  non-null values\n",
        "alpha_1          22  non-null values\n",
        "alpha_2          22  non-null values\n",
        "alpha_3          22  non-null values\n",
        "dtypes: float32(47), int32(1), int8(1)\n"
       ]
      }
     ],
     "prompt_number": 1
    },
    {
     "cell_type": "code",
     "collapsed": false,
     "input": [],
     "language": "python",
     "metadata": {},
     "outputs": []
    }
   ],
   "metadata": {}
  }
 ]
}