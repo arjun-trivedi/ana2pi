{
 "metadata": {
  "name": ""
 },
 "nbformat": 3,
 "nbformat_minor": 0,
 "worksheets": [
  {
   "cells": [
    {
     "cell_type": "markdown",
     "metadata": {},
     "source": [
      "### {Pandas DataFrame}{ROOT Hisotgrams}{HDF5 file format}"
     ]
    },
    {
     "cell_type": "raw",
     "metadata": {},
     "source": [
      "In this notebook, I want to demonstrate that I can use Pandas DataFrame (DF) to store and manipulate ROOT histograms. \n",
      "\n",
      "I cannot, however, take advantage of vectorized operations for a DF that holds ROOT objects. Nevertheless, once a DF is prepared with ROOT objects, the ease of accessibility of the objects, combined with \"familiar\" semantics of Python, makes for writing readable and terse code.  "
     ]
    },
    {
     "cell_type": "markdown",
     "metadata": {},
     "source": [
      "####Define \n",
      "* make_test_hdf5(): Create a DF with just one Column(H1) of 10 TH1Ds and store it in store.h5\n",
      "* read_test_hdf5(): Read contents of store.h5\n",
      "* get_df_hdf5(): Get DF from store.h5"
     ]
    },
    {
     "cell_type": "code",
     "collapsed": false,
     "input": [
      "import os\n",
      "import numpy as np\n",
      "randn = np.random.randn\n",
      "import pandas as pd\n",
      "\n",
      "from ROOT import TH1D\n",
      "\n",
      "def make_test_hdf5():\n",
      "\t\"\"\" Create a DF with just one Column(H1) of N TH1Ds,\n",
      "    indexed by [0,...,N] and store it in a HDF5 file.\n",
      "    Instructions from: http://pandas.pydata.org/pandas-docs/dev/io.html#hdf5-pytables\n",
      "\n",
      "    \"\"\"\n",
      "\tprint 'Going to create store.h5:'\n",
      "\t#1. If store.hdf5 exists, delete it\n",
      "\tif os.path.isfile('store.h5'):\n",
      "\t\tos.remove('store.h5')\n",
      "\t#2. Create HDF5 store & see what it contains\n",
      "\tstore = pd.HDFStore('store.h5')\n",
      "\t#print 'store =',store\n",
      "\n",
      "\t#3. Create Histograms to store\n",
      "\tNHISTS=10\n",
      "\thl = []\n",
      "\tfor i in range(0,NHISTS):\n",
      "\t\tname = 'h%d'%(i+1)\n",
      "\t\thl.append(TH1D(name,name,100,0,5))\n",
      "\t\t\n",
      "\t#4. Insert 1st columns into df\n",
      "\tindex = np.arange(0,NHISTS)\n",
      "\tdf = pd.DataFrame()\n",
      "\tif not df:\n",
      "\t\tdata = pd.DataFrame({'H1':hl},index=index) # Data for 1st. Column \n",
      "\t\tdf = df.append(data)\n",
      "\n",
      "\t#5. Add df to store\n",
      "\tstore['df']=df\n",
      "\t#6. See the stored data type \n",
      "\t#print 'Type of stored data = ',store.root.df._v_attrs.pandas_type\n",
      "\t#7. See what the file finally contains\n",
      "\t#print 'store=',store\n",
      "\n",
      "def read_test_hdf5():\n",
      "\tprint 'Going to read contents of store.h5:'\n",
      "\tif os.path.isfile('store.h5'):\n",
      "\t\tstore = pd.HDFStore('store.h5')\n",
      "\t\tprint 'store =',store\n",
      "\t\tprint store['df']\n",
      "\telse:\n",
      "\t\tprint 'store.h5 does not exist!'\n",
      "\t\n",
      "        \n",
      "def get_df_hdf5():\n",
      "    if os.path.isfile('store.h5'):\n",
      "\t\tstore = pd.HDFStore('store.h5')\n",
      "\t\tdf = store['df']\n",
      "    else:\n",
      "        print 'store.h5 does not exist!'\n",
      "    return df\n",
      "            \n",
      "\t"
     ],
     "language": "python",
     "metadata": {},
     "outputs": [],
     "prompt_number": 1
    },
    {
     "cell_type": "code",
     "collapsed": false,
     "input": [
      "make_test_hdf5()\n",
      "df = get_df_hdf5()"
     ],
     "language": "python",
     "metadata": {},
     "outputs": [
      {
       "output_type": "stream",
       "stream": "stdout",
       "text": [
        "Going to create store.h5:\n"
       ]
      },
      {
       "output_type": "stream",
       "stream": "stderr",
       "text": [
        "/usr/local/lib/python2.7/dist-packages/pandas/io/pytables.py:1992: PerformanceWarning: \n",
        "your performance may suffer as PyTables will pickle object types that it cannot\n",
        "map directly to c-types [inferred_type->mixed,key->block0_values] [items->['H1']]\n",
        "\n",
        "  warnings.warn(ws, PerformanceWarning)\n"
       ]
      }
     ],
     "prompt_number": 2
    },
    {
     "cell_type": "markdown",
     "metadata": {},
     "source": [
      "#### In this following block of code, from the DF retreived from store.h5, I will retreive the TH1Ds in Column H1 as a Series. Then I will demonstrate how I can manipulate the histograms in this series and add the manipulated histograms as a new Column in the DF"
     ]
    },
    {
     "cell_type": "code",
     "collapsed": false,
     "input": [
      "def clone(col):\n",
      "    hs=df[col]\n",
      "    hs_clone=[]\n",
      "    for i in range(0,len(hs)):\n",
      "        hs_clone.append(hs[i].Clone('%s_clone'%hs[i].GetName()))\n",
      "    return hs_clone\n",
      "\n",
      "df['H1_clone']=clone('H1')\n",
      "print df\n",
      "    "
     ],
     "language": "python",
     "metadata": {},
     "outputs": [
      {
       "output_type": "stream",
       "stream": "stdout",
       "text": [
        "                                        H1  \\\n",
        "0   <ROOT.TH1D object (\"h1\") at 0x4f7e8a0>   \n",
        "1   <ROOT.TH1D object (\"h2\") at 0x52c85b0>   \n",
        "2   <ROOT.TH1D object (\"h3\") at 0x52c8cd0>   \n",
        "3   <ROOT.TH1D object (\"h4\") at 0x52c93f0>   \n",
        "4   <ROOT.TH1D object (\"h5\") at 0x52c9b10>   \n",
        "5   <ROOT.TH1D object (\"h6\") at 0x52ca230>   \n",
        "6   <ROOT.TH1D object (\"h7\") at 0x52c5830>   \n",
        "7   <ROOT.TH1D object (\"h8\") at 0x52c60e0>   \n",
        "8   <ROOT.TH1D object (\"h9\") at 0x52c6860>   \n",
        "9  <ROOT.TH1D object (\"h10\") at 0x52c6fe0>   \n",
        "\n",
        "                                        H1_clone  \n",
        "0   <ROOT.TH1D object (\"h1_clone\") at 0x53397a0>  \n",
        "1   <ROOT.TH1D object (\"h2_clone\") at 0x5339ec0>  \n",
        "2   <ROOT.TH1D object (\"h3_clone\") at 0x533a5e0>  \n",
        "3   <ROOT.TH1D object (\"h4_clone\") at 0x533ad30>  \n",
        "4   <ROOT.TH1D object (\"h5_clone\") at 0x533c410>  \n",
        "5   <ROOT.TH1D object (\"h6_clone\") at 0x533c7f0>  \n",
        "6   <ROOT.TH1D object (\"h7_clone\") at 0x533cbd0>  \n",
        "7   <ROOT.TH1D object (\"h8_clone\") at 0x5342d70>  \n",
        "8   <ROOT.TH1D object (\"h9_clone\") at 0x5340280>  \n",
        "9  <ROOT.TH1D object (\"h10_clone\") at 0x5340660>  \n"
       ]
      }
     ],
     "prompt_number": 5
    },
    {
     "cell_type": "code",
     "collapsed": false,
     "input": [],
     "language": "python",
     "metadata": {},
     "outputs": []
    }
   ],
   "metadata": {}
  }
 ]
}