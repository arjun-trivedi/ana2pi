{
 "metadata": {
  "name": ""
 },
 "nbformat": 3,
 "nbformat_minor": 0,
 "worksheets": [
  {
   "cells": [
    {
     "cell_type": "raw",
     "metadata": {},
     "source": [
      "From a list of ROOT files, gather h10 Trees -> Structured Array -> Pandas DataFrame"
     ]
    },
    {
     "cell_type": "code",
     "collapsed": false,
     "input": [
      "import ROOT\n",
      "from root_numpy import root2array, root2rec, tree2rec\n",
      "from root_numpy.testdata import get_filepath\n",
      "\n",
      "#filename = get_filepath('test.root')\n",
      "#filename='/e1f.2pi.datadir1/h10/qskim_38462.root'\n",
      "\n",
      "# Get the TTree from the ROOT file\n",
      "#rfile = ROOT.TFile(filename)\n",
      "#intree = rfile.Get('tree')\n",
      "#intree=rfile.Get('h10')\n",
      "#print 'Number of Branches in Tree = ',len(intree.GetListOfBranches())\n",
      "#print 'Number of entries in Tree = ',intree.GetEntries()\n",
      "\n",
      "# Convert a TTree in a ROOT file into a NumPy structured array\n",
      "#arr = root2array(filename, 'tree')\n",
      "#arr = root2array(filename, 'h10')\n",
      "arr = root2array('/e1f.2pi.datadir1/h10/qskim_3860*.root','h10')\n",
      "print 'Number of Branches in Tree = ',len(arr[0])\n",
      "print 'Number of entries in Tree = ',arr.size\n",
      "\n",
      "#Convert structured array to dataframe\n",
      "import pandas as pd\n",
      "d = pd.DataFrame(arr)"
     ],
     "language": "python",
     "metadata": {},
     "outputs": [
      {
       "output_type": "stream",
       "stream": "stdout",
       "text": [
        "Number of Branches in Tree =  36\n",
        "Number of entries in Tree =  15197\n"
       ]
      }
     ],
     "prompt_number": 24
    },
    {
     "cell_type": "code",
     "collapsed": false,
     "input": [
      "MASS_E = 0.000511\n",
      "MASS_P = 0.93827203\n",
      "\n",
      "e_p=[]\n",
      "qsq = []\n",
      "w = []\n",
      "for i in arange(0,len(d.p)):\n",
      "    p = d.p[i][0]\n",
      "    px = p * d.cx[i][0]\n",
      "    py = p * d.cy[i][0]\n",
      "    pz = p * d.cz[i][0]\n",
      "    lve = ROOT.TLorentzVector(0,0,0,0)\n",
      "    e = sqrt(p*p+MASS_E*MASS_E) \n",
      "    lve.SetPxPyPzE(px,py,pz,e)\n",
      "    qsq.append(lve.Mag())\n",
      " \n",
      "#Directly plot from qsq[]\n",
      "#n = plt.hist(qsq,20,(-0.9,0.9))\n",
      "\n",
      "#Or add qsq[] to DF and plot using DF\n",
      "d['qsq']=qsq \n",
      "n=plt.hist(d.qsq,20,(-0.9,0.9))\n",
      "\n",
      "\n",
      "#print 'bins = ',bins\n",
      "#print 'num bins = ',len(bins)\n",
      "\n",
      "#h = numpy.histogram(e_p,100,(0.0,5.0))\n",
      "#ax = plt.hist(h)\n",
      "\n",
      "#plt.show()\n",
      "#d.p[0][0]\n",
      "#d.hist('p[0][0]')"
     ],
     "language": "python",
     "metadata": {},
     "outputs": [
      {
       "metadata": {},
       "output_type": "display_data",
       "png": "[encoded data removed]",
       "text": [
        "<matplotlib.figure.Figure at 0x4b4ee50>"
       ]
      }
     ],
     "prompt_number": 35
    },
    {
     "cell_type": "code",
     "collapsed": false,
     "input": [
      "    "
     ],
     "language": "python",
     "metadata": {},
     "outputs": []
    }
   ],
   "metadata": {}
  }
 ]
}