{
 "metadata": {
  "name": ""
 },
 "nbformat": 3,
 "nbformat_minor": 0,
 "worksheets": [
  {
   "cells": [
    {
     "cell_type": "raw",
     "metadata": {},
     "source": [
      "imports"
     ]
    },
    {
     "cell_type": "code",
     "collapsed": false,
     "input": [
      "import ROOT\n",
      "from root_numpy import root2array, root2rec, tree2rec\n",
      "from root_numpy.testdata import get_filepath\n",
      "\n",
      "\n"
     ],
     "language": "python",
     "metadata": {},
     "outputs": [],
     "prompt_number": 38
    },
    {
     "cell_type": "raw",
     "metadata": {},
     "source": [
      "Decide on example .root file to use"
     ]
    },
    {
     "cell_type": "code",
     "collapsed": false,
     "input": [
      "#filename = get_filepath('test.root')\n",
      "filename='/e1f.2pi.datadir1/h10/qskim_38462.root'"
     ],
     "language": "python",
     "metadata": {},
     "outputs": [],
     "prompt_number": 43
    },
    {
     "cell_type": "code",
     "collapsed": false,
     "input": [
      "# Get the TTree from the ROOT file\n",
      "rfile = ROOT.TFile(filename)\n",
      "#intree = rfile.Get('tree')\n",
      "intree=rfile.Get('h10')\n",
      "print intree.GetEntries()\n",
      "print len(intree.GetListOfBranches())"
     ],
     "language": "python",
     "metadata": {},
     "outputs": [
      {
       "output_type": "stream",
       "stream": "stdout",
       "text": [
        "9201\n",
        "36\n"
       ]
      }
     ],
     "prompt_number": 42
    },
    {
     "cell_type": "code",
     "collapsed": false,
     "input": [
      "# Convert a TTree in a ROOT file into a NumPy structured array\n",
      "#arr = root2array(filename, 'tree')\n",
      "arr = root2array(filename, 'h10')\n",
      "arr\n",
      "print arr.size\n",
      "print len(arr[0])"
     ],
     "language": "python",
     "metadata": {},
     "outputs": [
      {
       "output_type": "stream",
       "stream": "stdout",
       "text": [
        "9201\n",
        "36\n"
       ]
      }
     ],
     "prompt_number": 37
    },
    {
     "cell_type": "code",
     "collapsed": false,
     "input": [],
     "language": "python",
     "metadata": {},
     "outputs": []
    }
   ],
   "metadata": {}
  }
 ]
}