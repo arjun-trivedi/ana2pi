{
 "metadata": {
  "name": ""
 },
 "nbformat": 3,
 "nbformat_minor": 0,
 "worksheets": [
  {
   "cells": [
    {
     "cell_type": "raw",
     "metadata": {},
     "source": [
      "Data in `h10 Tree` from .root files -> Structured Array -> Pandas DataFrame"
     ]
    },
    {
     "cell_type": "code",
     "collapsed": false,
     "input": [
      "import ROOT\n",
      "from root_numpy import root2array, root2rec, tree2rec\n",
      "from root_numpy.testdata import get_filepath\n",
      "\n",
      "#filename = get_filepath('test.root')\n",
      "#filename='/e1f.2pi.datadir1/h10/qskim_38462.root'\n",
      "\n",
      "# Get the TTree from the ROOT file\n",
      "#rfile = ROOT.TFile(filename)\n",
      "#intree = rfile.Get('tree')\n",
      "#intree=rfile.Get('h10')\n",
      "#print 'Number of Branches in Tree = ',len(intree.GetListOfBranches())\n",
      "#print 'Number of entries in Tree = ',intree.GetEntries()\n",
      "\n",
      "# Convert a TTree in a ROOT file into a NumPy structured array\n",
      "#arr = root2array(filename, 'tree')\n",
      "#arr = root2array(filename, 'h10')\n",
      "arr = root2array('/e1f.2pi.datadir1/h10/qskim_3860*.root','h10')\n",
      "print 'Number of Branches in Tree = ',len(arr[0])\n",
      "print 'Number of entries in Tree = ',arr.size\n",
      "\n",
      "#Convert structured array to dataframe\n",
      "import pandas as pd\n",
      "d = pd.DataFrame(arr)"
     ],
     "language": "python",
     "metadata": {},
     "outputs": [
      {
       "output_type": "stream",
       "stream": "stdout",
       "text": [
        "Number of Branches in Tree =  36\n",
        "Number of entries in Tree =  15197\n"
       ]
      }
     ],
     "prompt_number": 24
    },
    {
     "cell_type": "code",
     "collapsed": false,
     "input": [
      "e_p=[]\n",
      "for i in arange(0,len(d.p)):\n",
      "    e_p.append(d.p[i][0])\n",
      "#print e_p   \n",
      "h=numpy.histogram(e_p)\n",
      "bins=numpy.linspace(0,5,100)\n",
      "n = plt.hist(e_p,100,(0,5))\n",
      "\n",
      "#print 'bins = ',bins\n",
      "#print 'num bins = ',len(bins)\n",
      "\n",
      "#h = numpy.histogram(e_p,100,(0.0,5.0))\n",
      "#ax = plt.hist(h)\n",
      "\n",
      "#plt.show()\n",
      "#d.p[0][0]\n",
      "#d.hist('p[0][0]')"
     ],
     "language": "python",
     "metadata": {},
     "outputs": [
      {
       "metadata": {},
       "output_type": "display_data",
       "png": "[encoded data removed]",
       "text": [
        "<matplotlib.figure.Figure at 0x5126d10>"
       ]
      }
     ],
     "prompt_number": 25
    },
    {
     "cell_type": "code",
     "collapsed": false,
     "input": [
      "#chainlist = '/e1f.2pi.anadir1/h10.lst'\n",
      "#rchain= ROOT.TChain(\"h10\")\n",
      "#fc = ROOT.TFileCollection(\"fileList\", \"\", chainlist);\n",
      "#rchain.AddFileInfoList(fc.GetList())\n",
      "#print rchain.GetEntries()\n",
      "\n",
      "#arr1 = root2array('/e1f.2pi.datadir1/h10/qskim_3860*','h10')\n",
      "\n",
      "#import rootpy\n",
      "#from rootpy.tree import Tree, TreeModel, TreeChain, FloatCol, IntCol\n",
      "#from rootpy.io import root_open\n",
      "\n",
      "import pylab as P\n",
      "\n",
      "#\n",
      "# The hist() function now has a lot more options\n",
      "#\n",
      "\n",
      "#\n",
      "# first create a single histogram\n",
      "#\n",
      "mu, sigma = 200, 25\n",
      "x = mu + sigma*P.randn(10000)\n",
      "\n",
      "# the histogram of the data with histtype='step'\n",
      "n, bins, patches = plt.hist(x, 50, normed=1, histtype='stepfilled')\n",
      "P.setp(patches, 'facecolor', 'g', 'alpha', 0.75)\n",
      "y = P.normpdf( bins, mu, sigma)\n",
      "l = P.plot(bins, y, 'k--', linewidth=1.5)\n",
      "P.show()"
     ],
     "language": "python",
     "metadata": {},
     "outputs": [
      {
       "metadata": {},
       "output_type": "display_data",
       "png": "[encoded data removed]",
       "text": [
        "<matplotlib.figure.Figure at 0x50ffb10>"
       ]
      }
     ],
     "prompt_number": 17
    },
    {
     "cell_type": "code",
     "collapsed": false,
     "input": [],
     "language": "python",
     "metadata": {},
     "outputs": []
    }
   ],
   "metadata": {}
  }
 ]
}