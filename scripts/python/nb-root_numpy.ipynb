{
 "metadata": {
  "name": ""
 },
 "nbformat": 3,
 "nbformat_minor": 0,
 "worksheets": [
  {
   "cells": [
    {
     "cell_type": "raw",
     "metadata": {},
     "source": [
      "imports"
     ]
    },
    {
     "cell_type": "code",
     "collapsed": false,
     "input": [
      "import ROOT\n",
      "from root_numpy import root2array, root2rec, tree2rec\n",
      "from root_numpy.testdata import get_filepath"
     ],
     "language": "python",
     "metadata": {},
     "outputs": [],
     "prompt_number": 44
    },
    {
     "cell_type": "raw",
     "metadata": {},
     "source": [
      "Decide on example .root file to use"
     ]
    },
    {
     "cell_type": "code",
     "collapsed": false,
     "input": [
      "#filename = get_filepath('test.root')\n",
      "filename='/e1f.2pi.datadir1/h10/qskim_38462.root'"
     ],
     "language": "python",
     "metadata": {},
     "outputs": [],
     "prompt_number": 43
    },
    {
     "cell_type": "raw",
     "metadata": {},
     "source": [
      "Work with .root file PyROOT style"
     ]
    },
    {
     "cell_type": "code",
     "collapsed": false,
     "input": [
      "# Get the TTree from the ROOT file\n",
      "rfile = ROOT.TFile(filename)\n",
      "#intree = rfile.Get('tree')\n",
      "intree=rfile.Get('h10')\n",
      "print 'Number of Branches in Tree = ',len(intree.GetListOfBranches())\n",
      "print 'Number of entries in Tree = ',intree.GetEntries()"
     ],
     "language": "python",
     "metadata": {},
     "outputs": [
      {
       "output_type": "stream",
       "stream": "stdout",
       "text": [
        "Number of Branches in Tree =  36\n",
        "Number of entries in Tree =  9201\n"
       ]
      }
     ],
     "prompt_number": 45
    },
    {
     "cell_type": "raw",
     "metadata": {},
     "source": [
      "Work with the .root file rootpy style using `root_numpy`"
     ]
    },
    {
     "cell_type": "code",
     "collapsed": false,
     "input": [
      "# Convert a TTree in a ROOT file into a NumPy structured array\n",
      "#arr = root2array(filename, 'tree')\n",
      "arr = root2array(filename, 'h10')\n",
      "print 'Number of Branches in Tree = ',len(arr[0])\n",
      "print 'Number of entries in Tree = ',arr.size"
     ],
     "language": "python",
     "metadata": {},
     "outputs": [
      {
       "output_type": "stream",
       "stream": "stdout",
       "text": [
        "Number of Branches in Tree =  36\n",
        "Number of entries in Tree =  9201\n"
       ]
      }
     ],
     "prompt_number": 46
    },
    {
     "cell_type": "code",
     "collapsed": false,
     "input": [],
     "language": "python",
     "metadata": {},
     "outputs": []
    }
   ],
   "metadata": {}
  }
 ]
}