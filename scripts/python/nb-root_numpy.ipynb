{
 "metadata": {
  "name": ""
 },
 "nbformat": 3,
 "nbformat_minor": 0,
 "worksheets": [
  {
   "cells": [
    {
     "cell_type": "raw",
     "metadata": {},
     "source": [
      "- From a list of ROOT files, gather h10 Trees -> Structured Array -> Pandas DataFrame (DF)\n",
      "- Then perform analysis using DF"
     ]
    },
    {
     "cell_type": "code",
     "collapsed": false,
     "input": [
      "import ROOT\n",
      "from root_numpy import root2array, root2rec, tree2rec\n",
      "from root_numpy.testdata import get_filepath\n",
      "\n",
      "#filename = get_filepath('test.root')\n",
      "#filename='/e1f.2pi.datadir1/h10/qskim_38462.root'\n",
      "\n",
      "# Get the TTree from the ROOT file\n",
      "#rfile = ROOT.TFile(filename)\n",
      "#intree = rfile.Get('tree')\n",
      "#intree=rfile.Get('h10')\n",
      "#print 'Number of Branches in Tree = ',len(intree.GetListOfBranches())\n",
      "#print 'Number of entries in Tree = ',intree.GetEntries()\n",
      "\n",
      "# Convert a TTree in a ROOT file into a NumPy structured array\n",
      "#arr = root2array(filename, 'tree')\n",
      "#arr = root2array(filename, 'h10')\n",
      "#arr = root2array('/e1f.2pi.datadir1/h10/qskim_3860*.root','h10')\n",
      "arr = root2array('/data/trivedia/e1f/simulation_2pi/sim_range_study/q2wA/cooked/*.root',\n",
      "                 'h10')\n",
      "print 'Number of Branches in Tree = ',len(arr[0])\n",
      "print 'Number of entries in Tree = ',arr.size\n",
      "\n",
      "#Convert structured array to dataframe\n",
      "import pandas as pd\n",
      "d = pd.DataFrame(arr)"
     ],
     "language": "python",
     "metadata": {},
     "outputs": [],
     "prompt_number": "*"
    },
    {
     "cell_type": "code",
     "collapsed": false,
     "input": [
      "MASS_E = 0.000511\n",
      "MASS_P = 0.93827203\n",
      "E1F_P = 5.499; \n",
      "lvE0 = ROOT.TLorentzVector(0,0,E1F_P,sqrt(E1F_P*E1F_P+MASS_E*MASS_E));\n",
      "lvP0 = ROOT.TLorentzVector(0,0,0,MASS_P);\n",
      "\n",
      "e_p=[]\n",
      "qsq = []\n",
      "w = []\n",
      "for i in arange(0,len(d.p)):\n",
      "    p = d.p[i][0]\n",
      "    px = p * d.cx[i][0]\n",
      "    py = p * d.cy[i][0]\n",
      "    pz = p * d.cz[i][0]\n",
      "    lve = ROOT.TLorentzVector(0,0,0,0)\n",
      "    e = sqrt(p*p+MASS_E*MASS_E) \n",
      "    lve.SetPxPyPzE(px,py,pz,e)\n",
      "    lvq = lvE0-lve\n",
      "    lvw = lvq+lvP0\n",
      "    \n",
      "    qsq.append(-lvq.Mag2())\n",
      "    w.append(lvw.Mag())\n",
      " \n",
      "#Directly plot from qsq[]\n",
      "#n = plt.hist(qsq,20,(-0.9,0.9))\n",
      "\n",
      "#Or add qsq[] to DF and plot using DF\n",
      "d['qsq']=qsq \n",
      "d['w']=w\n",
      "#n=plt.hist(d.qsq,20,(1.0,2.0))\n",
      "#n=plt.hist2d(w,qsq)\n",
      "\n",
      "\n",
      "#print 'bins = ',bins\n",
      "#print 'num bins = ',len(bins)\n",
      "\n",
      "#h = numpy.histogram(e_p,100,(0.0,5.0))\n",
      "#ax = plt.hist(h)\n",
      "\n",
      "#plt.show()\n",
      "#d.p[0][0]\n",
      "#d.hist('p[0][0]')"
     ],
     "language": "python",
     "metadata": {},
     "outputs": [],
     "prompt_number": "*"
    },
    {
     "cell_type": "code",
     "collapsed": false,
     "input": [
      "#n=plt.hist(d.qsq,20,(1.0,2.0))\n",
      "\n",
      "h2,x,y = np.histogram2d(d.qsq,d.w,10,[[1,2],[1,2]])\n",
      "#h2,x,y = np.histogram2d(d.w,d.w,bins=10)\n",
      "#h2,x,y = np.histogram2d(d.qsq,d.qsq,20,[[1,2],[1,2]])\n",
      "#h2,x,y = np.histogram2d([2,2,2,2],[1,2,3,4],3,[[2,5],[2,5]])\n",
      "print x\n",
      "print y\n",
      "#print h2\n",
      "#plt.imshow(h2)\n",
      "plt.pcolormesh(x,y,h2)"
     ],
     "language": "python",
     "metadata": {},
     "outputs": [
      {
       "output_type": "stream",
       "stream": "stdout",
       "text": [
        "[ 1.   1.1  1.2  1.3  1.4  1.5  1.6  1.7  1.8  1.9  2. ]\n",
        "[ 1.   1.1  1.2  1.3  1.4  1.5  1.6  1.7  1.8  1.9  2. ]\n"
       ]
      },
      {
       "metadata": {},
       "output_type": "pyout",
       "prompt_number": 47,
       "text": [
        "<matplotlib.collections.QuadMesh at 0x306b9890>"
       ]
      },
      {
       "metadata": {},
       "output_type": "display_data",
       "png": "[encoded data removed]",
       "text": [
        "<matplotlib.figure.Figure at 0x302a0190>"
       ]
      }
     ],
     "prompt_number": 47
    },
    {
     "cell_type": "code",
     "collapsed": false,
     "input": [],
     "language": "python",
     "metadata": {},
     "outputs": [],
     "prompt_number": 19
    },
    {
     "cell_type": "code",
     "collapsed": false,
     "input": [],
     "language": "python",
     "metadata": {},
     "outputs": []
    }
   ],
   "metadata": {}
  }
 ]
}