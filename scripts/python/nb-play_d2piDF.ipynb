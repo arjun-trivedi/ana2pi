{
 "metadata": {
  "name": ""
 },
 "nbformat": 3,
 "nbformat_minor": 0,
 "worksheets": [
  {
   "cells": [
    {
     "cell_type": "code",
     "collapsed": false,
     "input": [
      "\"\"\"\n",
      "Load data\n",
      "\"\"\"\n",
      "import ROOT\n",
      "from root_numpy import root2array, root2rec, tree2rec\n",
      "from root_numpy.testdata import get_filepath\n",
      "from rootpy.plotting import Hist2D, Hist\n",
      "\n",
      "import pandas as pd\n",
      "import numpy as np\n",
      "import matplotlib.pyplot as plt\n",
      "\n",
      "import os\n",
      "#f = '/data/trivedia/e1f/simulation_2pi/setup_sim_CentOS6/gpppars/try1/q2w2_gpptest_14_011914/recon/d2pi.root'\n",
      "ddir=os.environ['SETUPSIMCENTOS6_DATADIR']\n",
      "f = os.path.join(ddir,'d2pi.root')\n",
      "arrT = root2array(f,'d2piTR/T/tT',stop=10)#,start=1,stop=5)#,start=1,stop=5)#start=1,stop=2)\n",
      "arrR = root2array(f,'d2piTR/R/tR',stop=10)#,start=1,stop=5)#,start=1,stop=5)#start=1,stop=2)\n",
      "\n",
      "dfT = pd.DataFrame(arrT)\n",
      "dfR = pd.DataFrame(arrR)"
     ],
     "language": "python",
     "metadata": {},
     "outputs": [
      {
       "output_type": "stream",
       "stream": "stderr",
       "text": [
        "/usr/lib/python2.7/pkgutil.py:186: ImportWarning: Not importing directory '/usr/lib/python2.7/dist-packages/scikits': missing __init__.py\n",
        "  file, filename, etc = imp.find_module(subname, path)\n",
        "/usr/local/lib/python2.7/dist-packages/pandas/__init__.py:6: RuntimeWarning: numpy.dtype size changed, may indicate binary incompatibility\n",
        "  from . import hashtable, tslib, lib\n"
       ]
      },
      {
       "output_type": "stream",
       "stream": "stderr",
       "text": [
        "/usr/local/lib/python2.7/dist-packages/pandas/__init__.py:6: RuntimeWarning: numpy.ufunc size changed, may indicate binary incompatibility\n",
        "  from . import hashtable, tslib, lib\n",
        "/usr/local/lib/python2.7/dist-packages/pandas/core/common.py:12: RuntimeWarning: numpy.dtype size changed, may indicate binary incompatibility\n",
        "  import pandas.algos as algos\n"
       ]
      },
      {
       "output_type": "stream",
       "stream": "stderr",
       "text": [
        "/usr/local/lib/python2.7/dist-packages/pandas/core/common.py:12: RuntimeWarning: numpy.ufunc size changed, may indicate binary incompatibility\n",
        "  import pandas.algos as algos\n",
        "/usr/local/lib/python2.7/dist-packages/pandas/core/index.py:10: RuntimeWarning: numpy.dtype size changed, may indicate binary incompatibility\n",
        "  import pandas.index as _index\n",
        "/usr/local/lib/python2.7/dist-packages/pandas/core/index.py:10: RuntimeWarning: numpy.ufunc size changed, may indicate binary incompatibility\n",
        "  import pandas.index as _index\n",
        "/usr/local/lib/python2.7/dist-packages/pandas/sparse/array.py:16: RuntimeWarning: numpy.dtype size changed, may indicate binary incompatibility\n",
        "  from pandas._sparse import BlockIndex, IntIndex\n"
       ]
      },
      {
       "output_type": "stream",
       "stream": "stderr",
       "text": [
        "/usr/local/lib/python2.7/dist-packages/pandas/sparse/array.py:16: RuntimeWarning: numpy.ufunc size changed, may indicate binary incompatibility\n",
        "  from pandas._sparse import BlockIndex, IntIndex\n",
        "/usr/local/lib/python2.7/dist-packages/pandas/io/parsers.py:24: RuntimeWarning: numpy.dtype size changed, may indicate binary incompatibility\n",
        "  import pandas.parser as _parser\n",
        "/usr/local/lib/python2.7/dist-packages/pandas/io/parsers.py:24: RuntimeWarning: numpy.ufunc size changed, may indicate binary incompatibility\n",
        "  import pandas.parser as _parser\n"
       ]
      }
     ],
     "prompt_number": 1
    },
    {
     "cell_type": "code",
     "collapsed": false,
     "input": [
      "print dfR.head()\n",
      "print dfR[['p_e','top']]\n",
      "print dfT[['p_e','top']]\n",
      "sel=dfR['top']<100\n",
      "print dfR[['p_e','top']][sel]\n",
      "print dfT[['p_e','top']][sel]"
     ],
     "language": "python",
     "metadata": {},
     "outputs": [
      {
       "output_type": "stream",
       "stream": "stdout",
       "text": [
        "<class 'pandas.core.frame.DataFrame'>\n",
        "Int64Index: 5 entries, 0 to 4\n",
        "Data columns (total 49 columns):\n",
        "p_e0             5  non-null values\n",
        "p_e              5  non-null values\n",
        "p_p              5  non-null values\n",
        "p_pip            5  non-null values\n",
        "p_pim            5  non-null values\n",
        "theta_e          5  non-null values\n",
        "theta_p          5  non-null values\n",
        "theta_pip        5  non-null values\n",
        "theta_pim        5  non-null values\n",
        "phi_e            5  non-null values\n",
        "phi_p            5  non-null values\n",
        "phi_pip          5  non-null values\n",
        "phi_pim          5  non-null values\n",
        "vx_e             5  non-null values\n",
        "vx_p             5  non-null values\n",
        "vx_pip           5  non-null values\n",
        "vx_pim           5  non-null values\n",
        "vy_e             5  non-null values\n",
        "vy_p             5  non-null values\n",
        "vy_pip           5  non-null values\n",
        "vy_pim           5  non-null values\n",
        "vz_e             5  non-null values\n",
        "vz_p             5  non-null values\n",
        "vz_pip           5  non-null values\n",
        "vz_pim           5  non-null values\n",
        "Q2               5  non-null values\n",
        "W                5  non-null values\n",
        "h                5  non-null values\n",
        "mm2ppippim       5  non-null values\n",
        "mmppippim        5  non-null values\n",
        "mm2ppip          5  non-null values\n",
        "mmppip           5  non-null values\n",
        "mm2ppim          5  non-null values\n",
        "mmppim           5  non-null values\n",
        "mm2pippim        5  non-null values\n",
        "mmpippim         5  non-null values\n",
        "top              5  non-null values\n",
        "M_ppip           5  non-null values\n",
        "M_ppim           5  non-null values\n",
        "M_pippim         5  non-null values\n",
        "theta_cms_p      5  non-null values\n",
        "theta_cms_pip    5  non-null values\n",
        "theta_cms_pim    5  non-null values\n",
        "phi_cms_p        5  non-null values\n",
        "phi_cms_pip      5  non-null values\n",
        "phi_cms_pim      5  non-null values\n",
        "alpha_1          5  non-null values\n",
        "alpha_2          5  non-null values\n",
        "alpha_3          5  non-null values\n",
        "dtypes: float32(47), int32(1), int8(1)\n",
        "        p_e  top\n",
        "0  2.971430    4\n",
        "1  3.282393    3\n",
        "2  3.281718    4\n",
        "3  3.463777    3\n",
        "4  3.453074    2\n",
        "5  3.259655    2\n",
        "6  3.502434    2\n",
        "7  3.221669    2\n",
        "8  3.322659    2\n",
        "9  2.970322    2"
       ]
      },
      {
       "output_type": "stream",
       "stream": "stdout",
       "text": [
        "\n",
        "        p_e  top\n",
        "0  2.961940    0\n",
        "1  3.296152    0\n",
        "2  3.315322    0\n",
        "3  3.481720    0\n",
        "4  3.454627    0\n",
        "5  3.292744    0\n",
        "6  3.480169    0\n",
        "7  3.162268    0\n",
        "8  3.327299    0\n",
        "9  3.000893    0\n",
        "        p_e  top\n",
        "0  2.971430    4\n",
        "1  3.282393    3\n",
        "2  3.281718    4\n",
        "3  3.463777    3\n",
        "4  3.453074    2\n",
        "5  3.259655    2\n",
        "6  3.502434    2\n",
        "7  3.221669    2\n",
        "8  3.322659    2\n",
        "9  2.970322    2"
       ]
      },
      {
       "output_type": "stream",
       "stream": "stdout",
       "text": [
        "\n",
        "        p_e  top\n",
        "0  2.961940    0\n",
        "1  3.296152    0\n",
        "2  3.315322    0\n",
        "3  3.481720    0\n",
        "4  3.454627    0\n",
        "5  3.292744    0\n",
        "6  3.480169    0\n",
        "7  3.162268    0\n",
        "8  3.327299    0\n",
        "9  3.000893    0\n"
       ]
      },
      {
       "output_type": "stream",
       "stream": "stderr",
       "text": [
        "/usr/local/lib/python2.7/dist-packages/pandas/core/config.py:570: DeprecationWarning: height has been deprecated.\n",
        "\n",
        "  warnings.warn(d.msg, DeprecationWarning)\n"
       ]
      }
     ],
     "prompt_number": 2
    },
    {
     "cell_type": "code",
     "collapsed": false,
     "input": [
      "top=0\n",
      "if top>0 and top<=4:\n",
      "    print \"true\"\n",
      "else:\n",
      "    print \"false\""
     ],
     "language": "python",
     "metadata": {},
     "outputs": [
      {
       "output_type": "stream",
       "stream": "stdout",
       "text": [
        "false\n"
       ]
      }
     ],
     "prompt_number": 4
    },
    {
     "cell_type": "code",
     "collapsed": false,
     "input": [],
     "language": "python",
     "metadata": {},
     "outputs": []
    }
   ],
   "metadata": {}
  }
 ]
}