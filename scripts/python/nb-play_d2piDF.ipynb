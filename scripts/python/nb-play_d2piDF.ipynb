{
 "metadata": {
  "name": ""
 },
 "nbformat": 3,
 "nbformat_minor": 0,
 "worksheets": [
  {
   "cells": [
    {
     "cell_type": "code",
     "collapsed": false,
     "input": [
      "\"\"\"\n",
      "Load data\n",
      "\"\"\"\n",
      "import ROOT\n",
      "from root_numpy import root2array, root2rec, tree2rec\n",
      "from root_numpy.testdata import get_filepath\n",
      "from rootpy.plotting import Hist2D, Hist\n",
      "\n",
      "import pandas as pd\n",
      "import numpy as np\n",
      "import matplotlib.pyplot as plt\n",
      "\n",
      "import os\n",
      "#f = '/data/trivedia/e1f/simulation_2pi/setup_sim_CentOS6/gpppars/try1/q2w2_gpptest_14_011914/recon/d2pi.root'\n",
      "ddir=os.environ['SETUPSIMCENTOS6_DATADIR']\n",
      "f = os.path.join(ddir,'d2pi.root')\n",
      "arrT = root2array(f,'d2piTR/T/tT',stop=10)#,start=1,stop=5)#,start=1,stop=5)#start=1,stop=2)\n",
      "arrR = root2array(f,'d2piTR/R/tR',stop=10)#,start=1,stop=5)#,start=1,stop=5)#start=1,stop=2)\n",
      "\n",
      "dfT = pd.DataFrame(arrT)\n",
      "dfR = pd.DataFrame(arrR)"
     ],
     "language": "python",
     "metadata": {},
     "outputs": [],
     "prompt_number": 22
    },
    {
     "cell_type": "code",
     "collapsed": false,
     "input": [
      "print dfR[['p_e','top']]\n",
      "print dfT[['p_e','top']]\n",
      "sel=dfR['top']<100\n",
      "print dfR[['p_e','top']][sel]\n",
      "print dfT[['p_e','top']][sel]"
     ],
     "language": "python",
     "metadata": {},
     "outputs": [
      {
       "output_type": "stream",
       "stream": "stdout",
       "text": [
        "        p_e  top\n",
        "0  2.971430    4\n",
        "1  3.282393    3\n",
        "2  3.281718    4\n",
        "3  3.463777    3\n",
        "4  3.453074    2\n",
        "5  3.259655    2\n",
        "6  3.502434    2\n",
        "7  3.221669    2\n",
        "8  3.322659    2\n",
        "9  2.970322    2\n",
        "        p_e  top\n",
        "0  2.961940    0\n",
        "1  3.296152    0\n",
        "2  3.315322    0\n",
        "3  3.481720    0\n",
        "4  3.454627    0\n",
        "5  3.292744    0\n",
        "6  3.480169    0\n",
        "7  3.162268    0\n",
        "8  3.327299    0\n",
        "9  3.000893    0\n",
        "        p_e  top\n",
        "0  2.971430    4\n",
        "1  3.282393    3\n",
        "2  3.281718    4\n",
        "3  3.463777    3\n",
        "4  3.453074    2\n",
        "5  3.259655    2\n",
        "6  3.502434    2\n",
        "7  3.221669    2\n",
        "8  3.322659    2\n",
        "9  2.970322    2\n",
        "        p_e  top\n",
        "0  2.961940    0\n",
        "1  3.296152    0\n",
        "2  3.315322    0\n",
        "3  3.481720    0\n",
        "4  3.454627    0\n",
        "5  3.292744    0\n",
        "6  3.480169    0\n",
        "7  3.162268    0\n",
        "8  3.327299    0\n",
        "9  3.000893    0"
       ]
      },
      {
       "output_type": "stream",
       "stream": "stdout",
       "text": [
        "\n"
       ]
      }
     ],
     "prompt_number": 31
    },
    {
     "cell_type": "code",
     "collapsed": false,
     "input": [
      "top=0\n",
      "if top>0 and top<=4:\n",
      "    print \"true\"\n",
      "else:\n",
      "    print \"false\""
     ],
     "language": "python",
     "metadata": {},
     "outputs": [
      {
       "output_type": "stream",
       "stream": "stdout",
       "text": [
        "false\n"
       ]
      }
     ],
     "prompt_number": 4
    },
    {
     "cell_type": "code",
     "collapsed": false,
     "input": [],
     "language": "python",
     "metadata": {},
     "outputs": []
    }
   ],
   "metadata": {}
  }
 ]
}