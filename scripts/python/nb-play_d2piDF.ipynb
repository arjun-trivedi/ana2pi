{
 "metadata": {
  "name": ""
 },
 "nbformat": 3,
 "nbformat_minor": 0,
 "worksheets": [
  {
   "cells": [
    {
     "cell_type": "code",
     "collapsed": false,
     "input": [
      "\"\"\"\n",
      "Load data\n",
      "\"\"\"\n",
      "import ROOT\n",
      "from root_numpy import root2array, root2rec, tree2rec\n",
      "from root_numpy.testdata import get_filepath\n",
      "from rootpy.plotting import Hist2D, Hist\n",
      "\n",
      "import pandas as pd\n",
      "import numpy as np\n",
      "import matplotlib.pyplot as plt\n",
      "\n",
      "import os\n",
      "#f = '/data/trivedia/e1f/simulation_2pi/setup_sim_CentOS6/gpppars/try1/q2w2_gpptest_14_011914/recon/d2pi.root'\n",
      "ddir=os.environ['SETUPSIMCENTOS6_DATADIR']\n",
      "f = os.path.join(ddir,'d2pi.root')\n",
      "arrT = root2array(f,'d2piTR/T/tT',stop=10)#,start=1,stop=5)#,start=1,stop=5)#start=1,stop=2)\n",
      "arrR = root2array(f,'d2piTR/R/tR',stop=10)#,start=1,stop=5)#,start=1,stop=5)#start=1,stop=2)\n",
      "\n",
      "dfT = pd.DataFrame(arrT)\n",
      "dfR = pd.DataFrame(arrR)"
     ],
     "language": "python",
     "metadata": {},
     "outputs": [
      {
       "output_type": "stream",
       "stream": "stderr",
       "text": [
        "/usr/lib/python2.7/pkgutil.py:186: ImportWarning: Not importing directory '/usr/lib/python2.7/dist-packages/scikits': missing __init__.py\n",
        "  file, filename, etc = imp.find_module(subname, path)\n",
        "/usr/local/lib/python2.7/dist-packages/pandas/__init__.py:6: RuntimeWarning: numpy.dtype size changed, may indicate binary incompatibility\n",
        "  from . import hashtable, tslib, lib\n"
       ]
      },
      {
       "output_type": "stream",
       "stream": "stderr",
       "text": [
        "/usr/local/lib/python2.7/dist-packages/pandas/__init__.py:6: RuntimeWarning: numpy.ufunc size changed, may indicate binary incompatibility\n",
        "  from . import hashtable, tslib, lib\n",
        "/usr/local/lib/python2.7/dist-packages/pandas/core/common.py:12: RuntimeWarning: numpy.dtype size changed, may indicate binary incompatibility\n",
        "  import pandas.algos as algos\n"
       ]
      },
      {
       "output_type": "stream",
       "stream": "stderr",
       "text": [
        "/usr/local/lib/python2.7/dist-packages/pandas/core/common.py:12: RuntimeWarning: numpy.ufunc size changed, may indicate binary incompatibility\n",
        "  import pandas.algos as algos\n",
        "/usr/local/lib/python2.7/dist-packages/pandas/core/index.py:10: RuntimeWarning: numpy.dtype size changed, may indicate binary incompatibility\n",
        "  import pandas.index as _index\n",
        "/usr/local/lib/python2.7/dist-packages/pandas/core/index.py:10: RuntimeWarning: numpy.ufunc size changed, may indicate binary incompatibility\n",
        "  import pandas.index as _index\n",
        "/usr/local/lib/python2.7/dist-packages/pandas/sparse/array.py:16: RuntimeWarning: numpy.dtype size changed, may indicate binary incompatibility\n",
        "  from pandas._sparse import BlockIndex, IntIndex\n"
       ]
      },
      {
       "output_type": "stream",
       "stream": "stderr",
       "text": [
        "/usr/local/lib/python2.7/dist-packages/pandas/sparse/array.py:16: RuntimeWarning: numpy.ufunc size changed, may indicate binary incompatibility\n",
        "  from pandas._sparse import BlockIndex, IntIndex\n",
        "/usr/local/lib/python2.7/dist-packages/pandas/io/parsers.py:24: RuntimeWarning: numpy.dtype size changed, may indicate binary incompatibility\n",
        "  import pandas.parser as _parser\n",
        "/usr/local/lib/python2.7/dist-packages/pandas/io/parsers.py:24: RuntimeWarning: numpy.ufunc size changed, may indicate binary incompatibility\n",
        "  import pandas.parser as _parser\n"
       ]
      }
     ],
     "prompt_number": 1
    },
    {
     "cell_type": "code",
     "collapsed": false,
     "input": [
      "#print dfR.head()\n",
      "print dfR[['p_e0','mmppip','top']].head()\n",
      "print dfT[['p_e0','mmppip','top']].head()\n"
     ],
     "language": "python",
     "metadata": {},
     "outputs": [
      {
       "output_type": "stream",
       "stream": "stdout",
       "text": [
        "    p_e0    mmppip  top\n",
        "0  5.485  1.556680    4\n",
        "1  5.485  0.646030    3\n",
        "2  5.485  1.377941    4\n",
        "3  5.485  0.412992    3\n",
        "4  5.485  0.152579    2\n",
        "    p_e0    mmppip  top\n",
        "0  5.485  0.104176    0\n",
        "1  5.485  0.126935    0\n",
        "2  5.485  0.122469    0\n",
        "3  5.485  0.121302    0\n",
        "4  5.485  0.131344    0\n"
       ]
      },
      {
       "output_type": "stream",
       "stream": "stderr",
       "text": [
        "/usr/local/lib/python2.7/dist-packages/pandas/core/config.py:570: DeprecationWarning: height has been deprecated.\n",
        "\n",
        "  warnings.warn(d.msg, DeprecationWarning)\n"
       ]
      }
     ],
     "prompt_number": 2
    },
    {
     "cell_type": "code",
     "collapsed": false,
     "input": [
      "top=0\n",
      "if top>0 and top<=4:\n",
      "    print \"true\"\n",
      "else:\n",
      "    print \"false\""
     ],
     "language": "python",
     "metadata": {},
     "outputs": [
      {
       "output_type": "stream",
       "stream": "stdout",
       "text": [
        "false\n"
       ]
      }
     ],
     "prompt_number": 4
    },
    {
     "cell_type": "code",
     "collapsed": false,
     "input": [],
     "language": "python",
     "metadata": {},
     "outputs": []
    }
   ],
   "metadata": {}
  }
 ]
}