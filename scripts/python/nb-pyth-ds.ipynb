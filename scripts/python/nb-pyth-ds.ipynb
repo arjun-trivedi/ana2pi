{
 "metadata": {
  "name": ""
 },
 "nbformat": 3,
 "nbformat_minor": 0,
 "worksheets": [
  {
   "cells": [
    {
     "cell_type": "markdown",
     "metadata": {},
     "source": [
      "### Tutorial to understand basic Data Structures in Python\n",
      "(http://pandas.pydata.org/pandas-docs/dev/dsintro.html)"
     ]
    },
    {
     "cell_type": "code",
     "collapsed": false,
     "input": [
      "import numpy as np\n",
      "randn = np.random.randn\n",
      "\n",
      "import pandas as pd\n",
      "\n",
      "# Example of Series (sub-class = NDFrame; earlier was ndarray)\n",
      "s=pd.Series(np.sin(np.arange(0,np.pi,np.pi/4))); #series with default index [1,2,3...]\n",
      "print s"
     ],
     "language": "python",
     "metadata": {},
     "outputs": [
      {
       "output_type": "stream",
       "stream": "stdout",
       "text": [
        "0    0.000000\n",
        "1    0.707107\n",
        "2    1.000000\n",
        "3    0.707107\n",
        "dtype: float64\n"
       ]
      }
     ],
     "prompt_number": 26
    },
    {
     "cell_type": "code",
     "collapsed": false,
     "input": [],
     "language": "python",
     "metadata": {},
     "outputs": []
    }
   ],
   "metadata": {}
  }
 ]
}