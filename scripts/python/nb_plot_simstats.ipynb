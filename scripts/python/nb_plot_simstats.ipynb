{
 "metadata": {
  "name": ""
 },
 "nbformat": 3,
 "nbformat_minor": 0,
 "worksheets": [
  {
   "cells": [
    {
     "cell_type": "markdown",
     "metadata": {},
     "source": [
      "### This notebook has various tests for the DataFrame object made for Simulation Statistics\n",
      "- Simulation Statistics file = anae1fd2/simstats_vm.csv    "
     ]
    },
    {
     "cell_type": "markdown",
     "metadata": {},
     "source": [
      "### First load the .csv file and create the DataFrame for simstats(=dfss)"
     ]
    },
    {
     "cell_type": "code",
     "collapsed": false,
     "input": [
      "import os\n",
      "from pandas import *\n",
      "pandas.set_printoptions(max_columns=20)\n",
      "\n",
      "datadir = os.environ['E1F_2PI_ANADIR1']\n",
      "filename = os.path.join(datadir, \"simstats_vm.csv\")\n",
      "dfss = pandas.read_csv(filename, na_values=['\\n'])\n",
      "#print df"
     ],
     "language": "python",
     "metadata": {},
     "outputs": [
      {
       "output_type": "stream",
       "stream": "stderr",
       "text": [
        "/usr/local/lib/python2.7/dist-packages/pandas/core/format.py:1653: FutureWarning: set_printoptions is deprecated, use set_option instead\n",
        "  FutureWarning)\n"
       ]
      }
     ],
     "prompt_number": 2
    },
    {
     "cell_type": "code",
     "collapsed": false,
     "input": [
      "dfss_grpd_q2wbin = dfss.groupby('Q2Wbin')\n",
      "nq2wbins = len(dfss_grpd_q2wbin.groups)\n",
      "ngridx = 4\n",
      "ngridy = nq2wbins/ngridx\n",
      "print ngridx, ngridy"
     ],
     "language": "python",
     "metadata": {},
     "outputs": [
      {
       "output_type": "stream",
       "stream": "stdout",
       "text": [
        "4 2.0\n"
       ]
      }
     ],
     "prompt_number": 3
    },
    {
     "cell_type": "markdown",
     "metadata": {},
     "source": [
      "### Test Division between columns of two different DFs"
     ]
    },
    {
     "cell_type": "code",
     "collapsed": false,
     "input": [
      "from __future__ import division\n",
      "for q2wbin in dfss_grpd_q2wbin.groups:\n",
      "    df = dfss_grpd_q2wbin.get_group(q2wbin)\n",
      "    if (q2wbin==1):\n",
      "        #x= df.nEsr/df.nFth\n",
      "        #print x\n",
      "        dfsel = df[(df['Top']==1) & (df['Varset']==1)]\n",
      "        num = dfsel.nEsr.values\n",
      "        print num\n",
      "        #num.reindex\n",
      "        #print num\n",
      "        \n",
      "        den = df[(df['Top']==2) & (df['Varset']==1)].nEsr.values\n",
      "        print den\n",
      "        #den.reindex\n",
      "        #print den\n",
      "        \n",
      "        x = num/den\n",
      "        print x\n",
      "        \n",
      "        print dfsel\n",
      "        print df[(df['Top']==2) & (df['Varset']==1)]"
     ],
     "language": "python",
     "metadata": {},
     "outputs": [
      {
       "output_type": "stream",
       "stream": "stdout",
       "text": [
        "[14415 12599 11932 11162 10756 10477]\n",
        "[3521 1967 1546 1186 1021  940]\n",
        "[  4.09400738   6.40518556   7.71798189   9.41146712  10.53476983\n",
        "  11.14574468]\n",
        "     Sim  Top  Q2Wbin  Varset  nEac   nEsr   nFsr   nFth\n",
        "0      1    1       1       1    41  14415  13483  27706\n",
        "40     2    1       1       1    24  12599  15802  28011\n",
        "80     3    1       1       1    19  11932  16713  28154\n",
        "120    4    1       1       1    14  11162  17882  28336\n",
        "160    5    1       1       1    10  10756  18584  28442\n",
        "200    6    1       1       1     8  10477  19080  28509\n",
        "     Sim  Top  Q2Wbin  Varset  nEac  nEsr   nFsr   nFth\n",
        "8      1    2       1       1   105  3521  25326  27706\n",
        "48     2    2       1       1    66  1967  28060  28011\n",
        "88     3    2       1       1    58  1546  29124  28154\n",
        "128    4    2       1       1    50  1186  30415  28336\n",
        "168    5    2       1       1    44  1021  31189  28442\n",
        "208    6    2       1       1    44   940  31697  28509\n"
       ]
      }
     ],
     "prompt_number": 4
    },
    {
     "cell_type": "markdown",
     "metadata": {},
     "source": [
      "### Test gr_nFthVq2wbin"
     ]
    },
    {
     "cell_type": "code",
     "collapsed": false,
     "input": [
      "from __future__ import division\n",
      "dfss_grpd_q2wbin = dfss.groupby('Q2Wbin')\n",
      "nq2wbins = len(dfss_grpd_q2wbin.groups)\n",
      "ngridx = 4\n",
      "ngridy = nq2wbins/ngridx\n",
      "print ngridx, ngridy\n",
      "\n",
      "#gr_FthVq2wbin\n",
      "\n",
      "for q2wbin in dfss_grpd_q2wbin.groups:\n",
      "    print 'q2wbin', q2wbin\n",
      "    df = dfss_grpd_q2wbin.get_group(q2wbin)\n",
      "    #print 'sim:'\n",
      "    #print df['Sim']\n",
      "    \n",
      "    siml = df['Sim'].max()\n",
      "    sel = (df['Sim']==siml) & (df['Top']==2)\n",
      "    #nFth_siml = df.nFth(sel)\n",
      "    nFth_siml = df.nFth[sel]\n",
      "    print siml,nFth_siml"
     ],
     "language": "python",
     "metadata": {},
     "outputs": [
      {
       "output_type": "stream",
       "stream": "stdout",
       "text": [
        "4 2.0\n",
        "q2wbin 1\n",
        "6 208    28509\n",
        "Name: nFth, dtype: int64\n",
        "q2wbin 2\n",
        "6 209    31819\n",
        "Name: nFth, dtype: int64\n",
        "q2wbin 3\n",
        "6 210    35663\n",
        "Name: nFth, dtype: int64\n",
        "q2wbin 4\n",
        "6 211    40223\n",
        "Name: nFth, dtype: int64\n",
        "q2wbin 5\n",
        "6 212    44348\n",
        "Name: nFth, dtype: int64\n",
        "q2wbin 6\n",
        "6 213    48593\n",
        "Name: nFth, dtype: int64\n",
        "q2wbin 7\n",
        "6 214    53080\n",
        "Name: nFth, dtype: int64\n",
        "q2wbin 8\n",
        "6 215    57695\n",
        "Name: nFth, dtype: int64\n"
       ]
      }
     ],
     "prompt_number": 7
    },
    {
     "cell_type": "code",
     "collapsed": false,
     "input": [],
     "language": "python",
     "metadata": {},
     "outputs": []
    }
   ],
   "metadata": {}
  }
 ]
}