{
 "metadata": {
  "name": ""
 },
 "nbformat": 3,
 "nbformat_minor": 0,
 "worksheets": [
  {
   "cells": [
    {
     "cell_type": "markdown",
     "metadata": {},
     "source": [
      "### This notebook has various tests for the DataFrame object made for Simulation Statistics\n",
      "- Simulation Statistics file = anae1fd2/simstats_vm.csv    "
     ]
    },
    {
     "cell_type": "markdown",
     "metadata": {},
     "source": [
      "### First load the .csv file and create the DataFrame for simstats(=dfss)"
     ]
    },
    {
     "cell_type": "code",
     "collapsed": false,
     "input": [
      "import os\n",
      "from pandas import *\n",
      "pandas.set_printoptions(max_columns=20)\n",
      "\n",
      "datadir = os.environ['E1F_2PI_ANADIR1']\n",
      "filename = os.path.join(datadir, \"simstats_vm.csv\")\n",
      "dfss = pandas.read_csv(filename, na_values=['\\n'])\n",
      "#print df"
     ],
     "language": "python",
     "metadata": {},
     "outputs": [],
     "prompt_number": 46
    },
    {
     "cell_type": "markdown",
     "metadata": {},
     "source": [
      "### Group dfss by q2wbin column"
     ]
    },
    {
     "cell_type": "code",
     "collapsed": false,
     "input": [
      "dfss_grpd_q2wbin = dfss.groupby('Q2Wbin')\n",
      "nq2wbins = len(dfss_grpd_q2wbin.groups)\n",
      "ngridx = 4\n",
      "ngridy = nq2wbins/ngridx\n",
      "print ngridx, ngridy"
     ],
     "language": "python",
     "metadata": {},
     "outputs": [
      {
       "output_type": "stream",
       "stream": "stdout",
       "text": [
        "4 2.0\n"
       ]
      }
     ],
     "prompt_number": 47
    },
    {
     "cell_type": "markdown",
     "metadata": {},
     "source": [
      "### Test gr_nFthVq2wbin"
     ]
    },
    {
     "cell_type": "code",
     "collapsed": false,
     "input": [
      "from __future__ import division\n",
      "import numpy as npy\n",
      "\n",
      "#create Figure\n",
      "plt.figure(figsize=(8,8))\n",
      "# create Axes that go in the Figure\n",
      "ax1 = plt.subplot(3,1,1,ylabel = 'nFth') \n",
      "ax2 = plt.subplot(3,1,2,ylabel='nEsr')\n",
      "ax3 = plt.subplot(3,1,3,xlabel='q2wbin',ylabel='frc')\n",
      "sels = {}\n",
      "tops = [1,2,3,4,5];\n",
      "nFTH = npy.zeros((nq2wbins,ntops));\n",
      "nESR = npy.zeros((nq2wbins,ntops));\n",
      "frc = npy.zeros((nq2wbins,ntops));\n",
      "q2wb = npy.arange(1,nq2wbins+1,1);\n",
      "for q2wbin in dfss_grpd_q2wbin.groups:\n",
      "    iq2wbin = q2wbin-1\n",
      "    #print 'q2wbin', q2wbin\n",
      "    df = dfss_grpd_q2wbin.get_group(q2wbin)\n",
      "    #print 'sim:'\n",
      "    #print df['Sim']\n",
      "    \n",
      "    siml = df['Sim'].max()\n",
      "    for top in tops:\n",
      "        itop = top-1\n",
      "        sels[itop] = (df['Sim']==siml) & (df['Top']==(itop+1))\n",
      "        nFTH[iq2wbin][itop] = df.nFth[sels[itop]]\n",
      "        nESR[iq2wbin][itop] = df.nEsr[sels[itop]]\n",
      "        frc[iq2wbin][itop] = nESR[iq2wbin][itop]/nFTH[iq2wbin][itop]\n",
      "\n",
      "nFTH_tp = numpy.vsplit(npy.transpose(nFTH),ntops)\n",
      "nESR_tp = numpy.vsplit(npy.transpose(nESR),ntops)\n",
      "frc_tp = numpy.vsplit(npy.transpose(frc),ntops)\n",
      "print frc\n",
      "print frc[0]\n",
      "print q2wb\n",
      "#ax1.scatter(q2wb, tp[0])\n",
      "#ax2.scatter(q2wb,ne)\n",
      "#ax3.scatter(q2wb,frc)\n",
      "#ax3.axes.xaxis.label = 'Q2WBIN'\n",
      "#plt.show()\n"
     ],
     "language": "python",
     "metadata": {},
     "outputs": [
      {
       "output_type": "stream",
       "stream": "stdout",
       "text": [
        "[[ 0.36749798  0.03297204  0.32751061  0.35301133  0.0165211 ]\n",
        " [ 0.34429115  0.02765643  0.30516358  0.32882869  0.01533675]\n",
        " [ 0.33017413  0.0293862   0.29231977  0.3145557   0.01533803]\n",
        " [ 0.32747433  0.03386122  0.28528454  0.3095244   0.01541407]\n",
        " [ 0.31881934  0.03206458  0.27996753  0.30217823  0.01609994]\n",
        " [ 0.31294631  0.03105386  0.27695347  0.29512481  0.01726586]\n",
        " [ 0.31134137  0.03321402  0.27697815  0.2920309   0.01991334]\n",
        " [ 0.31385735  0.03452639  0.28090822  0.29271167  0.02267094]]\n",
        "[ 0.36749798  0.03297204  0.32751061  0.35301133  0.0165211 ]\n",
        "[1 2 3 4 5 6 7 8]\n"
       ]
      },
      {
       "metadata": {},
       "output_type": "display_data",
       "png": "[encoded data removed]",
       "text": [
        "<matplotlib.figure.Figure at 0x6f82d50>"
       ]
      }
     ],
     "prompt_number": 76
    },
    {
     "cell_type": "markdown",
     "metadata": {},
     "source": [
      "### Test Division Operation between two different columumns of D"
     ]
    },
    {
     "cell_type": "code",
     "collapsed": false,
     "input": [
      "#from __future__ import division\n",
      "#for q2wbin in dfss_grpd_q2wbin.groups:\n",
      "#    df = dfss_grpd_q2wbin.get_group(q2wbin)\n",
      "#    if (q2wbin==1):\n",
      "#        #x= df.nEsr/df.nFth\n",
      "#        #print x\n",
      "#        dfsel = df[(df['Top']==1) & (df['Varset']==1)]\n",
      "#        num = dfsel.nEsr.values\n",
      "#        print num\n",
      "#        #num.reindex\n",
      "#        #print num\n",
      "#        \n",
      "#        den = df[(df['Top']==2) & (df['Varset']==1)].nEsr.values\n",
      "#        print den\n",
      "#        #den.reindex\n",
      "#        #print den\n",
      "#        \n",
      "#        x = num/den\n",
      "#        print x\n",
      "#        \n",
      "#        print dfsel\n",
      "#        print df[(df['Top']==2) & (df['Varset']==1)]"
     ],
     "language": "python",
     "metadata": {},
     "outputs": [],
     "prompt_number": 70
    },
    {
     "cell_type": "code",
     "collapsed": false,
     "input": [],
     "language": "python",
     "metadata": {},
     "outputs": []
    }
   ],
   "metadata": {}
  }
 ]
}