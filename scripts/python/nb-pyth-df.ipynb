{
 "metadata": {
  "name": ""
 },
 "nbformat": 3,
 "nbformat_minor": 0,
 "worksheets": [
  {
   "cells": [
    {
     "cell_type": "markdown",
     "metadata": {},
     "source": [
      "### Following is an example for adding Columns to an empty data frame\n",
      "* Take note of the _special_ manner in which the first column is appended"
     ]
    },
    {
     "cell_type": "code",
     "collapsed": false,
     "input": [
      "import pandas as pd\n",
      "df = pd.DataFrame()\n",
      "if not df:\n",
      "    print 'df is empty'\n",
      "\n",
      "rindex=['name','surname','roll#']   \n",
      "boy1 = ['saswat','sarda',772]\n",
      "data = pd.DataFrame({\"A\": boy1},index=rindex) # Data for 1st. Column \n",
      "df = df.append(data) # Add Data for 1st column\n",
      "if not df:\n",
      "    print 'df is empty after 1st append'\n",
      "\n",
      "boy2 = ['arjun','trivedi',768]\n",
      "df['B']=boy2\n",
      "\n",
      "boy3 = ['rohit','bagaria',741]\n",
      "df['C']=boy3\n",
      "\n",
      "print df"
     ],
     "language": "python",
     "metadata": {},
     "outputs": [
      {
       "output_type": "stream",
       "stream": "stdout",
       "text": [
        "df is empty\n",
        "              A        B        C\n",
        "name     saswat    arjun    rohit\n",
        "surname   sarda  trivedi  bagaria\n",
        "roll#       772      768      741\n"
       ]
      }
     ],
     "prompt_number": 7
    },
    {
     "cell_type": "code",
     "collapsed": false,
     "input": [],
     "language": "python",
     "metadata": {},
     "outputs": []
    }
   ],
   "metadata": {}
  }
 ]
}