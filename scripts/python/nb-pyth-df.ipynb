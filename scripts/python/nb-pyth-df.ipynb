{
 "metadata": {
  "name": ""
 },
 "nbformat": 3,
 "nbformat_minor": 0,
 "worksheets": [
  {
   "cells": [
    {
     "cell_type": "markdown",
     "metadata": {},
     "source": [
      "### Following is an example for adding Columns to an empty data frame\n",
      "* Take note of the _special_ manner in which the first column is appended"
     ]
    },
    {
     "cell_type": "code",
     "collapsed": false,
     "input": [
      "import pandas as pd\n",
      "df = pd.DataFrame()\n",
      "if not df:\n",
      "    print 'df is empty'\n",
      "    \n",
      "data = pd.DataFrame({\"A\": range(3)}) # Data for 1st. Column \n",
      "df = df.append(data) # Add Data for 1st column\n",
      "if not df:\n",
      "    print 'df is empty after 1st append'\n",
      "\n",
      "data2 = ['arjun','trivedi',768]\n",
      "df['B']=data2\n",
      "\n",
      "df['C']=pd.Series(['the','champions','of'])\n",
      "print df"
     ],
     "language": "python",
     "metadata": {},
     "outputs": [
      {
       "output_type": "stream",
       "stream": "stdout",
       "text": [
        "df is empty\n",
        "   A        B          C\n",
        "0  0    arjun        the\n",
        "1  1  trivedi  champions\n",
        "2  2      768         of\n"
       ]
      }
     ],
     "prompt_number": 2
    },
    {
     "cell_type": "code",
     "collapsed": false,
     "input": [],
     "language": "python",
     "metadata": {},
     "outputs": []
    }
   ],
   "metadata": {}
  }
 ]
}