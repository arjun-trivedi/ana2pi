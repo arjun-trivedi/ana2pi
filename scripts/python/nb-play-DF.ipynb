{
 "metadata": {
  "name": ""
 },
 "nbformat": 3,
 "nbformat_minor": 0,
 "worksheets": [
  {
   "cells": [
    {
     "cell_type": "markdown",
     "metadata": {},
     "source": [
      "###To play around with DFs\n",
      "See nb-pyth-data_structures for notes on DF and other python DSs"
     ]
    },
    {
     "cell_type": "code",
     "collapsed": false,
     "input": [
      "import pandas as pd\n",
      "\n",
      "d = pd.DataFrame(randn(3,5), index=['r1','r2','r3'], \n",
      "                 columns=['c1','c2','c3','c4','c5'])\n",
      "print d\n",
      "print len(d)"
     ],
     "language": "python",
     "metadata": {},
     "outputs": [
      {
       "output_type": "stream",
       "stream": "stdout",
       "text": [
        "          c1        c2        c3        c4        c5\n",
        "r1 -0.020900  0.899098  0.410196  0.673066 -0.915468\n",
        "r2 -0.870625  1.031918  0.468759  0.932435  1.514397\n",
        "r3 -0.616439  0.609464 -1.221952  1.945959  1.536018\n",
        "3\n"
       ]
      }
     ],
     "prompt_number": 16
    },
    {
     "cell_type": "code",
     "collapsed": false,
     "input": [
      "sel= d['c1']>-1\n",
      "print sel\n",
      "d['c2']\n",
      "print d['c2'][sel]"
     ],
     "language": "python",
     "metadata": {},
     "outputs": [
      {
       "output_type": "stream",
       "stream": "stdout",
       "text": [
        "r1    False\n",
        "r2     True\n",
        "r3     True\n",
        "Name: c1, dtype: bool\n",
        "r2   -0.234403\n",
        "r3    1.125445\n",
        "Name: c2, dtype: float64\n"
       ]
      }
     ],
     "prompt_number": 8
    },
    {
     "cell_type": "code",
     "collapsed": false,
     "input": [
      "s=pd.Series(np.sin(np.arange(0,np.pi,np.pi/4)))\n",
      "print s\n",
      "sel = [True,True,False,True]\n",
      "print s[sel]"
     ],
     "language": "python",
     "metadata": {},
     "outputs": [
      {
       "output_type": "stream",
       "stream": "stdout",
       "text": [
        "0    0.000000\n",
        "1    0.707107\n",
        "2    1.000000\n",
        "3    0.707107\n",
        "dtype: float64\n",
        "0    0.000000\n",
        "1    0.707107\n",
        "3    0.707107\n",
        "dtype: float64\n"
       ]
      }
     ],
     "prompt_number": 15
    },
    {
     "cell_type": "code",
     "collapsed": false,
     "input": [],
     "language": "python",
     "metadata": {},
     "outputs": []
    }
   ],
   "metadata": {}
  }
 ]
}