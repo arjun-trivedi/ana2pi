{
 "metadata": {
  "name": ""
 },
 "nbformat": 3,
 "nbformat_minor": 0,
 "worksheets": [
  {
   "cells": [
    {
     "cell_type": "markdown",
     "metadata": {},
     "source": [
      "###To play around with DFs\n",
      "See nb-pyth-data_structures for notes on DF and other python DSs"
     ]
    },
    {
     "cell_type": "code",
     "collapsed": false,
     "input": [
      "import pandas as pd\n",
      "\n",
      "d = pd.DataFrame(randn(3,5), index=['r1','r2','r3'], \n",
      "                 columns=['c1','c2','c3','c4','c5'])\n",
      "print d\n",
      "print len(d)"
     ],
     "language": "python",
     "metadata": {},
     "outputs": [
      {
       "output_type": "stream",
       "stream": "stdout",
       "text": [
        "          c1        c2        c3       c4        c5\n",
        "r1 -0.751686  0.628044 -0.213885 -0.43118 -0.982786\n",
        "r2  0.675387  0.774118 -0.125244  1.01016  0.360589\n",
        "r3  0.253864 -0.642489 -1.260876  1.54584  0.694001\n",
        "3\n"
       ]
      }
     ],
     "prompt_number": 7
    },
    {
     "cell_type": "code",
     "collapsed": false,
     "input": [
      "sel=d['c1']>0.2\n",
      "print d['c2'][sel]"
     ],
     "language": "python",
     "metadata": {},
     "outputs": [
      {
       "output_type": "stream",
       "stream": "stdout",
       "text": [
        "r2    0.774118\n",
        "r3   -0.642489\n",
        "Name: c2, dtype: float64\n"
       ]
      }
     ],
     "prompt_number": 10
    },
    {
     "cell_type": "code",
     "collapsed": false,
     "input": [
      "x=d['c1'][:2]\n",
      "print x"
     ],
     "language": "python",
     "metadata": {},
     "outputs": [
      {
       "output_type": "stream",
       "stream": "stdout",
       "text": [
        "r1   -0.751686\n",
        "r2    0.675387\n",
        "Name: c1, dtype: float64\n"
       ]
      }
     ],
     "prompt_number": 13
    },
    {
     "cell_type": "code",
     "collapsed": false,
     "input": [],
     "language": "python",
     "metadata": {},
     "outputs": []
    }
   ],
   "metadata": {}
  }
 ]
}