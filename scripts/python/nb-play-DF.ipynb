{
 "metadata": {
  "name": ""
 },
 "nbformat": 3,
 "nbformat_minor": 0,
 "worksheets": [
  {
   "cells": [
    {
     "cell_type": "markdown",
     "metadata": {},
     "source": [
      "###To play around with DFs\n",
      "See nb-pyth-data_structures for notes on DF and other python DSs"
     ]
    },
    {
     "cell_type": "code",
     "collapsed": false,
     "input": [
      "import pandas as pd\n",
      "\n",
      "d = pd.DataFrame(randn(3,5), index=['r1','r2','r3'], \n",
      "                 columns=['c1','c2','c3','c4','c5'])\n",
      "print d\n",
      "print len(d)"
     ],
     "language": "python",
     "metadata": {},
     "outputs": [
      {
       "output_type": "stream",
       "stream": "stdout",
       "text": [
        "          c1        c2        c3        c4        c5\n",
        "r1 -1.289311 -1.686255 -0.787941 -0.433609 -1.106321\n",
        "r2  1.591927 -0.700340 -0.820722  0.796602 -0.181838\n",
        "r3 -0.787348  0.922851 -0.382044  0.572161  1.715126\n",
        "3\n"
       ]
      }
     ],
     "prompt_number": 4
    },
    {
     "cell_type": "code",
     "collapsed": false,
     "input": [
      "d['c1ADDc2']=d['c2']+d['c1']\n",
      "print d"
     ],
     "language": "python",
     "metadata": {},
     "outputs": [
      {
       "output_type": "stream",
       "stream": "stdout",
       "text": [
        "          c1        c2        c3        c4        c5   c1ADDc2\n",
        "r1 -1.289311 -1.686255 -0.787941 -0.433609 -1.106321 -2.975566\n",
        "r2  1.591927 -0.700340 -0.820722  0.796602 -0.181838  0.891587\n",
        "r3 -0.787348  0.922851 -0.382044  0.572161  1.715126  0.135503\n"
       ]
      }
     ],
     "prompt_number": 5
    },
    {
     "cell_type": "code",
     "collapsed": false,
     "input": [
      "-0.787348 + 0.922851"
     ],
     "language": "python",
     "metadata": {},
     "outputs": [
      {
       "metadata": {},
       "output_type": "pyout",
       "prompt_number": 6,
       "text": [
        "0.13550299999999993"
       ]
      }
     ],
     "prompt_number": 6
    },
    {
     "cell_type": "code",
     "collapsed": false,
     "input": [],
     "language": "python",
     "metadata": {},
     "outputs": []
    }
   ],
   "metadata": {}
  }
 ]
}