{
 "metadata": {
  "name": ""
 },
 "nbformat": 3,
 "nbformat_minor": 0,
 "worksheets": [
  {
   "cells": [
    {
     "cell_type": "markdown",
     "metadata": {},
     "source": [
      "###To play around with DFs\n",
      "See nb-pyth-data_structures for notes on DF and other python DSs"
     ]
    },
    {
     "cell_type": "code",
     "collapsed": false,
     "input": [
      "import pandas as pd\n",
      "\n",
      "d = pd.DataFrame(randn(3,5), index=['r1','r2','r3'], \n",
      "                 columns=['c1','c2','c3','c4','c5'])\n",
      "print d\n",
      "print len(d)"
     ],
     "language": "python",
     "metadata": {},
     "outputs": [
      {
       "output_type": "stream",
       "stream": "stdout",
       "text": [
        "          c1        c2        c3        c4        c5\n",
        "r1 -0.668024  0.142818  0.713490 -2.336897  0.427122\n",
        "r2  0.501552  0.319970  0.789535  0.296961 -0.102257\n",
        "r3  1.344607  1.328646  1.038973  0.655747 -0.232962\n",
        "3\n"
       ]
      }
     ],
     "prompt_number": 1
    },
    {
     "cell_type": "code",
     "collapsed": false,
     "input": [
      "sel=(d['c1']>0.2) & ((d['c3']>0.8) & (d['c4']>0))\n",
      "print d['c2'][sel]"
     ],
     "language": "python",
     "metadata": {},
     "outputs": [
      {
       "output_type": "stream",
       "stream": "stdout",
       "text": [
        "r3    1.328646\n",
        "Name: c2, dtype: float64\n"
       ]
      }
     ],
     "prompt_number": 12
    },
    {
     "cell_type": "code",
     "collapsed": false,
     "input": [
      "x=d['c1'][:2]\n",
      "print x"
     ],
     "language": "python",
     "metadata": {},
     "outputs": [
      {
       "output_type": "stream",
       "stream": "stdout",
       "text": [
        "r1   -0.751686\n",
        "r2    0.675387\n",
        "Name: c1, dtype: float64\n"
       ]
      }
     ],
     "prompt_number": 13
    },
    {
     "cell_type": "code",
     "collapsed": false,
     "input": [],
     "language": "python",
     "metadata": {},
     "outputs": []
    }
   ],
   "metadata": {}
  }
 ]
}