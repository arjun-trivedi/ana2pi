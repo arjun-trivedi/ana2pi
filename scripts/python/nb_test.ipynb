{
 "metadata": {
  "name": ""
 },
 "nbformat": 3,
 "nbformat_minor": 0,
 "worksheets": [
  {
   "cells": [
    {
     "cell_type": "markdown",
     "metadata": {},
     "source": [
      "## Lists and Arrays in Python \n",
      "* ### Arrays are made of of Lists\n",
      "* ### Lists are 1D \"horizontal\" data structures"
     ]
    },
    {
     "cell_type": "raw",
     "metadata": {},
     "source": [
      "Example of List & implementation of 2D data structure using List"
     ]
    },
    {
     "cell_type": "code",
     "collapsed": false,
     "input": [
      "l = [] #Create an empty List\n",
      "print \"Empty list = \",l\n",
      "l = [1,2,3] #Initialize List\n",
      "print \"Initialized list =\",l\n",
      "\n",
      "md = [[],[]] #Create a List of Lists (=\"2D Array\")\n",
      "print \"Empty \\\"2D Array\\\" = \",md\n",
      "md[0]=[1,2,3] #Initialize \"2D Array\"=(Lists of Lists)\n",
      "md[1]=[4,5,6]\n",
      "print \"Initiliazed \\\"2D Array\\\" = \",md\n",
      "#print md[1][1] #Access a particular \"2D Array\" element\n",
      "\n"
     ],
     "language": "python",
     "metadata": {},
     "outputs": [
      {
       "output_type": "stream",
       "stream": "stdout",
       "text": [
        "Empty list =  []\n",
        "Initialized list = [1, 2, 3]\n",
        "Empty \"2D Array\" =  [[], []]\n",
        "Initiliazed \"2D Array\" =  [[1, 2, 3], [4, 5, 6]]\n"
       ]
      }
     ],
     "prompt_number": 36
    },
    {
     "cell_type": "raw",
     "metadata": {},
     "source": [
      "Direct use of Numpy to create Arrays"
     ]
    },
    {
     "cell_type": "code",
     "collapsed": false,
     "input": [
      "#from numpy import * \n",
      "import numpy as np\n",
      "a = np.arange(10).reshape(2, 5)\n",
      "print \"array A shape:size =\",a.shape,\":\",a.ndim\n",
      "print a\n",
      "\n",
      "b = np.array([(1,2,1),(3,4,1),(3,4,1),(4,5,1)])\n",
      "print \"array B shape:size =\",b.shape,\":\",b.ndim\n",
      "print b\n",
      "\n",
      "c = np.zeros((5,5,5))\n",
      "print \"array C shape:size =\",c.shape,\":\",c.ndim\n",
      "print c\n",
      "c[0][0][0] = 1\n",
      "print c[0][0][0]\n"
     ],
     "language": "python",
     "metadata": {},
     "outputs": [
      {
       "output_type": "stream",
       "stream": "stdout",
       "text": [
        "array A shape:size = (2, 5) : 2\n",
        "[[0 1 2 3 4]\n",
        " [5 6 7 8 9]]\n",
        "array B shape:size = (4, 3) : 2\n",
        "[[1 2 1]\n",
        " [3 4 1]\n",
        " [3 4 1]\n",
        " [4 5 1]]\n",
        "array C shape:size = (5, 5, 5) : 3\n",
        "[[[ 0.  0.  0.  0.  0.]\n",
        "  [ 0.  0.  0.  0.  0.]\n",
        "  [ 0.  0.  0.  0.  0.]\n",
        "  [ 0.  0.  0.  0.  0.]\n",
        "  [ 0.  0.  0.  0.  0.]]\n",
        "\n",
        " [[ 0.  0.  0.  0.  0.]\n",
        "  [ 0.  0.  0.  0.  0.]\n",
        "  [ 0.  0.  0.  0.  0.]\n",
        "  [ 0.  0.  0.  0.  0.]\n",
        "  [ 0.  0.  0.  0.  0.]]\n",
        "\n",
        " [[ 0.  0.  0.  0.  0.]\n",
        "  [ 0.  0.  0.  0.  0.]\n",
        "  [ 0.  0.  0.  0.  0.]\n",
        "  [ 0.  0.  0.  0.  0.]\n",
        "  [ 0.  0.  0.  0.  0.]]\n",
        "\n",
        " [[ 0.  0.  0.  0.  0.]\n",
        "  [ 0.  0.  0.  0.  0.]\n",
        "  [ 0.  0.  0.  0.  0.]\n",
        "  [ 0.  0.  0.  0.  0.]\n",
        "  [ 0.  0.  0.  0.  0.]]\n",
        "\n",
        " [[ 0.  0.  0.  0.  0.]\n",
        "  [ 0.  0.  0.  0.  0.]\n",
        "  [ 0.  0.  0.  0.  0.]\n",
        "  [ 0.  0.  0.  0.  0.]\n",
        "  [ 0.  0.  0.  0.  0.]]]\n",
        "1.0\n"
       ]
      }
     ],
     "prompt_number": 88
    },
    {
     "cell_type": "code",
     "collapsed": false,
     "input": [
      "#print b\n",
      "bt = np.transpose(b)\n",
      "print bt \n",
      "np.vsplit(bt,3)\n",
      "#vs = np.vsplit(bt,2)\n",
      "#hs = np.hsplit(bt,(0,1,2))\n",
      "#print vs\n",
      "#print hs\n",
      "\n",
      "#print vs[0][0]\n",
      "#print hs[0][0]"
     ],
     "language": "python",
     "metadata": {},
     "outputs": [
      {
       "output_type": "stream",
       "stream": "stdout",
       "text": [
        "[[1 3 3 4]\n",
        " [2 4 4 5]\n",
        " [1 1 1 1]]\n"
       ]
      },
      {
       "metadata": {},
       "output_type": "pyout",
       "prompt_number": 131,
       "text": [
        "[array([[1, 3, 3, 4]]), array([[2, 4, 4, 5]]), array([[1, 1, 1, 1]])]"
       ]
      }
     ],
     "prompt_number": 131
    },
    {
     "cell_type": "code",
     "collapsed": false,
     "input": [
      "a = floor(10*random.random((12,1)))\n",
      "print a"
     ],
     "language": "python",
     "metadata": {},
     "outputs": [
      {
       "output_type": "stream",
       "stream": "stdout",
       "text": [
        "[[ 6.]\n",
        " [ 5.]\n",
        " [ 5.]\n",
        " [ 6.]\n",
        " [ 3.]\n",
        " [ 4.]\n",
        " [ 8.]\n",
        " [ 4.]\n",
        " [ 3.]\n",
        " [ 0.]\n",
        " [ 6.]\n",
        " [ 4.]]\n"
       ]
      }
     ],
     "prompt_number": 132
    },
    {
     "cell_type": "code",
     "collapsed": false,
     "input": [
      "np.hsplit(a,1)"
     ],
     "language": "python",
     "metadata": {},
     "outputs": [
      {
       "metadata": {},
       "output_type": "pyout",
       "prompt_number": 133,
       "text": [
        "[array([[ 6.],\n",
        "       [ 5.],\n",
        "       [ 5.],\n",
        "       [ 6.],\n",
        "       [ 3.],\n",
        "       [ 4.],\n",
        "       [ 8.],\n",
        "       [ 4.],\n",
        "       [ 3.],\n",
        "       [ 0.],\n",
        "       [ 6.],\n",
        "       [ 4.]])]"
       ]
      }
     ],
     "prompt_number": 133
    },
    {
     "cell_type": "code",
     "collapsed": false,
     "input": [],
     "language": "python",
     "metadata": {},
     "outputs": []
    }
   ],
   "metadata": {}
  }
 ]
}