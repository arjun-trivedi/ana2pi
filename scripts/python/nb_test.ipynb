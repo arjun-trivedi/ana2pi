{
 "metadata": {
  "name": ""
 },
 "nbformat": 3,
 "nbformat_minor": 0,
 "worksheets": [
  {
   "cells": [
    {
     "cell_type": "markdown",
     "metadata": {},
     "source": [
      "## Lists and Arrays in Python (Arrays are made up of Lists in Python)"
     ]
    },
    {
     "cell_type": "markdown",
     "metadata": {},
     "source": [
      "Example of List & implementation of 2D data structure using List"
     ]
    },
    {
     "cell_type": "code",
     "collapsed": false,
     "input": [
      "l = [] #Create an empty List\n",
      "print \"Empty list = \",l\n",
      "l = [1,2,3] #Initialize List\n",
      "print \"Initialized list =\",l\n",
      "\n",
      "md = [[],[]] #Create a List of Lists (=\"2D Array\")\n",
      "print \"Empty \\\"2D Array\\\" = \",md\n",
      "md[0]=[1,2,3] #Initialize \"2D Array\"=(Lists of Lists)\n",
      "md[1]=[4,5,6]\n",
      "print \"Initiliazed \\\"2D Array\\\" = \",md\n",
      "#print md[1][1] #Access a particular \"2D Array\" element\n",
      "\n"
     ],
     "language": "python",
     "metadata": {},
     "outputs": [
      {
       "output_type": "stream",
       "stream": "stdout",
       "text": [
        "Empty list =  []\n",
        "Initialized list = [1, 2, 3]\n",
        "Empty \"2D Array\" =  [[], []]\n",
        "Initiliazed \"2D Array\" =  [[1, 2, 3], [4, 5, 6]]\n"
       ]
      }
     ],
     "prompt_number": 36
    },
    {
     "cell_type": "raw",
     "metadata": {},
     "source": [
      "Direct use of Numpy to create Arrays"
     ]
    },
    {
     "cell_type": "code",
     "collapsed": false,
     "input": [],
     "language": "python",
     "metadata": {},
     "outputs": []
    },
    {
     "cell_type": "code",
     "collapsed": false,
     "input": [
      "import matplotlib.pyplot as plt\n",
      "\n",
      "x = range(100)\n",
      "y = range(100,200)\n",
      "fig = plt.figure()\n",
      "\n",
      "ax1 = fig.add_subplot(221,title=\"ax1\")\n",
      "opts = 'c=\\'b\\', marker=\\\"s\\\"'\n",
      "print opts\n",
      "#ax1.scatter(x[:4], y[:4], s=10, opts)\n",
      "ax1.scatter(y[4:], x[4:], s=10, c='r', marker=\"o\")\n",
      "\n",
      "\n",
      "ax2 = fig.add_subplot(222, title=\"ax2\")\n",
      "ax2.scatter(x[:4], y[:4], s=1, c='b', marker=\"s\")\n",
      "ax2.scatter(y[4:], x[4:], s=1, c='r', marker=\"o\")\n",
      "\n",
      "#plt.show()\n",
      "plt.savefig(\"test2.jpg\")"
     ],
     "language": "python",
     "metadata": {},
     "outputs": [
      {
       "output_type": "stream",
       "stream": "stdout",
       "text": [
        "c='b', marker=\"s\"\n"
       ]
      },
      {
       "metadata": {},
       "output_type": "display_data",
       "png": "[encoded data removed]",
       "text": [
        "<matplotlib.figure.Figure at 0x31a4550>"
       ]
      }
     ],
     "prompt_number": 1
    },
    {
     "cell_type": "code",
     "collapsed": false,
     "input": [],
     "language": "python",
     "metadata": {},
     "outputs": []
    }
   ],
   "metadata": {}
  }
 ]
}