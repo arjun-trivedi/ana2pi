{
 "metadata": {
  "name": ""
 },
 "nbformat": 3,
 "nbformat_minor": 0,
 "worksheets": [
  {
   "cells": [
    {
     "cell_type": "markdown",
     "metadata": {},
     "source": [
      "### {Pandas DataFrame}{ROOT Hisotgrams}{HDF5 file format}"
     ]
    },
    {
     "cell_type": "raw",
     "metadata": {},
     "source": [
      "In this notebook, I want to demonstrate that I can use Pandas DataFrame (DF) to store and manipulate ROOT histograms. \n",
      "\n",
      "I cannot, however, take advantage of vectorized operations for a DF that holds ROOT objects. Nevertheless, once a DF is prepared with ROOT objects, the ease of accessibility of the objects, combined with \"familiar\" semantics of Python, makes for writing readable and terse code.  "
     ]
    },
    {
     "cell_type": "markdown",
     "metadata": {},
     "source": [
      "####Define \n",
      "* make_test_hdf5(): Create a DF with just one Column(H1) of 10 TH1Ds and store it in store.h5\n",
      "* read_test_hdf5(): Read contents of store.h5\n",
      "* get_df_hdf5(): Get DF from store.h5"
     ]
    },
    {
     "cell_type": "code",
     "collapsed": false,
     "input": [
      "import os\n",
      "import numpy as np\n",
      "randn = np.random.randn\n",
      "import pandas as pd\n",
      "\n",
      "from ROOT import TH1D\n",
      "\n",
      "def make_test_hdf5():\n",
      "\t\"\"\" Create a DF with just one Column(H1) of N TH1Ds,\n",
      "    indexed by [0,...,N] and store it in a HDF5 file.\n",
      "    Instructions from: http://pandas.pydata.org/pandas-docs/dev/io.html#hdf5-pytables\n",
      "\n",
      "    \"\"\"\n",
      "\tprint 'Going to create store.h5:'\n",
      "\t#1. If store.hdf5 exists, delete it\n",
      "\tif os.path.isfile('store.h5'):\n",
      "\t\tos.remove('store.h5')\n",
      "\t#2. Create HDF5 store & see what it contains\n",
      "\tstore = pd.HDFStore('store.h5')\n",
      "\t#print 'store =',store\n",
      "\n",
      "\t#3. Create Histograms to store\n",
      "\tNHISTS=10\n",
      "\thl = []\n",
      "\tfor i in range(0,NHISTS):\n",
      "\t\tname = 'h%d'%(i+1)\n",
      "\t\thl.append(TH1D(name,name,100,0,5))\n",
      "\t\t\n",
      "\t#4. Insert 1st columns into df\n",
      "\tindex = np.arange(0,NHISTS)\n",
      "\tdf = pd.DataFrame()\n",
      "\tif not df:\n",
      "\t\tdata = pd.DataFrame({'H1':hl},index=index) # Data for 1st. Column \n",
      "\t\tdf = df.append(data)\n",
      "\n",
      "\t#5. Add df to store\n",
      "\tstore['df']=df\n",
      "\t#6. See the stored data type \n",
      "\t#print 'Type of stored data = ',store.root.df._v_attrs.pandas_type\n",
      "\t#7. See what the file finally contains\n",
      "\t#print 'store=',store\n",
      "\n",
      "def read_test_hdf5():\n",
      "\tprint 'Going to read contents of store.h5:'\n",
      "\tif os.path.isfile('store.h5'):\n",
      "\t\tstore = pd.HDFStore('store.h5')\n",
      "\t\tprint 'store =',store\n",
      "\t\tprint store['df']\n",
      "\telse:\n",
      "\t\tprint 'store.h5 does not exist!'\n",
      "\t\n",
      "        \n",
      "def get_df_hdf5():\n",
      "    if os.path.isfile('store.h5'):\n",
      "\t\tstore = pd.HDFStore('store.h5')\n",
      "\t\tdf = store['df']\n",
      "    else:\n",
      "        print 'store.h5 does not exist!'\n",
      "    return df\n",
      "            \n",
      "\t"
     ],
     "language": "python",
     "metadata": {},
     "outputs": [],
     "prompt_number": 1
    },
    {
     "cell_type": "code",
     "collapsed": false,
     "input": [
      "make_test_hdf5()\n",
      "df = get_df_hdf5()"
     ],
     "language": "python",
     "metadata": {},
     "outputs": [
      {
       "output_type": "stream",
       "stream": "stdout",
       "text": [
        "Going to create store.h5:\n",
        "store = <class 'pandas.io.pytables.HDFStore'>\n",
        "File path: store.h5\n",
        "Empty\n",
        "Type of stored data = "
       ]
      },
      {
       "output_type": "stream",
       "stream": "stdout",
       "text": [
        " frame\n",
        "store= <class 'pandas.io.pytables.HDFStore'>\n",
        "File path: store.h5\n",
        "/df            frame        (shape->[1,1])\n"
       ]
      },
      {
       "output_type": "stream",
       "stream": "stderr",
       "text": [
        "/usr/local/lib/python2.7/dist-packages/pandas/io/pytables.py:1992: PerformanceWarning: \n",
        "your performance may suffer as PyTables will pickle object types that it cannot\n",
        "map directly to c-types [inferred_type->mixed,key->block0_values] [items->['H1']]\n",
        "\n",
        "  warnings.warn(ws, PerformanceWarning)\n"
       ]
      }
     ],
     "prompt_number": 2
    },
    {
     "cell_type": "code",
     "collapsed": false,
     "input": [
      "def print_hname(h):\n",
      "    print h.GetName()\n",
      "def print_entries(h):\n",
      "    print h.GetEntries()\n",
      "def fill1(h):\n",
      "    h.Fill(1)\n",
      "def fill2(h):\n",
      "    h.Fill(2)\n",
      "    \n",
      "hs=df['H1']\n",
      "for i in range(0,len(hs)):\n",
      "    print_hname(hs[i])\n",
      "    print_entries(hs[i])\n",
      "    #fill(hs[i])\n",
      "    print_entries(hs[i])\n",
      "    "
     ],
     "language": "python",
     "metadata": {},
     "outputs": [
      {
       "output_type": "stream",
       "stream": "stdout",
       "text": [
        "h1\n",
        "0.0\n",
        "0.0\n",
        "h2\n",
        "0.0\n",
        "0.0\n",
        "h3\n",
        "0.0\n",
        "0.0\n",
        "h4\n",
        "0.0\n",
        "0.0\n",
        "h5\n",
        "0.0\n",
        "0.0\n",
        "h6\n",
        "0.0\n",
        "0.0\n",
        "h7\n",
        "0.0\n",
        "0.0\n",
        "h8\n",
        "0.0\n",
        "0.0\n",
        "h9\n",
        "0.0\n",
        "0.0\n",
        "h10\n",
        "0.0\n",
        "0.0\n"
       ]
      }
     ],
     "prompt_number": 5
    },
    {
     "cell_type": "code",
     "collapsed": false,
     "input": [],
     "language": "python",
     "metadata": {},
     "outputs": []
    }
   ],
   "metadata": {}
  }
 ]
}