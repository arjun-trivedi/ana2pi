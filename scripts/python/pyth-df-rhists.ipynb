{
 "metadata": {
  "name": ""
 },
 "nbformat": 3,
 "nbformat_minor": 0,
 "worksheets": [
  {
   "cells": [
    {
     "cell_type": "markdown",
     "metadata": {},
     "source": [
      "### {Pandas DataFrame}{ROOT Hisotgrams}{HDF5 file format}"
     ]
    },
    {
     "cell_type": "raw",
     "metadata": {},
     "source": [
      "Test Case for using Pandas DataFrame to store (to HDF5 files) and perform various operations in a \"functional\" manner on ROOT Histograms.  "
     ]
    },
    {
     "cell_type": "code",
     "collapsed": false,
     "input": [
      "\"\"\" Use Case for storing Pandas DataFrame with ROOT Histograms in \n",
      "a HDF5 file\n",
      "Instructions from: http://pandas.pydata.org/pandas-docs/dev/io.html#hdf5-pytables\n",
      "\n",
      "\"\"\"\n",
      "import os\n",
      "import numpy as np\n",
      "randn = np.random.randn\n",
      "import pandas as pd\n",
      "\n",
      "from ROOT import TH1D\n",
      "\n",
      "def make_test_hdf5():\n",
      "\tprint 'Going to create store.h5:'\n",
      "\t#1. If store.hdf5 exists, delete it\n",
      "\tif os.path.isfile('store.h5'):\n",
      "\t\tos.remove('store.h5')\n",
      "\t#2. Create HDF5 store & see what it contains\n",
      "\tstore = pd.HDFStore('store.h5')\n",
      "\tprint 'store =',store\n",
      "\n",
      "\t#3. Create Histograms to store\n",
      "\thl = []\n",
      "\tfor i in range(0,8):\n",
      "\t\tname = 'h%d'%(i+1)\n",
      "\t\thl.append(TH1D(name,name,100,0,5))\n",
      "\t\t\n",
      "\tindex = np.arange(0,8)\n",
      "\tdf = pd.DataFrame()\n",
      "\n",
      "\t#4. Insert 1st columns into df\n",
      "\tif not df:\n",
      "\t\tdata = pd.DataFrame({'s1':hl},index=index) # Data for 1st. Column \n",
      "\t\tdf = df.append(data)\n",
      "\n",
      "\t#5. Insert 2nd (duplicate) column into df\n",
      "\tdf['H'] = hl\n",
      "\t#print 'df=',df\n",
      "\n",
      "\t#6. Add df to store\n",
      "\tstore['df']=df\n",
      "\t#7. See the stored data type \n",
      "\tprint 'Type of stored data = ',store.root.df._v_attrs.pandas_type\n",
      "\t#8. See what the file finally contains\n",
      "\tprint 'store.h5 contains', store\n",
      "\n",
      "def read_test_hdf5():\n",
      "\tprint 'Going to read contents of store.h5:'\n",
      "\tif os.path.isfile('store.h5'):\n",
      "\t\tstore = pd.HDFStore('store.h5')\n",
      "\t\tprint 'store =',store\n",
      "\t\tprint store['df']\n",
      "\telse:\n",
      "\t\tprint 'store.h5 does not exist!'\n",
      "        \n",
      "def get_df_hdf5():\n",
      "    if os.path.isfile('store.h5'):\n",
      "\t\tstore = pd.HDFStore('store.h5')\n",
      "\t\tdf = store['df']\n",
      "    else:\n",
      "        print 'store.h5 does not exist!'\n",
      "    return df\n",
      "            \n",
      "\t"
     ],
     "language": "python",
     "metadata": {},
     "outputs": [],
     "prompt_number": 2
    },
    {
     "cell_type": "code",
     "collapsed": false,
     "input": [
      "make_test_hdf5()"
     ],
     "language": "python",
     "metadata": {},
     "outputs": [
      {
       "output_type": "stream",
       "stream": "stdout",
       "text": [
        "Going to create store.h5:\n",
        "store = <class 'pandas.io.pytables.HDFStore'>\n",
        "File path: store.h5\n",
        "Empty\n",
        "Type of stored data = "
       ]
      },
      {
       "output_type": "stream",
       "stream": "stdout",
       "text": [
        " frame\n",
        "store.h5 contains <class 'pandas.io.pytables.HDFStore'>\n",
        "File path: store.h5\n",
        "/df            frame        (shape->[1,2])\n"
       ]
      },
      {
       "output_type": "stream",
       "stream": "stderr",
       "text": [
        "/usr/local/lib/python2.7/dist-packages/pandas/io/pytables.py:1992: PerformanceWarning: \n",
        "your performance may suffer as PyTables will pickle object types that it cannot\n",
        "map directly to c-types [inferred_type->mixed,key->block0_values] [items->['s1', 'H']]\n",
        "\n",
        "  warnings.warn(ws, PerformanceWarning)\n"
       ]
      }
     ],
     "prompt_number": 3
    },
    {
     "cell_type": "code",
     "collapsed": false,
     "input": [
      "read_test_hdf5()"
     ],
     "language": "python",
     "metadata": {},
     "outputs": [
      {
       "output_type": "stream",
       "stream": "stdout",
       "text": [
        "Going to read contents of store.h5:\n",
        "store = <class 'pandas.io.pytables.HDFStore'>\n",
        "File path: store.h5\n",
        "/df            frame        (shape->[1,2])\n",
        "                                       s1  \\\n",
        "0  <ROOT.TH1D object (\"h1\") at 0x5ca3cc0>   \n",
        "1  <ROOT.TH1D object (\"h2\") at 0x5ca43e0>   \n",
        "2  <ROOT.TH1D object (\"h3\") at 0x5ca4b00>   \n",
        "3  <ROOT.TH1D object (\"h4\") at 0x5ca5220>   \n",
        "4  <ROOT.TH1D object (\"h5\") at 0x5cb0ff0>   \n",
        "5  <ROOT.TH1D object (\"h6\") at 0x5cb1710>   \n",
        "6  <ROOT.TH1D object (\"h7\") at 0x5cb1e30>   \n",
        "7  <ROOT.TH1D object (\"h8\") at 0x5cb2550>   \n",
        "\n",
        "                                        H  \n",
        "0  <ROOT.TH1D object (\"h1\") at 0x5ca3cc0>  \n",
        "1  <ROOT.TH1D object (\"h2\") at 0x5ca43e0>  \n",
        "2  <ROOT.TH1D object (\"h3\") at 0x5ca4b00>  \n",
        "3  <ROOT.TH1D object (\"h4\") at 0x5ca5220>  \n",
        "4  <ROOT.TH1D object (\"h5\") at 0x5cb0ff0>  \n",
        "5  <ROOT.TH1D object (\"h6\") at 0x5cb1710>  \n",
        "6  <ROOT.TH1D object (\"h7\") at 0x5cb1e30>  \n",
        "7  <ROOT.TH1D object (\"h8\") at 0x5cb2550>  \n"
       ]
      }
     ],
     "prompt_number": 4
    },
    {
     "cell_type": "code",
     "collapsed": false,
     "input": [
      "df = get_df_hdf5()\n",
      "print len(df.index)\n",
      "dl=[]\n",
      "for i in range(0,len(df.index)):\n",
      "    dl.append(df.iloc[i]['H'])\n",
      "df['test']=dl\n",
      "print df\n",
      "#df['test']=df['H'].Clone(\"test\")"
     ],
     "language": "python",
     "metadata": {},
     "outputs": [
      {
       "output_type": "stream",
       "stream": "stdout",
       "text": [
        "8\n",
        "                                       s1  \\\n",
        "0  <ROOT.TH1D object (\"h1\") at 0x5d31100>   \n",
        "1  <ROOT.TH1D object (\"h2\") at 0x5d31850>   \n",
        "2  <ROOT.TH1D object (\"h3\") at 0x5d38000>   \n",
        "3  <ROOT.TH1D object (\"h4\") at 0x5d38780>   \n",
        "4  <ROOT.TH1D object (\"h5\") at 0x5d38f00>   \n",
        "5  <ROOT.TH1D object (\"h6\") at 0x5d32970>   \n",
        "6  <ROOT.TH1D object (\"h7\") at 0x5d33090>   \n",
        "7  <ROOT.TH1D object (\"h8\") at 0x5d33810>   \n",
        "\n",
        "                                        H  \\\n",
        "0  <ROOT.TH1D object (\"h1\") at 0x5d31100>   \n",
        "1  <ROOT.TH1D object (\"h2\") at 0x5d31850>   \n",
        "2  <ROOT.TH1D object (\"h3\") at 0x5d38000>   \n",
        "3  <ROOT.TH1D object (\"h4\") at 0x5d38780>   \n",
        "4  <ROOT.TH1D object (\"h5\") at 0x5d38f00>   \n",
        "5  <ROOT.TH1D object (\"h6\") at 0x5d32970>   \n",
        "6  <ROOT.TH1D object (\"h7\") at 0x5d33090>   \n",
        "7  <ROOT.TH1D object (\"h8\") at 0x5d33810>   \n",
        "\n",
        "                                     test  \n",
        "0  <ROOT.TH1D object (\"h1\") at 0x5d31100>  \n",
        "1  <ROOT.TH1D object (\"h2\") at 0x5d31850>  \n",
        "2  <ROOT.TH1D object (\"h3\") at 0x5d38000>  \n",
        "3  <ROOT.TH1D object (\"h4\") at 0x5d38780>  \n",
        "4  <ROOT.TH1D object (\"h5\") at 0x5d38f00>  \n",
        "5  <ROOT.TH1D object (\"h6\") at 0x5d32970>  \n",
        "6  <ROOT.TH1D object (\"h7\") at 0x5d33090>  \n",
        "7  <ROOT.TH1D object (\"h8\") at 0x5d33810>  \n"
       ]
      }
     ],
     "prompt_number": 13
    },
    {
     "cell_type": "code",
     "collapsed": false,
     "input": [],
     "language": "python",
     "metadata": {},
     "outputs": []
    }
   ],
   "metadata": {}
  }
 ]
}