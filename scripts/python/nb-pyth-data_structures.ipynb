{
 "metadata": {
  "name": ""
 },
 "nbformat": 3,
 "nbformat_minor": 0,
 "worksheets": [
  {
   "cells": [
    {
     "cell_type": "markdown",
     "metadata": {},
     "source": [
      "## Tutorial to understand basic Data Structures in Python\n",
      "(http://pandas.pydata.org/pandas-docs/dev/dsintro.html)"
     ]
    },
    {
     "cell_type": "code",
     "collapsed": false,
     "input": [
      "import numpy as np\n",
      "randn = np.random.randn\n",
      "\n",
      "import pandas as pd\n",
      "\n",
      "# Example of Series (sub-class = NDFrame; earlier was ndarray)\n",
      "#series with default index [1,2,3...]\n",
      "s=pd.Series(np.sin(np.arange(0,np.pi,np.pi/4)));\n",
      "print s"
     ],
     "language": "python",
     "metadata": {},
     "outputs": [
      {
       "output_type": "stream",
       "stream": "stdout",
       "text": [
        "0    0.000000\n",
        "1    0.707107\n",
        "2    1.000000\n",
        "3    0.707107\n",
        "dtype: float64\n"
       ]
      }
     ],
     "prompt_number": 12
    },
    {
     "cell_type": "markdown",
     "metadata": {},
     "source": [
      "### Example of Series (sub-class = 'NDFrame'; earlier was 'ndarray')\n",
      "* Series is __dict-like__ i.e an array of __values__ with __labels__(__indices__)"
     ]
    },
    {
     "cell_type": "code",
     "collapsed": false,
     "input": [
      "# Series with default index\n",
      "s=pd.Series(np.sin(np.arange(0,np.pi,np.pi/4))); \n",
      "print s"
     ],
     "language": "python",
     "metadata": {},
     "outputs": [
      {
       "output_type": "stream",
       "stream": "stdout",
       "text": [
        "0    0.000000\n",
        "1    0.707107\n",
        "2    1.000000\n",
        "3    0.707107\n",
        "dtype: float64\n"
       ]
      }
     ],
     "prompt_number": 13
    },
    {
     "cell_type": "markdown",
     "metadata": {},
     "source": [
      "### DataFrame\n",
      "* Can be thought of as a __dict of Series__ object or more generally, as a 2D labeled data structure with columns of potentially different types (as in a spreadsheet)\n",
      "* Since __index__ is reserved as labels for __values__ in a Series,  __columns__ are used to access a particular __Series__ inserted in a DF\n",
      "    * __index__ = row labels (or label for each element of a series)\n",
      "    * __columns__ = column label (or label for each Series in a DF)\n",
      "    \n",
      "    OR more abstractly (for example if imagining a flat 2D structure or horizontal rows and vertical columns)\n",
      "    \n",
      "    * __index__ = __horizontal__ label = __axis 0__\n",
      "    * __columns__ = __vertical__ label = __axis 1__\n"
     ]
    },
    {
     "cell_type": "code",
     "collapsed": false,
     "input": [
      "# Example: DF from dict of Series\n",
      "boy1 = ['arjun','trivedi',768]\n",
      "boy2 = ['rohit','bagaria',741]\n",
      "d = {'s1':boy1, 's2':boy2} # dict of Series\n",
      "df = pd.DataFrame(d)\n",
      "print df\n"
     ],
     "language": "python",
     "metadata": {},
     "outputs": [
      {
       "output_type": "stream",
       "stream": "stdout",
       "text": [
        "        s1       s2\n",
        "0    arjun    rohit\n",
        "1  trivedi  bagaria\n",
        "2      768      741\n"
       ]
      }
     ],
     "prompt_number": 3
    },
    {
     "cell_type": "markdown",
     "metadata": {},
     "source": [
      "### Example for \"basics of indexing are as follows (search this in reference for details):"
     ]
    },
    {
     "cell_type": "code",
     "collapsed": false,
     "input": [
      "print \"Select column df[col]: >>>df[\\'s1\\']\"\n",
      "print df['s1']\n",
      "print \"\\n\"\n",
      "print \"Select row by label df.loc[label]: >>>df.loc[0]\"\n",
      "print df.loc[0]\n",
      "print \"\\n\"\n",
      "print \"Select row by integer location df.iloc[loc]: >>>df.iloc[0]\"\n",
      "print df.iloc[0]\n",
      "print \"\\n\"\n",
      "print \"Slice rows df[rlabel1:rlabel2]: >>>df[0:2]\"\n",
      "print df[0:2]\n",
      "\n",
      "\n"
     ],
     "language": "python",
     "metadata": {},
     "outputs": [
      {
       "output_type": "stream",
       "stream": "stdout",
       "text": [
        "Select column df[col]: >>>df['s1']\n",
        "0      arjun\n",
        "1    trivedi\n",
        "2        768\n",
        "Name: s1, dtype: object\n",
        "\n",
        "\n",
        "Select row by label df.loc[label]: >>>df.loc[0]\n",
        "s1    arjun\n",
        "s2    rohit\n",
        "Name: 0, dtype: object\n",
        "\n",
        "\n",
        "Select row by integer location df.iloc[loc]: >>>df.iloc[0]\n",
        "s1    arjun\n",
        "s2    rohit\n",
        "Name: 0, dtype: object\n",
        "\n",
        "\n",
        "Slice rows df[rlabel1:rlabel2]: >>>df[0:2]\n",
        "        s1       s2\n",
        "0    arjun    rohit\n",
        "1  trivedi  bagaria\n"
       ]
      }
     ],
     "prompt_number": 13
    },
    {
     "cell_type": "markdown",
     "metadata": {},
     "source": [
      "### More sophisticated indexing\n",
      "(http://pandas.pydata.org/pandas-docs/dev/indexing.html)"
     ]
    },
    {
     "cell_type": "markdown",
     "metadata": {},
     "source": [
      "### Boolean Indexing\n",
      "\n",
      "* This is what I have been using for simstats DF to select data. \n",
      "* The idea is to set up a __boolean vector__ that can be passed to the indexing operator __[]__"
     ]
    },
    {
     "cell_type": "code",
     "collapsed": false,
     "input": [
      "d = pd.DataFrame(randn(3,5), index=['r1','r2','r3'], \n",
      "                 columns=['c1','c2','c3','c4','c5'])\n",
      "print d"
     ],
     "language": "python",
     "metadata": {},
     "outputs": [
      {
       "output_type": "stream",
       "stream": "stdout",
       "text": [
        "          c1        c2        c3        c4        c5\n",
        "r1  0.008888  1.865499 -0.849541  0.102594 -0.166621\n",
        "r2  0.136662 -2.055656 -1.789415  0.010316  1.541970\n",
        "r3  0.961905 -0.543898 -0.968403 -2.053306  0.419319\n"
       ]
      }
     ],
     "prompt_number": 5
    },
    {
     "cell_type": "code",
     "collapsed": false,
     "input": [
      "#set up boolean vector =  selection\n",
      "sel = d['c1']>0.1\n",
      "print d[sel]"
     ],
     "language": "python",
     "metadata": {},
     "outputs": [
      {
       "output_type": "stream",
       "stream": "stdout",
       "text": [
        "          c1        c2        c3        c4        c5\n",
        "r2  0.136662 -2.055656 -1.789415  0.010316  1.541970\n",
        "r3  0.961905 -0.543898 -0.968403 -2.053306  0.419319\n"
       ]
      }
     ],
     "prompt_number": 10
    },
    {
     "cell_type": "code",
     "collapsed": false,
     "input": [
      "np.arange(0,2)"
     ],
     "language": "python",
     "metadata": {},
     "outputs": [
      {
       "metadata": {},
       "output_type": "pyout",
       "prompt_number": 1,
       "text": [
        "array([0, 1])"
       ]
      }
     ],
     "prompt_number": 1
    },
    {
     "cell_type": "code",
     "collapsed": false,
     "input": [],
     "language": "python",
     "metadata": {},
     "outputs": []
    }
   ],
   "metadata": {}
  }
 ]
}