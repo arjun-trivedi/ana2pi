{
 "metadata": {
  "name": ""
 },
 "nbformat": 3,
 "nbformat_minor": 0,
 "worksheets": [
  {
   "cells": [
    {
     "cell_type": "markdown",
     "metadata": {},
     "source": [
      "### Following is an example for adding Columns to an empty data frame\n",
      "* Take note of the _special_ manner in which the first column is appended"
     ]
    },
    {
     "cell_type": "code",
     "collapsed": false,
     "input": [
      "import pandas as pd\n",
      "df = pd.DataFrame()\n",
      "if not df:\n",
      "    print 'df is empty'\n",
      "\n",
      "rindex=['name','surname','roll#']   \n",
      "boy1 = ['saswat','sarda',772]\n",
      "data = pd.DataFrame({\"A\": boy1},index=rindex) # Data for 1st. Column \n",
      "df = df.append(data)\n",
      "\n",
      "if not df:\n",
      "    print 'df is empty after 1st append'\n",
      "\n",
      "boy2 = ['arjun','trivedi',768]\n",
      "df['B']=boy2\n",
      "\n",
      "boy3 = ['rohit','bagaria',741]\n",
      "df['C']=boy3\n",
      "\n",
      "print df"
     ],
     "language": "python",
     "metadata": {},
     "outputs": [
      {
       "output_type": "stream",
       "stream": "stdout",
       "text": [
        "df is empty\n",
        "              A        B        C\n",
        "name     saswat    arjun    rohit\n",
        "surname   sarda  trivedi  bagaria\n",
        "roll#       772      768      741\n"
       ]
      }
     ],
     "prompt_number": 1
    },
    {
     "cell_type": "code",
     "collapsed": false,
     "input": [
      "df_grpd_A = df.groupby('A')\n",
      "for grp in df_grpd_A.groups:\n",
      "    print grp\n",
      "    d=df_grpd_A.get_group(grp)\n",
      "    print d\n",
      "    #name = d.values[0][0]\n",
      "    #print name\n",
      "    \n",
      "    if d['B']==768:\n",
      "        print 'here'\n",
      "        num1 = d['A']#,d['B'],d['C']\n",
      "        num2 = d['B']\n",
      "        print num1\n",
      "        print num2\n",
      "        print num1+num2\n",
      "\n"
     ],
     "language": "python",
     "metadata": {},
     "outputs": [
      {
       "output_type": "stream",
       "stream": "stdout",
       "text": [
        "sarda\n",
        "             A        B        C\n",
        "surname  sarda  trivedi  bagaria\n",
        "saswat\n",
        "           A      B      C\n",
        "name  saswat  arjun  rohit"
       ]
      },
      {
       "output_type": "stream",
       "stream": "stdout",
       "text": [
        "\n",
        "772\n",
        "         A    B    C\n",
        "roll#  772  768  741\n",
        "here\n",
        "roll#    772\n",
        "Name: A, dtype: object\n",
        "roll#    768\n",
        "Name: B, dtype: object\n",
        "roll#    1540\n",
        "dtype: object\n"
       ]
      }
     ],
     "prompt_number": 2
    },
    {
     "cell_type": "raw",
     "metadata": {},
     "source": [
      "Panel Example"
     ]
    },
    {
     "cell_type": "code",
     "collapsed": false,
     "input": [
      "d1 = pd.DataFrame(np.ones((2,2)))\n",
      "d2 = pd.DataFrame(np.ones((2,2)))\n",
      "#print d1\n",
      "#print d2\n",
      "#print d1+d2\n",
      "data = {'1':d1, '2': d2}\n",
      "pan = pd.Panel(data)\n",
      "print 'df1=',pan['1']\n",
      "print 'df2=',pan['2']\n"
     ],
     "language": "python",
     "metadata": {},
     "outputs": [
      {
       "output_type": "stream",
       "stream": "stdout",
       "text": [
        "df1=    0  1\n",
        "0  1  1\n",
        "1  1  1\n",
        "df2=    0  1\n",
        "0  1  1\n",
        "1  1  1\n"
       ]
      }
     ],
     "prompt_number": 15
    },
    {
     "cell_type": "code",
     "collapsed": false,
     "input": [],
     "language": "python",
     "metadata": {},
     "outputs": []
    }
   ],
   "metadata": {}
  }
 ]
}